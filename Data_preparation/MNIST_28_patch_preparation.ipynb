{
  "nbformat": 4,
  "nbformat_minor": 0,
  "metadata": {
    "colab": {
      "provenance": [],
      "collapsed_sections": [
        "PLzQkk90BvUk"
      ]
    },
    "kernelspec": {
      "name": "python3",
      "display_name": "Python 3"
    },
    "language_info": {
      "name": "python"
    }
  },
  "cells": [
    {
      "cell_type": "code",
      "source": [
        "import os\n",
        "import numpy as np\n",
        "from torchvision import datasets, transforms\n",
        "from PIL import Image, ImageDraw\n",
        "import matplotlib.pyplot as plt\n",
        "import tensorflow as tf\n",
        "from tqdm import tqdm\n",
        "import os\n",
        "import numpy as np\n",
        "from PIL import Image\n",
        "\n"
      ],
      "metadata": {
        "id": "2UTyX3Ia232M"
      },
      "execution_count": null,
      "outputs": []
    },
    {
      "cell_type": "code",
      "source": [
        "from google.colab import drive\n",
        "drive.mount(\"/content/drive\")\n",
        "dir_path = \"/content/drive/MyDrive/Masterthesis/Datasets/mnist\""
      ],
      "metadata": {
        "colab": {
          "base_uri": "https://localhost:8080/"
        },
        "id": "e6PoUsGN3jsl",
        "outputId": "edb871a7-4172-42c7-f345-1725a9c28c08"
      },
      "execution_count": null,
      "outputs": [
        {
          "output_type": "stream",
          "name": "stdout",
          "text": [
            "Drive already mounted at /content/drive; to attempt to forcibly remount, call drive.mount(\"/content/drive\", force_remount=True).\n"
          ]
        }
      ]
    },
    {
      "cell_type": "markdown",
      "source": [
        "### Original splittings and adding patches"
      ],
      "metadata": {
        "id": "PLzQkk90BvUk"
      }
    },
    {
      "cell_type": "code",
      "source": [],
      "metadata": {
        "id": "xl8pmxR03Mif"
      },
      "execution_count": null,
      "outputs": []
    },
    {
      "cell_type": "markdown",
      "source": [
        "https://drive.google.com/file/d/11ZiNnV3YtpZ7d9afHZg0rtDRrmhha-1E/view"
      ],
      "metadata": {
        "id": "-LQ5hs5ebbH5"
      }
    },
    {
      "cell_type": "code",
      "source": [
        "import os\n",
        "import numpy as np\n",
        "from PIL import Image\n",
        "from google.colab import drive\n",
        "\n",
        "# Base path to the test dataset\n",
        "base_path = '/content/drive/MyDrive/Masterthesis/Datasets/mnist/dataset_splits/original/train'\n",
        "\n",
        "# Create directories if they don't exist\n",
        "for i in range(10):  # There are 10 classes (0-9)\n",
        "    os.makedirs(os.path.join(base_path, f'class_{i}'), exist_ok=True)\n",
        "\n",
        "# Function to read idx image file format\n",
        "def read_idx_images(filename):\n",
        "    with open(filename, 'rb') as f:\n",
        "        # Read the magic number and dimensions\n",
        "        magic_number = int.from_bytes(f.read(4), 'big')\n",
        "        num_images = int.from_bytes(f.read(4), 'big')\n",
        "        rows = int.from_bytes(f.read(4), 'big')\n",
        "        cols = int.from_bytes(f.read(4), 'big')\n",
        "\n",
        "        # Read the image data\n",
        "        images = np.frombuffer(f.read(), dtype=np.uint8).reshape(num_images, rows, cols)\n",
        "    return images\n",
        "\n",
        "# Function to read idx label file format\n",
        "def read_idx_labels(filename):\n",
        "    with open(filename, 'rb') as f:\n",
        "        # Read the magic number and number of items\n",
        "        magic_number = int.from_bytes(f.read(4), 'big')\n",
        "        num_items = int.from_bytes(f.read(4), 'big')\n",
        "\n",
        "        # Read the label data\n",
        "        labels = np.frombuffer(f.read(), dtype=np.uint8)\n",
        "    return labels\n",
        "\n",
        "# Load test images and labels\n",
        "test_images_path = '/content/drive/MyDrive/Masterthesis/Datasets/mnist/dataset_splits/original/train/train-images.idx3-ubyte'\n",
        "test_labels_path = '/content/drive/MyDrive/Masterthesis/Datasets/mnist/dataset_splits/original/train/train-labels.idx1-ubyte'\n",
        "\n",
        "x_test = read_idx_images(test_images_path)\n",
        "y_test = read_idx_labels(test_labels_path)\n",
        "\n",
        "# Function to save images to the specified directory\n",
        "def save_images(images, labels, base_dir):\n",
        "    for i in range(10):  # There are 10 classes (0-9)\n",
        "        class_dir = os.path.join(base_dir, f'class_{i}')\n",
        "        os.makedirs(class_dir, exist_ok=True)\n",
        "        indices = np.where(labels == i)[0]\n",
        "        for j, idx in enumerate(indices):\n",
        "            img = Image.fromarray(images[idx])\n",
        "            img.save(os.path.join(class_dir, f'{i}_{j}.png'))\n",
        "\n",
        "# Save testing images\n",
        "save_images(x_test, y_test, base_path)\n",
        "\n",
        "print(\"Train images saved to Google Drive.\")\n"
      ],
      "metadata": {
        "colab": {
          "base_uri": "https://localhost:8080/",
          "height": 356
        },
        "id": "aptNQzNkGnv0",
        "outputId": "96ad2099-b501-4136-f5c9-49c89872f68e"
      },
      "execution_count": null,
      "outputs": [
        {
          "output_type": "error",
          "ename": "OSError",
          "evalue": "[Errno 5] Input/output error: '/content/drive/MyDrive/Masterthesis/Datasets/mnist/dataset_splits/original/train/class_7/7_810.png'",
          "traceback": [
            "\u001b[0;31m---------------------------------------------------------------------------\u001b[0m",
            "\u001b[0;31mOSError\u001b[0m                                   Traceback (most recent call last)",
            "\u001b[0;32m<ipython-input-3-c1ceebcf7280>\u001b[0m in \u001b[0;36m<cell line: 55>\u001b[0;34m()\u001b[0m\n\u001b[1;32m     53\u001b[0m \u001b[0;34m\u001b[0m\u001b[0m\n\u001b[1;32m     54\u001b[0m \u001b[0;31m# Save testing images\u001b[0m\u001b[0;34m\u001b[0m\u001b[0;34m\u001b[0m\u001b[0m\n\u001b[0;32m---> 55\u001b[0;31m \u001b[0msave_images\u001b[0m\u001b[0;34m(\u001b[0m\u001b[0mx_test\u001b[0m\u001b[0;34m,\u001b[0m \u001b[0my_test\u001b[0m\u001b[0;34m,\u001b[0m \u001b[0mbase_path\u001b[0m\u001b[0;34m)\u001b[0m\u001b[0;34m\u001b[0m\u001b[0;34m\u001b[0m\u001b[0m\n\u001b[0m\u001b[1;32m     56\u001b[0m \u001b[0;34m\u001b[0m\u001b[0m\n\u001b[1;32m     57\u001b[0m \u001b[0mprint\u001b[0m\u001b[0;34m(\u001b[0m\u001b[0;34m\"Train images saved to Google Drive.\"\u001b[0m\u001b[0;34m)\u001b[0m\u001b[0;34m\u001b[0m\u001b[0;34m\u001b[0m\u001b[0m\n",
            "\u001b[0;32m<ipython-input-3-c1ceebcf7280>\u001b[0m in \u001b[0;36msave_images\u001b[0;34m(images, labels, base_dir)\u001b[0m\n\u001b[1;32m     50\u001b[0m         \u001b[0;32mfor\u001b[0m \u001b[0mj\u001b[0m\u001b[0;34m,\u001b[0m \u001b[0midx\u001b[0m \u001b[0;32min\u001b[0m \u001b[0menumerate\u001b[0m\u001b[0;34m(\u001b[0m\u001b[0mindices\u001b[0m\u001b[0;34m)\u001b[0m\u001b[0;34m:\u001b[0m\u001b[0;34m\u001b[0m\u001b[0;34m\u001b[0m\u001b[0m\n\u001b[1;32m     51\u001b[0m             \u001b[0mimg\u001b[0m \u001b[0;34m=\u001b[0m \u001b[0mImage\u001b[0m\u001b[0;34m.\u001b[0m\u001b[0mfromarray\u001b[0m\u001b[0;34m(\u001b[0m\u001b[0mimages\u001b[0m\u001b[0;34m[\u001b[0m\u001b[0midx\u001b[0m\u001b[0;34m]\u001b[0m\u001b[0;34m)\u001b[0m\u001b[0;34m\u001b[0m\u001b[0;34m\u001b[0m\u001b[0m\n\u001b[0;32m---> 52\u001b[0;31m             \u001b[0mimg\u001b[0m\u001b[0;34m.\u001b[0m\u001b[0msave\u001b[0m\u001b[0;34m(\u001b[0m\u001b[0mos\u001b[0m\u001b[0;34m.\u001b[0m\u001b[0mpath\u001b[0m\u001b[0;34m.\u001b[0m\u001b[0mjoin\u001b[0m\u001b[0;34m(\u001b[0m\u001b[0mclass_dir\u001b[0m\u001b[0;34m,\u001b[0m \u001b[0;34mf'{i}_{j}.png'\u001b[0m\u001b[0;34m)\u001b[0m\u001b[0;34m)\u001b[0m\u001b[0;34m\u001b[0m\u001b[0;34m\u001b[0m\u001b[0m\n\u001b[0m\u001b[1;32m     53\u001b[0m \u001b[0;34m\u001b[0m\u001b[0m\n\u001b[1;32m     54\u001b[0m \u001b[0;31m# Save testing images\u001b[0m\u001b[0;34m\u001b[0m\u001b[0;34m\u001b[0m\u001b[0m\n",
            "\u001b[0;32m/usr/local/lib/python3.10/dist-packages/PIL/Image.py\u001b[0m in \u001b[0;36msave\u001b[0;34m(self, fp, format, **params)\u001b[0m\n\u001b[1;32m   2426\u001b[0m                 \u001b[0mfp\u001b[0m \u001b[0;34m=\u001b[0m \u001b[0mbuiltins\u001b[0m\u001b[0;34m.\u001b[0m\u001b[0mopen\u001b[0m\u001b[0;34m(\u001b[0m\u001b[0mfilename\u001b[0m\u001b[0;34m,\u001b[0m \u001b[0;34m\"r+b\"\u001b[0m\u001b[0;34m)\u001b[0m\u001b[0;34m\u001b[0m\u001b[0;34m\u001b[0m\u001b[0m\n\u001b[1;32m   2427\u001b[0m             \u001b[0;32melse\u001b[0m\u001b[0;34m:\u001b[0m\u001b[0;34m\u001b[0m\u001b[0;34m\u001b[0m\u001b[0m\n\u001b[0;32m-> 2428\u001b[0;31m                 \u001b[0mfp\u001b[0m \u001b[0;34m=\u001b[0m \u001b[0mbuiltins\u001b[0m\u001b[0;34m.\u001b[0m\u001b[0mopen\u001b[0m\u001b[0;34m(\u001b[0m\u001b[0mfilename\u001b[0m\u001b[0;34m,\u001b[0m \u001b[0;34m\"w+b\"\u001b[0m\u001b[0;34m)\u001b[0m\u001b[0;34m\u001b[0m\u001b[0;34m\u001b[0m\u001b[0m\n\u001b[0m\u001b[1;32m   2429\u001b[0m \u001b[0;34m\u001b[0m\u001b[0m\n\u001b[1;32m   2430\u001b[0m         \u001b[0;32mtry\u001b[0m\u001b[0;34m:\u001b[0m\u001b[0;34m\u001b[0m\u001b[0;34m\u001b[0m\u001b[0m\n",
            "\u001b[0;31mOSError\u001b[0m: [Errno 5] Input/output error: '/content/drive/MyDrive/Masterthesis/Datasets/mnist/dataset_splits/original/train/class_7/7_810.png'"
          ]
        }
      ]
    },
    {
      "cell_type": "code",
      "source": [
        "import time\n",
        "\n",
        "def save_images(images, labels, base_dir, start_class=7, max_retries=5):\n",
        "    for i in range(start_class, 10):  # Start from the specified class\n",
        "        class_dir = os.path.join(base_dir, f'class_{i}')\n",
        "        os.makedirs(class_dir, exist_ok=True)\n",
        "        indices = np.where(labels == i)[0]\n",
        "        for j, idx in enumerate(indices):\n",
        "            img = Image.fromarray(images[idx])\n",
        "            img_path = os.path.join(class_dir, f'{i}_{j}.png')\n",
        "\n",
        "            # Retry mechanism\n",
        "            retries = 0\n",
        "            while retries < max_retries:\n",
        "                try:\n",
        "                    img.save(img_path)\n",
        "                    break\n",
        "                except OSError as e:\n",
        "                    retries += 1\n",
        "                    print(f\"Error saving {img_path}, retrying ({retries}/{max_retries})...\")\n",
        "                    time.sleep(1)  # Wait for a bit before retrying\n",
        "                    if retries == max_retries:\n",
        "                        print(f\"Failed to save {img_path} after {max_retries} retries. Skipping file.\")\n",
        "                        break  # Skip the file after max retries\n",
        "                except Exception as e:\n",
        "                    print(f\"Unexpected error for file {img_path}: {e}\")\n",
        "                    break  # Skip the file on unexpected error\n",
        "\n",
        "# Save testing images starting from class 7\n",
        "save_images(x_test, y_test, base_path, start_class=7)\n",
        "\n",
        "print(\"Train images from class 7 onward saved to Google Drive.\")\n"
      ],
      "metadata": {
        "id": "ZaEzEGMAxQUX"
      },
      "execution_count": null,
      "outputs": []
    },
    {
      "cell_type": "code",
      "source": [
        "import os\n",
        "import numpy as np\n",
        "from PIL import Image\n",
        "from google.colab import drive\n",
        "\n",
        "# Base path to the test dataset\n",
        "base_path = '/content/drive/MyDrive/Masterthesis/Datasets/mnist/dataset_splits/test'\n",
        "\n",
        "# Create directories if they don't exist\n",
        "for i in range(10):  # There are 10 classes (0-9)\n",
        "    os.makedirs(os.path.join(base_path, f'class_{i}'), exist_ok=True)\n",
        "\n",
        "# Function to read idx image file format\n",
        "def read_idx_images(filename):\n",
        "    with open(filename, 'rb') as f:\n",
        "        # Read the magic number and dimensions\n",
        "        magic_number = int.from_bytes(f.read(4), 'big')\n",
        "        num_images = int.from_bytes(f.read(4), 'big')\n",
        "        rows = int.from_bytes(f.read(4), 'big')\n",
        "        cols = int.from_bytes(f.read(4), 'big')\n",
        "\n",
        "        # Read the image data\n",
        "        images = np.frombuffer(f.read(), dtype=np.uint8).reshape(num_images, rows, cols)\n",
        "    return images\n",
        "\n",
        "# Function to read idx label file format\n",
        "def read_idx_labels(filename):\n",
        "    with open(filename, 'rb') as f:\n",
        "        # Read the magic number and number of items\n",
        "        magic_number = int.from_bytes(f.read(4), 'big')\n",
        "        num_items = int.from_bytes(f.read(4), 'big')\n",
        "\n",
        "        # Read the label data\n",
        "        labels = np.frombuffer(f.read(), dtype=np.uint8)\n",
        "    return labels\n",
        "\n",
        "# Load test images and labels\n",
        "test_images_path = '/content/drive/MyDrive/Masterthesis/Datasets/mnist/dataset_splits/test/t10k-images.idx3-ubyte'\n",
        "test_labels_path = '/content/drive/MyDrive/Masterthesis/Datasets/mnist/dataset_splits/test/t10k-labels.idx1-ubyte'\n",
        "\n",
        "x_test = read_idx_images(test_images_path)\n",
        "y_test = read_idx_labels(test_labels_path)\n",
        "\n",
        "# Function to save images to the specified directory\n",
        "def save_images(images, labels, base_dir):\n",
        "    for i in range(10):  # There are 10 classes (0-9)\n",
        "        class_dir = os.path.join(base_dir, f'class_{i}')\n",
        "        os.makedirs(class_dir, exist_ok=True)\n",
        "        indices = np.where(labels == i)[0]\n",
        "        for j, idx in enumerate(indices):\n",
        "            img = Image.fromarray(images[idx])\n",
        "            img.save(os.path.join(class_dir, f'{i}_{j}.png'))\n",
        "\n",
        "# Save testing images\n",
        "save_images(x_test, y_test, base_path)\n",
        "\n",
        "print(\"Test images saved to Google Drive.\")\n"
      ],
      "metadata": {
        "colab": {
          "base_uri": "https://localhost:8080/"
        },
        "id": "q3rcvDlIN0XF",
        "outputId": "03ad1a11-4965-43d0-9a26-fe9d7559e5b0"
      },
      "execution_count": null,
      "outputs": [
        {
          "output_type": "stream",
          "name": "stdout",
          "text": [
            "Test images saved to Google Drive.\n"
          ]
        }
      ]
    },
    {
      "cell_type": "code",
      "source": [
        "# Get image dimensions\n",
        "#img = Image.open(image_path)\n",
        "#width, height = img.size\n",
        "#print(f\"Width: {width}, Height: {height}\")"
      ],
      "metadata": {
        "colab": {
          "base_uri": "https://localhost:8080/"
        },
        "id": "0HobPoWQ4TNr",
        "outputId": "b0780c23-5e0e-4c15-cdaf-98ac6dd265ba"
      },
      "execution_count": null,
      "outputs": [
        {
          "output_type": "stream",
          "name": "stdout",
          "text": [
            "Width: 28, Height: 28\n"
          ]
        }
      ]
    },
    {
      "cell_type": "code",
      "source": [
        "# Base path to the dataset\n",
        "base_path = '/content/drive/MyDrive/Masterthesis/Datasets/mnist/dataset_splits/train/no_patch'\n",
        "\n",
        "# Initialize a dictionary to hold the count of images for each class\n",
        "image_counts = {i: 0 for i in range(10)}\n",
        "\n",
        "# Iterate through each class folder\n",
        "for class_label in range(10):\n",
        "    class_folder = os.path.join(base_path, f'class_{class_label}')\n",
        "    if os.path.exists(class_folder):\n",
        "        # List all files in the class folder\n",
        "        files = os.listdir(class_folder)\n",
        "        # Filter out only image files (assuming they are in a standard image format like .png or .jpg)\n",
        "        image_files = [file for file in files if file.endswith(('.png', '.jpg', '.jpeg'))]\n",
        "        # Count the images\n",
        "        image_counts[class_label] = len(image_files)\n",
        "    else:\n",
        "        print(f\"Class folder {class_folder} does not exist.\")\n",
        "\n",
        "# Print the total number of images in each class folder\n",
        "for class_label, count in image_counts.items():\n",
        "    print(f\"Class {class_label}: {count} images\")"
      ],
      "metadata": {
        "colab": {
          "base_uri": "https://localhost:8080/"
        },
        "id": "hJYKoqMqDbyL",
        "outputId": "cf0f3300-5351-4dac-f81f-2271b8f6ca44"
      },
      "execution_count": null,
      "outputs": [
        {
          "output_type": "stream",
          "name": "stdout",
          "text": [
            "Class 0: 5923 images\n",
            "Class 1: 6742 images\n",
            "Class 2: 5958 images\n",
            "Class 3: 6131 images\n",
            "Class 4: 5842 images\n",
            "Class 5: 5421 images\n",
            "Class 6: 5918 images\n",
            "Class 7: 6265 images\n",
            "Class 8: 5851 images\n",
            "Class 9: 5949 images\n"
          ]
        }
      ]
    },
    {
      "cell_type": "code",
      "source": [
        "# Base path to the dataset\n",
        "base_path = '/content/drive/MyDrive/Masterthesis/Datasets/mnist/dataset_splits/test'\n",
        "\n",
        "# Initialize a dictionary to hold the count of images for each class\n",
        "image_counts = {i: 0 for i in range(10)}\n",
        "\n",
        "# Iterate through each class folder\n",
        "for class_label in range(10):\n",
        "    class_folder = os.path.join(base_path, f'class_{class_label}')\n",
        "    if os.path.exists(class_folder):\n",
        "        # List all files in the class folder\n",
        "        files = os.listdir(class_folder)\n",
        "        # Filter out only image files (assuming they are in a standard image format like .png or .jpg)\n",
        "        image_files = [file for file in files if file.endswith(('.png', '.jpg', '.jpeg'))]\n",
        "        # Count the images\n",
        "        image_counts[class_label] = len(image_files)\n",
        "    else:\n",
        "        print(f\"Class folder {class_folder} does not exist.\")\n",
        "\n",
        "# Print the total number of images in each class folder\n",
        "for class_label, count in image_counts.items():\n",
        "    print(f\"Class {class_label}: {count} images\")"
      ],
      "metadata": {
        "colab": {
          "base_uri": "https://localhost:8080/"
        },
        "id": "PDr_esokKOE0",
        "outputId": "dd2ab483-259f-45f9-812e-6757be45a717"
      },
      "execution_count": null,
      "outputs": [
        {
          "output_type": "stream",
          "name": "stdout",
          "text": [
            "Class 0: 980 images\n",
            "Class 1: 1135 images\n",
            "Class 2: 1032 images\n",
            "Class 3: 1010 images\n",
            "Class 4: 982 images\n",
            "Class 5: 892 images\n",
            "Class 6: 958 images\n",
            "Class 7: 1028 images\n",
            "Class 8: 974 images\n",
            "Class 9: 1009 images\n"
          ]
        }
      ]
    },
    {
      "cell_type": "code",
      "source": [],
      "metadata": {
        "id": "9wdmZpav2wYH"
      },
      "execution_count": null,
      "outputs": []
    },
    {
      "cell_type": "code",
      "source": [
        "# Define colors for each class (in RGB)\n",
        "colors = {\n",
        "    0: [255, 0, 0],    # Red\n",
        "    1: [0, 255, 0],    # Green\n",
        "    2: [0, 0, 255],    # Blue\n",
        "    3: [255, 255, 0],  # Yellow\n",
        "    4: [255, 0, 255],  # Magenta\n",
        "    5: [0, 255, 255],  # Cyan\n",
        "    6: [128, 0, 0],    # Maroon\n",
        "    7: [0, 128, 0],    # Dark Green\n",
        "    8: [0, 0, 128],    # Navy\n",
        "    9: [128, 128, 0]   # Olive\n",
        "}\n",
        "\n",
        "# Function to load image\n",
        "def load_image(path):\n",
        "    img = Image.open(path).convert('L')\n",
        "    img = np.array(img) / 255.0  # Normalize to 0-1 range\n",
        "    return img\n",
        "\n",
        "# Function to apply colored background\n",
        "def apply_colored_background(img, label, colors):\n",
        "    colored_img = np.zeros((*img.shape, 3), dtype=np.uint8)\n",
        "    background_color = np.array(colors[label])\n",
        "    for i in range(3):\n",
        "        colored_img[:, :, i] = img * 255 + (1 - img) * background_color[i]\n",
        "    return colored_img\n",
        "\n",
        "# Function to apply colored digits\n",
        "def apply_colored_digits(img, label, colors):\n",
        "    colored_img = np.zeros((*img.shape, 3), dtype=np.uint8)\n",
        "    digit_color = np.array(colors[label])\n",
        "    for i in range(3):\n",
        "        colored_img[:, :, i] = img * digit_color[i]\n",
        "    return colored_img\n",
        "\n",
        "# Function to apply colored patches in the corners\n",
        "def apply_colored_patches(img, label, colors):\n",
        "    colored_img = np.stack([img*255]*3, axis=-1).astype(np.uint8)\n",
        "    patch_color = np.array(colors[label])\n",
        "    patch_size = 5  # Define the size of the patch\n",
        "    # Top-left corner\n",
        "    colored_img[:patch_size, :patch_size] = patch_color\n",
        "    # Top-right corner\n",
        "    colored_img[:patch_size, -patch_size:] = patch_color\n",
        "    # Bottom-left corner\n",
        "    colored_img[-patch_size:, :patch_size] = patch_color\n",
        "    # Bottom-right corner\n",
        "    colored_img[-patch_size:, -patch_size:] = patch_color\n",
        "    return colored_img\n",
        "\n",
        "# Load a sample image\n",
        "image_path = '/content/drive/MyDrive/Masterthesis/Datasets/mnist/dataset_splits/train/no_patch/class_2/2_2.png'\n",
        "label = 2  # Change this to the correct label for the image\n",
        "\n",
        "img = load_image(image_path)\n",
        "\n",
        "# Apply transformations\n",
        "colored_background_img = apply_colored_background(img, label, colors)\n",
        "colored_digit_img = apply_colored_digits(img, label, colors)\n",
        "colored_patch_img = apply_colored_patches(img, label, colors)\n",
        "\n",
        "# Display the results\n",
        "def display_samples(images, titles):\n",
        "    plt.figure(figsize=(15, 5))\n",
        "    for i, (img, title) in enumerate(zip(images, titles)):\n",
        "        plt.subplot(1, len(images), i+1)\n",
        "        plt.imshow(img)\n",
        "        plt.title(title)\n",
        "        plt.axis('off')\n",
        "    plt.show()\n",
        "\n",
        "display_samples(\n",
        "    [colored_background_img, colored_digit_img, colored_patch_img],\n",
        "    ['Colored Background', 'Colored Digit', 'Colored Patches on Corners']\n",
        ")"
      ],
      "metadata": {
        "colab": {
          "base_uri": "https://localhost:8080/",
          "height": 401
        },
        "id": "Xbg-Aq6Y29yz",
        "outputId": "6ee64fc5-0751-4b71-9ae7-57ad96b8f9da"
      },
      "execution_count": null,
      "outputs": [
        {
          "output_type": "display_data",
          "data": {
            "text/plain": [
              "<Figure size 1500x500 with 3 Axes>"
            ],
            "image/png": "[encoded data removed]"
          },
          "metadata": {}
        }
      ]
    },
    {
      "cell_type": "code",
      "source": [
        "from tqdm import tqdm\n",
        "\n",
        "# Function to load image\n",
        "def load_image(path):\n",
        "    img = Image.open(path).convert('L')\n",
        "    img = np.array(img) / 255.0  # Normalize to 0-1 range\n",
        "    return img\n",
        "\n",
        "# Function to save image\n",
        "def save_image(img, path):\n",
        "    img = Image.fromarray(img)\n",
        "    img.save(path)\n",
        "\n",
        "# Function to apply colored background\n",
        "def apply_colored_background(img, label, colors):\n",
        "    colored_img = np.zeros((*img.shape, 3), dtype=np.uint8)\n",
        "    background_color = np.array(colors[label])\n",
        "    for i in range(3):\n",
        "        colored_img[:, :, i] = img * 255 + (1 - img) * background_color[i]\n",
        "    return colored_img\n",
        "\n",
        "# Function to apply colored digits\n",
        "def apply_colored_digits(img, label, colors):\n",
        "    colored_img = np.zeros((*img.shape, 3), dtype=np.uint8)\n",
        "    digit_color = np.array(colors[label])\n",
        "    for i in range(3):\n",
        "        colored_img[:, :, i] = img * digit_color[i]\n",
        "    return colored_img\n",
        "\n",
        "# Function to apply colored patches in the left corners\n",
        "def apply_colored_patches_left(img, label, colors):\n",
        "    colored_img = np.stack([img*255]*3, axis=-1).astype(np.uint8)\n",
        "    patch_color = np.array(colors[label])\n",
        "    patch_size = 5  # Define the size of the patch\n",
        "    # Top-left and bottom-left corners\n",
        "    colored_img[:patch_size, :patch_size] = patch_color\n",
        "    #colored_img[-patch_size:, :patch_size] = patch_color\n",
        "    return colored_img\n",
        "\n",
        "# Function to apply colored patch in the center\n",
        "def apply_colored_patch_center(img, label, colors):\n",
        "    colored_img = np.stack([img*255]*3, axis=-1).astype(np.uint8)\n",
        "    patch_color = np.array(colors[label])\n",
        "    patch_size = 5  # Define the size of the patch\n",
        "    center_x, center_y = img.shape[0] // 2, img.shape[1] // 2\n",
        "    colored_img[center_x - patch_size//2:center_x + patch_size//2,\n",
        "                center_y - patch_size//2:center_y + patch_size//2] = patch_color\n",
        "    return colored_img\n",
        "\n",
        "\n",
        "# Define colors for each class (in RGB)\n",
        "colors = {\n",
        "    0: [255, 0, 0],    # Red\n",
        "    2: [255, 0, 0],    # Red\n",
        "}\n",
        "\n",
        "# Function to load image\n",
        "def load_image(path):\n",
        "    img = Image.open(path).convert('L')\n",
        "    img = np.array(img) / 255.0  # Normalize to 0-1 range\n",
        "    return img\n",
        "\n",
        "# Function to save image\n",
        "def save_image(img, path):\n",
        "    img = Image.fromarray(img)\n",
        "    img.save(path)\n",
        "\n",
        "# Function to apply colored patches in the right corners\n",
        "def apply_colored_patches_right(img, label, colors):\n",
        "    colored_img = np.stack([img*255]*3, axis=-1).astype(np.uint8)\n",
        "    patch_color = np.array(colors[label])\n",
        "    patch_size = 5  # Define the size of the patch\n",
        "    # Top-right and bottom-right corners\n",
        "    colored_img[:patch_size, -patch_size:] = patch_color\n",
        "    #colored_img[-patch_size:, -patch_size:] = patch_color\n",
        "    return colored_img\n",
        "\n",
        "# Function to process and save images\n",
        "def process_and_save_images(original_dir, target_dir, transformation_func, labels):\n",
        "    for split in ['train', 'test']:\n",
        "        split_dir = os.path.join(original_dir, split)\n",
        "        target_split_dir = os.path.join(target_dir, split)\n",
        "        os.makedirs(target_split_dir, exist_ok=True)\n",
        "\n",
        "        for label in labels:\n",
        "            label_dir = os.path.join(split_dir, f'class_{label}')\n",
        "            target_label_dir = os.path.join(target_split_dir, f'class_{label}')\n",
        "            os.makedirs(target_label_dir, exist_ok=True)\n",
        "\n",
        "            for img_name in tqdm(os.listdir(label_dir), desc=f'Processing {split} class_{label}'):\n",
        "                img_path = os.path.join(label_dir, img_name)\n",
        "                img = load_image(img_path)\n",
        "                transformed_img = transformation_func(img, label, colors)\n",
        "                save_image(transformed_img, os.path.join(target_label_dir, img_name))\n",
        "\n",
        "\n",
        "# Define paths\n",
        "original_dir = '/content/drive/MyDrive/Masterthesis/Datasets/mnist/dataset_splits/original'\n",
        "background_dir = '/content/drive/MyDrive/Masterthesis/Datasets/mnist/dataset_splits/background'\n",
        "foreground_dir = '/content/drive/MyDrive/Masterthesis/Datasets/mnist/dataset_splits/foreground'\n",
        "patches_left_dir = '/content/drive/MyDrive/Masterthesis/Datasets/mnist/dataset_splits/patches_left'\n",
        "patches_right_dir = '/content/drive/MyDrive/Masterthesis/Datasets/mnist/dataset_splits/patches_right'\n",
        "patches_center_dir = '/content/drive/MyDrive/Masterthesis/Datasets/mnist/dataset_splits/patches_center'\n",
        "\n",
        "# List of labels to process\n",
        "labels = [0, 2]\n",
        "'''\n",
        "# Process and save images\n",
        "process_and_save_images(original_dir, background_dir, apply_colored_background, labels)\n",
        "process_and_save_images(original_dir, foreground_dir, apply_colored_digits, labels)\n",
        "process_and_save_images(original_dir, patches_left_dir, apply_colored_patches_left, labels)\n",
        "process_and_save_images(original_dir, patches_right_dir, apply_colored_patches_right, labels)\n",
        "process_and_save_images(original_dir, patches_center_dir, apply_colored_patch_center, labels)\n",
        "\n",
        "'''\n",
        "\n",
        "# Load a sample image\n",
        "image_path = '/content/drive/MyDrive/Masterthesis/Datasets/mnist/dataset_splits/original/train/class_2/2_2.png'\n",
        "label = 2\n",
        "\n",
        "img = load_image(image_path)\n",
        "\n",
        "# Apply transformations\n",
        "colored_bg_img = apply_colored_background(img, label, colors)\n",
        "colored_fg_img = apply_colored_digits(img, label, colors)\n",
        "colored_pr_img = apply_colored_patches_right(img, label, colors)\n",
        "colored_pl_img = apply_colored_patches_left(img, label, colors)\n",
        "colored_pc_img = apply_colored_patch_center(img, label, colors)\n",
        "\n",
        "\n",
        "\n",
        "\n",
        "# Display the results\n",
        "def display_samples(images, titles):\n",
        "    plt.figure(figsize=(20, 7))\n",
        "    for i, (img, title) in enumerate(zip(images, titles)):\n",
        "        plt.subplot(1, len(images), i+1)\n",
        "        plt.imshow(img)\n",
        "        plt.title(title)\n",
        "        plt.axis('off')\n",
        "    plt.show()\n",
        "\n",
        "display_samples(\n",
        "    [img, colored_bg_img, colored_fg_img, colored_pr_img, colored_pl_img, colored_pc_img],\n",
        "    ['Original', 'Colored Background', 'Colored Digit', 'Colored Patches on Right Corner', 'Colored Patches on Left Corner', 'Colored Patches on Center']\n",
        ")\n",
        "\n",
        "# Specify the path to the image in your Google Drive\n",
        "image_path = '/content/drive/MyDrive/Masterthesis/Datasets/mnist/dataset_splits/original/train/class_2/2_2.png'\n",
        "\n",
        "# Load the image\n",
        "img = Image.open(image_path)\n",
        "\n",
        "# Display the image\n",
        "plt.imshow(img, cmap='gray')  # Use cmap='gray' if it's a grayscale image\n",
        "plt.axis('off')  # Hide the axis\n",
        "plt.show()"
      ],
      "metadata": {
        "colab": {
          "base_uri": "https://localhost:8080/",
          "height": 669
        },
        "id": "_5pvIXaD5Qkn",
        "outputId": "d39ba316-5fd0-490f-9a89-3b2121283756"
      },
      "execution_count": null,
      "outputs": [
        {
          "output_type": "display_data",
          "data": {
            "text/plain": [
              "<Figure size 2000x700 with 6 Axes>"
            ],
            "image/png": "[encoded data removed]"
          },
          "metadata": {}
        },
        {
          "output_type": "display_data",
          "data": {
            "text/plain": [
              "<Figure size 640x480 with 1 Axes>"
            ],
            "image/png": "[encoded data removed]"
          },
          "metadata": {}
        }
      ]
    },
    {
      "cell_type": "code",
      "source": [
        "import shutil\n",
        "# Define source and target directories\n",
        "source_dir = '/content/drive/MyDrive/Masterthesis/Datasets/mnist/dataset_splits/original/train/class_0'\n",
        "target_dir = '/content/drive/MyDrive/Masterthesis/Datasets/mnist/dataset_splits/original/train/class_0_half'\n",
        "\n",
        "# Ensure target directory exists\n",
        "os.makedirs(target_dir, exist_ok=True)\n",
        "\n",
        "# List all files in the source directory\n",
        "all_files = os.listdir(source_dir)\n",
        "\n",
        "# Sort files to ensure consistent ordering\n",
        "all_files.sort()\n",
        "\n",
        "# Determine the number of files to copy (first half of the total number of files)\n",
        "num_files_to_copy = len(all_files) // 2\n",
        "\n",
        "# Copy the first half of the files to the target directory\n",
        "for file_name in all_files[:num_files_to_copy]:\n",
        "    source_file = os.path.join(source_dir, file_name)\n",
        "    target_file = os.path.join(target_dir, file_name)\n",
        "    shutil.copy2(source_file, target_file)\n",
        "\n",
        "print(f\"Copied {num_files_to_copy} files from {source_dir} to {target_dir}\")"
      ],
      "metadata": {
        "colab": {
          "base_uri": "https://localhost:8080/"
        },
        "id": "oO8feewiUHi1",
        "outputId": "7064b6a9-514f-41c9-a3ee-1c05011a39cb"
      },
      "execution_count": null,
      "outputs": [
        {
          "output_type": "stream",
          "name": "stdout",
          "text": [
            "Copied 2961 files from /content/drive/MyDrive/Masterthesis/Datasets/mnist/dataset_splits/original/train/class_0 to /content/drive/MyDrive/Masterthesis/Datasets/mnist/dataset_splits/original/train/class_0_half\n"
          ]
        }
      ]
    },
    {
      "cell_type": "code",
      "source": [
        "source_dir = '/content/drive/MyDrive/Masterthesis/Datasets/mnist/dataset_splits/background/train/class_0'\n",
        "target_dir = '/content/drive/MyDrive/Masterthesis/Datasets/mnist/dataset_splits/background/train/class_0_half'\n",
        "\n",
        "# Ensure target directory exists\n",
        "os.makedirs(target_dir, exist_ok=True)\n",
        "\n",
        "# List all files in the source directory\n",
        "all_files = os.listdir(source_dir)\n",
        "\n",
        "# Sort files to ensure consistent ordering\n",
        "all_files.sort()\n",
        "\n",
        "# Determine the number of files to copy (second half of the total number of files)\n",
        "num_files_to_copy = len(all_files) // 2\n",
        "\n",
        "# Copy the second half of the files to the target directory\n",
        "for file_name in all_files[num_files_to_copy:]:\n",
        "    source_file = os.path.join(source_dir, file_name)\n",
        "    target_file = os.path.join(target_dir, file_name)\n",
        "    shutil.copy2(source_file, target_file)\n",
        "\n",
        "print(f\"Copied {len(all_files[num_files_to_copy:])} files from {source_dir} to {target_dir}\")"
      ],
      "metadata": {
        "colab": {
          "base_uri": "https://localhost:8080/"
        },
        "id": "0_Qq2zggUncE",
        "outputId": "de5881c2-6819-4f9f-e226-89dc9d9e64b9"
      },
      "execution_count": null,
      "outputs": [
        {
          "output_type": "stream",
          "name": "stdout",
          "text": [
            "Copied 2962 files from /content/drive/MyDrive/Masterthesis/Datasets/mnist/dataset_splits/background/train/class_0 to /content/drive/MyDrive/Masterthesis/Datasets/mnist/dataset_splits/background/train/class_0_half\n"
          ]
        }
      ]
    },
    {
      "cell_type": "code",
      "source": [
        "# Define source and target directories\n",
        "source_dir = '/content/drive/MyDrive/Masterthesis/Datasets/mnist/dataset_splits/foreground/train/class_0'\n",
        "target_dir = '/content/drive/MyDrive/Masterthesis/Datasets/mnist/dataset_splits/foreground/train/class_0_half'\n",
        "\n",
        "# Ensure target directory exists\n",
        "os.makedirs(target_dir, exist_ok=True)\n",
        "\n",
        "# List all files in the source directory\n",
        "all_files = os.listdir(source_dir)\n",
        "\n",
        "# Sort files to ensure consistent ordering\n",
        "all_files.sort()\n",
        "\n",
        "# Determine the number of files to copy (first half of the total number of files)\n",
        "num_files_to_copy = len(all_files) // 2\n",
        "\n",
        "# Copy the first half of the files to the target directory\n",
        "for file_name in all_files[:num_files_to_copy]:\n",
        "    source_file = os.path.join(source_dir, file_name)\n",
        "    target_file = os.path.join(target_dir, file_name)\n",
        "    shutil.copy2(source_file, target_file)\n",
        "\n",
        "print(f\"Copied {num_files_to_copy} files from {source_dir} to {target_dir}\")"
      ],
      "metadata": {
        "colab": {
          "base_uri": "https://localhost:8080/"
        },
        "id": "Kan5ncI2j4mf",
        "outputId": "75a626b7-205d-4f86-c6bb-e4641ac76014"
      },
      "execution_count": null,
      "outputs": [
        {
          "output_type": "stream",
          "name": "stdout",
          "text": [
            "Copied 2961 files from /content/drive/MyDrive/Masterthesis/Datasets/mnist/dataset_splits/foreground/train/class_0 to /content/drive/MyDrive/Masterthesis/Datasets/mnist/dataset_splits/foreground/train/class_0_half\n"
          ]
        }
      ]
    },
    {
      "cell_type": "code",
      "source": [
        "# Define source and target directories\n",
        "source_dir = '/content/drive/MyDrive/Masterthesis/Datasets/mnist/dataset_splits/patches_center/train/class_0'\n",
        "target_dir = '/content/drive/MyDrive/Masterthesis/Datasets/mnist/dataset_splits/patches_center/train/class_0_half'\n",
        "\n",
        "# Ensure target directory exists\n",
        "os.makedirs(target_dir, exist_ok=True)\n",
        "\n",
        "# List all files in the source directory\n",
        "all_files = os.listdir(source_dir)\n",
        "\n",
        "# Sort files to ensure consistent ordering\n",
        "all_files.sort()\n",
        "\n",
        "# Determine the number of files to copy (first half of the total number of files)\n",
        "num_files_to_copy = len(all_files) // 2\n",
        "\n",
        "# Copy the first half of the files to the target directory\n",
        "for file_name in all_files[:num_files_to_copy]:\n",
        "    source_file = os.path.join(source_dir, file_name)\n",
        "    target_file = os.path.join(target_dir, file_name)\n",
        "    shutil.copy2(source_file, target_file)\n",
        "\n",
        "print(f\"Copied {num_files_to_copy} files from {source_dir} to {target_dir}\")"
      ],
      "metadata": {
        "colab": {
          "base_uri": "https://localhost:8080/"
        },
        "id": "eTUFJoJpj-lX",
        "outputId": "daab675a-8123-45d0-ec29-a98bb3daf721"
      },
      "execution_count": null,
      "outputs": [
        {
          "output_type": "stream",
          "name": "stdout",
          "text": [
            "Copied 2961 files from /content/drive/MyDrive/Masterthesis/Datasets/mnist/dataset_splits/patches_center/train/class_0 to /content/drive/MyDrive/Masterthesis/Datasets/mnist/dataset_splits/patches_center/train/class_0_half\n"
          ]
        }
      ]
    },
    {
      "cell_type": "code",
      "source": [
        "# Define source and target directories\n",
        "source_dir = '/content/drive/MyDrive/Masterthesis/Datasets/mnist/dataset_splits/patches_left/train/class_0'\n",
        "target_dir = '/content/drive/MyDrive/Masterthesis/Datasets/mnist/dataset_splits/patches_left/train/class_0_half'\n",
        "\n",
        "# Ensure target directory exists\n",
        "os.makedirs(target_dir, exist_ok=True)\n",
        "\n",
        "# List all files in the source directory\n",
        "all_files = os.listdir(source_dir)\n",
        "\n",
        "# Sort files to ensure consistent ordering\n",
        "all_files.sort()\n",
        "\n",
        "# Determine the number of files to copy (first half of the total number of files)\n",
        "num_files_to_copy = len(all_files) // 2\n",
        "\n",
        "# Copy the first half of the files to the target directory\n",
        "for file_name in all_files[:num_files_to_copy]:\n",
        "    source_file = os.path.join(source_dir, file_name)\n",
        "    target_file = os.path.join(target_dir, file_name)\n",
        "    shutil.copy2(source_file, target_file)\n",
        "\n",
        "print(f\"Copied {num_files_to_copy} files from {source_dir} to {target_dir}\")"
      ],
      "metadata": {
        "colab": {
          "base_uri": "https://localhost:8080/"
        },
        "id": "uxwwcqzBkCTm",
        "outputId": "55cdd17d-cb90-42d3-e4c1-41bb25e368de"
      },
      "execution_count": null,
      "outputs": [
        {
          "output_type": "stream",
          "name": "stdout",
          "text": [
            "Copied 2961 files from /content/drive/MyDrive/Masterthesis/Datasets/mnist/dataset_splits/patches_left/train/class_0 to /content/drive/MyDrive/Masterthesis/Datasets/mnist/dataset_splits/patches_left/train/class_0_half\n"
          ]
        }
      ]
    },
    {
      "cell_type": "code",
      "source": [
        "# Define source and target directories\n",
        "source_dir = '/content/drive/MyDrive/Masterthesis/Datasets/mnist/dataset_splits/patches_right/train/class_0'\n",
        "target_dir = '/content/drive/MyDrive/Masterthesis/Datasets/mnist/dataset_splits/patches_right/train/class_0_half'\n",
        "\n",
        "# Ensure target directory exists\n",
        "os.makedirs(target_dir, exist_ok=True)\n",
        "\n",
        "# List all files in the source directory\n",
        "all_files = os.listdir(source_dir)\n",
        "\n",
        "# Sort files to ensure consistent ordering\n",
        "all_files.sort()\n",
        "\n",
        "# Determine the number of files to copy (first half of the total number of files)\n",
        "num_files_to_copy = len(all_files) // 2\n",
        "\n",
        "# Copy the first half of the files to the target directory\n",
        "for file_name in all_files[:num_files_to_copy]:\n",
        "    source_file = os.path.join(source_dir, file_name)\n",
        "    target_file = os.path.join(target_dir, file_name)\n",
        "    shutil.copy2(source_file, target_file)\n",
        "\n",
        "print(f\"Copied {num_files_to_copy} files from {source_dir} to {target_dir}\")"
      ],
      "metadata": {
        "colab": {
          "base_uri": "https://localhost:8080/"
        },
        "id": "RJXATIU-l-we",
        "outputId": "675b5820-b815-4b4e-b266-206200d5d370"
      },
      "execution_count": null,
      "outputs": [
        {
          "output_type": "stream",
          "name": "stdout",
          "text": [
            "Copied 2961 files from /content/drive/MyDrive/Masterthesis/Datasets/mnist/dataset_splits/patches_right/train/class_0 to /content/drive/MyDrive/Masterthesis/Datasets/mnist/dataset_splits/patches_right/train/class_0_half\n"
          ]
        }
      ]
    },
    {
      "cell_type": "code",
      "source": [
        "\n",
        "# Define colors for each class (in RGB)\n",
        "colors = {\n",
        "    0: [255, 0, 0],    # Red\n",
        "    2: [255, 0, 0],    # Red\n",
        "}\n",
        "\n",
        "# Function to load image\n",
        "def load_image(path):\n",
        "    img = Image.open(path).convert('L')\n",
        "    img = np.array(img) / 255.0  # Normalize to 0-1 range\n",
        "    return img\n",
        "\n",
        "# Function to save image\n",
        "def save_image(img, path):\n",
        "    img = Image.fromarray(img)\n",
        "    img.save(path)\n",
        "\n",
        "# Function to apply colored patches in the right corners\n",
        "def apply_colored_patches_right(img, label, colors):\n",
        "    colored_img = np.stack([img*255]*3, axis=-1).astype(np.uint8)\n",
        "    patch_color = np.array(colors[label])\n",
        "    patch_size = 5  # Define the size of the patch\n",
        "    # Top-right and bottom-right corners\n",
        "    colored_img[:patch_size, -patch_size:] = patch_color\n",
        "    #colored_img[-patch_size:, -patch_size:] = patch_color\n",
        "    return colored_img\n",
        "\n",
        "# Function to process and save images\n",
        "def process_and_save_images(original_dir, target_dir, transformation_func, labels):\n",
        "    for split in ['train', 'test']:\n",
        "        split_dir = os.path.join(original_dir, split)\n",
        "        target_split_dir = os.path.join(target_dir, split)\n",
        "        os.makedirs(target_split_dir, exist_ok=True)\n",
        "\n",
        "        for label in labels:\n",
        "            label_dir = os.path.join(split_dir, f'class_{label}')\n",
        "            target_label_dir = os.path.join(target_split_dir, f'class_{label}')\n",
        "            os.makedirs(target_label_dir, exist_ok=True)\n",
        "\n",
        "            for img_name in tqdm(os.listdir(label_dir), desc=f'Processing {split} class_{label}'):\n",
        "                img_path = os.path.join(label_dir, img_name)\n",
        "                img = load_image(img_path)\n",
        "                transformed_img = transformation_func(img, label, colors)\n",
        "                save_image(transformed_img, os.path.join(target_label_dir, img_name))\n",
        "\n",
        "\n",
        "\n",
        "patches_right_dir = '/content/drive/MyDrive/Masterthesis/Datasets/mnist/dataset_splits/patches_right'\n",
        "\n",
        "# List of labels to process\n",
        "labels = [0, 2]\n",
        "\n",
        "# Process and save images\n",
        "\n",
        "process_and_save_images(original_dir, patches_right_dir, apply_colored_patches_left, labels)\n"
      ],
      "metadata": {
        "colab": {
          "base_uri": "https://localhost:8080/"
        },
        "id": "3EHaBRVRcGr1",
        "outputId": "f6dd7a3e-b8a6-4449-a83d-dbd0543716a4"
      },
      "execution_count": null,
      "outputs": [
        {
          "output_type": "stream",
          "name": "stderr",
          "text": [
            "Processing train class_0: 100%|██████████| 5923/5923 [02:08<00:00, 45.92it/s]\n",
            "Processing train class_2: 100%|██████████| 5958/5958 [02:09<00:00, 46.07it/s]\n",
            "Processing test class_0: 100%|██████████| 980/980 [00:15<00:00, 61.73it/s]\n",
            "Processing test class_2: 100%|██████████| 1032/1032 [00:15<00:00, 66.60it/s]\n"
          ]
        }
      ]
    },
    {
      "cell_type": "markdown",
      "source": [
        "### mnist_isic"
      ],
      "metadata": {
        "id": "3NQbDp7Y-lY0"
      }
    },
    {
      "cell_type": "code",
      "source": [
        "import os\n",
        "import shutil\n",
        "\n",
        "def copy_images(src_dir, dest_dir, start_idx, end_idx):\n",
        "    if not os.path.exists(dest_dir):\n",
        "        os.makedirs(dest_dir)\n",
        "\n",
        "    files = sorted(os.listdir(src_dir))[start_idx:end_idx]\n",
        "    for file_name in files:\n",
        "        full_file_name = os.path.join(src_dir, file_name)\n",
        "        if os.path.isfile(full_file_name):\n",
        "            shutil.copy(full_file_name, dest_dir)\n",
        "\n",
        "# Paths and parameters for each copy operation\n",
        "operations = [\n",
        "    {\n",
        "        \"src_dir\": '/content/drive/MyDrive/Masterthesis/Datasets/mnist/dataset_splits/original/train/class_2',\n",
        "        \"dest_dir\": '/content/drive/MyDrive/Masterthesis/Datasets/mnist/dataset_splits_isic/original/train/class_2',\n",
        "        \"start_idx\": 0,\n",
        "        \"end_idx\": 610\n",
        "    },\n",
        "    {\n",
        "        \"src_dir\": '/content/drive/MyDrive/Masterthesis/Datasets/mnist/dataset_splits/original/train/class_0',\n",
        "        \"dest_dir\": '/content/drive/MyDrive/Masterthesis/Datasets/mnist/dataset_splits_isic/original/train/class_0_half_first',\n",
        "        \"start_idx\": 0,\n",
        "        \"end_idx\": 2962\n",
        "    },\n",
        "    {\n",
        "        \"src_dir\": '/content/drive/MyDrive/Masterthesis/Datasets/mnist/dataset_splits/background/train/class_0',\n",
        "        \"dest_dir\": '/content/drive/MyDrive/Masterthesis/Datasets/mnist/dataset_splits_isic/background/train/class_0_half_second',\n",
        "        \"start_idx\": -2595,\n",
        "        \"end_idx\": None\n",
        "    },\n",
        "    {\n",
        "        \"src_dir\": '/content/drive/MyDrive/Masterthesis/Datasets/mnist/dataset_splits/foreground/train/class_0',\n",
        "        \"dest_dir\": '/content/drive/MyDrive/Masterthesis/Datasets/mnist/dataset_splits_isic/foreground/train/class_0_half_second',\n",
        "        \"start_idx\": -2595,\n",
        "        \"end_idx\": None\n",
        "    },\n",
        "    {\n",
        "        \"src_dir\": '/content/drive/MyDrive/Masterthesis/Datasets/mnist/dataset_splits/patches_center/train/class_0',\n",
        "        \"dest_dir\": '/content/drive/MyDrive/Masterthesis/Datasets/mnist/dataset_splits_isic/patches_center/train/class_0_half_second',\n",
        "        \"start_idx\": -2595,\n",
        "        \"end_idx\": None\n",
        "    },\n",
        "    {\n",
        "        \"src_dir\": '/content/drive/MyDrive/Masterthesis/Datasets/mnist/dataset_splits/patches_left/train/class_0',\n",
        "        \"dest_dir\": '/content/drive/MyDrive/Masterthesis/Datasets/mnist/dataset_splits_isic/patches_left/train/class_0_half_second',\n",
        "        \"start_idx\": -2595,\n",
        "        \"end_idx\": None\n",
        "    },\n",
        "    {\n",
        "        \"src_dir\": '/content/drive/MyDrive/Masterthesis/Datasets/mnist/dataset_splits/patches_right/train/class_0',\n",
        "        \"dest_dir\": '/content/drive/MyDrive/Masterthesis/Datasets/mnist/dataset_splits_isic/patches_right/train/class_0_half_second',\n",
        "        \"start_idx\": -2595,\n",
        "        \"end_idx\": None\n",
        "    }\n",
        "]\n",
        "\n",
        "# Execute the copy operations\n",
        "for op in operations:\n",
        "    copy_images(op['src_dir'], op['dest_dir'], op['start_idx'], op['end_idx'])\n",
        "\n",
        "print(\"Image copying completed.\")\n"
      ],
      "metadata": {
        "colab": {
          "base_uri": "https://localhost:8080/"
        },
        "id": "l_yTEiC1-oFT",
        "outputId": "f6fd0a48-283e-4b31-9ff6-5b9edc9a3294"
      },
      "execution_count": null,
      "outputs": [
        {
          "output_type": "stream",
          "name": "stdout",
          "text": [
            "Image copying completed.\n"
          ]
        }
      ]
    },
    {
      "cell_type": "code",
      "source": [
        "import os\n",
        "import shutil\n",
        "\n",
        "def copy_images(src_dir, dest_dir, start_idx, end_idx):\n",
        "    if not os.path.exists(dest_dir):\n",
        "        os.makedirs(dest_dir)\n",
        "\n",
        "    files = sorted(os.listdir(src_dir))[start_idx:end_idx]\n",
        "    for file_name in files:\n",
        "        full_file_name = os.path.join(src_dir, file_name)\n",
        "        if os.path.isfile(full_file_name):\n",
        "            shutil.copy(full_file_name, dest_dir)\n",
        "\n",
        "# Paths and parameters for each copy operation\n",
        "operations = [\n",
        "\n",
        "    {\n",
        "        \"src_dir\": '/content/drive/MyDrive/Masterthesis/Datasets/mnist/dataset_splits/patches_left/train/class_0',\n",
        "        \"dest_dir\": '/content/drive/MyDrive/Masterthesis/Datasets/mnist/dataset_splits_isic/patches_left/train/class_0_half_first',\n",
        "        \"start_idx\": 0,\n",
        "        \"end_idx\": 2962\n",
        "    }\n",
        "]\n",
        "\n",
        "# Execute the copy operations\n",
        "for op in operations:\n",
        "    copy_images(op['src_dir'], op['dest_dir'], op['start_idx'], op['end_idx'])\n",
        "\n",
        "print(\"Image copying completed.\")\n"
      ],
      "metadata": {
        "colab": {
          "base_uri": "https://localhost:8080/"
        },
        "id": "D4iWd1mREKKS",
        "outputId": "4cd7c5ae-e875-405c-d532-49cd90217f45"
      },
      "execution_count": null,
      "outputs": [
        {
          "output_type": "stream",
          "name": "stdout",
          "text": [
            "Image copying completed.\n"
          ]
        }
      ]
    },
    {
      "cell_type": "code",
      "source": [
        "import os\n",
        "import shutil\n",
        "\n",
        "def copy_images(src_dir, dest_dir, start_idx, end_idx):\n",
        "    if not os.path.exists(dest_dir):\n",
        "        os.makedirs(dest_dir)\n",
        "\n",
        "    files = sorted(os.listdir(src_dir))[start_idx:end_idx]\n",
        "    for file_name in files:\n",
        "        full_file_name = os.path.join(src_dir, file_name)\n",
        "        if os.path.isfile(full_file_name):\n",
        "            shutil.copy(full_file_name, dest_dir)\n",
        "\n",
        "# Paths and parameters for each copy operation\n",
        "operations = [\n",
        "\n",
        "    {\n",
        "        \"src_dir\": '/content/drive/MyDrive/Masterthesis/Datasets/mnist/dataset_splits/patches_left/train/class_0',\n",
        "        \"dest_dir\": '/content/drive/MyDrive/Masterthesis/Datasets/mnist/dataset_splits_isic/patches_left/train/class_2',\n",
        "        \"start_idx\": 0,\n",
        "        \"end_idx\": 610\n",
        "    }\n",
        "]\n",
        "\n",
        "# Execute the copy operations\n",
        "for op in operations:\n",
        "    copy_images(op['src_dir'], op['dest_dir'], op['start_idx'], op['end_idx'])\n",
        "\n",
        "print(\"Image copying completed.\")\n"
      ],
      "metadata": {
        "colab": {
          "base_uri": "https://localhost:8080/"
        },
        "id": "qqK04X5kPl-R",
        "outputId": "147905a6-5d64-4c15-d670-fe9bb6a89cb9"
      },
      "execution_count": null,
      "outputs": [
        {
          "output_type": "stream",
          "name": "stdout",
          "text": [
            "Image copying completed.\n"
          ]
        }
      ]
    },
    {
      "cell_type": "markdown",
      "source": [
        "Waterbirds distribution"
      ],
      "metadata": {
        "id": "xIDeHDGK6fPy"
      }
    },
    {
      "cell_type": "code",
      "source": [
        "import os\n",
        "import shutil\n",
        "\n",
        "def copy_images(src_dir, dest_dir, start_idx, end_idx):\n",
        "    if not os.path.exists(dest_dir):\n",
        "        os.makedirs(dest_dir)\n",
        "\n",
        "    files = sorted(os.listdir(src_dir))[start_idx:end_idx]\n",
        "    for file_name in files:\n",
        "        full_file_name = os.path.join(src_dir, file_name)\n",
        "        if os.path.isfile(full_file_name):\n",
        "            shutil.copy(full_file_name, dest_dir)\n",
        "\n",
        "# Paths and parameters for each copy operation\n",
        "operations = [\n",
        "    {\n",
        "        \"src_dir\": '/content/drive/MyDrive/Masterthesis/Datasets/mnist/dataset_splits/original/train/class_2',\n",
        "        \"dest_dir\": '/content/drive/MyDrive/Masterthesis/Datasets/mnist/dataset_splits_wb/original/train/class_2',\n",
        "        \"start_idx\": 0,\n",
        "        \"end_idx\": 873\n",
        "    },\n",
        "    {\n",
        "        \"src_dir\": '/content/drive/MyDrive/Masterthesis/Datasets/mnist/dataset_splits/original/train/class_0',\n",
        "        \"dest_dir\": '/content/drive/MyDrive/Masterthesis/Datasets/mnist/dataset_splits_wb/original/train/class_0_half_first',\n",
        "        \"start_idx\": 0,\n",
        "        \"end_idx\": 2962\n",
        "    },\n",
        "    {\n",
        "        \"src_dir\": '/content/drive/MyDrive/Masterthesis/Datasets/mnist/dataset_splits/background/train/class_0',\n",
        "        \"dest_dir\": '/content/drive/MyDrive/Masterthesis/Datasets/mnist/dataset_splits_wb/background/train/class_0_half_second',\n",
        "        \"start_idx\": -155,\n",
        "        \"end_idx\": None\n",
        "    },\n",
        "    {\n",
        "        \"src_dir\": '/content/drive/MyDrive/Masterthesis/Datasets/mnist/dataset_splits/foreground/train/class_0',\n",
        "        \"dest_dir\": '/content/drive/MyDrive/Masterthesis/Datasets/mnist/dataset_splits_wb/foreground/train/class_0_half_second',\n",
        "        \"start_idx\": -155,\n",
        "        \"end_idx\": None\n",
        "    },\n",
        "    {\n",
        "        \"src_dir\": '/content/drive/MyDrive/Masterthesis/Datasets/mnist/dataset_splits/patches_center/train/class_0',\n",
        "        \"dest_dir\": '/content/drive/MyDrive/Masterthesis/Datasets/mnist/dataset_splits_wb/patches_center/train/class_0_half_second',\n",
        "        \"start_idx\": -155,\n",
        "        \"end_idx\": None\n",
        "    },\n",
        "    {\n",
        "        \"src_dir\": '/content/drive/MyDrive/Masterthesis/Datasets/mnist/dataset_splits/patches_left/train/class_0',\n",
        "        \"dest_dir\": '/content/drive/MyDrive/Masterthesis/Datasets/mnist/dataset_splits_wb/patches_left/train/class_0_half_second',\n",
        "        \"start_idx\": -155,\n",
        "        \"end_idx\": None\n",
        "    },\n",
        "    {\n",
        "        \"src_dir\": '/content/drive/MyDrive/Masterthesis/Datasets/mnist/dataset_splits/patches_right/train/class_0',\n",
        "        \"dest_dir\": '/content/drive/MyDrive/Masterthesis/Datasets/mnist/dataset_splits_wb/patches_right/train/class_0_half_second',\n",
        "        \"start_idx\": -155,\n",
        "        \"end_idx\": None\n",
        "    },\n",
        "    {\n",
        "        \"src_dir\": '/content/drive/MyDrive/Masterthesis/Datasets/mnist/dataset_splits/patches_left/train/class_0',\n",
        "        \"dest_dir\": '/content/drive/MyDrive/Masterthesis/Datasets/mnist/dataset_splits_wb/patches_left/train/class_0_half_first',\n",
        "        \"start_idx\": 0,\n",
        "        \"end_idx\": 2962\n",
        "    },\n",
        "    {\n",
        "        \"src_dir\": '/content/drive/MyDrive/Masterthesis/Datasets/mnist/dataset_splits/patches_left/train/class_0',\n",
        "        \"dest_dir\": '/content/drive/MyDrive/Masterthesis/Datasets/mnist/dataset_splits_wb/patches_left/train/class_2',\n",
        "        \"start_idx\": 0,\n",
        "        \"end_idx\": 873\n",
        "    }\n",
        "\n",
        "]\n",
        "\n",
        "# Execute the copy operations\n",
        "for op in operations:\n",
        "    copy_images(op['src_dir'], op['dest_dir'], op['start_idx'], op['end_idx'])\n",
        "\n",
        "print(\"Image copying completed.\")\n"
      ],
      "metadata": {
        "colab": {
          "base_uri": "https://localhost:8080/"
        },
        "id": "c1AW7jIb5uSC",
        "outputId": "c0524302-0701-4643-a0a1-31e4d8553018"
      },
      "execution_count": null,
      "outputs": [
        {
          "output_type": "stream",
          "name": "stdout",
          "text": [
            "Image copying completed.\n"
          ]
        }
      ]
    }
  ]
}