{
  "cells": [
    {
      "cell_type": "code",
      "execution_count": null,
      "metadata": {
        "id": "PKLZCsggWxBs"
      },
      "outputs": [],
      "source": [
        "#!pip install torchextractor"
      ]
    },
    {
      "cell_type": "code",
      "execution_count": null,
      "metadata": {
        "id": "jxkdE71HXvdI"
      },
      "outputs": [],
      "source": [
        "import torch\n",
        "import sys\n",
        "import numpy as np\n",
        "import pickle as pkl\n",
        "from os.path import join as oj\n",
        "from datetime import datetime\n",
        "import torch.optim as optim\n",
        "import os\n",
        "from torch.utils.data import TensorDataset, ConcatDataset, random_split\n",
        "from sklearn.metrics import roc_auc_score, precision_recall_curve, auc, f1_score\n",
        "import argparse\n",
        "from PIL import Image\n",
        "from tqdm import tqdm\n",
        "from torch import nn\n",
        "from numpy.random import randint\n",
        "import torchvision.models as models\n",
        "import time\n",
        "import copy\n",
        "import gc\n",
        "import json\n",
        "import pandas as pd\n",
        "import torch\n",
        "import torchvision.models as models\n",
        "from torchvision import transforms\n",
        "from torch.utils.data import DataLoader\n",
        "from PIL import Image\n",
        "from scipy.stats import ttest_1samp\n",
        "import matplotlib.pyplot as plt"
      ]
    },
    {
      "cell_type": "code",
      "execution_count": null,
      "metadata": {
        "colab": {
          "base_uri": "https://localhost:8080/"
        },
        "id": "HC2BZL5vX0Zf",
        "outputId": "11dafdeb-52a6-47cd-990b-6f1fe35ca648"
      },
      "outputs": [
        {
          "output_type": "stream",
          "name": "stdout",
          "text": [
            "Mounted at /content/drive\n"
          ]
        }
      ],
      "source": [
        "from google.colab import drive\n",
        "drive.mount(\"/content/drive\")\n",
        "dir_path = \"/content/drive/MyDrive/Masterthesis/Datasets/isic\"\n"
      ]
    },
    {
      "cell_type": "code",
      "execution_count": null,
      "metadata": {
        "id": "nzTBjMXCX5nY"
      },
      "outputs": [],
      "source": [
        "model_path = oj(dir_path, \"models\", \"initial_classifier\")\n",
        "model_training_path = oj(model_path, \"training_224\")\n",
        "data_path = oj(dir_path, \"data\")\n"
      ]
    },
    {
      "cell_type": "markdown",
      "metadata": {
        "id": "uPVBH6N1KKYY"
      },
      "source": [
        "## Define the Model"
      ]
    },
    {
      "cell_type": "code",
      "execution_count": null,
      "metadata": {
        "colab": {
          "base_uri": "https://localhost:8080/"
        },
        "id": "Dqd7jg-jYLxY",
        "outputId": "b065a2d1-7636-475a-b8ae-ce78f1005bfb"
      },
      "outputs": [
        {
          "output_type": "stream",
          "name": "stderr",
          "text": [
            "/usr/local/lib/python3.11/dist-packages/torchvision/models/_utils.py:208: UserWarning: The parameter 'pretrained' is deprecated since 0.13 and may be removed in the future, please use 'weights' instead.\n",
            "  warnings.warn(\n",
            "/usr/local/lib/python3.11/dist-packages/torchvision/models/_utils.py:223: UserWarning: Arguments other than a weight enum or `None` for 'weights' are deprecated since 0.13 and may be removed in the future. The current behavior is equivalent to passing `weights=AlexNet_Weights.IMAGENET1K_V1`. You can also use `weights=AlexNet_Weights.DEFAULT` to get the most up-to-date weights.\n",
            "  warnings.warn(msg)\n",
            "Downloading: \"https://download.pytorch.org/models/alexnet-owt-7be5be79.pth\" to /root/.cache/torch/hub/checkpoints/alexnet-owt-7be5be79.pth\n",
            "100%|██████████| 233M/233M [00:01<00:00, 210MB/s]\n"
          ]
        }
      ],
      "source": [
        "import numpy as np\n",
        "import argparse\n",
        "import torch\n",
        "import torchvision.models as models\n",
        "import torch.nn as nn\n",
        "\n",
        "mean = np.asarray([0.485, 0.456, 0.406])\n",
        "std = np.asarray([0.229, 0.224, 0.225])\n",
        "\n",
        "class Args:\n",
        "    def __init__(self):\n",
        "        self.batch_size = 64 #16\n",
        "        self.epochs = 100\n",
        "        self.lr = 0.01 #0.00001\n",
        "        self.momentum = 0.9\n",
        "        self.seed = 1\n",
        "        self.regularizer_rate = 0.0\n",
        "        #self.dropout_rate = 0.7\n",
        "\n",
        "args = Args()\n",
        "\n",
        "regularizer_rate = args.regularizer_rate\n",
        "#dropout_rate = args.dropout_rate\n",
        "num_epochs = args.epochs\n",
        "device = torch.device('cuda' if torch.cuda.is_available() else 'cpu')\n",
        "\n",
        "torch.manual_seed(args.seed)\n",
        "model = models.alexnet(pretrained=True)\n",
        "model.classifier[-1] = nn.Linear(4096, 2)\n",
        "model = model.to(device)\n",
        "params_to_update = model.parameters()\n",
        "\n"
      ]
    },
    {
      "cell_type": "markdown",
      "metadata": {
        "id": "ckgH6rc8x3cf"
      },
      "source": [
        "## Initialize Dataset"
      ]
    },
    {
      "cell_type": "code",
      "execution_count": null,
      "metadata": {
        "id": "O-Sjxg4eYWoI"
      },
      "outputs": [],
      "source": [
        "import os\n",
        "import numpy as np\n",
        "from PIL import Image\n",
        "import torch\n",
        "from torch.utils.data import Dataset\n",
        "\n",
        "class ISICDataset(Dataset):\n",
        "    def __init__(self, path: str = None, is_malignant: int = None, data_files=None, labels=None, group_labels = None, transform=None):\n",
        "\n",
        "        self.path = path\n",
        "        self.data_files = os.listdir(self.path)\n",
        "        self.is_malignant = is_malignant\n",
        "        self.group_labels = group_labels\n",
        "        self.labels = labels\n",
        "        self.transform = transform\n",
        "\n",
        "    def __getitem__(self, i):\n",
        "\n",
        "        img = Image.open(os.path.join(self.path, self.data_files[i]))\n",
        "\n",
        "        # Apply the provided transform\n",
        "        if self.transform:\n",
        "            img = self.transform(img)\n",
        "\n",
        "        # Return the label and group label\n",
        "        is_malignant = self.is_malignant\n",
        "        group_label = self.group_labels[i]\n",
        "        return (img, is_malignant, group_label)\n",
        "\n",
        "    def __len__(self):\n",
        "        return len(self.data_files)\n"
      ]
    },
    {
      "cell_type": "markdown",
      "metadata": {
        "id": "WztOCsqEYahv"
      },
      "source": [
        "## Functions for Training"
      ]
    },
    {
      "cell_type": "code",
      "execution_count": null,
      "metadata": {
        "id": "0B3gSmbug8ST"
      },
      "outputs": [],
      "source": [
        "from torchvision import transforms\n",
        "\n",
        "transform = transforms.Compose([\n",
        "    transforms.Resize((224, 224)),\n",
        "    transforms.ToTensor(),\n",
        "    transforms.Normalize(mean=[0.485, 0.456, 0.406], std=[0.229, 0.224, 0.225])\n",
        "])\n",
        "\n",
        "#Train\n",
        "train_mal_nopatch_path = '/content/drive/MyDrive/Masterthesis/Datasets/isic/data/full/train/malignant_no_patch'\n",
        "train_ben_nopatch_path = '/content/drive/MyDrive/Masterthesis/Datasets/isic/data/full/train/benign_no_patch'\n",
        "train_ben_patch_path = '/content/drive/MyDrive/Masterthesis/Datasets/isic/data/full/train/benign_patch'\n",
        "\n",
        "#Validate\n",
        "val_mal_nopatch_path = '/content/drive/MyDrive/Masterthesis/Datasets/isic/data/full/val/malignant_no_patch'\n",
        "val_mal_patch_path = '/content/drive/MyDrive/Masterthesis/Datasets/isic/data/full/val/malignant_patch'\n",
        "val_ben_nopatch_path = '/content/drive/MyDrive/Masterthesis/Datasets/isic/data/full/val/benign_no_patch'\n",
        "val_ben_patch_path = '/content/drive/MyDrive/Masterthesis/Datasets/isic/data/full/val/benign_patch'\n",
        "\n",
        "#Test\n",
        "test_mal_patch_path = '/content/drive/MyDrive/Masterthesis/Datasets/isic/data/full/test/malignant_patch'\n",
        "\n",
        "\n",
        "# Create datasets for training and validating\n",
        "dataset_train_mal_nopatch = ISICDataset(path=train_mal_nopatch_path, is_malignant=1, group_labels=[0] * len(os.listdir(train_mal_nopatch_path)), transform=transform)\n",
        "dataset_train_ben_nopatch = ISICDataset(path=train_ben_nopatch_path, is_malignant=0, group_labels=[2] * len(os.listdir(train_ben_nopatch_path)), transform=transform)\n",
        "dataset_train_ben_patch = ISICDataset(path=train_ben_patch_path, is_malignant=0, group_labels=[3] * len(os.listdir(train_ben_patch_path)), transform=transform)\n",
        "\n",
        "dataset_val_mal_nopatch = ISICDataset(path=val_mal_nopatch_path, is_malignant=1, group_labels=[0] * len(os.listdir(val_mal_nopatch_path)), transform=transform)\n",
        "dataset_val_mal_patch = ISICDataset(path=val_mal_nopatch_path, is_malignant=1, group_labels=[0] * len(os.listdir(val_mal_nopatch_path)), transform=transform)\n",
        "dataset_val_ben_nopatch = ISICDataset(path=val_ben_nopatch_path, is_malignant=0, group_labels=[2] * len(os.listdir(val_ben_nopatch_path)), transform=transform)\n",
        "dataset_val_ben_patch = ISICDataset(path=val_ben_patch_path, is_malignant=0, group_labels=[3] * len(os.listdir(val_ben_patch_path)), transform=transform)\n",
        "\n",
        "\n",
        "\n",
        "# Concatenate the training datasets\n",
        "train_dataset = ConcatDataset((dataset_train_mal_nopatch, dataset_train_ben_nopatch, dataset_train_ben_patch))\n",
        "val_dataset = ConcatDataset((dataset_val_mal_nopatch, dataset_val_ben_nopatch, dataset_val_ben_patch, dataset_val_mal_patch))\n",
        "dataset_test_mal_patch = ISICDataset(path=test_mal_patch_path, is_malignant=1, group_labels=[1] * len(os.listdir(test_mal_patch_path)), transform=transform)\n",
        "test_dataset = dataset_test_mal_patch\n",
        "\n",
        "\n",
        "batch_size = 32\n",
        "\n",
        "# Create dataloaders\n",
        "train_loader = DataLoader(train_dataset, batch_size=batch_size, shuffle=True, num_workers=2)\n",
        "val_loader = DataLoader(val_dataset, batch_size=batch_size, shuffle=False, num_workers=2)\n",
        "test_loader = DataLoader(test_dataset, batch_size=batch_size, shuffle=False, num_workers=2)\n",
        "\n",
        "# Validate input data\n",
        "#if not validate_inputs(train_loader):\n",
        "#    print(\"Input data contains invalid values.\")\n",
        "\n",
        "dataloaders = {'train': train_loader, 'val': val_loader, 'test': test_loader}"
      ]
    },
    {
      "cell_type": "markdown",
      "source": [
        "### Val loss"
      ],
      "metadata": {
        "id": "930mPEG_Uzgp"
      }
    },
    {
      "cell_type": "code",
      "execution_count": null,
      "metadata": {
        "id": "FHF45c9XYfPw"
      },
      "outputs": [],
      "source": [
        "\n",
        "import os\n",
        "import time\n",
        "from datetime import datetime\n",
        "from tqdm import tqdm\n",
        "import torch\n",
        "import torch.nn as nn\n",
        "import torch.optim as optim\n",
        "import matplotlib.pyplot as plt\n",
        "from torchvision import models\n",
        "\n",
        "\n",
        "def gradient_sum(im, target, model, crit, device='cuda'):\n",
        "\n",
        "    im.requires_grad = True\n",
        "    grad_params = torch.abs(torch.autograd.grad(crit(model(im), target), im, create_graph=True)[0].sum(dim=1)).sum()\n",
        "    return grad_params\n",
        "\n",
        "# Define the train_model function\n",
        "def train_model(model, dataloaders, criterion, optimizer, num_epochs=100, model_training_path='models', device='cuda', resume_training=False):\n",
        "    since = time.time()\n",
        "    best_loss = float('inf')  # Initialize best loss to a high value\n",
        "    patience = 25\n",
        "    cur_patience = 0\n",
        "\n",
        "    # Create the directory if it does not exist\n",
        "    if not os.path.exists(model_training_path):\n",
        "        os.makedirs(model_training_path)\n",
        "\n",
        "    if resume_training and len(os.listdir(model_training_path)) > 0:\n",
        "        # Check if there are saved model files and resume training if needed\n",
        "        model_list = [(f, os.path.getmtime(os.path.join(model_training_path, f))) for f in os.listdir(model_training_path) if f.endswith('.pt')]\n",
        "        model_list.sort(key=lambda tup: tup[1], reverse=True)  # Sort models by modification time from most to least recent\n",
        "        model_name = model_list[0][0]\n",
        "        model.load_state_dict(torch.load(os.path.join(model_training_path, model_name)))\n",
        "        print(\"Model loaded!\")\n",
        "\n",
        "    # Initialize lists to track loss and accuracy\n",
        "    train_losses = []\n",
        "    val_losses = []\n",
        "    train_accuracies = []\n",
        "    val_accuracies = []\n",
        "\n",
        "    # Define the learning rate scheduler\n",
        "    scheduler = optim.lr_scheduler.ReduceLROnPlateau(optimizer, mode='min', factor=0.1, patience=5, verbose=True)\n",
        "\n",
        "    for epoch in range(1, num_epochs + 1):\n",
        "        print(f'Epoch {epoch}/{num_epochs}')\n",
        "        print('-' * 10)\n",
        "\n",
        "        for phase in ['train', 'val']:  # Add 'val' phase\n",
        "            if phase == 'train':\n",
        "                model.train()\n",
        "            else:\n",
        "                model.eval()\n",
        "\n",
        "            running_loss = 0.0\n",
        "            running_corrects = 0\n",
        "            for inputs, labels, group_labels in tqdm(dataloaders[phase], total=len(dataloaders[phase])):\n",
        "                inputs = inputs.to(device)\n",
        "                labels = labels.to(device)\n",
        "\n",
        "                optimizer.zero_grad()\n",
        "\n",
        "                with torch.set_grad_enabled(phase == 'train'):\n",
        "                    outputs = model(inputs)\n",
        "                    _, preds = torch.max(outputs, 1)\n",
        "                    loss = criterion(outputs, labels)\n",
        "                    if phase == 'train':\n",
        "                        loss.backward()\n",
        "\n",
        "                        # Apply gradient clipping\n",
        "                        torch.nn.utils.clip_grad_norm_(model.parameters(), max_norm=2.0)\n",
        "\n",
        "                        optimizer.step()  # Update model parameters\n",
        "\n",
        "                # Statistics\n",
        "                running_loss += loss.item() * inputs.size(0)\n",
        "                running_corrects += torch.sum(preds == labels.data)\n",
        "\n",
        "            epoch_loss = running_loss / len(dataloaders[phase].dataset)\n",
        "            epoch_acc = running_corrects.double() / len(dataloaders[phase].dataset)\n",
        "            print(f'{phase} Loss: {epoch_loss:.4f} Acc: {epoch_acc:.4f}')\n",
        "\n",
        "            if phase == 'train':\n",
        "                train_losses.append(epoch_loss)\n",
        "                train_accuracies.append(epoch_acc.cpu().numpy())\n",
        "            else:\n",
        "                val_losses.append(epoch_loss)\n",
        "                val_accuracies.append(epoch_acc.cpu().numpy())\n",
        "                if epoch_loss < best_loss:\n",
        "                    best_loss = epoch_loss\n",
        "                    best_epoch = epoch\n",
        "                    print(f\"New best epoch: {best_epoch}, Loss: {best_loss:.4f}\")\n",
        "                    cur_patience = 0\n",
        "                else:\n",
        "                    cur_patience += 1\n",
        "                    if cur_patience >= patience:\n",
        "                        print(\"Early stopping triggered.\")\n",
        "                        break\n",
        "\n",
        "        # Step the learning rate scheduler\n",
        "        scheduler.step(epoch_loss)\n",
        "\n",
        "        # Save checkpoint every 20 epochs\n",
        "        if epoch % 20 == 0:\n",
        "            checkpoint_path = os.path.join(model_training_path, f\"epoch_{epoch}_{datetime.now().strftime('%Y%m%d%H%M%S')}.pt\")\n",
        "            torch.save(model.state_dict(), checkpoint_path)\n",
        "            print(f\"Model checkpoint saved at epoch {epoch}!\")\n",
        "\n",
        "        if cur_patience >= patience:\n",
        "            break\n",
        "\n",
        "    time_elapsed = time.time() - since\n",
        "    print(f'Training complete in {time_elapsed // 60:.0f}m {time_elapsed % 60:.0f}s')\n",
        "    print(f'Best val loss: {best_loss:.4f}')\n",
        "\n",
        "    # Plot the training and validation loss\n",
        "    plt.figure(figsize=(10, 5))\n",
        "    plt.plot(train_losses, label='Training Loss')\n",
        "    plt.plot(val_losses, label='Validation Loss')\n",
        "    plt.xlabel('Epoch')\n",
        "    plt.ylabel('Loss')\n",
        "    plt.legend()\n",
        "    plt.title('Training and Validation Loss')\n",
        "    plt.show()\n",
        "\n",
        "    # Plot the training and validation accuracy\n",
        "    plt.figure(figsize=(10, 5))\n",
        "    plt.plot(train_accuracies, label='Training Accuracy')\n",
        "    plt.plot(val_accuracies, label='Validation Accuracy')\n",
        "    plt.xlabel('Epoch')\n",
        "    plt.ylabel('Accuracy')\n",
        "    plt.legend()\n",
        "    plt.title('Training and Validation Accuracy')\n",
        "    plt.show()\n",
        "\n",
        "    return model"
      ]
    },
    {
      "cell_type": "code",
      "execution_count": null,
      "metadata": {
        "colab": {
          "base_uri": "https://localhost:8080/",
          "height": 1000
        },
        "id": "z_6jV1plhABI",
        "outputId": "de25638f-2d3b-43fb-a854-b2e04607a321"
      },
      "outputs": [
        {
          "output_type": "stream",
          "name": "stderr",
          "text": [
            "/usr/local/lib/python3.11/dist-packages/torch/optim/lr_scheduler.py:62: UserWarning: The verbose parameter is deprecated. Please use get_last_lr() to access the learning rate.\n",
            "  warnings.warn(\n"
          ]
        },
        {
          "output_type": "stream",
          "name": "stdout",
          "text": [
            "Epoch 1/100\n",
            "----------\n"
          ]
        },
        {
          "output_type": "stream",
          "name": "stderr",
          "text": [
            "100%|██████████| 469/469 [41:29<00:00,  5.31s/it]\n"
          ]
        },
        {
          "output_type": "stream",
          "name": "stdout",
          "text": [
            "train Loss: 0.4548 Acc: 0.7560\n"
          ]
        },
        {
          "output_type": "stream",
          "name": "stderr",
          "text": [
            "100%|██████████| 8/8 [00:50<00:00,  6.36s/it]\n"
          ]
        },
        {
          "output_type": "stream",
          "name": "stdout",
          "text": [
            "val Loss: 0.4007 Acc: 0.7792\n",
            "New best epoch: 1, Loss: 0.4007\n",
            "Epoch 2/100\n",
            "----------\n"
          ]
        },
        {
          "output_type": "stream",
          "name": "stderr",
          "text": [
            "100%|██████████| 469/469 [00:34<00:00, 13.45it/s]\n"
          ]
        },
        {
          "output_type": "stream",
          "name": "stdout",
          "text": [
            "train Loss: 0.3807 Acc: 0.8011\n"
          ]
        },
        {
          "output_type": "stream",
          "name": "stderr",
          "text": [
            "100%|██████████| 8/8 [00:00<00:00, 12.11it/s]\n"
          ]
        },
        {
          "output_type": "stream",
          "name": "stdout",
          "text": [
            "val Loss: 0.3860 Acc: 0.7875\n",
            "New best epoch: 2, Loss: 0.3860\n",
            "Epoch 3/100\n",
            "----------\n"
          ]
        },
        {
          "output_type": "stream",
          "name": "stderr",
          "text": [
            "100%|██████████| 469/469 [00:34<00:00, 13.55it/s]\n"
          ]
        },
        {
          "output_type": "stream",
          "name": "stdout",
          "text": [
            "train Loss: 0.3629 Acc: 0.8126\n"
          ]
        },
        {
          "output_type": "stream",
          "name": "stderr",
          "text": [
            "100%|██████████| 8/8 [00:00<00:00, 12.03it/s]\n"
          ]
        },
        {
          "output_type": "stream",
          "name": "stdout",
          "text": [
            "val Loss: 0.3908 Acc: 0.7875\n",
            "Epoch 4/100\n",
            "----------\n"
          ]
        },
        {
          "output_type": "stream",
          "name": "stderr",
          "text": [
            "100%|██████████| 469/469 [00:34<00:00, 13.51it/s]\n"
          ]
        },
        {
          "output_type": "stream",
          "name": "stdout",
          "text": [
            "train Loss: 0.3548 Acc: 0.8208\n"
          ]
        },
        {
          "output_type": "stream",
          "name": "stderr",
          "text": [
            "100%|██████████| 8/8 [00:00<00:00, 11.11it/s]\n"
          ]
        },
        {
          "output_type": "stream",
          "name": "stdout",
          "text": [
            "val Loss: 0.3929 Acc: 0.7875\n",
            "Epoch 5/100\n",
            "----------\n"
          ]
        },
        {
          "output_type": "stream",
          "name": "stderr",
          "text": [
            "100%|██████████| 469/469 [00:34<00:00, 13.67it/s]\n"
          ]
        },
        {
          "output_type": "stream",
          "name": "stdout",
          "text": [
            "train Loss: 0.3447 Acc: 0.8228\n"
          ]
        },
        {
          "output_type": "stream",
          "name": "stderr",
          "text": [
            "100%|██████████| 8/8 [00:00<00:00, 11.51it/s]\n"
          ]
        },
        {
          "output_type": "stream",
          "name": "stdout",
          "text": [
            "val Loss: 0.3988 Acc: 0.7958\n",
            "Epoch 6/100\n",
            "----------\n"
          ]
        },
        {
          "output_type": "stream",
          "name": "stderr",
          "text": [
            "100%|██████████| 469/469 [00:34<00:00, 13.63it/s]\n"
          ]
        },
        {
          "output_type": "stream",
          "name": "stdout",
          "text": [
            "train Loss: 0.3423 Acc: 0.8283\n"
          ]
        },
        {
          "output_type": "stream",
          "name": "stderr",
          "text": [
            "100%|██████████| 8/8 [00:00<00:00, 11.49it/s]\n"
          ]
        },
        {
          "output_type": "stream",
          "name": "stdout",
          "text": [
            "val Loss: 0.3883 Acc: 0.8167\n",
            "Epoch 7/100\n",
            "----------\n"
          ]
        },
        {
          "output_type": "stream",
          "name": "stderr",
          "text": [
            "100%|██████████| 469/469 [00:34<00:00, 13.53it/s]\n"
          ]
        },
        {
          "output_type": "stream",
          "name": "stdout",
          "text": [
            "train Loss: 0.3356 Acc: 0.8291\n"
          ]
        },
        {
          "output_type": "stream",
          "name": "stderr",
          "text": [
            "100%|██████████| 8/8 [00:00<00:00, 11.79it/s]\n"
          ]
        },
        {
          "output_type": "stream",
          "name": "stdout",
          "text": [
            "val Loss: 0.4129 Acc: 0.7833\n",
            "Epoch 8/100\n",
            "----------\n"
          ]
        },
        {
          "output_type": "stream",
          "name": "stderr",
          "text": [
            "100%|██████████| 469/469 [00:35<00:00, 13.14it/s]\n"
          ]
        },
        {
          "output_type": "stream",
          "name": "stdout",
          "text": [
            "train Loss: 0.3334 Acc: 0.8339\n"
          ]
        },
        {
          "output_type": "stream",
          "name": "stderr",
          "text": [
            "100%|██████████| 8/8 [00:00<00:00, 10.32it/s]\n"
          ]
        },
        {
          "output_type": "stream",
          "name": "stdout",
          "text": [
            "val Loss: 0.4345 Acc: 0.7833\n",
            "Epoch 9/100\n",
            "----------\n"
          ]
        },
        {
          "output_type": "stream",
          "name": "stderr",
          "text": [
            "100%|██████████| 469/469 [00:35<00:00, 13.20it/s]\n"
          ]
        },
        {
          "output_type": "stream",
          "name": "stdout",
          "text": [
            "train Loss: 0.3306 Acc: 0.8379\n"
          ]
        },
        {
          "output_type": "stream",
          "name": "stderr",
          "text": [
            "100%|██████████| 8/8 [00:00<00:00, 11.68it/s]\n"
          ]
        },
        {
          "output_type": "stream",
          "name": "stdout",
          "text": [
            "val Loss: 0.4136 Acc: 0.8000\n",
            "Epoch 10/100\n",
            "----------\n"
          ]
        },
        {
          "output_type": "stream",
          "name": "stderr",
          "text": [
            "100%|██████████| 469/469 [00:35<00:00, 13.13it/s]\n"
          ]
        },
        {
          "output_type": "stream",
          "name": "stdout",
          "text": [
            "train Loss: 0.3232 Acc: 0.8368\n"
          ]
        },
        {
          "output_type": "stream",
          "name": "stderr",
          "text": [
            "100%|██████████| 8/8 [00:00<00:00, 10.34it/s]\n"
          ]
        },
        {
          "output_type": "stream",
          "name": "stdout",
          "text": [
            "val Loss: 0.4149 Acc: 0.8042\n",
            "Epoch 11/100\n",
            "----------\n"
          ]
        },
        {
          "output_type": "stream",
          "name": "stderr",
          "text": [
            "100%|██████████| 469/469 [00:35<00:00, 13.03it/s]\n"
          ]
        },
        {
          "output_type": "stream",
          "name": "stdout",
          "text": [
            "train Loss: 0.3267 Acc: 0.8382\n"
          ]
        },
        {
          "output_type": "stream",
          "name": "stderr",
          "text": [
            "100%|██████████| 8/8 [00:00<00:00, 11.45it/s]\n"
          ]
        },
        {
          "output_type": "stream",
          "name": "stdout",
          "text": [
            "val Loss: 0.4108 Acc: 0.8000\n",
            "Epoch 12/100\n",
            "----------\n"
          ]
        },
        {
          "output_type": "stream",
          "name": "stderr",
          "text": [
            "100%|██████████| 469/469 [00:35<00:00, 13.07it/s]\n"
          ]
        },
        {
          "output_type": "stream",
          "name": "stdout",
          "text": [
            "train Loss: 0.3305 Acc: 0.8337\n"
          ]
        },
        {
          "output_type": "stream",
          "name": "stderr",
          "text": [
            "100%|██████████| 8/8 [00:00<00:00, 11.54it/s]\n"
          ]
        },
        {
          "output_type": "stream",
          "name": "stdout",
          "text": [
            "val Loss: 0.4133 Acc: 0.8083\n",
            "Epoch 13/100\n",
            "----------\n"
          ]
        },
        {
          "output_type": "stream",
          "name": "stderr",
          "text": [
            "100%|██████████| 469/469 [00:35<00:00, 13.25it/s]\n"
          ]
        },
        {
          "output_type": "stream",
          "name": "stdout",
          "text": [
            "train Loss: 0.3285 Acc: 0.8340\n"
          ]
        },
        {
          "output_type": "stream",
          "name": "stderr",
          "text": [
            "100%|██████████| 8/8 [00:00<00:00, 10.99it/s]\n"
          ]
        },
        {
          "output_type": "stream",
          "name": "stdout",
          "text": [
            "val Loss: 0.4121 Acc: 0.8083\n",
            "Epoch 14/100\n",
            "----------\n"
          ]
        },
        {
          "output_type": "stream",
          "name": "stderr",
          "text": [
            "100%|██████████| 469/469 [00:35<00:00, 13.30it/s]\n"
          ]
        },
        {
          "output_type": "stream",
          "name": "stdout",
          "text": [
            "train Loss: 0.3232 Acc: 0.8363\n"
          ]
        },
        {
          "output_type": "stream",
          "name": "stderr",
          "text": [
            "100%|██████████| 8/8 [00:00<00:00, 11.91it/s]\n"
          ]
        },
        {
          "output_type": "stream",
          "name": "stdout",
          "text": [
            "val Loss: 0.4143 Acc: 0.8083\n",
            "Epoch 15/100\n",
            "----------\n"
          ]
        },
        {
          "output_type": "stream",
          "name": "stderr",
          "text": [
            "100%|██████████| 469/469 [00:35<00:00, 13.35it/s]\n"
          ]
        },
        {
          "output_type": "stream",
          "name": "stdout",
          "text": [
            "train Loss: 0.3260 Acc: 0.8352\n"
          ]
        },
        {
          "output_type": "stream",
          "name": "stderr",
          "text": [
            "100%|██████████| 8/8 [00:00<00:00, 11.65it/s]\n"
          ]
        },
        {
          "output_type": "stream",
          "name": "stdout",
          "text": [
            "val Loss: 0.4141 Acc: 0.8083\n",
            "Epoch 16/100\n",
            "----------\n"
          ]
        },
        {
          "output_type": "stream",
          "name": "stderr",
          "text": [
            "100%|██████████| 469/469 [00:35<00:00, 13.31it/s]\n"
          ]
        },
        {
          "output_type": "stream",
          "name": "stdout",
          "text": [
            "train Loss: 0.3201 Acc: 0.8403\n"
          ]
        },
        {
          "output_type": "stream",
          "name": "stderr",
          "text": [
            "100%|██████████| 8/8 [00:00<00:00, 11.50it/s]\n"
          ]
        },
        {
          "output_type": "stream",
          "name": "stdout",
          "text": [
            "val Loss: 0.4143 Acc: 0.8083\n",
            "Epoch 17/100\n",
            "----------\n"
          ]
        },
        {
          "output_type": "stream",
          "name": "stderr",
          "text": [
            "100%|██████████| 469/469 [00:35<00:00, 13.07it/s]\n"
          ]
        },
        {
          "output_type": "stream",
          "name": "stdout",
          "text": [
            "train Loss: 0.3286 Acc: 0.8347\n"
          ]
        },
        {
          "output_type": "stream",
          "name": "stderr",
          "text": [
            "100%|██████████| 8/8 [00:00<00:00, 11.10it/s]\n"
          ]
        },
        {
          "output_type": "stream",
          "name": "stdout",
          "text": [
            "val Loss: 0.4136 Acc: 0.8083\n",
            "Epoch 18/100\n",
            "----------\n"
          ]
        },
        {
          "output_type": "stream",
          "name": "stderr",
          "text": [
            "100%|██████████| 469/469 [00:35<00:00, 13.27it/s]\n"
          ]
        },
        {
          "output_type": "stream",
          "name": "stdout",
          "text": [
            "train Loss: 0.3254 Acc: 0.8361\n"
          ]
        },
        {
          "output_type": "stream",
          "name": "stderr",
          "text": [
            "100%|██████████| 8/8 [00:00<00:00, 11.84it/s]\n"
          ]
        },
        {
          "output_type": "stream",
          "name": "stdout",
          "text": [
            "val Loss: 0.4131 Acc: 0.8042\n",
            "Epoch 19/100\n",
            "----------\n"
          ]
        },
        {
          "output_type": "stream",
          "name": "stderr",
          "text": [
            "100%|██████████| 469/469 [00:35<00:00, 13.21it/s]\n"
          ]
        },
        {
          "output_type": "stream",
          "name": "stdout",
          "text": [
            "train Loss: 0.3217 Acc: 0.8401\n"
          ]
        },
        {
          "output_type": "stream",
          "name": "stderr",
          "text": [
            "100%|██████████| 8/8 [00:00<00:00, 11.41it/s]\n"
          ]
        },
        {
          "output_type": "stream",
          "name": "stdout",
          "text": [
            "val Loss: 0.4131 Acc: 0.8042\n",
            "Epoch 20/100\n",
            "----------\n"
          ]
        },
        {
          "output_type": "stream",
          "name": "stderr",
          "text": [
            "100%|██████████| 469/469 [00:35<00:00, 13.28it/s]\n"
          ]
        },
        {
          "output_type": "stream",
          "name": "stdout",
          "text": [
            "train Loss: 0.3237 Acc: 0.8398\n"
          ]
        },
        {
          "output_type": "stream",
          "name": "stderr",
          "text": [
            "100%|██████████| 8/8 [00:00<00:00, 11.68it/s]\n"
          ]
        },
        {
          "output_type": "stream",
          "name": "stdout",
          "text": [
            "val Loss: 0.4131 Acc: 0.8083\n",
            "Model checkpoint saved at epoch 20!\n",
            "Epoch 21/100\n",
            "----------\n"
          ]
        },
        {
          "output_type": "stream",
          "name": "stderr",
          "text": [
            "100%|██████████| 469/469 [00:35<00:00, 13.20it/s]\n"
          ]
        },
        {
          "output_type": "stream",
          "name": "stdout",
          "text": [
            "train Loss: 0.3258 Acc: 0.8377\n"
          ]
        },
        {
          "output_type": "stream",
          "name": "stderr",
          "text": [
            "100%|██████████| 8/8 [00:00<00:00, 10.44it/s]\n"
          ]
        },
        {
          "output_type": "stream",
          "name": "stdout",
          "text": [
            "val Loss: 0.4130 Acc: 0.8083\n",
            "Epoch 22/100\n",
            "----------\n"
          ]
        },
        {
          "output_type": "stream",
          "name": "stderr",
          "text": [
            "100%|██████████| 469/469 [00:35<00:00, 13.23it/s]\n"
          ]
        },
        {
          "output_type": "stream",
          "name": "stdout",
          "text": [
            "train Loss: 0.3277 Acc: 0.8358\n"
          ]
        },
        {
          "output_type": "stream",
          "name": "stderr",
          "text": [
            "100%|██████████| 8/8 [00:00<00:00, 11.35it/s]\n"
          ]
        },
        {
          "output_type": "stream",
          "name": "stdout",
          "text": [
            "val Loss: 0.4129 Acc: 0.8042\n",
            "Epoch 23/100\n",
            "----------\n"
          ]
        },
        {
          "output_type": "stream",
          "name": "stderr",
          "text": [
            "100%|██████████| 469/469 [00:35<00:00, 13.31it/s]\n"
          ]
        },
        {
          "output_type": "stream",
          "name": "stdout",
          "text": [
            "train Loss: 0.3263 Acc: 0.8339\n"
          ]
        },
        {
          "output_type": "stream",
          "name": "stderr",
          "text": [
            "100%|██████████| 8/8 [00:00<00:00, 11.82it/s]\n"
          ]
        },
        {
          "output_type": "stream",
          "name": "stdout",
          "text": [
            "val Loss: 0.4129 Acc: 0.8042\n",
            "Epoch 24/100\n",
            "----------\n"
          ]
        },
        {
          "output_type": "stream",
          "name": "stderr",
          "text": [
            "100%|██████████| 469/469 [00:35<00:00, 13.28it/s]\n"
          ]
        },
        {
          "output_type": "stream",
          "name": "stdout",
          "text": [
            "train Loss: 0.3249 Acc: 0.8371\n"
          ]
        },
        {
          "output_type": "stream",
          "name": "stderr",
          "text": [
            "100%|██████████| 8/8 [00:00<00:00, 11.85it/s]\n"
          ]
        },
        {
          "output_type": "stream",
          "name": "stdout",
          "text": [
            "val Loss: 0.4128 Acc: 0.8042\n",
            "Epoch 25/100\n",
            "----------\n"
          ]
        },
        {
          "output_type": "stream",
          "name": "stderr",
          "text": [
            "100%|██████████| 469/469 [00:35<00:00, 13.40it/s]\n"
          ]
        },
        {
          "output_type": "stream",
          "name": "stdout",
          "text": [
            "train Loss: 0.3255 Acc: 0.8395\n"
          ]
        },
        {
          "output_type": "stream",
          "name": "stderr",
          "text": [
            "100%|██████████| 8/8 [00:00<00:00, 10.62it/s]\n"
          ]
        },
        {
          "output_type": "stream",
          "name": "stdout",
          "text": [
            "val Loss: 0.4128 Acc: 0.8042\n",
            "Epoch 26/100\n",
            "----------\n"
          ]
        },
        {
          "output_type": "stream",
          "name": "stderr",
          "text": [
            "100%|██████████| 469/469 [00:34<00:00, 13.42it/s]\n"
          ]
        },
        {
          "output_type": "stream",
          "name": "stdout",
          "text": [
            "train Loss: 0.3260 Acc: 0.8382\n"
          ]
        },
        {
          "output_type": "stream",
          "name": "stderr",
          "text": [
            "100%|██████████| 8/8 [00:00<00:00, 11.99it/s]\n"
          ]
        },
        {
          "output_type": "stream",
          "name": "stdout",
          "text": [
            "val Loss: 0.4128 Acc: 0.8042\n",
            "Epoch 27/100\n",
            "----------\n"
          ]
        },
        {
          "output_type": "stream",
          "name": "stderr",
          "text": [
            "100%|██████████| 469/469 [00:34<00:00, 13.45it/s]\n"
          ]
        },
        {
          "output_type": "stream",
          "name": "stdout",
          "text": [
            "train Loss: 0.3199 Acc: 0.8385\n"
          ]
        },
        {
          "output_type": "stream",
          "name": "stderr",
          "text": [
            "100%|██████████| 8/8 [00:00<00:00, 11.60it/s]\n"
          ]
        },
        {
          "output_type": "stream",
          "name": "stdout",
          "text": [
            "val Loss: 0.4128 Acc: 0.8042\n",
            "Early stopping triggered.\n",
            "Training complete in 57m 55s\n",
            "Best val loss: 0.3860\n"
          ]
        },
        {
          "output_type": "display_data",
          "data": {
            "text/plain": [
              "<Figure size 1000x500 with 1 Axes>"
            ],
            "image/png": "[encoded data removed]"
          },
          "metadata": {}
        },
        {
          "output_type": "display_data",
          "data": {
            "text/plain": [
              "<Figure size 1000x500 with 1 Axes>"
            ],
            "image/png": "[encoded data removed]"
          },
          "metadata": {}
        },
        {
          "output_type": "stream",
          "name": "stdout",
          "text": [
            "Epoch 1/100\n",
            "----------\n"
          ]
        },
        {
          "output_type": "stream",
          "name": "stderr",
          "text": [
            "100%|██████████| 469/469 [00:35<00:00, 13.22it/s]\n"
          ]
        },
        {
          "output_type": "stream",
          "name": "stdout",
          "text": [
            "train Loss: 0.4545 Acc: 0.7496\n"
          ]
        },
        {
          "output_type": "stream",
          "name": "stderr",
          "text": [
            "100%|██████████| 8/8 [00:00<00:00, 11.53it/s]\n"
          ]
        },
        {
          "output_type": "stream",
          "name": "stdout",
          "text": [
            "val Loss: 0.3780 Acc: 0.8083\n",
            "New best epoch: 1, Loss: 0.3780\n",
            "Epoch 2/100\n",
            "----------\n"
          ]
        },
        {
          "output_type": "stream",
          "name": "stderr",
          "text": [
            "100%|██████████| 469/469 [00:34<00:00, 13.51it/s]\n"
          ]
        },
        {
          "output_type": "stream",
          "name": "stdout",
          "text": [
            "train Loss: 0.3768 Acc: 0.8068\n"
          ]
        },
        {
          "output_type": "stream",
          "name": "stderr",
          "text": [
            "100%|██████████| 8/8 [00:00<00:00, 11.87it/s]\n"
          ]
        },
        {
          "output_type": "stream",
          "name": "stdout",
          "text": [
            "val Loss: 0.3568 Acc: 0.8125\n",
            "New best epoch: 2, Loss: 0.3568\n",
            "Epoch 3/100\n",
            "----------\n"
          ]
        },
        {
          "output_type": "stream",
          "name": "stderr",
          "text": [
            "100%|██████████| 469/469 [00:34<00:00, 13.52it/s]\n"
          ]
        },
        {
          "output_type": "stream",
          "name": "stdout",
          "text": [
            "train Loss: 0.3593 Acc: 0.8151\n"
          ]
        },
        {
          "output_type": "stream",
          "name": "stderr",
          "text": [
            "100%|██████████| 8/8 [00:00<00:00, 10.78it/s]\n"
          ]
        },
        {
          "output_type": "stream",
          "name": "stdout",
          "text": [
            "val Loss: 0.3783 Acc: 0.7917\n",
            "Epoch 4/100\n",
            "----------\n"
          ]
        },
        {
          "output_type": "stream",
          "name": "stderr",
          "text": [
            "100%|██████████| 469/469 [00:35<00:00, 13.36it/s]\n"
          ]
        },
        {
          "output_type": "stream",
          "name": "stdout",
          "text": [
            "train Loss: 0.3540 Acc: 0.8239\n"
          ]
        },
        {
          "output_type": "stream",
          "name": "stderr",
          "text": [
            "100%|██████████| 8/8 [00:00<00:00, 11.87it/s]\n"
          ]
        },
        {
          "output_type": "stream",
          "name": "stdout",
          "text": [
            "val Loss: 0.3619 Acc: 0.8167\n",
            "Epoch 5/100\n",
            "----------\n"
          ]
        },
        {
          "output_type": "stream",
          "name": "stderr",
          "text": [
            "100%|██████████| 469/469 [00:34<00:00, 13.52it/s]\n"
          ]
        },
        {
          "output_type": "stream",
          "name": "stdout",
          "text": [
            "train Loss: 0.3441 Acc: 0.8240\n"
          ]
        },
        {
          "output_type": "stream",
          "name": "stderr",
          "text": [
            "100%|██████████| 8/8 [00:00<00:00, 11.48it/s]\n"
          ]
        },
        {
          "output_type": "stream",
          "name": "stdout",
          "text": [
            "val Loss: 0.3745 Acc: 0.8000\n",
            "Epoch 6/100\n",
            "----------\n"
          ]
        },
        {
          "output_type": "stream",
          "name": "stderr",
          "text": [
            "100%|██████████| 469/469 [00:34<00:00, 13.49it/s]\n"
          ]
        },
        {
          "output_type": "stream",
          "name": "stdout",
          "text": [
            "train Loss: 0.3411 Acc: 0.8268\n"
          ]
        },
        {
          "output_type": "stream",
          "name": "stderr",
          "text": [
            "100%|██████████| 8/8 [00:00<00:00, 11.54it/s]\n"
          ]
        },
        {
          "output_type": "stream",
          "name": "stdout",
          "text": [
            "val Loss: 0.3725 Acc: 0.8042\n",
            "Epoch 7/100\n",
            "----------\n"
          ]
        },
        {
          "output_type": "stream",
          "name": "stderr",
          "text": [
            "100%|██████████| 469/469 [00:35<00:00, 13.38it/s]\n"
          ]
        },
        {
          "output_type": "stream",
          "name": "stdout",
          "text": [
            "train Loss: 0.3366 Acc: 0.8305\n"
          ]
        },
        {
          "output_type": "stream",
          "name": "stderr",
          "text": [
            "100%|██████████| 8/8 [00:00<00:00, 11.46it/s]\n"
          ]
        },
        {
          "output_type": "stream",
          "name": "stdout",
          "text": [
            "val Loss: 0.3680 Acc: 0.8083\n",
            "Epoch 8/100\n",
            "----------\n"
          ]
        },
        {
          "output_type": "stream",
          "name": "stderr",
          "text": [
            "100%|██████████| 469/469 [00:34<00:00, 13.42it/s]\n"
          ]
        },
        {
          "output_type": "stream",
          "name": "stdout",
          "text": [
            "train Loss: 0.3292 Acc: 0.8313\n"
          ]
        },
        {
          "output_type": "stream",
          "name": "stderr",
          "text": [
            "100%|██████████| 8/8 [00:00<00:00, 11.90it/s]\n"
          ]
        },
        {
          "output_type": "stream",
          "name": "stdout",
          "text": [
            "val Loss: 0.4029 Acc: 0.8083\n",
            "Epoch 9/100\n",
            "----------\n"
          ]
        },
        {
          "output_type": "stream",
          "name": "stderr",
          "text": [
            "100%|██████████| 469/469 [00:34<00:00, 13.51it/s]\n"
          ]
        },
        {
          "output_type": "stream",
          "name": "stdout",
          "text": [
            "train Loss: 0.3338 Acc: 0.8475\n"
          ]
        },
        {
          "output_type": "stream",
          "name": "stderr",
          "text": [
            "100%|██████████| 8/8 [00:00<00:00, 11.91it/s]\n"
          ]
        },
        {
          "output_type": "stream",
          "name": "stdout",
          "text": [
            "val Loss: 0.3801 Acc: 0.8083\n",
            "Epoch 10/100\n",
            "----------\n"
          ]
        },
        {
          "output_type": "stream",
          "name": "stderr",
          "text": [
            "100%|██████████| 469/469 [00:34<00:00, 13.49it/s]\n"
          ]
        },
        {
          "output_type": "stream",
          "name": "stdout",
          "text": [
            "train Loss: 0.3213 Acc: 0.8403\n"
          ]
        },
        {
          "output_type": "stream",
          "name": "stderr",
          "text": [
            "100%|██████████| 8/8 [00:00<00:00, 11.66it/s]\n"
          ]
        },
        {
          "output_type": "stream",
          "name": "stdout",
          "text": [
            "val Loss: 0.3801 Acc: 0.8083\n",
            "Epoch 11/100\n",
            "----------\n"
          ]
        },
        {
          "output_type": "stream",
          "name": "stderr",
          "text": [
            "100%|██████████| 469/469 [00:34<00:00, 13.43it/s]\n"
          ]
        },
        {
          "output_type": "stream",
          "name": "stdout",
          "text": [
            "train Loss: 0.3226 Acc: 0.8381\n"
          ]
        },
        {
          "output_type": "stream",
          "name": "stderr",
          "text": [
            "100%|██████████| 8/8 [00:00<00:00, 12.21it/s]\n"
          ]
        },
        {
          "output_type": "stream",
          "name": "stdout",
          "text": [
            "val Loss: 0.3779 Acc: 0.8167\n",
            "Epoch 12/100\n",
            "----------\n"
          ]
        },
        {
          "output_type": "stream",
          "name": "stderr",
          "text": [
            "100%|██████████| 469/469 [00:34<00:00, 13.51it/s]\n"
          ]
        },
        {
          "output_type": "stream",
          "name": "stdout",
          "text": [
            "train Loss: 0.3225 Acc: 0.8403\n"
          ]
        },
        {
          "output_type": "stream",
          "name": "stderr",
          "text": [
            "100%|██████████| 8/8 [00:00<00:00, 12.10it/s]\n"
          ]
        },
        {
          "output_type": "stream",
          "name": "stdout",
          "text": [
            "val Loss: 0.3770 Acc: 0.8125\n",
            "Epoch 13/100\n",
            "----------\n"
          ]
        },
        {
          "output_type": "stream",
          "name": "stderr",
          "text": [
            "100%|██████████| 469/469 [00:35<00:00, 13.33it/s]\n"
          ]
        },
        {
          "output_type": "stream",
          "name": "stdout",
          "text": [
            "train Loss: 0.3197 Acc: 0.8394\n"
          ]
        },
        {
          "output_type": "stream",
          "name": "stderr",
          "text": [
            "100%|██████████| 8/8 [00:00<00:00, 11.73it/s]\n"
          ]
        },
        {
          "output_type": "stream",
          "name": "stdout",
          "text": [
            "val Loss: 0.3810 Acc: 0.8000\n",
            "Epoch 14/100\n",
            "----------\n"
          ]
        },
        {
          "output_type": "stream",
          "name": "stderr",
          "text": [
            "100%|██████████| 469/469 [00:34<00:00, 13.53it/s]\n"
          ]
        },
        {
          "output_type": "stream",
          "name": "stdout",
          "text": [
            "train Loss: 0.3227 Acc: 0.8407\n"
          ]
        },
        {
          "output_type": "stream",
          "name": "stderr",
          "text": [
            "100%|██████████| 8/8 [00:00<00:00, 11.37it/s]\n"
          ]
        },
        {
          "output_type": "stream",
          "name": "stdout",
          "text": [
            "val Loss: 0.3761 Acc: 0.8083\n",
            "Epoch 15/100\n",
            "----------\n"
          ]
        },
        {
          "output_type": "stream",
          "name": "stderr",
          "text": [
            "100%|██████████| 469/469 [00:34<00:00, 13.45it/s]\n"
          ]
        },
        {
          "output_type": "stream",
          "name": "stdout",
          "text": [
            "train Loss: 0.3234 Acc: 0.8329\n"
          ]
        },
        {
          "output_type": "stream",
          "name": "stderr",
          "text": [
            "100%|██████████| 8/8 [00:00<00:00, 11.82it/s]\n"
          ]
        },
        {
          "output_type": "stream",
          "name": "stdout",
          "text": [
            "val Loss: 0.3768 Acc: 0.8125\n",
            "Epoch 16/100\n",
            "----------\n"
          ]
        },
        {
          "output_type": "stream",
          "name": "stderr",
          "text": [
            "100%|██████████| 469/469 [00:35<00:00, 13.23it/s]\n"
          ]
        },
        {
          "output_type": "stream",
          "name": "stdout",
          "text": [
            "train Loss: 0.3206 Acc: 0.8413\n"
          ]
        },
        {
          "output_type": "stream",
          "name": "stderr",
          "text": [
            "100%|██████████| 8/8 [00:00<00:00, 11.63it/s]\n"
          ]
        },
        {
          "output_type": "stream",
          "name": "stdout",
          "text": [
            "val Loss: 0.3777 Acc: 0.8125\n",
            "Epoch 17/100\n",
            "----------\n"
          ]
        },
        {
          "output_type": "stream",
          "name": "stderr",
          "text": [
            "100%|██████████| 469/469 [00:35<00:00, 13.12it/s]\n"
          ]
        },
        {
          "output_type": "stream",
          "name": "stdout",
          "text": [
            "train Loss: 0.3255 Acc: 0.8339\n"
          ]
        },
        {
          "output_type": "stream",
          "name": "stderr",
          "text": [
            "100%|██████████| 8/8 [00:00<00:00, 11.87it/s]\n"
          ]
        },
        {
          "output_type": "stream",
          "name": "stdout",
          "text": [
            "val Loss: 0.3784 Acc: 0.8125\n",
            "Epoch 18/100\n",
            "----------\n"
          ]
        },
        {
          "output_type": "stream",
          "name": "stderr",
          "text": [
            "100%|██████████| 469/469 [00:34<00:00, 13.42it/s]\n"
          ]
        },
        {
          "output_type": "stream",
          "name": "stdout",
          "text": [
            "train Loss: 0.3263 Acc: 0.8371\n"
          ]
        },
        {
          "output_type": "stream",
          "name": "stderr",
          "text": [
            "100%|██████████| 8/8 [00:00<00:00, 11.09it/s]\n"
          ]
        },
        {
          "output_type": "stream",
          "name": "stdout",
          "text": [
            "val Loss: 0.3784 Acc: 0.8125\n",
            "Epoch 19/100\n",
            "----------\n"
          ]
        },
        {
          "output_type": "stream",
          "name": "stderr",
          "text": [
            "100%|██████████| 469/469 [00:34<00:00, 13.41it/s]\n"
          ]
        },
        {
          "output_type": "stream",
          "name": "stdout",
          "text": [
            "train Loss: 0.3222 Acc: 0.8362\n"
          ]
        },
        {
          "output_type": "stream",
          "name": "stderr",
          "text": [
            "100%|██████████| 8/8 [00:00<00:00, 12.01it/s]\n"
          ]
        },
        {
          "output_type": "stream",
          "name": "stdout",
          "text": [
            "val Loss: 0.3784 Acc: 0.8125\n",
            "Epoch 20/100\n",
            "----------\n"
          ]
        },
        {
          "output_type": "stream",
          "name": "stderr",
          "text": [
            "100%|██████████| 469/469 [00:35<00:00, 13.23it/s]\n"
          ]
        },
        {
          "output_type": "stream",
          "name": "stdout",
          "text": [
            "train Loss: 0.3206 Acc: 0.8370\n"
          ]
        },
        {
          "output_type": "stream",
          "name": "stderr",
          "text": [
            "100%|██████████| 8/8 [00:00<00:00, 11.52it/s]\n"
          ]
        },
        {
          "output_type": "stream",
          "name": "stdout",
          "text": [
            "val Loss: 0.3785 Acc: 0.8125\n",
            "Model checkpoint saved at epoch 20!\n",
            "Epoch 21/100\n",
            "----------\n"
          ]
        },
        {
          "output_type": "stream",
          "name": "stderr",
          "text": [
            "100%|██████████| 469/469 [00:35<00:00, 13.30it/s]\n"
          ]
        },
        {
          "output_type": "stream",
          "name": "stdout",
          "text": [
            "train Loss: 0.3181 Acc: 0.8369\n"
          ]
        },
        {
          "output_type": "stream",
          "name": "stderr",
          "text": [
            "100%|██████████| 8/8 [00:00<00:00, 10.99it/s]\n"
          ]
        },
        {
          "output_type": "stream",
          "name": "stdout",
          "text": [
            "val Loss: 0.3786 Acc: 0.8125\n",
            "Epoch 22/100\n",
            "----------\n"
          ]
        },
        {
          "output_type": "stream",
          "name": "stderr",
          "text": [
            "100%|██████████| 469/469 [00:35<00:00, 13.09it/s]\n"
          ]
        },
        {
          "output_type": "stream",
          "name": "stdout",
          "text": [
            "train Loss: 0.3201 Acc: 0.8389\n"
          ]
        },
        {
          "output_type": "stream",
          "name": "stderr",
          "text": [
            "100%|██████████| 8/8 [00:00<00:00, 10.31it/s]\n"
          ]
        },
        {
          "output_type": "stream",
          "name": "stdout",
          "text": [
            "val Loss: 0.3786 Acc: 0.8125\n",
            "Epoch 23/100\n",
            "----------\n"
          ]
        },
        {
          "output_type": "stream",
          "name": "stderr",
          "text": [
            "100%|██████████| 469/469 [00:34<00:00, 13.49it/s]\n"
          ]
        },
        {
          "output_type": "stream",
          "name": "stdout",
          "text": [
            "train Loss: 0.3251 Acc: 0.8356\n"
          ]
        },
        {
          "output_type": "stream",
          "name": "stderr",
          "text": [
            "100%|██████████| 8/8 [00:00<00:00, 11.71it/s]\n"
          ]
        },
        {
          "output_type": "stream",
          "name": "stdout",
          "text": [
            "val Loss: 0.3786 Acc: 0.8125\n",
            "Epoch 24/100\n",
            "----------\n"
          ]
        },
        {
          "output_type": "stream",
          "name": "stderr",
          "text": [
            "100%|██████████| 469/469 [00:35<00:00, 13.34it/s]\n"
          ]
        },
        {
          "output_type": "stream",
          "name": "stdout",
          "text": [
            "train Loss: 0.3208 Acc: 0.8369\n"
          ]
        },
        {
          "output_type": "stream",
          "name": "stderr",
          "text": [
            "100%|██████████| 8/8 [00:00<00:00, 11.75it/s]\n"
          ]
        },
        {
          "output_type": "stream",
          "name": "stdout",
          "text": [
            "val Loss: 0.3787 Acc: 0.8125\n",
            "Epoch 25/100\n",
            "----------\n"
          ]
        },
        {
          "output_type": "stream",
          "name": "stderr",
          "text": [
            "100%|██████████| 469/469 [00:35<00:00, 13.17it/s]\n"
          ]
        },
        {
          "output_type": "stream",
          "name": "stdout",
          "text": [
            "train Loss: 0.3217 Acc: 0.8364\n"
          ]
        },
        {
          "output_type": "stream",
          "name": "stderr",
          "text": [
            "100%|██████████| 8/8 [00:00<00:00, 11.59it/s]\n"
          ]
        },
        {
          "output_type": "stream",
          "name": "stdout",
          "text": [
            "val Loss: 0.3787 Acc: 0.8125\n",
            "Epoch 26/100\n",
            "----------\n"
          ]
        },
        {
          "output_type": "stream",
          "name": "stderr",
          "text": [
            "100%|██████████| 469/469 [00:35<00:00, 13.36it/s]\n"
          ]
        },
        {
          "output_type": "stream",
          "name": "stdout",
          "text": [
            "train Loss: 0.3211 Acc: 0.8384\n"
          ]
        },
        {
          "output_type": "stream",
          "name": "stderr",
          "text": [
            "100%|██████████| 8/8 [00:00<00:00, 11.12it/s]\n"
          ]
        },
        {
          "output_type": "stream",
          "name": "stdout",
          "text": [
            "val Loss: 0.3787 Acc: 0.8125\n",
            "Epoch 27/100\n",
            "----------\n"
          ]
        },
        {
          "output_type": "stream",
          "name": "stderr",
          "text": [
            "100%|██████████| 469/469 [00:34<00:00, 13.68it/s]\n"
          ]
        },
        {
          "output_type": "stream",
          "name": "stdout",
          "text": [
            "train Loss: 0.3255 Acc: 0.8335\n"
          ]
        },
        {
          "output_type": "stream",
          "name": "stderr",
          "text": [
            "100%|██████████| 8/8 [00:00<00:00, 12.13it/s]\n"
          ]
        },
        {
          "output_type": "stream",
          "name": "stdout",
          "text": [
            "val Loss: 0.3787 Acc: 0.8125\n",
            "Early stopping triggered.\n",
            "Training complete in 16m 5s\n",
            "Best val loss: 0.3568\n"
          ]
        },
        {
          "output_type": "display_data",
          "data": {
            "text/plain": [
              "<Figure size 1000x500 with 1 Axes>"
            ],
            "image/png": "[encoded data removed]"
          },
          "metadata": {}
        },
        {
          "output_type": "display_data",
          "data": {
            "text/plain": [
              "<Figure size 1000x500 with 1 Axes>"
            ],
            "image/png": "[encoded data removed]"
          },
          "metadata": {}
        },
        {
          "output_type": "stream",
          "name": "stdout",
          "text": [
            "Epoch 1/100\n",
            "----------\n"
          ]
        },
        {
          "output_type": "stream",
          "name": "stderr",
          "text": [
            "100%|██████████| 469/469 [00:35<00:00, 13.19it/s]\n"
          ]
        },
        {
          "output_type": "stream",
          "name": "stdout",
          "text": [
            "train Loss: 0.4615 Acc: 0.7377\n"
          ]
        },
        {
          "output_type": "stream",
          "name": "stderr",
          "text": [
            "100%|██████████| 8/8 [00:00<00:00, 11.70it/s]\n"
          ]
        },
        {
          "output_type": "stream",
          "name": "stdout",
          "text": [
            "val Loss: 0.3856 Acc: 0.8375\n",
            "New best epoch: 1, Loss: 0.3856\n",
            "Epoch 2/100\n",
            "----------\n"
          ]
        },
        {
          "output_type": "stream",
          "name": "stderr",
          "text": [
            "100%|██████████| 469/469 [00:34<00:00, 13.56it/s]\n"
          ]
        },
        {
          "output_type": "stream",
          "name": "stdout",
          "text": [
            "train Loss: 0.3847 Acc: 0.8008\n"
          ]
        },
        {
          "output_type": "stream",
          "name": "stderr",
          "text": [
            "100%|██████████| 8/8 [00:00<00:00, 12.02it/s]\n"
          ]
        },
        {
          "output_type": "stream",
          "name": "stdout",
          "text": [
            "val Loss: 0.3892 Acc: 0.8083\n",
            "Epoch 3/100\n",
            "----------\n"
          ]
        },
        {
          "output_type": "stream",
          "name": "stderr",
          "text": [
            "100%|██████████| 469/469 [00:34<00:00, 13.58it/s]\n"
          ]
        },
        {
          "output_type": "stream",
          "name": "stdout",
          "text": [
            "train Loss: 0.3679 Acc: 0.8118\n"
          ]
        },
        {
          "output_type": "stream",
          "name": "stderr",
          "text": [
            "100%|██████████| 8/8 [00:00<00:00, 11.94it/s]\n"
          ]
        },
        {
          "output_type": "stream",
          "name": "stdout",
          "text": [
            "val Loss: 0.3593 Acc: 0.8500\n",
            "New best epoch: 3, Loss: 0.3593\n",
            "Epoch 4/100\n",
            "----------\n"
          ]
        },
        {
          "output_type": "stream",
          "name": "stderr",
          "text": [
            "100%|██████████| 469/469 [00:34<00:00, 13.45it/s]\n"
          ]
        },
        {
          "output_type": "stream",
          "name": "stdout",
          "text": [
            "train Loss: 0.3578 Acc: 0.8162\n"
          ]
        },
        {
          "output_type": "stream",
          "name": "stderr",
          "text": [
            "100%|██████████| 8/8 [00:00<00:00, 11.56it/s]\n"
          ]
        },
        {
          "output_type": "stream",
          "name": "stdout",
          "text": [
            "val Loss: 0.3804 Acc: 0.8125\n",
            "Epoch 5/100\n",
            "----------\n"
          ]
        },
        {
          "output_type": "stream",
          "name": "stderr",
          "text": [
            "100%|██████████| 469/469 [00:34<00:00, 13.53it/s]\n"
          ]
        },
        {
          "output_type": "stream",
          "name": "stdout",
          "text": [
            "train Loss: 0.3480 Acc: 0.8261\n"
          ]
        },
        {
          "output_type": "stream",
          "name": "stderr",
          "text": [
            "100%|██████████| 8/8 [00:00<00:00, 11.99it/s]\n"
          ]
        },
        {
          "output_type": "stream",
          "name": "stdout",
          "text": [
            "val Loss: 0.3771 Acc: 0.8208\n",
            "Epoch 6/100\n",
            "----------\n"
          ]
        },
        {
          "output_type": "stream",
          "name": "stderr",
          "text": [
            "100%|██████████| 469/469 [00:35<00:00, 13.19it/s]\n"
          ]
        },
        {
          "output_type": "stream",
          "name": "stdout",
          "text": [
            "train Loss: 0.3411 Acc: 0.8293\n"
          ]
        },
        {
          "output_type": "stream",
          "name": "stderr",
          "text": [
            "100%|██████████| 8/8 [00:00<00:00, 11.61it/s]\n"
          ]
        },
        {
          "output_type": "stream",
          "name": "stdout",
          "text": [
            "val Loss: 0.3738 Acc: 0.8375\n",
            "Epoch 7/100\n",
            "----------\n"
          ]
        },
        {
          "output_type": "stream",
          "name": "stderr",
          "text": [
            "100%|██████████| 469/469 [00:35<00:00, 13.07it/s]\n"
          ]
        },
        {
          "output_type": "stream",
          "name": "stdout",
          "text": [
            "train Loss: 0.3366 Acc: 0.8347\n"
          ]
        },
        {
          "output_type": "stream",
          "name": "stderr",
          "text": [
            "100%|██████████| 8/8 [00:00<00:00, 10.04it/s]\n"
          ]
        },
        {
          "output_type": "stream",
          "name": "stdout",
          "text": [
            "val Loss: 0.3642 Acc: 0.8542\n",
            "Epoch 8/100\n",
            "----------\n"
          ]
        },
        {
          "output_type": "stream",
          "name": "stderr",
          "text": [
            "100%|██████████| 469/469 [00:35<00:00, 13.05it/s]\n"
          ]
        },
        {
          "output_type": "stream",
          "name": "stdout",
          "text": [
            "train Loss: 0.3346 Acc: 0.8301\n"
          ]
        },
        {
          "output_type": "stream",
          "name": "stderr",
          "text": [
            "100%|██████████| 8/8 [00:00<00:00, 10.96it/s]\n"
          ]
        },
        {
          "output_type": "stream",
          "name": "stdout",
          "text": [
            "val Loss: 0.3623 Acc: 0.8458\n",
            "Epoch 9/100\n",
            "----------\n"
          ]
        },
        {
          "output_type": "stream",
          "name": "stderr",
          "text": [
            "100%|██████████| 469/469 [00:36<00:00, 12.98it/s]\n"
          ]
        },
        {
          "output_type": "stream",
          "name": "stdout",
          "text": [
            "train Loss: 0.3303 Acc: 0.8322\n"
          ]
        },
        {
          "output_type": "stream",
          "name": "stderr",
          "text": [
            "100%|██████████| 8/8 [00:00<00:00, 11.15it/s]\n"
          ]
        },
        {
          "output_type": "stream",
          "name": "stdout",
          "text": [
            "val Loss: 0.3699 Acc: 0.8208\n",
            "Epoch 10/100\n",
            "----------\n"
          ]
        },
        {
          "output_type": "stream",
          "name": "stderr",
          "text": [
            "100%|██████████| 469/469 [00:36<00:00, 12.83it/s]\n"
          ]
        },
        {
          "output_type": "stream",
          "name": "stdout",
          "text": [
            "train Loss: 0.3229 Acc: 0.8375\n"
          ]
        },
        {
          "output_type": "stream",
          "name": "stderr",
          "text": [
            "100%|██████████| 8/8 [00:00<00:00, 11.43it/s]\n"
          ]
        },
        {
          "output_type": "stream",
          "name": "stdout",
          "text": [
            "val Loss: 0.3697 Acc: 0.8250\n",
            "Epoch 11/100\n",
            "----------\n"
          ]
        },
        {
          "output_type": "stream",
          "name": "stderr",
          "text": [
            "100%|██████████| 469/469 [00:36<00:00, 12.99it/s]\n"
          ]
        },
        {
          "output_type": "stream",
          "name": "stdout",
          "text": [
            "train Loss: 0.3228 Acc: 0.8425\n"
          ]
        },
        {
          "output_type": "stream",
          "name": "stderr",
          "text": [
            "100%|██████████| 8/8 [00:00<00:00, 11.83it/s]\n"
          ]
        },
        {
          "output_type": "stream",
          "name": "stdout",
          "text": [
            "val Loss: 0.3690 Acc: 0.8208\n",
            "Epoch 12/100\n",
            "----------\n"
          ]
        },
        {
          "output_type": "stream",
          "name": "stderr",
          "text": [
            "100%|██████████| 469/469 [00:35<00:00, 13.37it/s]\n"
          ]
        },
        {
          "output_type": "stream",
          "name": "stdout",
          "text": [
            "train Loss: 0.3211 Acc: 0.8385\n"
          ]
        },
        {
          "output_type": "stream",
          "name": "stderr",
          "text": [
            "100%|██████████| 8/8 [00:00<00:00, 11.36it/s]\n"
          ]
        },
        {
          "output_type": "stream",
          "name": "stdout",
          "text": [
            "val Loss: 0.3687 Acc: 0.8208\n",
            "Epoch 13/100\n",
            "----------\n"
          ]
        },
        {
          "output_type": "stream",
          "name": "stderr",
          "text": [
            "100%|██████████| 469/469 [00:35<00:00, 13.40it/s]\n"
          ]
        },
        {
          "output_type": "stream",
          "name": "stdout",
          "text": [
            "train Loss: 0.3240 Acc: 0.8417\n"
          ]
        },
        {
          "output_type": "stream",
          "name": "stderr",
          "text": [
            "100%|██████████| 8/8 [00:00<00:00, 12.39it/s]\n"
          ]
        },
        {
          "output_type": "stream",
          "name": "stdout",
          "text": [
            "val Loss: 0.3659 Acc: 0.8167\n",
            "Epoch 14/100\n",
            "----------\n"
          ]
        },
        {
          "output_type": "stream",
          "name": "stderr",
          "text": [
            "100%|██████████| 469/469 [00:35<00:00, 13.35it/s]\n"
          ]
        },
        {
          "output_type": "stream",
          "name": "stdout",
          "text": [
            "train Loss: 0.3256 Acc: 0.8394\n"
          ]
        },
        {
          "output_type": "stream",
          "name": "stderr",
          "text": [
            "100%|██████████| 8/8 [00:00<00:00, 12.02it/s]\n"
          ]
        },
        {
          "output_type": "stream",
          "name": "stdout",
          "text": [
            "val Loss: 0.3659 Acc: 0.8167\n",
            "Epoch 15/100\n",
            "----------\n"
          ]
        },
        {
          "output_type": "stream",
          "name": "stderr",
          "text": [
            "100%|██████████| 469/469 [00:35<00:00, 13.34it/s]\n"
          ]
        },
        {
          "output_type": "stream",
          "name": "stdout",
          "text": [
            "train Loss: 0.3228 Acc: 0.8354\n"
          ]
        },
        {
          "output_type": "stream",
          "name": "stderr",
          "text": [
            "100%|██████████| 8/8 [00:00<00:00, 11.85it/s]\n"
          ]
        },
        {
          "output_type": "stream",
          "name": "stdout",
          "text": [
            "val Loss: 0.3694 Acc: 0.8208\n",
            "Epoch 16/100\n",
            "----------\n"
          ]
        },
        {
          "output_type": "stream",
          "name": "stderr",
          "text": [
            "100%|██████████| 469/469 [00:35<00:00, 13.32it/s]\n"
          ]
        },
        {
          "output_type": "stream",
          "name": "stdout",
          "text": [
            "train Loss: 0.3197 Acc: 0.8365\n"
          ]
        },
        {
          "output_type": "stream",
          "name": "stderr",
          "text": [
            "100%|██████████| 8/8 [00:00<00:00, 11.14it/s]\n"
          ]
        },
        {
          "output_type": "stream",
          "name": "stdout",
          "text": [
            "val Loss: 0.3696 Acc: 0.8208\n",
            "Epoch 17/100\n",
            "----------\n"
          ]
        },
        {
          "output_type": "stream",
          "name": "stderr",
          "text": [
            "100%|██████████| 469/469 [00:35<00:00, 13.09it/s]\n"
          ]
        },
        {
          "output_type": "stream",
          "name": "stdout",
          "text": [
            "train Loss: 0.3206 Acc: 0.8379\n"
          ]
        },
        {
          "output_type": "stream",
          "name": "stderr",
          "text": [
            "100%|██████████| 8/8 [00:00<00:00, 11.26it/s]\n"
          ]
        },
        {
          "output_type": "stream",
          "name": "stdout",
          "text": [
            "val Loss: 0.3695 Acc: 0.8208\n",
            "Epoch 18/100\n",
            "----------\n"
          ]
        },
        {
          "output_type": "stream",
          "name": "stderr",
          "text": [
            "100%|██████████| 469/469 [00:34<00:00, 13.41it/s]\n"
          ]
        },
        {
          "output_type": "stream",
          "name": "stdout",
          "text": [
            "train Loss: 0.3167 Acc: 0.8413\n"
          ]
        },
        {
          "output_type": "stream",
          "name": "stderr",
          "text": [
            "100%|██████████| 8/8 [00:00<00:00, 11.69it/s]\n"
          ]
        },
        {
          "output_type": "stream",
          "name": "stdout",
          "text": [
            "val Loss: 0.3696 Acc: 0.8208\n",
            "Epoch 19/100\n",
            "----------\n"
          ]
        },
        {
          "output_type": "stream",
          "name": "stderr",
          "text": [
            "100%|██████████| 469/469 [00:35<00:00, 13.37it/s]\n"
          ]
        },
        {
          "output_type": "stream",
          "name": "stdout",
          "text": [
            "train Loss: 0.3233 Acc: 0.8369\n"
          ]
        },
        {
          "output_type": "stream",
          "name": "stderr",
          "text": [
            "100%|██████████| 8/8 [00:00<00:00, 11.40it/s]\n"
          ]
        },
        {
          "output_type": "stream",
          "name": "stdout",
          "text": [
            "val Loss: 0.3698 Acc: 0.8208\n",
            "Epoch 20/100\n",
            "----------\n"
          ]
        },
        {
          "output_type": "stream",
          "name": "stderr",
          "text": [
            "100%|██████████| 469/469 [00:35<00:00, 13.35it/s]\n"
          ]
        },
        {
          "output_type": "stream",
          "name": "stdout",
          "text": [
            "train Loss: 0.3248 Acc: 0.8362\n"
          ]
        },
        {
          "output_type": "stream",
          "name": "stderr",
          "text": [
            "100%|██████████| 8/8 [00:00<00:00, 11.33it/s]\n"
          ]
        },
        {
          "output_type": "stream",
          "name": "stdout",
          "text": [
            "val Loss: 0.3695 Acc: 0.8208\n",
            "Model checkpoint saved at epoch 20!\n",
            "Epoch 21/100\n",
            "----------\n"
          ]
        },
        {
          "output_type": "stream",
          "name": "stderr",
          "text": [
            "100%|██████████| 469/469 [00:35<00:00, 13.30it/s]\n"
          ]
        },
        {
          "output_type": "stream",
          "name": "stdout",
          "text": [
            "train Loss: 0.3255 Acc: 0.8381\n"
          ]
        },
        {
          "output_type": "stream",
          "name": "stderr",
          "text": [
            "100%|██████████| 8/8 [00:00<00:00, 12.71it/s]\n"
          ]
        },
        {
          "output_type": "stream",
          "name": "stdout",
          "text": [
            "val Loss: 0.3696 Acc: 0.8208\n",
            "Epoch 22/100\n",
            "----------\n"
          ]
        },
        {
          "output_type": "stream",
          "name": "stderr",
          "text": [
            "100%|██████████| 469/469 [00:34<00:00, 13.44it/s]\n"
          ]
        },
        {
          "output_type": "stream",
          "name": "stdout",
          "text": [
            "train Loss: 0.3243 Acc: 0.8354\n"
          ]
        },
        {
          "output_type": "stream",
          "name": "stderr",
          "text": [
            "100%|██████████| 8/8 [00:00<00:00, 12.10it/s]\n"
          ]
        },
        {
          "output_type": "stream",
          "name": "stdout",
          "text": [
            "val Loss: 0.3696 Acc: 0.8208\n",
            "Epoch 23/100\n",
            "----------\n"
          ]
        },
        {
          "output_type": "stream",
          "name": "stderr",
          "text": [
            "100%|██████████| 469/469 [00:35<00:00, 13.23it/s]\n"
          ]
        },
        {
          "output_type": "stream",
          "name": "stdout",
          "text": [
            "train Loss: 0.3218 Acc: 0.8377\n"
          ]
        },
        {
          "output_type": "stream",
          "name": "stderr",
          "text": [
            "100%|██████████| 8/8 [00:00<00:00, 11.46it/s]\n"
          ]
        },
        {
          "output_type": "stream",
          "name": "stdout",
          "text": [
            "val Loss: 0.3696 Acc: 0.8208\n",
            "Epoch 24/100\n",
            "----------\n"
          ]
        },
        {
          "output_type": "stream",
          "name": "stderr",
          "text": [
            "100%|██████████| 469/469 [00:35<00:00, 13.33it/s]\n"
          ]
        },
        {
          "output_type": "stream",
          "name": "stdout",
          "text": [
            "train Loss: 0.3186 Acc: 0.8383\n"
          ]
        },
        {
          "output_type": "stream",
          "name": "stderr",
          "text": [
            "100%|██████████| 8/8 [00:00<00:00, 10.84it/s]\n"
          ]
        },
        {
          "output_type": "stream",
          "name": "stdout",
          "text": [
            "val Loss: 0.3696 Acc: 0.8208\n",
            "Epoch 25/100\n",
            "----------\n"
          ]
        },
        {
          "output_type": "stream",
          "name": "stderr",
          "text": [
            "100%|██████████| 469/469 [00:35<00:00, 13.38it/s]\n"
          ]
        },
        {
          "output_type": "stream",
          "name": "stdout",
          "text": [
            "train Loss: 0.3219 Acc: 0.8391\n"
          ]
        },
        {
          "output_type": "stream",
          "name": "stderr",
          "text": [
            "100%|██████████| 8/8 [00:00<00:00, 11.89it/s]\n"
          ]
        },
        {
          "output_type": "stream",
          "name": "stdout",
          "text": [
            "val Loss: 0.3696 Acc: 0.8208\n",
            "Epoch 26/100\n",
            "----------\n"
          ]
        },
        {
          "output_type": "stream",
          "name": "stderr",
          "text": [
            "100%|██████████| 469/469 [00:35<00:00, 13.24it/s]\n"
          ]
        },
        {
          "output_type": "stream",
          "name": "stdout",
          "text": [
            "train Loss: 0.3215 Acc: 0.8395\n"
          ]
        },
        {
          "output_type": "stream",
          "name": "stderr",
          "text": [
            "100%|██████████| 8/8 [00:00<00:00, 11.59it/s]\n"
          ]
        },
        {
          "output_type": "stream",
          "name": "stdout",
          "text": [
            "val Loss: 0.3696 Acc: 0.8208\n",
            "Epoch 27/100\n",
            "----------\n"
          ]
        },
        {
          "output_type": "stream",
          "name": "stderr",
          "text": [
            "100%|██████████| 469/469 [00:36<00:00, 12.81it/s]\n"
          ]
        },
        {
          "output_type": "stream",
          "name": "stdout",
          "text": [
            "train Loss: 0.3246 Acc: 0.8376\n"
          ]
        },
        {
          "output_type": "stream",
          "name": "stderr",
          "text": [
            "100%|██████████| 8/8 [00:00<00:00, 10.67it/s]\n"
          ]
        },
        {
          "output_type": "stream",
          "name": "stdout",
          "text": [
            "val Loss: 0.3696 Acc: 0.8208\n",
            "Epoch 28/100\n",
            "----------\n"
          ]
        },
        {
          "output_type": "stream",
          "name": "stderr",
          "text": [
            "100%|██████████| 469/469 [00:36<00:00, 12.74it/s]\n"
          ]
        },
        {
          "output_type": "stream",
          "name": "stdout",
          "text": [
            "train Loss: 0.3180 Acc: 0.8411\n"
          ]
        },
        {
          "output_type": "stream",
          "name": "stderr",
          "text": [
            "100%|██████████| 8/8 [00:00<00:00,  9.86it/s]\n"
          ]
        },
        {
          "output_type": "stream",
          "name": "stdout",
          "text": [
            "val Loss: 0.3696 Acc: 0.8208\n",
            "Early stopping triggered.\n",
            "Training complete in 16m 52s\n",
            "Best val loss: 0.3593\n"
          ]
        },
        {
          "output_type": "display_data",
          "data": {
            "text/plain": [
              "<Figure size 1000x500 with 1 Axes>"
            ],
            "image/png": "[encoded data removed]"
          },
          "metadata": {}
        },
        {
          "output_type": "display_data",
          "data": {
            "text/plain": [
              "<Figure size 1000x500 with 1 Axes>"
            ],
            "image/png": "[encoded data removed]"
          },
          "metadata": {}
        },
        {
          "output_type": "stream",
          "name": "stdout",
          "text": [
            "Epoch 1/100\n",
            "----------\n"
          ]
        },
        {
          "output_type": "stream",
          "name": "stderr",
          "text": [
            "100%|██████████| 469/469 [00:37<00:00, 12.38it/s]\n"
          ]
        },
        {
          "output_type": "stream",
          "name": "stdout",
          "text": [
            "train Loss: 0.4415 Acc: 0.7760\n"
          ]
        },
        {
          "output_type": "stream",
          "name": "stderr",
          "text": [
            "100%|██████████| 8/8 [00:00<00:00, 10.88it/s]\n"
          ]
        },
        {
          "output_type": "stream",
          "name": "stdout",
          "text": [
            "val Loss: 0.3680 Acc: 0.8458\n",
            "New best epoch: 1, Loss: 0.3680\n",
            "Epoch 2/100\n",
            "----------\n"
          ]
        },
        {
          "output_type": "stream",
          "name": "stderr",
          "text": [
            "100%|██████████| 469/469 [00:37<00:00, 12.66it/s]\n"
          ]
        },
        {
          "output_type": "stream",
          "name": "stdout",
          "text": [
            "train Loss: 0.3786 Acc: 0.8041\n"
          ]
        },
        {
          "output_type": "stream",
          "name": "stderr",
          "text": [
            "100%|██████████| 8/8 [00:00<00:00, 10.56it/s]\n"
          ]
        },
        {
          "output_type": "stream",
          "name": "stdout",
          "text": [
            "val Loss: 0.3641 Acc: 0.8167\n",
            "New best epoch: 2, Loss: 0.3641\n",
            "Epoch 3/100\n",
            "----------\n"
          ]
        },
        {
          "output_type": "stream",
          "name": "stderr",
          "text": [
            "100%|██████████| 469/469 [00:36<00:00, 12.75it/s]\n"
          ]
        },
        {
          "output_type": "stream",
          "name": "stdout",
          "text": [
            "train Loss: 0.3630 Acc: 0.8158\n"
          ]
        },
        {
          "output_type": "stream",
          "name": "stderr",
          "text": [
            "100%|██████████| 8/8 [00:00<00:00, 11.13it/s]\n"
          ]
        },
        {
          "output_type": "stream",
          "name": "stdout",
          "text": [
            "val Loss: 0.3672 Acc: 0.8250\n",
            "Epoch 4/100\n",
            "----------\n"
          ]
        },
        {
          "output_type": "stream",
          "name": "stderr",
          "text": [
            "100%|██████████| 469/469 [00:36<00:00, 12.73it/s]\n"
          ]
        },
        {
          "output_type": "stream",
          "name": "stdout",
          "text": [
            "train Loss: 0.3528 Acc: 0.8243\n"
          ]
        },
        {
          "output_type": "stream",
          "name": "stderr",
          "text": [
            "100%|██████████| 8/8 [00:00<00:00, 10.85it/s]\n"
          ]
        },
        {
          "output_type": "stream",
          "name": "stdout",
          "text": [
            "val Loss: 0.3571 Acc: 0.8458\n",
            "New best epoch: 4, Loss: 0.3571\n",
            "Epoch 5/100\n",
            "----------\n"
          ]
        },
        {
          "output_type": "stream",
          "name": "stderr",
          "text": [
            "100%|██████████| 469/469 [00:36<00:00, 13.01it/s]\n"
          ]
        },
        {
          "output_type": "stream",
          "name": "stdout",
          "text": [
            "train Loss: 0.3465 Acc: 0.8221\n"
          ]
        },
        {
          "output_type": "stream",
          "name": "stderr",
          "text": [
            "100%|██████████| 8/8 [00:00<00:00, 11.96it/s]\n"
          ]
        },
        {
          "output_type": "stream",
          "name": "stdout",
          "text": [
            "val Loss: 0.3804 Acc: 0.8167\n",
            "Epoch 6/100\n",
            "----------\n"
          ]
        },
        {
          "output_type": "stream",
          "name": "stderr",
          "text": [
            "100%|██████████| 469/469 [00:35<00:00, 13.36it/s]\n"
          ]
        },
        {
          "output_type": "stream",
          "name": "stdout",
          "text": [
            "train Loss: 0.3371 Acc: 0.8306\n"
          ]
        },
        {
          "output_type": "stream",
          "name": "stderr",
          "text": [
            "100%|██████████| 8/8 [00:00<00:00, 11.62it/s]\n"
          ]
        },
        {
          "output_type": "stream",
          "name": "stdout",
          "text": [
            "val Loss: 0.3655 Acc: 0.8292\n",
            "Epoch 7/100\n",
            "----------\n"
          ]
        },
        {
          "output_type": "stream",
          "name": "stderr",
          "text": [
            "100%|██████████| 469/469 [00:35<00:00, 13.21it/s]\n"
          ]
        },
        {
          "output_type": "stream",
          "name": "stdout",
          "text": [
            "train Loss: 0.3332 Acc: 0.8313\n"
          ]
        },
        {
          "output_type": "stream",
          "name": "stderr",
          "text": [
            "100%|██████████| 8/8 [00:00<00:00, 10.67it/s]\n"
          ]
        },
        {
          "output_type": "stream",
          "name": "stdout",
          "text": [
            "val Loss: 0.3933 Acc: 0.8083\n",
            "Epoch 8/100\n",
            "----------\n"
          ]
        },
        {
          "output_type": "stream",
          "name": "stderr",
          "text": [
            "100%|██████████| 469/469 [00:35<00:00, 13.21it/s]\n"
          ]
        },
        {
          "output_type": "stream",
          "name": "stdout",
          "text": [
            "train Loss: 0.3267 Acc: 0.8345\n"
          ]
        },
        {
          "output_type": "stream",
          "name": "stderr",
          "text": [
            "100%|██████████| 8/8 [00:00<00:00, 11.20it/s]\n"
          ]
        },
        {
          "output_type": "stream",
          "name": "stdout",
          "text": [
            "val Loss: 0.3799 Acc: 0.8167\n",
            "Epoch 9/100\n",
            "----------\n"
          ]
        },
        {
          "output_type": "stream",
          "name": "stderr",
          "text": [
            "100%|██████████| 469/469 [00:35<00:00, 13.30it/s]\n"
          ]
        },
        {
          "output_type": "stream",
          "name": "stdout",
          "text": [
            "train Loss: 0.3267 Acc: 0.8347\n"
          ]
        },
        {
          "output_type": "stream",
          "name": "stderr",
          "text": [
            "100%|██████████| 8/8 [00:00<00:00, 12.36it/s]\n"
          ]
        },
        {
          "output_type": "stream",
          "name": "stdout",
          "text": [
            "val Loss: 0.3868 Acc: 0.8250\n",
            "Epoch 10/100\n",
            "----------\n"
          ]
        },
        {
          "output_type": "stream",
          "name": "stderr",
          "text": [
            "100%|██████████| 469/469 [00:34<00:00, 13.51it/s]\n"
          ]
        },
        {
          "output_type": "stream",
          "name": "stdout",
          "text": [
            "train Loss: 0.3201 Acc: 0.8401\n"
          ]
        },
        {
          "output_type": "stream",
          "name": "stderr",
          "text": [
            "100%|██████████| 8/8 [00:00<00:00, 11.82it/s]\n"
          ]
        },
        {
          "output_type": "stream",
          "name": "stdout",
          "text": [
            "val Loss: 0.3706 Acc: 0.8292\n",
            "Epoch 11/100\n",
            "----------\n"
          ]
        },
        {
          "output_type": "stream",
          "name": "stderr",
          "text": [
            "100%|██████████| 469/469 [00:34<00:00, 13.49it/s]\n"
          ]
        },
        {
          "output_type": "stream",
          "name": "stdout",
          "text": [
            "train Loss: 0.3178 Acc: 0.8375\n"
          ]
        },
        {
          "output_type": "stream",
          "name": "stderr",
          "text": [
            "100%|██████████| 8/8 [00:00<00:00, 10.93it/s]\n"
          ]
        },
        {
          "output_type": "stream",
          "name": "stdout",
          "text": [
            "val Loss: 0.3770 Acc: 0.8125\n",
            "Epoch 12/100\n",
            "----------\n"
          ]
        },
        {
          "output_type": "stream",
          "name": "stderr",
          "text": [
            "100%|██████████| 469/469 [00:34<00:00, 13.44it/s]\n"
          ]
        },
        {
          "output_type": "stream",
          "name": "stdout",
          "text": [
            "train Loss: 0.3174 Acc: 0.8413\n"
          ]
        },
        {
          "output_type": "stream",
          "name": "stderr",
          "text": [
            "100%|██████████| 8/8 [00:00<00:00, 11.81it/s]\n"
          ]
        },
        {
          "output_type": "stream",
          "name": "stdout",
          "text": [
            "val Loss: 0.3823 Acc: 0.8167\n",
            "Epoch 13/100\n",
            "----------\n"
          ]
        },
        {
          "output_type": "stream",
          "name": "stderr",
          "text": [
            "100%|██████████| 469/469 [00:34<00:00, 13.54it/s]\n"
          ]
        },
        {
          "output_type": "stream",
          "name": "stdout",
          "text": [
            "train Loss: 0.3204 Acc: 0.8384\n"
          ]
        },
        {
          "output_type": "stream",
          "name": "stderr",
          "text": [
            "100%|██████████| 8/8 [00:00<00:00, 11.53it/s]\n"
          ]
        },
        {
          "output_type": "stream",
          "name": "stdout",
          "text": [
            "val Loss: 0.3830 Acc: 0.8125\n",
            "Epoch 14/100\n",
            "----------\n"
          ]
        },
        {
          "output_type": "stream",
          "name": "stderr",
          "text": [
            "100%|██████████| 469/469 [00:34<00:00, 13.44it/s]\n"
          ]
        },
        {
          "output_type": "stream",
          "name": "stdout",
          "text": [
            "train Loss: 0.3148 Acc: 0.8393\n"
          ]
        },
        {
          "output_type": "stream",
          "name": "stderr",
          "text": [
            "100%|██████████| 8/8 [00:00<00:00, 10.48it/s]\n"
          ]
        },
        {
          "output_type": "stream",
          "name": "stdout",
          "text": [
            "val Loss: 0.3854 Acc: 0.8167\n",
            "Epoch 15/100\n",
            "----------\n"
          ]
        },
        {
          "output_type": "stream",
          "name": "stderr",
          "text": [
            "100%|██████████| 469/469 [00:34<00:00, 13.40it/s]\n"
          ]
        },
        {
          "output_type": "stream",
          "name": "stdout",
          "text": [
            "train Loss: 0.3182 Acc: 0.8380\n"
          ]
        },
        {
          "output_type": "stream",
          "name": "stderr",
          "text": [
            "100%|██████████| 8/8 [00:00<00:00, 11.72it/s]\n"
          ]
        },
        {
          "output_type": "stream",
          "name": "stdout",
          "text": [
            "val Loss: 0.3870 Acc: 0.8167\n",
            "Epoch 16/100\n",
            "----------\n"
          ]
        },
        {
          "output_type": "stream",
          "name": "stderr",
          "text": [
            "100%|██████████| 469/469 [00:35<00:00, 13.35it/s]\n"
          ]
        },
        {
          "output_type": "stream",
          "name": "stdout",
          "text": [
            "train Loss: 0.3162 Acc: 0.8446\n"
          ]
        },
        {
          "output_type": "stream",
          "name": "stderr",
          "text": [
            "100%|██████████| 8/8 [00:00<00:00, 11.42it/s]\n"
          ]
        },
        {
          "output_type": "stream",
          "name": "stdout",
          "text": [
            "val Loss: 0.3838 Acc: 0.8125\n",
            "Epoch 17/100\n",
            "----------\n"
          ]
        },
        {
          "output_type": "stream",
          "name": "stderr",
          "text": [
            "100%|██████████| 469/469 [00:35<00:00, 13.35it/s]\n"
          ]
        },
        {
          "output_type": "stream",
          "name": "stdout",
          "text": [
            "train Loss: 0.3177 Acc: 0.8407\n"
          ]
        },
        {
          "output_type": "stream",
          "name": "stderr",
          "text": [
            "100%|██████████| 8/8 [00:00<00:00, 12.24it/s]\n"
          ]
        },
        {
          "output_type": "stream",
          "name": "stdout",
          "text": [
            "val Loss: 0.3840 Acc: 0.8125\n",
            "Epoch 18/100\n",
            "----------\n"
          ]
        },
        {
          "output_type": "stream",
          "name": "stderr",
          "text": [
            "100%|██████████| 469/469 [00:36<00:00, 12.95it/s]\n"
          ]
        },
        {
          "output_type": "stream",
          "name": "stdout",
          "text": [
            "train Loss: 0.3181 Acc: 0.8394\n"
          ]
        },
        {
          "output_type": "stream",
          "name": "stderr",
          "text": [
            "100%|██████████| 8/8 [00:00<00:00,  9.97it/s]\n"
          ]
        },
        {
          "output_type": "stream",
          "name": "stdout",
          "text": [
            "val Loss: 0.3843 Acc: 0.8125\n",
            "Epoch 19/100\n",
            "----------\n"
          ]
        },
        {
          "output_type": "stream",
          "name": "stderr",
          "text": [
            "100%|██████████| 469/469 [00:37<00:00, 12.43it/s]\n"
          ]
        },
        {
          "output_type": "stream",
          "name": "stdout",
          "text": [
            "train Loss: 0.3144 Acc: 0.8373\n"
          ]
        },
        {
          "output_type": "stream",
          "name": "stderr",
          "text": [
            "100%|██████████| 8/8 [00:00<00:00,  9.92it/s]\n"
          ]
        },
        {
          "output_type": "stream",
          "name": "stdout",
          "text": [
            "val Loss: 0.3846 Acc: 0.8125\n",
            "Epoch 20/100\n",
            "----------\n"
          ]
        },
        {
          "output_type": "stream",
          "name": "stderr",
          "text": [
            "100%|██████████| 469/469 [00:36<00:00, 12.69it/s]\n"
          ]
        },
        {
          "output_type": "stream",
          "name": "stdout",
          "text": [
            "train Loss: 0.3152 Acc: 0.8433\n"
          ]
        },
        {
          "output_type": "stream",
          "name": "stderr",
          "text": [
            "100%|██████████| 8/8 [00:00<00:00, 10.42it/s]\n"
          ]
        },
        {
          "output_type": "stream",
          "name": "stdout",
          "text": [
            "val Loss: 0.3850 Acc: 0.8125\n",
            "Model checkpoint saved at epoch 20!\n",
            "Epoch 21/100\n",
            "----------\n"
          ]
        },
        {
          "output_type": "stream",
          "name": "stderr",
          "text": [
            "100%|██████████| 469/469 [00:38<00:00, 12.06it/s]\n"
          ]
        },
        {
          "output_type": "stream",
          "name": "stdout",
          "text": [
            "train Loss: 0.3191 Acc: 0.8407\n"
          ]
        },
        {
          "output_type": "stream",
          "name": "stderr",
          "text": [
            "100%|██████████| 8/8 [00:00<00:00, 10.70it/s]\n"
          ]
        },
        {
          "output_type": "stream",
          "name": "stdout",
          "text": [
            "val Loss: 0.3850 Acc: 0.8125\n",
            "Epoch 22/100\n",
            "----------\n"
          ]
        },
        {
          "output_type": "stream",
          "name": "stderr",
          "text": [
            "100%|██████████| 469/469 [00:38<00:00, 12.33it/s]\n"
          ]
        },
        {
          "output_type": "stream",
          "name": "stdout",
          "text": [
            "train Loss: 0.3170 Acc: 0.8420\n"
          ]
        },
        {
          "output_type": "stream",
          "name": "stderr",
          "text": [
            "100%|██████████| 8/8 [00:00<00:00, 10.78it/s]\n"
          ]
        },
        {
          "output_type": "stream",
          "name": "stdout",
          "text": [
            "val Loss: 0.3851 Acc: 0.8125\n",
            "Epoch 23/100\n",
            "----------\n"
          ]
        },
        {
          "output_type": "stream",
          "name": "stderr",
          "text": [
            "100%|██████████| 469/469 [00:37<00:00, 12.40it/s]\n"
          ]
        },
        {
          "output_type": "stream",
          "name": "stdout",
          "text": [
            "train Loss: 0.3201 Acc: 0.8429\n"
          ]
        },
        {
          "output_type": "stream",
          "name": "stderr",
          "text": [
            "100%|██████████| 8/8 [00:00<00:00, 11.36it/s]\n"
          ]
        },
        {
          "output_type": "stream",
          "name": "stdout",
          "text": [
            "val Loss: 0.3851 Acc: 0.8125\n",
            "Epoch 24/100\n",
            "----------\n"
          ]
        },
        {
          "output_type": "stream",
          "name": "stderr",
          "text": [
            "100%|██████████| 469/469 [00:37<00:00, 12.44it/s]\n"
          ]
        },
        {
          "output_type": "stream",
          "name": "stdout",
          "text": [
            "train Loss: 0.3206 Acc: 0.8395\n"
          ]
        },
        {
          "output_type": "stream",
          "name": "stderr",
          "text": [
            "100%|██████████| 8/8 [00:00<00:00, 10.43it/s]\n"
          ]
        },
        {
          "output_type": "stream",
          "name": "stdout",
          "text": [
            "val Loss: 0.3851 Acc: 0.8125\n",
            "Epoch 25/100\n",
            "----------\n"
          ]
        },
        {
          "output_type": "stream",
          "name": "stderr",
          "text": [
            "100%|██████████| 469/469 [00:37<00:00, 12.49it/s]\n"
          ]
        },
        {
          "output_type": "stream",
          "name": "stdout",
          "text": [
            "train Loss: 0.3125 Acc: 0.8389\n"
          ]
        },
        {
          "output_type": "stream",
          "name": "stderr",
          "text": [
            "100%|██████████| 8/8 [00:00<00:00, 11.26it/s]\n"
          ]
        },
        {
          "output_type": "stream",
          "name": "stdout",
          "text": [
            "val Loss: 0.3851 Acc: 0.8125\n",
            "Epoch 26/100\n",
            "----------\n"
          ]
        },
        {
          "output_type": "stream",
          "name": "stderr",
          "text": [
            "100%|██████████| 469/469 [00:37<00:00, 12.41it/s]\n"
          ]
        },
        {
          "output_type": "stream",
          "name": "stdout",
          "text": [
            "train Loss: 0.3142 Acc: 0.8423\n"
          ]
        },
        {
          "output_type": "stream",
          "name": "stderr",
          "text": [
            "100%|██████████| 8/8 [00:00<00:00, 11.13it/s]\n"
          ]
        },
        {
          "output_type": "stream",
          "name": "stdout",
          "text": [
            "val Loss: 0.3852 Acc: 0.8125\n",
            "Epoch 27/100\n",
            "----------\n"
          ]
        },
        {
          "output_type": "stream",
          "name": "stderr",
          "text": [
            "100%|██████████| 469/469 [00:37<00:00, 12.54it/s]\n"
          ]
        },
        {
          "output_type": "stream",
          "name": "stdout",
          "text": [
            "train Loss: 0.3135 Acc: 0.8421\n"
          ]
        },
        {
          "output_type": "stream",
          "name": "stderr",
          "text": [
            "100%|██████████| 8/8 [00:00<00:00, 10.46it/s]\n"
          ]
        },
        {
          "output_type": "stream",
          "name": "stdout",
          "text": [
            "val Loss: 0.3852 Acc: 0.8125\n",
            "Epoch 28/100\n",
            "----------\n"
          ]
        },
        {
          "output_type": "stream",
          "name": "stderr",
          "text": [
            "100%|██████████| 469/469 [00:36<00:00, 12.70it/s]\n"
          ]
        },
        {
          "output_type": "stream",
          "name": "stdout",
          "text": [
            "train Loss: 0.3161 Acc: 0.8411\n"
          ]
        },
        {
          "output_type": "stream",
          "name": "stderr",
          "text": [
            "100%|██████████| 8/8 [00:00<00:00, 10.27it/s]\n"
          ]
        },
        {
          "output_type": "stream",
          "name": "stdout",
          "text": [
            "val Loss: 0.3852 Acc: 0.8125\n",
            "Epoch 29/100\n",
            "----------\n"
          ]
        },
        {
          "output_type": "stream",
          "name": "stderr",
          "text": [
            "100%|██████████| 469/469 [00:37<00:00, 12.54it/s]\n"
          ]
        },
        {
          "output_type": "stream",
          "name": "stdout",
          "text": [
            "train Loss: 0.3168 Acc: 0.8392\n"
          ]
        },
        {
          "output_type": "stream",
          "name": "stderr",
          "text": [
            "100%|██████████| 8/8 [00:00<00:00, 10.93it/s]\n"
          ]
        },
        {
          "output_type": "stream",
          "name": "stdout",
          "text": [
            "val Loss: 0.3852 Acc: 0.8125\n",
            "Early stopping triggered.\n",
            "Training complete in 17m 58s\n",
            "Best val loss: 0.3571\n"
          ]
        },
        {
          "output_type": "display_data",
          "data": {
            "text/plain": [
              "<Figure size 1000x500 with 1 Axes>"
            ],
            "image/png": "[encoded data removed]"
          },
          "metadata": {}
        },
        {
          "output_type": "display_data",
          "data": {
            "text/plain": [
              "<Figure size 1000x500 with 1 Axes>"
            ],
            "image/png": "[encoded data removed]"
          },
          "metadata": {}
        }
      ],
      "source": [
        "\n",
        "\n",
        "#  Number of samples per class\n",
        "class_counts = [13000, 1993]\n",
        "\n",
        "# Total number of samples\n",
        "total_samples = sum(class_counts)\n",
        "\n",
        "# Calculate inverse frequency weights\n",
        "weights = [total_samples / count for count in class_counts]\n",
        "device = torch.device('cuda' if torch.cuda.is_available() else 'cpu')\n",
        "\n",
        "# Convert to tensor\n",
        "weights_tensor = torch.tensor(weights, dtype=torch.float32).to(device)\n",
        "criterion = torch.nn.CrossEntropyLoss(weight=weights_tensor)\n",
        "\n",
        "\n",
        "# Define arguments\n",
        "class Args:\n",
        "    def __init__(self, seed):\n",
        "        self.batch_size = 32 #16\n",
        "        self.epochs = 100\n",
        "        self.lr = 0.0001 #0.00001\n",
        "        self.momentum = 0.9\n",
        "        self.seed = seed\n",
        "        self.regularizer_rate = 0.0005\n",
        "\n",
        "seeds = [1111, 11111, 111111, 1111111]\n",
        "\n",
        "for seed in seeds:\n",
        "    args = Args(seed)\n",
        "    torch.manual_seed(args.seed)\n",
        "    device = torch.device('cuda' if torch.cuda.is_available() else 'cpu')\n",
        "    model = models.alexnet(pretrained=True)\n",
        "    # Freeze earlier layers\n",
        "    for param in model.features.parameters():\n",
        "        param.requires_grad = False\n",
        "\n",
        "    model.classifier[-1] = nn.Linear(4096, 2)\n",
        "    model.to(device)\n",
        "    regularizer_rate = args.regularizer_rate\n",
        "    num_epochs = args.epochs\n",
        "    params_to_update = model.parameters()\n",
        "    optimizer = optim.SGD(params_to_update, lr=args.lr, momentum=args.momentum, weight_decay=args.regularizer_rate)\n",
        "\n",
        "\n",
        "    model = train_model(model, dataloaders, criterion, optimizer, num_epochs=num_epochs, resume_training=False)\n",
        "    parent_dir = \"/content/drive/MyDrive/Masterthesis/Datasets/isic/models/initial_classifier/\"\n",
        "\n",
        "    torch.save(model.state_dict(), os.path.join(parent_dir, f\"alexnet_isic_{seed}\" + \".pt\"))"
      ]
    },
    {
      "cell_type": "code",
      "source": [
        "import torch\n",
        "import os\n",
        "from torch.utils.data import DataLoader\n",
        "import torch.nn as nn\n",
        "from datetime import datetime\n",
        "\n",
        "def load_model(model_path, device):\n",
        "    print(f\"Loading model from {model_path}\")\n",
        "    model = models.alexnet(pretrained=False)\n",
        "    device = torch.device('cuda' if torch.cuda.is_available() else 'cpu')\n",
        "    model.classifier[-1] = nn.Linear(4096, 2)\n",
        "    model.load_state_dict(torch.load(model_path, map_location=device))\n",
        "    model.to(device)\n",
        "    model.eval()\n",
        "    print(\"Model loaded successfully\")\n",
        "\n",
        "    # Freelze all layers\n",
        "    for param in model.parameters():\n",
        "        param.requires_grad = False\n",
        "\n",
        "    print(\"Model loaded and layers frozen successfully\")\n",
        "    return model\n",
        "\n",
        "# Function to test the model on a specific dataset\n",
        "def test_model(model, dataloader, device):\n",
        "    model.eval()\n",
        "    correct = 0\n",
        "    total = 0\n",
        "    with torch.no_grad():\n",
        "        for inputs, labels, _ in dataloader:  # Ignore group_label\n",
        "            inputs, labels = inputs.to(device), labels.to(device)\n",
        "            outputs = model(inputs)\n",
        "            _, predicted = torch.max(outputs, 1)\n",
        "            total += labels.size(0)\n",
        "            correct += (predicted == labels).sum().item()\n",
        "    accuracy = correct / total * 100\n",
        "    return accuracy\n",
        "\n",
        "\n",
        "\n",
        "\n",
        "test_mal_patch_path = '/content/drive/MyDrive/Masterthesis/Datasets/isic/data/full/test/malignant_patch'\n",
        "test_mal_nopatch_path = '/content/drive/MyDrive/Masterthesis/Datasets/isic/data/full/test/malignant_no_patch'\n",
        "test_ben_patch_path = '/content/drive/MyDrive/Masterthesis/Datasets/isic/data/full/test/benign_patch'\n",
        "test_ben_nopatch_path = '/content/drive/MyDrive/Masterthesis/Datasets/isic/data/full/test/benign_no_patch'\n",
        "\n",
        "\n",
        "\n",
        "# Create datasets for training and validating\n",
        "test_mal_patch_path = ISICDataset(path=test_mal_patch_path, is_malignant=1, group_labels=[1] * len(os.listdir(test_mal_patch_path)), transform=transform)\n",
        "test_mal_nopatch_path = ISICDataset(path=test_mal_nopatch_path, is_malignant=1, group_labels=[0] * len(os.listdir(test_mal_nopatch_path)), transform=transform)\n",
        "test_ben_nopatch_path = ISICDataset(path=test_ben_nopatch_path, is_malignant=0, group_labels=[2] * len(os.listdir(test_ben_nopatch_path)), transform=transform)\n",
        "test_ben_patch_path = ISICDataset(path=test_ben_patch_path, is_malignant=0, group_labels=[3] * len(os.listdir(test_ben_patch_path)), transform=transform)\n",
        "\n",
        "\n",
        "\n",
        "# Create dataloaders for the test datasets\n",
        "batch_size = 32\n",
        "test_loader_mal_patch = DataLoader(test_mal_patch_path, batch_size=batch_size, shuffle=False, num_workers=2)\n",
        "test_loader_mal_nopatch = DataLoader(test_mal_nopatch_path, batch_size=batch_size, shuffle=False, num_workers=2)\n",
        "test_loader_ben_patch = DataLoader(test_ben_patch_path, batch_size=batch_size, shuffle=False, num_workers=2)\n",
        "test_loader_ben_nopatch = DataLoader(test_ben_nopatch_path, batch_size=batch_size, shuffle=False, num_workers=2)\n",
        "\n",
        "\n",
        "# Set the device\n",
        "device = torch.device('cuda' if torch.cuda.is_available() else 'cpu')\n",
        "\n",
        "# Load and test the model for each seed\n",
        "seeds = [1, 11, 1111]\n",
        "for seed in seeds:\n",
        "    model_path = f\"/content/drive/MyDrive/Masterthesis/Datasets/isic/models/initial_classifier/alexnet_isic_{seed}.pt\"\n",
        "\n",
        "    print(f\"\\nLoading model with seed {seed}\")\n",
        "    model = load_model(model_path, device)\n",
        "\n",
        "    # Test on wb oatch dataset\n",
        "    accuracy_mal_patch = test_model(model, test_loader_mal_patch, device)\n",
        "    print(f\"Accuracy on malignant with patch test dataset (class_2): {accuracy_mal_patch:.2f}%\")\n",
        "\n",
        "    # Test on original dataset\n",
        "    accuracy_mal_nopatch = test_model(model, test_loader_mal_nopatch, device)\n",
        "    print(f\"Accuracy on malignant  without patch test dataset (class_2): {accuracy_mal_nopatch:.2f}%\")\n",
        "\n",
        "    accuracy_ben_patch = test_model(model, test_loader_ben_patch, device)\n",
        "    print(f\"Accuracy on benign with patch test dataset (class_2): {accuracy_ben_patch:.2f}%\")\n",
        "\n",
        "    accuracy_ben_nopatch = test_model(model, test_loader_ben_nopatch, device)\n",
        "    print(f\"Accuracy on benign without patch test dataset (class_2): {accuracy_ben_nopatch:.2f}%\")"
      ],
      "metadata": {
        "colab": {
          "base_uri": "https://localhost:8080/"
        },
        "id": "VMxTryBLCjXr",
        "outputId": "9c4229a1-3f60-4e25-f561-a292b4b8f7ad"
      },
      "execution_count": null,
      "outputs": [
        {
          "output_type": "stream",
          "name": "stdout",
          "text": [
            "\n",
            "Loading model with seed 1\n",
            "Loading model from /content/drive/MyDrive/Masterthesis/Datasets/isic/models/initial_classifier/alexnet_isic_1.pt\n"
          ]
        },
        {
          "output_type": "stream",
          "name": "stderr",
          "text": [
            "/usr/local/lib/python3.11/dist-packages/torchvision/models/_utils.py:208: UserWarning: The parameter 'pretrained' is deprecated since 0.13 and may be removed in the future, please use 'weights' instead.\n",
            "  warnings.warn(\n",
            "/usr/local/lib/python3.11/dist-packages/torchvision/models/_utils.py:223: UserWarning: Arguments other than a weight enum or `None` for 'weights' are deprecated since 0.13 and may be removed in the future. The current behavior is equivalent to passing `weights=None`.\n",
            "  warnings.warn(msg)\n",
            "<ipython-input-12-40ca3378a4a7>:12: FutureWarning: You are using `torch.load` with `weights_only=False` (the current default value), which uses the default pickle module implicitly. It is possible to construct malicious pickle data which will execute arbitrary code during unpickling (See https://github.com/pytorch/pytorch/blob/main/SECURITY.md#untrusted-models for more details). In a future release, the default value for `weights_only` will be flipped to `True`. This limits the functions that could be executed during unpickling. Arbitrary objects will no longer be allowed to be loaded via this mode unless they are explicitly allowlisted by the user via `torch.serialization.add_safe_globals`. We recommend you start setting `weights_only=True` for any use case where you don't have full control of the loaded file. Please open an issue on GitHub for any issues related to this experimental feature.\n",
            "  model.load_state_dict(torch.load(model_path, map_location=device))\n"
          ]
        },
        {
          "output_type": "stream",
          "name": "stdout",
          "text": [
            "Model loaded successfully\n",
            "Model loaded and layers frozen successfully\n",
            "Accuracy on malignant with patch test dataset (class_2): 36.50%\n",
            "Accuracy on malignant  without patch test dataset (class_2): 80.00%\n",
            "Accuracy on benign with patch test dataset (class_2): 100.00%\n",
            "Accuracy on benign without patch test dataset (class_2): 77.93%\n",
            "\n",
            "Loading model with seed 11\n",
            "Loading model from /content/drive/MyDrive/Masterthesis/Datasets/isic/models/initial_classifier/alexnet_isic_11.pt\n",
            "Model loaded successfully\n",
            "Model loaded and layers frozen successfully\n",
            "Accuracy on malignant with patch test dataset (class_2): 39.00%\n",
            "Accuracy on malignant  without patch test dataset (class_2): 76.50%\n",
            "Accuracy on benign with patch test dataset (class_2): 99.94%\n",
            "Accuracy on benign without patch test dataset (class_2): 78.65%\n",
            "\n",
            "Loading model with seed 111\n",
            "Loading model from /content/drive/MyDrive/Masterthesis/Datasets/isic/models/initial_classifier/alexnet_isic_111.pt\n",
            "Model loaded successfully\n",
            "Model loaded and layers frozen successfully\n",
            "Accuracy on malignant with patch test dataset (class_2): 39.00%\n",
            "Accuracy on malignant  without patch test dataset (class_2): 81.00%\n",
            "Accuracy on benign with patch test dataset (class_2): 100.00%\n",
            "Accuracy on benign without patch test dataset (class_2): 77.62%\n",
            "\n",
            "Loading model with seed 1111\n",
            "Loading model from /content/drive/MyDrive/Masterthesis/Datasets/isic/models/initial_classifier/alexnet_isic_1111.pt\n",
            "Model loaded successfully\n",
            "Model loaded and layers frozen successfully\n",
            "Accuracy on malignant with patch test dataset (class_2): 40.50%\n",
            "Accuracy on malignant  without patch test dataset (class_2): 81.00%\n",
            "Accuracy on benign with patch test dataset (class_2): 100.00%\n",
            "Accuracy on benign without patch test dataset (class_2): 77.50%\n",
            "\n",
            "Loading model with seed 11111\n",
            "Loading model from /content/drive/MyDrive/Masterthesis/Datasets/isic/models/initial_classifier/alexnet_isic_11111.pt\n",
            "Model loaded successfully\n",
            "Model loaded and layers frozen successfully\n",
            "Accuracy on malignant with patch test dataset (class_2): 38.50%\n",
            "Accuracy on malignant  without patch test dataset (class_2): 81.50%\n",
            "Accuracy on benign with patch test dataset (class_2): 99.94%\n",
            "Accuracy on benign without patch test dataset (class_2): 77.50%\n",
            "\n",
            "Loading model with seed 111111\n",
            "Loading model from /content/drive/MyDrive/Masterthesis/Datasets/isic/models/initial_classifier/alexnet_isic_111111.pt\n",
            "Model loaded successfully\n",
            "Model loaded and layers frozen successfully\n",
            "Accuracy on malignant with patch test dataset (class_2): 39.00%\n",
            "Accuracy on malignant  without patch test dataset (class_2): 79.00%\n",
            "Accuracy on benign with patch test dataset (class_2): 100.00%\n",
            "Accuracy on benign without patch test dataset (class_2): 77.38%\n",
            "\n",
            "Loading model with seed 1111111\n",
            "Loading model from /content/drive/MyDrive/Masterthesis/Datasets/isic/models/initial_classifier/alexnet_isic_1111111.pt\n",
            "Model loaded successfully\n",
            "Model loaded and layers frozen successfully\n",
            "Accuracy on malignant with patch test dataset (class_2): 32.50%\n",
            "Accuracy on malignant  without patch test dataset (class_2): 80.50%\n",
            "Accuracy on benign with patch test dataset (class_2): 99.94%\n",
            "Accuracy on benign without patch test dataset (class_2): 77.80%\n"
          ]
        }
      ]
    },
    {
      "cell_type": "code",
      "execution_count": null,
      "metadata": {
        "id": "dkazt3t5u8_b"
      },
      "outputs": [],
      "source": [
        "import torch\n",
        "import os\n",
        "from torch.utils.data import DataLoader\n",
        "import torch.nn as nn\n",
        "from datetime import datetime\n",
        "\n",
        "def load_model(model_path, device):\n",
        "    print(f\"Loading model from {model_path}\")\n",
        "    model = models.alexnet(pretrained=False)\n",
        "    device = torch.device('cuda' if torch.cuda.is_available() else 'cpu')\n",
        "    model.classifier[-1] = nn.Linear(4096, 2)\n",
        "    model.load_state_dict(torch.load(model_path, map_location=device))\n",
        "    model.to(device)\n",
        "    model.eval()\n",
        "    print(\"Model loaded successfully\")\n",
        "\n",
        "    # Freelze all layers\n",
        "    for param in model.parameters():\n",
        "        param.requires_grad = False\n",
        "\n",
        "    print(\"Model loaded and layers frozen successfully\")\n",
        "    return model\n",
        "\n",
        "# Function to test the model on a specific dataset\n",
        "def test_model(model, dataloader, device):\n",
        "    model.eval()\n",
        "    correct = 0\n",
        "    total = 0\n",
        "    with torch.no_grad():\n",
        "        for inputs, labels, _ in dataloader:  # Ignore group_label\n",
        "            inputs, labels = inputs.to(device), labels.to(device)\n",
        "            outputs = model(inputs)\n",
        "            _, predicted = torch.max(outputs, 1)\n",
        "            total += labels.size(0)\n",
        "            correct += (predicted == labels).sum().item()\n",
        "    accuracy = correct / total * 100\n",
        "    return accuracy\n",
        "\n",
        "\n",
        "\n",
        "\n",
        "test_mal_patch_path = '/content/drive/MyDrive/Masterthesis/Datasets/isic/data/full/test/malignant_patch'\n",
        "test_mal_nopatch_path = '/content/drive/MyDrive/Masterthesis/Datasets/isic/data/full/test/malignant_no_patch'\n",
        "test_ben_patch_path = '/content/drive/MyDrive/Masterthesis/Datasets/isic/data/full/test/benign_patch'\n",
        "test_ben_nopatch_path = '/content/drive/MyDrive/Masterthesis/Datasets/isic/data/full/test/benign_no_patch'\n",
        "\n",
        "\n",
        "\n",
        "# Create datasets for training and validating\n",
        "test_mal_patch_path = ISICDataset(path=test_mal_patch_path, is_malignant=1, group_labels=[1] * len(os.listdir(test_mal_patch_path)), transform=transform)\n",
        "test_mal_nopatch_path = ISICDataset(path=test_mal_nopatch_path, is_malignant=1, group_labels=[0] * len(os.listdir(test_mal_nopatch_path)), transform=transform)\n",
        "test_ben_nopatch_path = ISICDataset(path=test_ben_nopatch_path, is_malignant=0, group_labels=[2] * len(os.listdir(test_ben_nopatch_path)), transform=transform)\n",
        "test_ben_patch_path = ISICDataset(path=test_ben_patch_path, is_malignant=0, group_labels=[3] * len(os.listdir(test_ben_patch_path)), transform=transform)\n",
        "\n",
        "\n",
        "\n",
        "# Create dataloaders for the test datasets\n",
        "batch_size = 32\n",
        "test_loader_mal_patch = DataLoader(test_mal_patch_path, batch_size=batch_size, shuffle=False, num_workers=2)\n",
        "test_loader_mal_nopatch = DataLoader(test_mal_nopatch_path, batch_size=batch_size, shuffle=False, num_workers=2)\n",
        "test_loader_ben_patch = DataLoader(test_ben_patch_path, batch_size=batch_size, shuffle=False, num_workers=2)\n",
        "test_loader_ben_nopatch = DataLoader(test_ben_nopatch_path, batch_size=batch_size, shuffle=False, num_workers=2)\n",
        "\n",
        "\n",
        "device = torch.device('cuda' if torch.cuda.is_available() else 'cpu')\n",
        "\n",
        "seeds = [21, 211, 2111]\n",
        "for seed in seeds:\n",
        "    model_path = f\"/content/drive/MyDrive/Masterthesis/Datasets/isic/models/initial_classifier/alexnet_isic_{seed}.pt\"\n",
        "\n",
        "    print(f\"\\nLoading model with seed {seed}\")\n",
        "    model = load_model(model_path, device)\n",
        "\n",
        "    # Test on wb oatch dataset\n",
        "    accuracy_mal_patch = test_model(model, test_loader_mal_patch, device)\n",
        "    print(f\"Accuracy on malignant with patch test dataset (class_2): {accuracy_mal_patch:.2f}%\")\n",
        "\n",
        "    # Test on original dataset\n",
        "    accuracy_mal_nopatch = test_model(model, test_loader_mal_nopatch, device)\n",
        "    print(f\"Accuracy on malignant  without patch test dataset (class_2): {accuracy_mal_nopatch:.2f}%\")\n",
        "\n",
        "    accuracy_ben_patch = test_model(model, test_loader_ben_patch, device)\n",
        "    print(f\"Accuracy on benign with patch test dataset (class_2): {accuracy_ben_patch:.2f}%\")\n",
        "\n",
        "    accuracy_ben_nopatch = test_model(model, test_loader_ben_nopatch, device)\n",
        "    print(f\"Accuracy on benign without patch test dataset (class_2): {accuracy_ben_nopatch:.2f}%\")"
      ]
    },
    {
      "cell_type": "markdown",
      "metadata": {
        "id": "6CV_2e8Ukj4q"
      },
      "source": [
        "\n",
        "\n",
        "---\n",
        "\n"
      ]
    },
    {
      "cell_type": "markdown",
      "metadata": {
        "id": "yzVOMlhfkmQi"
      },
      "source": [
        "\n",
        "\n",
        "---\n",
        "\n"
      ]
    },
    {
      "cell_type": "markdown",
      "source": [
        "### Train Loss"
      ],
      "metadata": {
        "id": "Pm8bAALlUs8Z"
      }
    },
    {
      "cell_type": "code",
      "execution_count": null,
      "metadata": {
        "id": "O1ZFj98TkKuT"
      },
      "outputs": [],
      "source": [
        "import os\n",
        "import time\n",
        "from datetime import datetime\n",
        "from tqdm import tqdm\n",
        "import torch\n",
        "import torch.nn as nn\n",
        "import torch.optim as optim\n",
        "import matplotlib.pyplot as plt\n",
        "from torchvision import models\n",
        "\n",
        "# Define the gradient_sum function\n",
        "def gradient_sum(im, target, model, crit, device='cuda'):\n",
        "    # Assume that everything is already on cuda.\n",
        "    im.requires_grad = True  # Enable gradient computation for the input image\n",
        "    grad_params = torch.abs(torch.autograd.grad(crit(model(im), target), im, create_graph=True)[0].sum(dim=1)).sum()\n",
        "    return grad_params\n",
        "\n",
        "# Define the train_model function\n",
        "def train_model(model, dataloaders, criterion, optimizer, num_epochs=100, model_training_path='models', device='cuda', resume_training=False):\n",
        "    since = time.time()\n",
        "    best_loss = float('inf')  # Initialize best validation loss to a high value\n",
        "    best_train_loss = float('inf')  # Initialize best training loss to a high value\n",
        "    best_train_acc = 0.0\n",
        "    best_train_acc_epoch = 0\n",
        "    patience = 10\n",
        "    cur_patience = 0\n",
        "\n",
        "    # Create the directory if it does not exist\n",
        "    if not os.path.exists(model_training_path):\n",
        "        os.makedirs(model_training_path)\n",
        "\n",
        "    if resume_training and len(os.listdir(model_training_path)) > 0:\n",
        "        # Check if there are saved model files and resume training if needed\n",
        "        model_list = [(f, os.path.getmtime(os.path.join(model_training_path, f))) for f in os.listdir(model_training_path) if f.endswith('.pt')]\n",
        "        model_list.sort(key=lambda tup: tup[1], reverse=True)  # Sort models by modification time from most to least recent\n",
        "        model_name = model_list[0][0]\n",
        "        model.load_state_dict(torch.load(os.path.join(model_training_path, model_name)))\n",
        "        print(\"Model loaded!\")\n",
        "\n",
        "    # Initialize lists to track loss and accuracy\n",
        "    train_losses = []\n",
        "    val_losses = []\n",
        "    train_accuracies = []\n",
        "    val_accuracies = []\n",
        "\n",
        "    # Define the learning rate scheduler\n",
        "    scheduler = optim.lr_scheduler.ReduceLROnPlateau(optimizer, mode='min', factor=0.1, patience=50, verbose=True)\n",
        "\n",
        "    for epoch in range(1, num_epochs + 1):\n",
        "        print(f'Epoch {epoch}/{num_epochs}')\n",
        "        print('-' * 10)\n",
        "\n",
        "        for phase in ['train', 'val']:\n",
        "            if phase == 'train':\n",
        "                model.train()\n",
        "            else:\n",
        "                model.eval()\n",
        "\n",
        "            running_loss = 0.0\n",
        "            running_corrects = 0\n",
        "            for inputs, labels, group_labels in tqdm(dataloaders[phase], total=len(dataloaders[phase])):\n",
        "                inputs = inputs.to(device)\n",
        "                labels = labels.to(device)\n",
        "\n",
        "                optimizer.zero_grad()  # Zero the parameter gradients\n",
        "\n",
        "                with torch.set_grad_enabled(phase == 'train'):\n",
        "                    outputs = model(inputs)\n",
        "                    _, preds = torch.max(outputs, 1)\n",
        "                    loss = criterion(outputs, labels)\n",
        "                    if phase == 'train':\n",
        "                        loss.backward()\n",
        "\n",
        "                        # Apply gradient clipping\n",
        "                        torch.nn.utils.clip_grad_norm_(model.parameters(), max_norm=2.0)\n",
        "\n",
        "                        optimizer.step()  # Update model parameters\n",
        "\n",
        "                # Statistics\n",
        "                running_loss += loss.item() * inputs.size(0)\n",
        "                running_corrects += torch.sum(preds == labels.data)\n",
        "\n",
        "            epoch_loss = running_loss / len(dataloaders[phase].dataset)\n",
        "            epoch_acc = running_corrects.double() / len(dataloaders[phase].dataset)\n",
        "            print(f'{phase} Loss: {epoch_loss:.4f} Acc: {epoch_acc:.4f}')\n",
        "\n",
        "            if phase == 'train':\n",
        "                # Track the best training loss\n",
        "                if epoch_loss < best_train_loss:\n",
        "                    best_train_loss = epoch_loss\n",
        "                    print(f\"New best training loss at epoch {epoch}: {best_train_loss:.4f}\")\n",
        "\n",
        "                # Track the best training accuracy\n",
        "                if epoch_acc > best_train_acc:\n",
        "                    best_train_acc = epoch_acc\n",
        "                    best_train_acc_epoch = epoch\n",
        "                    print(f\"New best training accuracy at epoch {best_train_acc_epoch}: {best_train_acc:.4f}\")\n",
        "                    cur_patience = 0  # Reset patience if training accuracy improves\n",
        "                else:\n",
        "                    cur_patience += 1  # Increment patience if no improvement\n",
        "                    if cur_patience >= patience:\n",
        "                        print(\"Early stopping triggered based on training accuracy.\")\n",
        "                        break\n",
        "\n",
        "                train_losses.append(epoch_loss)\n",
        "                train_accuracies.append(epoch_acc.cpu().numpy())\n",
        "            else:\n",
        "                val_losses.append(epoch_loss)\n",
        "                val_accuracies.append(epoch_acc.cpu().numpy())\n",
        "                if epoch_loss < best_loss:\n",
        "                    best_loss = epoch_loss\n",
        "                    best_val_epoch = epoch\n",
        "                    print(f\"New best validation loss at epoch {best_val_epoch}: {best_loss:.4f}\")\n",
        "\n",
        "        # Step the learning rate scheduler\n",
        "        scheduler.step(epoch_loss)\n",
        "\n",
        "        # Save checkpoint every 20 epochs\n",
        "        if epoch % 20 == 0:\n",
        "            checkpoint_path = os.path.join(model_training_path, f\"epoch_{epoch}_{datetime.now().strftime('%Y%m%d%H%M%S')}.pt\")\n",
        "            torch.save(model.state_dict(), checkpoint_path)\n",
        "            print(f\"Model checkpoint saved at epoch {epoch}!\")\n",
        "\n",
        "        if cur_patience >= patience:\n",
        "            break\n",
        "\n",
        "    time_elapsed = time.time() - since\n",
        "    print(f'Training complete in {time_elapsed // 60:.0f}m {time_elapsed % 60:.0f}s')\n",
        "    print(f'Best training loss: {best_train_loss:.4f}')\n",
        "    print(f'Best training accuracy: {best_train_acc:.4f} at epoch {best_train_acc_epoch}')\n",
        "    print(f'Best validation loss: {best_loss:.4f}')\n",
        "\n",
        "    # Plot the training and validation loss\n",
        "    plt.figure(figsize=(10, 5))\n",
        "    plt.plot(train_losses, label='Training Loss')\n",
        "    plt.plot(val_losses, label='Validation Loss')\n",
        "    plt.xlabel('Epoch')\n",
        "    plt.ylabel('Loss')\n",
        "    plt.legend()\n",
        "    plt.title('Training and Validation Loss')\n",
        "    plt.show()\n",
        "\n",
        "    # Plot the training and validation accuracy\n",
        "    plt.figure(figsize=(10, 5))\n",
        "    plt.plot(train_accuracies, label='Training Accuracy')\n",
        "    plt.plot(val_accuracies, label='Validation Accuracy')\n",
        "    plt.xlabel('Epoch')\n",
        "    plt.ylabel('Accuracy')\n",
        "    plt.legend()\n",
        "    plt.title('Training and Validation Accuracy')\n",
        "    plt.show()\n",
        "\n",
        "    return model\n"
      ]
    },
    {
      "cell_type": "code",
      "execution_count": null,
      "metadata": {
        "id": "3Sjw1qYZkYI7"
      },
      "outputs": [],
      "source": [
        "\n",
        "\n",
        "import torch\n",
        "\n",
        "# Example: Number of samples per class\n",
        "class_counts = [13000, 1993]\n",
        "\n",
        "# Total number of samples\n",
        "total_samples = sum(class_counts)\n",
        "\n",
        "# Calculate inverse frequency weights\n",
        "weights = [total_samples / count for count in class_counts]\n",
        "device = torch.device('cuda' if torch.cuda.is_available() else 'cpu')\n",
        "\n",
        "# Convert to tensor\n",
        "weights_tensor = torch.tensor(weights, dtype=torch.float32).to(device)\n",
        "criterion = torch.nn.CrossEntropyLoss(weight=weights_tensor)\n",
        "\n",
        "\n",
        "\n",
        "# Define arguments\n",
        "class Args:\n",
        "    def __init__(self, seed):\n",
        "        self.batch_size = 128 #16\n",
        "        self.epochs = 100\n",
        "        self.lr = 0.0001 #0.00001\n",
        "        self.momentum = 0.9\n",
        "        self.seed = seed\n",
        "        self.regularizer_rate = 0.0005\n",
        "\n",
        "seeds = [38]\n",
        "\n",
        "for seed in seeds:\n",
        "    args = Args(seed)\n",
        "    torch.manual_seed(args.seed)\n",
        "    device = torch.device('cuda' if torch.cuda.is_available() else 'cpu')\n",
        "    model = models.alexnet(pretrained=True)\n",
        "\n",
        "    # Freeze earlier layers\n",
        "    for param in model.features.parameters():\n",
        "        param.requires_grad = False\n",
        "\n",
        "    model.classifier[-1] = nn.Linear(4096, 2)\n",
        "    model.to(device)\n",
        "    regularizer_rate = args.regularizer_rate\n",
        "    num_epochs = args.epochs\n",
        "    params_to_update = model.parameters()\n",
        "    #optimizer = optim.Adam(model.parameters(), lr=args.lr)\n",
        "    #optimizer = optim.SGD(params_to_update, lr=args.lr, momentum=args.momentum, weight_decay=args.regularizer_rate)\n",
        "    optimizer = optim.SGD([\n",
        "    {'params': model.features.parameters(), 'lr': args.lr * 0.1},\n",
        "    {'params': model.classifier.parameters(), 'lr': args.lr}\n",
        "    ], momentum=0.9, weight_decay=args.regularizer_rate)\n",
        "\n",
        "    model = train_model(model, dataloaders, criterion, optimizer, num_epochs=num_epochs, resume_training=False)\n",
        "    parent_dir = \"/content/drive/MyDrive/Masterthesis/Datasets/isic/models/initial_classifier/\"\n",
        "\n",
        "    torch.save(model.state_dict(), os.path.join(parent_dir, f\"alexnet_malwp_benp_benwp_adam_freeze{seed}_\" + \"train.pt\"))"
      ]
    },
    {
      "cell_type": "code",
      "execution_count": null,
      "metadata": {
        "id": "G7grxS43kpXD"
      },
      "outputs": [],
      "source": [
        "import torch\n",
        "import os\n",
        "from torch.utils.data import DataLoader\n",
        "import torch.nn as nn\n",
        "from datetime import datetime\n",
        "\n",
        "def load_model(model_path, device):\n",
        "    print(f\"Loading model from {model_path}\")\n",
        "    model = models.alexnet(pretrained=False)\n",
        "    device = torch.device('cuda' if torch.cuda.is_available() else 'cpu')\n",
        "    model.classifier[-1] = nn.Linear(4096, 2)\n",
        "    model.load_state_dict(torch.load(model_path, map_location=device))\n",
        "    model.to(device)\n",
        "    model.eval()\n",
        "    print(\"Model loaded successfully\")\n",
        "\n",
        "    # Freelze all layers\n",
        "    for param in model.parameters():\n",
        "        param.requires_grad = False\n",
        "\n",
        "    #print(\"Model loaded and layers frozen successfully\")\n",
        "    return model\n",
        "\n",
        "# Function to test the model on a specific dataset\n",
        "def test_model(model, dataloader, device):\n",
        "    model.eval()\n",
        "    correct = 0\n",
        "    total = 0\n",
        "    with torch.no_grad():\n",
        "        for inputs, labels, _ in dataloader:  # Ignore group_label\n",
        "            inputs, labels = inputs.to(device), labels.to(device)\n",
        "            outputs = model(inputs)\n",
        "            _, predicted = torch.max(outputs, 1)\n",
        "            total += labels.size(0)\n",
        "            correct += (predicted == labels).sum().item()\n",
        "    accuracy = correct / total * 100\n",
        "    return accuracy\n",
        "\n",
        "\n",
        "\n",
        "\n",
        "test_mal_patch_path = '/content/drive/MyDrive/Masterthesis/Datasets/isic/data/full/test/malignant_patch'\n",
        "test_mal_nopatch_path = '/content/drive/MyDrive/Masterthesis/Datasets/isic/data/full/test/malignant_no_patch'\n",
        "test_ben_patch_path = '/content/drive/MyDrive/Masterthesis/Datasets/isic/data/full/test/benign_patch'\n",
        "test_ben_nopatch_path = '/content/drive/MyDrive/Masterthesis/Datasets/isic/data/full/test/benign_no_patch'\n",
        "\n",
        "\n",
        "\n",
        "# Create datasets for training and validating\n",
        "test_mal_patch_path = ISICDataset(path=test_mal_patch_path, is_malignant=1, group_labels=[1] * len(os.listdir(test_mal_patch_path)), transform=transform)\n",
        "test_mal_nopatch_path = ISICDataset(path=test_mal_nopatch_path, is_malignant=1, group_labels=[0] * len(os.listdir(test_mal_nopatch_path)), transform=transform)\n",
        "test_ben_nopatch_path = ISICDataset(path=test_ben_nopatch_path, is_malignant=0, group_labels=[2] * len(os.listdir(test_ben_nopatch_path)), transform=transform)\n",
        "test_ben_patch_path = ISICDataset(path=test_ben_patch_path, is_malignant=0, group_labels=[3] * len(os.listdir(test_ben_patch_path)), transform=transform)\n",
        "\n",
        "\n",
        "\n",
        "# Create dataloaders for the test datasets\n",
        "batch_size = 128\n",
        "test_loader_mal_patch = DataLoader(test_mal_patch_path, batch_size=batch_size, shuffle=False, num_workers=2)\n",
        "test_loader_mal_nopatch = DataLoader(test_mal_nopatch_path, batch_size=batch_size, shuffle=False, num_workers=2)\n",
        "test_loader_ben_patch = DataLoader(test_ben_patch_path, batch_size=batch_size, shuffle=False, num_workers=2)\n",
        "test_loader_ben_nopatch = DataLoader(test_ben_nopatch_path, batch_size=batch_size, shuffle=False, num_workers=2)\n",
        "\n",
        "\n",
        "# Set the device\n",
        "device = torch.device('cuda' if torch.cuda.is_available() else 'cpu')\n",
        "\n",
        "# Load and test the model for each seed\n",
        "seeds = [34, 35, 38]\n",
        "for seed in seeds:\n",
        "    model_path = f\"/content/drive/MyDrive/Masterthesis/Datasets/isic/models/initial_classifier/alexnet_malwp_benp_benwp_adam_freeze{seed}_train.pt\"\n",
        "\n",
        "    print(f\"\\nLoading model with seed {seed}\")\n",
        "    model = load_model(model_path, device)\n",
        "\n",
        "    # Test on wb oatch dataset\n",
        "    accuracy_mal_patch = test_model(model, test_loader_mal_patch, device)\n",
        "    print(f\"Accuracy on malignant with patch test dataset (class_2): {accuracy_mal_patch:.2f}%\")\n",
        "\n",
        "    # Test on original dataset\n",
        "    accuracy_mal_nopatch = test_model(model, test_loader_mal_nopatch, device)\n",
        "    print(f\"Accuracy on malignant  without patch test dataset (class_2): {accuracy_mal_nopatch:.2f}%\")\n",
        "\n",
        "    accuracy_ben_patch = test_model(model, test_loader_ben_patch, device)\n",
        "    print(f\"Accuracy on benign with patch test dataset (class_2): {accuracy_ben_patch:.2f}%\")\n",
        "\n",
        "    accuracy_ben_nopatch = test_model(model, test_loader_ben_nopatch, device)\n",
        "    print(f\"Accuracy on benign without patch test dataset (class_2): {accuracy_ben_nopatch:.2f}%\")"
      ]
    },
    {
      "cell_type": "markdown",
      "source": [
        "# Archive"
      ],
      "metadata": {
        "id": "O7LEUAPC_R7R"
      }
    },
    {
      "cell_type": "markdown",
      "metadata": {
        "id": "tYjJXUoLs7sB"
      },
      "source": [
        "### Full train"
      ]
    },
    {
      "cell_type": "code",
      "execution_count": null,
      "metadata": {
        "id": "MglhixLIs1Fo"
      },
      "outputs": [],
      "source": [
        "#Train\n",
        "mal_nopatch_path = '/content/drive/MyDrive/Masterthesis/Datasets/isic/data/train/malignant_no_patch_diff'\n",
        "ben_nopatch_path = '/content/drive/MyDrive/Masterthesis/Datasets/isic/data/train/benign_no_patch'\n",
        "mal_patch_path = '/content/drive/MyDrive/Masterthesis/Datasets/isic/data/train/malignant_patch'\n",
        "ben_patch_path = '/content/drive/MyDrive/Masterthesis/Datasets/isic/data/train/benign_patch'\n",
        "\n",
        "#Test\n",
        "test_mal_patch_path = '/content/drive/MyDrive/Masterthesis/Datasets/isic/data/test/malignant_patch'\n",
        "\n",
        "# Create datasets for training and testing\n",
        "dataset_mal_nopatch = ISICDataset(path=mal_nopatch_path, is_malignant=1, group_labels=[0] * len(os.listdir(mal_nopatch_path)))\n",
        "dataset_ben_nopatch = ISICDataset(path=ben_nopatch_path, is_malignant=0, group_labels=[2] * len(os.listdir(ben_nopatch_path)))\n",
        "dataset_mal_patch = ISICDataset(path=mal_patch_path, is_malignant=1, group_labels=[1] * len(os.listdir(mal_patch_path)))\n",
        "dataset_ben_patch = ISICDataset(path=ben_patch_path, is_malignant=0, group_labels=[3] * len(os.listdir(ben_patch_path)))\n",
        "dataset_test_mal_patch = ISICDataset(path=test_mal_patch_path, is_malignant=1, group_labels=[1] * len(os.listdir(test_mal_patch_path)))\n",
        "\n",
        "\n",
        "\n",
        "complete_dataset = ConcatDataset((dataset_mal_nopatch, dataset_ben_nopatch, dataset_ben_patch, dataset_mal_patch))\n",
        "train_dataset = complete_dataset\n",
        "test_dataset = dataset_test_mal_patch\n",
        "\n",
        "batch_size = args.batch_size\n",
        "\n",
        "train_loader = DataLoader(train_dataset, batch_size=batch_size, shuffle=True, num_workers=2)\n",
        "test_loader = DataLoader(test_dataset, batch_size=batch_size, shuffle=False, num_workers=2)\n",
        "dataloaders = {'train': train_loader, 'test': test_loader}\n",
        "dataset_sizes = {'train': len(train_dataset), 'test': len(test_dataset)}\n",
        "\n",
        "# Print dataset sizes\n",
        "print(\"num_train:\", dataset_sizes['train'])\n",
        "print(\"num_test:\", dataset_sizes['test'])\n"
      ]
    },
    {
      "cell_type": "code",
      "execution_count": null,
      "metadata": {
        "id": "5KyZtKVgtAzw"
      },
      "outputs": [],
      "source": [
        "model = train_model(model, dataloaders, criterion, optimizer, num_epochs=num_epochs, resume_training=False)\n",
        "pid = datetime.now().strftime('%Y%m%d%H%M%S')\n",
        "torch.save(model.state_dict(), os.path.join(dir_path, model_path, pid + \"full_train_full_model_isic.pt\"))"
      ]
    },
    {
      "cell_type": "markdown",
      "metadata": {
        "id": "s-WWUvuiYgs4"
      },
      "source": [
        "## Functions for Evaluation"
      ]
    },
    {
      "cell_type": "markdown",
      "metadata": {
        "id": "CCsfh-tovMOe"
      },
      "source": [
        "### Evaluation Metrics"
      ]
    },
    {
      "cell_type": "code",
      "execution_count": null,
      "metadata": {
        "id": "DD4JV4qj7--b"
      },
      "outputs": [],
      "source": [
        "import torch\n",
        "import numpy as np\n",
        "from sklearn.metrics import accuracy_score, f1_score, roc_auc_score, brier_score_loss, log_loss, precision_score, recall_score\n",
        "import matplotlib.pyplot as plt\n",
        "\n",
        "def get_output(model, dataset, device, batch_size=64):\n",
        "    data_loader = torch.utils.data.DataLoader(dataset, batch_size=batch_size, shuffle=False, num_workers=2)\n",
        "    model.eval()\n",
        "    y_list = []\n",
        "    y_hat_list = []\n",
        "    group_labels_list = []\n",
        "    softmax = torch.nn.Softmax(dim=1)\n",
        "\n",
        "    with torch.no_grad():\n",
        "        for data in data_loader:\n",
        "            if len(data) == 3:\n",
        "                inputs, labels, group_labels = data\n",
        "                group_labels_list.append(group_labels.cpu().numpy())\n",
        "            else:\n",
        "                inputs, labels = data\n",
        "\n",
        "            inputs = inputs.to(device)\n",
        "            labels = labels.to(device)\n",
        "\n",
        "            # Validate inputs\n",
        "            if torch.isnan(inputs).any() or torch.isinf(inputs).any():\n",
        "                print(\"NaNs or Infs detected in inputs\")\n",
        "                return None\n",
        "\n",
        "            outputs = model(inputs)\n",
        "\n",
        "            # Check for NaNs in raw outputs\n",
        "            if torch.isnan(outputs).any():\n",
        "                print(\"Error: NaNs detected in model outputs before softmax.\")\n",
        "                print(\"Output stats: min=\", torch.min(outputs), \"max=\", torch.max(outputs), \"mean=\", torch.mean(outputs))\n",
        "                return None\n",
        "\n",
        "            y_list.append(labels.cpu().numpy())\n",
        "            y_hat_list.append(softmax(outputs).cpu().numpy()[:, 1])  # Extract probabilities for the positive class\n",
        "\n",
        "    y = np.concatenate(y_list)\n",
        "    y_hat = np.concatenate(y_hat_list)\n",
        "    group_labels = np.concatenate(group_labels_list) if group_labels_list else None\n",
        "\n",
        "    # Convert probabilities to binary predictions\n",
        "    preds = (y_hat >= 0.5).astype(int)\n",
        "\n",
        "    # Calculate TP, TN, FP, FN\n",
        "    tp = ((preds == 1) & (y == 1)).sum()\n",
        "    tn = ((preds == 0) & (y == 0)).sum()\n",
        "    fp = ((preds == 1) & (y == 0)).sum()\n",
        "    fn = ((preds == 0) & (y == 1)).sum()\n",
        "\n",
        "    # Print intermediate results for debugging\n",
        "    print(f'TP: {tp}, TN: {tn}, FP: {fp}, FN: {fn}')\n",
        "    print(f'y: {np.bincount(y)}, preds: {np.bincount(preds)}')  # Check distribution of labels and predictions\n",
        "\n",
        "    return y, y_hat, group_labels, tp, tn, fp, fn\n"
      ]
    },
    {
      "cell_type": "markdown",
      "metadata": {
        "id": "exWk0me3YyI4"
      },
      "source": [
        "## Experiment 1:\n",
        "\n",
        "\n",
        "\n",
        "   "
      ]
    },
    {
      "cell_type": "markdown",
      "metadata": {
        "id": "WvFevQ9pMEs4"
      },
      "source": [
        "### Baseline\n",
        "Full training dataset\n",
        "\n",
        "Test 1: malignant with patch\n",
        "\n",
        "Test 2: Malignant without patch"
      ]
    },
    {
      "cell_type": "code",
      "execution_count": null,
      "metadata": {
        "id": "cxqn1oaaS2L9"
      },
      "outputs": [],
      "source": [
        "# Initialize AlexNet with modified classifier\n",
        "#um_classes = 2\n",
        "model = models.alexnet(pretrained=False)\n",
        "\n",
        "model.classifier[-1] = nn.Linear(4096, 2)\n",
        "\n",
        "# path to saved model state dictionary\n",
        "saved_model_path = \"/content/drive/MyDrive/Masterthesis/Datasets/isic/models/initial_classifier/20240713135814full_train_full_model_isic.pt\"\n",
        "\n",
        "# Load the saved model state dictionary\n",
        "state_dict = torch.load(saved_model_path)\n",
        "\n",
        "# Load only the classifier part from state_dict\n",
        "model.load_state_dict(state_dict)\n",
        "\n",
        "device = torch.device('cuda' if torch.cuda.is_available() else 'cpu')\n",
        "model.to(device)\n",
        "\n",
        "# Ensure model is in evaluation mode\n",
        "#model.eval()"
      ]
    },
    {
      "cell_type": "code",
      "execution_count": null,
      "metadata": {
        "id": "RLLbGKzn-i87"
      },
      "outputs": [],
      "source": [
        "#Test\n",
        "test_mal_patch_path = '/content/drive/MyDrive/Masterthesis/Datasets/isic/data/test/malignant_patch'\n",
        "test_mal_no_patch_path = '/content/drive/MyDrive/Masterthesis/Datasets/isic/data/test/malignant_no_patch_sim_subset'\n",
        "\n",
        "dataset_test_mal_patch = ISICDataset(path=test_mal_patch_path, is_malignant=1, group_labels=[2] * len(os.listdir(test_mal_patch_path)))\n",
        "dataset_test_mal_no_patch = ISICDataset(path=test_mal_no_patch_path, is_malignant=1, group_labels=[0] * len(os.listdir(test_mal_no_patch_path)))\n",
        "\n",
        "test_dataset_patch = dataset_test_mal_patch\n",
        "test_dataset_no_patch = dataset_test_mal_no_patch"
      ]
    },
    {
      "cell_type": "markdown",
      "metadata": {
        "id": "LbvzLI9R40KH"
      },
      "source": [
        "Test 1: malignant with patch"
      ]
    },
    {
      "cell_type": "code",
      "execution_count": null,
      "metadata": {
        "id": "MS4EB-336JhA"
      },
      "outputs": [],
      "source": [
        "results = get_output(model, test_dataset_patch, device)\n",
        "\n",
        "if results is None:\n",
        "    print(\"Error detected in model output or data preprocessing.\")\n",
        "else:\n",
        "    y, y_hat, group_labels, tp, tn, fp, fn = results\n",
        "    preds = (y_hat >= 0.5).astype(int)  # Add definition for preds here\n",
        "    print(f\"y_hat: {y_hat}\")\n",
        "    print(f\"Predictions: {preds}\")\n",
        "\n",
        "    # Calculate additional metrics if necessary\n",
        "    from sklearn.metrics import accuracy_score, f1_score, roc_auc_score, brier_score_loss\n",
        "\n",
        "    auc_score = roc_auc_score(y, y_hat) if len(np.unique(y)) > 1 else None\n",
        "    f1 = f1_score(y, preds) if len(np.unique(y)) > 1 else None\n",
        "    acc = accuracy_score(y, preds)\n",
        "    brier = brier_score_loss(y, y_hat)\n",
        "\n",
        "    print(f\"AUC Score: {auc_score}\")\n",
        "    print(f\"F1 Score: {f1}\")\n",
        "    print(f\"Accuracy: {acc}\")\n",
        "    print(f\"Brier Score: {brier}\")\n"
      ]
    },
    {
      "cell_type": "markdown",
      "metadata": {
        "id": "zqIF9q8gRrZs"
      },
      "source": [
        "Test 2: Malignant without patch"
      ]
    },
    {
      "cell_type": "code",
      "execution_count": null,
      "metadata": {
        "id": "AdYP06ymRunF"
      },
      "outputs": [],
      "source": [
        "results = get_output(model, test_dataset_no_patch, device)\n",
        "\n",
        "if results is None:\n",
        "    print(\"Error detected in model output or data preprocessing.\")\n",
        "else:\n",
        "    y, y_hat, group_labels, tp, tn, fp, fn = results\n",
        "    preds = (y_hat >= 0.5).astype(int)  # Add definition for preds here\n",
        "    print(f\"y_hat: {y_hat}\")\n",
        "    print(f\"Predictions: {preds}\")\n",
        "\n",
        "    # Calculate additional metrics if necessary\n",
        "    from sklearn.metrics import accuracy_score, f1_score, roc_auc_score, brier_score_loss\n",
        "\n",
        "    auc_score = roc_auc_score(y, y_hat) if len(np.unique(y)) > 1 else None\n",
        "    f1 = f1_score(y, preds) if len(np.unique(y)) > 1 else None\n",
        "    acc = accuracy_score(y, preds)\n",
        "    brier = brier_score_loss(y, y_hat)\n",
        "\n",
        "    print(f\"AUC Score: {auc_score}\")\n",
        "    print(f\"F1 Score: {f1}\")\n",
        "    print(f\"Accuracy: {acc}\")\n",
        "    print(f\"Brier Score: {brier}\")\n"
      ]
    },
    {
      "cell_type": "markdown",
      "metadata": {
        "id": "G93gf16l4_9Q"
      },
      "source": [
        "### Main Experiment"
      ]
    },
    {
      "cell_type": "markdown",
      "metadata": {
        "id": "IzQd8Y8a_QgL"
      },
      "source": [
        "\n",
        "\n",
        "*   Training set: on wb_no patch, lb_patch and lb_no patch.\n",
        "*   Testing sets:\n",
        "1. *mal_no_patch*\n",
        "2. *mal_patch*\n",
        "\n"
      ]
    },
    {
      "cell_type": "code",
      "execution_count": null,
      "metadata": {
        "id": "yTxj2kflQ8vq"
      },
      "outputs": [],
      "source": [
        "#Test\n",
        "test_mal_patch_path = '/content/drive/MyDrive/Masterthesis/Datasets/isic/data/test/malignant_patch'\n",
        "test_mal_no_patch_path = '/content/drive/MyDrive/Masterthesis/Datasets/isic/data/test/malignant_no_patch_sim_subset'\n",
        "\n",
        "dataset_test_mal_patch = ISICDataset(path=test_mal_patch_path, is_malignant=1, group_labels=[1] * len(os.listdir(test_mal_patch_path)))\n",
        "dataset_test_mal_no_patch = ISICDataset(path=test_mal_no_patch_path, is_malignant=1, group_labels=[0] * len(os.listdir(test_mal_no_patch_path)))\n",
        "\n",
        "test_dataset_patch = dataset_test_mal_patch\n",
        "test_dataset_no_patch = dataset_test_mal_no_patch\n",
        "\n"
      ]
    },
    {
      "cell_type": "code",
      "execution_count": null,
      "metadata": {
        "id": "8Hcs38LwGmFJ"
      },
      "outputs": [],
      "source": [
        "# Initialize AlexNet with modified classifier\n",
        "model = models.alexnet(pretrained=False)\n",
        "\n",
        "model.classifier[-1] = nn.Linear(4096, 2)\n",
        "\n",
        "# path to saved model state dictionary\n",
        "saved_model_path = \"/content/drive/MyDrive/Masterthesis/Datasets/isic/models/initial_classifier/20240713133629selective_train_full_model_isic.pt\"\n",
        "\n",
        "# Load the saved model state dictionary\n",
        "state_dict = torch.load(saved_model_path)\n",
        "\n",
        "# Load only the classifier part from state_dict\n",
        "model.load_state_dict(state_dict)\n",
        "\n",
        "device = torch.device('cuda' if torch.cuda.is_available() else 'cpu')\n",
        "model.to(device)"
      ]
    },
    {
      "cell_type": "markdown",
      "metadata": {
        "id": "-KUsDz6NPTwa"
      },
      "source": [
        "Test 1: Malignant no patch"
      ]
    },
    {
      "cell_type": "code",
      "execution_count": null,
      "metadata": {
        "id": "KbjDyXlE_CrL"
      },
      "outputs": [],
      "source": [
        "results = get_output(model, test_dataset_no_patch, device)\n",
        "\n",
        "if results is None:\n",
        "    print(\"Error detected in model output or data preprocessing.\")\n",
        "else:\n",
        "    y, y_hat, group_labels, tp, tn, fp, fn = results\n",
        "    preds = (y_hat >= 0.5).astype(int)  # Add definition for preds here\n",
        "    print(f\"y_hat: {y_hat}\")\n",
        "    print(f\"Predictions: {preds}\")\n",
        "\n",
        "    # Calculate additional metrics if necessary\n",
        "    from sklearn.metrics import accuracy_score, f1_score, roc_auc_score, brier_score_loss\n",
        "\n",
        "    auc_score = roc_auc_score(y, y_hat) if len(np.unique(y)) > 1 else None\n",
        "    f1 = f1_score(y, preds) if len(np.unique(y)) > 1 else None\n",
        "    acc = accuracy_score(y, preds)\n",
        "    brier = brier_score_loss(y, y_hat)\n",
        "\n",
        "    print(f\"AUC Score: {auc_score}\")\n",
        "    print(f\"F1 Score: {f1}\")\n",
        "    print(f\"Accuracy: {acc}\")\n",
        "    print(f\"Brier Score: {brier}\")\n"
      ]
    },
    {
      "cell_type": "markdown",
      "metadata": {
        "id": "q7NDrzrpTuOc"
      },
      "source": [
        "Test 2: Malignant with patch"
      ]
    },
    {
      "cell_type": "code",
      "execution_count": null,
      "metadata": {
        "id": "lRXIY9-m_JvE"
      },
      "outputs": [],
      "source": [
        "results = get_output(model, test_dataset_patch, device)\n",
        "\n",
        "if results is None:\n",
        "    print(\"Error detected in model output or data preprocessing.\")\n",
        "else:\n",
        "    y, y_hat, group_labels, tp, tn, fp, fn = results\n",
        "    preds = (y_hat >= 0.5).astype(int)  # Add definition for preds here\n",
        "    print(f\"y_hat: {y_hat}\")\n",
        "    print(f\"Predictions: {preds}\")\n",
        "\n",
        "    # Calculate additional metrics if necessary\n",
        "    from sklearn.metrics import accuracy_score, f1_score, roc_auc_score, brier_score_loss\n",
        "\n",
        "    auc_score = roc_auc_score(y, y_hat) if len(np.unique(y)) > 1 else None\n",
        "    f1 = f1_score(y, preds) if len(np.unique(y)) > 1 else None\n",
        "    acc = accuracy_score(y, preds)\n",
        "    brier = brier_score_loss(y, y_hat)\n",
        "\n",
        "    print(f\"AUC Score: {auc_score}\")\n",
        "    print(f\"F1 Score: {f1}\")\n",
        "    print(f\"Accuracy: {acc}\")\n",
        "    print(f\"Brier Score: {brier}\")\n"
      ]
    },
    {
      "cell_type": "markdown",
      "metadata": {
        "id": "kSnURsI9aEBY"
      },
      "source": [
        "## Experiment 2"
      ]
    },
    {
      "cell_type": "markdown",
      "metadata": {
        "id": "BkBmafSmzL_m"
      },
      "source": [
        "###  Baseline Performance Test:\n",
        "\n",
        "Full training dataset: mal patch, mal no patch, ben patch and ben no patch\n",
        "\n",
        "Test 1: mal no patch, ben patch and ben no patch\n",
        "\n",
        "Test 2: mal patch, mal no patch, ben patch and ben no patch\n"
      ]
    },
    {
      "cell_type": "code",
      "execution_count": null,
      "metadata": {
        "id": "QiSyIoBxQX-w"
      },
      "outputs": [],
      "source": [
        "model = models.alexnet(pretrained=False)\n",
        "\n",
        "model.classifier[-1] = nn.Linear(4096, 2)\n",
        "\n",
        "# path to saved model state dictionary\n",
        "saved_model_path = \"/content/drive/MyDrive/Masterthesis/Datasets/isic/models/initial_classifier/20240713135814full_train_full_model_isic.pt\"\n",
        "\n",
        "# Load the saved model state dictionary\n",
        "state_dict = torch.load(saved_model_path)\n",
        "\n",
        "# Load only the classifier part from state_dict\n",
        "model.load_state_dict(state_dict)\n",
        "\n",
        "device = torch.device('cuda' if torch.cuda.is_available() else 'cpu')\n",
        "model.to(device)"
      ]
    },
    {
      "cell_type": "code",
      "execution_count": null,
      "metadata": {
        "id": "BOgl4mLD0KQP"
      },
      "outputs": [],
      "source": [
        "#Test\n",
        "test_mal_patch_path = '/content/drive/MyDrive/Masterthesis/Datasets/isic/data/test/malignant_patch'\n",
        "test_mal_no_patch_path = '/content/drive/MyDrive/Masterthesis/Datasets/isic/data/test/malignant_no_patch_sim_subset'\n",
        "test_ben_patch_path = '/content/drive/MyDrive/Masterthesis/Datasets/isic/data/test/benign_patch'\n",
        "test_ben_no_patch_path = '/content/drive/MyDrive/Masterthesis/Datasets/isic/data/test/benign_no_patch'\n",
        "\n",
        "\n",
        "# Create datasets for testing\n",
        "dataset_test_mal_patch = ISICDataset(path=test_mal_patch_path, is_malignant=1, group_labels=[1] * len(os.listdir(test_mal_patch_path)))\n",
        "dataset_test_mal_no_patch = ISICDataset(path=test_mal_no_patch_path, is_malignant=1,group_labels=[0] * len(os.listdir(test_mal_no_patch_path)))\n",
        "dataset_test_ben_patch = ISICDataset(path=test_ben_patch_path, is_malignant=0, group_labels=[3] * len(os.listdir(test_ben_patch_path)))\n",
        "dataset_test_ben_no_patch = ISICDataset(path=test_ben_no_patch_path, is_malignant=0, group_labels=[2] * len(os.listdir(test_ben_no_patch_path)))\n",
        "\n",
        "test_dataset_selective = ConcatDataset((dataset_test_mal_no_patch, dataset_test_ben_patch, dataset_test_ben_no_patch))\n",
        "test_dataset_full = ConcatDataset((dataset_test_mal_no_patch, dataset_test_ben_patch, dataset_test_ben_no_patch, dataset_test_mal_patch))\n",
        "\n"
      ]
    },
    {
      "cell_type": "markdown",
      "metadata": {
        "id": "-PZqnQOwQ7sW"
      },
      "source": [
        "Test 1: mal no patch, ben patch and ben no patch"
      ]
    },
    {
      "cell_type": "code",
      "execution_count": null,
      "metadata": {
        "id": "_RFE9KKR1UDn"
      },
      "outputs": [],
      "source": [
        "results = get_output(model, test_dataset_selective, device)\n",
        "\n",
        "if results is None:\n",
        "    print(\"Error detected in model output or data preprocessing.\")\n",
        "else:\n",
        "    y, y_hat, group_labels, tp, tn, fp, fn = results\n",
        "    preds = (y_hat >= 0.5).astype(int)  # Add definition for preds here\n",
        "    print(f\"y_hat: {y_hat}\")\n",
        "    print(f\"Predictions: {preds}\")\n",
        "\n",
        "    # Calculate additional metrics if necessary\n",
        "    from sklearn.metrics import accuracy_score, f1_score, roc_auc_score, brier_score_loss\n",
        "\n",
        "    auc_score = roc_auc_score(y, y_hat) if len(np.unique(y)) > 1 else None\n",
        "    f1 = f1_score(y, preds) if len(np.unique(y)) > 1 else None\n",
        "    acc = accuracy_score(y, preds)\n",
        "    brier = brier_score_loss(y, y_hat)\n",
        "\n",
        "    print(f\"AUC Score: {auc_score}\")\n",
        "    print(f\"F1 Score: {f1}\")\n",
        "    print(f\"Accuracy: {acc}\")\n",
        "    print(f\"Brier Score: {brier}\")\n"
      ]
    },
    {
      "cell_type": "markdown",
      "metadata": {
        "id": "L7cfq9Sh04-_"
      },
      "source": [
        "Test 2: mal patch, mal no patch, ben patch and ben no patch"
      ]
    },
    {
      "cell_type": "code",
      "execution_count": null,
      "metadata": {
        "id": "l6tduCiMU_GN"
      },
      "outputs": [],
      "source": [
        "results = get_output(model, test_dataset_full, device)\n",
        "\n",
        "if results is None:\n",
        "    print(\"Error detected in model output or data preprocessing.\")\n",
        "else:\n",
        "    y, y_hat, group_labels, tp, tn, fp, fn = results\n",
        "    preds = (y_hat >= 0.5).astype(int)  # Add definition for preds here\n",
        "    print(f\"y_hat: {y_hat}\")\n",
        "    print(f\"Predictions: {preds}\")\n",
        "\n",
        "    # Calculate additional metrics if necessary\n",
        "    from sklearn.metrics import accuracy_score, f1_score, roc_auc_score, brier_score_loss\n",
        "\n",
        "    auc_score = roc_auc_score(y, y_hat) if len(np.unique(y)) > 1 else None\n",
        "    f1 = f1_score(y, preds) if len(np.unique(y)) > 1 else None\n",
        "    acc = accuracy_score(y, preds)\n",
        "    brier = brier_score_loss(y, y_hat)\n",
        "\n",
        "    print(f\"AUC Score: {auc_score}\")\n",
        "    print(f\"F1 Score: {f1}\")\n",
        "    print(f\"Accuracy: {acc}\")\n",
        "    print(f\"Brier Score: {brier}\")\n"
      ]
    },
    {
      "cell_type": "markdown",
      "metadata": {
        "id": "CNq7X6tr2YHN"
      },
      "source": [
        "### Main Experiment:\n",
        "\n",
        "Selective training dataset:  mal no patch, ben patch and ben no patch\n",
        "\n",
        "Test 1: mal no patch, ben patch and ben no patch\n",
        "\n",
        "Test 2: mal patch, mal no patch, ben patch and ben no patch\n"
      ]
    },
    {
      "cell_type": "code",
      "execution_count": null,
      "metadata": {
        "id": "_gVCkhlPRQvY"
      },
      "outputs": [],
      "source": [
        "model = models.alexnet(pretrained=False)\n",
        "\n",
        "model.classifier[-1] = nn.Linear(4096, 2)\n",
        "\n",
        "# path to saved model state dictionary\n",
        "saved_model_path = \"/content/drive/MyDrive/Masterthesis/Datasets/isic/models/initial_classifier/20240713133629selective_train_full_model_isic.pt\"\n",
        "\n",
        "# Load the saved model state dictionary\n",
        "state_dict = torch.load(saved_model_path)\n",
        "\n",
        "# Load only the classifier part from state_dict\n",
        "model.load_state_dict(state_dict)\n",
        "\n",
        "device = torch.device('cuda' if torch.cuda.is_available() else 'cpu')\n",
        "model.to(device)"
      ]
    },
    {
      "cell_type": "code",
      "execution_count": null,
      "metadata": {
        "id": "Gsi0zOC22awi"
      },
      "outputs": [],
      "source": [
        "#Test\n",
        "test_mal_patch_path = '/content/drive/MyDrive/Masterthesis/Datasets/isic/data/test/malignant_patch'\n",
        "test_mal_no_patch_path = '/content/drive/MyDrive/Masterthesis/Datasets/isic/data/test/malignant_no_patch_sim_subset'\n",
        "test_ben_patch_path = '/content/drive/MyDrive/Masterthesis/Datasets/isic/data/test/benign_patch'\n",
        "test_ben_no_patch_path = '/content/drive/MyDrive/Masterthesis/Datasets/isic/data/test/benign_no_patch'\n",
        "\n",
        "\n",
        "# Create datasets for testing\n",
        "dataset_test_mal_patch = ISICDataset(path=test_mal_patch_path, is_malignant=1, group_labels=[1] * len(os.listdir(test_mal_patch_path)))\n",
        "dataset_test_mal_no_patch = ISICDataset(path=test_mal_no_patch_path, is_malignant=1,group_labels=[0] * len(os.listdir(test_mal_no_patch_path)))\n",
        "dataset_test_ben_patch = ISICDataset(path=test_ben_patch_path, is_malignant=0, group_labels=[3] * len(os.listdir(test_ben_patch_path)))\n",
        "dataset_test_ben_no_patch = ISICDataset(path=test_ben_no_patch_path, is_malignant=0, group_labels=[2] * len(os.listdir(test_ben_no_patch_path)))\n",
        "\n",
        "test_dataset_selective = ConcatDataset((dataset_test_mal_no_patch, dataset_test_ben_patch, dataset_test_ben_no_patch))\n",
        "test_dataset_full = ConcatDataset((dataset_test_mal_no_patch, dataset_test_ben_patch, dataset_test_ben_no_patch, dataset_test_mal_patch))\n",
        "\n"
      ]
    },
    {
      "cell_type": "markdown",
      "metadata": {
        "id": "5eh6tDsjRywN"
      },
      "source": [
        "Test 1: mal no patch, ben patch and ben no patch"
      ]
    },
    {
      "cell_type": "code",
      "execution_count": null,
      "metadata": {
        "id": "TM_nhaDa3AZk"
      },
      "outputs": [],
      "source": [
        "results = get_output(model, test_dataset_selective, device)\n",
        "\n",
        "if results is None:\n",
        "    print(\"Error detected in model output or data preprocessing.\")\n",
        "else:\n",
        "    y, y_hat, group_labels, tp, tn, fp, fn = results\n",
        "    preds = (y_hat >= 0.5).astype(int)  # Add definition for preds here\n",
        "    print(f\"y_hat: {y_hat}\")\n",
        "    print(f\"Predictions: {preds}\")\n",
        "\n",
        "    # Calculate additional metrics if necessary\n",
        "    from sklearn.metrics import accuracy_score, f1_score, roc_auc_score, brier_score_loss\n",
        "\n",
        "    auc_score = roc_auc_score(y, y_hat) if len(np.unique(y)) > 1 else None\n",
        "    f1 = f1_score(y, preds) if len(np.unique(y)) > 1 else None\n",
        "    acc = accuracy_score(y, preds)\n",
        "    brier = brier_score_loss(y, y_hat)\n",
        "\n",
        "    print(f\"AUC Score: {auc_score}\")\n",
        "    print(f\"F1 Score: {f1}\")\n",
        "    print(f\"Accuracy: {acc}\")\n",
        "    print(f\"Brier Score: {brier}\")\n"
      ]
    },
    {
      "cell_type": "markdown",
      "metadata": {
        "id": "N2Fi1dk_3L1X"
      },
      "source": [
        "Test 2: mal patch, mal no patch, ben patch and ben no patch\n"
      ]
    },
    {
      "cell_type": "code",
      "execution_count": null,
      "metadata": {
        "id": "DasV-3QB3swy"
      },
      "outputs": [],
      "source": [
        "results = get_output(model, test_dataset_full, device)\n",
        "\n",
        "if results is None:\n",
        "    print(\"Error detected in model output or data preprocessing.\")\n",
        "else:\n",
        "    y, y_hat, group_labels, tp, tn, fp, fn = results\n",
        "    preds = (y_hat >= 0.5).astype(int)  # Add definition for preds here\n",
        "    print(f\"y_hat: {y_hat}\")\n",
        "    print(f\"Predictions: {preds}\")\n",
        "\n",
        "    # Calculate additional metrics if necessary\n",
        "    from sklearn.metrics import accuracy_score, f1_score, roc_auc_score, brier_score_loss\n",
        "\n",
        "    auc_score = roc_auc_score(y, y_hat) if len(np.unique(y)) > 1 else None\n",
        "    f1 = f1_score(y, preds) if len(np.unique(y)) > 1 else None\n",
        "    acc = accuracy_score(y, preds)\n",
        "    brier = brier_score_loss(y, y_hat)\n",
        "\n",
        "    print(f\"AUC Score: {auc_score}\")\n",
        "    print(f\"F1 Score: {f1}\")\n",
        "    print(f\"Accuracy: {acc}\")\n",
        "    print(f\"Brier Score: {brier}\")\n"
      ]
    },
    {
      "cell_type": "markdown",
      "metadata": {
        "id": "okSpAEaBqOQx"
      },
      "source": [
        "## Extracting activations: Correlations"
      ]
    },
    {
      "cell_type": "code",
      "execution_count": null,
      "metadata": {
        "id": "4mTRSS8PZ16R"
      },
      "outputs": [],
      "source": [
        "import os\n",
        "import numpy as np\n",
        "import torch\n",
        "from torchvision import models, transforms\n",
        "from PIL import Image\n",
        "import matplotlib.pyplot as plt\n",
        "import gc\n",
        "from scipy.stats import pearsonr\n",
        "from torch.utils.data import DataLoader, Dataset\n",
        "\n",
        "# Custom dataset class for loading images\n",
        "class ImageDataset(Dataset):\n",
        "    def __init__(self, image_paths, transform=None):\n",
        "        self.image_paths = image_paths\n",
        "        self.transform = transform\n",
        "\n",
        "    def __len__(self):\n",
        "        return len(self.image_paths)\n",
        "\n",
        "    def __getitem__(self, idx):\n",
        "        image_path = self.image_paths[idx]\n",
        "        image = Image.open(image_path)\n",
        "        if self.transform:\n",
        "            image = self.transform(image)\n",
        "        return image\n",
        "\n",
        "# Load and prepare the model\n",
        "def load_model(model_path):\n",
        "    model = models.alexnet(pretrained=False)\n",
        "    model.classifier[-1] = torch.nn.Linear(4096, 2)\n",
        "    model.load_state_dict(torch.load(model_path))\n",
        "    model.to(device)\n",
        "    model.eval()\n",
        "    return model\n",
        "\n",
        "device = torch.device('cuda' if torch.cuda.is_available() else 'cpu')\n",
        "\n",
        "# Preprocessing function\n",
        "preprocess = transforms.Compose([\n",
        "    transforms.Resize(256),\n",
        "    transforms.CenterCrop(224),\n",
        "    transforms.ToTensor(),\n",
        "    transforms.Normalize(mean=[0.485, 0.456, 0.406], std=[0.229, 0.224, 0.225]),\n",
        "])\n",
        "\n",
        "def preprocess_and_extract_activations(model, dataloader, layer):\n",
        "    activations = []\n",
        "    with torch.no_grad():\n",
        "        for image_tensor in dataloader:\n",
        "            image_tensor = image_tensor.to(device)\n",
        "\n",
        "            if layer < 13:  # Layer in model.features\n",
        "                tensor = image_tensor\n",
        "                for idx, layer_module in enumerate(model.features[:layer + 1]):\n",
        "                    tensor = layer_module(tensor)\n",
        "            else:  # Layer in model.classifier\n",
        "                tensor = model.features(image_tensor)\n",
        "                tensor = model.avgpool(tensor)\n",
        "                tensor = torch.flatten(tensor, 1)\n",
        "                for idx, layer_module in enumerate(model.classifier[:layer - 12]):\n",
        "                    tensor = layer_module(tensor)\n",
        "\n",
        "            activation = tensor.cpu().numpy()\n",
        "            activations.append(activation)\n",
        "\n",
        "    return activations\n",
        "\n",
        "def process_images_in_folder(model, folder_path, layer, batch_size=10):\n",
        "    all_layer_activations = []\n",
        "\n",
        "    image_paths = [os.path.join(root, file)\n",
        "                   for root, dirs, files in os.walk(folder_path)\n",
        "                   for file in files if file.endswith('.jpg')]\n",
        "\n",
        "    dataset = ImageDataset(image_paths, transform=preprocess)\n",
        "    dataloader = DataLoader(dataset, batch_size=batch_size, shuffle=False)\n",
        "\n",
        "    activations = preprocess_and_extract_activations(model, dataloader, layer)\n",
        "    all_layer_activations.extend(activations)\n",
        "    torch.cuda.empty_cache()\n",
        "    gc.collect()\n",
        "\n",
        "    return all_layer_activations\n",
        "\n",
        "def flatten_and_align_activations(activations_list):\n",
        "    # Flatten activations and find the maximum length\n",
        "    flat_activations = [act.flatten() for act in activations_list]\n",
        "    max_length = max(len(act) for act in flat_activations)\n",
        "\n",
        "    # Pad or truncate activations to the maximum length\n",
        "    aligned_activations = []\n",
        "    for activation in flat_activations:\n",
        "        if len(activation) < max_length:\n",
        "            padded_activation = np.pad(activation, (0, max_length - len(activation)), 'constant')\n",
        "        else:\n",
        "            padded_activation = activation[:max_length]\n",
        "        aligned_activations.append(padded_activation)\n",
        "    return np.vstack(aligned_activations)\n",
        "\n",
        "def save_activations(all_layer_activations, filename):\n",
        "    drive_path = f'/content/drive/MyDrive/Masterthesis/Datasets/isic/activations/{filename}'\n",
        "    np.save(drive_path, all_layer_activations)\n",
        "\n",
        "def load_activations(filename):\n",
        "    drive_path = f'/content/drive/MyDrive/Masterthesis/Datasets/isic/activations/{filename}'\n",
        "    return np.load(drive_path, allow_pickle=True).item()\n",
        "\n",
        "def compute_activations_for_layers(model_paths, patch_folder, no_patch_folder, layers, activations_file='activations.npy'):\n",
        "    if os.path.exists(f'/content/drive/MyDrive/Masterthesis/Datasets/isic/activations/{activations_file}'):\n",
        "        print(f\"Loading activations from {activations_file}\")\n",
        "        return load_activations(activations_file)\n",
        "\n",
        "    print(f\"Computing activations and saving to {activations_file}\")\n",
        "    all_layer_activations = {layer: {'wp': [], 'wo': []} for layer in layers}\n",
        "\n",
        "    for model_path in model_paths:\n",
        "        model = load_model(model_path)\n",
        "        for layer in layers:\n",
        "            wp_activations = process_images_in_folder(model, patch_folder, layer)\n",
        "            wo_activations = process_images_in_folder(model, no_patch_folder, layer)\n",
        "            all_layer_activations[layer]['wp'].append(flatten_and_align_activations(wp_activations))\n",
        "            all_layer_activations[layer]['wo'].append(flatten_and_align_activations(wo_activations))\n",
        "        del model  # Free model resources after use\n",
        "        torch.cuda.empty_cache()\n",
        "        gc.collect()\n",
        "\n",
        "    save_activations(all_layer_activations, activations_file)\n",
        "    return all_layer_activations\n",
        "\n",
        "def compute_avg_std_activations(all_layer_activations, layers):\n",
        "    layer_avg_std = {layer: {'wp_avg': None, 'wo_avg': None, 'wp_std': None, 'wo_std': None} for layer in layers}\n",
        "\n",
        "    for layer in layers:\n",
        "        wp_all_models_layer_activations = np.stack(all_layer_activations[layer]['wp'], axis=0)\n",
        "        wo_all_models_layer_activations = np.stack(all_layer_activations[layer]['wo'], axis=0)\n",
        "\n",
        "        wp_avg = np.mean(wp_all_models_layer_activations, axis=0)\n",
        "        wo_avg = np.mean(wo_all_models_layer_activations, axis=0)\n",
        "        wp_std = np.std(wp_all_models_layer_activations, axis=0)\n",
        "        wo_std = np.std(wo_all_models_layer_activations, axis=0)\n",
        "\n",
        "        layer_avg_std[layer]['wp_avg'] = wp_avg\n",
        "        layer_avg_std[layer]['wo_avg'] = wo_avg\n",
        "        layer_avg_std[layer]['wp_std'] = wp_std\n",
        "        layer_avg_std[layer]['wo_std'] = wo_std\n",
        "\n",
        "    return layer_avg_std\n",
        "\n",
        "def plot_histogram_for_layer(layer_avg_std, layer, layer_name, color):\n",
        "    wp_avg = layer_avg_std[layer]['wp_avg']\n",
        "    wo_avg = layer_avg_std[layer]['wo_avg']\n",
        "    wp_std = layer_avg_std[layer]['wp_std']\n",
        "    wo_std = layer_avg_std[layer]['wo_std']\n",
        "\n",
        "    x = np.linspace(start=-1, stop=1, num=100)\n",
        "    xaxis = x + (x[1] - x[0]) / 2\n",
        "    xaxis = xaxis[:-1]\n",
        "\n",
        "    patch_no_patch = np.hstack([np.zeros(len(wo_avg)), np.ones(len(wp_avg))])\n",
        "    combined_activations = np.vstack((wo_avg, wp_avg))\n",
        "\n",
        "    A = []\n",
        "    for ii in range(combined_activations.shape[1]):\n",
        "        A.append(pearsonr(patch_no_patch, combined_activations[:, ii])[0])\n",
        "\n",
        "    B = np.histogram(A, bins=x)\n",
        "\n",
        "    bin_means = B[0]\n",
        "    bin_stds = np.std(bin_means)\n",
        "\n",
        "    fig = plt.figure(figsize=(12, 6))\n",
        "    ax = fig.add_subplot(111)\n",
        "    ax.plot(xaxis, bin_means, '-', color=color, label=layer_name)\n",
        "    ax.fill_between(xaxis, bin_means - bin_stds, bin_means + bin_stds, color=color, alpha=0.2)\n",
        "    ax.legend(loc='center left', bbox_to_anchor=(1, 0.5))\n",
        "    plt.title(f'Histogram of Activations Correlation for {layer_name}')\n",
        "    plt.xlabel('Correlation')\n",
        "    plt.ylabel('Number of Neurons')\n",
        "    plt.show()\n",
        "\n",
        "def plot_combined_histogram(layer_avg_std, layer_names, colors):\n",
        "    fig = plt.figure(figsize=(12, 6))\n",
        "    ax = fig.add_subplot(111)\n",
        "\n",
        "    x = np.linspace(start=-1, stop=1, num=100)\n",
        "    xaxis = x + (x[1] - x[0]) / 2\n",
        "    xaxis = xaxis[:-1]\n",
        "\n",
        "    all_layer_bin_means = []\n",
        "\n",
        "    for idx, (layer, layer_name) in enumerate(layer_names.items()):\n",
        "        wp_avg = layer_avg_std[layer]['wp_avg']\n",
        "        wo_avg = layer_avg_std[layer]['wo_avg']\n",
        "        wp_std = layer_avg_std[layer]['wp_std']\n",
        "        wo_std = layer_avg_std[layer]['wo_std']\n",
        "\n",
        "        patch_no_patch = np.hstack([np.zeros(len(wo_avg)), np.ones(len(wp_avg))])\n",
        "        combined_activations = np.vstack((wo_avg, wp_avg))\n",
        "\n",
        "        A = []\n",
        "        for ii in range(combined_activations.shape[1]):\n",
        "            A.append(pearsonr(patch_no_patch, combined_activations[:, ii])[0])\n",
        "\n",
        "        B = np.histogram(A, bins=x)\n",
        "\n",
        "        bin_means = B[0] / np.sum(B[0])  # Normalize the bin counts\n",
        "        bin_stds = np.std(bin_means)\n",
        "\n",
        "        all_layer_bin_means.append(bin_means)\n",
        "\n",
        "        ax.plot(xaxis, bin_means, '-', color=colors[idx], label=layer_name)\n",
        "        ax.fill_between(xaxis, bin_means - bin_stds, bin_means + bin_stds, color=colors[idx], alpha=0.2)\n",
        "\n",
        "    # Compute average and standard deviation of the normalized histograms across layers\n",
        "    all_layer_bin_means = np.array(all_layer_bin_means)\n",
        "    avg_bin_means = np.mean(all_layer_bin_means, axis=0)\n",
        "    std_bin_means = np.std(all_layer_bin_means, axis=0)\n",
        "\n",
        "    ax.plot(xaxis, avg_bin_means, '-', color='black', label='Average')\n",
        "    ax.fill_between(xaxis, avg_bin_means - std_bin_means, avg_bin_means + std_bin_means, color='black', alpha=0.2)\n",
        "\n",
        "    ax.legend(loc='center left', bbox_to_anchor=(1, 0.5))\n",
        "    plt.title('Normalized Histogram of Activations Correlation for All Layers')\n",
        "    plt.xlabel('Correlation')\n",
        "    plt.ylabel('Normalized Number of Neurons')\n",
        "    plt.show()\n",
        "\n",
        "# Main execution\n",
        "layers_of_interest = [0, 3, 6, 8, 10, 14, 17]\n",
        "layer_names = {\n",
        "    0: \"Conv1 (model.features[0])\",\n",
        "    3: \"Conv2 (model.features[3])\",\n",
        "    6: \"Conv3 (model.features[6])\",\n",
        "    8: \"Conv4 (model.features[8])\",\n",
        "    10: \"Conv5 (model.features[10])\",\n",
        "    14: \"FC1 (model.classifier[1])\",\n",
        "    17: \"FC2 (model.classifier[4])\"\n",
        "}\n",
        "colors = ['tab:blue', 'tab:orange', 'tab:green', 'tab:red', 'tab:purple', 'tab:brown', 'tab:pink']\n",
        "\n",
        "patch_isic_folder_path = '/content/drive/MyDrive/Masterthesis/Datasets/isic/data/test/malignant_patch'\n",
        "no_patch_isic_folder_path = '/content/drive/MyDrive/Masterthesis/Datasets/isic/data/test/malignant_no_patch_sim_subset'\n",
        "\n",
        "model_paths = [\n",
        "    \"/content/drive/MyDrive/Masterthesis/Datasets/isic/models/initial_classifier/alexnet_malwo_benwp_benwo_1_train.pt\",\n",
        "    \"/content/drive/MyDrive/Masterthesis/Datasets/isic/models/initial_classifier/alexnet_malwo_benwp_benwo_2_train.pt\",\n",
        "    \"/content/drive/MyDrive/Masterthesis/Datasets/isic/models/initial_classifier/alexnet_malwo_benwp_benwo_3_train.pt\"\n",
        "]\n",
        "\n",
        "all_layer_activations = compute_activations_for_layers(model_paths, patch_isic_folder_path, no_patch_isic_folder_path, layers_of_interest)\n",
        "layer_avg_std = compute_avg_std_activations(all_layer_activations, layers_of_interest)\n",
        "\n",
        "# Plot histograms for each layer\n",
        "for idx, (layer, layer_name) in enumerate(layer_names.items()):\n",
        "    plot_histogram_for_layer(layer_avg_std, layer, layer_name, colors[idx])\n",
        "\n",
        "# Plot combined histogram for all layers\n",
        "plot_combined_histogram(layer_avg_std, layer_names, colors)\n"
      ]
    },
    {
      "cell_type": "markdown",
      "metadata": {
        "id": "nZineZCQhXmr"
      },
      "source": [
        "Layer-wise activations"
      ]
    },
    {
      "cell_type": "code",
      "execution_count": null,
      "metadata": {
        "id": "g5ITaS6tX66A"
      },
      "outputs": [],
      "source": [
        "\n",
        "from torchvision import models, transforms\n",
        "from PIL import Image\n",
        "import gc\n",
        "\n",
        "# Load pre-trained alexnet model\n",
        "model = models.alexnet(pretrained=False)\n",
        "\n",
        "model.classifier[-1] = torch.nn.Linear(4096, 2)\n",
        "\n",
        "# Load the saved parameters into the model\n",
        "saved_model_path = \"/content/drive/MyDrive/Masterthesis/Datasets/isic/models/initial_classifier/20240726220923alexnet_malwo_benwp_benwo_selective_train.pt\"\n",
        "model.load_state_dict(torch.load(saved_model_path))\n",
        "\n",
        "# Move model to GPU if available\n",
        "device = torch.device('cuda' if torch.cuda.is_available() else 'cpu')\n",
        "model.to(device)\n",
        "\n",
        "# Define preprocessing transforms\n",
        "preprocess = transforms.Compose([\n",
        "    transforms.Resize(256),\n",
        "    transforms.CenterCrop(224),\n",
        "    transforms.ToTensor(),\n",
        "    transforms.Normalize(mean=[0.485, 0.456, 0.406], std=[0.229, 0.224, 0.225]),\n",
        "])\n",
        "\n",
        "def preprocess_and_extract_activations(image_paths, layer):\n",
        "    activations = []\n",
        "    with torch.no_grad():\n",
        "        for image_path in image_paths:\n",
        "            image = Image.open(image_path)\n",
        "            image_tensor = preprocess(image).unsqueeze(0).to(device)\n",
        "\n",
        "            if layer < 13:  # Layer in model.features\n",
        "                tensor = image_tensor\n",
        "                for idx, layer_module in enumerate(model.features[:layer + 1]):\n",
        "                    tensor = layer_module(tensor)\n",
        "            else:  # Layer in model.classifier\n",
        "                tensor = model.features(image_tensor)\n",
        "                tensor = model.avgpool(tensor)\n",
        "                tensor = torch.flatten(tensor, 1)\n",
        "                for idx, layer_module in enumerate(model.classifier[:layer - 12]):\n",
        "                    tensor = layer_module(tensor)\n",
        "\n",
        "            activation = tensor.squeeze().cpu().numpy()\n",
        "            activations.append(activation)\n",
        "\n",
        "    return activations\n",
        "\n",
        "def process_images_in_folder(folder_path, layers, batch_size=10):\n",
        "    all_layer_activations = {layer: [] for layer in layers}\n",
        "\n",
        "    image_paths = [os.path.join(root, file)\n",
        "                   for root, dirs, files in os.walk(folder_path)\n",
        "                   for file in files if file.endswith('.jpg')]\n",
        "\n",
        "    for layer in layers:\n",
        "        for i in range(0, len(image_paths), batch_size):\n",
        "            batch_paths = image_paths[i:i + batch_size]\n",
        "            print(f\"Processing batch {i // batch_size + 1}/{(len(image_paths) - 1) // batch_size + 1} for layer {layer}\")\n",
        "\n",
        "            activations = preprocess_and_extract_activations(batch_paths, layer)\n",
        "            if activations is not None:\n",
        "                all_layer_activations[layer].extend(activations)\n",
        "            else:\n",
        "                print(f\"Failed to process batch {i // batch_size + 1}\")\n",
        "\n",
        "            torch.cuda.empty_cache()\n",
        "            gc.collect()\n",
        "\n",
        "    return all_layer_activations\n",
        "\n",
        "# Define layers of interest\n",
        "layers_of_interest = [0, 3, 6, 8, 10, 14, 17]  # Indices of layers in model.features and model.classifier\n",
        "\n",
        "# Folder paths for images\n",
        "patch_mal_folder_path = '/content/drive/MyDrive/Masterthesis/Datasets/isic/data/test/malignant_patch'\n",
        "no_patch_mal_folder_path = '/content/drive/MyDrive/Masterthesis/Datasets/isic/data/test/malignant_no_patch_sim_subset'\n",
        "\n",
        "#test_mal_patch_path = '/content/drive/MyDrive/Masterthesis/Datasets/isic/data/test/malignant_patch'\n",
        "#test_mal_no_patch_path = '/content/drive/MyDrive/Masterthesis/Datasets/isic/data/test/malignant_no_patch_sim_subset'\n",
        "\n",
        "# Process images in folders for each layer\n",
        "wp_mal_all_activations = process_images_in_folder(patch_mal_folder_path, layers_of_interest)\n",
        "wo_mal_all_activations = process_images_in_folder(no_patch_mal_folder_path, layers_of_interest)\n",
        "\n",
        "# Layer names corresponding to the indices in layers_of_interest\n",
        "layer_names = {\n",
        "    0: \"Conv1 (model.features[0])\",\n",
        "    3: \"Conv2 (model.features[3])\",\n",
        "    6: \"Conv3 (model.features[6])\",\n",
        "    8: \"Conv4 (model.features[8])\",\n",
        "    10: \"Conv5 (model.features[10])\",\n",
        "    14: \"FC1 (model.classifier[1])\",\n",
        "    17: \"FC2 (model.classifier[4])\"\n",
        "}\n",
        "\n",
        "# Generate histograms for each layer\n",
        "for layer_idx in layers_of_interest:\n",
        "    wp_activations = wp_mal_all_activations[layer_idx]\n",
        "    wo_activations = wo_mal_all_activations[layer_idx]\n",
        "\n",
        "    if wp_activations:\n",
        "        print(f\"Layer {layer_idx} wp_mal_all_activations shape:\", np.vstack(wp_activations).shape)\n",
        "    else:\n",
        "        print(f\"Layer {layer_idx} No activations found in wp_mal_all_activations\")\n",
        "\n",
        "    if wo_activations:\n",
        "        print(f\"Layer {layer_idx} wo_mal_all_activations shape:\", np.vstack(wo_activations).shape)\n",
        "    else:\n",
        "        print(f\"Layer {layer_idx} No activations found in wo_mal_all_activations\")\n",
        "\n",
        "    if wp_activations and wo_activations:\n",
        "        wp_activations_array = np.vstack(wp_activations).reshape(len(wp_activations), -1)\n",
        "        wo_activations_array = np.vstack(wo_activations).reshape(len(wo_activations), -1)\n",
        "\n",
        "        # Combine activations with patch/no-patch labels\n",
        "        patch_no_patch = np.hstack([np.zeros(len(wo_activations_array)), np.ones(len(wp_activations_array))])\n",
        "        combined_activations = np.concatenate((patch_no_patch[:, np.newaxis], np.vstack((wo_activations_array, wp_activations_array))), axis=1)\n",
        "\n",
        "        # Calculate correlation matrix in chunks to save memory\n",
        "        chunk_size = 1000\n",
        "        activations_corr = []\n",
        "        for start in range(0, combined_activations.shape[1], chunk_size):\n",
        "            end = min(start + chunk_size, combined_activations.shape[1])\n",
        "            corr_chunk = np.corrcoef(combined_activations[:, start:end], rowvar=False)\n",
        "            activations_corr.append(np.abs(corr_chunk[0, 1:]))\n",
        "\n",
        "        activations_corr = np.concatenate(activations_corr)\n",
        "\n",
        "        # Plot histogram\n",
        "        hist, bins = np.histogram(activations_corr, bins='auto')\n",
        "        plt.bar(bins[:-1], hist, width=np.diff(bins), align='edge')\n",
        "        plt.title(f'{layer_names[layer_idx]} Histogram of Activations Correlation')\n",
        "        plt.xlabel('Correlation')\n",
        "        plt.ylabel('Number of Neurons')\n",
        "        plt.show()\n",
        "\n",
        "        # Clear activations after use\n",
        "        del wp_activations\n",
        "        del wo_activations\n",
        "        del wp_activations_array\n",
        "        del wo_activations_array\n",
        "        gc.collect()"
      ]
    },
    {
      "cell_type": "markdown",
      "metadata": {
        "id": "wdXTblUwvy8z"
      },
      "source": [
        "## Extracting activations: T-tests"
      ]
    },
    {
      "cell_type": "markdown",
      "metadata": {
        "id": "K5FccpWAhKbl"
      },
      "source": [
        "Single sample t test. Activations not normalized"
      ]
    },
    {
      "cell_type": "code",
      "execution_count": null,
      "metadata": {
        "id": "hpShxyIxOefE"
      },
      "outputs": [],
      "source": [
        "from scipy.stats import ttest_1samp\n",
        "\n",
        "# Load activations\n",
        "def load_activations(filename):\n",
        "    drive_path = f'/content/drive/MyDrive/Masterthesis/Datasets/Waterbird/activations/{filename}'\n",
        "    return np.load(drive_path, allow_pickle=True).item()\n",
        "\n",
        "# Load the activations\n",
        "activations_file = 'activations.npy'\n",
        "all_layer_activations = load_activations(activations_file)\n",
        "\n",
        "# Perform t-tests\n",
        "def perform_t_tests(activations):\n",
        "    t_test_results = {}\n",
        "    for layer, data in activations.items():\n",
        "        wp_activations = np.vstack(data['wp'])  # Combine all activations for wp across models\n",
        "        wo_activations = np.vstack(data['wo'])  # Combine all activations for wo across models\n",
        "\n",
        "        wp_ttest = ttest_1samp(wp_activations, 0, axis=0)  # t-test for wp activations\n",
        "        wo_ttest = ttest_1samp(wo_activations, 0, axis=0)  # t-test for wo activations\n",
        "\n",
        "        t_test_results[layer] = {\n",
        "            'wp_ttest': wp_ttest,\n",
        "            'wo_ttest': wo_ttest,\n",
        "            'wp_means': np.mean(wp_activations, axis=0),\n",
        "            'wo_means': np.mean(wo_activations, axis=0)\n",
        "        }\n",
        "    return t_test_results\n",
        "\n",
        "t_test_results = perform_t_tests(all_layer_activations)\n",
        "\n",
        "# Print t-test results\n",
        "def print_t_test_results(t_test_results):\n",
        "    for layer, results in t_test_results.items():\n",
        "        wp_means = results['wp_means']\n",
        "        wo_means = results['wo_means']\n",
        "        wp_ttest = results['wp_ttest']\n",
        "        wo_ttest = results['wo_ttest']\n",
        "\n",
        "        print(f\"Layer {layer}:\")\n",
        "        print(\"  WP Activations:\")\n",
        "        print(f\"    Mean: {wp_means}\")\n",
        "        print(f\"    T-statistic: {wp_ttest.statistic}\")\n",
        "        print(f\"    P-value: {wp_ttest.pvalue}\")\n",
        "        print(\"  WO Activations:\")\n",
        "        print(f\"    Mean: {wo_means}\")\n",
        "        print(f\"    T-statistic: {wo_ttest.statistic}\")\n",
        "        print(f\"    P-value: {wo_ttest.pvalue}\")\n",
        "\n",
        "print_t_test_results(t_test_results)\n",
        "\n",
        "# Plot the p-values to visualize significance\n",
        "def plot_p_values(t_test_results):\n",
        "    num_layers = len(t_test_results)\n",
        "    num_cols = 3\n",
        "    num_rows = (num_layers + num_cols - 1) // num_cols  # Calculate rows needed for the number of columns\n",
        "\n",
        "    plt.figure(figsize=(15, 5 * num_rows))  # Adjust figure size as needed\n",
        "    for idx, (layer, results) in enumerate(t_test_results.items()):\n",
        "        wp_p_values = results['wp_ttest'].pvalue\n",
        "        wo_p_values = results['wo_ttest'].pvalue\n",
        "\n",
        "        ax = plt.subplot(num_rows, num_cols, idx + 1)\n",
        "        ax.hist(wp_p_values, bins=50, alpha=0.6, label='wp p-values')\n",
        "        ax.hist(wo_p_values, bins=50, alpha=0.6, label='wo p-values')\n",
        "        ax.set_title(f'Layer {layer}')\n",
        "        ax.set_xlabel('p-value')\n",
        "        ax.set_ylabel('Frequency')\n",
        "        ax.legend()\n",
        "    plt.tight_layout()\n",
        "    plt.show()\n",
        "\n",
        "plot_p_values(t_test_results)\n"
      ]
    },
    {
      "cell_type": "markdown",
      "metadata": {
        "id": "vvaoMA8ZhRmV"
      },
      "source": [
        "Single sample t test. Activations normalized"
      ]
    },
    {
      "cell_type": "code",
      "execution_count": null,
      "metadata": {
        "id": "FX3Gm05lShwb"
      },
      "outputs": [],
      "source": [
        "\n",
        "\n",
        "# Load activations\n",
        "def load_activations(filename):\n",
        "    drive_path = f'/content/drive/MyDrive/Masterthesis/Datasets/isic/activations/{filename}'\n",
        "    return np.load(drive_path, allow_pickle=True).item()\n",
        "\n",
        "# Normalize activations by the number of neurons in each layer\n",
        "def normalize_activations_by_neurons(activations):\n",
        "    normalized_activations = {}\n",
        "    for layer, data in activations.items():\n",
        "        wp_activations = np.vstack(data['wp'])\n",
        "        wo_activations = np.vstack(data['wo'])\n",
        "\n",
        "        num_neurons = wp_activations.shape[1]  # Number of neurons in the layer\n",
        "        wp_normalized = wp_activations / num_neurons\n",
        "        wo_normalized = wo_activations / num_neurons\n",
        "\n",
        "        normalized_activations[layer] = {'wp': wp_normalized, 'wo': wo_normalized}\n",
        "\n",
        "    return normalized_activations\n",
        "\n",
        "# Perform t-tests\n",
        "def perform_t_tests(activations):\n",
        "    t_test_results = {}\n",
        "    for layer, data in activations.items():\n",
        "        wp_activations = data['wp']\n",
        "        wo_activations = data['wo']\n",
        "\n",
        "        wp_ttest = ttest_1samp(wp_activations, 0, axis=0)\n",
        "        wo_ttest = ttest_1samp(wo_activations, 0, axis=0)\n",
        "\n",
        "        t_test_results[layer] = {\n",
        "            'wp_ttest': wp_ttest,\n",
        "            'wo_ttest': wo_ttest,\n",
        "            'wp_means': np.mean(wp_activations, axis=0),\n",
        "            'wo_means': np.mean(wo_activations, axis=0)\n",
        "        }\n",
        "    return t_test_results\n",
        "\n",
        "# Print t-test results\n",
        "def print_t_test_results(t_test_results):\n",
        "    for layer, results in t_test_results.items():\n",
        "        wp_means = results['wp_means']\n",
        "        wo_means = results['wo_means']\n",
        "        wp_ttest = results['wp_ttest']\n",
        "        wo_ttest = results['wo_ttest']\n",
        "\n",
        "        print(f\"Layer {layer}:\")\n",
        "        print(\"  WP Activations:\")\n",
        "        print(f\"    Mean: {wp_means.mean():.4f}\")\n",
        "        print(f\"    T-statistic: {wp_ttest.statistic.mean():.4f}\")\n",
        "        print(f\"    P-value: {wp_ttest.pvalue.mean():.4f}\")\n",
        "        print(\"  WO Activations:\")\n",
        "        print(f\"    Mean: {wo_means.mean():.4f}\")\n",
        "        print(f\"    T-statistic: {wo_ttest.statistic.mean():.4f}\")\n",
        "        print(f\"    P-value: {wo_ttest.pvalue.mean():.4f}\")\n",
        "        print(\"-\" * 50)\n",
        "\n",
        "# Plot the p-values to visualize significance\n",
        "def plot_p_values(t_test_results):\n",
        "    num_layers = len(t_test_results)\n",
        "    num_cols = 3\n",
        "    num_rows = (num_layers + num_cols - 1) // num_cols\n",
        "\n",
        "    plt.figure(figsize=(15, 5 * num_rows))\n",
        "    for idx, (layer, results) in enumerate(t_test_results.items()):\n",
        "        wp_p_values = results['wp_ttest'].pvalue\n",
        "        wo_p_values = results['wo_ttest'].pvalue\n",
        "\n",
        "        ax = plt.subplot(num_rows, num_cols, idx + 1)\n",
        "        ax.hist(wp_p_values, bins=50, alpha=0.6, label='wp p-values')\n",
        "        ax.hist(wo_p_values, bins=50, alpha=0.6, label='wo p-values')\n",
        "        ax.set_title(f'Layer {layer}')\n",
        "        ax.set_xlabel('p-value')\n",
        "        ax.set_ylabel('Frequency')\n",
        "        ax.legend()\n",
        "    plt.tight_layout()\n",
        "    plt.show()\n",
        "\n",
        "# Main execution\n",
        "activations_file = 'activations.npy'\n",
        "all_layer_activations = load_activations(activations_file)\n",
        "normalized_activations = normalize_activations_by_neurons(all_layer_activations)\n",
        "t_test_results = perform_t_tests(normalized_activations)\n",
        "print_t_test_results(t_test_results)\n",
        "plot_p_values(t_test_results)\n"
      ]
    },
    {
      "cell_type": "markdown",
      "metadata": {
        "id": "ysNGysv7haHr"
      },
      "source": [
        "Two sample t test. Activations normalized"
      ]
    },
    {
      "cell_type": "code",
      "execution_count": null,
      "metadata": {
        "id": "VF4WjQKHiCAi"
      },
      "outputs": [],
      "source": [
        "from scipy.stats import ttest_ind\n",
        "\n",
        "# Load activations\n",
        "def load_activations(filename):\n",
        "    drive_path = f'/content/drive/MyDrive/Masterthesis/Datasets/isic/activations/{filename}'\n",
        "    return np.load(drive_path, allow_pickle=True).item()\n",
        "\n",
        "# Normalize activations by the number of neurons in each layer\n",
        "def normalize_activations_by_neurons(activations):\n",
        "    normalized_activations = {}\n",
        "    for layer, data in activations.items():\n",
        "        wp_activations = np.vstack(data['wp'])\n",
        "        wo_activations = np.vstack(data['wo'])\n",
        "\n",
        "        num_neurons = wp_activations.shape[1]  # Number of neurons in the layer\n",
        "        wp_normalized = wp_activations / num_neurons\n",
        "        wo_normalized = wo_activations / num_neurons\n",
        "\n",
        "        normalized_activations[layer] = {'wp': wp_normalized, 'wo': wo_normalized}\n",
        "\n",
        "    return normalized_activations\n",
        "\n",
        "# Perform two-sample t-tests comparing neuron activations\n",
        "def perform_two_sample_t_tests(activations):\n",
        "    t_test_results = {}\n",
        "    for layer, data in activations.items():\n",
        "        wp_activations = data['wp']\n",
        "        wo_activations = data['wo']\n",
        "\n",
        "        # Perform two-sample t-test for each neuron\n",
        "        ttest_result = ttest_ind(wp_activations, wo_activations, axis=0)\n",
        "\n",
        "        t_test_results[layer] = {\n",
        "            'ttest': ttest_result,\n",
        "            'wp_means': np.mean(wp_activations, axis=0),\n",
        "            'wo_means': np.mean(wo_activations, axis=0)\n",
        "        }\n",
        "    return t_test_results\n",
        "\n",
        "# Print t-test results\n",
        "def print_t_test_results(t_test_results):\n",
        "    for layer, results in t_test_results.items():\n",
        "        wp_means = results['wp_means']\n",
        "        wo_means = results['wo_means']\n",
        "        ttest = results['ttest']\n",
        "\n",
        "        print(f\"Layer {layer}:\")\n",
        "        print(\"  WP Activations:\")\n",
        "        print(f\"    Mean: {wp_means.mean():.4f}\")\n",
        "        print(\"  WO Activations:\")\n",
        "        print(f\"    Mean: {wo_means.mean():.4f}\")\n",
        "        print(\"  T-Test:\")\n",
        "        print(f\"    T-statistic: {ttest.statistic.mean():.4f}\")\n",
        "        print(f\"    P-value: {ttest.pvalue.mean():.4f}\")\n",
        "        print(\"-\" * 50)\n",
        "\n",
        "# Plot the p-values to visualize significance\n",
        "def plot_p_values(t_test_results):\n",
        "    num_layers = len(t_test_results)\n",
        "    num_cols = 3\n",
        "    num_rows = (num_layers + num_cols - 1) // num_cols\n",
        "\n",
        "    plt.figure(figsize=(15, 5 * num_rows))\n",
        "    for idx, (layer, results) in enumerate(t_test_results.items()):\n",
        "        p_values = results['ttest'].pvalue\n",
        "\n",
        "        ax = plt.subplot(num_rows, num_cols, idx + 1)\n",
        "        ax.hist(p_values, bins=50, alpha=0.6, label='p-values')\n",
        "        ax.set_title(f'Layer {layer}')\n",
        "        ax.set_xlabel('p-value')\n",
        "        ax.set_ylabel('Frequency')\n",
        "        ax.legend()\n",
        "    plt.tight_layout()\n",
        "    plt.show()\n",
        "\n",
        "# Main execution\n",
        "activations_file = 'activations.npy'\n",
        "all_layer_activations = load_activations(activations_file)\n",
        "normalized_activations = normalize_activations_by_neurons(all_layer_activations)\n",
        "t_test_results = perform_two_sample_t_tests(normalized_activations)\n",
        "print_t_test_results(t_test_results)\n",
        "plot_p_values(t_test_results)"
      ]
    },
    {
      "cell_type": "markdown",
      "metadata": {
        "id": "EWmhEL-Vu8f9"
      },
      "source": [
        "Two sample t test without normalizing activations"
      ]
    },
    {
      "cell_type": "code",
      "execution_count": null,
      "metadata": {
        "id": "LX1PgD2ovBYj"
      },
      "outputs": [],
      "source": [
        "\n",
        "import numpy as np\n",
        "import matplotlib.pyplot as plt\n",
        "from scipy.stats import ttest_ind\n",
        "\n",
        "# Load activations\n",
        "def load_activations(filename):\n",
        "    drive_path = f'/content/drive/MyDrive/Masterthesis/Datasets/isic/activations/{filename}'\n",
        "    return np.load(drive_path, allow_pickle=True).item()\n",
        "\n",
        "# Perform two-sample t-tests comparing neuron activations\n",
        "def perform_two_sample_t_tests(activations):\n",
        "    t_test_results = {}\n",
        "    for layer, data in activations.items():\n",
        "        wp_activations = np.vstack(data['wp'])\n",
        "        wo_activations = np.vstack(data['wo'])\n",
        "\n",
        "        # Perform two-sample t-test for each neuron\n",
        "        ttest_result = ttest_ind(wp_activations, wo_activations, axis=0)\n",
        "\n",
        "        t_test_results[layer] = {\n",
        "            'ttest': ttest_result,\n",
        "            'wp_means': np.mean(wp_activations, axis=0),\n",
        "            'wo_means': np.mean(wo_activations, axis=0)\n",
        "        }\n",
        "    return t_test_results\n",
        "\n",
        "# Print t-test results with percentages of neurons below or equal to specific p-values\n",
        "def print_t_test_results(t_test_results):\n",
        "    for layer, results in t_test_results.items():\n",
        "        wp_means = results['wp_means']\n",
        "        wo_means = results['wo_means']\n",
        "        ttest = results['ttest']\n",
        "\n",
        "        # Calculate the percentage of neurons below or equal to specific p-value thresholds\n",
        "        p_values = ttest.pvalue\n",
        "        below_or_equal_0_05 = np.mean(p_values <= 0.05) * 100\n",
        "        below_or_equal_0_02 = np.mean(p_values <= 0.02) * 100\n",
        "\n",
        "        print(f\"Layer {layer}:\")\n",
        "        print(\"  WP Activations:\")\n",
        "        print(f\"    Mean: {wp_means.mean():.4f}\")\n",
        "        print(\"  WO Activations:\")\n",
        "        print(f\"    Mean: {wo_means.mean():.4f}\")\n",
        "        print(\"  T-Test:\")\n",
        "        print(f\"    T-statistic: {ttest.statistic.mean():.4f}\")\n",
        "        print(f\"    P-value: {ttest.pvalue.mean():.4f}\")\n",
        "        print(f\"    Percentage of neurons with p-value <= 0.05: {below_or_equal_0_05:.2f}%\")\n",
        "        print(f\"    Percentage of neurons with p-value <= 0.02: {below_or_equal_0_02:.2f}%\")\n",
        "        print(\"-\" * 50)\n",
        "\n",
        "# Plot the p-values to visualize significance\n",
        "def plot_p_values(t_test_results):\n",
        "    num_layers = len(t_test_results)\n",
        "    num_cols = 3\n",
        "    num_rows = (num_layers + num_cols - 1) // num_cols\n",
        "\n",
        "    plt.figure(figsize=(15, 5 * num_rows))\n",
        "    for idx, (layer, results) in enumerate(t_test_results.items()):\n",
        "        p_values = results['ttest'].pvalue\n",
        "\n",
        "        ax = plt.subplot(num_rows, num_cols, idx + 1)\n",
        "        ax.hist(p_values, bins=50, alpha=0.6, label='p-values')\n",
        "        ax.set_title(f'Layer {layer}')\n",
        "        ax.set_xlabel('p-value')\n",
        "        ax.set_ylabel('Frequency')\n",
        "        ax.legend()\n",
        "    plt.tight_layout()\n",
        "    plt.show()\n",
        "\n",
        "# Main execution\n",
        "activations_file = 'activations.npy'\n",
        "all_layer_activations = load_activations(activations_file)\n",
        "t_test_results = perform_two_sample_t_tests(all_layer_activations)\n",
        "print_t_test_results(t_test_results)\n",
        "plot_p_values(t_test_results)"
      ]
    },
    {
      "cell_type": "markdown",
      "metadata": {
        "id": "jeaSp_TIqcsp"
      },
      "source": [
        "## Archived: Extracting activations from Last FC Layer"
      ]
    },
    {
      "cell_type": "markdown",
      "metadata": {
        "id": "Jkf6N6WaoemB"
      },
      "source": [
        "\n",
        "\n",
        "---\n",
        "\n"
      ]
    },
    {
      "cell_type": "code",
      "execution_count": null,
      "metadata": {
        "id": "P2-QBtnUSLKo"
      },
      "outputs": [],
      "source": [
        "# Load pre-trained alexnet model\n",
        "model = models.alexnet(pretrained=True)\n",
        "\n",
        "# Modify the classifier\n",
        "model.classifier[-1] = torch.nn.Linear(4096, 2)\n",
        "\n",
        "# Load the saved parameters into the model\n",
        "saved_model_path = \"/content/drive/MyDrive/Masterthesis/Datasets/isic/models/initial_classifier/20240712204007selective_train_full_model_isic.pt\"\n",
        "model.load_state_dict(torch.load(saved_model_path))\n",
        "\n",
        "# Move model to GPU\n",
        "device = torch.device('cuda' if torch.cuda.is_available() else 'cpu')\n",
        "model.to(device)\n",
        "\n",
        "# Define preprocessing transforms\n",
        "preprocess = transforms.Compose([\n",
        "    transforms.Resize(256),\n",
        "    transforms.CenterCrop(224),\n",
        "    transforms.ToTensor(),\n",
        "    transforms.Normalize(mean=[0.485, 0.456, 0.406], std=[0.229, 0.224, 0.225]),\n",
        "])\n",
        "\n",
        "def preprocess_and_extract_activations(image_path):\n",
        "    # Load and preprocess the image\n",
        "    image = Image.open(image_path)\n",
        "    image_tensor = preprocess(image).unsqueeze(0).to(device)\n",
        "\n",
        "    # Flatten the tensor before passing it to the linear layers\n",
        "    image_tensor = model.features(image_tensor)\n",
        "    image_tensor = model.avgpool(image_tensor)\n",
        "    image_tensor = torch.flatten(image_tensor, 1)  # Flatten the tensor\n",
        "\n",
        "    # Pass the tensor through the first 5 layers\n",
        "    for layer_idx, layer in enumerate(model.classifier[:4], start=1):\n",
        "        image_tensor = layer(image_tensor)\n",
        "\n",
        "    # Extract activations from the sixth linear layer\n",
        "    activations = model.classifier[4](image_tensor)\n",
        "    activations = activations.squeeze().cpu().detach().numpy()\n",
        "    #print(\"Activation size:\", activations.shape)\n",
        "\n",
        "    return activations\n",
        "\n",
        "# Function to recursively traverse folders and process images\n",
        "def process_images_in_folder(folder_path):\n",
        "    all_activations = []\n",
        "    for root, dirs, files in os.walk(folder_path):\n",
        "        for file in files:\n",
        "            if file.endswith(('.jpg')):\n",
        "                image_path = os.path.join(root, file)\n",
        "                activations = preprocess_and_extract_activations(image_path)\n",
        "                if activations is not None:\n",
        "                    all_activations.append(activations)\n",
        "    return all_activations\n",
        "\n",
        "# Folder path containing images\n",
        "#patch_waterbird_folder_path = \"/content/drive/MyDrive/Masterthesis/Datasets/Waterbird/waterbirds_patch_224\"\n",
        "#no_patch_waterbird_folder_path = \"/content/drive/MyDrive/Masterthesis/Datasets/Waterbird/waterbirds_nopatch_224\"\n",
        "patch_waterbird_folder_path = '/content/drive/MyDrive/Masterthesis/Datasets/Waterbird/dataset_splits/test/test_wb_patch'\n",
        "no_patch_waterbird_folder_path = '/content/drive/MyDrive/Masterthesis/Datasets/Waterbird/dataset_splits/test/test_wb_nopatch'\n",
        "\n",
        "# Extract activations for all images in the folder\n",
        "wp_waterbird_all_activations = process_images_in_folder(patch_waterbird_folder_path)\n",
        "wo_waterbird_all_activations = process_images_in_folder(no_patch_waterbird_folder_path)\n",
        "\n",
        "if wp_waterbird_all_activations:\n",
        "    print(\"wp_waterbird_all_activations shape:\", np.vstack(wp_waterbird_all_activations).shape)\n",
        "else:\n",
        "    print(\"No activations found in wp_waterbird_all_activations\")\n",
        "\n",
        "if wo_waterbird_all_activations:\n",
        "    print(\"wo_waterbird_all_activations shape:\", np.vstack(wo_waterbird_all_activations).shape)\n",
        "else:\n",
        "    print(\"No activations found in wo_waterbird_all_activations\")"
      ]
    },
    {
      "cell_type": "code",
      "execution_count": null,
      "metadata": {
        "id": "HVyXzqbVa9B4"
      },
      "outputs": [],
      "source": [
        "import os\n",
        "import numpy as np\n",
        "import torch\n",
        "from torchvision import models, transforms\n",
        "from PIL import Image\n",
        "\n",
        "# Load pre-trained alexnet model\n",
        "model = models.alexnet(pretrained=True)\n",
        "\n",
        "# Modify the classifier\n",
        "model.classifier[-1] = torch.nn.Linear(4096, 2)\n",
        "\n",
        "# Load the saved parameters into the model\n",
        "saved_model_path = \"/content/drive/MyDrive/Masterthesis/Datasets/isic/models/initial_classifier/20240712204007selective_train_full_model_isic.pt\"\n",
        "model.load_state_dict(torch.load(saved_model_path))\n",
        "\n",
        "# Move model to GPU\n",
        "device = torch.device('cuda' if torch.cuda.is_available() else 'cpu')\n",
        "model.to(device)\n",
        "\n",
        "# Define preprocessing transforms\n",
        "preprocess = transforms.Compose([\n",
        "    transforms.Resize(256),\n",
        "    transforms.CenterCrop(224),\n",
        "    transforms.ToTensor(),\n",
        "    transforms.Normalize(mean=[0.485, 0.456, 0.406], std=[0.229, 0.224, 0.225]),\n",
        "])\n",
        "\n",
        "def preprocess_and_extract_activations(image_path):\n",
        "    try:\n",
        "        # Load and preprocess the image\n",
        "        image = Image.open(image_path)\n",
        "        print(f\"Image loaded: {image_path}\")  # Debug: Check if image is loaded\n",
        "        # unsqueeze(0) adds an extra dimension to simulate a batch of size 1\n",
        "        image_tensor = preprocess(image).unsqueeze(0).to(device)\n",
        "        print(f\"Image preprocessed: {image_tensor.shape}\")  # Debug: Check the tensor shape\n",
        "\n",
        "        # Flatten the tensor before passing it to the linear layers\n",
        "        image_tensor = model.features(image_tensor)\n",
        "        print(f\"Features extracted: {image_tensor.shape}\")  # Debug: Check the tensor shape after features\n",
        "        image_tensor = model.avgpool(image_tensor)\n",
        "        image_tensor = torch.flatten(image_tensor, 1)  # Flatten the tensor\n",
        "        print(f\"Tensor flattened: {image_tensor.shape}\")  # Debug: Check the flattened tensor shape\n",
        "\n",
        "        # Sequentially pass the tensor through the first five layers of the classifier\n",
        "        # Pass through the classifier layers up to fc2 (model.classifier[4])\n",
        "        for layer_idx, layer in enumerate(model.classifier[:5], start=1):\n",
        "            if layer_idx == 5:\n",
        "                break\n",
        "            image_tensor = layer(image_tensor)\n",
        "            print(f\"Layer {layer_idx} output shape: {image_tensor.shape}\")  # Debug: Check the output shape of each layer\n",
        "\n",
        "        # Extract activations from the sixth linear layer of the classifier\n",
        "        activations = model.classifier[4](image_tensor)\n",
        "        activations = activations.squeeze().cpu().detach().numpy()\n",
        "        print(f\"Activations extracted: {activations.shape}\")  # Debug: Check the activations shape\n",
        "        return activations\n",
        "    except Exception as e:\n",
        "        print(f\"Error processing image {image_path}: {e}\")\n",
        "        return None\n",
        "\n",
        "# Function to recursively traverse folders and process images\n",
        "def process_images_in_folder(folder_path):\n",
        "    all_activations = []\n",
        "    for root, dirs, files in os.walk(folder_path):\n",
        "        for file in files:\n",
        "            if file.endswith(('.jpg')):\n",
        "                image_path = os.path.join(root, file)\n",
        "                print(f\"Processing image: {image_path}\")  # Debug: print the image path being processed\n",
        "                activations = preprocess_and_extract_activations(image_path)\n",
        "                if activations is not None:\n",
        "                    all_activations.append(activations)\n",
        "                else:\n",
        "                    print(f\"Failed to process image: {image_path}\")  # Debug: print if image processing failed\n",
        "    return all_activations\n",
        "\n",
        "# Folder path containing images\n",
        "patch_waterbird_folder_path = '/content/drive/MyDrive/Masterthesis/Datasets/Waterbird/dataset_splits/test/test_wb_patch'\n",
        "no_patch_waterbird_folder_path = '/content/drive/MyDrive/Masterthesis/Datasets/Waterbird/dataset_splits/test/test_wb_nopatch'\n",
        "\n",
        "# Extract activations for all images in the folder\n",
        "wp_waterbird_all_activations = process_images_in_folder(patch_waterbird_folder_path)\n",
        "wo_waterbird_all_activations = process_images_in_folder(no_patch_waterbird_folder_path)\n",
        "\n",
        "if wp_waterbird_all_activations:\n",
        "    print(\"wp_waterbird_all_activations shape:\", np.vstack(wp_waterbird_all_activations).shape)\n",
        "else:\n",
        "    print(\"No activations found in wp_waterbird_all_activations\")\n",
        "\n",
        "if wo_waterbird_all_activations:\n",
        "    print(\"wo_waterbird_all_activations shape:\", np.vstack(wo_waterbird_all_activations).shape)\n",
        "else:\n",
        "    print(\"No activations found in wo_waterbird_all_activations\")\n"
      ]
    },
    {
      "cell_type": "code",
      "execution_count": null,
      "metadata": {
        "id": "0O61P8r3bMLY"
      },
      "outputs": [],
      "source": [
        "# each row corresponds to the activations of one image.\n",
        "#np.vstack(wp_waterbird_all_activations).shape"
      ]
    },
    {
      "cell_type": "code",
      "execution_count": null,
      "metadata": {
        "id": "hepYH_LCbOJI"
      },
      "outputs": [],
      "source": [
        "# Save activations for malignant wit patches as npy array (Sari likes npy, I like csv)\n",
        "np.save('/content/drive/MyDrive/Masterthesis/Datasets/Waterbird/waterbird_test_wp_activations.npy',np.vstack(wp_waterbird_all_activations))\n",
        "np.save('/content/drive/MyDrive/Masterthesis/Datasets/Waterbird/waterbird_test_wo_activations.npy',np.vstack(wo_waterbird_all_activations))"
      ]
    },
    {
      "cell_type": "code",
      "execution_count": null,
      "metadata": {
        "id": "uSqTQo6_beiR"
      },
      "outputs": [],
      "source": [
        "#folder_path = \"/content/drive/MyDrive/Masterthesis/Datasets/Waterbird/waterbirds_patch_224\"\n",
        "#folder_path_waterbird_patch = \"/content/drive/MyDrive/Masterthesis/Datasets/Waterbird/waterbirds_patch_224\"\n",
        "#folder_path_waterbird_nopatch = \"/content/drive/MyDrive/Masterthesis/Datasets/Waterbird/waterbirds_nopatch_224\"\n",
        "folder_path_waterbird_patch = '/content/drive/MyDrive/Masterthesis/Datasets/Waterbird/dataset_splits/test/test_wb_patch'\n",
        "folder_path_waterbird_nopatch = '/content/drive/MyDrive/Masterthesis/Datasets/Waterbird/dataset_splits/test/test_wb_nopatch'\n",
        "\n",
        "files_patch= os.listdir(folder_path_waterbird_patch)\n",
        "files_nopatch= os.listdir(folder_path_waterbird_nopatch)\n",
        "\n",
        "\n",
        "num_waterbird_patch_test = len(files_patch)\n",
        "num_waterbird_nopatch_test = len(files_nopatch)\n",
        "\n",
        "\n",
        "patch_no_patch = np.hstack([np.zeros((1,num_waterbird_nopatch_test)),np.ones((1,num_waterbird_patch_test))])\n",
        "\n",
        "wp = np.load('/content/drive/MyDrive/Masterthesis/Datasets/Waterbird/waterbird_test_wp_activations.npy')\n",
        "wo = np.load('/content/drive/MyDrive/Masterthesis/Datasets/Waterbird/waterbird_test_wo_activations.npy')\n",
        "wop_activations = np.vstack([wo,wp])"
      ]
    },
    {
      "cell_type": "code",
      "execution_count": null,
      "metadata": {
        "id": "gTQWCrw2buj4"
      },
      "outputs": [],
      "source": [
        "wop_activations.shape"
      ]
    },
    {
      "cell_type": "code",
      "execution_count": null,
      "metadata": {
        "id": "yjCTgPunbvW4"
      },
      "outputs": [],
      "source": [
        "two_arrays = np.concatenate((patch_no_patch.T, wop_activations), axis=1) # 900x568\n",
        "corr = np.corrcoef(two_arrays.T)"
      ]
    },
    {
      "cell_type": "code",
      "execution_count": null,
      "metadata": {
        "id": "PvlwHJ5cbw8w"
      },
      "outputs": [],
      "source": [
        "patch_no_patch.shape"
      ]
    },
    {
      "cell_type": "code",
      "execution_count": null,
      "metadata": {
        "id": "h-ECE7K_bxmg"
      },
      "outputs": [],
      "source": [
        "import matplotlib.pyplot as plt\n",
        "activations_corr = np.abs(corr[0][1:])\n",
        "_ = plt.hist(activations_corr, bins='auto')"
      ]
    },
    {
      "cell_type": "code",
      "execution_count": null,
      "metadata": {
        "id": "atnRZSIdbzGQ"
      },
      "outputs": [],
      "source": [
        "activations_corr.shape"
      ]
    },
    {
      "cell_type": "code",
      "execution_count": null,
      "metadata": {
        "id": "fIKcSBQtb0aS"
      },
      "outputs": [],
      "source": [
        "print(activations_corr)"
      ]
    },
    {
      "cell_type": "code",
      "execution_count": null,
      "metadata": {
        "id": "kErxEaEiJ0z5"
      },
      "outputs": [],
      "source": [
        "'''\n",
        "import os\n",
        "import numpy as np\n",
        "import torch\n",
        "from torch.utils.data import DataLoader, ConcatDataset\n",
        "from PIL import Image\n",
        "from torchvision import transforms\n",
        "\n",
        "class ISICDataset(torch.utils.data.Dataset):\n",
        "    def __init__(self, path: str, is_malignant: int, group_labels: list):\n",
        "        self.path = path\n",
        "        self.data_files = os.listdir(self.path)\n",
        "        self.is_malignant = is_malignant\n",
        "        self.group_labels = group_labels\n",
        "\n",
        "    def __getitem__(self, i):\n",
        "        img = Image.open(os.path.join(self.path, self.data_files[i]))\n",
        "        img_array = np.asarray(img) / 255.0  # Convert image to float and scale to [0, 1]\n",
        "        img_array -= mean[None, None, :]  # Subtract the mean for normalization\n",
        "        img_array /= std[None, None, :]  # Divide by the standard deviation for normalization\n",
        "        img.close()\n",
        "        torch_img = torch.from_numpy(img_array.swapaxes(0, 2).swapaxes(1, 2)).float()  # Convert the numpy array to a PyTorch tensor and rearrange the axes\n",
        "        is_malignant = self.is_malignant\n",
        "        group_label = self.group_labels[i]\n",
        "        return (torch_img, is_malignant, group_label)\n",
        "\n",
        "    def __len__(self):\n",
        "        return len(self.data_files)\n",
        "\n",
        "def validate_inputs(data_loader):\n",
        "    for data in data_loader:\n",
        "        inputs, labels = data[:2]\n",
        "        if torch.isnan(inputs).any():\n",
        "            print(\"NaNs detected in input data\")\n",
        "            return False\n",
        "        if torch.isinf(inputs).any():\n",
        "            print(\"Infinite values detected in input data\")\n",
        "            return False\n",
        "        print(\"Input stats: min=\", torch.min(inputs), \"max=\", torch.max(inputs), \"mean=\", torch.mean(inputs))\n",
        "    return True\n",
        "\n",
        "# Paths\n",
        "mal_nopatch_path = '/content/drive/MyDrive/Masterthesis/Datasets/isic/data/train/malignant_no_patch_diff'\n",
        "ben_nopatch_path = '/content/drive/MyDrive/Masterthesis/Datasets/isic/data/train/benign_no_patch'\n",
        "mal_patch_path = '/content/drive/MyDrive/Masterthesis/Datasets/isic/data/train/malignant_patch'\n",
        "ben_patch_path = '/content/drive/MyDrive/Masterthesis/Datasets/isic/data/train/benign_patch'\n",
        "\n",
        "test_mal_patch_path = '/content/drive/MyDrive/Masterthesis/Datasets/isic/data/test/malignant_patch'\n",
        "test_mal_no_patch_path = '/content/drive/MyDrive/Masterthesis/Datasets/isic/data/test/malignant_no_patch_sim'\n",
        "\n",
        "# Create datasets\n",
        "dataset_mal_nopatch = ISICDataset(path=mal_nopatch_path, is_malignant=1, group_labels=[0] * len(os.listdir(mal_nopatch_path)))\n",
        "dataset_ben_nopatch = ISICDataset(path=ben_nopatch_path, is_malignant=0, group_labels=[2] * len(os.listdir(ben_nopatch_path)))\n",
        "dataset_mal_patch = ISICDataset(path=mal_patch_path, is_malignant=1, group_labels=[1] * len(os.listdir(mal_patch_path)))\n",
        "dataset_ben_patch = ISICDataset(path=ben_patch_path, is_malignant=0, group_labels=[3] * len(os.listdir(ben_patch_path)))\n",
        "\n",
        "dataset_test_mal_patch = ISICDataset(path=test_mal_patch_path, is_malignant=1, group_labels=[2] * len(os.listdir(test_mal_patch_path)))\n",
        "dataset_test_mal_no_patch = ISICDataset(path=test_mal_no_patch_path, is_malignant=1, group_labels=[0] * len(os.listdir(test_mal_no_patch_path)))\n",
        "\n",
        "complete_dataset = ConcatDataset((dataset_mal_nopatch, dataset_ben_nopatch, dataset_mal_patch, dataset_ben_patch))\n",
        "train_dataset = complete_dataset\n",
        "test_dataset_patch = dataset_test_mal_patch\n",
        "test_dataset_no_patch = dataset_test_mal_no_patch\n",
        "\n",
        "# Dataloaders\n",
        "batch_size = 32  # Assuming a batch size of 32\n",
        "train_loader = DataLoader(train_dataset, batch_size=batch_size, shuffle=True, num_workers=2)\n",
        "test_loader = DataLoader(test_dataset_patch, batch_size=batch_size, shuffle=False, num_workers=2)\n",
        "\n",
        "# Validate input data\n",
        "if not validate_inputs(train_loader):\n",
        "    print(\"Input data contains invalid values.\")\n",
        "\n",
        "# Model and Training Steps\n",
        "\n",
        "import torch.nn as nn\n",
        "import torch.optim as optim\n",
        "from torchvision import models\n",
        "\n",
        "# Example: Initialize model with proper weights\n",
        "model = models.alexnet(pretrained=True)\n",
        "model.classifier[6] = nn.Linear(4096, 2)  # Adjust the final layer for binary classification\n",
        "\n",
        "# Ensure weights are initialized if not using pre-trained\n",
        "def initialize_weights(model):\n",
        "    for m in model.modules():\n",
        "        if isinstance(m, nn.Conv2d) or isinstance(m, nn.Linear):\n",
        "            nn.init.kaiming_normal_(m.weight)\n",
        "            if m.bias is not None:\n",
        "                nn.init.constant_(m.bias, 0)\n",
        "\n",
        "initialize_weights(model)\n",
        "\n",
        "# Optimizer and loss function\n",
        "optimizer = optim.SGD(model.parameters(), lr=0.01, momentum=0.9, weight_decay=0.0005)\n",
        "criterion = nn.CrossEntropyLoss()\n",
        "\n",
        "# Training with gradient clipping\n",
        "num_epochs = 10  # Assuming 10 epochs for demonstration\n",
        "device = torch.device(\"cuda\" if torch.cuda.is_available() else \"cpu\")\n",
        "model.to(device)\n",
        "\n",
        "for epoch in range(num_epochs):\n",
        "    model.train()\n",
        "    running_loss = 0.0\n",
        "    for inputs, labels, _ in train_loader:\n",
        "        inputs, labels = inputs.to(device), labels.to(device)\n",
        "        optimizer.zero_grad()\n",
        "        outputs = model(inputs)\n",
        "        loss = criterion(outputs, labels)\n",
        "        loss.backward()\n",
        "\n",
        "        # Apply gradient clipping\n",
        "        torch.nn.utils.clip_grad_norm_(model.parameters(), max_norm=2.0)\n",
        "\n",
        "        optimizer.step()\n",
        "        running_loss += loss.item()\n",
        "    print(f'Epoch {epoch+1}, Loss: {running_loss/len(train_loader)}')\n",
        "\n",
        "# Validate model outputs\n",
        "def get_output(model, dataset, device, batch_size=64):\n",
        "    data_loader = torch.utils.data.DataLoader(dataset, batch_size=batch_size, shuffle=False, num_workers=2)\n",
        "    model.eval()\n",
        "    y_list = []\n",
        "    y_hat_list = []\n",
        "    group_labels_list = []\n",
        "    softmax = torch.nn.Softmax(dim=1)\n",
        "\n",
        "    with torch.no_grad():\n",
        "        for data in data_loader:\n",
        "            if len(data) == 3:\n",
        "                inputs, labels, group_labels = data\n",
        "                group_labels_list.append(group_labels.cpu().numpy())\n",
        "            else:\n",
        "                inputs, labels = data\n",
        "\n",
        "            inputs = inputs.to(device)\n",
        "            labels = labels.to(device)\n",
        "\n",
        "            # Validate inputs\n",
        "            if torch.isnan(inputs).any() or torch.isinf(inputs).any():\n",
        "                print(\"NaNs or Infs detected in inputs\")\n",
        "                return None\n",
        "\n",
        "            outputs = model(inputs)\n",
        "\n",
        "            # Check for NaNs in raw outputs\n",
        "            if torch.isnan(outputs).any():\n",
        "                print(\"Error: NaNs detected in model outputs before softmax.\")\n",
        "                print(\"Output stats: min=\", torch.min(outputs), \"max=\", torch.max(outputs), \"mean=\", torch.mean(outputs))\n",
        "                return None\n",
        "\n",
        "            y_list.append(labels.cpu().numpy())\n",
        "            y_hat_list.append(softmax(outputs).cpu().numpy()[:, 1])  # Extract probabilities for the positive class\n",
        "\n",
        "    y = np.concatenate(y_list)\n",
        "    y_hat = np.concatenate(y_hat_list)\n",
        "    group_labels = np.concatenate(group_labels_list) if group_labels_list else None\n",
        "\n",
        "    # Convert probabilities to binary predictions\n",
        "    preds = (y_hat >= 0.5).astype(int)\n",
        "\n",
        "    # Calculate TP, TN, FP, FN\n",
        "    tp = ((preds == 1) & (y == 1)).sum()\n",
        "    tn = ((preds == 0) & (y == 0)).sum()\n",
        "    fp = ((preds == 1) & (y == 0)).sum()\n",
        "    fn = ((preds == 0) & (y == 1)).sum()\n",
        "\n",
        "    # Print intermediate results for debugging\n",
        "    print(f'TP: {tp}, TN: {tn}, FP: {fp}, FN: {fn}')\n",
        "    print(f'y: {np.bincount(y)}, preds: {np.bincount(preds)}')  # Check distribution of labels and predictions\n",
        "\n",
        "    return y, y_hat, group_labels, tp, tn, fp, fn\n",
        "'''\n"
      ]
    }
  ],
  "metadata": {
    "accelerator": "GPU",
    "colab": {
      "collapsed_sections": [
        "uPVBH6N1KKYY",
        "ckgH6rc8x3cf",
        "5TwPA-4Bg9Ql",
        "tYjJXUoLs7sB",
        "s-WWUvuiYgs4",
        "exWk0me3YyI4",
        "kSnURsI9aEBY",
        "jeaSp_TIqcsp",
        "ejWLvPcBJzZL"
      ],
      "gpuType": "T4",
      "machine_shape": "hm",
      "provenance": []
    },
    "kernelspec": {
      "display_name": "Python 3",
      "name": "python3"
    },
    "language_info": {
      "name": "python"
    }
  },
  "nbformat": 4,
  "nbformat_minor": 0
}