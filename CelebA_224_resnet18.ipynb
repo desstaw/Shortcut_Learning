{
  "nbformat": 4,
  "nbformat_minor": 0,
  "metadata": {
    "colab": {
      "provenance": [],
      "gpuType": "T4"
    },
    "kernelspec": {
      "name": "python3",
      "display_name": "Python 3"
    },
    "language_info": {
      "name": "python"
    },
    "accelerator": "GPU"
  },
  "cells": [
    {
      "cell_type": "code",
      "execution_count": 33,
      "metadata": {
        "colab": {
          "base_uri": "https://localhost:8080/"
        },
        "id": "PKLZCsggWxBs",
        "outputId": "25e78bca-51f5-478a-8160-637474bc9135"
      },
      "outputs": [
        {
          "output_type": "stream",
          "name": "stdout",
          "text": [
            "Requirement already satisfied: torchextractor in /usr/local/lib/python3.10/dist-packages (0.3.0)\n",
            "Requirement already satisfied: numpy in /usr/local/lib/python3.10/dist-packages (from torchextractor) (1.25.2)\n",
            "Requirement already satisfied: torch>=1.4.0 in /usr/local/lib/python3.10/dist-packages (from torchextractor) (2.3.0+cu121)\n",
            "Requirement already satisfied: filelock in /usr/local/lib/python3.10/dist-packages (from torch>=1.4.0->torchextractor) (3.14.0)\n",
            "Requirement already satisfied: typing-extensions>=4.8.0 in /usr/local/lib/python3.10/dist-packages (from torch>=1.4.0->torchextractor) (4.11.0)\n",
            "Requirement already satisfied: sympy in /usr/local/lib/python3.10/dist-packages (from torch>=1.4.0->torchextractor) (1.12)\n",
            "Requirement already satisfied: networkx in /usr/local/lib/python3.10/dist-packages (from torch>=1.4.0->torchextractor) (3.3)\n",
            "Requirement already satisfied: jinja2 in /usr/local/lib/python3.10/dist-packages (from torch>=1.4.0->torchextractor) (3.1.4)\n",
            "Requirement already satisfied: fsspec in /usr/local/lib/python3.10/dist-packages (from torch>=1.4.0->torchextractor) (2023.6.0)\n",
            "Requirement already satisfied: nvidia-cuda-nvrtc-cu12==12.1.105 in /usr/local/lib/python3.10/dist-packages (from torch>=1.4.0->torchextractor) (12.1.105)\n",
            "Requirement already satisfied: nvidia-cuda-runtime-cu12==12.1.105 in /usr/local/lib/python3.10/dist-packages (from torch>=1.4.0->torchextractor) (12.1.105)\n",
            "Requirement already satisfied: nvidia-cuda-cupti-cu12==12.1.105 in /usr/local/lib/python3.10/dist-packages (from torch>=1.4.0->torchextractor) (12.1.105)\n",
            "Requirement already satisfied: nvidia-cudnn-cu12==8.9.2.26 in /usr/local/lib/python3.10/dist-packages (from torch>=1.4.0->torchextractor) (8.9.2.26)\n",
            "Requirement already satisfied: nvidia-cublas-cu12==12.1.3.1 in /usr/local/lib/python3.10/dist-packages (from torch>=1.4.0->torchextractor) (12.1.3.1)\n",
            "Requirement already satisfied: nvidia-cufft-cu12==11.0.2.54 in /usr/local/lib/python3.10/dist-packages (from torch>=1.4.0->torchextractor) (11.0.2.54)\n",
            "Requirement already satisfied: nvidia-curand-cu12==10.3.2.106 in /usr/local/lib/python3.10/dist-packages (from torch>=1.4.0->torchextractor) (10.3.2.106)\n",
            "Requirement already satisfied: nvidia-cusolver-cu12==11.4.5.107 in /usr/local/lib/python3.10/dist-packages (from torch>=1.4.0->torchextractor) (11.4.5.107)\n",
            "Requirement already satisfied: nvidia-cusparse-cu12==12.1.0.106 in /usr/local/lib/python3.10/dist-packages (from torch>=1.4.0->torchextractor) (12.1.0.106)\n",
            "Requirement already satisfied: nvidia-nccl-cu12==2.20.5 in /usr/local/lib/python3.10/dist-packages (from torch>=1.4.0->torchextractor) (2.20.5)\n",
            "Requirement already satisfied: nvidia-nvtx-cu12==12.1.105 in /usr/local/lib/python3.10/dist-packages (from torch>=1.4.0->torchextractor) (12.1.105)\n",
            "Requirement already satisfied: triton==2.3.0 in /usr/local/lib/python3.10/dist-packages (from torch>=1.4.0->torchextractor) (2.3.0)\n",
            "Requirement already satisfied: nvidia-nvjitlink-cu12 in /usr/local/lib/python3.10/dist-packages (from nvidia-cusolver-cu12==11.4.5.107->torch>=1.4.0->torchextractor) (12.5.40)\n",
            "Requirement already satisfied: MarkupSafe>=2.0 in /usr/local/lib/python3.10/dist-packages (from jinja2->torch>=1.4.0->torchextractor) (2.1.5)\n",
            "Requirement already satisfied: mpmath>=0.19 in /usr/local/lib/python3.10/dist-packages (from sympy->torch>=1.4.0->torchextractor) (1.3.0)\n"
          ]
        }
      ],
      "source": [
        "!pip install torchextractor"
      ]
    },
    {
      "cell_type": "code",
      "source": [
        "import torch\n",
        "import sys\n",
        "import numpy as np\n",
        "import pickle as pkl\n",
        "from os.path import join as oj\n",
        "from datetime import datetime\n",
        "import torch.optim as optim\n",
        "import os\n",
        "from torch.utils.data import TensorDataset, ConcatDataset\n",
        "from sklearn.metrics import roc_auc_score, precision_recall_curve, auc, f1_score\n",
        "import argparse\n",
        "from PIL import Image\n",
        "from tqdm import tqdm\n",
        "from torch import nn\n",
        "from numpy.random import randint\n",
        "import torchvision.models as models\n",
        "import time\n",
        "import copy\n",
        "import gc\n",
        "import json\n",
        "import pandas as pd\n",
        "import torch\n",
        "import torchvision.models as models\n",
        "from torchvision import transforms\n",
        "from PIL import Image"
      ],
      "metadata": {
        "id": "jxkdE71HXvdI"
      },
      "execution_count": 34,
      "outputs": []
    },
    {
      "cell_type": "code",
      "source": [
        "from google.colab import drive\n",
        "drive.mount(\"/content/drive\")\n",
        "dir_path = \"/content/drive/MyDrive/Masterthesis/Datasets/CelebA\"\n"
      ],
      "metadata": {
        "colab": {
          "base_uri": "https://localhost:8080/"
        },
        "id": "HC2BZL5vX0Zf",
        "outputId": "59addeec-1164-4f3e-b030-6b2725d9c7a6"
      },
      "execution_count": 35,
      "outputs": [
        {
          "output_type": "stream",
          "name": "stdout",
          "text": [
            "Drive already mounted at /content/drive; to attempt to forcibly remount, call drive.mount(\"/content/drive\", force_remount=True).\n"
          ]
        }
      ]
    },
    {
      "cell_type": "code",
      "source": [
        "model_path = oj(dir_path, \"models\", \"initial_classifier\")\n",
        "model_training_path = oj(model_path, \"training_224\")\n",
        "data_path = oj(dir_path, \"data\")\n",
        "\n",
        "not_beard_path = oj(data_path, \"processed\", \"no_beard_224\")\n",
        "beard_path = oj(data_path, \"processed\", \"beard_224\")"
      ],
      "metadata": {
        "id": "nzTBjMXCX5nY"
      },
      "execution_count": 36,
      "outputs": []
    },
    {
      "cell_type": "code",
      "source": [
        "import numpy as np\n",
        "import argparse\n",
        "import torch\n",
        "import torchvision.models as models\n",
        "import torch.nn as nn\n",
        "\n",
        "mean = np.asarray([0.485, 0.456, 0.406])\n",
        "std = np.asarray([0.229, 0.224, 0.225])\n",
        "\n",
        "# Define arguments\n",
        "class Args:\n",
        "    def __init__(self):\n",
        "        self.batch_size = 16\n",
        "        self.epochs = 10\n",
        "        self.lr = 0.00001\n",
        "        self.momentum = 0.9\n",
        "        self.seed = 42\n",
        "        self.regularizer_rate = 0.0\n",
        "\n",
        "args = Args()\n",
        "\n",
        "regularizer_rate = args.regularizer_rate\n",
        "num_epochs = args.epochs\n",
        "device = torch.device('cuda' if torch.cuda.is_available() else 'cpu')\n",
        "\n",
        "torch.manual_seed(args.seed)\n",
        "\n",
        "model = models.resnet18(pretrained=True)\n",
        "\n",
        "# Modify the classifier (replace the last fully connected layer) it is called fc for resnet18\n",
        "num_ftrs = model.fc.in_features\n",
        "model.fc = nn.Linear(num_ftrs, 2)\n",
        "model = model.to(device)\n",
        "params_to_update = model.fc.parameters()"
      ],
      "metadata": {
        "colab": {
          "base_uri": "https://localhost:8080/"
        },
        "id": "Dqd7jg-jYLxY",
        "outputId": "9dc315d7-789e-4648-a1a0-d271d510a005"
      },
      "execution_count": 37,
      "outputs": [
        {
          "output_type": "stream",
          "name": "stderr",
          "text": [
            "/usr/local/lib/python3.10/dist-packages/torchvision/models/_utils.py:208: UserWarning: The parameter 'pretrained' is deprecated since 0.13 and may be removed in the future, please use 'weights' instead.\n",
            "  warnings.warn(\n",
            "/usr/local/lib/python3.10/dist-packages/torchvision/models/_utils.py:223: UserWarning: Arguments other than a weight enum or `None` for 'weights' are deprecated since 0.13 and may be removed in the future. The current behavior is equivalent to passing `weights=ResNet18_Weights.IMAGENET1K_V1`. You can also use `weights=ResNet18_Weights.DEFAULT` to get the most up-to-date weights.\n",
            "  warnings.warn(msg)\n"
          ]
        }
      ]
    },
    {
      "cell_type": "code",
      "source": [
        "def clean_up_empty_files(path):\n",
        "    list_files= os.listdir(path)\n",
        "    num_files = len(list_files)\n",
        "    for i in tqdm(range(num_files)):\n",
        "        if os.path.getsize(oj(path, list_files[i])) < 100:\n",
        "            os.remove(oj(path, list_files[i]))\n",
        "            print(\"File \" + str(i) + \"deleted!\")\n",
        "'''\n",
        "def clean_up_duplicates(path1, path2):\n",
        "    newfiles = os.listdir(path1)\n",
        "    oldfiles = os.listdir(path2)\n",
        "    diff = [f for f in newfiles if f not in oldfiles]\n",
        "    for i in tqdm(diff):\n",
        "        os.remove(oj(path1, i))\n",
        "        print(\"File \" + str(i) + \"deleted!\")\n",
        "\n",
        "def check_img_sizes(path):\n",
        "    list_files= os.listdir(path)\n",
        "    num_files = len(list_files)\n",
        "    for i in tqdm(range(num_files)):\n",
        "        im = Image.open(oj(path, list_files[i]))\n",
        "        if im.width != 224 or im.height != 224:\n",
        "            print(list_files[i])\n",
        "'''\n",
        "# clean_up_empty_files(cancer_path)\n",
        "# clean_up_empty_files(not_cancer_path)\n",
        "\n",
        "# newpath = oj(data_path, \"no_cancer_224_inpainted\")\n",
        "# oldpath = oj(data_path, \"processed\", \"no_cancer_224\")\n",
        "# clean_up_duplicates(newpath, oldpath)\n",
        "\n",
        "# check_img_sizes(not_cancer_path)\n"
      ],
      "metadata": {
        "colab": {
          "base_uri": "https://localhost:8080/",
          "height": 70
        },
        "id": "Wb0yOBCxYRJx",
        "outputId": "bbf47f9b-f780-4b57-ae4d-851f48cb8c2e"
      },
      "execution_count": 38,
      "outputs": [
        {
          "output_type": "execute_result",
          "data": {
            "text/plain": [
              "'\\ndef clean_up_duplicates(path1, path2):\\n    newfiles = os.listdir(path1)\\n    oldfiles = os.listdir(path2)\\n    diff = [f for f in newfiles if f not in oldfiles]\\n    for i in tqdm(diff):\\n        os.remove(oj(path1, i))\\n        print(\"File \" + str(i) + \"deleted!\")\\n\\ndef check_img_sizes(path):\\n    list_files= os.listdir(path)\\n    num_files = len(list_files)\\n    for i in tqdm(range(num_files)):\\n        im = Image.open(oj(path, list_files[i]))\\n        if im.width != 224 or im.height != 224:\\n            print(list_files[i])\\n'"
            ],
            "application/vnd.google.colaboratory.intrinsic+json": {
              "type": "string"
            }
          },
          "metadata": {},
          "execution_count": 38
        }
      ]
    },
    {
      "cell_type": "code",
      "source": [
        "class CelebADataset(torch.utils.data.Dataset):\n",
        "    def __init__(self, path: str = None, is_beard: int = None, data_files = None, labels = None):\n",
        "        \"\"\"\n",
        "        Expects path and is_beard both to be supplied if the relevant images all lie in the same directory and have the same class\n",
        "        or a list of full filepaths and list of all labels are both supplied using data_files and labels otherwise.\n",
        "        \"\"\"\n",
        "\n",
        "        \"\"\"\n",
        "        Initializes the WaterbirdDataset.\n",
        "\n",
        "        If 'path' and 'is_beard' are provided, it assumes that all images in the directory specified\n",
        "        by 'path' belong to the same class 'is_beard'.\n",
        "\n",
        "        Alternatively, if 'data_files' and 'labels' are provided, it uses these lists directly\n",
        "        for file paths and corresponding labels.\n",
        "\n",
        "        Args:\n",
        "            path (str): Directory containing images, all belonging to the same class.\n",
        "            is_beard (int): The class label (e.g., 1 for waterbird, 0 for non-waterbird) for all images in the directory.\n",
        "            data_files (list): List of full file paths to images.\n",
        "            labels (list): List of labels corresponding to 'data_files'.\n",
        "        \"\"\"\n",
        "        if path: # If a path is provided, list all files in the directory and assign the class label\n",
        "            self.path = path\n",
        "            self.data_files = os.listdir(self.path)\n",
        "            self.is_beard = is_beard\n",
        "\n",
        "        else: # Otherwise, use provided lists of data files and labels\n",
        "            self.path = ''\n",
        "            self.data_files = data_files\n",
        "            self.labels = labels\n",
        "            self.is_beard = None\n",
        "\n",
        "    def __getitem__(self, i):\n",
        "\n",
        "        \"\"\"\n",
        "        Retrieves an image and its label at index 'i'.\n",
        "\n",
        "        Args:\n",
        "            i (int): Index of the image to retrieve.\n",
        "\n",
        "        Returns:\n",
        "            tuple: (image tensor, label)\n",
        "        \"\"\"\n",
        "\n",
        "\n",
        "        # Read in the image, convert to float between [0,1] and standardise , and convert to a PyTorch tensor\n",
        "        img = Image.open(oj(self.path, self.data_files[i]))\n",
        "        img_array = np.asarray(img)/255.0 # Convert image to float and scale to [0, 1]\n",
        "        img_array -= mean[None, None, :] # Subtract the mean for normalization\n",
        "        img_array /= std[None, None, :] # Divide by the standard deviation for normalization\n",
        "        img.close()\n",
        "        torch_img = torch.from_numpy(img_array.swapaxes(0,2).swapaxes(1,2)).float() # Convert the numpy array to a PyTorch tensor and rearrange the axes\n",
        "        # Determine the label: use the global class label if provided, otherwise extract the relevant label from the list of labels.\n",
        "        is_beard = self.is_beard if self.is_beard is not None else self.labels[i]\n",
        "        return (torch_img, is_beard)\n",
        "\n",
        "    def __len__(self): # Returns the total number of images in the dataset.\n",
        "        return len(self.data_files)"
      ],
      "metadata": {
        "id": "O-Sjxg4eYWoI"
      },
      "execution_count": 39,
      "outputs": []
    },
    {
      "cell_type": "markdown",
      "source": [
        "## Functions for Training"
      ],
      "metadata": {
        "id": "WztOCsqEYahv"
      }
    },
    {
      "cell_type": "code",
      "source": [
        "def gradient_sum(im, target, model, crit, device='cuda'):\n",
        "    '''assume that eveything is already on cuda'''\n",
        "    im.requires_grad = True # Enable gradient computation for the input image\n",
        "    grad_params = torch.abs(torch.autograd.grad(crit(model(im), target), im,create_graph = True)[0].sum(dim=1)).sum()\n",
        "    return grad_params\n",
        "\n",
        "def train_model(model, dataloaders, criterion, optimizer, num_epochs=25, resume_training=False):\n",
        "    since = time.time()\n",
        "    # train_loss_history = []\n",
        "    # train_acc_history = []\n",
        "    # train_cd_history= []\n",
        "\n",
        "\n",
        "    # Initialize best_loss, patience, and cur_patience to manage early stopping.\n",
        "    best_loss = 10.0\n",
        "    patience = 3 # Number of epochs to wait for improvement\n",
        "    cur_patience = 0 # Current patience counter\n",
        "\n",
        "    if len(os.listdir(model_training_path)) > 0 and resume_training:\n",
        "      # Check if there are saved model files and resume training if needed\n",
        "        model_list = [(f, os.path.getmtime(oj(model_training_path,f))) for f in os.listdir(model_training_path) if f.endswith('.pt')]\n",
        "        model_list.sort(key=lambda tup: tup[1], reverse=True)  # Sort models by modification time in place from most to least recent\n",
        "        model_name = model_list[0][0]\n",
        "        model.fc.load_state_dict(torch.load(oj(model_training_path, model_name)))\n",
        "        print(\"Model loaded!\")\n",
        "\n",
        "    for epoch in range(1, num_epochs + 1):\n",
        "        print('Epoch {}/{}'.format(epoch, num_epochs))\n",
        "        print('-' * 10)\n",
        "\n",
        "        # Each epoch has a training and validation phase\n",
        "        optimizer.step() # Update the model parameters\n",
        "        model.train()  # Set model to training mode\n",
        "        phase = 'train'\n",
        "        running_loss = 0.0\n",
        "        running_loss_cd = 0.0\n",
        "        running_corrects = 0\n",
        "\n",
        "        # Iterate over data , moving inputs and labels to the specified device.\n",
        "        for i, (inputs, labels) in tqdm(enumerate(dataloaders[phase])):\n",
        "\n",
        "            inputs = inputs.to(device)\n",
        "            labels = labels.to(device)\n",
        "\n",
        "            # zero the parameter gradients\n",
        "            optimizer.zero_grad()\n",
        "\n",
        "            # forward\n",
        "            # track history if only in train\n",
        "            with torch.set_grad_enabled(phase == 'train'):\n",
        "                # need to do calc beforehand because we do need the gradients\n",
        "                if phase == 'train' and regularizer_rate !=0:\n",
        "                  # Apply gradient regularization if specified , compute additional loss from gradients and update the model.\n",
        "                    inputs.requires_grad = True\n",
        "                    add_loss = gradient_sum(inputs, labels, model, criterion)\n",
        "                    if add_loss!=0:\n",
        "                        (regularizer_rate*add_loss).backward()\n",
        "                        optimizer.step()\n",
        "                    #print(torch.cuda.memory_allocated()/(np.power(10,9)))\n",
        "                    optimizer.zero_grad()\n",
        "                    running_loss_cd += add_loss.item() * inputs.size(0)\n",
        "\n",
        "                    #inputs.require_grad = False\n",
        "\n",
        "                outputs = model(inputs)\n",
        "                _, preds = torch.max(outputs, 1)\n",
        "                loss = criterion(outputs, labels)\n",
        "                if phase == 'train':\n",
        "                    (loss).backward()\n",
        "                    optimizer.step()\n",
        "\n",
        "            # statistics\n",
        "            running_loss += loss.item() * inputs.size(0)\n",
        "\n",
        "            running_corrects += torch.sum(preds == labels.data)\n",
        "\n",
        "        epoch_loss = running_loss / dataset_sizes[phase]\n",
        "        epoch_cd_loss = running_loss_cd / dataset_sizes[phase]\n",
        "\n",
        "        epoch_acc = running_corrects.double() / dataset_sizes[phase]\n",
        "\n",
        "        print('{} Loss: {:.4f} Acc: {:.4f} CD Loss : {:.4f}'.format(\n",
        "            phase, epoch_loss, epoch_acc, epoch_cd_loss))\n",
        "\n",
        "        # train_loss_history.append(epoch_loss)\n",
        "        # train_cd_history.append(epoch_cd_loss)\n",
        "        # train_acc_history.append(epoch_acc.item())\n",
        "        torch.save(model.fc.state_dict(), oj(model_training_path, datetime.now().strftime(\"%Y%m%d%H%M%S\") + \".pt\"))\n",
        "\n",
        "    time_elapsed = time.time() - since\n",
        "    print('Training complete in {:.0f}m {:.0f}s'.format(\n",
        "        time_elapsed // 60, time_elapsed % 60)\n",
        "    )\n",
        "    print('Best val loss: {:4f}'.format(best_loss))\n",
        "\n",
        "    # load best model weights\n",
        "    return model"
      ],
      "metadata": {
        "id": "FHF45c9XYfPw"
      },
      "execution_count": 40,
      "outputs": []
    },
    {
      "cell_type": "markdown",
      "source": [
        "## Functions for Evaluation"
      ],
      "metadata": {
        "id": "s-WWUvuiYgs4"
      }
    },
    {
      "cell_type": "code",
      "source": [
        "from sklearn.metrics import auc,average_precision_score, roc_curve,roc_auc_score,precision_recall_curve, f1_score\n",
        "\n",
        "def get_output(model, dataset):\n",
        "    data_loader = torch.utils.data.DataLoader(dataset, batch_size=16,\n",
        "                                             shuffle=False, num_workers=2)\n",
        "    model = model.eval()\n",
        "    y = []\n",
        "    y_hat = []\n",
        "    softmax= torch.nn.Softmax() #Creates a Softmax function to convert logits to probabilities.\n",
        "    with torch.no_grad() : # Disables gradient computation for the operations within this block, saving memory and computation.\n",
        "\n",
        "        # Iterate over the DataLoader, moves inputs to GPU, and appends true labels and predicted probabilities to their respective lists.\n",
        "        for inputs, labels in data_loader:\n",
        "            y_hat.append((labels).cpu().numpy())\n",
        "            y.append(torch.nn.Softmax(dim=1)( model(inputs.cuda()))[:,1].detach().cpu().numpy()) # take the probability for beard\n",
        "    y_hat = np.concatenate( y_hat, axis=0 )\n",
        "    y = np.concatenate( y, axis=0 )\n",
        "    return y, y_hat # in the training set the values were switched\n",
        "\n",
        "def get_auc_f1(model, dataset,fname = None, ):\n",
        "    if fname !=None:\n",
        "        with open(fname, 'rb') as f:\n",
        "            weights = torch.load(f)\n",
        "        if \"classifier.0.weight\" in weights.keys(): #for the gradient models we unfortunately saved all of the weights\n",
        "            model.load_state_dict(weights)\n",
        "        else:\n",
        "            model.fc.load_state_dict(weights)\n",
        "        y, y_hat = get_output(model.fc, dataset)\n",
        "    else:\n",
        "        y, y_hat = get_output(model, dataset)\n",
        "    auc =roc_auc_score(y_hat, y)\n",
        "    f1 = np.asarray([f1_score(y_hat, y > x) for x in np.linspace(0.1,1, num = 10) if (y >x).any() and (y<x).any()]).max()\n",
        "    return auc, f1"
      ],
      "metadata": {
        "id": "-MIuY7JnYw8Q"
      },
      "execution_count": 41,
      "outputs": []
    },
    {
      "cell_type": "markdown",
      "source": [
        "## Initial Classifier Training (on waterbirds no patch and not waterbirds with & without patch)"
      ],
      "metadata": {
        "id": "exWk0me3YyI4"
      }
    },
    {
      "cell_type": "code",
      "source": [
        "beard_no_patch_path = \"/content/drive/MyDrive/Masterthesis/Datasets/CelebA/beard_nopatch_224\""
      ],
      "metadata": {
        "id": "wZAVa0Oku8OA"
      },
      "execution_count": 42,
      "outputs": []
    },
    {
      "cell_type": "code",
      "source": [
        "beard_no_patch_dataset = CelebADataset(path=beard_no_patch_path, is_beard=1)\n",
        "not_beard_dataset = CelebADataset(path=not_beard_path, is_beard=0)\n",
        "complete_dataset = ConcatDataset((beard_no_patch_dataset, not_beard_dataset))\n",
        "\n",
        "num_total = len(complete_dataset)\n",
        "num_train = int(0.8 * num_total)\n",
        "num_test = num_total - num_train\n",
        "torch.manual_seed(0);\n",
        "print(\"num_train:\", num_train)\n",
        "print(\"num_test:\", num_test)\n",
        "\n",
        "train_dataset, test_dataset = torch.utils.data.random_split(complete_dataset, [num_train, num_test])\n",
        "datasets = {'train' : train_dataset, 'test':test_dataset}\n",
        "dataset_sizes = {'train' : len(train_dataset), 'test':len(test_dataset)}\n",
        "\n",
        "dataloaders = {x: torch.utils.data.DataLoader(datasets[x], batch_size=args.batch_size,\n",
        "                                             shuffle=True, num_workers=2)\n",
        "              for x in ['train', 'test']}"
      ],
      "metadata": {
        "colab": {
          "base_uri": "https://localhost:8080/"
        },
        "id": "7nNFkym2Y6xA",
        "outputId": "71b82ab1-1a6d-40d2-c9c0-fd34abbe8ea1"
      },
      "execution_count": 43,
      "outputs": [
        {
          "output_type": "stream",
          "name": "stdout",
          "text": [
            "num_train: 3012\n",
            "num_test: 754\n"
          ]
        }
      ]
    },
    {
      "cell_type": "code",
      "source": [
        "def list_to_file(li, filename):\n",
        "  with open(filename, 'w') as f:\n",
        "    for item in li:\n",
        "      f.write(\"%s\\n\" % item)\n",
        "\n",
        "def extract_filenames(train_subset, test_subset):\n",
        "  # Extract the relevant indices of the concat dataset\n",
        "  train_idx, test_idx = train_subset.indices, test_subset.indices\n",
        "\n",
        "  # Extract the filenames for the beard_dataset and not_beard_dataset and concatenate with their directory path.\n",
        "  # Each original dataset is stored by the ConcatDataset class. So even though train_subset is a subset, the info for the whole beard dataset is stored in train_subset.dataset.datasets[0]\n",
        "  beard_no_patch_filepaths      = [oj(train_subset.dataset.datasets[0].path, file) for file in train_subset.dataset.datasets[0].data_files]\n",
        "  not_beard_filepaths  = [oj(train_subset.dataset.datasets[1].path, file) for file in train_subset.dataset.datasets[1].data_files]\n",
        "\n",
        "  filepaths = beard_no_patch_filepaths + not_beard_filepaths    # Append the lists together, this combined list is what the indices are based on.\n",
        "\n",
        "  train_files = [filepaths[i] for i in train_idx]\n",
        "  test_files  = [filepaths[i] for i in test_idx]\n",
        "\n",
        "  return train_files, test_files"
      ],
      "metadata": {
        "id": "qw-Bj-oxZhhY"
      },
      "execution_count": 44,
      "outputs": []
    },
    {
      "cell_type": "code",
      "source": [
        "# Call the function and get the full file paths.\n",
        "train_files, test_files = extract_filenames(train_dataset, test_dataset)\n",
        "list_to_file(train_files, oj(dir_path, 'models', 'train_files.txt'))   # Write the training filepaths to a text file.\n",
        "list_to_file(test_files,  oj(dir_path, 'models', 'test_files.txt'))    # Write the testing filepaths to a text file."
      ],
      "metadata": {
        "id": "jpiE8sGrZr1o"
      },
      "execution_count": 45,
      "outputs": []
    },
    {
      "cell_type": "markdown",
      "source": [
        "## Weights for Training"
      ],
      "metadata": {
        "id": "7kYYzFLOZvsB"
      }
    },
    {
      "cell_type": "code",
      "source": [
        "beard_ratio = len(beard_no_patch_dataset)/len(complete_dataset)\n",
        "\n",
        "not_beard_ratio = 1 - beard_ratio\n",
        "beard_weight = 1/beard_ratio\n",
        "not_beard_weight = 1/ not_beard_ratio\n",
        "weights = np.asarray([not_beard_weight, beard_weight])\n",
        "weights /= weights.sum()\n",
        "weights = torch.tensor(weights).to(device)\n",
        "\n",
        "criterion = nn.CrossEntropyLoss(weight = weights.double().float())\n",
        "\n",
        "optimizer_ft = optim.SGD(params_to_update, lr=args.lr, momentum=args.momentum)"
      ],
      "metadata": {
        "id": "CkB0DfxrZxUX"
      },
      "execution_count": 46,
      "outputs": []
    },
    {
      "cell_type": "code",
      "source": [
        "model = train_model(model, dataloaders, criterion, optimizer_ft, num_epochs=num_epochs, resume_training=False)\n",
        "pid = datetime.now().strftime('%Y%m%d%H%M%S')\n",
        "torch.save(model.fc.state_dict(),oj(dir_path, model_path, pid + \".pt\"))"
      ],
      "metadata": {
        "colab": {
          "base_uri": "https://localhost:8080/"
        },
        "id": "-IdfnB2qZ83g",
        "outputId": "8c92dc0e-fe08-4921-a08e-9f8c27391a49"
      },
      "execution_count": 47,
      "outputs": [
        {
          "output_type": "stream",
          "name": "stdout",
          "text": [
            "Epoch 1/10\n",
            "----------\n"
          ]
        },
        {
          "output_type": "stream",
          "name": "stderr",
          "text": [
            "189it [00:27,  6.86it/s]\n"
          ]
        },
        {
          "output_type": "stream",
          "name": "stdout",
          "text": [
            "train Loss: 0.7062 Acc: 0.5667 CD Loss : 0.0000\n",
            "Epoch 2/10\n",
            "----------\n"
          ]
        },
        {
          "output_type": "stream",
          "name": "stderr",
          "text": [
            "189it [00:26,  7.01it/s]"
          ]
        },
        {
          "output_type": "stream",
          "name": "stdout",
          "text": [
            "train Loss: 0.6623 Acc: 0.7022 CD Loss : 0.0000\n",
            "Epoch 3/10\n",
            "----------\n"
          ]
        },
        {
          "output_type": "stream",
          "name": "stderr",
          "text": [
            "\n",
            "189it [00:17, 11.09it/s]"
          ]
        },
        {
          "output_type": "stream",
          "name": "stdout",
          "text": [
            "train Loss: 0.6410 Acc: 0.7341 CD Loss : 0.0000\n",
            "Epoch 4/10\n",
            "----------\n"
          ]
        },
        {
          "output_type": "stream",
          "name": "stderr",
          "text": [
            "\n",
            "189it [00:17, 10.92it/s]"
          ]
        },
        {
          "output_type": "stream",
          "name": "stdout",
          "text": [
            "train Loss: 0.6197 Acc: 0.7264 CD Loss : 0.0000\n",
            "Epoch 5/10\n",
            "----------\n"
          ]
        },
        {
          "output_type": "stream",
          "name": "stderr",
          "text": [
            "\n",
            "189it [00:17, 10.79it/s]"
          ]
        },
        {
          "output_type": "stream",
          "name": "stdout",
          "text": [
            "train Loss: 0.6036 Acc: 0.7480 CD Loss : 0.0000\n",
            "Epoch 6/10\n",
            "----------\n"
          ]
        },
        {
          "output_type": "stream",
          "name": "stderr",
          "text": [
            "\n",
            "189it [00:17, 10.53it/s]"
          ]
        },
        {
          "output_type": "stream",
          "name": "stdout",
          "text": [
            "train Loss: 0.5849 Acc: 0.7493 CD Loss : 0.0000\n",
            "Epoch 7/10\n",
            "----------\n"
          ]
        },
        {
          "output_type": "stream",
          "name": "stderr",
          "text": [
            "\n",
            "189it [00:18, 10.41it/s]"
          ]
        },
        {
          "output_type": "stream",
          "name": "stdout",
          "text": [
            "train Loss: 0.5767 Acc: 0.7450 CD Loss : 0.0000\n",
            "Epoch 8/10\n",
            "----------\n"
          ]
        },
        {
          "output_type": "stream",
          "name": "stderr",
          "text": [
            "\n",
            "189it [00:16, 11.25it/s]"
          ]
        },
        {
          "output_type": "stream",
          "name": "stdout",
          "text": [
            "train Loss: 0.5614 Acc: 0.7673 CD Loss : 0.0000\n",
            "Epoch 9/10\n",
            "----------\n"
          ]
        },
        {
          "output_type": "stream",
          "name": "stderr",
          "text": [
            "\n",
            "189it [00:16, 11.22it/s]"
          ]
        },
        {
          "output_type": "stream",
          "name": "stdout",
          "text": [
            "train Loss: 0.5542 Acc: 0.7782 CD Loss : 0.0000\n",
            "Epoch 10/10\n",
            "----------\n"
          ]
        },
        {
          "output_type": "stream",
          "name": "stderr",
          "text": [
            "\n",
            "189it [00:16, 11.16it/s]"
          ]
        },
        {
          "output_type": "stream",
          "name": "stdout",
          "text": [
            "train Loss: 0.5418 Acc: 0.7583 CD Loss : 0.0000\n",
            "Training complete in 3m 14s\n",
            "Best val loss: 10.000000\n"
          ]
        },
        {
          "output_type": "stream",
          "name": "stderr",
          "text": [
            "\n"
          ]
        }
      ]
    },
    {
      "cell_type": "code",
      "source": [
        "auc, f1 = get_auc_f1(model, test_dataset)\n",
        "print(\"AUC: \", auc)\n",
        "print(\"F1: \", f1)"
      ],
      "metadata": {
        "id": "VPQX68GHZ-1g",
        "colab": {
          "base_uri": "https://localhost:8080/"
        },
        "outputId": "f0f53b1d-55e3-462b-8bd5-f0a107f29e21"
      },
      "execution_count": 49,
      "outputs": [
        {
          "output_type": "stream",
          "name": "stdout",
          "text": [
            "AUC:  0.8244364235055724\n",
            "F1:  0.4444444444444444\n"
          ]
        }
      ]
    },
    {
      "cell_type": "code",
      "source": [
        "results_file_path = oj(dir_path, \"auc_f1_224_resnet18_beard_no_patch.txt\")\n",
        "print(results_file_path)\n",
        "with open(results_file_path, 'w') as f:\n",
        "    f.write('AUC: ' + str(auc) + \"\\n\")\n",
        "    f.write('F1: ' + str(f1) + \"\\n\")"
      ],
      "metadata": {
        "id": "iaVVMalgaAnI",
        "colab": {
          "base_uri": "https://localhost:8080/"
        },
        "outputId": "ae6d5e96-15ca-4ea1-a411-ac075ad34334"
      },
      "execution_count": 50,
      "outputs": [
        {
          "output_type": "stream",
          "name": "stdout",
          "text": [
            "/content/drive/MyDrive/Masterthesis/Datasets/CelebA/auc_f1_224_resnet18_beard_no_patch.txt\n"
          ]
        }
      ]
    },
    {
      "cell_type": "markdown",
      "source": [
        "## Reload the model to skip retrainig and test with waterbird patched images"
      ],
      "metadata": {
        "id": "kSnURsI9aEBY"
      }
    },
    {
      "cell_type": "code",
      "source": [
        "beard_patch_path = '/content/drive/MyDrive/Masterthesis/Datasets/CelebA/beard_patch_224'\n",
        "not_beard_path = '/content/drive/MyDrive/Masterthesis/Datasets/CelebA/data/processed/no_beard_224'"
      ],
      "metadata": {
        "id": "lZLm8md2scbB"
      },
      "execution_count": 51,
      "outputs": []
    },
    {
      "cell_type": "code",
      "source": [
        "beard_patch_dataset = CelebADataset(path=beard_patch_path, is_beard=1)\n",
        "not_beard_dataset = CelebADataset(path=not_beard_path, is_beard=0)\n",
        "complete_patch_dataset = ConcatDataset((beard_patch_dataset, not_beard_dataset))\n",
        "\n",
        "num_total = len(complete_patch_dataset)\n",
        "num_train = int(0.8 * num_total)\n",
        "num_test = num_total - num_train\n",
        "torch.manual_seed(0);\n",
        "print(\"num_train:\", num_train)\n",
        "print(\"num_test:\", num_test)\n",
        "\n",
        "train_patch_dataset, test_patch_dataset = torch.utils.data.random_split(complete_patch_dataset, [num_train, num_test])\n",
        "datasets = {'train' : train_patch_dataset, 'test':test_patch_dataset}\n",
        "dataset_sizes = {'train' : len(train_patch_dataset), 'test':len(test_patch_dataset)}\n",
        "\n",
        "dataloaders = {x: torch.utils.data.DataLoader(datasets[x], batch_size=args.batch_size,\n",
        "                                             shuffle=True, num_workers=2)\n",
        "              for x in ['train', 'test']}\n"
      ],
      "metadata": {
        "id": "0taIZkOmaIX4",
        "colab": {
          "base_uri": "https://localhost:8080/"
        },
        "outputId": "b1bbd0eb-d03f-41f1-ce96-c624799d19eb"
      },
      "execution_count": 52,
      "outputs": [
        {
          "output_type": "stream",
          "name": "stdout",
          "text": [
            "num_train: 2844\n",
            "num_test: 712\n"
          ]
        }
      ]
    },
    {
      "cell_type": "code",
      "source": [
        "\n",
        "def list_to_file(li, filename):\n",
        "  with open(filename, 'w') as f:\n",
        "    for item in li:\n",
        "      f.write(\"%s\\n\" % item)\n",
        "\n",
        "def extract_filenames(train_subset, test_subset):\n",
        "  # Extract the relevant indices of the concat dataset\n",
        "  train_idx, test_idx = train_subset.indices, test_subset.indices\n",
        "\n",
        "  # Extract the filenames for the beard_dataset and not_beard_dataset and concatenate with their directory path.\n",
        "  # Each original dataset is stored by the ConcatDataset class. So even though train_subset is a subset, the info for the whole beard dataset is stored in train_subset.dataset.datasets[0]\n",
        "  beard_filepaths      = [oj(train_subset.dataset.datasets[0].path, file) for file in train_subset.dataset.datasets[0].data_files]\n",
        "  not_beard_filepaths  = [oj(train_subset.dataset.datasets[1].path, file) for file in train_subset.dataset.datasets[1].data_files]\n",
        "\n",
        "  filepaths = beard_filepaths + not_beard_filepaths    # Append the lists together, this combined list is what the indices are based on.\n",
        "\n",
        "  train_files = [filepaths[i] for i in train_idx]\n",
        "  test_files  = [filepaths[i] for i in test_idx]\n",
        "\n",
        "  return train_files, test_files\n"
      ],
      "metadata": {
        "id": "1FUiJI3eaVaI"
      },
      "execution_count": 53,
      "outputs": []
    },
    {
      "cell_type": "code",
      "source": [
        "def get_auc_f1(model, dataset,fname = None, ):\n",
        "    if fname !=None:\n",
        "        with open(fname, 'rb') as f:\n",
        "            weights = torch.load(f)\n",
        "        if \"classifier.0.weight\" in weights.keys(): #for the gradient models they saved all of the weights\n",
        "            model.load_state_dict(weights)\n",
        "        else:\n",
        "            model.fc.load_state_dict(weights)\n",
        "        y, y_hat = get_output(model.fc, dataset)\n",
        "    else:\n",
        "        y, y_hat = get_output(model, dataset)\n",
        "    auc =roc_auc_score(y_hat, y)\n",
        "    f1 = np.asarray([f1_score(y_hat, y > x) for x in np.linspace(0.1,1, num = 10) if (y >x).any() and (y<x).any()]).max()\n",
        "    return auc, f1"
      ],
      "metadata": {
        "id": "zmRzzc7_pfgX"
      },
      "execution_count": 54,
      "outputs": []
    },
    {
      "cell_type": "code",
      "source": [
        "def save_predictions(model, dataset, filename):\n",
        "    predictions = []\n",
        "    true_labels = []\n",
        "\n",
        "    # Iterate over the dataset\n",
        "    for inputs, labels in dataset:\n",
        "        inputs = inputs.unsqueeze(0)  # Add batch dimension\n",
        "        inputs = inputs.to(device)  # Move data to appropriate device\n",
        "        outputs = model(inputs)\n",
        "        _, predicted = torch.max(outputs, 1)\n",
        "\n",
        "        # Append predictions to the list\n",
        "        predictions.append(predicted.item())\n",
        "\n",
        "        # Check if labels are integers or tensors\n",
        "        if isinstance(labels, torch.Tensor):\n",
        "            true_labels.append(labels.item())\n",
        "        else:\n",
        "            true_labels.append(labels)  # Assume labels are integers\n",
        "\n",
        "    # Create a DataFrame to store predictions and true labels\n",
        "    df = pd.DataFrame({\n",
        "        'Prediction': predictions,\n",
        "        'True Label': true_labels\n",
        "    })\n",
        "\n",
        "    # Save DataFrame to CSV file\n",
        "    df.to_csv(filename, index=False)\n",
        "    print(f\"Predictions saved to {filename}\")"
      ],
      "metadata": {
        "id": "CRf2aUylagRo"
      },
      "execution_count": 55,
      "outputs": []
    },
    {
      "cell_type": "code",
      "source": [
        "model = models.resnet18(pretrained=True)\n",
        "model.fc = torch.nn.Linear(num_ftrs, 2)  # Modify classifier\n",
        "\n",
        "# Load the saved parameters into the model\n",
        "saved_model_path = \"/content/drive/MyDrive/Masterthesis/Datasets/CelebA/models/initial_classifier/20240601132518.pt\"\n",
        "model.fc.load_state_dict(torch.load(saved_model_path))\n",
        "\n",
        "# Move model to GPU\n",
        "device = torch.device('cuda' if torch.cuda.is_available() else 'cpu')\n",
        "model.to(device)\n",
        "\n",
        "# beard_dataset and complete_dataset are already defined\n",
        "beard_ratio = len(beard_patch_dataset) / len(complete_dataset)\n",
        "not_beard_ratio = 1 - beard_ratio\n",
        "beard_weight = 1 / beard_ratio\n",
        "not_beard_weight = 1 / not_beard_ratio\n",
        "weights = torch.tensor([not_beard_weight, beard_weight], device=device, dtype=torch.float)\n",
        "\n",
        "criterion = nn.CrossEntropyLoss(weight=weights)\n",
        "\n",
        "# Define arguments\n",
        "class Args:\n",
        "    def __init__(self):\n",
        "        self.batch_size = 16\n",
        "        self.epochs = 10\n",
        "        self.lr = 0.00001\n",
        "        self.momentum = 0.9\n",
        "        self.seed = 42\n",
        "        self.regularizer_rate = 0.0\n",
        "\n",
        "args = Args()\n",
        "\n",
        "regularizer_rate = args.regularizer_rate\n",
        "num_epochs = args.epochs\n",
        "\n",
        "torch.manual_seed(args.seed)\n",
        "\n",
        "#params_to_update = model.fc.parameters()\n",
        "params_to_update = model.parameters()\n",
        "\n",
        "optimizer_ft = optim.SGD(params_to_update, lr=args.lr, momentum=args.momentum)\n"
      ],
      "metadata": {
        "id": "n6fMrLJWajKg",
        "colab": {
          "base_uri": "https://localhost:8080/"
        },
        "outputId": "6fba6505-64f2-4a06-b245-e5909cde5d7d"
      },
      "execution_count": 56,
      "outputs": [
        {
          "output_type": "stream",
          "name": "stderr",
          "text": [
            "/usr/local/lib/python3.10/dist-packages/torchvision/models/_utils.py:208: UserWarning: The parameter 'pretrained' is deprecated since 0.13 and may be removed in the future, please use 'weights' instead.\n",
            "  warnings.warn(\n",
            "/usr/local/lib/python3.10/dist-packages/torchvision/models/_utils.py:223: UserWarning: Arguments other than a weight enum or `None` for 'weights' are deprecated since 0.13 and may be removed in the future. The current behavior is equivalent to passing `weights=ResNet18_Weights.IMAGENET1K_V1`. You can also use `weights=ResNet18_Weights.DEFAULT` to get the most up-to-date weights.\n",
            "  warnings.warn(msg)\n"
          ]
        }
      ]
    },
    {
      "cell_type": "code",
      "source": [
        "auc, f1 = get_auc_f1(model, test_patch_dataset)\n",
        "print(\"AUC: \", auc)\n",
        "print(\"F1: \", f1)"
      ],
      "metadata": {
        "id": "K8_Ahmdgawn5",
        "colab": {
          "base_uri": "https://localhost:8080/"
        },
        "outputId": "c1fee34b-dac4-4dcb-e680-a3a6dc783f3f"
      },
      "execution_count": 57,
      "outputs": [
        {
          "output_type": "stream",
          "name": "stdout",
          "text": [
            "AUC:  0.7749727817093086\n",
            "F1:  0.2366863905325444\n"
          ]
        }
      ]
    },
    {
      "cell_type": "code",
      "source": [
        "save_predictions(model, test_patch_dataset, '/content/drive/MyDrive/Masterthesis/Datasets/CelebA/models/initial_classifier/patch_predictions.csv')"
      ],
      "metadata": {
        "id": "Pkn1ZI-waxnv",
        "colab": {
          "base_uri": "https://localhost:8080/"
        },
        "outputId": "e6b6df9c-246d-4685-8edf-7c16ce9fd2d7"
      },
      "execution_count": 58,
      "outputs": [
        {
          "output_type": "stream",
          "name": "stdout",
          "text": [
            "Predictions saved to /content/drive/MyDrive/Masterthesis/Datasets/CelebA/models/initial_classifier/patch_predictions.csv\n"
          ]
        }
      ]
    },
    {
      "cell_type": "markdown",
      "source": [
        "## Load model and extract activations from last layer"
      ],
      "metadata": {
        "id": "Q_rl1OCAa1uw"
      }
    },
    {
      "cell_type": "code",
      "source": [
        "# Load pre-trained ResNet-18 model\n",
        "model = models.resnet18(pretrained=True)\n",
        "\n",
        "# Check the number of input features to the final fully connected layer\n",
        "num_ftrs = model.fc.in_features\n",
        "\n",
        "# Replace the final fully connected layer with a new linear layer for binary classification\n",
        "model.fc = torch.nn.Linear(num_ftrs, 2)\n",
        "\n",
        "# Load the saved parameters into the model\n",
        "saved_model_path = \"/content/drive/MyDrive/Masterthesis/Datasets/CelebA/models/initial_classifier/20240601132518.pt\"\n",
        "model.fc.load_state_dict(torch.load(saved_model_path))\n",
        "\n",
        "# Move model to GPU\n",
        "device = torch.device('cuda' if torch.cuda.is_available() else 'cpu')\n",
        "model.to(device)\n",
        "\n",
        "# Define preprocessing transforms\n",
        "preprocess = transforms.Compose([\n",
        "    transforms.Resize(256),\n",
        "    transforms.CenterCrop(224),\n",
        "    transforms.ToTensor(),\n",
        "    transforms.Normalize(mean=[0.485, 0.456, 0.406], std=[0.229, 0.224, 0.225]),\n",
        "])\n",
        "\n",
        "def preprocess_and_extract_activations(image_path):\n",
        "    # Load and preprocess the image\n",
        "    image = Image.open(image_path).convert(\"RGB\")\n",
        "    image_tensor = preprocess(image).unsqueeze(0).to(device)\n",
        "\n",
        "    model.eval()  # Set model to evaluation mode\n",
        "    with torch.no_grad():  # Disable gradient calculation\n",
        "        # Forward pass through the model up to the last fully connected layer\n",
        "        features = model.conv1(image_tensor)\n",
        "        features = model.bn1(features)\n",
        "        features = model.relu(features)\n",
        "        features = model.maxpool(features)\n",
        "\n",
        "        features = model.layer1(features)\n",
        "        features = model.layer2(features)\n",
        "        features = model.layer3(features)\n",
        "        features = model.layer4(features)\n",
        "\n",
        "        features = model.avgpool(features)\n",
        "        features = torch.flatten(features, 1)\n",
        "\n",
        "        # Extract activations from the last fully connected layer before the final classification layer\n",
        "        activations = features.squeeze().cpu().detach().numpy()\n",
        "\n",
        "    return activations\n",
        "\n",
        "\n",
        "# Function to recursively traverse folders and process images\n",
        "def process_images_in_folder(folder_path):\n",
        "    all_activations = []\n",
        "    for root, dirs, files in os.walk(folder_path):\n",
        "        for file in files:\n",
        "            if file.endswith(('.jpg')):\n",
        "                image_path = os.path.join(root, file)\n",
        "                activations = preprocess_and_extract_activations(image_path)\n",
        "                if activations is not None:\n",
        "                    all_activations.append(activations)\n",
        "    return all_activations\n",
        "\n",
        "# Folder path containing images\n",
        "patch_beard_folder_path = \"/content/drive/MyDrive/Masterthesis/Datasets/CelebA/beard_patch_224\"\n",
        "no_patch_beard_folder_path = \"/content/drive/MyDrive/Masterthesis/Datasets/CelebA/beard_nopatch_224\"\n",
        "\n",
        "# Extract activations for all images in the folder\n",
        "wp_beard_all_activations = process_images_in_folder(patch_beard_folder_path)\n",
        "wo_beard_all_activations = process_images_in_folder(no_patch_beard_folder_path)\n",
        "\n",
        "if wp_beard_all_activations:\n",
        "    print(\"wp_beard_all_activations shape:\", np.vstack(wp_beard_all_activations).shape)\n",
        "else:\n",
        "    print(\"No activations found in wp_beard_all_activations\")\n",
        "\n",
        "if wo_beard_all_activations:\n",
        "    print(\"wo_beard_all_activations shape:\", np.vstack(wo_beard_all_activations).shape)\n",
        "else:\n",
        "    print(\"No activations found in wo_beard_all_activations\")"
      ],
      "metadata": {
        "colab": {
          "base_uri": "https://localhost:8080/"
        },
        "id": "P2-QBtnUSLKo",
        "outputId": "5c31e14c-0348-4b31-b57c-94ae804f0690"
      },
      "execution_count": 94,
      "outputs": [
        {
          "output_type": "stream",
          "name": "stderr",
          "text": [
            "/usr/local/lib/python3.10/dist-packages/torchvision/models/_utils.py:208: UserWarning: The parameter 'pretrained' is deprecated since 0.13 and may be removed in the future, please use 'weights' instead.\n",
            "  warnings.warn(\n",
            "/usr/local/lib/python3.10/dist-packages/torchvision/models/_utils.py:223: UserWarning: Arguments other than a weight enum or `None` for 'weights' are deprecated since 0.13 and may be removed in the future. The current behavior is equivalent to passing `weights=ResNet18_Weights.IMAGENET1K_V1`. You can also use `weights=ResNet18_Weights.DEFAULT` to get the most up-to-date weights.\n",
            "  warnings.warn(msg)\n"
          ]
        },
        {
          "output_type": "stream",
          "name": "stdout",
          "text": [
            "wp_beard_all_activations shape: (235, 512)\n",
            "wo_beard_all_activations shape: (445, 512)\n"
          ]
        }
      ]
    },
    {
      "cell_type": "code",
      "source": [
        "'''\n",
        "import os\n",
        "import numpy as np\n",
        "import torch\n",
        "from torchvision import models, transforms\n",
        "from PIL import Image\n",
        "\n",
        "# Load pre-trained ResNet-18 model\n",
        "model = models.resnet18(pretrained=True)\n",
        "\n",
        "# Check the number of input features to the final fully connected layer\n",
        "num_ftrs = model.fc.in_features\n",
        "\n",
        "# Replace the final fully connected layer with a new linear layer for binary classification\n",
        "model.fc = torch.nn.Linear(num_ftrs, 2)\n",
        "# Load the saved parameters into the model\n",
        "saved_model_path = \"/content/drive/MyDrive/Masterthesis/Datasets/CelebA/models/initial_classifier/20240601132518.pt\"\n",
        "model.fc.load_state_dict(torch.load(saved_model_path))\n",
        "\n",
        "# Move model to GPU\n",
        "device = torch.device('cuda' if torch.cuda.is_available() else 'cpu')\n",
        "model.to(device)\n",
        "\n",
        "# Define preprocessing transforms\n",
        "preprocess = transforms.Compose([\n",
        "    transforms.Resize(256),\n",
        "    transforms.CenterCrop(224),\n",
        "    transforms.ToTensor(),\n",
        "    transforms.Normalize(mean=[0.485, 0.456, 0.406], std=[0.229, 0.224, 0.225]),\n",
        "])\n",
        "\n",
        "def preprocess_and_extract_activations(image_path):\n",
        "    # Load and preprocess the image\n",
        "    image = Image.open(image_path)\n",
        "    image_tensor = preprocess(image).unsqueeze(0).to(device)\n",
        "\n",
        "    # Flatten the tensor before passing it to the linear layers\n",
        "    #image_tensor = model.features(image_tensor)\n",
        "    #image_tensor = model.avgpool(image_tensor)\n",
        "    #image_tensor = torch.flatten(image_tensor, 1)  # Flatten the tensor\n",
        "\n",
        "    # Pass the tensor through the first 5 layers\n",
        "    #for layer_idx, layer in enumerate(model.fc[:5], start=1):\n",
        "     #   image_tensor = layer(image_tensor)\n",
        "\n",
        "    # Extract activations from the sixth linear layer\n",
        "    #activations = model.fc[5](image_tensor)\n",
        "    #activations = activations.squeeze().cpu().detach().numpy()\n",
        "    #print(\"Activation size:\", activations.shape)\n",
        "\n",
        "    # Pass the tensor through the ResNet-18 model\n",
        "    model.eval()  # Set model to evaluation mode\n",
        "    with torch.no_grad():  # Disable gradient calculation\n",
        "        # Forward pass through the model\n",
        "        output = model(image_tensor)\n",
        "\n",
        "    # Extract activations from the output tensor\n",
        "    activations = output.squeeze().cpu().detach().numpy()\n",
        "\n",
        "    return activations\n",
        "\n",
        "# Function to recursively traverse folders and process images\n",
        "def process_images_in_folder(folder_path):\n",
        "    all_activations = []\n",
        "    for root, dirs, files in os.walk(folder_path):\n",
        "        for file in files:\n",
        "            if file.endswith(('.jpg')):\n",
        "                image_path = os.path.join(root, file)\n",
        "                print(f\"Processing image: {image_path}\")  # Debug: print the image path being processed\n",
        "                activations = preprocess_and_extract_activations(image_path)\n",
        "                if activations is not None:\n",
        "                    all_activations.append(activations)\n",
        "                else:\n",
        "                    print(f\"Failed to process image: {image_path}\")  # Debug: print if image processing failed\n",
        "    return all_activations\n",
        "\n",
        "# Folder path containing images\n",
        "patch_beard_folder_path = \"/content/drive/MyDrive/Masterthesis/Datasets/CelebA/beard_patch_224\"\n",
        "no_patch_beard_folder_path = \"/content/drive/MyDrive/Masterthesis/Datasets/CelebA/beard_nopatch_224\"\n",
        "\n",
        "# Extract activations for all images in the folder\n",
        "wp_beard_all_activations = process_images_in_folder(patch_beard_folder_path)\n",
        "wo_beard_all_activations = process_images_in_folder(no_patch_beard_folder_path)\n",
        "\n",
        "if wp_beard_all_activations:\n",
        "    print(\"wp_beard_all_activations shape:\", np.vstack(wp_beard_all_activations).shape)\n",
        "else:\n",
        "    print(\"No activations found in wp_beard_all_activations\")\n",
        "\n",
        "if wo_beard_all_activations:\n",
        "    print(\"wo_beard_all_activations shape:\", np.vstack(wo_beard_all_activations).shape)\n",
        "else:\n",
        "    print(\"No activations found in wo_beard_all_activations\")\n",
        "'''"
      ],
      "metadata": {
        "id": "HVyXzqbVa9B4",
        "colab": {
          "base_uri": "https://localhost:8080/"
        },
        "outputId": "7ea90752-00b3-4f71-de94-7ad16f4bd3b8",
        "collapsed": true
      },
      "execution_count": 84,
      "outputs": [
        {
          "output_type": "stream",
          "name": "stdout",
          "text": [
            "Processing image: /content/drive/MyDrive/Masterthesis/Datasets/CelebA/beard_patch_224/001467.jpg\n",
            "Processing image: /content/drive/MyDrive/Masterthesis/Datasets/CelebA/beard_patch_224/001994.jpg\n",
            "Processing image: /content/drive/MyDrive/Masterthesis/Datasets/CelebA/beard_patch_224/001177.jpg\n",
            "Processing image: /content/drive/MyDrive/Masterthesis/Datasets/CelebA/beard_patch_224/001949.jpg\n",
            "Processing image: /content/drive/MyDrive/Masterthesis/Datasets/CelebA/beard_patch_224/001550.jpg\n",
            "Processing image: /content/drive/MyDrive/Masterthesis/Datasets/CelebA/beard_patch_224/001444.jpg\n",
            "Processing image: /content/drive/MyDrive/Masterthesis/Datasets/CelebA/beard_patch_224/001386.jpg\n",
            "Processing image: /content/drive/MyDrive/Masterthesis/Datasets/CelebA/beard_patch_224/001586.jpg\n",
            "Processing image: /content/drive/MyDrive/Masterthesis/Datasets/CelebA/beard_patch_224/001457.jpg\n",
            "Processing image: /content/drive/MyDrive/Masterthesis/Datasets/CelebA/beard_patch_224/001171.jpg\n",
            "Processing image: /content/drive/MyDrive/Masterthesis/Datasets/CelebA/beard_patch_224/001975.jpg\n",
            "Processing image: /content/drive/MyDrive/Masterthesis/Datasets/CelebA/beard_patch_224/001605.jpg\n",
            "Processing image: /content/drive/MyDrive/Masterthesis/Datasets/CelebA/beard_patch_224/001800.jpg\n",
            "Processing image: /content/drive/MyDrive/Masterthesis/Datasets/CelebA/beard_patch_224/001288.jpg\n",
            "Processing image: /content/drive/MyDrive/Masterthesis/Datasets/CelebA/beard_patch_224/001677.jpg\n",
            "Processing image: /content/drive/MyDrive/Masterthesis/Datasets/CelebA/beard_patch_224/001089.jpg\n",
            "Processing image: /content/drive/MyDrive/Masterthesis/Datasets/CelebA/beard_patch_224/001944.jpg\n",
            "Processing image: /content/drive/MyDrive/Masterthesis/Datasets/CelebA/beard_patch_224/001838.jpg\n",
            "Processing image: /content/drive/MyDrive/Masterthesis/Datasets/CelebA/beard_patch_224/001632.jpg\n",
            "Processing image: /content/drive/MyDrive/Masterthesis/Datasets/CelebA/beard_patch_224/000320.jpg\n",
            "Processing image: /content/drive/MyDrive/Masterthesis/Datasets/CelebA/beard_patch_224/000144.jpg\n",
            "Processing image: /content/drive/MyDrive/Masterthesis/Datasets/CelebA/beard_patch_224/001623.jpg\n",
            "Processing image: /content/drive/MyDrive/Masterthesis/Datasets/CelebA/beard_patch_224/000020.jpg\n",
            "Processing image: /content/drive/MyDrive/Masterthesis/Datasets/CelebA/beard_patch_224/001582.jpg\n",
            "Processing image: /content/drive/MyDrive/Masterthesis/Datasets/CelebA/beard_patch_224/000102.jpg\n",
            "Processing image: /content/drive/MyDrive/Masterthesis/Datasets/CelebA/beard_patch_224/000286.jpg\n",
            "Processing image: /content/drive/MyDrive/Masterthesis/Datasets/CelebA/beard_patch_224/000362.jpg\n",
            "Processing image: /content/drive/MyDrive/Masterthesis/Datasets/CelebA/beard_patch_224/000230.jpg\n",
            "Processing image: /content/drive/MyDrive/Masterthesis/Datasets/CelebA/beard_patch_224/000350.jpg\n",
            "Processing image: /content/drive/MyDrive/Masterthesis/Datasets/CelebA/beard_patch_224/000298.jpg\n",
            "Processing image: /content/drive/MyDrive/Masterthesis/Datasets/CelebA/beard_patch_224/000164.jpg\n",
            "Processing image: /content/drive/MyDrive/Masterthesis/Datasets/CelebA/beard_patch_224/000250.jpg\n",
            "Processing image: /content/drive/MyDrive/Masterthesis/Datasets/CelebA/beard_patch_224/000245.jpg\n",
            "Processing image: /content/drive/MyDrive/Masterthesis/Datasets/CelebA/beard_patch_224/000300.jpg\n",
            "Processing image: /content/drive/MyDrive/Masterthesis/Datasets/CelebA/beard_patch_224/000129.jpg\n",
            "Processing image: /content/drive/MyDrive/Masterthesis/Datasets/CelebA/beard_patch_224/000336.jpg\n",
            "Processing image: /content/drive/MyDrive/Masterthesis/Datasets/CelebA/beard_patch_224/000076.jpg\n",
            "Processing image: /content/drive/MyDrive/Masterthesis/Datasets/CelebA/beard_patch_224/000049.jpg\n",
            "Processing image: /content/drive/MyDrive/Masterthesis/Datasets/CelebA/beard_patch_224/000294.jpg\n",
            "Processing image: /content/drive/MyDrive/Masterthesis/Datasets/CelebA/beard_patch_224/000339.jpg\n",
            "Processing image: /content/drive/MyDrive/Masterthesis/Datasets/CelebA/beard_patch_224/000355.jpg\n",
            "Processing image: /content/drive/MyDrive/Masterthesis/Datasets/CelebA/beard_patch_224/000041.jpg\n",
            "Processing image: /content/drive/MyDrive/Masterthesis/Datasets/CelebA/beard_patch_224/000123.jpg\n",
            "Processing image: /content/drive/MyDrive/Masterthesis/Datasets/CelebA/beard_patch_224/000284.jpg\n",
            "Processing image: /content/drive/MyDrive/Masterthesis/Datasets/CelebA/beard_patch_224/000206.jpg\n",
            "Processing image: /content/drive/MyDrive/Masterthesis/Datasets/CelebA/beard_patch_224/000212.jpg\n",
            "Processing image: /content/drive/MyDrive/Masterthesis/Datasets/CelebA/beard_patch_224/000363.jpg\n",
            "Processing image: /content/drive/MyDrive/Masterthesis/Datasets/CelebA/beard_patch_224/000674.jpg\n",
            "Processing image: /content/drive/MyDrive/Masterthesis/Datasets/CelebA/beard_patch_224/000401.jpg\n",
            "Processing image: /content/drive/MyDrive/Masterthesis/Datasets/CelebA/beard_patch_224/000272.jpg\n",
            "Processing image: /content/drive/MyDrive/Masterthesis/Datasets/CelebA/beard_patch_224/000193.jpg\n",
            "Processing image: /content/drive/MyDrive/Masterthesis/Datasets/CelebA/beard_patch_224/000572.jpg\n",
            "Processing image: /content/drive/MyDrive/Masterthesis/Datasets/CelebA/beard_patch_224/000546.jpg\n",
            "Processing image: /content/drive/MyDrive/Masterthesis/Datasets/CelebA/beard_patch_224/000561.jpg\n",
            "Processing image: /content/drive/MyDrive/Masterthesis/Datasets/CelebA/beard_patch_224/000671.jpg\n",
            "Processing image: /content/drive/MyDrive/Masterthesis/Datasets/CelebA/beard_patch_224/000490.jpg\n",
            "Processing image: /content/drive/MyDrive/Masterthesis/Datasets/CelebA/beard_patch_224/000439.jpg\n",
            "Processing image: /content/drive/MyDrive/Masterthesis/Datasets/CelebA/beard_patch_224/000486.jpg\n",
            "Processing image: /content/drive/MyDrive/Masterthesis/Datasets/CelebA/beard_patch_224/000655.jpg\n",
            "Processing image: /content/drive/MyDrive/Masterthesis/Datasets/CelebA/beard_patch_224/003017.jpg\n",
            "Processing image: /content/drive/MyDrive/Masterthesis/Datasets/CelebA/beard_patch_224/003006.jpg\n",
            "Processing image: /content/drive/MyDrive/Masterthesis/Datasets/CelebA/beard_patch_224/000452.jpg\n",
            "Processing image: /content/drive/MyDrive/Masterthesis/Datasets/CelebA/beard_patch_224/002215.jpg\n",
            "Processing image: /content/drive/MyDrive/Masterthesis/Datasets/CelebA/beard_patch_224/002259.jpg\n",
            "Processing image: /content/drive/MyDrive/Masterthesis/Datasets/CelebA/beard_patch_224/002225.jpg\n",
            "Processing image: /content/drive/MyDrive/Masterthesis/Datasets/CelebA/beard_patch_224/002075.jpg\n",
            "Processing image: /content/drive/MyDrive/Masterthesis/Datasets/CelebA/beard_patch_224/002351.jpg\n",
            "Processing image: /content/drive/MyDrive/Masterthesis/Datasets/CelebA/beard_patch_224/002541.jpg\n",
            "Processing image: /content/drive/MyDrive/Masterthesis/Datasets/CelebA/beard_patch_224/002370.jpg\n",
            "Processing image: /content/drive/MyDrive/Masterthesis/Datasets/CelebA/beard_patch_224/002565.jpg\n",
            "Processing image: /content/drive/MyDrive/Masterthesis/Datasets/CelebA/beard_patch_224/002358.jpg\n",
            "Processing image: /content/drive/MyDrive/Masterthesis/Datasets/CelebA/beard_patch_224/002449.jpg\n",
            "Processing image: /content/drive/MyDrive/Masterthesis/Datasets/CelebA/beard_patch_224/002486.jpg\n",
            "Processing image: /content/drive/MyDrive/Masterthesis/Datasets/CelebA/beard_patch_224/002055.jpg\n",
            "Processing image: /content/drive/MyDrive/Masterthesis/Datasets/CelebA/beard_patch_224/002121.jpg\n",
            "Processing image: /content/drive/MyDrive/Masterthesis/Datasets/CelebA/beard_patch_224/002173.jpg\n",
            "Processing image: /content/drive/MyDrive/Masterthesis/Datasets/CelebA/beard_patch_224/002423.jpg\n",
            "Processing image: /content/drive/MyDrive/Masterthesis/Datasets/CelebA/beard_patch_224/002012.jpg\n",
            "Processing image: /content/drive/MyDrive/Masterthesis/Datasets/CelebA/beard_patch_224/002277.jpg\n",
            "Processing image: /content/drive/MyDrive/Masterthesis/Datasets/CelebA/beard_patch_224/002477.jpg\n",
            "Processing image: /content/drive/MyDrive/Masterthesis/Datasets/CelebA/beard_patch_224/002227.jpg\n",
            "Processing image: /content/drive/MyDrive/Masterthesis/Datasets/CelebA/beard_patch_224/002068.jpg\n",
            "Processing image: /content/drive/MyDrive/Masterthesis/Datasets/CelebA/beard_patch_224/000569.jpg\n",
            "Processing image: /content/drive/MyDrive/Masterthesis/Datasets/CelebA/beard_patch_224/001791.jpg\n",
            "Processing image: /content/drive/MyDrive/Masterthesis/Datasets/CelebA/beard_patch_224/000418.jpg\n",
            "Processing image: /content/drive/MyDrive/Masterthesis/Datasets/CelebA/beard_patch_224/000461.jpg\n",
            "Processing image: /content/drive/MyDrive/Masterthesis/Datasets/CelebA/beard_patch_224/002148.jpg\n",
            "Processing image: /content/drive/MyDrive/Masterthesis/Datasets/CelebA/beard_patch_224/002016.jpg\n",
            "Processing image: /content/drive/MyDrive/Masterthesis/Datasets/CelebA/beard_patch_224/000603.jpg\n",
            "Processing image: /content/drive/MyDrive/Masterthesis/Datasets/CelebA/beard_patch_224/000625.jpg\n",
            "Processing image: /content/drive/MyDrive/Masterthesis/Datasets/CelebA/beard_patch_224/000409.jpg\n",
            "Processing image: /content/drive/MyDrive/Masterthesis/Datasets/CelebA/beard_patch_224/000619.jpg\n",
            "Processing image: /content/drive/MyDrive/Masterthesis/Datasets/CelebA/beard_patch_224/000427.jpg\n",
            "Processing image: /content/drive/MyDrive/Masterthesis/Datasets/CelebA/beard_patch_224/000537.jpg\n",
            "Processing image: /content/drive/MyDrive/Masterthesis/Datasets/CelebA/beard_patch_224/001231.jpg\n",
            "Processing image: /content/drive/MyDrive/Masterthesis/Datasets/CelebA/beard_patch_224/000780.jpg\n",
            "Processing image: /content/drive/MyDrive/Masterthesis/Datasets/CelebA/beard_patch_224/000735.jpg\n",
            "Processing image: /content/drive/MyDrive/Masterthesis/Datasets/CelebA/beard_patch_224/000636.jpg\n",
            "Processing image: /content/drive/MyDrive/Masterthesis/Datasets/CelebA/beard_patch_224/000773.jpg\n",
            "Processing image: /content/drive/MyDrive/Masterthesis/Datasets/CelebA/beard_patch_224/000686.jpg\n",
            "Processing image: /content/drive/MyDrive/Masterthesis/Datasets/CelebA/beard_patch_224/000808.jpg\n",
            "Processing image: /content/drive/MyDrive/Masterthesis/Datasets/CelebA/beard_patch_224/000908.jpg\n",
            "Processing image: /content/drive/MyDrive/Masterthesis/Datasets/CelebA/beard_patch_224/000841.jpg\n",
            "Processing image: /content/drive/MyDrive/Masterthesis/Datasets/CelebA/beard_patch_224/000987.jpg\n",
            "Processing image: /content/drive/MyDrive/Masterthesis/Datasets/CelebA/beard_patch_224/001066.jpg\n",
            "Processing image: /content/drive/MyDrive/Masterthesis/Datasets/CelebA/beard_patch_224/000966.jpg\n",
            "Processing image: /content/drive/MyDrive/Masterthesis/Datasets/CelebA/beard_patch_224/001027.jpg\n",
            "Processing image: /content/drive/MyDrive/Masterthesis/Datasets/CelebA/beard_patch_224/000962.jpg\n",
            "Processing image: /content/drive/MyDrive/Masterthesis/Datasets/CelebA/beard_patch_224/001053.jpg\n",
            "Processing image: /content/drive/MyDrive/Masterthesis/Datasets/CelebA/beard_patch_224/001841.jpg\n",
            "Processing image: /content/drive/MyDrive/Masterthesis/Datasets/CelebA/beard_patch_224/000979.jpg\n",
            "Processing image: /content/drive/MyDrive/Masterthesis/Datasets/CelebA/beard_patch_224/001797.jpg\n",
            "Processing image: /content/drive/MyDrive/Masterthesis/Datasets/CelebA/beard_patch_224/001216.jpg\n",
            "Processing image: /content/drive/MyDrive/Masterthesis/Datasets/CelebA/beard_patch_224/001627.jpg\n",
            "Processing image: /content/drive/MyDrive/Masterthesis/Datasets/CelebA/beard_patch_224/001253.jpg\n",
            "Processing image: /content/drive/MyDrive/Masterthesis/Datasets/CelebA/beard_patch_224/001730.jpg\n",
            "Processing image: /content/drive/MyDrive/Masterthesis/Datasets/CelebA/beard_patch_224/001547.jpg\n",
            "Processing image: /content/drive/MyDrive/Masterthesis/Datasets/CelebA/beard_patch_224/001633.jpg\n",
            "Processing image: /content/drive/MyDrive/Masterthesis/Datasets/CelebA/beard_patch_224/001217.jpg\n",
            "Processing image: /content/drive/MyDrive/Masterthesis/Datasets/CelebA/beard_patch_224/003981.jpg\n",
            "Processing image: /content/drive/MyDrive/Masterthesis/Datasets/CelebA/beard_patch_224/003879.jpg\n",
            "Processing image: /content/drive/MyDrive/Masterthesis/Datasets/CelebA/beard_patch_224/003826.jpg\n",
            "Processing image: /content/drive/MyDrive/Masterthesis/Datasets/CelebA/beard_patch_224/003668.jpg\n",
            "Processing image: /content/drive/MyDrive/Masterthesis/Datasets/CelebA/beard_patch_224/003859.jpg\n",
            "Processing image: /content/drive/MyDrive/Masterthesis/Datasets/CelebA/beard_patch_224/003747.jpg\n",
            "Processing image: /content/drive/MyDrive/Masterthesis/Datasets/CelebA/beard_patch_224/003845.jpg\n",
            "Processing image: /content/drive/MyDrive/Masterthesis/Datasets/CelebA/beard_patch_224/003864.jpg\n",
            "Processing image: /content/drive/MyDrive/Masterthesis/Datasets/CelebA/beard_patch_224/003639.jpg\n",
            "Processing image: /content/drive/MyDrive/Masterthesis/Datasets/CelebA/beard_patch_224/003737.jpg\n",
            "Processing image: /content/drive/MyDrive/Masterthesis/Datasets/CelebA/beard_patch_224/003667.jpg\n",
            "Processing image: /content/drive/MyDrive/Masterthesis/Datasets/CelebA/beard_patch_224/003955.jpg\n",
            "Processing image: /content/drive/MyDrive/Masterthesis/Datasets/CelebA/beard_patch_224/003638.jpg\n",
            "Processing image: /content/drive/MyDrive/Masterthesis/Datasets/CelebA/beard_patch_224/003908.jpg\n",
            "Processing image: /content/drive/MyDrive/Masterthesis/Datasets/CelebA/beard_patch_224/003914.jpg\n",
            "Processing image: /content/drive/MyDrive/Masterthesis/Datasets/CelebA/beard_patch_224/003983.jpg\n",
            "Processing image: /content/drive/MyDrive/Masterthesis/Datasets/CelebA/beard_patch_224/003886.jpg\n",
            "Processing image: /content/drive/MyDrive/Masterthesis/Datasets/CelebA/beard_patch_224/003976.jpg\n",
            "Processing image: /content/drive/MyDrive/Masterthesis/Datasets/CelebA/beard_patch_224/003784.jpg\n",
            "Processing image: /content/drive/MyDrive/Masterthesis/Datasets/CelebA/beard_patch_224/003818.jpg\n",
            "Processing image: /content/drive/MyDrive/Masterthesis/Datasets/CelebA/beard_patch_224/001173.jpg\n",
            "Processing image: /content/drive/MyDrive/Masterthesis/Datasets/CelebA/beard_patch_224/001782.jpg\n",
            "Processing image: /content/drive/MyDrive/Masterthesis/Datasets/CelebA/beard_patch_224/001474.jpg\n",
            "Processing image: /content/drive/MyDrive/Masterthesis/Datasets/CelebA/beard_patch_224/001761.jpg\n",
            "Processing image: /content/drive/MyDrive/Masterthesis/Datasets/CelebA/beard_patch_224/001640.jpg\n",
            "Processing image: /content/drive/MyDrive/Masterthesis/Datasets/CelebA/beard_patch_224/001250.jpg\n",
            "Processing image: /content/drive/MyDrive/Masterthesis/Datasets/CelebA/beard_patch_224/001583.jpg\n",
            "Processing image: /content/drive/MyDrive/Masterthesis/Datasets/CelebA/beard_patch_224/001538.jpg\n",
            "Processing image: /content/drive/MyDrive/Masterthesis/Datasets/CelebA/beard_patch_224/001302.jpg\n",
            "Processing image: /content/drive/MyDrive/Masterthesis/Datasets/CelebA/beard_patch_224/001464.jpg\n",
            "Processing image: /content/drive/MyDrive/Masterthesis/Datasets/CelebA/beard_patch_224/001562.jpg\n",
            "Processing image: /content/drive/MyDrive/Masterthesis/Datasets/CelebA/beard_patch_224/001456.jpg\n",
            "Processing image: /content/drive/MyDrive/Masterthesis/Datasets/CelebA/beard_patch_224/001529.jpg\n",
            "Processing image: /content/drive/MyDrive/Masterthesis/Datasets/CelebA/beard_patch_224/001458.jpg\n",
            "Processing image: /content/drive/MyDrive/Masterthesis/Datasets/CelebA/beard_patch_224/001983.jpg\n",
            "Processing image: /content/drive/MyDrive/Masterthesis/Datasets/CelebA/beard_patch_224/001164.jpg\n",
            "Processing image: /content/drive/MyDrive/Masterthesis/Datasets/CelebA/beard_patch_224/001896.jpg\n",
            "Processing image: /content/drive/MyDrive/Masterthesis/Datasets/CelebA/beard_patch_224/001596.jpg\n",
            "Processing image: /content/drive/MyDrive/Masterthesis/Datasets/CelebA/beard_patch_224/001591.jpg\n",
            "Processing image: /content/drive/MyDrive/Masterthesis/Datasets/CelebA/beard_patch_224/002037.jpg\n",
            "Processing image: /content/drive/MyDrive/Masterthesis/Datasets/CelebA/beard_patch_224/002181.jpg\n",
            "Processing image: /content/drive/MyDrive/Masterthesis/Datasets/CelebA/beard_patch_224/002007.jpg\n",
            "Processing image: /content/drive/MyDrive/Masterthesis/Datasets/CelebA/beard_patch_224/002290.jpg\n",
            "Processing image: /content/drive/MyDrive/Masterthesis/Datasets/CelebA/beard_patch_224/002299.jpg\n",
            "Processing image: /content/drive/MyDrive/Masterthesis/Datasets/CelebA/beard_patch_224/002466.jpg\n",
            "Processing image: /content/drive/MyDrive/Masterthesis/Datasets/CelebA/beard_patch_224/002288.jpg\n",
            "Processing image: /content/drive/MyDrive/Masterthesis/Datasets/CelebA/beard_patch_224/002039.jpg\n",
            "Processing image: /content/drive/MyDrive/Masterthesis/Datasets/CelebA/beard_patch_224/002160.jpg\n",
            "Processing image: /content/drive/MyDrive/Masterthesis/Datasets/CelebA/beard_patch_224/002601.jpg\n",
            "Processing image: /content/drive/MyDrive/Masterthesis/Datasets/CelebA/beard_patch_224/002135.jpg\n",
            "Processing image: /content/drive/MyDrive/Masterthesis/Datasets/CelebA/beard_patch_224/002567.jpg\n",
            "Processing image: /content/drive/MyDrive/Masterthesis/Datasets/CelebA/beard_patch_224/002001.jpg\n",
            "Processing image: /content/drive/MyDrive/Masterthesis/Datasets/CelebA/beard_patch_224/002611.jpg\n",
            "Processing image: /content/drive/MyDrive/Masterthesis/Datasets/CelebA/beard_patch_224/002793.jpg\n",
            "Processing image: /content/drive/MyDrive/Masterthesis/Datasets/CelebA/beard_patch_224/002746.jpg\n",
            "Processing image: /content/drive/MyDrive/Masterthesis/Datasets/CelebA/beard_patch_224/002758.jpg\n",
            "Processing image: /content/drive/MyDrive/Masterthesis/Datasets/CelebA/beard_patch_224/002788.jpg\n",
            "Processing image: /content/drive/MyDrive/Masterthesis/Datasets/CelebA/beard_patch_224/002870.jpg\n",
            "Processing image: /content/drive/MyDrive/Masterthesis/Datasets/CelebA/beard_patch_224/002859.jpg\n",
            "Processing image: /content/drive/MyDrive/Masterthesis/Datasets/CelebA/beard_patch_224/002699.jpg\n",
            "Processing image: /content/drive/MyDrive/Masterthesis/Datasets/CelebA/beard_patch_224/002714.jpg\n",
            "Processing image: /content/drive/MyDrive/Masterthesis/Datasets/CelebA/beard_patch_224/002848.jpg\n",
            "Processing image: /content/drive/MyDrive/Masterthesis/Datasets/CelebA/beard_patch_224/002768.jpg\n",
            "Processing image: /content/drive/MyDrive/Masterthesis/Datasets/CelebA/beard_patch_224/002726.jpg\n",
            "Processing image: /content/drive/MyDrive/Masterthesis/Datasets/CelebA/beard_patch_224/002740.jpg\n",
            "Processing image: /content/drive/MyDrive/Masterthesis/Datasets/CelebA/beard_patch_224/002805.jpg\n",
            "Processing image: /content/drive/MyDrive/Masterthesis/Datasets/CelebA/beard_patch_224/003334.jpg\n",
            "Processing image: /content/drive/MyDrive/Masterthesis/Datasets/CelebA/beard_patch_224/003541.jpg\n",
            "Processing image: /content/drive/MyDrive/Masterthesis/Datasets/CelebA/beard_patch_224/003464.jpg\n",
            "Processing image: /content/drive/MyDrive/Masterthesis/Datasets/CelebA/beard_patch_224/003472.jpg\n",
            "Processing image: /content/drive/MyDrive/Masterthesis/Datasets/CelebA/beard_patch_224/003497.jpg\n",
            "Processing image: /content/drive/MyDrive/Masterthesis/Datasets/CelebA/beard_patch_224/003364.jpg\n",
            "Processing image: /content/drive/MyDrive/Masterthesis/Datasets/CelebA/beard_patch_224/003419.jpg\n",
            "Processing image: /content/drive/MyDrive/Masterthesis/Datasets/CelebA/beard_patch_224/003242.jpg\n",
            "Processing image: /content/drive/MyDrive/Masterthesis/Datasets/CelebA/beard_patch_224/003065.jpg\n",
            "Processing image: /content/drive/MyDrive/Masterthesis/Datasets/CelebA/beard_patch_224/003277.jpg\n",
            "Processing image: /content/drive/MyDrive/Masterthesis/Datasets/CelebA/beard_patch_224/003462.jpg\n",
            "Processing image: /content/drive/MyDrive/Masterthesis/Datasets/CelebA/beard_patch_224/003206.jpg\n",
            "Processing image: /content/drive/MyDrive/Masterthesis/Datasets/CelebA/beard_patch_224/002944.jpg\n",
            "Processing image: /content/drive/MyDrive/Masterthesis/Datasets/CelebA/beard_patch_224/003294.jpg\n",
            "Processing image: /content/drive/MyDrive/Masterthesis/Datasets/CelebA/beard_patch_224/003535.jpg\n",
            "Processing image: /content/drive/MyDrive/Masterthesis/Datasets/CelebA/beard_patch_224/003031.jpg\n",
            "Processing image: /content/drive/MyDrive/Masterthesis/Datasets/CelebA/beard_patch_224/002873.jpg\n",
            "Processing image: /content/drive/MyDrive/Masterthesis/Datasets/CelebA/beard_patch_224/003213.jpg\n",
            "Processing image: /content/drive/MyDrive/Masterthesis/Datasets/CelebA/beard_patch_224/003310.jpg\n",
            "Processing image: /content/drive/MyDrive/Masterthesis/Datasets/CelebA/beard_patch_224/003254.jpg\n",
            "Processing image: /content/drive/MyDrive/Masterthesis/Datasets/CelebA/beard_patch_224/003212.jpg\n",
            "Processing image: /content/drive/MyDrive/Masterthesis/Datasets/CelebA/beard_patch_224/002921.jpg\n",
            "Processing image: /content/drive/MyDrive/Masterthesis/Datasets/CelebA/beard_patch_224/003529.jpg\n",
            "Processing image: /content/drive/MyDrive/Masterthesis/Datasets/CelebA/beard_patch_224/003333.jpg\n",
            "Processing image: /content/drive/MyDrive/Masterthesis/Datasets/CelebA/beard_patch_224/003478.jpg\n",
            "Processing image: /content/drive/MyDrive/Masterthesis/Datasets/CelebA/beard_patch_224/002920.jpg\n",
            "Processing image: /content/drive/MyDrive/Masterthesis/Datasets/CelebA/beard_patch_224/003567.jpg\n",
            "Processing image: /content/drive/MyDrive/Masterthesis/Datasets/CelebA/beard_patch_224/003374.jpg\n",
            "Processing image: /content/drive/MyDrive/Masterthesis/Datasets/CelebA/beard_patch_224/003456.jpg\n",
            "Processing image: /content/drive/MyDrive/Masterthesis/Datasets/CelebA/beard_patch_224/003070.jpg\n",
            "Processing image: /content/drive/MyDrive/Masterthesis/Datasets/CelebA/beard_patch_224/003035.jpg\n",
            "Processing image: /content/drive/MyDrive/Masterthesis/Datasets/CelebA/beard_patch_224/002883.jpg\n",
            "Processing image: /content/drive/MyDrive/Masterthesis/Datasets/CelebA/beard_patch_224/003407.jpg\n",
            "Processing image: /content/drive/MyDrive/Masterthesis/Datasets/CelebA/beard_patch_224/003566.jpg\n",
            "Processing image: /content/drive/MyDrive/Masterthesis/Datasets/CelebA/beard_patch_224/003447.jpg\n",
            "Processing image: /content/drive/MyDrive/Masterthesis/Datasets/CelebA/beard_patch_224/003556.jpg\n",
            "Processing image: /content/drive/MyDrive/Masterthesis/Datasets/CelebA/beard_patch_224/003061.jpg\n",
            "Processing image: /content/drive/MyDrive/Masterthesis/Datasets/CelebA/beard_patch_224/003551.jpg\n",
            "Processing image: /content/drive/MyDrive/Masterthesis/Datasets/CelebA/beard_patch_224/003386.jpg\n",
            "Processing image: /content/drive/MyDrive/Masterthesis/Datasets/CelebA/beard_patch_224/002933.jpg\n",
            "Processing image: /content/drive/MyDrive/Masterthesis/Datasets/CelebA/beard_patch_224/002900.jpg\n",
            "Processing image: /content/drive/MyDrive/Masterthesis/Datasets/CelebA/beard_patch_224/003338.jpg\n",
            "Processing image: /content/drive/MyDrive/Masterthesis/Datasets/CelebA/beard_patch_224/003067.jpg\n",
            "Processing image: /content/drive/MyDrive/Masterthesis/Datasets/CelebA/beard_patch_224/003928.jpg\n",
            "Processing image: /content/drive/MyDrive/Masterthesis/Datasets/CelebA/beard_patch_224/003677.jpg\n",
            "Processing image: /content/drive/MyDrive/Masterthesis/Datasets/CelebA/beard_patch_224/003941.jpg\n",
            "Processing image: /content/drive/MyDrive/Masterthesis/Datasets/CelebA/beard_patch_224/003853.jpg\n",
            "Processing image: /content/drive/MyDrive/Masterthesis/Datasets/CelebA/beard_patch_224/003722.jpg\n",
            "Processing image: /content/drive/MyDrive/Masterthesis/Datasets/CelebA/beard_patch_224/002926.jpg\n",
            "Processing image: /content/drive/MyDrive/Masterthesis/Datasets/CelebA/beard_patch_224/003825.jpg\n",
            "Processing image: /content/drive/MyDrive/Masterthesis/Datasets/CelebA/beard_nopatch_224/001388.jpg\n",
            "Processing image: /content/drive/MyDrive/Masterthesis/Datasets/CelebA/beard_nopatch_224/001100.jpg\n",
            "Processing image: /content/drive/MyDrive/Masterthesis/Datasets/CelebA/beard_nopatch_224/001699.jpg\n",
            "Processing image: /content/drive/MyDrive/Masterthesis/Datasets/CelebA/beard_nopatch_224/001854.jpg\n",
            "Processing image: /content/drive/MyDrive/Masterthesis/Datasets/CelebA/beard_nopatch_224/001897.jpg\n",
            "Processing image: /content/drive/MyDrive/Masterthesis/Datasets/CelebA/beard_nopatch_224/001684.jpg\n",
            "Processing image: /content/drive/MyDrive/Masterthesis/Datasets/CelebA/beard_nopatch_224/001711.jpg\n",
            "Processing image: /content/drive/MyDrive/Masterthesis/Datasets/CelebA/beard_nopatch_224/001224.jpg\n",
            "Processing image: /content/drive/MyDrive/Masterthesis/Datasets/CelebA/beard_nopatch_224/001143.jpg\n",
            "Processing image: /content/drive/MyDrive/Masterthesis/Datasets/CelebA/beard_nopatch_224/001775.jpg\n",
            "Processing image: /content/drive/MyDrive/Masterthesis/Datasets/CelebA/beard_nopatch_224/001123.jpg\n",
            "Processing image: /content/drive/MyDrive/Masterthesis/Datasets/CelebA/beard_nopatch_224/001270.jpg\n",
            "Processing image: /content/drive/MyDrive/Masterthesis/Datasets/CelebA/beard_nopatch_224/001669.jpg\n",
            "Processing image: /content/drive/MyDrive/Masterthesis/Datasets/CelebA/beard_nopatch_224/001418.jpg\n",
            "Processing image: /content/drive/MyDrive/Masterthesis/Datasets/CelebA/beard_nopatch_224/001370.jpg\n",
            "Processing image: /content/drive/MyDrive/Masterthesis/Datasets/CelebA/beard_nopatch_224/001162.jpg\n",
            "Processing image: /content/drive/MyDrive/Masterthesis/Datasets/CelebA/beard_nopatch_224/001381.jpg\n",
            "Processing image: /content/drive/MyDrive/Masterthesis/Datasets/CelebA/beard_nopatch_224/001345.jpg\n",
            "Processing image: /content/drive/MyDrive/Masterthesis/Datasets/CelebA/beard_nopatch_224/001808.jpg\n",
            "Processing image: /content/drive/MyDrive/Masterthesis/Datasets/CelebA/beard_nopatch_224/001692.jpg\n",
            "Processing image: /content/drive/MyDrive/Masterthesis/Datasets/CelebA/beard_nopatch_224/001286.jpg\n",
            "Processing image: /content/drive/MyDrive/Masterthesis/Datasets/CelebA/beard_nopatch_224/001401.jpg\n",
            "Processing image: /content/drive/MyDrive/Masterthesis/Datasets/CelebA/beard_nopatch_224/001190.jpg\n",
            "Processing image: /content/drive/MyDrive/Masterthesis/Datasets/CelebA/beard_nopatch_224/001343.jpg\n",
            "Processing image: /content/drive/MyDrive/Masterthesis/Datasets/CelebA/beard_nopatch_224/001424.jpg\n",
            "Processing image: /content/drive/MyDrive/Masterthesis/Datasets/CelebA/beard_nopatch_224/001735.jpg\n",
            "Processing image: /content/drive/MyDrive/Masterthesis/Datasets/CelebA/beard_nopatch_224/001094.jpg\n",
            "Processing image: /content/drive/MyDrive/Masterthesis/Datasets/CelebA/beard_nopatch_224/001655.jpg\n",
            "Processing image: /content/drive/MyDrive/Masterthesis/Datasets/CelebA/beard_nopatch_224/001414.jpg\n",
            "Processing image: /content/drive/MyDrive/Masterthesis/Datasets/CelebA/beard_nopatch_224/001904.jpg\n",
            "Processing image: /content/drive/MyDrive/Masterthesis/Datasets/CelebA/beard_nopatch_224/001833.jpg\n",
            "Processing image: /content/drive/MyDrive/Masterthesis/Datasets/CelebA/beard_nopatch_224/001327.jpg\n",
            "Processing image: /content/drive/MyDrive/Masterthesis/Datasets/CelebA/beard_nopatch_224/001999.jpg\n",
            "Processing image: /content/drive/MyDrive/Masterthesis/Datasets/CelebA/beard_nopatch_224/001322.jpg\n",
            "Processing image: /content/drive/MyDrive/Masterthesis/Datasets/CelebA/beard_nopatch_224/001905.jpg\n",
            "Processing image: /content/drive/MyDrive/Masterthesis/Datasets/CelebA/beard_nopatch_224/001701.jpg\n",
            "Processing image: /content/drive/MyDrive/Masterthesis/Datasets/CelebA/beard_nopatch_224/001117.jpg\n",
            "Processing image: /content/drive/MyDrive/Masterthesis/Datasets/CelebA/beard_nopatch_224/001842.jpg\n",
            "Processing image: /content/drive/MyDrive/Masterthesis/Datasets/CelebA/beard_nopatch_224/001936.jpg\n",
            "Processing image: /content/drive/MyDrive/Masterthesis/Datasets/CelebA/beard_nopatch_224/001565.jpg\n",
            "Processing image: /content/drive/MyDrive/Masterthesis/Datasets/CelebA/beard_nopatch_224/000109.jpg\n",
            "Processing image: /content/drive/MyDrive/Masterthesis/Datasets/CelebA/beard_nopatch_224/000194.jpg\n",
            "Processing image: /content/drive/MyDrive/Masterthesis/Datasets/CelebA/beard_nopatch_224/000293.jpg\n",
            "Processing image: /content/drive/MyDrive/Masterthesis/Datasets/CelebA/beard_nopatch_224/000016.jpg\n",
            "Processing image: /content/drive/MyDrive/Masterthesis/Datasets/CelebA/beard_nopatch_224/000025.jpg\n",
            "Processing image: /content/drive/MyDrive/Masterthesis/Datasets/CelebA/beard_nopatch_224/000119.jpg\n",
            "Processing image: /content/drive/MyDrive/Masterthesis/Datasets/CelebA/beard_nopatch_224/000390.jpg\n",
            "Processing image: /content/drive/MyDrive/Masterthesis/Datasets/CelebA/beard_nopatch_224/000136.jpg\n",
            "Processing image: /content/drive/MyDrive/Masterthesis/Datasets/CelebA/beard_nopatch_224/000166.jpg\n",
            "Processing image: /content/drive/MyDrive/Masterthesis/Datasets/CelebA/beard_nopatch_224/000307.jpg\n",
            "Processing image: /content/drive/MyDrive/Masterthesis/Datasets/CelebA/beard_nopatch_224/000053.jpg\n",
            "Processing image: /content/drive/MyDrive/Masterthesis/Datasets/CelebA/beard_nopatch_224/000200.jpg\n",
            "Processing image: /content/drive/MyDrive/Masterthesis/Datasets/CelebA/beard_nopatch_224/000209.jpg\n",
            "Processing image: /content/drive/MyDrive/Masterthesis/Datasets/CelebA/beard_nopatch_224/000195.jpg\n",
            "Processing image: /content/drive/MyDrive/Masterthesis/Datasets/CelebA/beard_nopatch_224/000182.jpg\n",
            "Processing image: /content/drive/MyDrive/Masterthesis/Datasets/CelebA/beard_nopatch_224/000383.jpg\n",
            "Processing image: /content/drive/MyDrive/Masterthesis/Datasets/CelebA/beard_nopatch_224/000385.jpg\n",
            "Processing image: /content/drive/MyDrive/Masterthesis/Datasets/CelebA/beard_nopatch_224/000311.jpg\n",
            "Processing image: /content/drive/MyDrive/Masterthesis/Datasets/CelebA/beard_nopatch_224/000377.jpg\n",
            "Processing image: /content/drive/MyDrive/Masterthesis/Datasets/CelebA/beard_nopatch_224/000134.jpg\n",
            "Processing image: /content/drive/MyDrive/Masterthesis/Datasets/CelebA/beard_nopatch_224/000376.jpg\n",
            "Processing image: /content/drive/MyDrive/Masterthesis/Datasets/CelebA/beard_nopatch_224/000210.jpg\n",
            "Processing image: /content/drive/MyDrive/Masterthesis/Datasets/CelebA/beard_nopatch_224/000360.jpg\n",
            "Processing image: /content/drive/MyDrive/Masterthesis/Datasets/CelebA/beard_nopatch_224/000244.jpg\n",
            "Processing image: /content/drive/MyDrive/Masterthesis/Datasets/CelebA/beard_nopatch_224/000082.jpg\n",
            "Processing image: /content/drive/MyDrive/Masterthesis/Datasets/CelebA/beard_nopatch_224/000213.jpg\n",
            "Processing image: /content/drive/MyDrive/Masterthesis/Datasets/CelebA/beard_nopatch_224/000229.jpg\n",
            "Processing image: /content/drive/MyDrive/Masterthesis/Datasets/CelebA/beard_nopatch_224/000051.jpg\n",
            "Processing image: /content/drive/MyDrive/Masterthesis/Datasets/CelebA/beard_nopatch_224/000380.jpg\n",
            "Processing image: /content/drive/MyDrive/Masterthesis/Datasets/CelebA/beard_nopatch_224/000154.jpg\n",
            "Processing image: /content/drive/MyDrive/Masterthesis/Datasets/CelebA/beard_nopatch_224/000227.jpg\n",
            "Processing image: /content/drive/MyDrive/Masterthesis/Datasets/CelebA/beard_nopatch_224/000205.jpg\n",
            "Processing image: /content/drive/MyDrive/Masterthesis/Datasets/CelebA/beard_nopatch_224/000314.jpg\n",
            "Processing image: /content/drive/MyDrive/Masterthesis/Datasets/CelebA/beard_nopatch_224/000316.jpg\n",
            "Processing image: /content/drive/MyDrive/Masterthesis/Datasets/CelebA/beard_nopatch_224/000037.jpg\n",
            "Processing image: /content/drive/MyDrive/Masterthesis/Datasets/CelebA/beard_nopatch_224/000138.jpg\n",
            "Processing image: /content/drive/MyDrive/Masterthesis/Datasets/CelebA/beard_nopatch_224/000203.jpg\n",
            "Processing image: /content/drive/MyDrive/Masterthesis/Datasets/CelebA/beard_nopatch_224/000266.jpg\n",
            "Processing image: /content/drive/MyDrive/Masterthesis/Datasets/CelebA/beard_nopatch_224/000366.jpg\n",
            "Processing image: /content/drive/MyDrive/Masterthesis/Datasets/CelebA/beard_nopatch_224/000333.jpg\n",
            "Processing image: /content/drive/MyDrive/Masterthesis/Datasets/CelebA/beard_nopatch_224/000137.jpg\n",
            "Processing image: /content/drive/MyDrive/Masterthesis/Datasets/CelebA/beard_nopatch_224/000060.jpg\n",
            "Processing image: /content/drive/MyDrive/Masterthesis/Datasets/CelebA/beard_nopatch_224/000064.jpg\n",
            "Processing image: /content/drive/MyDrive/Masterthesis/Datasets/CelebA/beard_nopatch_224/000604.jpg\n",
            "Processing image: /content/drive/MyDrive/Masterthesis/Datasets/CelebA/beard_nopatch_224/000448.jpg\n",
            "Processing image: /content/drive/MyDrive/Masterthesis/Datasets/CelebA/beard_nopatch_224/000622.jpg\n",
            "Processing image: /content/drive/MyDrive/Masterthesis/Datasets/CelebA/beard_nopatch_224/000651.jpg\n",
            "Processing image: /content/drive/MyDrive/Masterthesis/Datasets/CelebA/beard_nopatch_224/000661.jpg\n",
            "Processing image: /content/drive/MyDrive/Masterthesis/Datasets/CelebA/beard_nopatch_224/000199.jpg\n",
            "Processing image: /content/drive/MyDrive/Masterthesis/Datasets/CelebA/beard_nopatch_224/000358.jpg\n",
            "Processing image: /content/drive/MyDrive/Masterthesis/Datasets/CelebA/beard_nopatch_224/000577.jpg\n",
            "Processing image: /content/drive/MyDrive/Masterthesis/Datasets/CelebA/beard_nopatch_224/000403.jpg\n",
            "Processing image: /content/drive/MyDrive/Masterthesis/Datasets/CelebA/beard_nopatch_224/000543.jpg\n",
            "Processing image: /content/drive/MyDrive/Masterthesis/Datasets/CelebA/beard_nopatch_224/000623.jpg\n",
            "Processing image: /content/drive/MyDrive/Masterthesis/Datasets/CelebA/beard_nopatch_224/000398.jpg\n",
            "Processing image: /content/drive/MyDrive/Masterthesis/Datasets/CelebA/beard_nopatch_224/000555.jpg\n",
            "Processing image: /content/drive/MyDrive/Masterthesis/Datasets/CelebA/beard_nopatch_224/000453.jpg\n",
            "Processing image: /content/drive/MyDrive/Masterthesis/Datasets/CelebA/beard_nopatch_224/000637.jpg\n",
            "Processing image: /content/drive/MyDrive/Masterthesis/Datasets/CelebA/beard_nopatch_224/000657.jpg\n",
            "Processing image: /content/drive/MyDrive/Masterthesis/Datasets/CelebA/beard_nopatch_224/000675.jpg\n",
            "Processing image: /content/drive/MyDrive/Masterthesis/Datasets/CelebA/beard_nopatch_224/000628.jpg\n",
            "Processing image: /content/drive/MyDrive/Masterthesis/Datasets/CelebA/beard_nopatch_224/000659.jpg\n",
            "Processing image: /content/drive/MyDrive/Masterthesis/Datasets/CelebA/beard_nopatch_224/000329.jpg\n",
            "Processing image: /content/drive/MyDrive/Masterthesis/Datasets/CelebA/beard_nopatch_224/000460.jpg\n",
            "Processing image: /content/drive/MyDrive/Masterthesis/Datasets/CelebA/beard_nopatch_224/003015.jpg\n",
            "Processing image: /content/drive/MyDrive/Masterthesis/Datasets/CelebA/beard_nopatch_224/000443.jpg\n",
            "Processing image: /content/drive/MyDrive/Masterthesis/Datasets/CelebA/beard_nopatch_224/003007.jpg\n",
            "Processing image: /content/drive/MyDrive/Masterthesis/Datasets/CelebA/beard_nopatch_224/000428.jpg\n",
            "Processing image: /content/drive/MyDrive/Masterthesis/Datasets/CelebA/beard_nopatch_224/000591.jpg\n",
            "Processing image: /content/drive/MyDrive/Masterthesis/Datasets/CelebA/beard_nopatch_224/000450.jpg\n",
            "Processing image: /content/drive/MyDrive/Masterthesis/Datasets/CelebA/beard_nopatch_224/003003.jpg\n",
            "Processing image: /content/drive/MyDrive/Masterthesis/Datasets/CelebA/beard_nopatch_224/000511.jpg\n",
            "Processing image: /content/drive/MyDrive/Masterthesis/Datasets/CelebA/beard_nopatch_224/003010.jpg\n",
            "Processing image: /content/drive/MyDrive/Masterthesis/Datasets/CelebA/beard_nopatch_224/000500.jpg\n",
            "Processing image: /content/drive/MyDrive/Masterthesis/Datasets/CelebA/beard_nopatch_224/000654.jpg\n",
            "Processing image: /content/drive/MyDrive/Masterthesis/Datasets/CelebA/beard_nopatch_224/000408.jpg\n",
            "Processing image: /content/drive/MyDrive/Masterthesis/Datasets/CelebA/beard_nopatch_224/003001.jpg\n",
            "Processing image: /content/drive/MyDrive/Masterthesis/Datasets/CelebA/beard_nopatch_224/000413.jpg\n",
            "Processing image: /content/drive/MyDrive/Masterthesis/Datasets/CelebA/beard_nopatch_224/003020.jpg\n",
            "Processing image: /content/drive/MyDrive/Masterthesis/Datasets/CelebA/beard_nopatch_224/002373.jpg\n",
            "Processing image: /content/drive/MyDrive/Masterthesis/Datasets/CelebA/beard_nopatch_224/002293.jpg\n",
            "Processing image: /content/drive/MyDrive/Masterthesis/Datasets/CelebA/beard_nopatch_224/002310.jpg\n",
            "Processing image: /content/drive/MyDrive/Masterthesis/Datasets/CelebA/beard_nopatch_224/002286.jpg\n",
            "Processing image: /content/drive/MyDrive/Masterthesis/Datasets/CelebA/beard_nopatch_224/002089.jpg\n",
            "Processing image: /content/drive/MyDrive/Masterthesis/Datasets/CelebA/beard_nopatch_224/002318.jpg\n",
            "Processing image: /content/drive/MyDrive/Masterthesis/Datasets/CelebA/beard_nopatch_224/002139.jpg\n",
            "Processing image: /content/drive/MyDrive/Masterthesis/Datasets/CelebA/beard_nopatch_224/002150.jpg\n",
            "Processing image: /content/drive/MyDrive/Masterthesis/Datasets/CelebA/beard_nopatch_224/002550.jpg\n",
            "Processing image: /content/drive/MyDrive/Masterthesis/Datasets/CelebA/beard_nopatch_224/002359.jpg\n",
            "Processing image: /content/drive/MyDrive/Masterthesis/Datasets/CelebA/beard_nopatch_224/002100.jpg\n",
            "Processing image: /content/drive/MyDrive/Masterthesis/Datasets/CelebA/beard_nopatch_224/002106.jpg\n",
            "Processing image: /content/drive/MyDrive/Masterthesis/Datasets/CelebA/beard_nopatch_224/002195.jpg\n",
            "Processing image: /content/drive/MyDrive/Masterthesis/Datasets/CelebA/beard_nopatch_224/002399.jpg\n",
            "Processing image: /content/drive/MyDrive/Masterthesis/Datasets/CelebA/beard_nopatch_224/002392.jpg\n",
            "Processing image: /content/drive/MyDrive/Masterthesis/Datasets/CelebA/beard_nopatch_224/002446.jpg\n",
            "Processing image: /content/drive/MyDrive/Masterthesis/Datasets/CelebA/beard_nopatch_224/002600.jpg\n",
            "Processing image: /content/drive/MyDrive/Masterthesis/Datasets/CelebA/beard_nopatch_224/002519.jpg\n",
            "Processing image: /content/drive/MyDrive/Masterthesis/Datasets/CelebA/beard_nopatch_224/002281.jpg\n",
            "Processing image: /content/drive/MyDrive/Masterthesis/Datasets/CelebA/beard_nopatch_224/002245.jpg\n",
            "Processing image: /content/drive/MyDrive/Masterthesis/Datasets/CelebA/beard_nopatch_224/002483.jpg\n",
            "Processing image: /content/drive/MyDrive/Masterthesis/Datasets/CelebA/beard_nopatch_224/002276.jpg\n",
            "Processing image: /content/drive/MyDrive/Masterthesis/Datasets/CelebA/beard_nopatch_224/002253.jpg\n",
            "Processing image: /content/drive/MyDrive/Masterthesis/Datasets/CelebA/beard_nopatch_224/002211.jpg\n",
            "Processing image: /content/drive/MyDrive/Masterthesis/Datasets/CelebA/beard_nopatch_224/002246.jpg\n",
            "Processing image: /content/drive/MyDrive/Masterthesis/Datasets/CelebA/beard_nopatch_224/002151.jpg\n",
            "Processing image: /content/drive/MyDrive/Masterthesis/Datasets/CelebA/beard_nopatch_224/002416.jpg\n",
            "Processing image: /content/drive/MyDrive/Masterthesis/Datasets/CelebA/beard_nopatch_224/000414.jpg\n",
            "Processing image: /content/drive/MyDrive/Masterthesis/Datasets/CelebA/beard_nopatch_224/000560.jpg\n",
            "Processing image: /content/drive/MyDrive/Masterthesis/Datasets/CelebA/beard_nopatch_224/002081.jpg\n",
            "Processing image: /content/drive/MyDrive/Masterthesis/Datasets/CelebA/beard_nopatch_224/002198.jpg\n",
            "Processing image: /content/drive/MyDrive/Masterthesis/Datasets/CelebA/beard_nopatch_224/000756.jpg\n",
            "Processing image: /content/drive/MyDrive/Masterthesis/Datasets/CelebA/beard_nopatch_224/000797.jpg\n",
            "Processing image: /content/drive/MyDrive/Masterthesis/Datasets/CelebA/beard_nopatch_224/000778.jpg\n",
            "Processing image: /content/drive/MyDrive/Masterthesis/Datasets/CelebA/beard_nopatch_224/000620.jpg\n",
            "Processing image: /content/drive/MyDrive/Masterthesis/Datasets/CelebA/beard_nopatch_224/000731.jpg\n",
            "Processing image: /content/drive/MyDrive/Masterthesis/Datasets/CelebA/beard_nopatch_224/000447.jpg\n",
            "Processing image: /content/drive/MyDrive/Masterthesis/Datasets/CelebA/beard_nopatch_224/000788.jpg\n",
            "Processing image: /content/drive/MyDrive/Masterthesis/Datasets/CelebA/beard_nopatch_224/000739.jpg\n",
            "Processing image: /content/drive/MyDrive/Masterthesis/Datasets/CelebA/beard_nopatch_224/000481.jpg\n",
            "Processing image: /content/drive/MyDrive/Masterthesis/Datasets/CelebA/beard_nopatch_224/000791.jpg\n",
            "Processing image: /content/drive/MyDrive/Masterthesis/Datasets/CelebA/beard_nopatch_224/000714.jpg\n",
            "Processing image: /content/drive/MyDrive/Masterthesis/Datasets/CelebA/beard_nopatch_224/000689.jpg\n",
            "Processing image: /content/drive/MyDrive/Masterthesis/Datasets/CelebA/beard_nopatch_224/000730.jpg\n",
            "Processing image: /content/drive/MyDrive/Masterthesis/Datasets/CelebA/beard_nopatch_224/000747.jpg\n",
            "Processing image: /content/drive/MyDrive/Masterthesis/Datasets/CelebA/beard_nopatch_224/000757.jpg\n",
            "Processing image: /content/drive/MyDrive/Masterthesis/Datasets/CelebA/beard_nopatch_224/000733.jpg\n",
            "Processing image: /content/drive/MyDrive/Masterthesis/Datasets/CelebA/beard_nopatch_224/000729.jpg\n",
            "Processing image: /content/drive/MyDrive/Masterthesis/Datasets/CelebA/beard_nopatch_224/000886.jpg\n",
            "Processing image: /content/drive/MyDrive/Masterthesis/Datasets/CelebA/beard_nopatch_224/000930.jpg\n",
            "Processing image: /content/drive/MyDrive/Masterthesis/Datasets/CelebA/beard_nopatch_224/000904.jpg\n",
            "Processing image: /content/drive/MyDrive/Masterthesis/Datasets/CelebA/beard_nopatch_224/001022.jpg\n",
            "Processing image: /content/drive/MyDrive/Masterthesis/Datasets/CelebA/beard_nopatch_224/001052.jpg\n",
            "Processing image: /content/drive/MyDrive/Masterthesis/Datasets/CelebA/beard_nopatch_224/001035.jpg\n",
            "Processing image: /content/drive/MyDrive/Masterthesis/Datasets/CelebA/beard_nopatch_224/000902.jpg\n",
            "Processing image: /content/drive/MyDrive/Masterthesis/Datasets/CelebA/beard_nopatch_224/000959.jpg\n",
            "Processing image: /content/drive/MyDrive/Masterthesis/Datasets/CelebA/beard_nopatch_224/000906.jpg\n",
            "Processing image: /content/drive/MyDrive/Masterthesis/Datasets/CelebA/beard_nopatch_224/001047.jpg\n",
            "Processing image: /content/drive/MyDrive/Masterthesis/Datasets/CelebA/beard_nopatch_224/000836.jpg\n",
            "Processing image: /content/drive/MyDrive/Masterthesis/Datasets/CelebA/beard_nopatch_224/001030.jpg\n",
            "Processing image: /content/drive/MyDrive/Masterthesis/Datasets/CelebA/beard_nopatch_224/001032.jpg\n",
            "Processing image: /content/drive/MyDrive/Masterthesis/Datasets/CelebA/beard_nopatch_224/000935.jpg\n",
            "Processing image: /content/drive/MyDrive/Masterthesis/Datasets/CelebA/beard_nopatch_224/001036.jpg\n",
            "Processing image: /content/drive/MyDrive/Masterthesis/Datasets/CelebA/beard_nopatch_224/000833.jpg\n",
            "Processing image: /content/drive/MyDrive/Masterthesis/Datasets/CelebA/beard_nopatch_224/000964.jpg\n",
            "Processing image: /content/drive/MyDrive/Masterthesis/Datasets/CelebA/beard_nopatch_224/000801.jpg\n",
            "Processing image: /content/drive/MyDrive/Masterthesis/Datasets/CelebA/beard_nopatch_224/001057.jpg\n",
            "Processing image: /content/drive/MyDrive/Masterthesis/Datasets/CelebA/beard_nopatch_224/000926.jpg\n",
            "Processing image: /content/drive/MyDrive/Masterthesis/Datasets/CelebA/beard_nopatch_224/000905.jpg\n",
            "Processing image: /content/drive/MyDrive/Masterthesis/Datasets/CelebA/beard_nopatch_224/001074.jpg\n",
            "Processing image: /content/drive/MyDrive/Masterthesis/Datasets/CelebA/beard_nopatch_224/000903.jpg\n",
            "Processing image: /content/drive/MyDrive/Masterthesis/Datasets/CelebA/beard_nopatch_224/000861.jpg\n",
            "Processing image: /content/drive/MyDrive/Masterthesis/Datasets/CelebA/beard_nopatch_224/000842.jpg\n",
            "Processing image: /content/drive/MyDrive/Masterthesis/Datasets/CelebA/beard_nopatch_224/001020.jpg\n",
            "Processing image: /content/drive/MyDrive/Masterthesis/Datasets/CelebA/beard_nopatch_224/000850.jpg\n",
            "Processing image: /content/drive/MyDrive/Masterthesis/Datasets/CelebA/beard_nopatch_224/000933.jpg\n",
            "Processing image: /content/drive/MyDrive/Masterthesis/Datasets/CelebA/beard_nopatch_224/000993.jpg\n",
            "Processing image: /content/drive/MyDrive/Masterthesis/Datasets/CelebA/beard_nopatch_224/001555.jpg\n",
            "Processing image: /content/drive/MyDrive/Masterthesis/Datasets/CelebA/beard_nopatch_224/001578.jpg\n",
            "Processing image: /content/drive/MyDrive/Masterthesis/Datasets/CelebA/beard_nopatch_224/001788.jpg\n",
            "Processing image: /content/drive/MyDrive/Masterthesis/Datasets/CelebA/beard_nopatch_224/001471.jpg\n",
            "Processing image: /content/drive/MyDrive/Masterthesis/Datasets/CelebA/beard_nopatch_224/000944.jpg\n",
            "Processing image: /content/drive/MyDrive/Masterthesis/Datasets/CelebA/beard_nopatch_224/000971.jpg\n",
            "Processing image: /content/drive/MyDrive/Masterthesis/Datasets/CelebA/beard_nopatch_224/001192.jpg\n",
            "Processing image: /content/drive/MyDrive/Masterthesis/Datasets/CelebA/beard_nopatch_224/001453.jpg\n",
            "Processing image: /content/drive/MyDrive/Masterthesis/Datasets/CelebA/beard_nopatch_224/001256.jpg\n",
            "Processing image: /content/drive/MyDrive/Masterthesis/Datasets/CelebA/beard_nopatch_224/001652.jpg\n",
            "Processing image: /content/drive/MyDrive/Masterthesis/Datasets/CelebA/beard_nopatch_224/001398.jpg\n",
            "Processing image: /content/drive/MyDrive/Masterthesis/Datasets/CelebA/beard_nopatch_224/001210.jpg\n",
            "Processing image: /content/drive/MyDrive/Masterthesis/Datasets/CelebA/beard_nopatch_224/001831.jpg\n",
            "Processing image: /content/drive/MyDrive/Masterthesis/Datasets/CelebA/beard_nopatch_224/001290.jpg\n",
            "Processing image: /content/drive/MyDrive/Masterthesis/Datasets/CelebA/beard_nopatch_224/001799.jpg\n",
            "Processing image: /content/drive/MyDrive/Masterthesis/Datasets/CelebA/beard_nopatch_224/001337.jpg\n",
            "Processing image: /content/drive/MyDrive/Masterthesis/Datasets/CelebA/beard_nopatch_224/001839.jpg\n",
            "Processing image: /content/drive/MyDrive/Masterthesis/Datasets/CelebA/beard_nopatch_224/003614.jpg\n",
            "Processing image: /content/drive/MyDrive/Masterthesis/Datasets/CelebA/beard_nopatch_224/003678.jpg\n",
            "Processing image: /content/drive/MyDrive/Masterthesis/Datasets/CelebA/beard_nopatch_224/004000.jpg\n",
            "Processing image: /content/drive/MyDrive/Masterthesis/Datasets/CelebA/beard_nopatch_224/003946.jpg\n",
            "Processing image: /content/drive/MyDrive/Masterthesis/Datasets/CelebA/beard_nopatch_224/003816.jpg\n",
            "Processing image: /content/drive/MyDrive/Masterthesis/Datasets/CelebA/beard_nopatch_224/003600.jpg\n",
            "Processing image: /content/drive/MyDrive/Masterthesis/Datasets/CelebA/beard_nopatch_224/003758.jpg\n",
            "Processing image: /content/drive/MyDrive/Masterthesis/Datasets/CelebA/beard_nopatch_224/003883.jpg\n",
            "Processing image: /content/drive/MyDrive/Masterthesis/Datasets/CelebA/beard_nopatch_224/003823.jpg\n",
            "Processing image: /content/drive/MyDrive/Masterthesis/Datasets/CelebA/beard_nopatch_224/003944.jpg\n",
            "Processing image: /content/drive/MyDrive/Masterthesis/Datasets/CelebA/beard_nopatch_224/003978.jpg\n",
            "Processing image: /content/drive/MyDrive/Masterthesis/Datasets/CelebA/beard_nopatch_224/003733.jpg\n",
            "Processing image: /content/drive/MyDrive/Masterthesis/Datasets/CelebA/beard_nopatch_224/003696.jpg\n",
            "Processing image: /content/drive/MyDrive/Masterthesis/Datasets/CelebA/beard_nopatch_224/003622.jpg\n",
            "Processing image: /content/drive/MyDrive/Masterthesis/Datasets/CelebA/beard_nopatch_224/003850.jpg\n",
            "Processing image: /content/drive/MyDrive/Masterthesis/Datasets/CelebA/beard_nopatch_224/003927.jpg\n",
            "Processing image: /content/drive/MyDrive/Masterthesis/Datasets/CelebA/beard_nopatch_224/003799.jpg\n",
            "Processing image: /content/drive/MyDrive/Masterthesis/Datasets/CelebA/beard_nopatch_224/003690.jpg\n",
            "Processing image: /content/drive/MyDrive/Masterthesis/Datasets/CelebA/beard_nopatch_224/003687.jpg\n",
            "Processing image: /content/drive/MyDrive/Masterthesis/Datasets/CelebA/beard_nopatch_224/003820.jpg\n",
            "Processing image: /content/drive/MyDrive/Masterthesis/Datasets/CelebA/beard_nopatch_224/003752.jpg\n",
            "Processing image: /content/drive/MyDrive/Masterthesis/Datasets/CelebA/beard_nopatch_224/003993.jpg\n",
            "Processing image: /content/drive/MyDrive/Masterthesis/Datasets/CelebA/beard_nopatch_224/003942.jpg\n",
            "Processing image: /content/drive/MyDrive/Masterthesis/Datasets/CelebA/beard_nopatch_224/003994.jpg\n",
            "Processing image: /content/drive/MyDrive/Masterthesis/Datasets/CelebA/beard_nopatch_224/003895.jpg\n",
            "Processing image: /content/drive/MyDrive/Masterthesis/Datasets/CelebA/beard_nopatch_224/003626.jpg\n",
            "Processing image: /content/drive/MyDrive/Masterthesis/Datasets/CelebA/beard_nopatch_224/003797.jpg\n",
            "Processing image: /content/drive/MyDrive/Masterthesis/Datasets/CelebA/beard_nopatch_224/003885.jpg\n",
            "Processing image: /content/drive/MyDrive/Masterthesis/Datasets/CelebA/beard_nopatch_224/003806.jpg\n",
            "Processing image: /content/drive/MyDrive/Masterthesis/Datasets/CelebA/beard_nopatch_224/003698.jpg\n",
            "Processing image: /content/drive/MyDrive/Masterthesis/Datasets/CelebA/beard_nopatch_224/003751.jpg\n",
            "Processing image: /content/drive/MyDrive/Masterthesis/Datasets/CelebA/beard_nopatch_224/001372.jpg\n",
            "Processing image: /content/drive/MyDrive/Masterthesis/Datasets/CelebA/beard_nopatch_224/001396.jpg\n",
            "Processing image: /content/drive/MyDrive/Masterthesis/Datasets/CelebA/beard_nopatch_224/001540.jpg\n",
            "Processing image: /content/drive/MyDrive/Masterthesis/Datasets/CelebA/beard_nopatch_224/001420.jpg\n",
            "Processing image: /content/drive/MyDrive/Masterthesis/Datasets/CelebA/beard_nopatch_224/003708.jpg\n",
            "Processing image: /content/drive/MyDrive/Masterthesis/Datasets/CelebA/beard_nopatch_224/003890.jpg\n",
            "Processing image: /content/drive/MyDrive/Masterthesis/Datasets/CelebA/beard_nopatch_224/003679.jpg\n",
            "Processing image: /content/drive/MyDrive/Masterthesis/Datasets/CelebA/beard_nopatch_224/003868.jpg\n",
            "Processing image: /content/drive/MyDrive/Masterthesis/Datasets/CelebA/beard_nopatch_224/003644.jpg\n",
            "Processing image: /content/drive/MyDrive/Masterthesis/Datasets/CelebA/beard_nopatch_224/003773.jpg\n",
            "Processing image: /content/drive/MyDrive/Masterthesis/Datasets/CelebA/beard_nopatch_224/001845.jpg\n",
            "Processing image: /content/drive/MyDrive/Masterthesis/Datasets/CelebA/beard_nopatch_224/001239.jpg\n",
            "Processing image: /content/drive/MyDrive/Masterthesis/Datasets/CelebA/beard_nopatch_224/001924.jpg\n",
            "Processing image: /content/drive/MyDrive/Masterthesis/Datasets/CelebA/beard_nopatch_224/001980.jpg\n",
            "Processing image: /content/drive/MyDrive/Masterthesis/Datasets/CelebA/beard_nopatch_224/001257.jpg\n",
            "Processing image: /content/drive/MyDrive/Masterthesis/Datasets/CelebA/beard_nopatch_224/001272.jpg\n",
            "Processing image: /content/drive/MyDrive/Masterthesis/Datasets/CelebA/beard_nopatch_224/001160.jpg\n",
            "Processing image: /content/drive/MyDrive/Masterthesis/Datasets/CelebA/beard_nopatch_224/001325.jpg\n",
            "Processing image: /content/drive/MyDrive/Masterthesis/Datasets/CelebA/beard_nopatch_224/001543.jpg\n",
            "Processing image: /content/drive/MyDrive/Masterthesis/Datasets/CelebA/beard_nopatch_224/001890.jpg\n",
            "Processing image: /content/drive/MyDrive/Masterthesis/Datasets/CelebA/beard_nopatch_224/001917.jpg\n",
            "Processing image: /content/drive/MyDrive/Masterthesis/Datasets/CelebA/beard_nopatch_224/001213.jpg\n",
            "Processing image: /content/drive/MyDrive/Masterthesis/Datasets/CelebA/beard_nopatch_224/001339.jpg\n",
            "Processing image: /content/drive/MyDrive/Masterthesis/Datasets/CelebA/beard_nopatch_224/001571.jpg\n",
            "Processing image: /content/drive/MyDrive/Masterthesis/Datasets/CelebA/beard_nopatch_224/001965.jpg\n",
            "Processing image: /content/drive/MyDrive/Masterthesis/Datasets/CelebA/beard_nopatch_224/001876.jpg\n",
            "Processing image: /content/drive/MyDrive/Masterthesis/Datasets/CelebA/beard_nopatch_224/001813.jpg\n",
            "Processing image: /content/drive/MyDrive/Masterthesis/Datasets/CelebA/beard_nopatch_224/001554.jpg\n",
            "Processing image: /content/drive/MyDrive/Masterthesis/Datasets/CelebA/beard_nopatch_224/001452.jpg\n",
            "Processing image: /content/drive/MyDrive/Masterthesis/Datasets/CelebA/beard_nopatch_224/001207.jpg\n",
            "Processing image: /content/drive/MyDrive/Masterthesis/Datasets/CelebA/beard_nopatch_224/001092.jpg\n",
            "Processing image: /content/drive/MyDrive/Masterthesis/Datasets/CelebA/beard_nopatch_224/001948.jpg\n",
            "Processing image: /content/drive/MyDrive/Masterthesis/Datasets/CelebA/beard_nopatch_224/001927.jpg\n",
            "Processing image: /content/drive/MyDrive/Masterthesis/Datasets/CelebA/beard_nopatch_224/001441.jpg\n",
            "Processing image: /content/drive/MyDrive/Masterthesis/Datasets/CelebA/beard_nopatch_224/001656.jpg\n",
            "Processing image: /content/drive/MyDrive/Masterthesis/Datasets/CelebA/beard_nopatch_224/001738.jpg\n",
            "Processing image: /content/drive/MyDrive/Masterthesis/Datasets/CelebA/beard_nopatch_224/001309.jpg\n",
            "Processing image: /content/drive/MyDrive/Masterthesis/Datasets/CelebA/beard_nopatch_224/001630.jpg\n",
            "Processing image: /content/drive/MyDrive/Masterthesis/Datasets/CelebA/beard_nopatch_224/001766.jpg\n",
            "Processing image: /content/drive/MyDrive/Masterthesis/Datasets/CelebA/beard_nopatch_224/001308.jpg\n",
            "Processing image: /content/drive/MyDrive/Masterthesis/Datasets/CelebA/beard_nopatch_224/001354.jpg\n",
            "Processing image: /content/drive/MyDrive/Masterthesis/Datasets/CelebA/beard_nopatch_224/001161.jpg\n",
            "Processing image: /content/drive/MyDrive/Masterthesis/Datasets/CelebA/beard_nopatch_224/001096.jpg\n",
            "Processing image: /content/drive/MyDrive/Masterthesis/Datasets/CelebA/beard_nopatch_224/001120.jpg\n",
            "Processing image: /content/drive/MyDrive/Masterthesis/Datasets/CelebA/beard_nopatch_224/002516.jpg\n",
            "Processing image: /content/drive/MyDrive/Masterthesis/Datasets/CelebA/beard_nopatch_224/002033.jpg\n",
            "Processing image: /content/drive/MyDrive/Masterthesis/Datasets/CelebA/beard_nopatch_224/002338.jpg\n",
            "Processing image: /content/drive/MyDrive/Masterthesis/Datasets/CelebA/beard_nopatch_224/002200.jpg\n",
            "Processing image: /content/drive/MyDrive/Masterthesis/Datasets/CelebA/beard_nopatch_224/002596.jpg\n",
            "Processing image: /content/drive/MyDrive/Masterthesis/Datasets/CelebA/beard_nopatch_224/002313.jpg\n",
            "Processing image: /content/drive/MyDrive/Masterthesis/Datasets/CelebA/beard_nopatch_224/002266.jpg\n",
            "Processing image: /content/drive/MyDrive/Masterthesis/Datasets/CelebA/beard_nopatch_224/002386.jpg\n",
            "Processing image: /content/drive/MyDrive/Masterthesis/Datasets/CelebA/beard_nopatch_224/002413.jpg\n",
            "Processing image: /content/drive/MyDrive/Masterthesis/Datasets/CelebA/beard_nopatch_224/002574.jpg\n",
            "Processing image: /content/drive/MyDrive/Masterthesis/Datasets/CelebA/beard_nopatch_224/002515.jpg\n",
            "Processing image: /content/drive/MyDrive/Masterthesis/Datasets/CelebA/beard_nopatch_224/002255.jpg\n",
            "Processing image: /content/drive/MyDrive/Masterthesis/Datasets/CelebA/beard_nopatch_224/002168.jpg\n",
            "Processing image: /content/drive/MyDrive/Masterthesis/Datasets/CelebA/beard_nopatch_224/002582.jpg\n",
            "Processing image: /content/drive/MyDrive/Masterthesis/Datasets/CelebA/beard_nopatch_224/002368.jpg\n",
            "Processing image: /content/drive/MyDrive/Masterthesis/Datasets/CelebA/beard_nopatch_224/002426.jpg\n",
            "Processing image: /content/drive/MyDrive/Masterthesis/Datasets/CelebA/beard_nopatch_224/002335.jpg\n",
            "Processing image: /content/drive/MyDrive/Masterthesis/Datasets/CelebA/beard_nopatch_224/002529.jpg\n",
            "Processing image: /content/drive/MyDrive/Masterthesis/Datasets/CelebA/beard_nopatch_224/002152.jpg\n",
            "Processing image: /content/drive/MyDrive/Masterthesis/Datasets/CelebA/beard_nopatch_224/002432.jpg\n",
            "Processing image: /content/drive/MyDrive/Masterthesis/Datasets/CelebA/beard_nopatch_224/002435.jpg\n",
            "Processing image: /content/drive/MyDrive/Masterthesis/Datasets/CelebA/beard_nopatch_224/002126.jpg\n",
            "Processing image: /content/drive/MyDrive/Masterthesis/Datasets/CelebA/beard_nopatch_224/002853.jpg\n",
            "Processing image: /content/drive/MyDrive/Masterthesis/Datasets/CelebA/beard_nopatch_224/002041.jpg\n",
            "Processing image: /content/drive/MyDrive/Masterthesis/Datasets/CelebA/beard_nopatch_224/002782.jpg\n",
            "Processing image: /content/drive/MyDrive/Masterthesis/Datasets/CelebA/beard_nopatch_224/002862.jpg\n",
            "Processing image: /content/drive/MyDrive/Masterthesis/Datasets/CelebA/beard_nopatch_224/002637.jpg\n",
            "Processing image: /content/drive/MyDrive/Masterthesis/Datasets/CelebA/beard_nopatch_224/002673.jpg\n",
            "Processing image: /content/drive/MyDrive/Masterthesis/Datasets/CelebA/beard_nopatch_224/002297.jpg\n",
            "Processing image: /content/drive/MyDrive/Masterthesis/Datasets/CelebA/beard_nopatch_224/002737.jpg\n",
            "Processing image: /content/drive/MyDrive/Masterthesis/Datasets/CelebA/beard_nopatch_224/002638.jpg\n",
            "Processing image: /content/drive/MyDrive/Masterthesis/Datasets/CelebA/beard_nopatch_224/002676.jpg\n",
            "Processing image: /content/drive/MyDrive/Masterthesis/Datasets/CelebA/beard_nopatch_224/002604.jpg\n",
            "Processing image: /content/drive/MyDrive/Masterthesis/Datasets/CelebA/beard_nopatch_224/002781.jpg\n",
            "Processing image: /content/drive/MyDrive/Masterthesis/Datasets/CelebA/beard_nopatch_224/002744.jpg\n",
            "Processing image: /content/drive/MyDrive/Masterthesis/Datasets/CelebA/beard_nopatch_224/002616.jpg\n",
            "Processing image: /content/drive/MyDrive/Masterthesis/Datasets/CelebA/beard_nopatch_224/002766.jpg\n",
            "Processing image: /content/drive/MyDrive/Masterthesis/Datasets/CelebA/beard_nopatch_224/002850.jpg\n",
            "Processing image: /content/drive/MyDrive/Masterthesis/Datasets/CelebA/beard_nopatch_224/002743.jpg\n",
            "Processing image: /content/drive/MyDrive/Masterthesis/Datasets/CelebA/beard_nopatch_224/002608.jpg\n",
            "Processing image: /content/drive/MyDrive/Masterthesis/Datasets/CelebA/beard_nopatch_224/002752.jpg\n",
            "Processing image: /content/drive/MyDrive/Masterthesis/Datasets/CelebA/beard_nopatch_224/002803.jpg\n",
            "Processing image: /content/drive/MyDrive/Masterthesis/Datasets/CelebA/beard_nopatch_224/002852.jpg\n",
            "Processing image: /content/drive/MyDrive/Masterthesis/Datasets/CelebA/beard_nopatch_224/002634.jpg\n",
            "Processing image: /content/drive/MyDrive/Masterthesis/Datasets/CelebA/beard_nopatch_224/002632.jpg\n",
            "Processing image: /content/drive/MyDrive/Masterthesis/Datasets/CelebA/beard_nopatch_224/002621.jpg\n",
            "Processing image: /content/drive/MyDrive/Masterthesis/Datasets/CelebA/beard_nopatch_224/002733.jpg\n",
            "Processing image: /content/drive/MyDrive/Masterthesis/Datasets/CelebA/beard_nopatch_224/002644.jpg\n",
            "Processing image: /content/drive/MyDrive/Masterthesis/Datasets/CelebA/beard_nopatch_224/002724.jpg\n",
            "Processing image: /content/drive/MyDrive/Masterthesis/Datasets/CelebA/beard_nopatch_224/002624.jpg\n",
            "Processing image: /content/drive/MyDrive/Masterthesis/Datasets/CelebA/beard_nopatch_224/002723.jpg\n",
            "Processing image: /content/drive/MyDrive/Masterthesis/Datasets/CelebA/beard_nopatch_224/002736.jpg\n",
            "Processing image: /content/drive/MyDrive/Masterthesis/Datasets/CelebA/beard_nopatch_224/002750.jpg\n",
            "Processing image: /content/drive/MyDrive/Masterthesis/Datasets/CelebA/beard_nopatch_224/002671.jpg\n",
            "Processing image: /content/drive/MyDrive/Masterthesis/Datasets/CelebA/beard_nopatch_224/002838.jpg\n",
            "Processing image: /content/drive/MyDrive/Masterthesis/Datasets/CelebA/beard_nopatch_224/002668.jpg\n",
            "Processing image: /content/drive/MyDrive/Masterthesis/Datasets/CelebA/beard_nopatch_224/002725.jpg\n",
            "Processing image: /content/drive/MyDrive/Masterthesis/Datasets/CelebA/beard_nopatch_224/002688.jpg\n",
            "Processing image: /content/drive/MyDrive/Masterthesis/Datasets/CelebA/beard_nopatch_224/002613.jpg\n",
            "Processing image: /content/drive/MyDrive/Masterthesis/Datasets/CelebA/beard_nopatch_224/002819.jpg\n",
            "Processing image: /content/drive/MyDrive/Masterthesis/Datasets/CelebA/beard_nopatch_224/002791.jpg\n",
            "Processing image: /content/drive/MyDrive/Masterthesis/Datasets/CelebA/beard_nopatch_224/002818.jpg\n",
            "Processing image: /content/drive/MyDrive/Masterthesis/Datasets/CelebA/beard_nopatch_224/002665.jpg\n",
            "Processing image: /content/drive/MyDrive/Masterthesis/Datasets/CelebA/beard_nopatch_224/002728.jpg\n",
            "Processing image: /content/drive/MyDrive/Masterthesis/Datasets/CelebA/beard_nopatch_224/002703.jpg\n",
            "Processing image: /content/drive/MyDrive/Masterthesis/Datasets/CelebA/beard_nopatch_224/002682.jpg\n",
            "Processing image: /content/drive/MyDrive/Masterthesis/Datasets/CelebA/beard_nopatch_224/002730.jpg\n",
            "Processing image: /content/drive/MyDrive/Masterthesis/Datasets/CelebA/beard_nopatch_224/002661.jpg\n",
            "Processing image: /content/drive/MyDrive/Masterthesis/Datasets/CelebA/beard_nopatch_224/002667.jpg\n",
            "Processing image: /content/drive/MyDrive/Masterthesis/Datasets/CelebA/beard_nopatch_224/003330.jpg\n",
            "Processing image: /content/drive/MyDrive/Masterthesis/Datasets/CelebA/beard_nopatch_224/003544.jpg\n",
            "Processing image: /content/drive/MyDrive/Masterthesis/Datasets/CelebA/beard_nopatch_224/003457.jpg\n",
            "Processing image: /content/drive/MyDrive/Masterthesis/Datasets/CelebA/beard_nopatch_224/003165.jpg\n",
            "Processing image: /content/drive/MyDrive/Masterthesis/Datasets/CelebA/beard_nopatch_224/003291.jpg\n",
            "Processing image: /content/drive/MyDrive/Masterthesis/Datasets/CelebA/beard_nopatch_224/003029.jpg\n",
            "Processing image: /content/drive/MyDrive/Masterthesis/Datasets/CelebA/beard_nopatch_224/003066.jpg\n",
            "Processing image: /content/drive/MyDrive/Masterthesis/Datasets/CelebA/beard_nopatch_224/003079.jpg\n",
            "Processing image: /content/drive/MyDrive/Masterthesis/Datasets/CelebA/beard_nopatch_224/002987.jpg\n",
            "Processing image: /content/drive/MyDrive/Masterthesis/Datasets/CelebA/beard_nopatch_224/003342.jpg\n",
            "Processing image: /content/drive/MyDrive/Masterthesis/Datasets/CelebA/beard_nopatch_224/003214.jpg\n",
            "Processing image: /content/drive/MyDrive/Masterthesis/Datasets/CelebA/beard_nopatch_224/003455.jpg\n",
            "Processing image: /content/drive/MyDrive/Masterthesis/Datasets/CelebA/beard_nopatch_224/003325.jpg\n",
            "Processing image: /content/drive/MyDrive/Masterthesis/Datasets/CelebA/beard_nopatch_224/003565.jpg\n",
            "Processing image: /content/drive/MyDrive/Masterthesis/Datasets/CelebA/beard_nopatch_224/002980.jpg\n",
            "Processing image: /content/drive/MyDrive/Masterthesis/Datasets/CelebA/beard_nopatch_224/003307.jpg\n",
            "Processing image: /content/drive/MyDrive/Masterthesis/Datasets/CelebA/beard_nopatch_224/003199.jpg\n",
            "Processing image: /content/drive/MyDrive/Masterthesis/Datasets/CelebA/beard_nopatch_224/003410.jpg\n",
            "Processing image: /content/drive/MyDrive/Masterthesis/Datasets/CelebA/beard_nopatch_224/003583.jpg\n",
            "Processing image: /content/drive/MyDrive/Masterthesis/Datasets/CelebA/beard_nopatch_224/002874.jpg\n",
            "Processing image: /content/drive/MyDrive/Masterthesis/Datasets/CelebA/beard_nopatch_224/003554.jpg\n",
            "Processing image: /content/drive/MyDrive/Masterthesis/Datasets/CelebA/beard_nopatch_224/003296.jpg\n",
            "Processing image: /content/drive/MyDrive/Masterthesis/Datasets/CelebA/beard_nopatch_224/003314.jpg\n",
            "Processing image: /content/drive/MyDrive/Masterthesis/Datasets/CelebA/beard_nopatch_224/002981.jpg\n",
            "Processing image: /content/drive/MyDrive/Masterthesis/Datasets/CelebA/beard_nopatch_224/002931.jpg\n",
            "Processing image: /content/drive/MyDrive/Masterthesis/Datasets/CelebA/beard_nopatch_224/003305.jpg\n",
            "Processing image: /content/drive/MyDrive/Masterthesis/Datasets/CelebA/beard_nopatch_224/003584.jpg\n",
            "Processing image: /content/drive/MyDrive/Masterthesis/Datasets/CelebA/beard_nopatch_224/002969.jpg\n",
            "Processing image: /content/drive/MyDrive/Masterthesis/Datasets/CelebA/beard_nopatch_224/003367.jpg\n",
            "Processing image: /content/drive/MyDrive/Masterthesis/Datasets/CelebA/beard_nopatch_224/003414.jpg\n",
            "Processing image: /content/drive/MyDrive/Masterthesis/Datasets/CelebA/beard_nopatch_224/002951.jpg\n",
            "Processing image: /content/drive/MyDrive/Masterthesis/Datasets/CelebA/beard_nopatch_224/003265.jpg\n",
            "Processing image: /content/drive/MyDrive/Masterthesis/Datasets/CelebA/beard_nopatch_224/003434.jpg\n",
            "Processing image: /content/drive/MyDrive/Masterthesis/Datasets/CelebA/beard_nopatch_224/003036.jpg\n",
            "Processing image: /content/drive/MyDrive/Masterthesis/Datasets/CelebA/beard_nopatch_224/003426.jpg\n",
            "Processing image: /content/drive/MyDrive/Masterthesis/Datasets/CelebA/beard_nopatch_224/003024.jpg\n",
            "Processing image: /content/drive/MyDrive/Masterthesis/Datasets/CelebA/beard_nopatch_224/002945.jpg\n",
            "Processing image: /content/drive/MyDrive/Masterthesis/Datasets/CelebA/beard_nopatch_224/002925.jpg\n",
            "Processing image: /content/drive/MyDrive/Masterthesis/Datasets/CelebA/beard_nopatch_224/003177.jpg\n",
            "Processing image: /content/drive/MyDrive/Masterthesis/Datasets/CelebA/beard_nopatch_224/003089.jpg\n",
            "Processing image: /content/drive/MyDrive/Masterthesis/Datasets/CelebA/beard_nopatch_224/003239.jpg\n",
            "Processing image: /content/drive/MyDrive/Masterthesis/Datasets/CelebA/beard_nopatch_224/003360.jpg\n",
            "Processing image: /content/drive/MyDrive/Masterthesis/Datasets/CelebA/beard_nopatch_224/003574.jpg\n",
            "Processing image: /content/drive/MyDrive/Masterthesis/Datasets/CelebA/beard_nopatch_224/003528.jpg\n",
            "Processing image: /content/drive/MyDrive/Masterthesis/Datasets/CelebA/beard_nopatch_224/003259.jpg\n",
            "Processing image: /content/drive/MyDrive/Masterthesis/Datasets/CelebA/beard_nopatch_224/003560.jpg\n",
            "Processing image: /content/drive/MyDrive/Masterthesis/Datasets/CelebA/beard_nopatch_224/002990.jpg\n",
            "Processing image: /content/drive/MyDrive/Masterthesis/Datasets/CelebA/beard_nopatch_224/003369.jpg\n",
            "Processing image: /content/drive/MyDrive/Masterthesis/Datasets/CelebA/beard_nopatch_224/003063.jpg\n",
            "Processing image: /content/drive/MyDrive/Masterthesis/Datasets/CelebA/beard_nopatch_224/003520.jpg\n",
            "Processing image: /content/drive/MyDrive/Masterthesis/Datasets/CelebA/beard_nopatch_224/003526.jpg\n",
            "Processing image: /content/drive/MyDrive/Masterthesis/Datasets/CelebA/beard_nopatch_224/002935.jpg\n",
            "Processing image: /content/drive/MyDrive/Masterthesis/Datasets/CelebA/beard_nopatch_224/003522.jpg\n",
            "Processing image: /content/drive/MyDrive/Masterthesis/Datasets/CelebA/beard_nopatch_224/003380.jpg\n",
            "Processing image: /content/drive/MyDrive/Masterthesis/Datasets/CelebA/beard_nopatch_224/003372.jpg\n",
            "Processing image: /content/drive/MyDrive/Masterthesis/Datasets/CelebA/beard_nopatch_224/003368.jpg\n",
            "Processing image: /content/drive/MyDrive/Masterthesis/Datasets/CelebA/beard_nopatch_224/003190.jpg\n",
            "Processing image: /content/drive/MyDrive/Masterthesis/Datasets/CelebA/beard_nopatch_224/003174.jpg\n",
            "Processing image: /content/drive/MyDrive/Masterthesis/Datasets/CelebA/beard_nopatch_224/003077.jpg\n",
            "Processing image: /content/drive/MyDrive/Masterthesis/Datasets/CelebA/beard_nopatch_224/003371.jpg\n",
            "Processing image: /content/drive/MyDrive/Masterthesis/Datasets/CelebA/beard_nopatch_224/003393.jpg\n",
            "Processing image: /content/drive/MyDrive/Masterthesis/Datasets/CelebA/beard_nopatch_224/003274.jpg\n",
            "Processing image: /content/drive/MyDrive/Masterthesis/Datasets/CelebA/beard_nopatch_224/003437.jpg\n",
            "Processing image: /content/drive/MyDrive/Masterthesis/Datasets/CelebA/beard_nopatch_224/002898.jpg\n",
            "Processing image: /content/drive/MyDrive/Masterthesis/Datasets/CelebA/beard_nopatch_224/003317.jpg\n",
            "Processing image: /content/drive/MyDrive/Masterthesis/Datasets/CelebA/beard_nopatch_224/003207.jpg\n",
            "Processing image: /content/drive/MyDrive/Masterthesis/Datasets/CelebA/beard_nopatch_224/003032.jpg\n",
            "Processing image: /content/drive/MyDrive/Masterthesis/Datasets/CelebA/beard_nopatch_224/003093.jpg\n",
            "Processing image: /content/drive/MyDrive/Masterthesis/Datasets/CelebA/beard_nopatch_224/003289.jpg\n",
            "Processing image: /content/drive/MyDrive/Masterthesis/Datasets/CelebA/beard_nopatch_224/003071.jpg\n",
            "Processing image: /content/drive/MyDrive/Masterthesis/Datasets/CelebA/beard_nopatch_224/003220.jpg\n",
            "Processing image: /content/drive/MyDrive/Masterthesis/Datasets/CelebA/beard_nopatch_224/003431.jpg\n",
            "Processing image: /content/drive/MyDrive/Masterthesis/Datasets/CelebA/beard_nopatch_224/003413.jpg\n",
            "Processing image: /content/drive/MyDrive/Masterthesis/Datasets/CelebA/beard_nopatch_224/003246.jpg\n",
            "Processing image: /content/drive/MyDrive/Masterthesis/Datasets/CelebA/beard_nopatch_224/003147.jpg\n",
            "Processing image: /content/drive/MyDrive/Masterthesis/Datasets/CelebA/beard_nopatch_224/003172.jpg\n",
            "Processing image: /content/drive/MyDrive/Masterthesis/Datasets/CelebA/beard_nopatch_224/003039.jpg\n",
            "Processing image: /content/drive/MyDrive/Masterthesis/Datasets/CelebA/beard_nopatch_224/003098.jpg\n",
            "Processing image: /content/drive/MyDrive/Masterthesis/Datasets/CelebA/beard_nopatch_224/002907.jpg\n",
            "Processing image: /content/drive/MyDrive/Masterthesis/Datasets/CelebA/beard_nopatch_224/002973.jpg\n",
            "Processing image: /content/drive/MyDrive/Masterthesis/Datasets/CelebA/beard_nopatch_224/003569.jpg\n",
            "Processing image: /content/drive/MyDrive/Masterthesis/Datasets/CelebA/beard_nopatch_224/003493.jpg\n",
            "Processing image: /content/drive/MyDrive/Masterthesis/Datasets/CelebA/beard_nopatch_224/002963.jpg\n",
            "Processing image: /content/drive/MyDrive/Masterthesis/Datasets/CelebA/beard_nopatch_224/003761.jpg\n",
            "Processing image: /content/drive/MyDrive/Masterthesis/Datasets/CelebA/beard_nopatch_224/003858.jpg\n",
            "Processing image: /content/drive/MyDrive/Masterthesis/Datasets/CelebA/beard_nopatch_224/003805.jpg\n",
            "Processing image: /content/drive/MyDrive/Masterthesis/Datasets/CelebA/beard_nopatch_224/003676.jpg\n",
            "Processing image: /content/drive/MyDrive/Masterthesis/Datasets/CelebA/beard_nopatch_224/003867.jpg\n",
            "wp_beard_all_activations shape: (235, 2)\n",
            "wo_beard_all_activations shape: (445, 2)\n"
          ]
        }
      ]
    },
    {
      "cell_type": "code",
      "source": [
        "# each row corresponds to the activations of one image.\n",
        "#np.vstack(wp_beard_all_activations).shape"
      ],
      "metadata": {
        "id": "0O61P8r3bMLY"
      },
      "execution_count": null,
      "outputs": []
    },
    {
      "cell_type": "code",
      "source": [
        "# Save activations for malignant wit patches as npy array (Sari likes npy, I like csv)\n",
        "np.save('/content/drive/MyDrive/Masterthesis/Datasets/CelebA/beard_test_wp_activations.npy',np.vstack(wp_beard_all_activations))\n",
        "np.save('/content/drive/MyDrive/Masterthesis/Datasets/CelebA/beard_test_wo_activations.npy',np.vstack(wo_beard_all_activations))"
      ],
      "metadata": {
        "id": "hepYH_LCbOJI"
      },
      "execution_count": 95,
      "outputs": []
    },
    {
      "cell_type": "code",
      "source": [
        "'''\n",
        "import shutil\n",
        "folder_path = \"/content/drive/MyDrive/Masterthesis/Datasets/CelebA/beard_nopatch_224\"\n",
        "files= os.listdir(folder_path)\n",
        "# Creates a dataset of beard images without patches for further analysis\n",
        "for imgname in files:\n",
        "    shutil.copyfile('/content/drive/MyDrive/Masterthesis/Datasets/CelebA/data/processed/beard_224/'+imgname,'/content/drive/MyDrive/Masterthesis/Datasets/CelebA/beard_nopatch_224/'+imgname)\n",
        "'''"
      ],
      "metadata": {
        "id": "RiU5Lj0ibT5Y"
      },
      "execution_count": null,
      "outputs": []
    },
    {
      "cell_type": "code",
      "source": [
        "#folder_path = \"/content/drive/MyDrive/Masterthesis/Datasets/CelebA/beard_patch_224\"\n",
        "folder_path_beard_patch = \"/content/drive/MyDrive/Masterthesis/Datasets/CelebA/beard_patch_224\"\n",
        "folder_path_beard_nopatch = \"/content/drive/MyDrive/Masterthesis/Datasets/CelebA/beard_nopatch_224\"\n",
        "\n",
        "\n",
        "files_patch= os.listdir(folder_path_beard_patch)\n",
        "files_nopatch= os.listdir(folder_path_beard_nopatch)\n",
        "\n",
        "\n",
        "num_beard_patch_test = len(files_patch)\n",
        "num_beard_nopatch_test = len(files_nopatch)\n",
        "\n",
        "\n",
        "patch_no_patch = np.hstack([np.zeros((1,num_beard_nopatch_test)),np.ones((1,num_beard_patch_test))])\n",
        "#patch_no_patch = np.hstack([np.ones((1,num_beard_patch_test)),np.zeros((1,num_beard_nopatch_test))])\n",
        "\n",
        "\n",
        "\n",
        "wp = np.load('/content/drive/MyDrive/Masterthesis/Datasets/CelebA/beard_test_wp_activations.npy')\n",
        "wo = np.load('/content/drive/MyDrive/Masterthesis/Datasets/CelebA/beard_test_wo_activations.npy')\n",
        "wop_activations = np.vstack([wo,wp])"
      ],
      "metadata": {
        "id": "uSqTQo6_beiR"
      },
      "execution_count": 96,
      "outputs": []
    },
    {
      "cell_type": "code",
      "source": [
        "wop_activations.shape"
      ],
      "metadata": {
        "id": "gTQWCrw2buj4",
        "colab": {
          "base_uri": "https://localhost:8080/"
        },
        "outputId": "a79dd9ae-2a82-418b-877d-904f1af64f54"
      },
      "execution_count": 97,
      "outputs": [
        {
          "output_type": "execute_result",
          "data": {
            "text/plain": [
              "(680, 512)"
            ]
          },
          "metadata": {},
          "execution_count": 97
        }
      ]
    },
    {
      "cell_type": "code",
      "source": [
        "two_arrays = np.concatenate((patch_no_patch.T, wop_activations), axis=1) # 900x568\n",
        "corr = np.corrcoef(two_arrays.T)"
      ],
      "metadata": {
        "id": "yjCTgPunbvW4"
      },
      "execution_count": 98,
      "outputs": []
    },
    {
      "cell_type": "code",
      "source": [
        "patch_no_patch.shape"
      ],
      "metadata": {
        "id": "PvlwHJ5cbw8w",
        "colab": {
          "base_uri": "https://localhost:8080/"
        },
        "outputId": "ff768128-8a4d-4d6e-960a-2d70b67ba651"
      },
      "execution_count": 99,
      "outputs": [
        {
          "output_type": "execute_result",
          "data": {
            "text/plain": [
              "(1, 680)"
            ]
          },
          "metadata": {},
          "execution_count": 99
        }
      ]
    },
    {
      "cell_type": "code",
      "source": [
        "import matplotlib.pyplot as plt\n",
        "activations_corr = np.abs(corr[0][1:])\n",
        "_ = plt.hist(activations_corr, bins='auto')"
      ],
      "metadata": {
        "id": "h-ECE7K_bxmg",
        "colab": {
          "base_uri": "https://localhost:8080/",
          "height": 430
        },
        "outputId": "fa731f8b-cb95-4f91-da3b-53282204055a"
      },
      "execution_count": 100,
      "outputs": [
        {
          "output_type": "display_data",
          "data": {
            "text/plain": [
              "<Figure size 640x480 with 1 Axes>"
            ],
            "image/png": "[encoded data removed]"
          },
          "metadata": {}
        }
      ]
    },
    {
      "cell_type": "code",
      "source": [
        "activations_corr.shape"
      ],
      "metadata": {
        "id": "atnRZSIdbzGQ",
        "colab": {
          "base_uri": "https://localhost:8080/"
        },
        "outputId": "0ce907bf-3847-4e7e-f35c-7f98a5e7d461"
      },
      "execution_count": 101,
      "outputs": [
        {
          "output_type": "execute_result",
          "data": {
            "text/plain": [
              "(512,)"
            ]
          },
          "metadata": {},
          "execution_count": 101
        }
      ]
    },
    {
      "cell_type": "code",
      "source": [
        "print(activations_corr)"
      ],
      "metadata": {
        "id": "fIKcSBQtb0aS",
        "colab": {
          "base_uri": "https://localhost:8080/"
        },
        "outputId": "192e36b2-9077-4791-d5a1-b01e1e855042"
      },
      "execution_count": 102,
      "outputs": [
        {
          "output_type": "stream",
          "name": "stdout",
          "text": [
            "[2.60140866e-02 4.71640609e-02 1.12460243e-01 6.69652692e-02\n",
            " 5.13776300e-02 1.68899001e-02 1.35299403e-01 1.25479295e-03\n",
            " 5.36035741e-02 2.04471067e-02 2.73503617e-02 5.21144105e-02\n",
            " 5.02376434e-03 3.72661625e-02 3.90067334e-02 1.02610872e-02\n",
            " 1.02644675e-01 2.08552278e-02 7.63644702e-02 1.06207744e-02\n",
            " 3.03762095e-02 1.37804494e-01 8.45429394e-02 4.65931058e-02\n",
            " 7.54449024e-02 6.14507905e-02 1.25881468e-02 3.88364801e-02\n",
            " 1.15776642e-01 2.84947434e-02 1.01955578e-02 1.05118408e-01\n",
            " 6.60857362e-02 3.67126781e-02 1.90826393e-03 2.60946897e-02\n",
            " 4.03961394e-02 2.41589080e-02 1.32029693e-01 1.08736115e-01\n",
            " 4.58879433e-02 9.50852874e-03 9.19357152e-02 3.62515559e-02\n",
            " 9.34680782e-02 8.67479239e-02 1.12783910e-01 8.70460677e-02\n",
            " 6.98608441e-02 1.93326242e-01 4.60859176e-02 9.48156870e-02\n",
            " 7.03047960e-02 9.55610737e-02 2.90040111e-02 2.81184008e-02\n",
            " 5.90346454e-02 1.16418592e-01 1.03118840e-01 5.86732778e-02\n",
            " 3.79828573e-02 4.40147376e-02 7.60360533e-02 2.89846025e-02\n",
            " 1.19303373e-02 3.58850292e-02 2.94778887e-02 4.64490142e-02\n",
            " 1.12060848e-02 2.37589505e-02 2.36293889e-02 1.15781410e-01\n",
            " 1.65499546e-02 7.89634893e-02 2.86385235e-02 4.26129236e-02\n",
            " 1.26425049e-02 1.04166742e-01 7.80110382e-02 8.42319025e-02\n",
            " 3.97979239e-02 3.04616050e-02 2.94239985e-04 2.70453653e-02\n",
            " 1.41538821e-01 1.32577211e-02 3.70832148e-03 3.39847118e-02\n",
            " 3.84663130e-02 8.82880854e-02 4.14107773e-02 4.65588554e-02\n",
            " 1.66915643e-02 2.63228507e-02 7.96279145e-02 1.18567859e-01\n",
            " 1.61892109e-01 5.96976136e-03 4.80270380e-02 4.54131828e-02\n",
            " 9.38666967e-02 2.47402759e-02 1.40635748e-01 1.71640006e-02\n",
            " 2.56022108e-02 4.83124049e-02 6.76283383e-02 1.82152837e-02\n",
            " 1.76835746e-02 5.65000111e-03 3.04258226e-01 7.10237241e-02\n",
            " 1.13761892e-01 5.40798438e-02 5.29441735e-02 3.54663380e-02\n",
            " 6.38997339e-04 1.42307398e-01 8.15265009e-02 1.26436386e-01\n",
            " 3.91854850e-02 1.17995957e-01 4.05134568e-02 1.31108450e-01\n",
            " 3.21110710e-02 1.27049046e-01 5.33645937e-02 8.00164799e-02\n",
            " 2.52067273e-03 2.71257261e-03 2.08887726e-02 5.59548896e-02\n",
            " 2.33347798e-03 1.28055369e-02 6.50079315e-02 7.48189341e-03\n",
            " 7.23373040e-02 6.03384640e-02 1.55659570e-02 2.42684108e-02\n",
            " 1.92583348e-01 1.27635111e-02 1.00704737e-01 8.29740588e-02\n",
            " 6.74798443e-02 5.44937107e-02 9.26934147e-03 5.44083958e-02\n",
            " 1.40853000e-01 2.31684310e-02 1.75218969e-02 8.57763265e-02\n",
            " 2.16604487e-02 7.90734375e-02 7.46039879e-02 3.38783183e-04\n",
            " 3.36156481e-02 1.46271324e-02 5.55110777e-02 1.98921636e-02\n",
            " 2.92839381e-02 1.46530148e-02 7.29581032e-02 8.09663316e-02\n",
            " 7.43386572e-02 1.08779215e-02 4.39497510e-02 2.93087380e-02\n",
            " 9.44788418e-02 4.07309295e-02 3.13046336e-02 5.97097023e-02\n",
            " 1.16801047e-01 1.43001220e-01 1.93818042e-02 1.10506182e-01\n",
            " 1.03701693e-02 1.72728974e-02 1.61201448e-01 1.16665643e-02\n",
            " 3.98684787e-02 8.47271465e-02 8.49399062e-02 1.21892668e-02\n",
            " 1.19367727e-02 5.13519695e-03 4.40289437e-02 4.35637764e-02\n",
            " 1.84166732e-02 1.70498188e-02 1.29834352e-01 5.40635382e-02\n",
            " 1.14852728e-01 7.60690370e-02 5.67784578e-02 1.35900739e-01\n",
            " 6.06113423e-02 6.12321448e-02 4.05362311e-02 1.50296119e-02\n",
            " 2.09373556e-02 4.70721287e-02 1.13414504e-01 1.30529712e-01\n",
            " 1.62160061e-01 2.11675574e-02 6.53738411e-03 1.69443651e-01\n",
            " 9.71949553e-02 1.67147755e-01 4.73362990e-02 1.07151781e-01\n",
            " 1.88076765e-02 1.02792788e-01 3.53409112e-02 4.47881858e-02\n",
            " 3.05992123e-02 1.25728243e-01 5.03190609e-02 4.39422394e-02\n",
            " 4.33443998e-02 6.24624903e-02 5.66773139e-03 4.25499013e-02\n",
            " 8.15401939e-02 6.18592705e-02 1.28007704e-01 2.39456001e-02\n",
            " 2.60530419e-02 7.61732024e-03 1.34039129e-02 7.79194436e-02\n",
            " 1.29797470e-01 4.68599856e-02 5.65110072e-03 4.16683443e-02\n",
            " 5.25117484e-02 1.17339837e-02 5.00793105e-02 1.68230475e-01\n",
            " 6.11929188e-02 9.26406438e-03 4.17569302e-02 1.71637963e-02\n",
            " 5.95731747e-02 6.21337850e-03 5.13594649e-02 6.83680322e-02\n",
            " 7.30387141e-02 4.83488970e-02 1.18650441e-01 4.60058067e-03\n",
            " 1.06231886e-01 4.08371885e-02 6.14728982e-02 7.62614663e-02\n",
            " 9.99478335e-02 1.64345402e-02 3.59033948e-02 5.85284295e-02\n",
            " 1.56747348e-02 1.62615792e-02 8.07790344e-03 7.62893095e-02\n",
            " 6.59429326e-02 6.89554438e-02 1.03338657e-01 7.51158616e-02\n",
            " 1.31500969e-01 6.76665250e-02 5.14960108e-03 2.74909752e-02\n",
            " 2.90445178e-02 2.21816612e-02 6.46935704e-02 4.90870550e-02\n",
            " 3.80214920e-02 2.09676005e-02 7.28645387e-02 6.03075740e-02\n",
            " 9.84996015e-02 9.43966927e-02 1.85470080e-01 1.93297927e-02\n",
            " 4.62596904e-02 9.37203070e-02 1.33186295e-01 4.96111487e-03\n",
            " 9.86626038e-04 7.06968026e-02 1.66144034e-01 1.23402598e-02\n",
            " 6.54600928e-02 5.41807960e-02 1.09298282e-02 3.62505455e-02\n",
            " 4.87518826e-02 1.45692238e-01 5.02404769e-02 2.23816148e-02\n",
            " 3.22699806e-03 7.50651113e-02 1.11557535e-01 9.50717220e-03\n",
            " 1.47993453e-02 8.55061634e-02 2.37562837e-02 6.08685139e-03\n",
            " 2.29998996e-02 5.56633578e-02 6.82268990e-02 3.72643154e-02\n",
            " 3.82603295e-02 6.37584915e-02 1.50800017e-02 6.17272946e-02\n",
            " 8.12573325e-03 5.30857860e-02 5.85606034e-02 6.58916368e-02\n",
            " 9.85745333e-02 1.68765399e-02 5.29018220e-02 2.22647102e-02\n",
            " 1.39231355e-01 5.90835160e-02 1.08058481e-01 3.50228552e-02\n",
            " 9.54771537e-02 3.99513655e-02 4.93202250e-02 2.29156868e-02\n",
            " 7.64030749e-02 5.87266437e-02 1.06732823e-01 4.60169229e-02\n",
            " 6.51893602e-03 2.64100745e-02 1.04639323e-02 1.08590074e-01\n",
            " 2.59833911e-02 1.21412972e-01 8.74190089e-02 6.59271169e-02\n",
            " 1.56286238e-02 3.72547930e-02 2.64983281e-02 3.42562262e-02\n",
            " 3.05210000e-02 1.31035265e-03 6.22961770e-02 3.69603586e-02\n",
            " 2.37482991e-02 4.86485526e-02 9.83522622e-02 5.18399626e-03\n",
            " 1.34088709e-01 1.19031910e-01 4.03484507e-02 1.62376172e-02\n",
            " 3.31650739e-02 9.38092254e-02 9.40575265e-02 9.17298352e-02\n",
            " 2.73182402e-02 2.70189994e-02 1.27822585e-01 1.87587059e-02\n",
            " 7.83883564e-02 5.92051217e-02 1.14110542e-01 5.31869620e-02\n",
            " 1.00958686e-01 1.56327648e-03 4.83155180e-02 2.43573208e-02\n",
            " 5.33207401e-02 1.05657422e-01 2.74132543e-02 4.84014434e-03\n",
            " 4.74282543e-02 1.29618149e-01 4.17419174e-02 4.33721047e-02\n",
            " 1.11324564e-01 3.36618937e-02 5.49268982e-02 1.57080715e-02\n",
            " 1.20730371e-01 1.05660092e-02 6.04676035e-03 8.89636037e-03\n",
            " 2.98570768e-02 1.01338699e-01 1.26704387e-02 2.29771938e-02\n",
            " 4.77950348e-05 3.85102688e-02 9.34160021e-03 8.98587928e-02\n",
            " 1.10018472e-01 4.99828456e-03 1.54025644e-01 6.21831856e-02\n",
            " 8.30226652e-02 1.73068994e-02 7.08011267e-02 1.53144081e-01\n",
            " 1.01399150e-01 2.52996833e-02 1.27524958e-01 6.55902366e-02\n",
            " 1.59544943e-02 2.08613758e-02 7.11701044e-02 2.79555805e-03\n",
            " 1.10912386e-02 1.20517905e-01 1.45968458e-01 5.69801708e-02\n",
            " 1.36316737e-02 8.91894696e-03 3.41439303e-02 5.76463897e-02\n",
            " 6.54289465e-02 9.31240559e-03 5.98118550e-02 7.27795099e-02\n",
            " 2.80963051e-02 8.08080167e-02 9.55106041e-02 6.46274431e-03\n",
            " 2.35140234e-02 1.68742996e-01 1.17787995e-01 3.27179468e-02\n",
            " 4.20674077e-02 1.44656788e-02 5.44782327e-02 3.80883535e-02\n",
            " 7.23937399e-02 6.48088984e-03 8.58131839e-02 5.29492694e-02\n",
            " 2.03363348e-02 4.51124649e-02 9.72553583e-02 3.95729015e-02\n",
            " 1.44899119e-02 7.60692107e-02 2.45831112e-02 1.13030994e-01\n",
            " 2.12117339e-01 9.55980348e-03 3.78284208e-02 1.19753866e-01\n",
            " 5.24826005e-02 4.19908426e-02 3.97337128e-02 3.13624466e-02\n",
            " 2.30917924e-02 6.85199432e-02 5.56087699e-02 3.96018857e-02\n",
            " 8.94776414e-03 4.58907767e-02 3.34427985e-02 8.93424328e-02\n",
            " 1.47512623e-01 3.86324705e-02 7.94550630e-02 1.51655663e-01\n",
            " 2.94988289e-03 1.89107238e-03 3.57523635e-02 8.56480214e-02\n",
            " 1.09240787e-01 1.02886529e-01 3.50938943e-02 9.73032220e-02\n",
            " 1.01819225e-01 2.25157195e-02 4.68482534e-02 4.40058465e-02\n",
            " 1.49776625e-01 1.21276803e-02 9.94255824e-02 2.36947920e-02\n",
            " 9.81067324e-02 8.52963635e-03 3.05776070e-02 6.43493962e-02\n",
            " 1.12632779e-01 1.05326788e-01 6.47713721e-02 5.56852310e-02\n",
            " 7.17964982e-02 6.15741602e-02 8.14191145e-02 3.43225946e-02\n",
            " 2.30892367e-02 3.01700673e-02 7.60605936e-02 6.61440249e-02\n",
            " 2.79101028e-02 4.00001446e-02 3.12180394e-02 9.02355236e-02\n",
            " 6.66218744e-02 1.20077989e-02 1.22503124e-01 3.20063687e-02]\n"
          ]
        }
      ]
    }
  ]
}