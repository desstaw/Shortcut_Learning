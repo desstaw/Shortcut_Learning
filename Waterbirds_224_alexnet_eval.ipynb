{
  "cells": [
    {
      "cell_type": "markdown",
      "metadata": {
        "id": "view-in-github",
        "colab_type": "text"
      },
      "source": [
        "<a href=\"https://colab.research.google.com/github/desstaw/Shortcut_Learning/blob/main/Waterbirds_224_alexnet_eval.ipynb\" target=\"_parent\"><img src=\"https://colab.research.google.com/assets/colab-badge.svg\" alt=\"Open In Colab\"/></a>"
      ]
    },
    {
      "cell_type": "code",
      "execution_count": 1,
      "metadata": {
        "colab": {
          "base_uri": "https://localhost:8080/"
        },
        "id": "PKLZCsggWxBs",
        "outputId": "82978e3d-97b7-4ce5-df3f-154ef8863bc4"
      },
      "outputs": [
        {
          "output_type": "stream",
          "name": "stdout",
          "text": [
            "Collecting torchextractor\n",
            "  Downloading torchextractor-0.3.0-py3-none-any.whl.metadata (7.1 kB)\n",
            "Requirement already satisfied: numpy in /usr/local/lib/python3.10/dist-packages (from torchextractor) (1.26.4)\n",
            "Requirement already satisfied: torch>=1.4.0 in /usr/local/lib/python3.10/dist-packages (from torchextractor) (2.5.1+cu121)\n",
            "Requirement already satisfied: filelock in /usr/local/lib/python3.10/dist-packages (from torch>=1.4.0->torchextractor) (3.16.1)\n",
            "Requirement already satisfied: typing-extensions>=4.8.0 in /usr/local/lib/python3.10/dist-packages (from torch>=1.4.0->torchextractor) (4.12.2)\n",
            "Requirement already satisfied: networkx in /usr/local/lib/python3.10/dist-packages (from torch>=1.4.0->torchextractor) (3.4.2)\n",
            "Requirement already satisfied: jinja2 in /usr/local/lib/python3.10/dist-packages (from torch>=1.4.0->torchextractor) (3.1.4)\n",
            "Requirement already satisfied: fsspec in /usr/local/lib/python3.10/dist-packages (from torch>=1.4.0->torchextractor) (2024.10.0)\n",
            "Requirement already satisfied: sympy==1.13.1 in /usr/local/lib/python3.10/dist-packages (from torch>=1.4.0->torchextractor) (1.13.1)\n",
            "Requirement already satisfied: mpmath<1.4,>=1.1.0 in /usr/local/lib/python3.10/dist-packages (from sympy==1.13.1->torch>=1.4.0->torchextractor) (1.3.0)\n",
            "Requirement already satisfied: MarkupSafe>=2.0 in /usr/local/lib/python3.10/dist-packages (from jinja2->torch>=1.4.0->torchextractor) (3.0.2)\n",
            "Downloading torchextractor-0.3.0-py3-none-any.whl (10 kB)\n",
            "Installing collected packages: torchextractor\n",
            "Successfully installed torchextractor-0.3.0\n"
          ]
        }
      ],
      "source": [
        "!pip install torchextractor"
      ]
    },
    {
      "cell_type": "code",
      "execution_count": 2,
      "metadata": {
        "id": "jxkdE71HXvdI"
      },
      "outputs": [],
      "source": [
        "import torch\n",
        "import sys\n",
        "import numpy as np\n",
        "import pickle as pkl\n",
        "from os.path import join as oj\n",
        "from datetime import datetime\n",
        "import torch.optim as optim\n",
        "import os\n",
        "from torch.utils.data import TensorDataset, ConcatDataset\n",
        "from sklearn.metrics import roc_auc_score, precision_recall_curve, auc, f1_score\n",
        "import argparse\n",
        "from PIL import Image\n",
        "from tqdm import tqdm\n",
        "from torch import nn\n",
        "from numpy.random import randint\n",
        "import torchvision.models as models\n",
        "import time\n",
        "import copy\n",
        "import gc\n",
        "import json\n",
        "import pandas as pd\n",
        "import torch\n",
        "import torchvision.models as models\n",
        "from torchvision import transforms\n",
        "from torch.utils.data import DataLoader\n",
        "from PIL import Image\n",
        "import torch.nn as nn\n",
        "import matplotlib.pyplot as plt\n",
        "import time\n",
        "import torch.optim as optim\n",
        "from torch.optim import lr_scheduler\n",
        "from torch.optim.lr_scheduler import StepLR\n",
        "from scipy.stats import ttest_1samp\n",
        "import matplotlib.pyplot as plt"
      ]
    },
    {
      "cell_type": "code",
      "execution_count": 3,
      "metadata": {
        "colab": {
          "base_uri": "https://localhost:8080/"
        },
        "id": "HC2BZL5vX0Zf",
        "outputId": "82d2f7e9-537e-4505-d9a3-db75541c1581"
      },
      "outputs": [
        {
          "output_type": "stream",
          "name": "stdout",
          "text": [
            "Mounted at /content/drive\n"
          ]
        }
      ],
      "source": [
        "from google.colab import drive\n",
        "drive.mount(\"/content/drive\")\n",
        "dir_path = \"/content/drive/MyDrive/Masterthesis/Datasets/Waterbird\"\n",
        "#dir_path = \"/content/drive/MyDrive/Projects/ISIC_224\""
      ]
    },
    {
      "cell_type": "code",
      "execution_count": 4,
      "metadata": {
        "id": "nzTBjMXCX5nY"
      },
      "outputs": [],
      "source": [
        "model_path = oj(dir_path, \"models\", \"initial_classifier\")\n",
        "model_training_path = oj(model_path, \"training_224\")\n",
        "data_path = oj(dir_path, \"data\")\n",
        "\n",
        "not_waterbird_path = oj(data_path, \"processed\", \"no_waterbird_224\")\n",
        "waterbird_path = oj(data_path, \"processed\", \"waterbird_224\")"
      ]
    },
    {
      "cell_type": "code",
      "execution_count": 5,
      "metadata": {
        "id": "Dqd7jg-jYLxY",
        "colab": {
          "base_uri": "https://localhost:8080/"
        },
        "outputId": "546fc13f-7436-4ef3-b18b-c218025a6c7e"
      },
      "outputs": [
        {
          "output_type": "stream",
          "name": "stderr",
          "text": [
            "/usr/local/lib/python3.10/dist-packages/torchvision/models/_utils.py:208: UserWarning: The parameter 'pretrained' is deprecated since 0.13 and may be removed in the future, please use 'weights' instead.\n",
            "  warnings.warn(\n",
            "/usr/local/lib/python3.10/dist-packages/torchvision/models/_utils.py:223: UserWarning: Arguments other than a weight enum or `None` for 'weights' are deprecated since 0.13 and may be removed in the future. The current behavior is equivalent to passing `weights=AlexNet_Weights.IMAGENET1K_V1`. You can also use `weights=AlexNet_Weights.DEFAULT` to get the most up-to-date weights.\n",
            "  warnings.warn(msg)\n",
            "Downloading: \"https://download.pytorch.org/models/alexnet-owt-7be5be79.pth\" to /root/.cache/torch/hub/checkpoints/alexnet-owt-7be5be79.pth\n",
            "100%|██████████| 233M/233M [00:01<00:00, 192MB/s]\n"
          ]
        }
      ],
      "source": [
        "\n",
        "import numpy as np\n",
        "import argparse\n",
        "import torch\n",
        "import torchvision.models as models\n",
        "import torch.nn as nn\n",
        "\n",
        "mean = np.asarray([0.485, 0.456, 0.406])\n",
        "std = np.asarray([0.229, 0.224, 0.225])\n",
        "\n",
        "# Define arguments\n",
        "class Args:\n",
        "    def __init__(self):\n",
        "        self.batch_size = 64\n",
        "        self.epochs = 100\n",
        "        self.lr = 0.0001\n",
        "        self.momentum = 0.9\n",
        "        self.seed = 111\n",
        "        self.regularizer_rate = 0.0\n",
        "        #self.dropout_rate = 0.7\n",
        "\n",
        "args = Args()\n",
        "\n",
        "regularizer_rate = args.regularizer_rate\n",
        "#dropout_rate = args.dropout_rate\n",
        "num_epochs = args.epochs\n",
        "device = torch.device('cuda' if torch.cuda.is_available() else 'cpu')\n",
        "\n",
        "torch.manual_seed(args.seed)\n",
        "model = models.alexnet(pretrained=True)\n",
        "#changing nn.Linear(4096, 1000) to nn.Linear(4096, 2) as alexnet was trained on imagenet with 1000 classes originally\n",
        "model.classifier[-1] = nn.Linear(4096, 2)\n",
        "model = model.to(device)\n",
        "\n",
        "#for module in model.classifier.children():\n",
        "    #if isinstance(module, nn.Dropout):\n",
        "        #module.p = dropout_rate\n",
        "\n",
        "params_to_update = model.parameters()\n"
      ]
    },
    {
      "cell_type": "code",
      "execution_count": 6,
      "metadata": {
        "id": "Wb0yOBCxYRJx"
      },
      "outputs": [],
      "source": [
        "def clean_up_empty_files(path):\n",
        "    list_files= os.listdir(path)\n",
        "    num_files = len(list_files)\n",
        "    for i in tqdm(range(num_files)):\n",
        "        if os.path.getsize(oj(path, list_files[i])) < 100:\n",
        "            os.remove(oj(path, list_files[i]))\n",
        "            print(\"File \" + str(i) + \"deleted!\")"
      ]
    },
    {
      "cell_type": "code",
      "execution_count": 7,
      "metadata": {
        "id": "O-Sjxg4eYWoI"
      },
      "outputs": [],
      "source": [
        "class WaterbirdDataset(torch.utils.data.Dataset):\n",
        "    def __init__(self, path: str = None, is_waterbird: int = None, data_files = None, labels = None, group_labels = None):\n",
        "        \"\"\"\n",
        "        Expects path and is_waterbird both to be supplied if the relevant images all lie in the same directory and have the same class\n",
        "        or a list of full filepaths and list of all labels are both supplied using data_files and labels otherwise.\n",
        "        \"\"\"\n",
        "\n",
        "        \"\"\"\n",
        "        Initializes the WaterbirdDataset.\n",
        "\n",
        "        If 'path' and 'is_waterbird' are provided, it assumes that all images in the directory specified\n",
        "        by 'path' belong to the same class 'is_waterbird'.\n",
        "\n",
        "        Alternatively, if 'data_files' and 'labels' are provided, it uses these lists directly\n",
        "        for file paths and corresponding labels.\n",
        "\n",
        "        Args:\n",
        "            path (str): Directory containing images, all belonging to the same class.\n",
        "            is_waterbird (int): The class label (e.g., 1 for waterbird, 0 for non-waterbird) for all images in the directory.\n",
        "            data_files (list): List of full file paths to images.\n",
        "            labels (list): List of labels corresponding to 'data_files'.\n",
        "        \"\"\"\n",
        "        if path: # If a path is provided, list all files in the directory and assign the class label\n",
        "            self.path = path\n",
        "            self.data_files = os.listdir(self.path)\n",
        "            self.is_waterbird = is_waterbird\n",
        "            self.group_labels = [is_waterbird] * len(self.data_files)  # Assuming group labels are consistent within the directory\n",
        "\n",
        "        else: # Otherwise, use provided lists of data files and labels\n",
        "            self.path = ''\n",
        "            self.data_files = data_files\n",
        "            self.labels = labels\n",
        "            self.group_labels = group_labels\n",
        "            self.is_waterbird = None\n",
        "\n",
        "    def __getitem__(self, i):\n",
        "\n",
        "        \"\"\"\n",
        "        Retrieves an image and its label at index 'i'.\n",
        "\n",
        "        Args:\n",
        "            i (int): Index of the image to retrieve.\n",
        "\n",
        "        Returns:\n",
        "            tuple: (image tensor, label)\n",
        "        \"\"\"\n",
        "\n",
        "\n",
        "        # Read in the image, convert to float between [0,1] and standardise , and convert to a PyTorch tensor\n",
        "        img = Image.open(oj(self.path, self.data_files[i]))\n",
        "        img_array = np.asarray(img)/255.0 # Convert image to float and scale to [0, 1]\n",
        "        img_array -= mean[None, None, :] # Subtract the mean for normalization\n",
        "        img_array /= std[None, None, :] # Divide by the standard deviation for normalization\n",
        "        img.close()\n",
        "        torch_img = torch.from_numpy(img_array.swapaxes(0,2).swapaxes(1,2)).float() # Convert the numpy array to a PyTorch tensor and rearrange the axes\n",
        "        # Determine the label: use the global class label if provided, otherwise extract the relevant label from the list of labels.\n",
        "        is_waterbird = self.is_waterbird if self.is_waterbird is not None else self.labels[i]\n",
        "        group_label = self.group_labels[i]\n",
        "        return (torch_img, is_waterbird, group_label)\n",
        "\n",
        "    def __len__(self): # Returns the total number of images in the dataset.\n",
        "        return len(self.data_files)"
      ]
    },
    {
      "cell_type": "markdown",
      "metadata": {
        "id": "WztOCsqEYahv"
      },
      "source": [
        "## Functions for Training"
      ]
    },
    {
      "cell_type": "code",
      "execution_count": 8,
      "metadata": {
        "id": "FHF45c9XYfPw"
      },
      "outputs": [],
      "source": [
        "def gradient_sum(im, target, model, crit, device='cuda'):\n",
        "    '''Assume that everything is already on cuda.'''\n",
        "    im.requires_grad = True  # Enable gradient computation for the input image\n",
        "    grad_params = torch.abs(torch.autograd.grad(crit(model(im), target), im, create_graph=True)[0].sum(dim=1)).sum()\n",
        "    return grad_params\n",
        "\n",
        "def train_model(model, dataloaders, criterion, optimizer, num_epochs=100, resume_training=False):\n",
        "    since = time.time()\n",
        "    best_loss = 10.0\n",
        "\n",
        "    scheduler = lr_scheduler.StepLR(optimizer, step_size=10, gamma=0.1)  # Example scheduler\n",
        "\n",
        "    if len(os.listdir(model_training_path)) > 0 and resume_training:\n",
        "        # Check if there are saved model files and resume training if needed\n",
        "        model_list = [(f, os.path.getmtime(os.path.join(model_training_path, f))) for f in os.listdir(model_training_path) if f.endswith('.pt')]\n",
        "        model_list.sort(key=lambda tup: tup[1], reverse=True)  # Sort models by modification time in place from most to least recent\n",
        "        model_name = model_list[0][0]\n",
        "        model.load_state_dict(torch.load(os.path.join(model_training_path, model_name)))\n",
        "        print(\"Model loaded!\")\n",
        "\n",
        "    # Initialize lists to track loss and accuracy\n",
        "    train_losses = []\n",
        "    val_losses = []\n",
        "    train_accuracies = []\n",
        "    val_accuracies = []\n",
        "\n",
        "    for epoch in range(1, num_epochs + 1):\n",
        "        print(f'Epoch {epoch}/{num_epochs}')\n",
        "        print('-' * 10)\n",
        "\n",
        "        for phase in ['train', 'val']:  # Add 'val' phase\n",
        "            if phase == 'train':\n",
        "                model.train()  # Set model to training mode\n",
        "            else:\n",
        "                model.eval()  # Set model to evaluate mode\n",
        "\n",
        "            running_loss = 0.0\n",
        "            running_loss_cd = 0.0\n",
        "            running_corrects = 0\n",
        "\n",
        "            # Iterate over data, moving inputs and labels to the specified device\n",
        "            for i, (inputs, labels, group_labels) in tqdm(enumerate(dataloaders[phase]), total=len(dataloaders[phase])):\n",
        "                inputs = inputs.to(device)\n",
        "                labels = labels.to(device)\n",
        "\n",
        "                # Zero the parameter gradients\n",
        "                optimizer.zero_grad()\n",
        "\n",
        "                # Forward\n",
        "                with torch.set_grad_enabled(phase == 'train'):\n",
        "                    if phase == 'train' and regularizer_rate != 0:\n",
        "                        add_loss = gradient_sum(inputs, labels, model, criterion)\n",
        "                        if add_loss != 0:\n",
        "                            (regularizer_rate * add_loss).backward()\n",
        "                            optimizer.step()\n",
        "                        optimizer.zero_grad()\n",
        "                        running_loss_cd += add_loss.item() * inputs.size(0)\n",
        "\n",
        "                    outputs = model(inputs)\n",
        "                    _, preds = torch.max(outputs, 1)\n",
        "                    loss = criterion(outputs, labels)\n",
        "                    if phase == 'train':\n",
        "                        loss.backward()\n",
        "                        optimizer.step()\n",
        "\n",
        "                # Statistics\n",
        "                running_loss += loss.item() * inputs.size(0)\n",
        "                running_corrects += torch.sum(preds == labels.data)\n",
        "\n",
        "            epoch_loss = running_loss / len(dataloaders[phase].dataset)\n",
        "            epoch_cd_loss = running_loss_cd / len(dataloaders[phase].dataset)\n",
        "            epoch_acc = running_corrects.double() / len(dataloaders[phase].dataset)\n",
        "\n",
        "            print(f'{phase} Loss: {epoch_loss:.4f} Acc: {epoch_acc:.4f} CD Loss: {epoch_cd_loss:.4f}')\n",
        "\n",
        "            # Append metrics to lists\n",
        "            if phase == 'train':\n",
        "                train_losses.append(epoch_loss)\n",
        "                train_accuracies.append(epoch_acc.cpu().numpy())  # Move accuracy to CPU before appending\n",
        "            else:\n",
        "                val_losses.append(epoch_loss)\n",
        "                val_accuracies.append(epoch_acc.cpu().numpy())  # Move accuracy to CPU before appending\n",
        "\n",
        "            # Deep copy the model if it's the best one\n",
        "            if phase == 'val' and epoch_loss < best_loss:\n",
        "                best_loss = epoch_loss\n",
        "                best_model_wts = copy.deepcopy(model.state_dict())\n",
        "\n",
        "        # Step the scheduler\n",
        "        scheduler.step()\n",
        "\n",
        "        # Save model checkpoint every 5 epochs\n",
        "        if epoch % 5 == 0:\n",
        "            torch.save(model.state_dict(), os.path.join(model_training_path, datetime.now().strftime(\"%Y%m%d%H%M%S\") + \"alexnet_wb\" + \".pt\"))\n",
        "\n",
        "    time_elapsed = time.time() - since\n",
        "    print(f'Training complete in {time_elapsed // 60:.0f}m {time_elapsed % 60:.0f}s')\n",
        "    print(f'Best val loss: {best_loss:.4f}')\n",
        "\n",
        "    # Load best model weights\n",
        "    model.load_state_dict(best_model_wts)\n",
        "\n",
        "    # Plot the training and validation loss\n",
        "    plt.figure(figsize=(10, 5))\n",
        "    plt.plot(train_losses, label='Training Loss')\n",
        "    plt.plot(val_losses, label='Validation Loss')\n",
        "    plt.xlabel('Epoch')\n",
        "    plt.ylabel('Loss')\n",
        "    plt.legend()\n",
        "    plt.title('Training and Validation Loss')\n",
        "    plt.show()\n",
        "\n",
        "    # Plot the training and validation accuracy\n",
        "    plt.figure(figsize=(10, 5))\n",
        "    plt.plot(train_accuracies, label='Training Accuracy')\n",
        "    plt.plot(val_accuracies, label='Validation Accuracy')\n",
        "    plt.xlabel('Epoch')\n",
        "    plt.ylabel('Accuracy')\n",
        "    plt.legend()\n",
        "    plt.title('Training and Validation Accuracy')\n",
        "    plt.show()\n",
        "\n",
        "    return model"
      ]
    },
    {
      "cell_type": "markdown",
      "metadata": {
        "id": "5TwPA-4Bg9Ql"
      },
      "source": [
        "## Train"
      ]
    },
    {
      "cell_type": "markdown",
      "metadata": {
        "id": "SWY7tWnms27g"
      },
      "source": [
        "Selective Train (wbw, lbw, lbl)"
      ]
    },
    {
      "cell_type": "code",
      "execution_count": 9,
      "metadata": {
        "colab": {
          "base_uri": "https://localhost:8080/"
        },
        "id": "0B3gSmbug8ST",
        "outputId": "e2ca9c32-d2c5-4408-98dc-7f9790784673"
      },
      "outputs": [
        {
          "output_type": "stream",
          "name": "stdout",
          "text": [
            "num_train: 4740\n",
            "num_test: 642\n"
          ]
        }
      ],
      "source": [
        "# Train\n",
        "train_wb_nopatch_path = '/content/drive/MyDrive/Masterthesis/Datasets/Waterbird/dataset_splits/train/train_wb_nopatch'\n",
        "train_lb_nopatch_path = '/content/drive/MyDrive/Masterthesis/Datasets/Waterbird/dataset_splits/train/train_lb_nopatch'\n",
        "train_lb_patch_path = '/content/drive/MyDrive/Masterthesis/Datasets/Waterbird/dataset_splits/train/train_lb_patch'\n",
        "train_wb_patch_path = '/content/drive/MyDrive/Masterthesis/Datasets/Waterbird/dataset_splits/train/train_wb_patch'\n",
        "\n",
        "dataset_wb_nopatch_train = WaterbirdDataset(path=train_wb_nopatch_path, is_waterbird=1, group_labels=[3] * len(os.listdir(train_wb_nopatch_path)))\n",
        "dataset_lb_nopatch_train = WaterbirdDataset(path=train_lb_nopatch_path, is_waterbird=0, group_labels=[0] * len(os.listdir(train_lb_nopatch_path)))\n",
        "dataset_lb_patch_train = WaterbirdDataset(path=train_lb_patch_path, is_waterbird=0, group_labels=[1] * len(os.listdir(train_lb_patch_path)))\n",
        "dataset_wb_patch_train = WaterbirdDataset(path=train_wb_patch_path, is_waterbird=1, group_labels=[1] * len(os.listdir(train_wb_patch_path)))\n",
        "\n",
        "# Test\n",
        "\n",
        "test_wb_nopatch_path = '/content/drive/MyDrive/Masterthesis/Datasets/Waterbird/dataset_splits/test/test_wb_nopatch'\n",
        "test_lb_nopatch_path = '/content/drive/MyDrive/Masterthesis/Datasets/Waterbird/dataset_splits/test/test_lb_nopatch'\n",
        "test_lb_patch_path = '/content/drive/MyDrive/Masterthesis/Datasets/Waterbird/dataset_splits/test/test_lb_patch'\n",
        "test_wb_patch_path = '/content/drive/MyDrive/Masterthesis/Datasets/Waterbird/dataset_splits/test/test_wb_patch'\n",
        "\n",
        "dataset_wb_nopatch_test = WaterbirdDataset(path=test_wb_nopatch_path, is_waterbird=1, group_labels=[3] * len(os.listdir(test_wb_nopatch_path)))\n",
        "dataset_lb_nopatch_test = WaterbirdDataset(path=test_lb_nopatch_path, is_waterbird=0, group_labels=[0] * len(os.listdir(test_lb_nopatch_path)))\n",
        "dataset_lb_patch_test = WaterbirdDataset(path=test_lb_patch_path, is_waterbird=0, group_labels=[1] * len(os.listdir(test_lb_patch_path)))\n",
        "dataset_wb_patch_test = WaterbirdDataset(path=test_wb_patch_path, is_waterbird=1, group_labels=[1] * len(os.listdir(test_wb_patch_path)))\n",
        "\n",
        "\n",
        "# Validate\n",
        "\n",
        "val_wb_nopatch_path = '/content/drive/MyDrive/Masterthesis/Datasets/Waterbird/dataset_splits/val/val_wb_nopatch'\n",
        "val_lb_nopatch_path = '/content/drive/MyDrive/Masterthesis/Datasets/Waterbird/dataset_splits/val/val_lb_nopatch'\n",
        "val_lb_patch_path = '/content/drive/MyDrive/Masterthesis/Datasets/Waterbird/dataset_splits/val/val_lb_patch'\n",
        "val_wb_patch_path = '/content/drive/MyDrive/Masterthesis/Datasets/Waterbird/dataset_splits/val/val_wb_patch'\n",
        "\n",
        "dataset_wb_nopatch_val = WaterbirdDataset(path=val_wb_nopatch_path, is_waterbird=1, group_labels=[3] * len(os.listdir(val_wb_nopatch_path)))\n",
        "dataset_lb_nopatch_val = WaterbirdDataset(path=val_lb_nopatch_path, is_waterbird=0, group_labels=[0] * len(os.listdir(val_lb_nopatch_path)))\n",
        "dataset_lb_patch_val = WaterbirdDataset(path=val_lb_patch_path, is_waterbird=0, group_labels=[1] * len(os.listdir(val_lb_patch_path)))\n",
        "dataset_wb_patch_val = WaterbirdDataset(path=val_wb_patch_path, is_waterbird=1, group_labels=[1] * len(os.listdir(val_wb_patch_path)))\n",
        "\n",
        "\n",
        "\n",
        "# selective: wbw, lbw, lbl\n",
        "train_dataset = ConcatDataset((dataset_wb_nopatch_train, dataset_lb_nopatch_train, dataset_lb_patch_train))\n",
        "test_dataset = dataset_wb_patch_test\n",
        "val_dataset = ConcatDataset((dataset_wb_nopatch_val, dataset_lb_nopatch_val, dataset_lb_patch_val))\n",
        "\n",
        "batch_size = args.batch_size\n",
        "\n",
        "#dataloaders\n",
        "train_loader = DataLoader(train_dataset, batch_size=batch_size, shuffle=True, num_workers=2)\n",
        "test_loader = DataLoader(test_dataset, batch_size=batch_size, shuffle=False, num_workers=2)\n",
        "val_loader = DataLoader(val_dataset, batch_size=batch_size, shuffle=False, num_workers=2)\n",
        "\n",
        "\n",
        "dataloaders = {'train': train_loader, 'val': val_loader, 'test': test_loader}\n",
        "dataset_sizes = {'train': len(train_dataset), 'val': len(val_dataset), 'test': len(test_dataset)}\n",
        "\n",
        "# Print dataset sizes\n",
        "print(\"num_train:\", dataset_sizes['train'])\n",
        "print(\"num_test:\", dataset_sizes['test'])\n",
        "\n",
        "# Example usage:\n",
        "group_frequencies = {\n",
        "    0: 3518,  # landbird_generic-spurious:birdonland\n",
        "    1: 185,   # landbird_generic-spurious:birdonwater\n",
        "    2: 55,    # waterbird_generic-spurious:birdonland\n",
        "    3: 1037   # waterbird_generic-spurious:birdonwater\n",
        "}\n",
        "\n"
      ]
    },
    {
      "cell_type": "code",
      "execution_count": 11,
      "metadata": {
        "id": "z_6jV1plhABI",
        "colab": {
          "base_uri": "https://localhost:8080/",
          "height": 1000
        },
        "outputId": "0d255738-db96-4b29-b387-ec14437f2427"
      },
      "outputs": [
        {
          "output_type": "stream",
          "name": "stdout",
          "text": [
            "Epoch 1/100\n",
            "----------\n"
          ]
        },
        {
          "output_type": "stream",
          "name": "stderr",
          "text": [
            "100%|██████████| 75/75 [31:49<00:00, 25.45s/it]"
          ]
        },
        {
          "output_type": "stream",
          "name": "stdout",
          "text": [
            "train Loss: 0.3213 Acc: 0.8641 CD Loss: 0.0000\n"
          ]
        },
        {
          "output_type": "stream",
          "name": "stderr",
          "text": [
            "\n",
            "100%|██████████| 17/17 [07:16<00:00, 25.67s/it]"
          ]
        },
        {
          "output_type": "stream",
          "name": "stdout",
          "text": [
            "val Loss: 1.0231 Acc: 0.6136 CD Loss: 0.0000\n",
            "Epoch 2/100\n",
            "----------\n"
          ]
        },
        {
          "output_type": "stream",
          "name": "stderr",
          "text": [
            "\n",
            "100%|██████████| 75/75 [00:15<00:00,  4.93it/s]"
          ]
        },
        {
          "output_type": "stream",
          "name": "stdout",
          "text": [
            "train Loss: 0.2011 Acc: 0.9259 CD Loss: 0.0000\n"
          ]
        },
        {
          "output_type": "stream",
          "name": "stderr",
          "text": [
            "\n",
            "100%|██████████| 17/17 [00:03<00:00,  4.86it/s]"
          ]
        },
        {
          "output_type": "stream",
          "name": "stdout",
          "text": [
            "val Loss: 0.9081 Acc: 0.6392 CD Loss: 0.0000\n",
            "Epoch 3/100\n",
            "----------\n"
          ]
        },
        {
          "output_type": "stream",
          "name": "stderr",
          "text": [
            "\n",
            "100%|██████████| 75/75 [00:15<00:00,  4.83it/s]"
          ]
        },
        {
          "output_type": "stream",
          "name": "stdout",
          "text": [
            "train Loss: 0.1848 Acc: 0.9310 CD Loss: 0.0000\n"
          ]
        },
        {
          "output_type": "stream",
          "name": "stderr",
          "text": [
            "\n",
            "100%|██████████| 17/17 [00:03<00:00,  4.86it/s]"
          ]
        },
        {
          "output_type": "stream",
          "name": "stdout",
          "text": [
            "val Loss: 0.7700 Acc: 0.6695 CD Loss: 0.0000\n",
            "Epoch 4/100\n",
            "----------\n"
          ]
        },
        {
          "output_type": "stream",
          "name": "stderr",
          "text": [
            "\n",
            "100%|██████████| 75/75 [00:15<00:00,  4.94it/s]"
          ]
        },
        {
          "output_type": "stream",
          "name": "stdout",
          "text": [
            "train Loss: 0.1698 Acc: 0.9354 CD Loss: 0.0000\n"
          ]
        },
        {
          "output_type": "stream",
          "name": "stderr",
          "text": [
            "\n",
            "100%|██████████| 17/17 [00:03<00:00,  5.04it/s]"
          ]
        },
        {
          "output_type": "stream",
          "name": "stdout",
          "text": [
            "val Loss: 0.8538 Acc: 0.6544 CD Loss: 0.0000\n",
            "Epoch 5/100\n",
            "----------\n"
          ]
        },
        {
          "output_type": "stream",
          "name": "stderr",
          "text": [
            "\n",
            "100%|██████████| 75/75 [00:15<00:00,  4.72it/s]"
          ]
        },
        {
          "output_type": "stream",
          "name": "stdout",
          "text": [
            "train Loss: 0.1576 Acc: 0.9418 CD Loss: 0.0000\n"
          ]
        },
        {
          "output_type": "stream",
          "name": "stderr",
          "text": [
            "\n",
            "100%|██████████| 17/17 [00:03<00:00,  4.85it/s]\n"
          ]
        },
        {
          "output_type": "stream",
          "name": "stdout",
          "text": [
            "val Loss: 0.7261 Acc: 0.6903 CD Loss: 0.0000\n",
            "Epoch 6/100\n",
            "----------\n"
          ]
        },
        {
          "output_type": "stream",
          "name": "stderr",
          "text": [
            "100%|██████████| 75/75 [00:16<00:00,  4.56it/s]"
          ]
        },
        {
          "output_type": "stream",
          "name": "stdout",
          "text": [
            "train Loss: 0.1534 Acc: 0.9428 CD Loss: 0.0000\n"
          ]
        },
        {
          "output_type": "stream",
          "name": "stderr",
          "text": [
            "\n",
            "100%|██████████| 17/17 [00:03<00:00,  4.79it/s]\n"
          ]
        },
        {
          "output_type": "stream",
          "name": "stdout",
          "text": [
            "val Loss: 0.7717 Acc: 0.6742 CD Loss: 0.0000\n",
            "Epoch 7/100\n",
            "----------\n"
          ]
        },
        {
          "output_type": "stream",
          "name": "stderr",
          "text": [
            "100%|██████████| 75/75 [00:15<00:00,  4.73it/s]"
          ]
        },
        {
          "output_type": "stream",
          "name": "stdout",
          "text": [
            "train Loss: 0.1404 Acc: 0.9460 CD Loss: 0.0000\n"
          ]
        },
        {
          "output_type": "stream",
          "name": "stderr",
          "text": [
            "\n",
            "100%|██████████| 17/17 [00:03<00:00,  5.05it/s]"
          ]
        },
        {
          "output_type": "stream",
          "name": "stdout",
          "text": [
            "val Loss: 0.8391 Acc: 0.6581 CD Loss: 0.0000\n",
            "Epoch 8/100\n",
            "----------\n"
          ]
        },
        {
          "output_type": "stream",
          "name": "stderr",
          "text": [
            "\n",
            "100%|██████████| 75/75 [00:15<00:00,  4.93it/s]"
          ]
        },
        {
          "output_type": "stream",
          "name": "stdout",
          "text": [
            "train Loss: 0.1402 Acc: 0.9454 CD Loss: 0.0000\n"
          ]
        },
        {
          "output_type": "stream",
          "name": "stderr",
          "text": [
            "\n",
            "100%|██████████| 17/17 [00:03<00:00,  4.92it/s]"
          ]
        },
        {
          "output_type": "stream",
          "name": "stdout",
          "text": [
            "val Loss: 0.7902 Acc: 0.6629 CD Loss: 0.0000\n",
            "Epoch 9/100\n",
            "----------\n"
          ]
        },
        {
          "output_type": "stream",
          "name": "stderr",
          "text": [
            "\n",
            "100%|██████████| 75/75 [00:15<00:00,  4.80it/s]"
          ]
        },
        {
          "output_type": "stream",
          "name": "stdout",
          "text": [
            "train Loss: 0.1304 Acc: 0.9466 CD Loss: 0.0000\n"
          ]
        },
        {
          "output_type": "stream",
          "name": "stderr",
          "text": [
            "\n",
            "100%|██████████| 17/17 [00:03<00:00,  5.15it/s]"
          ]
        },
        {
          "output_type": "stream",
          "name": "stdout",
          "text": [
            "val Loss: 0.7082 Acc: 0.6960 CD Loss: 0.0000\n",
            "Epoch 10/100\n",
            "----------\n"
          ]
        },
        {
          "output_type": "stream",
          "name": "stderr",
          "text": [
            "\n",
            "100%|██████████| 75/75 [00:15<00:00,  4.94it/s]"
          ]
        },
        {
          "output_type": "stream",
          "name": "stdout",
          "text": [
            "train Loss: 0.1258 Acc: 0.9496 CD Loss: 0.0000\n"
          ]
        },
        {
          "output_type": "stream",
          "name": "stderr",
          "text": [
            "\n",
            "100%|██████████| 17/17 [00:03<00:00,  4.94it/s]\n"
          ]
        },
        {
          "output_type": "stream",
          "name": "stdout",
          "text": [
            "val Loss: 0.7674 Acc: 0.6866 CD Loss: 0.0000\n",
            "Epoch 11/100\n",
            "----------\n"
          ]
        },
        {
          "output_type": "stream",
          "name": "stderr",
          "text": [
            "100%|██████████| 75/75 [00:15<00:00,  4.83it/s]"
          ]
        },
        {
          "output_type": "stream",
          "name": "stdout",
          "text": [
            "train Loss: 0.1160 Acc: 0.9546 CD Loss: 0.0000\n"
          ]
        },
        {
          "output_type": "stream",
          "name": "stderr",
          "text": [
            "\n",
            "100%|██████████| 17/17 [00:03<00:00,  5.19it/s]"
          ]
        },
        {
          "output_type": "stream",
          "name": "stdout",
          "text": [
            "val Loss: 0.7699 Acc: 0.6866 CD Loss: 0.0000\n",
            "Epoch 12/100\n",
            "----------\n"
          ]
        },
        {
          "output_type": "stream",
          "name": "stderr",
          "text": [
            "\n",
            "100%|██████████| 75/75 [00:15<00:00,  4.75it/s]"
          ]
        },
        {
          "output_type": "stream",
          "name": "stdout",
          "text": [
            "train Loss: 0.1207 Acc: 0.9561 CD Loss: 0.0000\n"
          ]
        },
        {
          "output_type": "stream",
          "name": "stderr",
          "text": [
            "\n",
            "100%|██████████| 17/17 [00:03<00:00,  4.95it/s]\n"
          ]
        },
        {
          "output_type": "stream",
          "name": "stdout",
          "text": [
            "val Loss: 0.7794 Acc: 0.6790 CD Loss: 0.0000\n",
            "Epoch 13/100\n",
            "----------\n"
          ]
        },
        {
          "output_type": "stream",
          "name": "stderr",
          "text": [
            "100%|██████████| 75/75 [00:15<00:00,  4.88it/s]"
          ]
        },
        {
          "output_type": "stream",
          "name": "stdout",
          "text": [
            "train Loss: 0.1263 Acc: 0.9521 CD Loss: 0.0000\n"
          ]
        },
        {
          "output_type": "stream",
          "name": "stderr",
          "text": [
            "\n",
            "100%|██████████| 17/17 [00:03<00:00,  5.06it/s]"
          ]
        },
        {
          "output_type": "stream",
          "name": "stdout",
          "text": [
            "val Loss: 0.7742 Acc: 0.6809 CD Loss: 0.0000\n",
            "Epoch 14/100\n",
            "----------\n"
          ]
        },
        {
          "output_type": "stream",
          "name": "stderr",
          "text": [
            "\n",
            "100%|██████████| 75/75 [00:15<00:00,  4.91it/s]"
          ]
        },
        {
          "output_type": "stream",
          "name": "stdout",
          "text": [
            "train Loss: 0.1185 Acc: 0.9551 CD Loss: 0.0000\n"
          ]
        },
        {
          "output_type": "stream",
          "name": "stderr",
          "text": [
            "\n",
            "100%|██████████| 17/17 [00:03<00:00,  5.05it/s]"
          ]
        },
        {
          "output_type": "stream",
          "name": "stdout",
          "text": [
            "val Loss: 0.7657 Acc: 0.6847 CD Loss: 0.0000\n",
            "Epoch 15/100\n",
            "----------\n"
          ]
        },
        {
          "output_type": "stream",
          "name": "stderr",
          "text": [
            "\n",
            "100%|██████████| 75/75 [00:15<00:00,  4.95it/s]"
          ]
        },
        {
          "output_type": "stream",
          "name": "stdout",
          "text": [
            "train Loss: 0.1162 Acc: 0.9549 CD Loss: 0.0000\n"
          ]
        },
        {
          "output_type": "stream",
          "name": "stderr",
          "text": [
            "\n",
            "100%|██████████| 17/17 [00:03<00:00,  4.94it/s]\n"
          ]
        },
        {
          "output_type": "stream",
          "name": "stdout",
          "text": [
            "val Loss: 0.7503 Acc: 0.6913 CD Loss: 0.0000\n",
            "Epoch 16/100\n",
            "----------\n"
          ]
        },
        {
          "output_type": "stream",
          "name": "stderr",
          "text": [
            "100%|██████████| 75/75 [00:15<00:00,  4.85it/s]"
          ]
        },
        {
          "output_type": "stream",
          "name": "stdout",
          "text": [
            "train Loss: 0.1107 Acc: 0.9570 CD Loss: 0.0000\n"
          ]
        },
        {
          "output_type": "stream",
          "name": "stderr",
          "text": [
            "\n",
            "100%|██████████| 17/17 [00:03<00:00,  5.09it/s]"
          ]
        },
        {
          "output_type": "stream",
          "name": "stdout",
          "text": [
            "val Loss: 0.7545 Acc: 0.6903 CD Loss: 0.0000\n",
            "Epoch 17/100\n",
            "----------\n"
          ]
        },
        {
          "output_type": "stream",
          "name": "stderr",
          "text": [
            "\n",
            "100%|██████████| 75/75 [00:15<00:00,  4.79it/s]"
          ]
        },
        {
          "output_type": "stream",
          "name": "stdout",
          "text": [
            "train Loss: 0.1132 Acc: 0.9576 CD Loss: 0.0000\n"
          ]
        },
        {
          "output_type": "stream",
          "name": "stderr",
          "text": [
            "\n",
            "100%|██████████| 17/17 [00:03<00:00,  5.10it/s]"
          ]
        },
        {
          "output_type": "stream",
          "name": "stdout",
          "text": [
            "val Loss: 0.7605 Acc: 0.6866 CD Loss: 0.0000\n",
            "Epoch 18/100\n",
            "----------\n"
          ]
        },
        {
          "output_type": "stream",
          "name": "stderr",
          "text": [
            "\n",
            "100%|██████████| 75/75 [00:15<00:00,  4.81it/s]"
          ]
        },
        {
          "output_type": "stream",
          "name": "stdout",
          "text": [
            "train Loss: 0.1153 Acc: 0.9565 CD Loss: 0.0000\n"
          ]
        },
        {
          "output_type": "stream",
          "name": "stderr",
          "text": [
            "\n",
            "100%|██████████| 17/17 [00:03<00:00,  5.02it/s]"
          ]
        },
        {
          "output_type": "stream",
          "name": "stdout",
          "text": [
            "val Loss: 0.7708 Acc: 0.6837 CD Loss: 0.0000\n",
            "Epoch 19/100\n",
            "----------\n"
          ]
        },
        {
          "output_type": "stream",
          "name": "stderr",
          "text": [
            "\n",
            "100%|██████████| 75/75 [00:15<00:00,  4.88it/s]"
          ]
        },
        {
          "output_type": "stream",
          "name": "stdout",
          "text": [
            "train Loss: 0.1169 Acc: 0.9530 CD Loss: 0.0000\n"
          ]
        },
        {
          "output_type": "stream",
          "name": "stderr",
          "text": [
            "\n",
            "100%|██████████| 17/17 [00:03<00:00,  5.19it/s]"
          ]
        },
        {
          "output_type": "stream",
          "name": "stdout",
          "text": [
            "val Loss: 0.7667 Acc: 0.6837 CD Loss: 0.0000\n",
            "Epoch 20/100\n",
            "----------\n"
          ]
        },
        {
          "output_type": "stream",
          "name": "stderr",
          "text": [
            "\n",
            "100%|██████████| 75/75 [00:15<00:00,  4.81it/s]"
          ]
        },
        {
          "output_type": "stream",
          "name": "stdout",
          "text": [
            "train Loss: 0.1142 Acc: 0.9559 CD Loss: 0.0000\n"
          ]
        },
        {
          "output_type": "stream",
          "name": "stderr",
          "text": [
            "\n",
            "100%|██████████| 17/17 [00:03<00:00,  4.95it/s]\n"
          ]
        },
        {
          "output_type": "stream",
          "name": "stdout",
          "text": [
            "val Loss: 0.7512 Acc: 0.6875 CD Loss: 0.0000\n",
            "Epoch 21/100\n",
            "----------\n"
          ]
        },
        {
          "output_type": "stream",
          "name": "stderr",
          "text": [
            "100%|██████████| 75/75 [00:16<00:00,  4.65it/s]"
          ]
        },
        {
          "output_type": "stream",
          "name": "stdout",
          "text": [
            "train Loss: 0.1134 Acc: 0.9553 CD Loss: 0.0000\n"
          ]
        },
        {
          "output_type": "stream",
          "name": "stderr",
          "text": [
            "\n",
            "100%|██████████| 17/17 [00:03<00:00,  5.18it/s]"
          ]
        },
        {
          "output_type": "stream",
          "name": "stdout",
          "text": [
            "val Loss: 0.7523 Acc: 0.6875 CD Loss: 0.0000\n",
            "Epoch 22/100\n",
            "----------\n"
          ]
        },
        {
          "output_type": "stream",
          "name": "stderr",
          "text": [
            "\n",
            "100%|██████████| 75/75 [00:16<00:00,  4.63it/s]"
          ]
        },
        {
          "output_type": "stream",
          "name": "stdout",
          "text": [
            "train Loss: 0.1141 Acc: 0.9578 CD Loss: 0.0000\n"
          ]
        },
        {
          "output_type": "stream",
          "name": "stderr",
          "text": [
            "\n",
            "100%|██████████| 17/17 [00:03<00:00,  4.92it/s]\n"
          ]
        },
        {
          "output_type": "stream",
          "name": "stdout",
          "text": [
            "val Loss: 0.7539 Acc: 0.6866 CD Loss: 0.0000\n",
            "Epoch 23/100\n",
            "----------\n"
          ]
        },
        {
          "output_type": "stream",
          "name": "stderr",
          "text": [
            "100%|██████████| 75/75 [00:15<00:00,  4.95it/s]"
          ]
        },
        {
          "output_type": "stream",
          "name": "stdout",
          "text": [
            "train Loss: 0.1136 Acc: 0.9568 CD Loss: 0.0000\n"
          ]
        },
        {
          "output_type": "stream",
          "name": "stderr",
          "text": [
            "\n",
            "100%|██████████| 17/17 [00:03<00:00,  5.24it/s]"
          ]
        },
        {
          "output_type": "stream",
          "name": "stdout",
          "text": [
            "val Loss: 0.7571 Acc: 0.6866 CD Loss: 0.0000\n",
            "Epoch 24/100\n",
            "----------\n"
          ]
        },
        {
          "output_type": "stream",
          "name": "stderr",
          "text": [
            "\n",
            "100%|██████████| 75/75 [00:15<00:00,  4.76it/s]"
          ]
        },
        {
          "output_type": "stream",
          "name": "stdout",
          "text": [
            "train Loss: 0.1110 Acc: 0.9576 CD Loss: 0.0000\n"
          ]
        },
        {
          "output_type": "stream",
          "name": "stderr",
          "text": [
            "\n",
            "100%|██████████| 17/17 [00:03<00:00,  4.90it/s]"
          ]
        },
        {
          "output_type": "stream",
          "name": "stdout",
          "text": [
            "val Loss: 0.7575 Acc: 0.6866 CD Loss: 0.0000\n",
            "Epoch 25/100\n",
            "----------\n"
          ]
        },
        {
          "output_type": "stream",
          "name": "stderr",
          "text": [
            "\n",
            "100%|██████████| 75/75 [00:15<00:00,  4.78it/s]"
          ]
        },
        {
          "output_type": "stream",
          "name": "stdout",
          "text": [
            "train Loss: 0.1116 Acc: 0.9542 CD Loss: 0.0000\n"
          ]
        },
        {
          "output_type": "stream",
          "name": "stderr",
          "text": [
            "\n",
            "100%|██████████| 17/17 [00:03<00:00,  4.87it/s]\n"
          ]
        },
        {
          "output_type": "stream",
          "name": "stdout",
          "text": [
            "val Loss: 0.7582 Acc: 0.6866 CD Loss: 0.0000\n",
            "Epoch 26/100\n",
            "----------\n"
          ]
        },
        {
          "output_type": "stream",
          "name": "stderr",
          "text": [
            "100%|██████████| 75/75 [00:15<00:00,  4.72it/s]"
          ]
        },
        {
          "output_type": "stream",
          "name": "stdout",
          "text": [
            "train Loss: 0.1112 Acc: 0.9570 CD Loss: 0.0000\n"
          ]
        },
        {
          "output_type": "stream",
          "name": "stderr",
          "text": [
            "\n",
            "100%|██████████| 17/17 [00:03<00:00,  5.08it/s]\n"
          ]
        },
        {
          "output_type": "stream",
          "name": "stdout",
          "text": [
            "val Loss: 0.7586 Acc: 0.6866 CD Loss: 0.0000\n",
            "Epoch 27/100\n",
            "----------\n"
          ]
        },
        {
          "output_type": "stream",
          "name": "stderr",
          "text": [
            "100%|██████████| 75/75 [00:16<00:00,  4.66it/s]"
          ]
        },
        {
          "output_type": "stream",
          "name": "stdout",
          "text": [
            "train Loss: 0.1140 Acc: 0.9582 CD Loss: 0.0000\n"
          ]
        },
        {
          "output_type": "stream",
          "name": "stderr",
          "text": [
            "\n",
            "100%|██████████| 17/17 [00:03<00:00,  5.36it/s]"
          ]
        },
        {
          "output_type": "stream",
          "name": "stdout",
          "text": [
            "val Loss: 0.7604 Acc: 0.6866 CD Loss: 0.0000\n",
            "Epoch 28/100\n",
            "----------\n"
          ]
        },
        {
          "output_type": "stream",
          "name": "stderr",
          "text": [
            "\n",
            "100%|██████████| 75/75 [00:15<00:00,  4.84it/s]"
          ]
        },
        {
          "output_type": "stream",
          "name": "stdout",
          "text": [
            "train Loss: 0.1136 Acc: 0.9555 CD Loss: 0.0000\n"
          ]
        },
        {
          "output_type": "stream",
          "name": "stderr",
          "text": [
            "\n",
            "100%|██████████| 17/17 [00:03<00:00,  5.08it/s]"
          ]
        },
        {
          "output_type": "stream",
          "name": "stdout",
          "text": [
            "val Loss: 0.7610 Acc: 0.6866 CD Loss: 0.0000\n",
            "Epoch 29/100\n",
            "----------\n"
          ]
        },
        {
          "output_type": "stream",
          "name": "stderr",
          "text": [
            "\n",
            "100%|██████████| 75/75 [00:15<00:00,  4.81it/s]"
          ]
        },
        {
          "output_type": "stream",
          "name": "stdout",
          "text": [
            "train Loss: 0.1119 Acc: 0.9557 CD Loss: 0.0000\n"
          ]
        },
        {
          "output_type": "stream",
          "name": "stderr",
          "text": [
            "\n",
            "100%|██████████| 17/17 [00:03<00:00,  5.11it/s]"
          ]
        },
        {
          "output_type": "stream",
          "name": "stdout",
          "text": [
            "val Loss: 0.7596 Acc: 0.6866 CD Loss: 0.0000\n",
            "Epoch 30/100\n",
            "----------\n"
          ]
        },
        {
          "output_type": "stream",
          "name": "stderr",
          "text": [
            "\n",
            "100%|██████████| 75/75 [00:15<00:00,  4.98it/s]"
          ]
        },
        {
          "output_type": "stream",
          "name": "stdout",
          "text": [
            "train Loss: 0.1133 Acc: 0.9546 CD Loss: 0.0000\n"
          ]
        },
        {
          "output_type": "stream",
          "name": "stderr",
          "text": [
            "\n",
            "100%|██████████| 17/17 [00:03<00:00,  5.06it/s]\n"
          ]
        },
        {
          "output_type": "stream",
          "name": "stdout",
          "text": [
            "val Loss: 0.7595 Acc: 0.6866 CD Loss: 0.0000\n",
            "Epoch 31/100\n",
            "----------\n"
          ]
        },
        {
          "output_type": "stream",
          "name": "stderr",
          "text": [
            "100%|██████████| 75/75 [00:16<00:00,  4.64it/s]"
          ]
        },
        {
          "output_type": "stream",
          "name": "stdout",
          "text": [
            "train Loss: 0.1143 Acc: 0.9549 CD Loss: 0.0000\n"
          ]
        },
        {
          "output_type": "stream",
          "name": "stderr",
          "text": [
            "\n",
            "100%|██████████| 17/17 [00:03<00:00,  5.08it/s]"
          ]
        },
        {
          "output_type": "stream",
          "name": "stdout",
          "text": [
            "val Loss: 0.7596 Acc: 0.6866 CD Loss: 0.0000\n",
            "Epoch 32/100\n",
            "----------\n"
          ]
        },
        {
          "output_type": "stream",
          "name": "stderr",
          "text": [
            "\n",
            "100%|██████████| 75/75 [00:15<00:00,  4.87it/s]"
          ]
        },
        {
          "output_type": "stream",
          "name": "stdout",
          "text": [
            "train Loss: 0.1145 Acc: 0.9582 CD Loss: 0.0000\n"
          ]
        },
        {
          "output_type": "stream",
          "name": "stderr",
          "text": [
            "\n",
            "100%|██████████| 17/17 [00:03<00:00,  5.05it/s]"
          ]
        },
        {
          "output_type": "stream",
          "name": "stdout",
          "text": [
            "val Loss: 0.7599 Acc: 0.6866 CD Loss: 0.0000\n",
            "Epoch 33/100\n",
            "----------\n"
          ]
        },
        {
          "output_type": "stream",
          "name": "stderr",
          "text": [
            "\n",
            "100%|██████████| 75/75 [00:15<00:00,  4.94it/s]"
          ]
        },
        {
          "output_type": "stream",
          "name": "stdout",
          "text": [
            "train Loss: 0.1149 Acc: 0.9553 CD Loss: 0.0000\n"
          ]
        },
        {
          "output_type": "stream",
          "name": "stderr",
          "text": [
            "\n",
            "100%|██████████| 17/17 [00:03<00:00,  5.00it/s]\n"
          ]
        },
        {
          "output_type": "stream",
          "name": "stdout",
          "text": [
            "val Loss: 0.7599 Acc: 0.6866 CD Loss: 0.0000\n",
            "Epoch 34/100\n",
            "----------\n"
          ]
        },
        {
          "output_type": "stream",
          "name": "stderr",
          "text": [
            "100%|██████████| 75/75 [00:15<00:00,  4.90it/s]"
          ]
        },
        {
          "output_type": "stream",
          "name": "stdout",
          "text": [
            "train Loss: 0.1163 Acc: 0.9549 CD Loss: 0.0000\n"
          ]
        },
        {
          "output_type": "stream",
          "name": "stderr",
          "text": [
            "\n",
            "100%|██████████| 17/17 [00:03<00:00,  5.19it/s]"
          ]
        },
        {
          "output_type": "stream",
          "name": "stdout",
          "text": [
            "val Loss: 0.7599 Acc: 0.6866 CD Loss: 0.0000\n",
            "Epoch 35/100\n",
            "----------\n"
          ]
        },
        {
          "output_type": "stream",
          "name": "stderr",
          "text": [
            "\n",
            "100%|██████████| 75/75 [00:15<00:00,  4.75it/s]"
          ]
        },
        {
          "output_type": "stream",
          "name": "stdout",
          "text": [
            "train Loss: 0.1111 Acc: 0.9551 CD Loss: 0.0000\n"
          ]
        },
        {
          "output_type": "stream",
          "name": "stderr",
          "text": [
            "\n",
            "100%|██████████| 17/17 [00:03<00:00,  5.02it/s]\n"
          ]
        },
        {
          "output_type": "stream",
          "name": "stdout",
          "text": [
            "val Loss: 0.7598 Acc: 0.6866 CD Loss: 0.0000\n",
            "Epoch 36/100\n",
            "----------\n"
          ]
        },
        {
          "output_type": "stream",
          "name": "stderr",
          "text": [
            "100%|██████████| 75/75 [00:15<00:00,  4.85it/s]"
          ]
        },
        {
          "output_type": "stream",
          "name": "stdout",
          "text": [
            "train Loss: 0.1185 Acc: 0.9538 CD Loss: 0.0000\n"
          ]
        },
        {
          "output_type": "stream",
          "name": "stderr",
          "text": [
            "\n",
            "100%|██████████| 17/17 [00:03<00:00,  5.08it/s]"
          ]
        },
        {
          "output_type": "stream",
          "name": "stdout",
          "text": [
            "val Loss: 0.7599 Acc: 0.6866 CD Loss: 0.0000\n",
            "Epoch 37/100\n",
            "----------\n"
          ]
        },
        {
          "output_type": "stream",
          "name": "stderr",
          "text": [
            "\n",
            "100%|██████████| 75/75 [00:16<00:00,  4.67it/s]"
          ]
        },
        {
          "output_type": "stream",
          "name": "stdout",
          "text": [
            "train Loss: 0.1110 Acc: 0.9572 CD Loss: 0.0000\n"
          ]
        },
        {
          "output_type": "stream",
          "name": "stderr",
          "text": [
            "\n",
            "100%|██████████| 17/17 [00:03<00:00,  4.89it/s]"
          ]
        },
        {
          "output_type": "stream",
          "name": "stdout",
          "text": [
            "val Loss: 0.7600 Acc: 0.6866 CD Loss: 0.0000\n",
            "Epoch 38/100\n",
            "----------\n"
          ]
        },
        {
          "output_type": "stream",
          "name": "stderr",
          "text": [
            "\n",
            "100%|██████████| 75/75 [00:15<00:00,  4.79it/s]"
          ]
        },
        {
          "output_type": "stream",
          "name": "stdout",
          "text": [
            "train Loss: 0.1079 Acc: 0.9570 CD Loss: 0.0000\n"
          ]
        },
        {
          "output_type": "stream",
          "name": "stderr",
          "text": [
            "\n",
            "100%|██████████| 17/17 [00:03<00:00,  4.99it/s]"
          ]
        },
        {
          "output_type": "stream",
          "name": "stdout",
          "text": [
            "val Loss: 0.7598 Acc: 0.6866 CD Loss: 0.0000\n",
            "Epoch 39/100\n",
            "----------\n"
          ]
        },
        {
          "output_type": "stream",
          "name": "stderr",
          "text": [
            "\n",
            "100%|██████████| 75/75 [00:15<00:00,  4.93it/s]"
          ]
        },
        {
          "output_type": "stream",
          "name": "stdout",
          "text": [
            "train Loss: 0.1116 Acc: 0.9586 CD Loss: 0.0000\n"
          ]
        },
        {
          "output_type": "stream",
          "name": "stderr",
          "text": [
            "\n",
            "100%|██████████| 17/17 [00:03<00:00,  4.82it/s]"
          ]
        },
        {
          "output_type": "stream",
          "name": "stdout",
          "text": [
            "val Loss: 0.7599 Acc: 0.6866 CD Loss: 0.0000\n",
            "Epoch 40/100\n",
            "----------\n"
          ]
        },
        {
          "output_type": "stream",
          "name": "stderr",
          "text": [
            "\n",
            "100%|██████████| 75/75 [00:14<00:00,  5.02it/s]"
          ]
        },
        {
          "output_type": "stream",
          "name": "stdout",
          "text": [
            "train Loss: 0.1133 Acc: 0.9565 CD Loss: 0.0000\n"
          ]
        },
        {
          "output_type": "stream",
          "name": "stderr",
          "text": [
            "\n",
            "100%|██████████| 17/17 [00:03<00:00,  5.15it/s]\n"
          ]
        },
        {
          "output_type": "stream",
          "name": "stdout",
          "text": [
            "val Loss: 0.7599 Acc: 0.6866 CD Loss: 0.0000\n",
            "Epoch 41/100\n",
            "----------\n"
          ]
        },
        {
          "output_type": "stream",
          "name": "stderr",
          "text": [
            "100%|██████████| 75/75 [00:15<00:00,  4.71it/s]"
          ]
        },
        {
          "output_type": "stream",
          "name": "stdout",
          "text": [
            "train Loss: 0.1149 Acc: 0.9551 CD Loss: 0.0000\n"
          ]
        },
        {
          "output_type": "stream",
          "name": "stderr",
          "text": [
            "\n",
            "100%|██████████| 17/17 [00:03<00:00,  4.88it/s]"
          ]
        },
        {
          "output_type": "stream",
          "name": "stdout",
          "text": [
            "val Loss: 0.7599 Acc: 0.6866 CD Loss: 0.0000\n",
            "Epoch 42/100\n",
            "----------\n"
          ]
        },
        {
          "output_type": "stream",
          "name": "stderr",
          "text": [
            "\n",
            "100%|██████████| 75/75 [00:15<00:00,  4.80it/s]"
          ]
        },
        {
          "output_type": "stream",
          "name": "stdout",
          "text": [
            "train Loss: 0.1100 Acc: 0.9540 CD Loss: 0.0000\n"
          ]
        },
        {
          "output_type": "stream",
          "name": "stderr",
          "text": [
            "\n",
            "100%|██████████| 17/17 [00:03<00:00,  5.06it/s]"
          ]
        },
        {
          "output_type": "stream",
          "name": "stdout",
          "text": [
            "val Loss: 0.7599 Acc: 0.6866 CD Loss: 0.0000\n",
            "Epoch 43/100\n",
            "----------\n"
          ]
        },
        {
          "output_type": "stream",
          "name": "stderr",
          "text": [
            "\n",
            "100%|██████████| 75/75 [00:15<00:00,  4.93it/s]"
          ]
        },
        {
          "output_type": "stream",
          "name": "stdout",
          "text": [
            "train Loss: 0.1124 Acc: 0.9563 CD Loss: 0.0000\n"
          ]
        },
        {
          "output_type": "stream",
          "name": "stderr",
          "text": [
            "\n",
            "100%|██████████| 17/17 [00:03<00:00,  4.84it/s]"
          ]
        },
        {
          "output_type": "stream",
          "name": "stdout",
          "text": [
            "val Loss: 0.7599 Acc: 0.6866 CD Loss: 0.0000\n",
            "Epoch 44/100\n",
            "----------\n"
          ]
        },
        {
          "output_type": "stream",
          "name": "stderr",
          "text": [
            "\n",
            "100%|██████████| 75/75 [00:15<00:00,  4.75it/s]"
          ]
        },
        {
          "output_type": "stream",
          "name": "stdout",
          "text": [
            "train Loss: 0.1087 Acc: 0.9563 CD Loss: 0.0000\n"
          ]
        },
        {
          "output_type": "stream",
          "name": "stderr",
          "text": [
            "\n",
            "100%|██████████| 17/17 [00:03<00:00,  5.18it/s]"
          ]
        },
        {
          "output_type": "stream",
          "name": "stdout",
          "text": [
            "val Loss: 0.7599 Acc: 0.6866 CD Loss: 0.0000\n",
            "Epoch 45/100\n",
            "----------\n"
          ]
        },
        {
          "output_type": "stream",
          "name": "stderr",
          "text": [
            "\n",
            "100%|██████████| 75/75 [00:15<00:00,  4.92it/s]"
          ]
        },
        {
          "output_type": "stream",
          "name": "stdout",
          "text": [
            "train Loss: 0.1109 Acc: 0.9578 CD Loss: 0.0000\n"
          ]
        },
        {
          "output_type": "stream",
          "name": "stderr",
          "text": [
            "\n",
            "100%|██████████| 17/17 [00:03<00:00,  4.76it/s]\n"
          ]
        },
        {
          "output_type": "stream",
          "name": "stdout",
          "text": [
            "val Loss: 0.7599 Acc: 0.6866 CD Loss: 0.0000\n",
            "Epoch 46/100\n",
            "----------\n"
          ]
        },
        {
          "output_type": "stream",
          "name": "stderr",
          "text": [
            "100%|██████████| 75/75 [00:15<00:00,  4.74it/s]"
          ]
        },
        {
          "output_type": "stream",
          "name": "stdout",
          "text": [
            "train Loss: 0.1101 Acc: 0.9572 CD Loss: 0.0000\n"
          ]
        },
        {
          "output_type": "stream",
          "name": "stderr",
          "text": [
            "\n",
            "100%|██████████| 17/17 [00:03<00:00,  5.14it/s]"
          ]
        },
        {
          "output_type": "stream",
          "name": "stdout",
          "text": [
            "val Loss: 0.7599 Acc: 0.6866 CD Loss: 0.0000\n",
            "Epoch 47/100\n",
            "----------\n"
          ]
        },
        {
          "output_type": "stream",
          "name": "stderr",
          "text": [
            "\n",
            "100%|██████████| 75/75 [00:15<00:00,  4.96it/s]"
          ]
        },
        {
          "output_type": "stream",
          "name": "stdout",
          "text": [
            "train Loss: 0.1107 Acc: 0.9580 CD Loss: 0.0000\n"
          ]
        },
        {
          "output_type": "stream",
          "name": "stderr",
          "text": [
            "\n",
            "100%|██████████| 17/17 [00:03<00:00,  4.31it/s]"
          ]
        },
        {
          "output_type": "stream",
          "name": "stdout",
          "text": [
            "val Loss: 0.7599 Acc: 0.6866 CD Loss: 0.0000\n",
            "Epoch 48/100\n",
            "----------\n"
          ]
        },
        {
          "output_type": "stream",
          "name": "stderr",
          "text": [
            "\n",
            "100%|██████████| 75/75 [00:15<00:00,  4.81it/s]"
          ]
        },
        {
          "output_type": "stream",
          "name": "stdout",
          "text": [
            "train Loss: 0.1136 Acc: 0.9555 CD Loss: 0.0000\n"
          ]
        },
        {
          "output_type": "stream",
          "name": "stderr",
          "text": [
            "\n",
            "100%|██████████| 17/17 [00:03<00:00,  4.96it/s]"
          ]
        },
        {
          "output_type": "stream",
          "name": "stdout",
          "text": [
            "val Loss: 0.7599 Acc: 0.6866 CD Loss: 0.0000\n",
            "Epoch 49/100\n",
            "----------\n"
          ]
        },
        {
          "output_type": "stream",
          "name": "stderr",
          "text": [
            "\n",
            "100%|██████████| 75/75 [00:14<00:00,  5.01it/s]"
          ]
        },
        {
          "output_type": "stream",
          "name": "stdout",
          "text": [
            "train Loss: 0.1098 Acc: 0.9568 CD Loss: 0.0000\n"
          ]
        },
        {
          "output_type": "stream",
          "name": "stderr",
          "text": [
            "\n",
            "100%|██████████| 17/17 [00:03<00:00,  4.88it/s]"
          ]
        },
        {
          "output_type": "stream",
          "name": "stdout",
          "text": [
            "val Loss: 0.7599 Acc: 0.6866 CD Loss: 0.0000\n",
            "Epoch 50/100\n",
            "----------\n"
          ]
        },
        {
          "output_type": "stream",
          "name": "stderr",
          "text": [
            "\n",
            "100%|██████████| 75/75 [00:15<00:00,  4.75it/s]"
          ]
        },
        {
          "output_type": "stream",
          "name": "stdout",
          "text": [
            "train Loss: 0.1101 Acc: 0.9561 CD Loss: 0.0000\n"
          ]
        },
        {
          "output_type": "stream",
          "name": "stderr",
          "text": [
            "\n",
            "100%|██████████| 17/17 [00:03<00:00,  5.17it/s]\n"
          ]
        },
        {
          "output_type": "stream",
          "name": "stdout",
          "text": [
            "val Loss: 0.7599 Acc: 0.6866 CD Loss: 0.0000\n",
            "Epoch 51/100\n",
            "----------\n"
          ]
        },
        {
          "output_type": "stream",
          "name": "stderr",
          "text": [
            "100%|██████████| 75/75 [00:15<00:00,  4.86it/s]"
          ]
        },
        {
          "output_type": "stream",
          "name": "stdout",
          "text": [
            "train Loss: 0.1118 Acc: 0.9555 CD Loss: 0.0000\n"
          ]
        },
        {
          "output_type": "stream",
          "name": "stderr",
          "text": [
            "\n",
            "100%|██████████| 17/17 [00:03<00:00,  5.00it/s]"
          ]
        },
        {
          "output_type": "stream",
          "name": "stdout",
          "text": [
            "val Loss: 0.7599 Acc: 0.6866 CD Loss: 0.0000\n",
            "Epoch 52/100\n",
            "----------\n"
          ]
        },
        {
          "output_type": "stream",
          "name": "stderr",
          "text": [
            "\n",
            "100%|██████████| 75/75 [00:15<00:00,  4.84it/s]"
          ]
        },
        {
          "output_type": "stream",
          "name": "stdout",
          "text": [
            "train Loss: 0.1096 Acc: 0.9570 CD Loss: 0.0000\n"
          ]
        },
        {
          "output_type": "stream",
          "name": "stderr",
          "text": [
            "\n",
            "100%|██████████| 17/17 [00:03<00:00,  5.06it/s]"
          ]
        },
        {
          "output_type": "stream",
          "name": "stdout",
          "text": [
            "val Loss: 0.7599 Acc: 0.6866 CD Loss: 0.0000\n",
            "Epoch 53/100\n",
            "----------\n"
          ]
        },
        {
          "output_type": "stream",
          "name": "stderr",
          "text": [
            "\n",
            "100%|██████████| 75/75 [00:14<00:00,  5.05it/s]"
          ]
        },
        {
          "output_type": "stream",
          "name": "stdout",
          "text": [
            "train Loss: 0.1124 Acc: 0.9589 CD Loss: 0.0000\n"
          ]
        },
        {
          "output_type": "stream",
          "name": "stderr",
          "text": [
            "\n",
            "100%|██████████| 17/17 [00:03<00:00,  4.83it/s]"
          ]
        },
        {
          "output_type": "stream",
          "name": "stdout",
          "text": [
            "val Loss: 0.7599 Acc: 0.6866 CD Loss: 0.0000\n",
            "Epoch 54/100\n",
            "----------\n"
          ]
        },
        {
          "output_type": "stream",
          "name": "stderr",
          "text": [
            "\n",
            "100%|██████████| 75/75 [00:15<00:00,  4.96it/s]"
          ]
        },
        {
          "output_type": "stream",
          "name": "stdout",
          "text": [
            "train Loss: 0.1106 Acc: 0.9559 CD Loss: 0.0000\n"
          ]
        },
        {
          "output_type": "stream",
          "name": "stderr",
          "text": [
            "\n",
            "100%|██████████| 17/17 [00:03<00:00,  4.87it/s]"
          ]
        },
        {
          "output_type": "stream",
          "name": "stdout",
          "text": [
            "val Loss: 0.7599 Acc: 0.6866 CD Loss: 0.0000\n",
            "Epoch 55/100\n",
            "----------\n"
          ]
        },
        {
          "output_type": "stream",
          "name": "stderr",
          "text": [
            "\n",
            "100%|██████████| 75/75 [00:15<00:00,  4.93it/s]"
          ]
        },
        {
          "output_type": "stream",
          "name": "stdout",
          "text": [
            "train Loss: 0.1113 Acc: 0.9553 CD Loss: 0.0000\n"
          ]
        },
        {
          "output_type": "stream",
          "name": "stderr",
          "text": [
            "\n",
            "100%|██████████| 17/17 [00:03<00:00,  5.04it/s]\n"
          ]
        },
        {
          "output_type": "stream",
          "name": "stdout",
          "text": [
            "val Loss: 0.7599 Acc: 0.6866 CD Loss: 0.0000\n",
            "Epoch 56/100\n",
            "----------\n"
          ]
        },
        {
          "output_type": "stream",
          "name": "stderr",
          "text": [
            "100%|██████████| 75/75 [00:15<00:00,  4.90it/s]"
          ]
        },
        {
          "output_type": "stream",
          "name": "stdout",
          "text": [
            "train Loss: 0.1095 Acc: 0.9574 CD Loss: 0.0000\n"
          ]
        },
        {
          "output_type": "stream",
          "name": "stderr",
          "text": [
            "\n",
            "100%|██████████| 17/17 [00:03<00:00,  5.12it/s]"
          ]
        },
        {
          "output_type": "stream",
          "name": "stdout",
          "text": [
            "val Loss: 0.7599 Acc: 0.6866 CD Loss: 0.0000\n",
            "Epoch 57/100\n",
            "----------\n"
          ]
        },
        {
          "output_type": "stream",
          "name": "stderr",
          "text": [
            "\n",
            "100%|██████████| 75/75 [00:14<00:00,  5.07it/s]"
          ]
        },
        {
          "output_type": "stream",
          "name": "stdout",
          "text": [
            "train Loss: 0.1132 Acc: 0.9557 CD Loss: 0.0000\n"
          ]
        },
        {
          "output_type": "stream",
          "name": "stderr",
          "text": [
            "\n",
            "100%|██████████| 17/17 [00:04<00:00,  4.22it/s]"
          ]
        },
        {
          "output_type": "stream",
          "name": "stdout",
          "text": [
            "val Loss: 0.7599 Acc: 0.6866 CD Loss: 0.0000\n",
            "Epoch 58/100\n",
            "----------\n"
          ]
        },
        {
          "output_type": "stream",
          "name": "stderr",
          "text": [
            "\n",
            "100%|██████████| 75/75 [00:15<00:00,  4.88it/s]"
          ]
        },
        {
          "output_type": "stream",
          "name": "stdout",
          "text": [
            "train Loss: 0.1090 Acc: 0.9601 CD Loss: 0.0000\n"
          ]
        },
        {
          "output_type": "stream",
          "name": "stderr",
          "text": [
            "\n",
            "100%|██████████| 17/17 [00:03<00:00,  4.95it/s]"
          ]
        },
        {
          "output_type": "stream",
          "name": "stdout",
          "text": [
            "val Loss: 0.7599 Acc: 0.6866 CD Loss: 0.0000\n",
            "Epoch 59/100\n",
            "----------\n"
          ]
        },
        {
          "output_type": "stream",
          "name": "stderr",
          "text": [
            "\n",
            "100%|██████████| 75/75 [00:15<00:00,  4.90it/s]"
          ]
        },
        {
          "output_type": "stream",
          "name": "stdout",
          "text": [
            "train Loss: 0.1151 Acc: 0.9527 CD Loss: 0.0000\n"
          ]
        },
        {
          "output_type": "stream",
          "name": "stderr",
          "text": [
            "\n",
            "100%|██████████| 17/17 [00:03<00:00,  4.98it/s]"
          ]
        },
        {
          "output_type": "stream",
          "name": "stdout",
          "text": [
            "val Loss: 0.7599 Acc: 0.6866 CD Loss: 0.0000\n",
            "Epoch 60/100\n",
            "----------\n"
          ]
        },
        {
          "output_type": "stream",
          "name": "stderr",
          "text": [
            "\n",
            "100%|██████████| 75/75 [00:15<00:00,  4.81it/s]"
          ]
        },
        {
          "output_type": "stream",
          "name": "stdout",
          "text": [
            "train Loss: 0.1114 Acc: 0.9593 CD Loss: 0.0000\n"
          ]
        },
        {
          "output_type": "stream",
          "name": "stderr",
          "text": [
            "\n",
            "100%|██████████| 17/17 [00:03<00:00,  4.97it/s]\n"
          ]
        },
        {
          "output_type": "stream",
          "name": "stdout",
          "text": [
            "val Loss: 0.7599 Acc: 0.6866 CD Loss: 0.0000\n",
            "Epoch 61/100\n",
            "----------\n"
          ]
        },
        {
          "output_type": "stream",
          "name": "stderr",
          "text": [
            "100%|██████████| 75/75 [00:15<00:00,  4.79it/s]"
          ]
        },
        {
          "output_type": "stream",
          "name": "stdout",
          "text": [
            "train Loss: 0.1172 Acc: 0.9538 CD Loss: 0.0000\n"
          ]
        },
        {
          "output_type": "stream",
          "name": "stderr",
          "text": [
            "\n",
            "100%|██████████| 17/17 [00:03<00:00,  4.92it/s]"
          ]
        },
        {
          "output_type": "stream",
          "name": "stdout",
          "text": [
            "val Loss: 0.7599 Acc: 0.6866 CD Loss: 0.0000\n",
            "Epoch 62/100\n",
            "----------\n"
          ]
        },
        {
          "output_type": "stream",
          "name": "stderr",
          "text": [
            "\n",
            "100%|██████████| 75/75 [00:15<00:00,  4.72it/s]"
          ]
        },
        {
          "output_type": "stream",
          "name": "stdout",
          "text": [
            "train Loss: 0.1186 Acc: 0.9563 CD Loss: 0.0000\n"
          ]
        },
        {
          "output_type": "stream",
          "name": "stderr",
          "text": [
            "\n",
            "100%|██████████| 17/17 [00:03<00:00,  5.18it/s]"
          ]
        },
        {
          "output_type": "stream",
          "name": "stdout",
          "text": [
            "val Loss: 0.7599 Acc: 0.6866 CD Loss: 0.0000\n",
            "Epoch 63/100\n",
            "----------\n"
          ]
        },
        {
          "output_type": "stream",
          "name": "stderr",
          "text": [
            "\n",
            "100%|██████████| 75/75 [00:15<00:00,  4.89it/s]"
          ]
        },
        {
          "output_type": "stream",
          "name": "stdout",
          "text": [
            "train Loss: 0.1157 Acc: 0.9549 CD Loss: 0.0000\n"
          ]
        },
        {
          "output_type": "stream",
          "name": "stderr",
          "text": [
            "\n",
            "100%|██████████| 17/17 [00:03<00:00,  5.13it/s]"
          ]
        },
        {
          "output_type": "stream",
          "name": "stdout",
          "text": [
            "val Loss: 0.7599 Acc: 0.6866 CD Loss: 0.0000\n",
            "Epoch 64/100\n",
            "----------\n"
          ]
        },
        {
          "output_type": "stream",
          "name": "stderr",
          "text": [
            "\n",
            "100%|██████████| 75/75 [00:15<00:00,  4.93it/s]"
          ]
        },
        {
          "output_type": "stream",
          "name": "stdout",
          "text": [
            "train Loss: 0.1117 Acc: 0.9582 CD Loss: 0.0000\n"
          ]
        },
        {
          "output_type": "stream",
          "name": "stderr",
          "text": [
            "\n",
            "100%|██████████| 17/17 [00:03<00:00,  5.12it/s]"
          ]
        },
        {
          "output_type": "stream",
          "name": "stdout",
          "text": [
            "val Loss: 0.7599 Acc: 0.6866 CD Loss: 0.0000\n",
            "Epoch 65/100\n",
            "----------\n"
          ]
        },
        {
          "output_type": "stream",
          "name": "stderr",
          "text": [
            "\n",
            "100%|██████████| 75/75 [00:15<00:00,  4.77it/s]"
          ]
        },
        {
          "output_type": "stream",
          "name": "stdout",
          "text": [
            "train Loss: 0.1119 Acc: 0.9563 CD Loss: 0.0000\n"
          ]
        },
        {
          "output_type": "stream",
          "name": "stderr",
          "text": [
            "\n",
            "100%|██████████| 17/17 [00:03<00:00,  5.15it/s]\n"
          ]
        },
        {
          "output_type": "stream",
          "name": "stdout",
          "text": [
            "val Loss: 0.7599 Acc: 0.6866 CD Loss: 0.0000\n",
            "Epoch 66/100\n",
            "----------\n"
          ]
        },
        {
          "output_type": "stream",
          "name": "stderr",
          "text": [
            "100%|██████████| 75/75 [00:15<00:00,  4.72it/s]"
          ]
        },
        {
          "output_type": "stream",
          "name": "stdout",
          "text": [
            "train Loss: 0.1089 Acc: 0.9565 CD Loss: 0.0000\n"
          ]
        },
        {
          "output_type": "stream",
          "name": "stderr",
          "text": [
            "\n",
            "100%|██████████| 17/17 [00:03<00:00,  5.05it/s]"
          ]
        },
        {
          "output_type": "stream",
          "name": "stdout",
          "text": [
            "val Loss: 0.7599 Acc: 0.6866 CD Loss: 0.0000\n",
            "Epoch 67/100\n",
            "----------\n"
          ]
        },
        {
          "output_type": "stream",
          "name": "stderr",
          "text": [
            "\n",
            "100%|██████████| 75/75 [00:15<00:00,  4.99it/s]"
          ]
        },
        {
          "output_type": "stream",
          "name": "stdout",
          "text": [
            "train Loss: 0.1114 Acc: 0.9563 CD Loss: 0.0000\n"
          ]
        },
        {
          "output_type": "stream",
          "name": "stderr",
          "text": [
            "\n",
            "100%|██████████| 17/17 [00:03<00:00,  4.29it/s]"
          ]
        },
        {
          "output_type": "stream",
          "name": "stdout",
          "text": [
            "val Loss: 0.7599 Acc: 0.6866 CD Loss: 0.0000\n",
            "Epoch 68/100\n",
            "----------\n"
          ]
        },
        {
          "output_type": "stream",
          "name": "stderr",
          "text": [
            "\n",
            "100%|██████████| 75/75 [00:15<00:00,  4.74it/s]"
          ]
        },
        {
          "output_type": "stream",
          "name": "stdout",
          "text": [
            "train Loss: 0.1138 Acc: 0.9565 CD Loss: 0.0000\n"
          ]
        },
        {
          "output_type": "stream",
          "name": "stderr",
          "text": [
            "\n",
            "100%|██████████| 17/17 [00:03<00:00,  5.10it/s]"
          ]
        },
        {
          "output_type": "stream",
          "name": "stdout",
          "text": [
            "val Loss: 0.7599 Acc: 0.6866 CD Loss: 0.0000\n",
            "Epoch 69/100\n",
            "----------\n"
          ]
        },
        {
          "output_type": "stream",
          "name": "stderr",
          "text": [
            "\n",
            "100%|██████████| 75/75 [00:15<00:00,  4.91it/s]"
          ]
        },
        {
          "output_type": "stream",
          "name": "stdout",
          "text": [
            "train Loss: 0.1178 Acc: 0.9551 CD Loss: 0.0000\n"
          ]
        },
        {
          "output_type": "stream",
          "name": "stderr",
          "text": [
            "\n",
            "100%|██████████| 17/17 [00:03<00:00,  4.97it/s]"
          ]
        },
        {
          "output_type": "stream",
          "name": "stdout",
          "text": [
            "val Loss: 0.7599 Acc: 0.6866 CD Loss: 0.0000\n",
            "Epoch 70/100\n",
            "----------\n"
          ]
        },
        {
          "output_type": "stream",
          "name": "stderr",
          "text": [
            "\n",
            "100%|██████████| 75/75 [00:15<00:00,  4.89it/s]"
          ]
        },
        {
          "output_type": "stream",
          "name": "stdout",
          "text": [
            "train Loss: 0.1142 Acc: 0.9563 CD Loss: 0.0000\n"
          ]
        },
        {
          "output_type": "stream",
          "name": "stderr",
          "text": [
            "\n",
            "100%|██████████| 17/17 [00:03<00:00,  5.16it/s]\n"
          ]
        },
        {
          "output_type": "stream",
          "name": "stdout",
          "text": [
            "val Loss: 0.7599 Acc: 0.6866 CD Loss: 0.0000\n",
            "Epoch 71/100\n",
            "----------\n"
          ]
        },
        {
          "output_type": "stream",
          "name": "stderr",
          "text": [
            "100%|██████████| 75/75 [00:15<00:00,  4.82it/s]"
          ]
        },
        {
          "output_type": "stream",
          "name": "stdout",
          "text": [
            "train Loss: 0.1161 Acc: 0.9534 CD Loss: 0.0000\n"
          ]
        },
        {
          "output_type": "stream",
          "name": "stderr",
          "text": [
            "\n",
            "100%|██████████| 17/17 [00:03<00:00,  4.87it/s]"
          ]
        },
        {
          "output_type": "stream",
          "name": "stdout",
          "text": [
            "val Loss: 0.7599 Acc: 0.6866 CD Loss: 0.0000\n",
            "Epoch 72/100\n",
            "----------\n"
          ]
        },
        {
          "output_type": "stream",
          "name": "stderr",
          "text": [
            "\n",
            "100%|██████████| 75/75 [00:15<00:00,  4.80it/s]"
          ]
        },
        {
          "output_type": "stream",
          "name": "stdout",
          "text": [
            "train Loss: 0.1096 Acc: 0.9570 CD Loss: 0.0000\n"
          ]
        },
        {
          "output_type": "stream",
          "name": "stderr",
          "text": [
            "\n",
            "100%|██████████| 17/17 [00:03<00:00,  4.88it/s]"
          ]
        },
        {
          "output_type": "stream",
          "name": "stdout",
          "text": [
            "val Loss: 0.7599 Acc: 0.6866 CD Loss: 0.0000\n",
            "Epoch 73/100\n",
            "----------\n"
          ]
        },
        {
          "output_type": "stream",
          "name": "stderr",
          "text": [
            "\n",
            "100%|██████████| 75/75 [00:15<00:00,  5.00it/s]"
          ]
        },
        {
          "output_type": "stream",
          "name": "stdout",
          "text": [
            "train Loss: 0.1161 Acc: 0.9546 CD Loss: 0.0000\n"
          ]
        },
        {
          "output_type": "stream",
          "name": "stderr",
          "text": [
            "\n",
            "100%|██████████| 17/17 [00:03<00:00,  5.16it/s]"
          ]
        },
        {
          "output_type": "stream",
          "name": "stdout",
          "text": [
            "val Loss: 0.7599 Acc: 0.6866 CD Loss: 0.0000\n",
            "Epoch 74/100\n",
            "----------\n"
          ]
        },
        {
          "output_type": "stream",
          "name": "stderr",
          "text": [
            "\n",
            "100%|██████████| 75/75 [00:15<00:00,  4.98it/s]"
          ]
        },
        {
          "output_type": "stream",
          "name": "stdout",
          "text": [
            "train Loss: 0.1079 Acc: 0.9582 CD Loss: 0.0000\n"
          ]
        },
        {
          "output_type": "stream",
          "name": "stderr",
          "text": [
            "\n",
            "100%|██████████| 17/17 [00:03<00:00,  4.88it/s]"
          ]
        },
        {
          "output_type": "stream",
          "name": "stdout",
          "text": [
            "val Loss: 0.7599 Acc: 0.6866 CD Loss: 0.0000\n",
            "Epoch 75/100\n",
            "----------\n"
          ]
        },
        {
          "output_type": "stream",
          "name": "stderr",
          "text": [
            "\n",
            "100%|██████████| 75/75 [00:15<00:00,  4.84it/s]"
          ]
        },
        {
          "output_type": "stream",
          "name": "stdout",
          "text": [
            "train Loss: 0.1131 Acc: 0.9561 CD Loss: 0.0000\n"
          ]
        },
        {
          "output_type": "stream",
          "name": "stderr",
          "text": [
            "\n",
            "100%|██████████| 17/17 [00:03<00:00,  5.08it/s]\n"
          ]
        },
        {
          "output_type": "stream",
          "name": "stdout",
          "text": [
            "val Loss: 0.7599 Acc: 0.6866 CD Loss: 0.0000\n",
            "Epoch 76/100\n",
            "----------\n"
          ]
        },
        {
          "output_type": "stream",
          "name": "stderr",
          "text": [
            "100%|██████████| 75/75 [00:15<00:00,  4.88it/s]"
          ]
        },
        {
          "output_type": "stream",
          "name": "stdout",
          "text": [
            "train Loss: 0.1132 Acc: 0.9536 CD Loss: 0.0000\n"
          ]
        },
        {
          "output_type": "stream",
          "name": "stderr",
          "text": [
            "\n",
            "100%|██████████| 17/17 [00:03<00:00,  4.83it/s]"
          ]
        },
        {
          "output_type": "stream",
          "name": "stdout",
          "text": [
            "val Loss: 0.7599 Acc: 0.6866 CD Loss: 0.0000\n",
            "Epoch 77/100\n",
            "----------\n"
          ]
        },
        {
          "output_type": "stream",
          "name": "stderr",
          "text": [
            "\n",
            "100%|██████████| 75/75 [00:15<00:00,  4.79it/s]"
          ]
        },
        {
          "output_type": "stream",
          "name": "stdout",
          "text": [
            "train Loss: 0.1124 Acc: 0.9572 CD Loss: 0.0000\n"
          ]
        },
        {
          "output_type": "stream",
          "name": "stderr",
          "text": [
            "\n",
            "100%|██████████| 17/17 [00:03<00:00,  4.94it/s]"
          ]
        },
        {
          "output_type": "stream",
          "name": "stdout",
          "text": [
            "val Loss: 0.7599 Acc: 0.6866 CD Loss: 0.0000\n",
            "Epoch 78/100\n",
            "----------\n"
          ]
        },
        {
          "output_type": "stream",
          "name": "stderr",
          "text": [
            "\n",
            "100%|██████████| 75/75 [00:15<00:00,  4.75it/s]"
          ]
        },
        {
          "output_type": "stream",
          "name": "stdout",
          "text": [
            "train Loss: 0.1097 Acc: 0.9565 CD Loss: 0.0000\n"
          ]
        },
        {
          "output_type": "stream",
          "name": "stderr",
          "text": [
            "\n",
            "100%|██████████| 17/17 [00:03<00:00,  5.07it/s]"
          ]
        },
        {
          "output_type": "stream",
          "name": "stdout",
          "text": [
            "val Loss: 0.7599 Acc: 0.6866 CD Loss: 0.0000\n",
            "Epoch 79/100\n",
            "----------\n"
          ]
        },
        {
          "output_type": "stream",
          "name": "stderr",
          "text": [
            "\n",
            "100%|██████████| 75/75 [00:15<00:00,  4.80it/s]"
          ]
        },
        {
          "output_type": "stream",
          "name": "stdout",
          "text": [
            "train Loss: 0.1112 Acc: 0.9572 CD Loss: 0.0000\n"
          ]
        },
        {
          "output_type": "stream",
          "name": "stderr",
          "text": [
            "\n",
            "100%|██████████| 17/17 [00:03<00:00,  5.02it/s]"
          ]
        },
        {
          "output_type": "stream",
          "name": "stdout",
          "text": [
            "val Loss: 0.7599 Acc: 0.6866 CD Loss: 0.0000\n",
            "Epoch 80/100\n",
            "----------\n"
          ]
        },
        {
          "output_type": "stream",
          "name": "stderr",
          "text": [
            "\n",
            "100%|██████████| 75/75 [00:15<00:00,  4.98it/s]"
          ]
        },
        {
          "output_type": "stream",
          "name": "stdout",
          "text": [
            "train Loss: 0.1145 Acc: 0.9540 CD Loss: 0.0000\n"
          ]
        },
        {
          "output_type": "stream",
          "name": "stderr",
          "text": [
            "\n",
            "100%|██████████| 17/17 [00:03<00:00,  4.82it/s]\n"
          ]
        },
        {
          "output_type": "stream",
          "name": "stdout",
          "text": [
            "val Loss: 0.7599 Acc: 0.6866 CD Loss: 0.0000\n",
            "Epoch 81/100\n",
            "----------\n"
          ]
        },
        {
          "output_type": "stream",
          "name": "stderr",
          "text": [
            "100%|██████████| 75/75 [00:15<00:00,  4.91it/s]"
          ]
        },
        {
          "output_type": "stream",
          "name": "stdout",
          "text": [
            "train Loss: 0.1135 Acc: 0.9561 CD Loss: 0.0000\n"
          ]
        },
        {
          "output_type": "stream",
          "name": "stderr",
          "text": [
            "\n",
            "100%|██████████| 17/17 [00:03<00:00,  4.87it/s]"
          ]
        },
        {
          "output_type": "stream",
          "name": "stdout",
          "text": [
            "val Loss: 0.7599 Acc: 0.6866 CD Loss: 0.0000\n",
            "Epoch 82/100\n",
            "----------\n"
          ]
        },
        {
          "output_type": "stream",
          "name": "stderr",
          "text": [
            "\n",
            "100%|██████████| 75/75 [00:15<00:00,  4.80it/s]"
          ]
        },
        {
          "output_type": "stream",
          "name": "stdout",
          "text": [
            "train Loss: 0.1126 Acc: 0.9536 CD Loss: 0.0000\n"
          ]
        },
        {
          "output_type": "stream",
          "name": "stderr",
          "text": [
            "\n",
            "100%|██████████| 17/17 [00:03<00:00,  4.59it/s]"
          ]
        },
        {
          "output_type": "stream",
          "name": "stdout",
          "text": [
            "val Loss: 0.7599 Acc: 0.6866 CD Loss: 0.0000\n",
            "Epoch 83/100\n",
            "----------\n"
          ]
        },
        {
          "output_type": "stream",
          "name": "stderr",
          "text": [
            "\n",
            "100%|██████████| 75/75 [00:15<00:00,  4.94it/s]"
          ]
        },
        {
          "output_type": "stream",
          "name": "stdout",
          "text": [
            "train Loss: 0.1113 Acc: 0.9542 CD Loss: 0.0000\n"
          ]
        },
        {
          "output_type": "stream",
          "name": "stderr",
          "text": [
            "\n",
            "100%|██████████| 17/17 [00:03<00:00,  5.04it/s]"
          ]
        },
        {
          "output_type": "stream",
          "name": "stdout",
          "text": [
            "val Loss: 0.7599 Acc: 0.6866 CD Loss: 0.0000\n",
            "Epoch 84/100\n",
            "----------\n"
          ]
        },
        {
          "output_type": "stream",
          "name": "stderr",
          "text": [
            "\n",
            "100%|██████████| 75/75 [00:14<00:00,  5.00it/s]"
          ]
        },
        {
          "output_type": "stream",
          "name": "stdout",
          "text": [
            "train Loss: 0.1096 Acc: 0.9584 CD Loss: 0.0000\n"
          ]
        },
        {
          "output_type": "stream",
          "name": "stderr",
          "text": [
            "\n",
            "100%|██████████| 17/17 [00:03<00:00,  4.86it/s]\n"
          ]
        },
        {
          "output_type": "stream",
          "name": "stdout",
          "text": [
            "val Loss: 0.7599 Acc: 0.6866 CD Loss: 0.0000\n",
            "Epoch 85/100\n",
            "----------\n"
          ]
        },
        {
          "output_type": "stream",
          "name": "stderr",
          "text": [
            "100%|██████████| 75/75 [00:15<00:00,  4.97it/s]"
          ]
        },
        {
          "output_type": "stream",
          "name": "stdout",
          "text": [
            "train Loss: 0.1134 Acc: 0.9563 CD Loss: 0.0000\n"
          ]
        },
        {
          "output_type": "stream",
          "name": "stderr",
          "text": [
            "\n",
            "100%|██████████| 17/17 [00:03<00:00,  4.87it/s]\n"
          ]
        },
        {
          "output_type": "stream",
          "name": "stdout",
          "text": [
            "val Loss: 0.7599 Acc: 0.6866 CD Loss: 0.0000\n",
            "Epoch 86/100\n",
            "----------\n"
          ]
        },
        {
          "output_type": "stream",
          "name": "stderr",
          "text": [
            "100%|██████████| 75/75 [00:15<00:00,  4.87it/s]"
          ]
        },
        {
          "output_type": "stream",
          "name": "stdout",
          "text": [
            "train Loss: 0.1129 Acc: 0.9557 CD Loss: 0.0000\n"
          ]
        },
        {
          "output_type": "stream",
          "name": "stderr",
          "text": [
            "\n",
            "100%|██████████| 17/17 [00:03<00:00,  4.90it/s]"
          ]
        },
        {
          "output_type": "stream",
          "name": "stdout",
          "text": [
            "val Loss: 0.7599 Acc: 0.6866 CD Loss: 0.0000\n",
            "Epoch 87/100\n",
            "----------\n"
          ]
        },
        {
          "output_type": "stream",
          "name": "stderr",
          "text": [
            "\n",
            "100%|██████████| 75/75 [00:15<00:00,  4.71it/s]"
          ]
        },
        {
          "output_type": "stream",
          "name": "stdout",
          "text": [
            "train Loss: 0.1183 Acc: 0.9565 CD Loss: 0.0000\n"
          ]
        },
        {
          "output_type": "stream",
          "name": "stderr",
          "text": [
            "\n",
            "100%|██████████| 17/17 [00:03<00:00,  4.90it/s]"
          ]
        },
        {
          "output_type": "stream",
          "name": "stdout",
          "text": [
            "val Loss: 0.7599 Acc: 0.6866 CD Loss: 0.0000\n",
            "Epoch 88/100\n",
            "----------\n"
          ]
        },
        {
          "output_type": "stream",
          "name": "stderr",
          "text": [
            "\n",
            "100%|██████████| 75/75 [00:15<00:00,  4.79it/s]"
          ]
        },
        {
          "output_type": "stream",
          "name": "stdout",
          "text": [
            "train Loss: 0.1146 Acc: 0.9570 CD Loss: 0.0000\n"
          ]
        },
        {
          "output_type": "stream",
          "name": "stderr",
          "text": [
            "\n",
            "100%|██████████| 17/17 [00:03<00:00,  4.86it/s]"
          ]
        },
        {
          "output_type": "stream",
          "name": "stdout",
          "text": [
            "val Loss: 0.7599 Acc: 0.6866 CD Loss: 0.0000\n",
            "Epoch 89/100\n",
            "----------\n"
          ]
        },
        {
          "output_type": "stream",
          "name": "stderr",
          "text": [
            "\n",
            "100%|██████████| 75/75 [00:14<00:00,  5.01it/s]"
          ]
        },
        {
          "output_type": "stream",
          "name": "stdout",
          "text": [
            "train Loss: 0.1095 Acc: 0.9589 CD Loss: 0.0000\n"
          ]
        },
        {
          "output_type": "stream",
          "name": "stderr",
          "text": [
            "\n",
            "100%|██████████| 17/17 [00:03<00:00,  5.14it/s]"
          ]
        },
        {
          "output_type": "stream",
          "name": "stdout",
          "text": [
            "val Loss: 0.7599 Acc: 0.6866 CD Loss: 0.0000\n",
            "Epoch 90/100\n",
            "----------\n"
          ]
        },
        {
          "output_type": "stream",
          "name": "stderr",
          "text": [
            "\n",
            "100%|██████████| 75/75 [00:15<00:00,  4.94it/s]"
          ]
        },
        {
          "output_type": "stream",
          "name": "stdout",
          "text": [
            "train Loss: 0.1143 Acc: 0.9584 CD Loss: 0.0000\n"
          ]
        },
        {
          "output_type": "stream",
          "name": "stderr",
          "text": [
            "\n",
            "100%|██████████| 17/17 [00:03<00:00,  5.06it/s]\n"
          ]
        },
        {
          "output_type": "stream",
          "name": "stdout",
          "text": [
            "val Loss: 0.7599 Acc: 0.6866 CD Loss: 0.0000\n",
            "Epoch 91/100\n",
            "----------\n"
          ]
        },
        {
          "output_type": "stream",
          "name": "stderr",
          "text": [
            "100%|██████████| 75/75 [00:15<00:00,  4.73it/s]"
          ]
        },
        {
          "output_type": "stream",
          "name": "stdout",
          "text": [
            "train Loss: 0.1149 Acc: 0.9553 CD Loss: 0.0000\n"
          ]
        },
        {
          "output_type": "stream",
          "name": "stderr",
          "text": [
            "\n",
            "100%|██████████| 17/17 [00:03<00:00,  5.12it/s]"
          ]
        },
        {
          "output_type": "stream",
          "name": "stdout",
          "text": [
            "val Loss: 0.7599 Acc: 0.6866 CD Loss: 0.0000\n",
            "Epoch 92/100\n",
            "----------\n"
          ]
        },
        {
          "output_type": "stream",
          "name": "stderr",
          "text": [
            "\n",
            "100%|██████████| 75/75 [00:16<00:00,  4.63it/s]"
          ]
        },
        {
          "output_type": "stream",
          "name": "stdout",
          "text": [
            "train Loss: 0.1078 Acc: 0.9578 CD Loss: 0.0000\n"
          ]
        },
        {
          "output_type": "stream",
          "name": "stderr",
          "text": [
            "\n",
            "100%|██████████| 17/17 [00:03<00:00,  4.92it/s]"
          ]
        },
        {
          "output_type": "stream",
          "name": "stdout",
          "text": [
            "val Loss: 0.7599 Acc: 0.6866 CD Loss: 0.0000\n",
            "Epoch 93/100\n",
            "----------\n"
          ]
        },
        {
          "output_type": "stream",
          "name": "stderr",
          "text": [
            "\n",
            "100%|██████████| 75/75 [00:15<00:00,  4.83it/s]"
          ]
        },
        {
          "output_type": "stream",
          "name": "stdout",
          "text": [
            "train Loss: 0.1124 Acc: 0.9557 CD Loss: 0.0000\n"
          ]
        },
        {
          "output_type": "stream",
          "name": "stderr",
          "text": [
            "\n",
            "100%|██████████| 17/17 [00:03<00:00,  5.14it/s]"
          ]
        },
        {
          "output_type": "stream",
          "name": "stdout",
          "text": [
            "val Loss: 0.7599 Acc: 0.6866 CD Loss: 0.0000\n",
            "Epoch 94/100\n",
            "----------\n"
          ]
        },
        {
          "output_type": "stream",
          "name": "stderr",
          "text": [
            "\n",
            "100%|██████████| 75/75 [00:15<00:00,  5.00it/s]"
          ]
        },
        {
          "output_type": "stream",
          "name": "stdout",
          "text": [
            "train Loss: 0.1111 Acc: 0.9572 CD Loss: 0.0000\n"
          ]
        },
        {
          "output_type": "stream",
          "name": "stderr",
          "text": [
            "\n",
            "100%|██████████| 17/17 [00:03<00:00,  5.00it/s]"
          ]
        },
        {
          "output_type": "stream",
          "name": "stdout",
          "text": [
            "val Loss: 0.7599 Acc: 0.6866 CD Loss: 0.0000\n",
            "Epoch 95/100\n",
            "----------\n"
          ]
        },
        {
          "output_type": "stream",
          "name": "stderr",
          "text": [
            "\n",
            "100%|██████████| 75/75 [00:15<00:00,  4.85it/s]"
          ]
        },
        {
          "output_type": "stream",
          "name": "stdout",
          "text": [
            "train Loss: 0.1089 Acc: 0.9559 CD Loss: 0.0000\n"
          ]
        },
        {
          "output_type": "stream",
          "name": "stderr",
          "text": [
            "\n",
            "100%|██████████| 17/17 [00:03<00:00,  5.16it/s]\n"
          ]
        },
        {
          "output_type": "stream",
          "name": "stdout",
          "text": [
            "val Loss: 0.7599 Acc: 0.6866 CD Loss: 0.0000\n",
            "Epoch 96/100\n",
            "----------\n"
          ]
        },
        {
          "output_type": "stream",
          "name": "stderr",
          "text": [
            "100%|██████████| 75/75 [00:15<00:00,  4.94it/s]"
          ]
        },
        {
          "output_type": "stream",
          "name": "stdout",
          "text": [
            "train Loss: 0.1142 Acc: 0.9538 CD Loss: 0.0000\n"
          ]
        },
        {
          "output_type": "stream",
          "name": "stderr",
          "text": [
            "\n",
            "100%|██████████| 17/17 [00:03<00:00,  5.06it/s]"
          ]
        },
        {
          "output_type": "stream",
          "name": "stdout",
          "text": [
            "val Loss: 0.7599 Acc: 0.6866 CD Loss: 0.0000\n",
            "Epoch 97/100\n",
            "----------\n"
          ]
        },
        {
          "output_type": "stream",
          "name": "stderr",
          "text": [
            "\n",
            "100%|██████████| 75/75 [00:16<00:00,  4.63it/s]"
          ]
        },
        {
          "output_type": "stream",
          "name": "stdout",
          "text": [
            "train Loss: 0.1189 Acc: 0.9527 CD Loss: 0.0000\n"
          ]
        },
        {
          "output_type": "stream",
          "name": "stderr",
          "text": [
            "\n",
            "100%|██████████| 17/17 [00:03<00:00,  5.11it/s]"
          ]
        },
        {
          "output_type": "stream",
          "name": "stdout",
          "text": [
            "val Loss: 0.7599 Acc: 0.6866 CD Loss: 0.0000\n",
            "Epoch 98/100\n",
            "----------\n"
          ]
        },
        {
          "output_type": "stream",
          "name": "stderr",
          "text": [
            "\n",
            "100%|██████████| 75/75 [00:15<00:00,  4.87it/s]"
          ]
        },
        {
          "output_type": "stream",
          "name": "stdout",
          "text": [
            "train Loss: 0.1109 Acc: 0.9563 CD Loss: 0.0000\n"
          ]
        },
        {
          "output_type": "stream",
          "name": "stderr",
          "text": [
            "\n",
            "100%|██████████| 17/17 [00:03<00:00,  5.08it/s]"
          ]
        },
        {
          "output_type": "stream",
          "name": "stdout",
          "text": [
            "val Loss: 0.7599 Acc: 0.6866 CD Loss: 0.0000\n",
            "Epoch 99/100\n",
            "----------\n"
          ]
        },
        {
          "output_type": "stream",
          "name": "stderr",
          "text": [
            "\n",
            "100%|██████████| 75/75 [00:15<00:00,  4.78it/s]"
          ]
        },
        {
          "output_type": "stream",
          "name": "stdout",
          "text": [
            "train Loss: 0.1145 Acc: 0.9565 CD Loss: 0.0000\n"
          ]
        },
        {
          "output_type": "stream",
          "name": "stderr",
          "text": [
            "\n",
            "100%|██████████| 17/17 [00:03<00:00,  5.06it/s]"
          ]
        },
        {
          "output_type": "stream",
          "name": "stdout",
          "text": [
            "val Loss: 0.7599 Acc: 0.6866 CD Loss: 0.0000\n",
            "Epoch 100/100\n",
            "----------\n"
          ]
        },
        {
          "output_type": "stream",
          "name": "stderr",
          "text": [
            "\n",
            "100%|██████████| 75/75 [00:15<00:00,  4.97it/s]"
          ]
        },
        {
          "output_type": "stream",
          "name": "stdout",
          "text": [
            "train Loss: 0.1098 Acc: 0.9576 CD Loss: 0.0000\n"
          ]
        },
        {
          "output_type": "stream",
          "name": "stderr",
          "text": [
            "\n",
            "100%|██████████| 17/17 [00:03<00:00,  4.91it/s]\n"
          ]
        },
        {
          "output_type": "stream",
          "name": "stdout",
          "text": [
            "val Loss: 0.7599 Acc: 0.6866 CD Loss: 0.0000\n",
            "Training complete in 70m 40s\n",
            "Best val loss: 0.7082\n"
          ]
        },
        {
          "output_type": "display_data",
          "data": {
            "text/plain": [
              "<Figure size 1000x500 with 1 Axes>"
            ],
            "image/png": "[encoded data removed]"
          },
          "metadata": {}
        },
        {
          "output_type": "display_data",
          "data": {
            "text/plain": [
              "<Figure size 1000x500 with 1 Axes>"
            ],
            "image/png": "[encoded data removed]"
          },
          "metadata": {}
        },
        {
          "output_type": "stream",
          "name": "stdout",
          "text": [
            "Epoch 1/100\n",
            "----------\n"
          ]
        },
        {
          "output_type": "stream",
          "name": "stderr",
          "text": [
            "100%|██████████| 75/75 [00:16<00:00,  4.42it/s]"
          ]
        },
        {
          "output_type": "stream",
          "name": "stdout",
          "text": [
            "train Loss: 0.1252 Acc: 0.9513 CD Loss: 0.0000\n"
          ]
        },
        {
          "output_type": "stream",
          "name": "stderr",
          "text": [
            "\n",
            "100%|██████████| 17/17 [00:03<00:00,  5.13it/s]"
          ]
        },
        {
          "output_type": "stream",
          "name": "stdout",
          "text": [
            "val Loss: 0.8311 Acc: 0.6629 CD Loss: 0.0000\n",
            "Epoch 2/100\n",
            "----------\n"
          ]
        },
        {
          "output_type": "stream",
          "name": "stderr",
          "text": [
            "\n",
            "100%|██████████| 75/75 [00:15<00:00,  5.00it/s]"
          ]
        },
        {
          "output_type": "stream",
          "name": "stdout",
          "text": [
            "train Loss: 0.1175 Acc: 0.9544 CD Loss: 0.0000\n"
          ]
        },
        {
          "output_type": "stream",
          "name": "stderr",
          "text": [
            "\n",
            "100%|██████████| 17/17 [00:03<00:00,  5.02it/s]"
          ]
        },
        {
          "output_type": "stream",
          "name": "stdout",
          "text": [
            "val Loss: 0.7510 Acc: 0.6847 CD Loss: 0.0000\n",
            "Epoch 3/100\n",
            "----------\n"
          ]
        },
        {
          "output_type": "stream",
          "name": "stderr",
          "text": [
            "\n",
            "100%|██████████| 75/75 [00:15<00:00,  4.86it/s]"
          ]
        },
        {
          "output_type": "stream",
          "name": "stdout",
          "text": [
            "train Loss: 0.1164 Acc: 0.9536 CD Loss: 0.0000\n"
          ]
        },
        {
          "output_type": "stream",
          "name": "stderr",
          "text": [
            "\n",
            "100%|██████████| 17/17 [00:03<00:00,  4.83it/s]"
          ]
        },
        {
          "output_type": "stream",
          "name": "stdout",
          "text": [
            "val Loss: 0.7464 Acc: 0.6894 CD Loss: 0.0000\n",
            "Epoch 4/100\n",
            "----------\n"
          ]
        },
        {
          "output_type": "stream",
          "name": "stderr",
          "text": [
            "\n",
            "100%|██████████| 75/75 [00:15<00:00,  4.90it/s]"
          ]
        },
        {
          "output_type": "stream",
          "name": "stdout",
          "text": [
            "train Loss: 0.1159 Acc: 0.9536 CD Loss: 0.0000\n"
          ]
        },
        {
          "output_type": "stream",
          "name": "stderr",
          "text": [
            "\n",
            "100%|██████████| 17/17 [00:03<00:00,  4.98it/s]"
          ]
        },
        {
          "output_type": "stream",
          "name": "stdout",
          "text": [
            "val Loss: 0.7256 Acc: 0.6951 CD Loss: 0.0000\n",
            "Epoch 5/100\n",
            "----------\n"
          ]
        },
        {
          "output_type": "stream",
          "name": "stderr",
          "text": [
            "\n",
            "100%|██████████| 75/75 [00:15<00:00,  4.89it/s]"
          ]
        },
        {
          "output_type": "stream",
          "name": "stdout",
          "text": [
            "train Loss: 0.1102 Acc: 0.9580 CD Loss: 0.0000\n"
          ]
        },
        {
          "output_type": "stream",
          "name": "stderr",
          "text": [
            "\n",
            "100%|██████████| 17/17 [00:03<00:00,  5.04it/s]\n"
          ]
        },
        {
          "output_type": "stream",
          "name": "stdout",
          "text": [
            "val Loss: 0.7771 Acc: 0.6809 CD Loss: 0.0000\n",
            "Epoch 6/100\n",
            "----------\n"
          ]
        },
        {
          "output_type": "stream",
          "name": "stderr",
          "text": [
            "100%|██████████| 75/75 [00:15<00:00,  4.90it/s]"
          ]
        },
        {
          "output_type": "stream",
          "name": "stdout",
          "text": [
            "train Loss: 0.1040 Acc: 0.9584 CD Loss: 0.0000\n"
          ]
        },
        {
          "output_type": "stream",
          "name": "stderr",
          "text": [
            "\n",
            "100%|██████████| 17/17 [00:03<00:00,  5.04it/s]"
          ]
        },
        {
          "output_type": "stream",
          "name": "stdout",
          "text": [
            "val Loss: 0.7894 Acc: 0.6790 CD Loss: 0.0000\n",
            "Epoch 7/100\n",
            "----------\n"
          ]
        },
        {
          "output_type": "stream",
          "name": "stderr",
          "text": [
            "\n",
            "100%|██████████| 75/75 [00:15<00:00,  4.73it/s]"
          ]
        },
        {
          "output_type": "stream",
          "name": "stdout",
          "text": [
            "train Loss: 0.0983 Acc: 0.9620 CD Loss: 0.0000\n"
          ]
        },
        {
          "output_type": "stream",
          "name": "stderr",
          "text": [
            "\n",
            "100%|██████████| 17/17 [00:03<00:00,  5.17it/s]"
          ]
        },
        {
          "output_type": "stream",
          "name": "stdout",
          "text": [
            "val Loss: 0.7177 Acc: 0.7064 CD Loss: 0.0000\n",
            "Epoch 8/100\n",
            "----------\n"
          ]
        },
        {
          "output_type": "stream",
          "name": "stderr",
          "text": [
            "\n",
            "100%|██████████| 75/75 [00:14<00:00,  5.08it/s]"
          ]
        },
        {
          "output_type": "stream",
          "name": "stdout",
          "text": [
            "train Loss: 0.0996 Acc: 0.9595 CD Loss: 0.0000\n"
          ]
        },
        {
          "output_type": "stream",
          "name": "stderr",
          "text": [
            "\n",
            "100%|██████████| 17/17 [00:03<00:00,  5.20it/s]"
          ]
        },
        {
          "output_type": "stream",
          "name": "stdout",
          "text": [
            "val Loss: 0.6776 Acc: 0.7197 CD Loss: 0.0000\n",
            "Epoch 9/100\n",
            "----------\n"
          ]
        },
        {
          "output_type": "stream",
          "name": "stderr",
          "text": [
            "\n",
            "100%|██████████| 75/75 [00:15<00:00,  4.92it/s]"
          ]
        },
        {
          "output_type": "stream",
          "name": "stdout",
          "text": [
            "train Loss: 0.0945 Acc: 0.9641 CD Loss: 0.0000\n"
          ]
        },
        {
          "output_type": "stream",
          "name": "stderr",
          "text": [
            "\n",
            "100%|██████████| 17/17 [00:03<00:00,  4.96it/s]"
          ]
        },
        {
          "output_type": "stream",
          "name": "stdout",
          "text": [
            "val Loss: 0.8117 Acc: 0.6761 CD Loss: 0.0000\n",
            "Epoch 10/100\n",
            "----------\n"
          ]
        },
        {
          "output_type": "stream",
          "name": "stderr",
          "text": [
            "\n",
            "100%|██████████| 75/75 [00:15<00:00,  4.97it/s]"
          ]
        },
        {
          "output_type": "stream",
          "name": "stdout",
          "text": [
            "train Loss: 0.0879 Acc: 0.9635 CD Loss: 0.0000\n"
          ]
        },
        {
          "output_type": "stream",
          "name": "stderr",
          "text": [
            "\n",
            "100%|██████████| 17/17 [00:03<00:00,  5.14it/s]\n"
          ]
        },
        {
          "output_type": "stream",
          "name": "stdout",
          "text": [
            "val Loss: 0.7065 Acc: 0.7206 CD Loss: 0.0000\n",
            "Epoch 11/100\n",
            "----------\n"
          ]
        },
        {
          "output_type": "stream",
          "name": "stderr",
          "text": [
            "100%|██████████| 75/75 [00:15<00:00,  4.86it/s]"
          ]
        },
        {
          "output_type": "stream",
          "name": "stdout",
          "text": [
            "train Loss: 0.0810 Acc: 0.9684 CD Loss: 0.0000\n"
          ]
        },
        {
          "output_type": "stream",
          "name": "stderr",
          "text": [
            "\n",
            "100%|██████████| 17/17 [00:03<00:00,  5.00it/s]"
          ]
        },
        {
          "output_type": "stream",
          "name": "stdout",
          "text": [
            "val Loss: 0.7031 Acc: 0.7225 CD Loss: 0.0000\n",
            "Epoch 12/100\n",
            "----------\n"
          ]
        },
        {
          "output_type": "stream",
          "name": "stderr",
          "text": [
            "\n",
            "100%|██████████| 75/75 [00:15<00:00,  4.83it/s]"
          ]
        },
        {
          "output_type": "stream",
          "name": "stdout",
          "text": [
            "train Loss: 0.0870 Acc: 0.9684 CD Loss: 0.0000\n"
          ]
        },
        {
          "output_type": "stream",
          "name": "stderr",
          "text": [
            "\n",
            "100%|██████████| 17/17 [00:03<00:00,  5.12it/s]"
          ]
        },
        {
          "output_type": "stream",
          "name": "stdout",
          "text": [
            "val Loss: 0.7206 Acc: 0.7131 CD Loss: 0.0000\n",
            "Epoch 13/100\n",
            "----------\n"
          ]
        },
        {
          "output_type": "stream",
          "name": "stderr",
          "text": [
            "\n",
            "100%|██████████| 75/75 [00:14<00:00,  5.02it/s]"
          ]
        },
        {
          "output_type": "stream",
          "name": "stdout",
          "text": [
            "train Loss: 0.0853 Acc: 0.9650 CD Loss: 0.0000\n"
          ]
        },
        {
          "output_type": "stream",
          "name": "stderr",
          "text": [
            "\n",
            "100%|██████████| 17/17 [00:03<00:00,  4.90it/s]"
          ]
        },
        {
          "output_type": "stream",
          "name": "stdout",
          "text": [
            "val Loss: 0.7213 Acc: 0.7121 CD Loss: 0.0000\n",
            "Epoch 14/100\n",
            "----------\n"
          ]
        },
        {
          "output_type": "stream",
          "name": "stderr",
          "text": [
            "\n",
            "100%|██████████| 75/75 [00:15<00:00,  4.99it/s]"
          ]
        },
        {
          "output_type": "stream",
          "name": "stdout",
          "text": [
            "train Loss: 0.0848 Acc: 0.9669 CD Loss: 0.0000\n"
          ]
        },
        {
          "output_type": "stream",
          "name": "stderr",
          "text": [
            "\n",
            "100%|██████████| 17/17 [00:03<00:00,  5.11it/s]"
          ]
        },
        {
          "output_type": "stream",
          "name": "stdout",
          "text": [
            "val Loss: 0.7082 Acc: 0.7206 CD Loss: 0.0000\n",
            "Epoch 15/100\n",
            "----------\n"
          ]
        },
        {
          "output_type": "stream",
          "name": "stderr",
          "text": [
            "\n",
            "100%|██████████| 75/75 [00:14<00:00,  5.06it/s]"
          ]
        },
        {
          "output_type": "stream",
          "name": "stdout",
          "text": [
            "train Loss: 0.0844 Acc: 0.9681 CD Loss: 0.0000\n"
          ]
        },
        {
          "output_type": "stream",
          "name": "stderr",
          "text": [
            "\n",
            "100%|██████████| 17/17 [00:03<00:00,  4.90it/s]\n"
          ]
        },
        {
          "output_type": "stream",
          "name": "stdout",
          "text": [
            "val Loss: 0.7309 Acc: 0.7112 CD Loss: 0.0000\n",
            "Epoch 16/100\n",
            "----------\n"
          ]
        },
        {
          "output_type": "stream",
          "name": "stderr",
          "text": [
            "100%|██████████| 75/75 [00:15<00:00,  4.92it/s]"
          ]
        },
        {
          "output_type": "stream",
          "name": "stdout",
          "text": [
            "train Loss: 0.0842 Acc: 0.9671 CD Loss: 0.0000\n"
          ]
        },
        {
          "output_type": "stream",
          "name": "stderr",
          "text": [
            "\n",
            "100%|██████████| 17/17 [00:03<00:00,  5.26it/s]"
          ]
        },
        {
          "output_type": "stream",
          "name": "stdout",
          "text": [
            "val Loss: 0.7154 Acc: 0.7206 CD Loss: 0.0000\n",
            "Epoch 17/100\n",
            "----------\n"
          ]
        },
        {
          "output_type": "stream",
          "name": "stderr",
          "text": [
            "\n",
            "100%|██████████| 75/75 [00:14<00:00,  5.02it/s]"
          ]
        },
        {
          "output_type": "stream",
          "name": "stdout",
          "text": [
            "train Loss: 0.0847 Acc: 0.9681 CD Loss: 0.0000\n"
          ]
        },
        {
          "output_type": "stream",
          "name": "stderr",
          "text": [
            "\n",
            "100%|██████████| 17/17 [00:04<00:00,  4.17it/s]"
          ]
        },
        {
          "output_type": "stream",
          "name": "stdout",
          "text": [
            "val Loss: 0.7137 Acc: 0.7206 CD Loss: 0.0000\n",
            "Epoch 18/100\n",
            "----------\n"
          ]
        },
        {
          "output_type": "stream",
          "name": "stderr",
          "text": [
            "\n",
            "100%|██████████| 75/75 [00:15<00:00,  4.95it/s]"
          ]
        },
        {
          "output_type": "stream",
          "name": "stdout",
          "text": [
            "train Loss: 0.0772 Acc: 0.9675 CD Loss: 0.0000\n"
          ]
        },
        {
          "output_type": "stream",
          "name": "stderr",
          "text": [
            "\n",
            "100%|██████████| 17/17 [00:03<00:00,  5.17it/s]\n"
          ]
        },
        {
          "output_type": "stream",
          "name": "stdout",
          "text": [
            "val Loss: 0.7116 Acc: 0.7235 CD Loss: 0.0000\n",
            "Epoch 19/100\n",
            "----------\n"
          ]
        },
        {
          "output_type": "stream",
          "name": "stderr",
          "text": [
            "100%|██████████| 75/75 [00:15<00:00,  4.99it/s]"
          ]
        },
        {
          "output_type": "stream",
          "name": "stdout",
          "text": [
            "train Loss: 0.0809 Acc: 0.9669 CD Loss: 0.0000\n"
          ]
        },
        {
          "output_type": "stream",
          "name": "stderr",
          "text": [
            "\n",
            "100%|██████████| 17/17 [00:03<00:00,  5.06it/s]"
          ]
        },
        {
          "output_type": "stream",
          "name": "stdout",
          "text": [
            "val Loss: 0.6997 Acc: 0.7254 CD Loss: 0.0000\n",
            "Epoch 20/100\n",
            "----------\n"
          ]
        },
        {
          "output_type": "stream",
          "name": "stderr",
          "text": [
            "\n",
            "100%|██████████| 75/75 [00:15<00:00,  4.85it/s]"
          ]
        },
        {
          "output_type": "stream",
          "name": "stdout",
          "text": [
            "train Loss: 0.0808 Acc: 0.9662 CD Loss: 0.0000\n"
          ]
        },
        {
          "output_type": "stream",
          "name": "stderr",
          "text": [
            "\n",
            "100%|██████████| 17/17 [00:03<00:00,  5.11it/s]\n"
          ]
        },
        {
          "output_type": "stream",
          "name": "stdout",
          "text": [
            "val Loss: 0.7016 Acc: 0.7263 CD Loss: 0.0000\n",
            "Epoch 21/100\n",
            "----------\n"
          ]
        },
        {
          "output_type": "stream",
          "name": "stderr",
          "text": [
            "100%|██████████| 75/75 [00:15<00:00,  4.90it/s]"
          ]
        },
        {
          "output_type": "stream",
          "name": "stdout",
          "text": [
            "train Loss: 0.0829 Acc: 0.9671 CD Loss: 0.0000\n"
          ]
        },
        {
          "output_type": "stream",
          "name": "stderr",
          "text": [
            "\n",
            "100%|██████████| 17/17 [00:03<00:00,  5.19it/s]"
          ]
        },
        {
          "output_type": "stream",
          "name": "stdout",
          "text": [
            "val Loss: 0.7023 Acc: 0.7254 CD Loss: 0.0000\n",
            "Epoch 22/100\n",
            "----------\n"
          ]
        },
        {
          "output_type": "stream",
          "name": "stderr",
          "text": [
            "\n",
            "100%|██████████| 75/75 [00:15<00:00,  4.85it/s]"
          ]
        },
        {
          "output_type": "stream",
          "name": "stdout",
          "text": [
            "train Loss: 0.0843 Acc: 0.9662 CD Loss: 0.0000\n"
          ]
        },
        {
          "output_type": "stream",
          "name": "stderr",
          "text": [
            "\n",
            "100%|██████████| 17/17 [00:03<00:00,  5.13it/s]"
          ]
        },
        {
          "output_type": "stream",
          "name": "stdout",
          "text": [
            "val Loss: 0.7037 Acc: 0.7235 CD Loss: 0.0000\n",
            "Epoch 23/100\n",
            "----------\n"
          ]
        },
        {
          "output_type": "stream",
          "name": "stderr",
          "text": [
            "\n",
            "100%|██████████| 75/75 [00:14<00:00,  5.03it/s]"
          ]
        },
        {
          "output_type": "stream",
          "name": "stdout",
          "text": [
            "train Loss: 0.0827 Acc: 0.9694 CD Loss: 0.0000\n"
          ]
        },
        {
          "output_type": "stream",
          "name": "stderr",
          "text": [
            "\n",
            "100%|██████████| 17/17 [00:03<00:00,  5.06it/s]"
          ]
        },
        {
          "output_type": "stream",
          "name": "stdout",
          "text": [
            "val Loss: 0.7033 Acc: 0.7235 CD Loss: 0.0000\n",
            "Epoch 24/100\n",
            "----------\n"
          ]
        },
        {
          "output_type": "stream",
          "name": "stderr",
          "text": [
            "\n",
            "100%|██████████| 75/75 [00:15<00:00,  5.00it/s]"
          ]
        },
        {
          "output_type": "stream",
          "name": "stdout",
          "text": [
            "train Loss: 0.0803 Acc: 0.9656 CD Loss: 0.0000\n"
          ]
        },
        {
          "output_type": "stream",
          "name": "stderr",
          "text": [
            "\n",
            "100%|██████████| 17/17 [00:03<00:00,  4.94it/s]"
          ]
        },
        {
          "output_type": "stream",
          "name": "stdout",
          "text": [
            "val Loss: 0.7030 Acc: 0.7235 CD Loss: 0.0000\n",
            "Epoch 25/100\n",
            "----------\n"
          ]
        },
        {
          "output_type": "stream",
          "name": "stderr",
          "text": [
            "\n",
            "100%|██████████| 75/75 [00:14<00:00,  5.02it/s]"
          ]
        },
        {
          "output_type": "stream",
          "name": "stdout",
          "text": [
            "train Loss: 0.0835 Acc: 0.9673 CD Loss: 0.0000\n"
          ]
        },
        {
          "output_type": "stream",
          "name": "stderr",
          "text": [
            "\n",
            "100%|██████████| 17/17 [00:03<00:00,  5.18it/s]\n"
          ]
        },
        {
          "output_type": "stream",
          "name": "stdout",
          "text": [
            "val Loss: 0.7063 Acc: 0.7225 CD Loss: 0.0000\n",
            "Epoch 26/100\n",
            "----------\n"
          ]
        },
        {
          "output_type": "stream",
          "name": "stderr",
          "text": [
            "100%|██████████| 75/75 [00:15<00:00,  4.95it/s]"
          ]
        },
        {
          "output_type": "stream",
          "name": "stdout",
          "text": [
            "train Loss: 0.0826 Acc: 0.9673 CD Loss: 0.0000\n"
          ]
        },
        {
          "output_type": "stream",
          "name": "stderr",
          "text": [
            "\n",
            "100%|██████████| 17/17 [00:03<00:00,  4.88it/s]"
          ]
        },
        {
          "output_type": "stream",
          "name": "stdout",
          "text": [
            "val Loss: 0.7092 Acc: 0.7225 CD Loss: 0.0000\n",
            "Epoch 27/100\n",
            "----------\n"
          ]
        },
        {
          "output_type": "stream",
          "name": "stderr",
          "text": [
            "\n",
            "100%|██████████| 75/75 [00:15<00:00,  4.81it/s]"
          ]
        },
        {
          "output_type": "stream",
          "name": "stdout",
          "text": [
            "train Loss: 0.0793 Acc: 0.9696 CD Loss: 0.0000\n"
          ]
        },
        {
          "output_type": "stream",
          "name": "stderr",
          "text": [
            "\n",
            "100%|██████████| 17/17 [00:03<00:00,  4.93it/s]"
          ]
        },
        {
          "output_type": "stream",
          "name": "stdout",
          "text": [
            "val Loss: 0.7093 Acc: 0.7225 CD Loss: 0.0000\n",
            "Epoch 28/100\n",
            "----------\n"
          ]
        },
        {
          "output_type": "stream",
          "name": "stderr",
          "text": [
            "\n",
            "100%|██████████| 75/75 [00:13<00:00,  5.49it/s]"
          ]
        },
        {
          "output_type": "stream",
          "name": "stdout",
          "text": [
            "train Loss: 0.0820 Acc: 0.9675 CD Loss: 0.0000\n"
          ]
        },
        {
          "output_type": "stream",
          "name": "stderr",
          "text": [
            "\n",
            "100%|██████████| 17/17 [00:03<00:00,  5.08it/s]"
          ]
        },
        {
          "output_type": "stream",
          "name": "stdout",
          "text": [
            "val Loss: 0.7106 Acc: 0.7225 CD Loss: 0.0000\n",
            "Epoch 29/100\n",
            "----------\n"
          ]
        },
        {
          "output_type": "stream",
          "name": "stderr",
          "text": [
            "\n",
            "100%|██████████| 75/75 [00:15<00:00,  4.97it/s]"
          ]
        },
        {
          "output_type": "stream",
          "name": "stdout",
          "text": [
            "train Loss: 0.0839 Acc: 0.9671 CD Loss: 0.0000\n"
          ]
        },
        {
          "output_type": "stream",
          "name": "stderr",
          "text": [
            "\n",
            "100%|██████████| 17/17 [00:03<00:00,  5.11it/s]"
          ]
        },
        {
          "output_type": "stream",
          "name": "stdout",
          "text": [
            "val Loss: 0.7118 Acc: 0.7216 CD Loss: 0.0000\n",
            "Epoch 30/100\n",
            "----------\n"
          ]
        },
        {
          "output_type": "stream",
          "name": "stderr",
          "text": [
            "\n",
            "100%|██████████| 75/75 [00:14<00:00,  5.05it/s]"
          ]
        },
        {
          "output_type": "stream",
          "name": "stdout",
          "text": [
            "train Loss: 0.0802 Acc: 0.9671 CD Loss: 0.0000\n"
          ]
        },
        {
          "output_type": "stream",
          "name": "stderr",
          "text": [
            "\n",
            "100%|██████████| 17/17 [00:03<00:00,  5.07it/s]\n"
          ]
        },
        {
          "output_type": "stream",
          "name": "stdout",
          "text": [
            "val Loss: 0.7100 Acc: 0.7225 CD Loss: 0.0000\n",
            "Epoch 31/100\n",
            "----------\n"
          ]
        },
        {
          "output_type": "stream",
          "name": "stderr",
          "text": [
            "100%|██████████| 75/75 [00:15<00:00,  4.90it/s]"
          ]
        },
        {
          "output_type": "stream",
          "name": "stdout",
          "text": [
            "train Loss: 0.0826 Acc: 0.9665 CD Loss: 0.0000\n"
          ]
        },
        {
          "output_type": "stream",
          "name": "stderr",
          "text": [
            "\n",
            "100%|██████████| 17/17 [00:03<00:00,  5.07it/s]"
          ]
        },
        {
          "output_type": "stream",
          "name": "stdout",
          "text": [
            "val Loss: 0.7097 Acc: 0.7225 CD Loss: 0.0000\n",
            "Epoch 32/100\n",
            "----------\n"
          ]
        },
        {
          "output_type": "stream",
          "name": "stderr",
          "text": [
            "\n",
            "100%|██████████| 75/75 [00:15<00:00,  4.84it/s]"
          ]
        },
        {
          "output_type": "stream",
          "name": "stdout",
          "text": [
            "train Loss: 0.0775 Acc: 0.9711 CD Loss: 0.0000\n"
          ]
        },
        {
          "output_type": "stream",
          "name": "stderr",
          "text": [
            "\n",
            "100%|██████████| 17/17 [00:03<00:00,  5.21it/s]"
          ]
        },
        {
          "output_type": "stream",
          "name": "stdout",
          "text": [
            "val Loss: 0.7096 Acc: 0.7225 CD Loss: 0.0000\n",
            "Epoch 33/100\n",
            "----------\n"
          ]
        },
        {
          "output_type": "stream",
          "name": "stderr",
          "text": [
            "\n",
            "100%|██████████| 75/75 [00:15<00:00,  4.95it/s]"
          ]
        },
        {
          "output_type": "stream",
          "name": "stdout",
          "text": [
            "train Loss: 0.0822 Acc: 0.9673 CD Loss: 0.0000\n"
          ]
        },
        {
          "output_type": "stream",
          "name": "stderr",
          "text": [
            "\n",
            "100%|██████████| 17/17 [00:03<00:00,  4.84it/s]"
          ]
        },
        {
          "output_type": "stream",
          "name": "stdout",
          "text": [
            "val Loss: 0.7096 Acc: 0.7225 CD Loss: 0.0000\n",
            "Epoch 34/100\n",
            "----------\n"
          ]
        },
        {
          "output_type": "stream",
          "name": "stderr",
          "text": [
            "\n",
            "100%|██████████| 75/75 [00:15<00:00,  5.00it/s]"
          ]
        },
        {
          "output_type": "stream",
          "name": "stdout",
          "text": [
            "train Loss: 0.0823 Acc: 0.9665 CD Loss: 0.0000\n"
          ]
        },
        {
          "output_type": "stream",
          "name": "stderr",
          "text": [
            "\n",
            "100%|██████████| 17/17 [00:03<00:00,  4.97it/s]"
          ]
        },
        {
          "output_type": "stream",
          "name": "stdout",
          "text": [
            "val Loss: 0.7096 Acc: 0.7225 CD Loss: 0.0000\n",
            "Epoch 35/100\n",
            "----------\n"
          ]
        },
        {
          "output_type": "stream",
          "name": "stderr",
          "text": [
            "\n",
            "100%|██████████| 75/75 [00:15<00:00,  4.96it/s]"
          ]
        },
        {
          "output_type": "stream",
          "name": "stdout",
          "text": [
            "train Loss: 0.0794 Acc: 0.9688 CD Loss: 0.0000\n"
          ]
        },
        {
          "output_type": "stream",
          "name": "stderr",
          "text": [
            "\n",
            "100%|██████████| 17/17 [00:03<00:00,  5.00it/s]\n"
          ]
        },
        {
          "output_type": "stream",
          "name": "stdout",
          "text": [
            "val Loss: 0.7097 Acc: 0.7225 CD Loss: 0.0000\n",
            "Epoch 36/100\n",
            "----------\n"
          ]
        },
        {
          "output_type": "stream",
          "name": "stderr",
          "text": [
            "100%|██████████| 75/75 [00:15<00:00,  4.85it/s]"
          ]
        },
        {
          "output_type": "stream",
          "name": "stdout",
          "text": [
            "train Loss: 0.0826 Acc: 0.9677 CD Loss: 0.0000\n"
          ]
        },
        {
          "output_type": "stream",
          "name": "stderr",
          "text": [
            "\n",
            "100%|██████████| 17/17 [00:03<00:00,  4.89it/s]"
          ]
        },
        {
          "output_type": "stream",
          "name": "stdout",
          "text": [
            "val Loss: 0.7097 Acc: 0.7225 CD Loss: 0.0000\n",
            "Epoch 37/100\n",
            "----------\n"
          ]
        },
        {
          "output_type": "stream",
          "name": "stderr",
          "text": [
            "\n",
            "100%|██████████| 75/75 [00:15<00:00,  4.76it/s]"
          ]
        },
        {
          "output_type": "stream",
          "name": "stdout",
          "text": [
            "train Loss: 0.0829 Acc: 0.9675 CD Loss: 0.0000\n"
          ]
        },
        {
          "output_type": "stream",
          "name": "stderr",
          "text": [
            "\n",
            "100%|██████████| 17/17 [00:03<00:00,  4.86it/s]"
          ]
        },
        {
          "output_type": "stream",
          "name": "stdout",
          "text": [
            "val Loss: 0.7100 Acc: 0.7225 CD Loss: 0.0000\n",
            "Epoch 38/100\n",
            "----------\n"
          ]
        },
        {
          "output_type": "stream",
          "name": "stderr",
          "text": [
            "\n",
            "100%|██████████| 75/75 [00:14<00:00,  5.05it/s]"
          ]
        },
        {
          "output_type": "stream",
          "name": "stdout",
          "text": [
            "train Loss: 0.0799 Acc: 0.9690 CD Loss: 0.0000\n"
          ]
        },
        {
          "output_type": "stream",
          "name": "stderr",
          "text": [
            "\n",
            "100%|██████████| 17/17 [00:03<00:00,  5.03it/s]"
          ]
        },
        {
          "output_type": "stream",
          "name": "stdout",
          "text": [
            "val Loss: 0.7101 Acc: 0.7225 CD Loss: 0.0000\n",
            "Epoch 39/100\n",
            "----------\n"
          ]
        },
        {
          "output_type": "stream",
          "name": "stderr",
          "text": [
            "\n",
            "100%|██████████| 75/75 [00:14<00:00,  5.03it/s]"
          ]
        },
        {
          "output_type": "stream",
          "name": "stdout",
          "text": [
            "train Loss: 0.0794 Acc: 0.9671 CD Loss: 0.0000\n"
          ]
        },
        {
          "output_type": "stream",
          "name": "stderr",
          "text": [
            "\n",
            "100%|██████████| 17/17 [00:03<00:00,  4.81it/s]"
          ]
        },
        {
          "output_type": "stream",
          "name": "stdout",
          "text": [
            "val Loss: 0.7100 Acc: 0.7225 CD Loss: 0.0000\n",
            "Epoch 40/100\n",
            "----------\n"
          ]
        },
        {
          "output_type": "stream",
          "name": "stderr",
          "text": [
            "\n",
            "100%|██████████| 75/75 [00:15<00:00,  4.95it/s]"
          ]
        },
        {
          "output_type": "stream",
          "name": "stdout",
          "text": [
            "train Loss: 0.0824 Acc: 0.9669 CD Loss: 0.0000\n"
          ]
        },
        {
          "output_type": "stream",
          "name": "stderr",
          "text": [
            "\n",
            "100%|██████████| 17/17 [00:03<00:00,  5.11it/s]\n"
          ]
        },
        {
          "output_type": "stream",
          "name": "stdout",
          "text": [
            "val Loss: 0.7101 Acc: 0.7225 CD Loss: 0.0000\n",
            "Epoch 41/100\n",
            "----------\n"
          ]
        },
        {
          "output_type": "stream",
          "name": "stderr",
          "text": [
            "100%|██████████| 75/75 [00:15<00:00,  4.89it/s]"
          ]
        },
        {
          "output_type": "stream",
          "name": "stdout",
          "text": [
            "train Loss: 0.0794 Acc: 0.9677 CD Loss: 0.0000\n"
          ]
        },
        {
          "output_type": "stream",
          "name": "stderr",
          "text": [
            "\n",
            "100%|██████████| 17/17 [00:03<00:00,  4.83it/s]\n"
          ]
        },
        {
          "output_type": "stream",
          "name": "stdout",
          "text": [
            "val Loss: 0.7101 Acc: 0.7225 CD Loss: 0.0000\n",
            "Epoch 42/100\n",
            "----------\n"
          ]
        },
        {
          "output_type": "stream",
          "name": "stderr",
          "text": [
            "100%|██████████| 75/75 [00:15<00:00,  4.80it/s]"
          ]
        },
        {
          "output_type": "stream",
          "name": "stdout",
          "text": [
            "train Loss: 0.0781 Acc: 0.9690 CD Loss: 0.0000\n"
          ]
        },
        {
          "output_type": "stream",
          "name": "stderr",
          "text": [
            "\n",
            "100%|██████████| 17/17 [00:03<00:00,  5.24it/s]"
          ]
        },
        {
          "output_type": "stream",
          "name": "stdout",
          "text": [
            "val Loss: 0.7101 Acc: 0.7225 CD Loss: 0.0000\n",
            "Epoch 43/100\n",
            "----------\n"
          ]
        },
        {
          "output_type": "stream",
          "name": "stderr",
          "text": [
            "\n",
            "100%|██████████| 75/75 [00:15<00:00,  4.90it/s]"
          ]
        },
        {
          "output_type": "stream",
          "name": "stdout",
          "text": [
            "train Loss: 0.0799 Acc: 0.9677 CD Loss: 0.0000\n"
          ]
        },
        {
          "output_type": "stream",
          "name": "stderr",
          "text": [
            "\n",
            "100%|██████████| 17/17 [00:03<00:00,  5.00it/s]\n"
          ]
        },
        {
          "output_type": "stream",
          "name": "stdout",
          "text": [
            "val Loss: 0.7101 Acc: 0.7225 CD Loss: 0.0000\n",
            "Epoch 44/100\n",
            "----------\n"
          ]
        },
        {
          "output_type": "stream",
          "name": "stderr",
          "text": [
            "100%|██████████| 75/75 [00:15<00:00,  4.99it/s]"
          ]
        },
        {
          "output_type": "stream",
          "name": "stdout",
          "text": [
            "train Loss: 0.0842 Acc: 0.9648 CD Loss: 0.0000\n"
          ]
        },
        {
          "output_type": "stream",
          "name": "stderr",
          "text": [
            "\n",
            "100%|██████████| 17/17 [00:03<00:00,  5.05it/s]"
          ]
        },
        {
          "output_type": "stream",
          "name": "stdout",
          "text": [
            "val Loss: 0.7101 Acc: 0.7225 CD Loss: 0.0000\n",
            "Epoch 45/100\n",
            "----------\n"
          ]
        },
        {
          "output_type": "stream",
          "name": "stderr",
          "text": [
            "\n",
            "100%|██████████| 75/75 [00:15<00:00,  4.97it/s]"
          ]
        },
        {
          "output_type": "stream",
          "name": "stdout",
          "text": [
            "train Loss: 0.0820 Acc: 0.9669 CD Loss: 0.0000\n"
          ]
        },
        {
          "output_type": "stream",
          "name": "stderr",
          "text": [
            "\n",
            "100%|██████████| 17/17 [00:03<00:00,  5.01it/s]\n"
          ]
        },
        {
          "output_type": "stream",
          "name": "stdout",
          "text": [
            "val Loss: 0.7101 Acc: 0.7225 CD Loss: 0.0000\n",
            "Epoch 46/100\n",
            "----------\n"
          ]
        },
        {
          "output_type": "stream",
          "name": "stderr",
          "text": [
            "100%|██████████| 75/75 [00:15<00:00,  4.84it/s]"
          ]
        },
        {
          "output_type": "stream",
          "name": "stdout",
          "text": [
            "train Loss: 0.0821 Acc: 0.9679 CD Loss: 0.0000\n"
          ]
        },
        {
          "output_type": "stream",
          "name": "stderr",
          "text": [
            "\n",
            "100%|██████████| 17/17 [00:03<00:00,  5.18it/s]"
          ]
        },
        {
          "output_type": "stream",
          "name": "stdout",
          "text": [
            "val Loss: 0.7101 Acc: 0.7225 CD Loss: 0.0000\n",
            "Epoch 47/100\n",
            "----------\n"
          ]
        },
        {
          "output_type": "stream",
          "name": "stderr",
          "text": [
            "\n",
            "100%|██████████| 75/75 [00:15<00:00,  4.86it/s]"
          ]
        },
        {
          "output_type": "stream",
          "name": "stdout",
          "text": [
            "train Loss: 0.0776 Acc: 0.9684 CD Loss: 0.0000\n"
          ]
        },
        {
          "output_type": "stream",
          "name": "stderr",
          "text": [
            "\n",
            "100%|██████████| 17/17 [00:03<00:00,  5.03it/s]"
          ]
        },
        {
          "output_type": "stream",
          "name": "stdout",
          "text": [
            "val Loss: 0.7101 Acc: 0.7225 CD Loss: 0.0000\n",
            "Epoch 48/100\n",
            "----------\n"
          ]
        },
        {
          "output_type": "stream",
          "name": "stderr",
          "text": [
            "\n",
            "100%|██████████| 75/75 [00:15<00:00,  4.89it/s]"
          ]
        },
        {
          "output_type": "stream",
          "name": "stdout",
          "text": [
            "train Loss: 0.0773 Acc: 0.9684 CD Loss: 0.0000\n"
          ]
        },
        {
          "output_type": "stream",
          "name": "stderr",
          "text": [
            "\n",
            "100%|██████████| 17/17 [00:03<00:00,  5.00it/s]"
          ]
        },
        {
          "output_type": "stream",
          "name": "stdout",
          "text": [
            "val Loss: 0.7101 Acc: 0.7225 CD Loss: 0.0000\n",
            "Epoch 49/100\n",
            "----------\n"
          ]
        },
        {
          "output_type": "stream",
          "name": "stderr",
          "text": [
            "\n",
            "100%|██████████| 75/75 [00:15<00:00,  5.00it/s]"
          ]
        },
        {
          "output_type": "stream",
          "name": "stdout",
          "text": [
            "train Loss: 0.0837 Acc: 0.9673 CD Loss: 0.0000\n"
          ]
        },
        {
          "output_type": "stream",
          "name": "stderr",
          "text": [
            "\n",
            "100%|██████████| 17/17 [00:03<00:00,  5.10it/s]"
          ]
        },
        {
          "output_type": "stream",
          "name": "stdout",
          "text": [
            "val Loss: 0.7102 Acc: 0.7225 CD Loss: 0.0000\n",
            "Epoch 50/100\n",
            "----------\n"
          ]
        },
        {
          "output_type": "stream",
          "name": "stderr",
          "text": [
            "\n",
            "100%|██████████| 75/75 [00:15<00:00,  4.93it/s]"
          ]
        },
        {
          "output_type": "stream",
          "name": "stdout",
          "text": [
            "train Loss: 0.0815 Acc: 0.9690 CD Loss: 0.0000\n"
          ]
        },
        {
          "output_type": "stream",
          "name": "stderr",
          "text": [
            "\n",
            "100%|██████████| 17/17 [00:03<00:00,  4.83it/s]\n"
          ]
        },
        {
          "output_type": "stream",
          "name": "stdout",
          "text": [
            "val Loss: 0.7102 Acc: 0.7225 CD Loss: 0.0000\n",
            "Epoch 51/100\n",
            "----------\n"
          ]
        },
        {
          "output_type": "stream",
          "name": "stderr",
          "text": [
            "100%|██████████| 75/75 [00:15<00:00,  4.90it/s]"
          ]
        },
        {
          "output_type": "stream",
          "name": "stdout",
          "text": [
            "train Loss: 0.0761 Acc: 0.9694 CD Loss: 0.0000\n"
          ]
        },
        {
          "output_type": "stream",
          "name": "stderr",
          "text": [
            "\n",
            "100%|██████████| 17/17 [00:03<00:00,  5.15it/s]"
          ]
        },
        {
          "output_type": "stream",
          "name": "stdout",
          "text": [
            "val Loss: 0.7102 Acc: 0.7225 CD Loss: 0.0000\n",
            "Epoch 52/100\n",
            "----------\n"
          ]
        },
        {
          "output_type": "stream",
          "name": "stderr",
          "text": [
            "\n",
            "100%|██████████| 75/75 [00:15<00:00,  4.85it/s]"
          ]
        },
        {
          "output_type": "stream",
          "name": "stdout",
          "text": [
            "train Loss: 0.0797 Acc: 0.9662 CD Loss: 0.0000\n"
          ]
        },
        {
          "output_type": "stream",
          "name": "stderr",
          "text": [
            "\n",
            "100%|██████████| 17/17 [00:03<00:00,  4.79it/s]"
          ]
        },
        {
          "output_type": "stream",
          "name": "stdout",
          "text": [
            "val Loss: 0.7102 Acc: 0.7225 CD Loss: 0.0000\n",
            "Epoch 53/100\n",
            "----------\n"
          ]
        },
        {
          "output_type": "stream",
          "name": "stderr",
          "text": [
            "\n",
            "100%|██████████| 75/75 [00:15<00:00,  4.90it/s]"
          ]
        },
        {
          "output_type": "stream",
          "name": "stdout",
          "text": [
            "train Loss: 0.0791 Acc: 0.9707 CD Loss: 0.0000\n"
          ]
        },
        {
          "output_type": "stream",
          "name": "stderr",
          "text": [
            "\n",
            "100%|██████████| 17/17 [00:03<00:00,  5.16it/s]"
          ]
        },
        {
          "output_type": "stream",
          "name": "stdout",
          "text": [
            "val Loss: 0.7102 Acc: 0.7225 CD Loss: 0.0000\n",
            "Epoch 54/100\n",
            "----------\n"
          ]
        },
        {
          "output_type": "stream",
          "name": "stderr",
          "text": [
            "\n",
            "100%|██████████| 75/75 [00:15<00:00,  4.97it/s]"
          ]
        },
        {
          "output_type": "stream",
          "name": "stdout",
          "text": [
            "train Loss: 0.0823 Acc: 0.9671 CD Loss: 0.0000\n"
          ]
        },
        {
          "output_type": "stream",
          "name": "stderr",
          "text": [
            "\n",
            "100%|██████████| 17/17 [00:03<00:00,  4.85it/s]"
          ]
        },
        {
          "output_type": "stream",
          "name": "stdout",
          "text": [
            "val Loss: 0.7102 Acc: 0.7225 CD Loss: 0.0000\n",
            "Epoch 55/100\n",
            "----------\n"
          ]
        },
        {
          "output_type": "stream",
          "name": "stderr",
          "text": [
            "\n",
            "100%|██████████| 75/75 [00:15<00:00,  4.92it/s]"
          ]
        },
        {
          "output_type": "stream",
          "name": "stdout",
          "text": [
            "train Loss: 0.0820 Acc: 0.9667 CD Loss: 0.0000\n"
          ]
        },
        {
          "output_type": "stream",
          "name": "stderr",
          "text": [
            "\n",
            "100%|██████████| 17/17 [00:03<00:00,  5.24it/s]\n"
          ]
        },
        {
          "output_type": "stream",
          "name": "stdout",
          "text": [
            "val Loss: 0.7102 Acc: 0.7225 CD Loss: 0.0000\n",
            "Epoch 56/100\n",
            "----------\n"
          ]
        },
        {
          "output_type": "stream",
          "name": "stderr",
          "text": [
            "100%|██████████| 75/75 [00:15<00:00,  4.90it/s]"
          ]
        },
        {
          "output_type": "stream",
          "name": "stdout",
          "text": [
            "train Loss: 0.0811 Acc: 0.9705 CD Loss: 0.0000\n"
          ]
        },
        {
          "output_type": "stream",
          "name": "stderr",
          "text": [
            "\n",
            "100%|██████████| 17/17 [00:03<00:00,  4.77it/s]"
          ]
        },
        {
          "output_type": "stream",
          "name": "stdout",
          "text": [
            "val Loss: 0.7102 Acc: 0.7225 CD Loss: 0.0000\n",
            "Epoch 57/100\n",
            "----------\n"
          ]
        },
        {
          "output_type": "stream",
          "name": "stderr",
          "text": [
            "\n",
            "100%|██████████| 75/75 [00:15<00:00,  4.75it/s]"
          ]
        },
        {
          "output_type": "stream",
          "name": "stdout",
          "text": [
            "train Loss: 0.0782 Acc: 0.9684 CD Loss: 0.0000\n"
          ]
        },
        {
          "output_type": "stream",
          "name": "stderr",
          "text": [
            "\n",
            "100%|██████████| 17/17 [00:03<00:00,  5.15it/s]"
          ]
        },
        {
          "output_type": "stream",
          "name": "stdout",
          "text": [
            "val Loss: 0.7102 Acc: 0.7225 CD Loss: 0.0000\n",
            "Epoch 58/100\n",
            "----------\n"
          ]
        },
        {
          "output_type": "stream",
          "name": "stderr",
          "text": [
            "\n",
            "100%|██████████| 75/75 [00:14<00:00,  5.04it/s]"
          ]
        },
        {
          "output_type": "stream",
          "name": "stdout",
          "text": [
            "train Loss: 0.0842 Acc: 0.9658 CD Loss: 0.0000\n"
          ]
        },
        {
          "output_type": "stream",
          "name": "stderr",
          "text": [
            "\n",
            "100%|██████████| 17/17 [00:03<00:00,  4.95it/s]"
          ]
        },
        {
          "output_type": "stream",
          "name": "stdout",
          "text": [
            "val Loss: 0.7102 Acc: 0.7225 CD Loss: 0.0000\n",
            "Epoch 59/100\n",
            "----------\n"
          ]
        },
        {
          "output_type": "stream",
          "name": "stderr",
          "text": [
            "\n",
            "100%|██████████| 75/75 [00:15<00:00,  4.95it/s]"
          ]
        },
        {
          "output_type": "stream",
          "name": "stdout",
          "text": [
            "train Loss: 0.0833 Acc: 0.9686 CD Loss: 0.0000\n"
          ]
        },
        {
          "output_type": "stream",
          "name": "stderr",
          "text": [
            "\n",
            "100%|██████████| 17/17 [00:03<00:00,  5.09it/s]\n"
          ]
        },
        {
          "output_type": "stream",
          "name": "stdout",
          "text": [
            "val Loss: 0.7102 Acc: 0.7225 CD Loss: 0.0000\n",
            "Epoch 60/100\n",
            "----------\n"
          ]
        },
        {
          "output_type": "stream",
          "name": "stderr",
          "text": [
            "100%|██████████| 75/75 [00:15<00:00,  4.95it/s]"
          ]
        },
        {
          "output_type": "stream",
          "name": "stdout",
          "text": [
            "train Loss: 0.0811 Acc: 0.9660 CD Loss: 0.0000\n"
          ]
        },
        {
          "output_type": "stream",
          "name": "stderr",
          "text": [
            "\n",
            "100%|██████████| 17/17 [00:03<00:00,  5.02it/s]\n"
          ]
        },
        {
          "output_type": "stream",
          "name": "stdout",
          "text": [
            "val Loss: 0.7102 Acc: 0.7225 CD Loss: 0.0000\n",
            "Epoch 61/100\n",
            "----------\n"
          ]
        },
        {
          "output_type": "stream",
          "name": "stderr",
          "text": [
            "100%|██████████| 75/75 [00:15<00:00,  4.79it/s]"
          ]
        },
        {
          "output_type": "stream",
          "name": "stdout",
          "text": [
            "train Loss: 0.0826 Acc: 0.9646 CD Loss: 0.0000\n"
          ]
        },
        {
          "output_type": "stream",
          "name": "stderr",
          "text": [
            "\n",
            "100%|██████████| 17/17 [00:03<00:00,  5.06it/s]"
          ]
        },
        {
          "output_type": "stream",
          "name": "stdout",
          "text": [
            "val Loss: 0.7102 Acc: 0.7225 CD Loss: 0.0000\n",
            "Epoch 62/100\n",
            "----------\n"
          ]
        },
        {
          "output_type": "stream",
          "name": "stderr",
          "text": [
            "\n",
            "100%|██████████| 75/75 [00:15<00:00,  4.81it/s]"
          ]
        },
        {
          "output_type": "stream",
          "name": "stdout",
          "text": [
            "train Loss: 0.0836 Acc: 0.9673 CD Loss: 0.0000\n"
          ]
        },
        {
          "output_type": "stream",
          "name": "stderr",
          "text": [
            "\n",
            "100%|██████████| 17/17 [00:03<00:00,  5.11it/s]"
          ]
        },
        {
          "output_type": "stream",
          "name": "stdout",
          "text": [
            "val Loss: 0.7102 Acc: 0.7225 CD Loss: 0.0000\n",
            "Epoch 63/100\n",
            "----------\n"
          ]
        },
        {
          "output_type": "stream",
          "name": "stderr",
          "text": [
            "\n",
            "100%|██████████| 75/75 [00:15<00:00,  4.94it/s]"
          ]
        },
        {
          "output_type": "stream",
          "name": "stdout",
          "text": [
            "train Loss: 0.0836 Acc: 0.9654 CD Loss: 0.0000\n"
          ]
        },
        {
          "output_type": "stream",
          "name": "stderr",
          "text": [
            "\n",
            "100%|██████████| 17/17 [00:03<00:00,  5.14it/s]"
          ]
        },
        {
          "output_type": "stream",
          "name": "stdout",
          "text": [
            "val Loss: 0.7102 Acc: 0.7225 CD Loss: 0.0000\n",
            "Epoch 64/100\n",
            "----------\n"
          ]
        },
        {
          "output_type": "stream",
          "name": "stderr",
          "text": [
            "\n",
            "100%|██████████| 75/75 [00:14<00:00,  5.04it/s]"
          ]
        },
        {
          "output_type": "stream",
          "name": "stdout",
          "text": [
            "train Loss: 0.0806 Acc: 0.9679 CD Loss: 0.0000\n"
          ]
        },
        {
          "output_type": "stream",
          "name": "stderr",
          "text": [
            "\n",
            "100%|██████████| 17/17 [00:03<00:00,  5.12it/s]"
          ]
        },
        {
          "output_type": "stream",
          "name": "stdout",
          "text": [
            "val Loss: 0.7102 Acc: 0.7225 CD Loss: 0.0000\n",
            "Epoch 65/100\n",
            "----------\n"
          ]
        },
        {
          "output_type": "stream",
          "name": "stderr",
          "text": [
            "\n",
            "100%|██████████| 75/75 [00:15<00:00,  4.96it/s]"
          ]
        },
        {
          "output_type": "stream",
          "name": "stdout",
          "text": [
            "train Loss: 0.0800 Acc: 0.9675 CD Loss: 0.0000\n"
          ]
        },
        {
          "output_type": "stream",
          "name": "stderr",
          "text": [
            "\n",
            "100%|██████████| 17/17 [00:03<00:00,  4.96it/s]\n"
          ]
        },
        {
          "output_type": "stream",
          "name": "stdout",
          "text": [
            "val Loss: 0.7102 Acc: 0.7225 CD Loss: 0.0000\n",
            "Epoch 66/100\n",
            "----------\n"
          ]
        },
        {
          "output_type": "stream",
          "name": "stderr",
          "text": [
            "100%|██████████| 75/75 [00:15<00:00,  4.93it/s]"
          ]
        },
        {
          "output_type": "stream",
          "name": "stdout",
          "text": [
            "train Loss: 0.0796 Acc: 0.9711 CD Loss: 0.0000\n"
          ]
        },
        {
          "output_type": "stream",
          "name": "stderr",
          "text": [
            "\n",
            "100%|██████████| 17/17 [00:03<00:00,  5.28it/s]"
          ]
        },
        {
          "output_type": "stream",
          "name": "stdout",
          "text": [
            "val Loss: 0.7102 Acc: 0.7225 CD Loss: 0.0000\n",
            "Epoch 67/100\n",
            "----------\n"
          ]
        },
        {
          "output_type": "stream",
          "name": "stderr",
          "text": [
            "\n",
            "100%|██████████| 75/75 [00:15<00:00,  4.87it/s]"
          ]
        },
        {
          "output_type": "stream",
          "name": "stdout",
          "text": [
            "train Loss: 0.0803 Acc: 0.9694 CD Loss: 0.0000\n"
          ]
        },
        {
          "output_type": "stream",
          "name": "stderr",
          "text": [
            "\n",
            "100%|██████████| 17/17 [00:03<00:00,  4.95it/s]"
          ]
        },
        {
          "output_type": "stream",
          "name": "stdout",
          "text": [
            "val Loss: 0.7102 Acc: 0.7225 CD Loss: 0.0000\n",
            "Epoch 68/100\n",
            "----------\n"
          ]
        },
        {
          "output_type": "stream",
          "name": "stderr",
          "text": [
            "\n",
            "100%|██████████| 75/75 [00:14<00:00,  5.02it/s]"
          ]
        },
        {
          "output_type": "stream",
          "name": "stdout",
          "text": [
            "train Loss: 0.0839 Acc: 0.9684 CD Loss: 0.0000\n"
          ]
        },
        {
          "output_type": "stream",
          "name": "stderr",
          "text": [
            "\n",
            "100%|██████████| 17/17 [00:03<00:00,  5.22it/s]"
          ]
        },
        {
          "output_type": "stream",
          "name": "stdout",
          "text": [
            "val Loss: 0.7102 Acc: 0.7225 CD Loss: 0.0000\n",
            "Epoch 69/100\n",
            "----------\n"
          ]
        },
        {
          "output_type": "stream",
          "name": "stderr",
          "text": [
            "\n",
            "100%|██████████| 75/75 [00:15<00:00,  4.91it/s]"
          ]
        },
        {
          "output_type": "stream",
          "name": "stdout",
          "text": [
            "train Loss: 0.0813 Acc: 0.9690 CD Loss: 0.0000\n"
          ]
        },
        {
          "output_type": "stream",
          "name": "stderr",
          "text": [
            "\n",
            "100%|██████████| 17/17 [00:03<00:00,  4.63it/s]"
          ]
        },
        {
          "output_type": "stream",
          "name": "stdout",
          "text": [
            "val Loss: 0.7102 Acc: 0.7225 CD Loss: 0.0000\n",
            "Epoch 70/100\n",
            "----------\n"
          ]
        },
        {
          "output_type": "stream",
          "name": "stderr",
          "text": [
            "\n",
            "100%|██████████| 75/75 [00:14<00:00,  5.00it/s]"
          ]
        },
        {
          "output_type": "stream",
          "name": "stdout",
          "text": [
            "train Loss: 0.0776 Acc: 0.9694 CD Loss: 0.0000\n"
          ]
        },
        {
          "output_type": "stream",
          "name": "stderr",
          "text": [
            "\n",
            "100%|██████████| 17/17 [00:03<00:00,  5.15it/s]\n"
          ]
        },
        {
          "output_type": "stream",
          "name": "stdout",
          "text": [
            "val Loss: 0.7102 Acc: 0.7225 CD Loss: 0.0000\n",
            "Epoch 71/100\n",
            "----------\n"
          ]
        },
        {
          "output_type": "stream",
          "name": "stderr",
          "text": [
            "100%|██████████| 75/75 [00:15<00:00,  4.95it/s]"
          ]
        },
        {
          "output_type": "stream",
          "name": "stdout",
          "text": [
            "train Loss: 0.0812 Acc: 0.9694 CD Loss: 0.0000\n"
          ]
        },
        {
          "output_type": "stream",
          "name": "stderr",
          "text": [
            "\n",
            "100%|██████████| 17/17 [00:03<00:00,  4.91it/s]"
          ]
        },
        {
          "output_type": "stream",
          "name": "stdout",
          "text": [
            "val Loss: 0.7102 Acc: 0.7225 CD Loss: 0.0000\n",
            "Epoch 72/100\n",
            "----------\n"
          ]
        },
        {
          "output_type": "stream",
          "name": "stderr",
          "text": [
            "\n",
            "100%|██████████| 75/75 [00:15<00:00,  4.98it/s]"
          ]
        },
        {
          "output_type": "stream",
          "name": "stdout",
          "text": [
            "train Loss: 0.0792 Acc: 0.9696 CD Loss: 0.0000\n"
          ]
        },
        {
          "output_type": "stream",
          "name": "stderr",
          "text": [
            "\n",
            "100%|██████████| 17/17 [00:03<00:00,  4.42it/s]"
          ]
        },
        {
          "output_type": "stream",
          "name": "stdout",
          "text": [
            "val Loss: 0.7102 Acc: 0.7225 CD Loss: 0.0000\n",
            "Epoch 73/100\n",
            "----------\n"
          ]
        },
        {
          "output_type": "stream",
          "name": "stderr",
          "text": [
            "\n",
            "100%|██████████| 75/75 [00:14<00:00,  5.01it/s]"
          ]
        },
        {
          "output_type": "stream",
          "name": "stdout",
          "text": [
            "train Loss: 0.0821 Acc: 0.9677 CD Loss: 0.0000\n"
          ]
        },
        {
          "output_type": "stream",
          "name": "stderr",
          "text": [
            "\n",
            "100%|██████████| 17/17 [00:03<00:00,  5.04it/s]"
          ]
        },
        {
          "output_type": "stream",
          "name": "stdout",
          "text": [
            "val Loss: 0.7102 Acc: 0.7225 CD Loss: 0.0000\n",
            "Epoch 74/100\n",
            "----------\n"
          ]
        },
        {
          "output_type": "stream",
          "name": "stderr",
          "text": [
            "\n",
            "100%|██████████| 75/75 [00:15<00:00,  4.99it/s]"
          ]
        },
        {
          "output_type": "stream",
          "name": "stdout",
          "text": [
            "train Loss: 0.0825 Acc: 0.9665 CD Loss: 0.0000\n"
          ]
        },
        {
          "output_type": "stream",
          "name": "stderr",
          "text": [
            "\n",
            "100%|██████████| 17/17 [00:03<00:00,  5.06it/s]"
          ]
        },
        {
          "output_type": "stream",
          "name": "stdout",
          "text": [
            "val Loss: 0.7102 Acc: 0.7225 CD Loss: 0.0000\n",
            "Epoch 75/100\n",
            "----------\n"
          ]
        },
        {
          "output_type": "stream",
          "name": "stderr",
          "text": [
            "\n",
            "100%|██████████| 75/75 [00:15<00:00,  4.96it/s]"
          ]
        },
        {
          "output_type": "stream",
          "name": "stdout",
          "text": [
            "train Loss: 0.0821 Acc: 0.9679 CD Loss: 0.0000\n"
          ]
        },
        {
          "output_type": "stream",
          "name": "stderr",
          "text": [
            "\n",
            "100%|██████████| 17/17 [00:03<00:00,  5.20it/s]\n"
          ]
        },
        {
          "output_type": "stream",
          "name": "stdout",
          "text": [
            "val Loss: 0.7102 Acc: 0.7225 CD Loss: 0.0000\n",
            "Epoch 76/100\n",
            "----------\n"
          ]
        },
        {
          "output_type": "stream",
          "name": "stderr",
          "text": [
            "100%|██████████| 75/75 [00:15<00:00,  4.88it/s]"
          ]
        },
        {
          "output_type": "stream",
          "name": "stdout",
          "text": [
            "train Loss: 0.0814 Acc: 0.9671 CD Loss: 0.0000\n"
          ]
        },
        {
          "output_type": "stream",
          "name": "stderr",
          "text": [
            "\n",
            "100%|██████████| 17/17 [00:03<00:00,  5.09it/s]"
          ]
        },
        {
          "output_type": "stream",
          "name": "stdout",
          "text": [
            "val Loss: 0.7102 Acc: 0.7225 CD Loss: 0.0000\n",
            "Epoch 77/100\n",
            "----------\n"
          ]
        },
        {
          "output_type": "stream",
          "name": "stderr",
          "text": [
            "\n",
            "100%|██████████| 75/75 [00:15<00:00,  4.84it/s]"
          ]
        },
        {
          "output_type": "stream",
          "name": "stdout",
          "text": [
            "train Loss: 0.0789 Acc: 0.9711 CD Loss: 0.0000\n"
          ]
        },
        {
          "output_type": "stream",
          "name": "stderr",
          "text": [
            "\n",
            "100%|██████████| 17/17 [00:03<00:00,  5.06it/s]"
          ]
        },
        {
          "output_type": "stream",
          "name": "stdout",
          "text": [
            "val Loss: 0.7102 Acc: 0.7225 CD Loss: 0.0000\n",
            "Epoch 78/100\n",
            "----------\n"
          ]
        },
        {
          "output_type": "stream",
          "name": "stderr",
          "text": [
            "\n",
            "100%|██████████| 75/75 [00:15<00:00,  4.95it/s]"
          ]
        },
        {
          "output_type": "stream",
          "name": "stdout",
          "text": [
            "train Loss: 0.0812 Acc: 0.9688 CD Loss: 0.0000\n"
          ]
        },
        {
          "output_type": "stream",
          "name": "stderr",
          "text": [
            "\n",
            "100%|██████████| 17/17 [00:03<00:00,  5.13it/s]"
          ]
        },
        {
          "output_type": "stream",
          "name": "stdout",
          "text": [
            "val Loss: 0.7102 Acc: 0.7225 CD Loss: 0.0000\n",
            "Epoch 79/100\n",
            "----------\n"
          ]
        },
        {
          "output_type": "stream",
          "name": "stderr",
          "text": [
            "\n",
            "100%|██████████| 75/75 [00:15<00:00,  4.96it/s]"
          ]
        },
        {
          "output_type": "stream",
          "name": "stdout",
          "text": [
            "train Loss: 0.0773 Acc: 0.9694 CD Loss: 0.0000\n"
          ]
        },
        {
          "output_type": "stream",
          "name": "stderr",
          "text": [
            "\n",
            "100%|██████████| 17/17 [00:03<00:00,  5.13it/s]"
          ]
        },
        {
          "output_type": "stream",
          "name": "stdout",
          "text": [
            "val Loss: 0.7102 Acc: 0.7225 CD Loss: 0.0000\n",
            "Epoch 80/100\n",
            "----------\n"
          ]
        },
        {
          "output_type": "stream",
          "name": "stderr",
          "text": [
            "\n",
            "100%|██████████| 75/75 [00:15<00:00,  4.93it/s]"
          ]
        },
        {
          "output_type": "stream",
          "name": "stdout",
          "text": [
            "train Loss: 0.0822 Acc: 0.9671 CD Loss: 0.0000\n"
          ]
        },
        {
          "output_type": "stream",
          "name": "stderr",
          "text": [
            "\n",
            "100%|██████████| 17/17 [00:03<00:00,  4.89it/s]\n"
          ]
        },
        {
          "output_type": "stream",
          "name": "stdout",
          "text": [
            "val Loss: 0.7102 Acc: 0.7225 CD Loss: 0.0000\n",
            "Epoch 81/100\n",
            "----------\n"
          ]
        },
        {
          "output_type": "stream",
          "name": "stderr",
          "text": [
            "100%|██████████| 75/75 [00:15<00:00,  4.91it/s]"
          ]
        },
        {
          "output_type": "stream",
          "name": "stdout",
          "text": [
            "train Loss: 0.0789 Acc: 0.9665 CD Loss: 0.0000\n"
          ]
        },
        {
          "output_type": "stream",
          "name": "stderr",
          "text": [
            "\n",
            "100%|██████████| 17/17 [00:03<00:00,  5.02it/s]"
          ]
        },
        {
          "output_type": "stream",
          "name": "stdout",
          "text": [
            "val Loss: 0.7102 Acc: 0.7225 CD Loss: 0.0000\n",
            "Epoch 82/100\n",
            "----------\n"
          ]
        },
        {
          "output_type": "stream",
          "name": "stderr",
          "text": [
            "\n",
            "100%|██████████| 75/75 [00:15<00:00,  4.85it/s]"
          ]
        },
        {
          "output_type": "stream",
          "name": "stdout",
          "text": [
            "train Loss: 0.0788 Acc: 0.9690 CD Loss: 0.0000\n"
          ]
        },
        {
          "output_type": "stream",
          "name": "stderr",
          "text": [
            "\n",
            "100%|██████████| 17/17 [00:03<00:00,  4.89it/s]"
          ]
        },
        {
          "output_type": "stream",
          "name": "stdout",
          "text": [
            "val Loss: 0.7102 Acc: 0.7225 CD Loss: 0.0000\n",
            "Epoch 83/100\n",
            "----------\n"
          ]
        },
        {
          "output_type": "stream",
          "name": "stderr",
          "text": [
            "\n",
            "100%|██████████| 75/75 [00:14<00:00,  5.04it/s]"
          ]
        },
        {
          "output_type": "stream",
          "name": "stdout",
          "text": [
            "train Loss: 0.0837 Acc: 0.9669 CD Loss: 0.0000\n"
          ]
        },
        {
          "output_type": "stream",
          "name": "stderr",
          "text": [
            "\n",
            "100%|██████████| 17/17 [00:03<00:00,  5.14it/s]"
          ]
        },
        {
          "output_type": "stream",
          "name": "stdout",
          "text": [
            "val Loss: 0.7102 Acc: 0.7225 CD Loss: 0.0000\n",
            "Epoch 84/100\n",
            "----------\n"
          ]
        },
        {
          "output_type": "stream",
          "name": "stderr",
          "text": [
            "\n",
            "100%|██████████| 75/75 [00:15<00:00,  4.93it/s]"
          ]
        },
        {
          "output_type": "stream",
          "name": "stdout",
          "text": [
            "train Loss: 0.0797 Acc: 0.9686 CD Loss: 0.0000\n"
          ]
        },
        {
          "output_type": "stream",
          "name": "stderr",
          "text": [
            "\n",
            "100%|██████████| 17/17 [00:03<00:00,  4.74it/s]"
          ]
        },
        {
          "output_type": "stream",
          "name": "stdout",
          "text": [
            "val Loss: 0.7102 Acc: 0.7225 CD Loss: 0.0000\n",
            "Epoch 85/100\n",
            "----------\n"
          ]
        },
        {
          "output_type": "stream",
          "name": "stderr",
          "text": [
            "\n",
            "100%|██████████| 75/75 [00:15<00:00,  4.97it/s]"
          ]
        },
        {
          "output_type": "stream",
          "name": "stdout",
          "text": [
            "train Loss: 0.0802 Acc: 0.9681 CD Loss: 0.0000\n"
          ]
        },
        {
          "output_type": "stream",
          "name": "stderr",
          "text": [
            "\n",
            "100%|██████████| 17/17 [00:03<00:00,  5.05it/s]\n"
          ]
        },
        {
          "output_type": "stream",
          "name": "stdout",
          "text": [
            "val Loss: 0.7102 Acc: 0.7225 CD Loss: 0.0000\n",
            "Epoch 86/100\n",
            "----------\n"
          ]
        },
        {
          "output_type": "stream",
          "name": "stderr",
          "text": [
            "100%|██████████| 75/75 [00:15<00:00,  4.84it/s]"
          ]
        },
        {
          "output_type": "stream",
          "name": "stdout",
          "text": [
            "train Loss: 0.0817 Acc: 0.9660 CD Loss: 0.0000\n"
          ]
        },
        {
          "output_type": "stream",
          "name": "stderr",
          "text": [
            "\n",
            "100%|██████████| 17/17 [00:03<00:00,  4.93it/s]"
          ]
        },
        {
          "output_type": "stream",
          "name": "stdout",
          "text": [
            "val Loss: 0.7102 Acc: 0.7225 CD Loss: 0.0000\n",
            "Epoch 87/100\n",
            "----------\n"
          ]
        },
        {
          "output_type": "stream",
          "name": "stderr",
          "text": [
            "\n",
            "100%|██████████| 75/75 [00:14<00:00,  5.03it/s]"
          ]
        },
        {
          "output_type": "stream",
          "name": "stdout",
          "text": [
            "train Loss: 0.0777 Acc: 0.9692 CD Loss: 0.0000\n"
          ]
        },
        {
          "output_type": "stream",
          "name": "stderr",
          "text": [
            "\n",
            "100%|██████████| 17/17 [00:03<00:00,  4.39it/s]"
          ]
        },
        {
          "output_type": "stream",
          "name": "stdout",
          "text": [
            "val Loss: 0.7102 Acc: 0.7225 CD Loss: 0.0000\n",
            "Epoch 88/100\n",
            "----------\n"
          ]
        },
        {
          "output_type": "stream",
          "name": "stderr",
          "text": [
            "\n",
            "100%|██████████| 75/75 [00:14<00:00,  5.07it/s]"
          ]
        },
        {
          "output_type": "stream",
          "name": "stdout",
          "text": [
            "train Loss: 0.0800 Acc: 0.9696 CD Loss: 0.0000\n"
          ]
        },
        {
          "output_type": "stream",
          "name": "stderr",
          "text": [
            "\n",
            "100%|██████████| 17/17 [00:03<00:00,  5.07it/s]"
          ]
        },
        {
          "output_type": "stream",
          "name": "stdout",
          "text": [
            "val Loss: 0.7102 Acc: 0.7225 CD Loss: 0.0000\n",
            "Epoch 89/100\n",
            "----------\n"
          ]
        },
        {
          "output_type": "stream",
          "name": "stderr",
          "text": [
            "\n",
            "100%|██████████| 75/75 [00:15<00:00,  4.91it/s]"
          ]
        },
        {
          "output_type": "stream",
          "name": "stdout",
          "text": [
            "train Loss: 0.0784 Acc: 0.9692 CD Loss: 0.0000\n"
          ]
        },
        {
          "output_type": "stream",
          "name": "stderr",
          "text": [
            "\n",
            "100%|██████████| 17/17 [00:03<00:00,  5.22it/s]"
          ]
        },
        {
          "output_type": "stream",
          "name": "stdout",
          "text": [
            "val Loss: 0.7102 Acc: 0.7225 CD Loss: 0.0000\n",
            "Epoch 90/100\n",
            "----------\n"
          ]
        },
        {
          "output_type": "stream",
          "name": "stderr",
          "text": [
            "\n",
            "100%|██████████| 75/75 [00:14<00:00,  5.05it/s]"
          ]
        },
        {
          "output_type": "stream",
          "name": "stdout",
          "text": [
            "train Loss: 0.0827 Acc: 0.9684 CD Loss: 0.0000\n"
          ]
        },
        {
          "output_type": "stream",
          "name": "stderr",
          "text": [
            "\n",
            "100%|██████████| 17/17 [00:03<00:00,  5.32it/s]\n"
          ]
        },
        {
          "output_type": "stream",
          "name": "stdout",
          "text": [
            "val Loss: 0.7102 Acc: 0.7225 CD Loss: 0.0000\n",
            "Epoch 91/100\n",
            "----------\n"
          ]
        },
        {
          "output_type": "stream",
          "name": "stderr",
          "text": [
            "100%|██████████| 75/75 [00:15<00:00,  4.88it/s]"
          ]
        },
        {
          "output_type": "stream",
          "name": "stdout",
          "text": [
            "train Loss: 0.0839 Acc: 0.9656 CD Loss: 0.0000\n"
          ]
        },
        {
          "output_type": "stream",
          "name": "stderr",
          "text": [
            "\n",
            "100%|██████████| 17/17 [00:03<00:00,  5.12it/s]"
          ]
        },
        {
          "output_type": "stream",
          "name": "stdout",
          "text": [
            "val Loss: 0.7102 Acc: 0.7225 CD Loss: 0.0000\n",
            "Epoch 92/100\n",
            "----------\n"
          ]
        },
        {
          "output_type": "stream",
          "name": "stderr",
          "text": [
            "\n",
            "100%|██████████| 75/75 [00:15<00:00,  4.77it/s]"
          ]
        },
        {
          "output_type": "stream",
          "name": "stdout",
          "text": [
            "train Loss: 0.0793 Acc: 0.9677 CD Loss: 0.0000\n"
          ]
        },
        {
          "output_type": "stream",
          "name": "stderr",
          "text": [
            "\n",
            "100%|██████████| 17/17 [00:03<00:00,  5.28it/s]"
          ]
        },
        {
          "output_type": "stream",
          "name": "stdout",
          "text": [
            "val Loss: 0.7102 Acc: 0.7225 CD Loss: 0.0000\n",
            "Epoch 93/100\n",
            "----------\n"
          ]
        },
        {
          "output_type": "stream",
          "name": "stderr",
          "text": [
            "\n",
            "100%|██████████| 75/75 [00:15<00:00,  4.91it/s]"
          ]
        },
        {
          "output_type": "stream",
          "name": "stdout",
          "text": [
            "train Loss: 0.0752 Acc: 0.9705 CD Loss: 0.0000\n"
          ]
        },
        {
          "output_type": "stream",
          "name": "stderr",
          "text": [
            "\n",
            "100%|██████████| 17/17 [00:03<00:00,  4.90it/s]"
          ]
        },
        {
          "output_type": "stream",
          "name": "stdout",
          "text": [
            "val Loss: 0.7102 Acc: 0.7225 CD Loss: 0.0000\n",
            "Epoch 94/100\n",
            "----------\n"
          ]
        },
        {
          "output_type": "stream",
          "name": "stderr",
          "text": [
            "\n",
            "100%|██████████| 75/75 [00:15<00:00,  5.00it/s]"
          ]
        },
        {
          "output_type": "stream",
          "name": "stdout",
          "text": [
            "train Loss: 0.0820 Acc: 0.9669 CD Loss: 0.0000\n"
          ]
        },
        {
          "output_type": "stream",
          "name": "stderr",
          "text": [
            "\n",
            "100%|██████████| 17/17 [00:03<00:00,  5.08it/s]"
          ]
        },
        {
          "output_type": "stream",
          "name": "stdout",
          "text": [
            "val Loss: 0.7102 Acc: 0.7225 CD Loss: 0.0000\n",
            "Epoch 95/100\n",
            "----------\n"
          ]
        },
        {
          "output_type": "stream",
          "name": "stderr",
          "text": [
            "\n",
            "100%|██████████| 75/75 [00:15<00:00,  4.88it/s]"
          ]
        },
        {
          "output_type": "stream",
          "name": "stdout",
          "text": [
            "train Loss: 0.0858 Acc: 0.9673 CD Loss: 0.0000\n"
          ]
        },
        {
          "output_type": "stream",
          "name": "stderr",
          "text": [
            "\n",
            "100%|██████████| 17/17 [00:03<00:00,  4.78it/s]\n"
          ]
        },
        {
          "output_type": "stream",
          "name": "stdout",
          "text": [
            "val Loss: 0.7102 Acc: 0.7225 CD Loss: 0.0000\n",
            "Epoch 96/100\n",
            "----------\n"
          ]
        },
        {
          "output_type": "stream",
          "name": "stderr",
          "text": [
            "100%|██████████| 75/75 [00:15<00:00,  4.86it/s]"
          ]
        },
        {
          "output_type": "stream",
          "name": "stdout",
          "text": [
            "train Loss: 0.0802 Acc: 0.9690 CD Loss: 0.0000\n"
          ]
        },
        {
          "output_type": "stream",
          "name": "stderr",
          "text": [
            "\n",
            "100%|██████████| 17/17 [00:03<00:00,  5.15it/s]"
          ]
        },
        {
          "output_type": "stream",
          "name": "stdout",
          "text": [
            "val Loss: 0.7102 Acc: 0.7225 CD Loss: 0.0000\n",
            "Epoch 97/100\n",
            "----------\n"
          ]
        },
        {
          "output_type": "stream",
          "name": "stderr",
          "text": [
            "\n",
            "100%|██████████| 75/75 [00:15<00:00,  4.77it/s]"
          ]
        },
        {
          "output_type": "stream",
          "name": "stdout",
          "text": [
            "train Loss: 0.0809 Acc: 0.9675 CD Loss: 0.0000\n"
          ]
        },
        {
          "output_type": "stream",
          "name": "stderr",
          "text": [
            "\n",
            "100%|██████████| 17/17 [00:03<00:00,  4.88it/s]"
          ]
        },
        {
          "output_type": "stream",
          "name": "stdout",
          "text": [
            "val Loss: 0.7102 Acc: 0.7225 CD Loss: 0.0000\n",
            "Epoch 98/100\n",
            "----------\n"
          ]
        },
        {
          "output_type": "stream",
          "name": "stderr",
          "text": [
            "\n",
            "100%|██████████| 75/75 [00:15<00:00,  4.99it/s]"
          ]
        },
        {
          "output_type": "stream",
          "name": "stdout",
          "text": [
            "train Loss: 0.0805 Acc: 0.9700 CD Loss: 0.0000\n"
          ]
        },
        {
          "output_type": "stream",
          "name": "stderr",
          "text": [
            "\n",
            "100%|██████████| 17/17 [00:03<00:00,  5.21it/s]"
          ]
        },
        {
          "output_type": "stream",
          "name": "stdout",
          "text": [
            "val Loss: 0.7102 Acc: 0.7225 CD Loss: 0.0000\n",
            "Epoch 99/100\n",
            "----------\n"
          ]
        },
        {
          "output_type": "stream",
          "name": "stderr",
          "text": [
            "\n",
            "100%|██████████| 75/75 [00:15<00:00,  4.91it/s]"
          ]
        },
        {
          "output_type": "stream",
          "name": "stdout",
          "text": [
            "train Loss: 0.0836 Acc: 0.9650 CD Loss: 0.0000\n"
          ]
        },
        {
          "output_type": "stream",
          "name": "stderr",
          "text": [
            "\n",
            "100%|██████████| 17/17 [00:03<00:00,  4.84it/s]"
          ]
        },
        {
          "output_type": "stream",
          "name": "stdout",
          "text": [
            "val Loss: 0.7102 Acc: 0.7225 CD Loss: 0.0000\n",
            "Epoch 100/100\n",
            "----------\n"
          ]
        },
        {
          "output_type": "stream",
          "name": "stderr",
          "text": [
            "\n",
            "100%|██████████| 75/75 [00:14<00:00,  5.00it/s]"
          ]
        },
        {
          "output_type": "stream",
          "name": "stdout",
          "text": [
            "train Loss: 0.0827 Acc: 0.9675 CD Loss: 0.0000\n"
          ]
        },
        {
          "output_type": "stream",
          "name": "stderr",
          "text": [
            "\n",
            "100%|██████████| 17/17 [00:03<00:00,  5.11it/s]\n"
          ]
        },
        {
          "output_type": "stream",
          "name": "stdout",
          "text": [
            "val Loss: 0.7102 Acc: 0.7225 CD Loss: 0.0000\n",
            "Training complete in 31m 24s\n",
            "Best val loss: 0.6776\n"
          ]
        },
        {
          "output_type": "display_data",
          "data": {
            "text/plain": [
              "<Figure size 1000x500 with 1 Axes>"
            ],
            "image/png": "[encoded data removed]"
          },
          "metadata": {}
        },
        {
          "output_type": "display_data",
          "data": {
            "text/plain": [
              "<Figure size 1000x500 with 1 Axes>"
            ],
            "image/png": "[encoded data removed]"
          },
          "metadata": {}
        },
        {
          "output_type": "stream",
          "name": "stdout",
          "text": [
            "Epoch 1/100\n",
            "----------\n"
          ]
        },
        {
          "output_type": "stream",
          "name": "stderr",
          "text": [
            "100%|██████████| 75/75 [00:16<00:00,  4.44it/s]"
          ]
        },
        {
          "output_type": "stream",
          "name": "stdout",
          "text": [
            "train Loss: 0.0957 Acc: 0.9643 CD Loss: 0.0000\n"
          ]
        },
        {
          "output_type": "stream",
          "name": "stderr",
          "text": [
            "\n",
            "100%|██████████| 17/17 [00:03<00:00,  4.95it/s]"
          ]
        },
        {
          "output_type": "stream",
          "name": "stdout",
          "text": [
            "val Loss: 0.8029 Acc: 0.6742 CD Loss: 0.0000\n",
            "Epoch 2/100\n",
            "----------\n"
          ]
        },
        {
          "output_type": "stream",
          "name": "stderr",
          "text": [
            "\n",
            "100%|██████████| 75/75 [00:15<00:00,  4.84it/s]"
          ]
        },
        {
          "output_type": "stream",
          "name": "stdout",
          "text": [
            "train Loss: 0.0873 Acc: 0.9658 CD Loss: 0.0000\n"
          ]
        },
        {
          "output_type": "stream",
          "name": "stderr",
          "text": [
            "\n",
            "100%|██████████| 17/17 [00:03<00:00,  4.92it/s]"
          ]
        },
        {
          "output_type": "stream",
          "name": "stdout",
          "text": [
            "val Loss: 0.6942 Acc: 0.7244 CD Loss: 0.0000\n",
            "Epoch 3/100\n",
            "----------\n"
          ]
        },
        {
          "output_type": "stream",
          "name": "stderr",
          "text": [
            "\n",
            "100%|██████████| 75/75 [00:15<00:00,  4.95it/s]"
          ]
        },
        {
          "output_type": "stream",
          "name": "stdout",
          "text": [
            "train Loss: 0.0890 Acc: 0.9652 CD Loss: 0.0000\n"
          ]
        },
        {
          "output_type": "stream",
          "name": "stderr",
          "text": [
            "\n",
            "100%|██████████| 17/17 [00:03<00:00,  4.84it/s]"
          ]
        },
        {
          "output_type": "stream",
          "name": "stdout",
          "text": [
            "val Loss: 0.6574 Acc: 0.7339 CD Loss: 0.0000\n",
            "Epoch 4/100\n",
            "----------\n"
          ]
        },
        {
          "output_type": "stream",
          "name": "stderr",
          "text": [
            "\n",
            "100%|██████████| 75/75 [00:15<00:00,  4.95it/s]"
          ]
        },
        {
          "output_type": "stream",
          "name": "stdout",
          "text": [
            "train Loss: 0.0870 Acc: 0.9665 CD Loss: 0.0000\n"
          ]
        },
        {
          "output_type": "stream",
          "name": "stderr",
          "text": [
            "\n",
            "100%|██████████| 17/17 [00:03<00:00,  5.10it/s]"
          ]
        },
        {
          "output_type": "stream",
          "name": "stdout",
          "text": [
            "val Loss: 0.7720 Acc: 0.7008 CD Loss: 0.0000\n",
            "Epoch 5/100\n",
            "----------\n"
          ]
        },
        {
          "output_type": "stream",
          "name": "stderr",
          "text": [
            "\n",
            "100%|██████████| 75/75 [00:15<00:00,  4.95it/s]"
          ]
        },
        {
          "output_type": "stream",
          "name": "stdout",
          "text": [
            "train Loss: 0.0824 Acc: 0.9671 CD Loss: 0.0000\n"
          ]
        },
        {
          "output_type": "stream",
          "name": "stderr",
          "text": [
            "\n",
            "100%|██████████| 17/17 [00:03<00:00,  4.87it/s]\n"
          ]
        },
        {
          "output_type": "stream",
          "name": "stdout",
          "text": [
            "val Loss: 0.7706 Acc: 0.7017 CD Loss: 0.0000\n",
            "Epoch 6/100\n",
            "----------\n"
          ]
        },
        {
          "output_type": "stream",
          "name": "stderr",
          "text": [
            "100%|██████████| 75/75 [00:15<00:00,  4.87it/s]"
          ]
        },
        {
          "output_type": "stream",
          "name": "stdout",
          "text": [
            "train Loss: 0.0787 Acc: 0.9690 CD Loss: 0.0000\n"
          ]
        },
        {
          "output_type": "stream",
          "name": "stderr",
          "text": [
            "\n",
            "100%|██████████| 17/17 [00:03<00:00,  5.29it/s]"
          ]
        },
        {
          "output_type": "stream",
          "name": "stdout",
          "text": [
            "val Loss: 0.7584 Acc: 0.7083 CD Loss: 0.0000\n",
            "Epoch 7/100\n",
            "----------\n"
          ]
        },
        {
          "output_type": "stream",
          "name": "stderr",
          "text": [
            "\n",
            "100%|██████████| 75/75 [00:15<00:00,  4.85it/s]"
          ]
        },
        {
          "output_type": "stream",
          "name": "stdout",
          "text": [
            "train Loss: 0.0735 Acc: 0.9692 CD Loss: 0.0000\n"
          ]
        },
        {
          "output_type": "stream",
          "name": "stderr",
          "text": [
            "\n",
            "100%|██████████| 17/17 [00:03<00:00,  4.86it/s]"
          ]
        },
        {
          "output_type": "stream",
          "name": "stdout",
          "text": [
            "val Loss: 0.6906 Acc: 0.7339 CD Loss: 0.0000\n",
            "Epoch 8/100\n",
            "----------\n"
          ]
        },
        {
          "output_type": "stream",
          "name": "stderr",
          "text": [
            "\n",
            "100%|██████████| 75/75 [00:15<00:00,  4.94it/s]"
          ]
        },
        {
          "output_type": "stream",
          "name": "stdout",
          "text": [
            "train Loss: 0.0753 Acc: 0.9679 CD Loss: 0.0000\n"
          ]
        },
        {
          "output_type": "stream",
          "name": "stderr",
          "text": [
            "\n",
            "100%|██████████| 17/17 [00:03<00:00,  5.06it/s]"
          ]
        },
        {
          "output_type": "stream",
          "name": "stdout",
          "text": [
            "val Loss: 0.6861 Acc: 0.7348 CD Loss: 0.0000\n",
            "Epoch 9/100\n",
            "----------\n"
          ]
        },
        {
          "output_type": "stream",
          "name": "stderr",
          "text": [
            "\n",
            "100%|██████████| 75/75 [00:15<00:00,  4.99it/s]"
          ]
        },
        {
          "output_type": "stream",
          "name": "stdout",
          "text": [
            "train Loss: 0.0715 Acc: 0.9698 CD Loss: 0.0000\n"
          ]
        },
        {
          "output_type": "stream",
          "name": "stderr",
          "text": [
            "\n",
            "100%|██████████| 17/17 [00:03<00:00,  5.09it/s]"
          ]
        },
        {
          "output_type": "stream",
          "name": "stdout",
          "text": [
            "val Loss: 0.6455 Acc: 0.7509 CD Loss: 0.0000\n",
            "Epoch 10/100\n",
            "----------\n"
          ]
        },
        {
          "output_type": "stream",
          "name": "stderr",
          "text": [
            "\n",
            "100%|██████████| 75/75 [00:15<00:00,  4.94it/s]"
          ]
        },
        {
          "output_type": "stream",
          "name": "stdout",
          "text": [
            "train Loss: 0.0718 Acc: 0.9719 CD Loss: 0.0000\n"
          ]
        },
        {
          "output_type": "stream",
          "name": "stderr",
          "text": [
            "\n",
            "100%|██████████| 17/17 [00:03<00:00,  5.21it/s]\n"
          ]
        },
        {
          "output_type": "stream",
          "name": "stdout",
          "text": [
            "val Loss: 0.8555 Acc: 0.6941 CD Loss: 0.0000\n",
            "Epoch 11/100\n",
            "----------\n"
          ]
        },
        {
          "output_type": "stream",
          "name": "stderr",
          "text": [
            "100%|██████████| 75/75 [00:15<00:00,  4.87it/s]"
          ]
        },
        {
          "output_type": "stream",
          "name": "stdout",
          "text": [
            "train Loss: 0.0688 Acc: 0.9703 CD Loss: 0.0000\n"
          ]
        },
        {
          "output_type": "stream",
          "name": "stderr",
          "text": [
            "\n",
            "100%|██████████| 17/17 [00:03<00:00,  5.02it/s]"
          ]
        },
        {
          "output_type": "stream",
          "name": "stdout",
          "text": [
            "val Loss: 0.7628 Acc: 0.7206 CD Loss: 0.0000\n",
            "Epoch 12/100\n",
            "----------\n"
          ]
        },
        {
          "output_type": "stream",
          "name": "stderr",
          "text": [
            "\n",
            "100%|██████████| 75/75 [00:15<00:00,  4.92it/s]"
          ]
        },
        {
          "output_type": "stream",
          "name": "stdout",
          "text": [
            "train Loss: 0.0625 Acc: 0.9749 CD Loss: 0.0000\n"
          ]
        },
        {
          "output_type": "stream",
          "name": "stderr",
          "text": [
            "\n",
            "100%|██████████| 17/17 [00:03<00:00,  4.42it/s]"
          ]
        },
        {
          "output_type": "stream",
          "name": "stdout",
          "text": [
            "val Loss: 0.7152 Acc: 0.7339 CD Loss: 0.0000\n",
            "Epoch 13/100\n",
            "----------\n"
          ]
        },
        {
          "output_type": "stream",
          "name": "stderr",
          "text": [
            "\n",
            "100%|██████████| 75/75 [00:15<00:00,  4.94it/s]"
          ]
        },
        {
          "output_type": "stream",
          "name": "stdout",
          "text": [
            "train Loss: 0.0678 Acc: 0.9730 CD Loss: 0.0000\n"
          ]
        },
        {
          "output_type": "stream",
          "name": "stderr",
          "text": [
            "\n",
            "100%|██████████| 17/17 [00:03<00:00,  5.02it/s]"
          ]
        },
        {
          "output_type": "stream",
          "name": "stdout",
          "text": [
            "val Loss: 0.7198 Acc: 0.7311 CD Loss: 0.0000\n",
            "Epoch 14/100\n",
            "----------\n"
          ]
        },
        {
          "output_type": "stream",
          "name": "stderr",
          "text": [
            "\n",
            "100%|██████████| 75/75 [00:15<00:00,  4.98it/s]"
          ]
        },
        {
          "output_type": "stream",
          "name": "stdout",
          "text": [
            "train Loss: 0.0604 Acc: 0.9753 CD Loss: 0.0000\n"
          ]
        },
        {
          "output_type": "stream",
          "name": "stderr",
          "text": [
            "\n",
            "100%|██████████| 17/17 [00:03<00:00,  5.12it/s]"
          ]
        },
        {
          "output_type": "stream",
          "name": "stdout",
          "text": [
            "val Loss: 0.7151 Acc: 0.7320 CD Loss: 0.0000\n",
            "Epoch 15/100\n",
            "----------\n"
          ]
        },
        {
          "output_type": "stream",
          "name": "stderr",
          "text": [
            "\n",
            "100%|██████████| 75/75 [00:14<00:00,  5.08it/s]"
          ]
        },
        {
          "output_type": "stream",
          "name": "stdout",
          "text": [
            "train Loss: 0.0636 Acc: 0.9753 CD Loss: 0.0000\n"
          ]
        },
        {
          "output_type": "stream",
          "name": "stderr",
          "text": [
            "\n",
            "100%|██████████| 17/17 [00:03<00:00,  5.19it/s]\n"
          ]
        },
        {
          "output_type": "stream",
          "name": "stdout",
          "text": [
            "val Loss: 0.7178 Acc: 0.7311 CD Loss: 0.0000\n",
            "Epoch 16/100\n",
            "----------\n"
          ]
        },
        {
          "output_type": "stream",
          "name": "stderr",
          "text": [
            "100%|██████████| 75/75 [00:15<00:00,  4.89it/s]"
          ]
        },
        {
          "output_type": "stream",
          "name": "stdout",
          "text": [
            "train Loss: 0.0622 Acc: 0.9745 CD Loss: 0.0000\n"
          ]
        },
        {
          "output_type": "stream",
          "name": "stderr",
          "text": [
            "\n",
            "100%|██████████| 17/17 [00:03<00:00,  4.98it/s]"
          ]
        },
        {
          "output_type": "stream",
          "name": "stdout",
          "text": [
            "val Loss: 0.7048 Acc: 0.7348 CD Loss: 0.0000\n",
            "Epoch 17/100\n",
            "----------\n"
          ]
        },
        {
          "output_type": "stream",
          "name": "stderr",
          "text": [
            "\n",
            "100%|██████████| 75/75 [00:15<00:00,  4.79it/s]"
          ]
        },
        {
          "output_type": "stream",
          "name": "stdout",
          "text": [
            "train Loss: 0.0649 Acc: 0.9747 CD Loss: 0.0000\n"
          ]
        },
        {
          "output_type": "stream",
          "name": "stderr",
          "text": [
            "\n",
            "100%|██████████| 17/17 [00:03<00:00,  5.19it/s]"
          ]
        },
        {
          "output_type": "stream",
          "name": "stdout",
          "text": [
            "val Loss: 0.7082 Acc: 0.7339 CD Loss: 0.0000\n",
            "Epoch 18/100\n",
            "----------\n"
          ]
        },
        {
          "output_type": "stream",
          "name": "stderr",
          "text": [
            "\n",
            "100%|██████████| 75/75 [00:15<00:00,  4.88it/s]"
          ]
        },
        {
          "output_type": "stream",
          "name": "stdout",
          "text": [
            "train Loss: 0.0609 Acc: 0.9747 CD Loss: 0.0000\n"
          ]
        },
        {
          "output_type": "stream",
          "name": "stderr",
          "text": [
            "\n",
            "100%|██████████| 17/17 [00:03<00:00,  4.77it/s]\n"
          ]
        },
        {
          "output_type": "stream",
          "name": "stdout",
          "text": [
            "val Loss: 0.6848 Acc: 0.7443 CD Loss: 0.0000\n",
            "Epoch 19/100\n",
            "----------\n"
          ]
        },
        {
          "output_type": "stream",
          "name": "stderr",
          "text": [
            "100%|██████████| 75/75 [00:15<00:00,  4.91it/s]"
          ]
        },
        {
          "output_type": "stream",
          "name": "stdout",
          "text": [
            "train Loss: 0.0635 Acc: 0.9755 CD Loss: 0.0000\n"
          ]
        },
        {
          "output_type": "stream",
          "name": "stderr",
          "text": [
            "\n",
            "100%|██████████| 17/17 [00:03<00:00,  5.13it/s]"
          ]
        },
        {
          "output_type": "stream",
          "name": "stdout",
          "text": [
            "val Loss: 0.7024 Acc: 0.7377 CD Loss: 0.0000\n",
            "Epoch 20/100\n",
            "----------\n"
          ]
        },
        {
          "output_type": "stream",
          "name": "stderr",
          "text": [
            "\n",
            "100%|██████████| 75/75 [00:15<00:00,  4.98it/s]"
          ]
        },
        {
          "output_type": "stream",
          "name": "stdout",
          "text": [
            "train Loss: 0.0620 Acc: 0.9770 CD Loss: 0.0000\n"
          ]
        },
        {
          "output_type": "stream",
          "name": "stderr",
          "text": [
            "\n",
            "100%|██████████| 17/17 [00:03<00:00,  4.81it/s]\n"
          ]
        },
        {
          "output_type": "stream",
          "name": "stdout",
          "text": [
            "val Loss: 0.7083 Acc: 0.7320 CD Loss: 0.0000\n",
            "Epoch 21/100\n",
            "----------\n"
          ]
        },
        {
          "output_type": "stream",
          "name": "stderr",
          "text": [
            "100%|██████████| 75/75 [00:15<00:00,  4.93it/s]"
          ]
        },
        {
          "output_type": "stream",
          "name": "stdout",
          "text": [
            "train Loss: 0.0562 Acc: 0.9774 CD Loss: 0.0000\n"
          ]
        },
        {
          "output_type": "stream",
          "name": "stderr",
          "text": [
            "\n",
            "100%|██████████| 17/17 [00:03<00:00,  5.06it/s]"
          ]
        },
        {
          "output_type": "stream",
          "name": "stdout",
          "text": [
            "val Loss: 0.7056 Acc: 0.7348 CD Loss: 0.0000\n",
            "Epoch 22/100\n",
            "----------\n"
          ]
        },
        {
          "output_type": "stream",
          "name": "stderr",
          "text": [
            "\n",
            "100%|██████████| 75/75 [00:15<00:00,  4.76it/s]"
          ]
        },
        {
          "output_type": "stream",
          "name": "stdout",
          "text": [
            "train Loss: 0.0594 Acc: 0.9774 CD Loss: 0.0000\n"
          ]
        },
        {
          "output_type": "stream",
          "name": "stderr",
          "text": [
            "\n",
            "100%|██████████| 17/17 [00:03<00:00,  4.93it/s]"
          ]
        },
        {
          "output_type": "stream",
          "name": "stdout",
          "text": [
            "val Loss: 0.7032 Acc: 0.7358 CD Loss: 0.0000\n",
            "Epoch 23/100\n",
            "----------\n"
          ]
        },
        {
          "output_type": "stream",
          "name": "stderr",
          "text": [
            "\n",
            "100%|██████████| 75/75 [00:15<00:00,  4.98it/s]"
          ]
        },
        {
          "output_type": "stream",
          "name": "stdout",
          "text": [
            "train Loss: 0.0622 Acc: 0.9753 CD Loss: 0.0000\n"
          ]
        },
        {
          "output_type": "stream",
          "name": "stderr",
          "text": [
            "\n",
            "100%|██████████| 17/17 [00:03<00:00,  4.96it/s]"
          ]
        },
        {
          "output_type": "stream",
          "name": "stdout",
          "text": [
            "val Loss: 0.7060 Acc: 0.7348 CD Loss: 0.0000\n",
            "Epoch 24/100\n",
            "----------\n"
          ]
        },
        {
          "output_type": "stream",
          "name": "stderr",
          "text": [
            "\n",
            "100%|██████████| 75/75 [00:15<00:00,  4.98it/s]"
          ]
        },
        {
          "output_type": "stream",
          "name": "stdout",
          "text": [
            "train Loss: 0.0649 Acc: 0.9751 CD Loss: 0.0000\n"
          ]
        },
        {
          "output_type": "stream",
          "name": "stderr",
          "text": [
            "\n",
            "100%|██████████| 17/17 [00:03<00:00,  4.84it/s]"
          ]
        },
        {
          "output_type": "stream",
          "name": "stdout",
          "text": [
            "val Loss: 0.7044 Acc: 0.7358 CD Loss: 0.0000\n",
            "Epoch 25/100\n",
            "----------\n"
          ]
        },
        {
          "output_type": "stream",
          "name": "stderr",
          "text": [
            "\n",
            "100%|██████████| 75/75 [00:15<00:00,  4.98it/s]"
          ]
        },
        {
          "output_type": "stream",
          "name": "stdout",
          "text": [
            "train Loss: 0.0622 Acc: 0.9743 CD Loss: 0.0000\n"
          ]
        },
        {
          "output_type": "stream",
          "name": "stderr",
          "text": [
            "\n",
            "100%|██████████| 17/17 [00:03<00:00,  5.22it/s]\n"
          ]
        },
        {
          "output_type": "stream",
          "name": "stdout",
          "text": [
            "val Loss: 0.7015 Acc: 0.7358 CD Loss: 0.0000\n",
            "Epoch 26/100\n",
            "----------\n"
          ]
        },
        {
          "output_type": "stream",
          "name": "stderr",
          "text": [
            "100%|██████████| 75/75 [00:15<00:00,  4.90it/s]"
          ]
        },
        {
          "output_type": "stream",
          "name": "stdout",
          "text": [
            "train Loss: 0.0615 Acc: 0.9770 CD Loss: 0.0000\n"
          ]
        },
        {
          "output_type": "stream",
          "name": "stderr",
          "text": [
            "\n",
            "100%|██████████| 17/17 [00:03<00:00,  5.05it/s]"
          ]
        },
        {
          "output_type": "stream",
          "name": "stdout",
          "text": [
            "val Loss: 0.7008 Acc: 0.7358 CD Loss: 0.0000\n",
            "Epoch 27/100\n",
            "----------\n"
          ]
        },
        {
          "output_type": "stream",
          "name": "stderr",
          "text": [
            "\n",
            "100%|██████████| 75/75 [00:15<00:00,  4.95it/s]"
          ]
        },
        {
          "output_type": "stream",
          "name": "stdout",
          "text": [
            "train Loss: 0.0630 Acc: 0.9745 CD Loss: 0.0000\n"
          ]
        },
        {
          "output_type": "stream",
          "name": "stderr",
          "text": [
            "\n",
            "100%|██████████| 17/17 [00:03<00:00,  4.60it/s]"
          ]
        },
        {
          "output_type": "stream",
          "name": "stdout",
          "text": [
            "val Loss: 0.7007 Acc: 0.7367 CD Loss: 0.0000\n",
            "Epoch 28/100\n",
            "----------\n"
          ]
        },
        {
          "output_type": "stream",
          "name": "stderr",
          "text": [
            "\n",
            "100%|██████████| 75/75 [00:15<00:00,  4.98it/s]"
          ]
        },
        {
          "output_type": "stream",
          "name": "stdout",
          "text": [
            "train Loss: 0.0627 Acc: 0.9751 CD Loss: 0.0000\n"
          ]
        },
        {
          "output_type": "stream",
          "name": "stderr",
          "text": [
            "\n",
            "100%|██████████| 17/17 [00:03<00:00,  5.07it/s]"
          ]
        },
        {
          "output_type": "stream",
          "name": "stdout",
          "text": [
            "val Loss: 0.7011 Acc: 0.7367 CD Loss: 0.0000\n",
            "Epoch 29/100\n",
            "----------\n"
          ]
        },
        {
          "output_type": "stream",
          "name": "stderr",
          "text": [
            "\n",
            "100%|██████████| 75/75 [00:15<00:00,  4.96it/s]"
          ]
        },
        {
          "output_type": "stream",
          "name": "stdout",
          "text": [
            "train Loss: 0.0611 Acc: 0.9768 CD Loss: 0.0000\n"
          ]
        },
        {
          "output_type": "stream",
          "name": "stderr",
          "text": [
            "\n",
            "100%|██████████| 17/17 [00:03<00:00,  5.01it/s]"
          ]
        },
        {
          "output_type": "stream",
          "name": "stdout",
          "text": [
            "val Loss: 0.7013 Acc: 0.7367 CD Loss: 0.0000\n",
            "Epoch 30/100\n",
            "----------\n"
          ]
        },
        {
          "output_type": "stream",
          "name": "stderr",
          "text": [
            "\n",
            "100%|██████████| 75/75 [00:15<00:00,  4.91it/s]"
          ]
        },
        {
          "output_type": "stream",
          "name": "stdout",
          "text": [
            "train Loss: 0.0579 Acc: 0.9759 CD Loss: 0.0000\n"
          ]
        },
        {
          "output_type": "stream",
          "name": "stderr",
          "text": [
            "\n",
            "100%|██████████| 17/17 [00:03<00:00,  5.20it/s]\n"
          ]
        },
        {
          "output_type": "stream",
          "name": "stdout",
          "text": [
            "val Loss: 0.7013 Acc: 0.7377 CD Loss: 0.0000\n",
            "Epoch 31/100\n",
            "----------\n"
          ]
        },
        {
          "output_type": "stream",
          "name": "stderr",
          "text": [
            "100%|██████████| 75/75 [00:15<00:00,  4.86it/s]"
          ]
        },
        {
          "output_type": "stream",
          "name": "stdout",
          "text": [
            "train Loss: 0.0638 Acc: 0.9757 CD Loss: 0.0000\n"
          ]
        },
        {
          "output_type": "stream",
          "name": "stderr",
          "text": [
            "\n",
            "100%|██████████| 17/17 [00:03<00:00,  5.19it/s]"
          ]
        },
        {
          "output_type": "stream",
          "name": "stdout",
          "text": [
            "val Loss: 0.7013 Acc: 0.7377 CD Loss: 0.0000\n",
            "Epoch 32/100\n",
            "----------\n"
          ]
        },
        {
          "output_type": "stream",
          "name": "stderr",
          "text": [
            "\n",
            "100%|██████████| 75/75 [00:15<00:00,  4.86it/s]"
          ]
        },
        {
          "output_type": "stream",
          "name": "stdout",
          "text": [
            "train Loss: 0.0649 Acc: 0.9730 CD Loss: 0.0000\n"
          ]
        },
        {
          "output_type": "stream",
          "name": "stderr",
          "text": [
            "\n",
            "100%|██████████| 17/17 [00:03<00:00,  5.07it/s]"
          ]
        },
        {
          "output_type": "stream",
          "name": "stdout",
          "text": [
            "val Loss: 0.7013 Acc: 0.7367 CD Loss: 0.0000\n",
            "Epoch 33/100\n",
            "----------\n"
          ]
        },
        {
          "output_type": "stream",
          "name": "stderr",
          "text": [
            "\n",
            "100%|██████████| 75/75 [00:14<00:00,  5.00it/s]"
          ]
        },
        {
          "output_type": "stream",
          "name": "stdout",
          "text": [
            "train Loss: 0.0628 Acc: 0.9738 CD Loss: 0.0000\n"
          ]
        },
        {
          "output_type": "stream",
          "name": "stderr",
          "text": [
            "\n",
            "100%|██████████| 17/17 [00:03<00:00,  4.97it/s]"
          ]
        },
        {
          "output_type": "stream",
          "name": "stdout",
          "text": [
            "val Loss: 0.7013 Acc: 0.7377 CD Loss: 0.0000\n",
            "Epoch 34/100\n",
            "----------\n"
          ]
        },
        {
          "output_type": "stream",
          "name": "stderr",
          "text": [
            "\n",
            "100%|██████████| 75/75 [00:14<00:00,  5.02it/s]"
          ]
        },
        {
          "output_type": "stream",
          "name": "stdout",
          "text": [
            "train Loss: 0.0617 Acc: 0.9751 CD Loss: 0.0000\n"
          ]
        },
        {
          "output_type": "stream",
          "name": "stderr",
          "text": [
            "\n",
            "100%|██████████| 17/17 [00:03<00:00,  5.04it/s]"
          ]
        },
        {
          "output_type": "stream",
          "name": "stdout",
          "text": [
            "val Loss: 0.7011 Acc: 0.7377 CD Loss: 0.0000\n",
            "Epoch 35/100\n",
            "----------\n"
          ]
        },
        {
          "output_type": "stream",
          "name": "stderr",
          "text": [
            "\n",
            "100%|██████████| 75/75 [00:15<00:00,  4.84it/s]"
          ]
        },
        {
          "output_type": "stream",
          "name": "stdout",
          "text": [
            "train Loss: 0.0632 Acc: 0.9745 CD Loss: 0.0000\n"
          ]
        },
        {
          "output_type": "stream",
          "name": "stderr",
          "text": [
            "\n",
            "100%|██████████| 17/17 [00:03<00:00,  4.80it/s]\n"
          ]
        },
        {
          "output_type": "stream",
          "name": "stdout",
          "text": [
            "val Loss: 0.7009 Acc: 0.7377 CD Loss: 0.0000\n",
            "Epoch 36/100\n",
            "----------\n"
          ]
        },
        {
          "output_type": "stream",
          "name": "stderr",
          "text": [
            "100%|██████████| 75/75 [00:15<00:00,  4.91it/s]"
          ]
        },
        {
          "output_type": "stream",
          "name": "stdout",
          "text": [
            "train Loss: 0.0615 Acc: 0.9770 CD Loss: 0.0000\n"
          ]
        },
        {
          "output_type": "stream",
          "name": "stderr",
          "text": [
            "\n",
            "100%|██████████| 17/17 [00:03<00:00,  5.17it/s]"
          ]
        },
        {
          "output_type": "stream",
          "name": "stdout",
          "text": [
            "val Loss: 0.7010 Acc: 0.7377 CD Loss: 0.0000\n",
            "Epoch 37/100\n",
            "----------\n"
          ]
        },
        {
          "output_type": "stream",
          "name": "stderr",
          "text": [
            "\n",
            "100%|██████████| 75/75 [00:15<00:00,  4.85it/s]"
          ]
        },
        {
          "output_type": "stream",
          "name": "stdout",
          "text": [
            "train Loss: 0.0654 Acc: 0.9722 CD Loss: 0.0000\n"
          ]
        },
        {
          "output_type": "stream",
          "name": "stderr",
          "text": [
            "\n",
            "100%|██████████| 17/17 [00:03<00:00,  4.93it/s]"
          ]
        },
        {
          "output_type": "stream",
          "name": "stdout",
          "text": [
            "val Loss: 0.7010 Acc: 0.7377 CD Loss: 0.0000\n",
            "Epoch 38/100\n",
            "----------\n"
          ]
        },
        {
          "output_type": "stream",
          "name": "stderr",
          "text": [
            "\n",
            "100%|██████████| 75/75 [00:15<00:00,  4.91it/s]"
          ]
        },
        {
          "output_type": "stream",
          "name": "stdout",
          "text": [
            "train Loss: 0.0619 Acc: 0.9736 CD Loss: 0.0000\n"
          ]
        },
        {
          "output_type": "stream",
          "name": "stderr",
          "text": [
            "\n",
            "100%|██████████| 17/17 [00:03<00:00,  5.04it/s]"
          ]
        },
        {
          "output_type": "stream",
          "name": "stdout",
          "text": [
            "val Loss: 0.7009 Acc: 0.7377 CD Loss: 0.0000\n",
            "Epoch 39/100\n",
            "----------\n"
          ]
        },
        {
          "output_type": "stream",
          "name": "stderr",
          "text": [
            "\n",
            "100%|██████████| 75/75 [00:15<00:00,  4.98it/s]"
          ]
        },
        {
          "output_type": "stream",
          "name": "stdout",
          "text": [
            "train Loss: 0.0581 Acc: 0.9774 CD Loss: 0.0000\n"
          ]
        },
        {
          "output_type": "stream",
          "name": "stderr",
          "text": [
            "\n",
            "100%|██████████| 17/17 [00:03<00:00,  4.94it/s]"
          ]
        },
        {
          "output_type": "stream",
          "name": "stdout",
          "text": [
            "val Loss: 0.7005 Acc: 0.7377 CD Loss: 0.0000\n",
            "Epoch 40/100\n",
            "----------\n"
          ]
        },
        {
          "output_type": "stream",
          "name": "stderr",
          "text": [
            "\n",
            "100%|██████████| 75/75 [00:15<00:00,  4.94it/s]"
          ]
        },
        {
          "output_type": "stream",
          "name": "stdout",
          "text": [
            "train Loss: 0.0615 Acc: 0.9753 CD Loss: 0.0000\n"
          ]
        },
        {
          "output_type": "stream",
          "name": "stderr",
          "text": [
            "\n",
            "100%|██████████| 17/17 [00:03<00:00,  5.29it/s]\n"
          ]
        },
        {
          "output_type": "stream",
          "name": "stdout",
          "text": [
            "val Loss: 0.7004 Acc: 0.7377 CD Loss: 0.0000\n",
            "Epoch 41/100\n",
            "----------\n"
          ]
        },
        {
          "output_type": "stream",
          "name": "stderr",
          "text": [
            "100%|██████████| 75/75 [00:15<00:00,  4.93it/s]"
          ]
        },
        {
          "output_type": "stream",
          "name": "stdout",
          "text": [
            "train Loss: 0.0590 Acc: 0.9762 CD Loss: 0.0000\n"
          ]
        },
        {
          "output_type": "stream",
          "name": "stderr",
          "text": [
            "\n",
            "100%|██████████| 17/17 [00:03<00:00,  4.93it/s]"
          ]
        },
        {
          "output_type": "stream",
          "name": "stdout",
          "text": [
            "val Loss: 0.7004 Acc: 0.7377 CD Loss: 0.0000\n",
            "Epoch 42/100\n",
            "----------\n"
          ]
        },
        {
          "output_type": "stream",
          "name": "stderr",
          "text": [
            "\n",
            "100%|██████████| 75/75 [00:15<00:00,  4.77it/s]"
          ]
        },
        {
          "output_type": "stream",
          "name": "stdout",
          "text": [
            "train Loss: 0.0617 Acc: 0.9743 CD Loss: 0.0000\n"
          ]
        },
        {
          "output_type": "stream",
          "name": "stderr",
          "text": [
            "\n",
            "100%|██████████| 17/17 [00:03<00:00,  4.96it/s]"
          ]
        },
        {
          "output_type": "stream",
          "name": "stdout",
          "text": [
            "val Loss: 0.7004 Acc: 0.7377 CD Loss: 0.0000\n",
            "Epoch 43/100\n",
            "----------\n"
          ]
        },
        {
          "output_type": "stream",
          "name": "stderr",
          "text": [
            "\n",
            "100%|██████████| 75/75 [00:15<00:00,  5.00it/s]"
          ]
        },
        {
          "output_type": "stream",
          "name": "stdout",
          "text": [
            "train Loss: 0.0588 Acc: 0.9757 CD Loss: 0.0000\n"
          ]
        },
        {
          "output_type": "stream",
          "name": "stderr",
          "text": [
            "\n",
            "100%|██████████| 17/17 [00:03<00:00,  4.90it/s]"
          ]
        },
        {
          "output_type": "stream",
          "name": "stdout",
          "text": [
            "val Loss: 0.7004 Acc: 0.7377 CD Loss: 0.0000\n",
            "Epoch 44/100\n",
            "----------\n"
          ]
        },
        {
          "output_type": "stream",
          "name": "stderr",
          "text": [
            "\n",
            "100%|██████████| 75/75 [00:15<00:00,  4.90it/s]"
          ]
        },
        {
          "output_type": "stream",
          "name": "stdout",
          "text": [
            "train Loss: 0.0587 Acc: 0.9783 CD Loss: 0.0000\n"
          ]
        },
        {
          "output_type": "stream",
          "name": "stderr",
          "text": [
            "\n",
            "100%|██████████| 17/17 [00:03<00:00,  5.07it/s]"
          ]
        },
        {
          "output_type": "stream",
          "name": "stdout",
          "text": [
            "val Loss: 0.7004 Acc: 0.7377 CD Loss: 0.0000\n",
            "Epoch 45/100\n",
            "----------\n"
          ]
        },
        {
          "output_type": "stream",
          "name": "stderr",
          "text": [
            "\n",
            "100%|██████████| 75/75 [00:15<00:00,  4.96it/s]"
          ]
        },
        {
          "output_type": "stream",
          "name": "stdout",
          "text": [
            "train Loss: 0.0621 Acc: 0.9774 CD Loss: 0.0000\n"
          ]
        },
        {
          "output_type": "stream",
          "name": "stderr",
          "text": [
            "\n",
            "100%|██████████| 17/17 [00:03<00:00,  5.01it/s]\n"
          ]
        },
        {
          "output_type": "stream",
          "name": "stdout",
          "text": [
            "val Loss: 0.7004 Acc: 0.7377 CD Loss: 0.0000\n",
            "Epoch 46/100\n",
            "----------\n"
          ]
        },
        {
          "output_type": "stream",
          "name": "stderr",
          "text": [
            "100%|██████████| 75/75 [00:15<00:00,  4.83it/s]"
          ]
        },
        {
          "output_type": "stream",
          "name": "stdout",
          "text": [
            "train Loss: 0.0606 Acc: 0.9751 CD Loss: 0.0000\n"
          ]
        },
        {
          "output_type": "stream",
          "name": "stderr",
          "text": [
            "\n",
            "100%|██████████| 17/17 [00:03<00:00,  4.95it/s]"
          ]
        },
        {
          "output_type": "stream",
          "name": "stdout",
          "text": [
            "val Loss: 0.7004 Acc: 0.7377 CD Loss: 0.0000\n",
            "Epoch 47/100\n",
            "----------\n"
          ]
        },
        {
          "output_type": "stream",
          "name": "stderr",
          "text": [
            "\n",
            "100%|██████████| 75/75 [00:15<00:00,  4.77it/s]"
          ]
        },
        {
          "output_type": "stream",
          "name": "stdout",
          "text": [
            "train Loss: 0.0597 Acc: 0.9753 CD Loss: 0.0000\n"
          ]
        },
        {
          "output_type": "stream",
          "name": "stderr",
          "text": [
            "\n",
            "100%|██████████| 17/17 [00:03<00:00,  5.09it/s]"
          ]
        },
        {
          "output_type": "stream",
          "name": "stdout",
          "text": [
            "val Loss: 0.7004 Acc: 0.7377 CD Loss: 0.0000\n",
            "Epoch 48/100\n",
            "----------\n"
          ]
        },
        {
          "output_type": "stream",
          "name": "stderr",
          "text": [
            "\n",
            "100%|██████████| 75/75 [00:15<00:00,  4.97it/s]"
          ]
        },
        {
          "output_type": "stream",
          "name": "stdout",
          "text": [
            "train Loss: 0.0644 Acc: 0.9726 CD Loss: 0.0000\n"
          ]
        },
        {
          "output_type": "stream",
          "name": "stderr",
          "text": [
            "\n",
            "100%|██████████| 17/17 [00:03<00:00,  5.09it/s]"
          ]
        },
        {
          "output_type": "stream",
          "name": "stdout",
          "text": [
            "val Loss: 0.7003 Acc: 0.7377 CD Loss: 0.0000\n",
            "Epoch 49/100\n",
            "----------\n"
          ]
        },
        {
          "output_type": "stream",
          "name": "stderr",
          "text": [
            "\n",
            "100%|██████████| 75/75 [00:15<00:00,  4.96it/s]"
          ]
        },
        {
          "output_type": "stream",
          "name": "stdout",
          "text": [
            "train Loss: 0.0537 Acc: 0.9802 CD Loss: 0.0000\n"
          ]
        },
        {
          "output_type": "stream",
          "name": "stderr",
          "text": [
            "\n",
            "100%|██████████| 17/17 [00:03<00:00,  5.28it/s]"
          ]
        },
        {
          "output_type": "stream",
          "name": "stdout",
          "text": [
            "val Loss: 0.7003 Acc: 0.7377 CD Loss: 0.0000\n",
            "Epoch 50/100\n",
            "----------\n"
          ]
        },
        {
          "output_type": "stream",
          "name": "stderr",
          "text": [
            "\n",
            "100%|██████████| 75/75 [00:15<00:00,  4.98it/s]"
          ]
        },
        {
          "output_type": "stream",
          "name": "stdout",
          "text": [
            "train Loss: 0.0604 Acc: 0.9759 CD Loss: 0.0000\n"
          ]
        },
        {
          "output_type": "stream",
          "name": "stderr",
          "text": [
            "\n",
            "100%|██████████| 17/17 [00:03<00:00,  5.03it/s]\n"
          ]
        },
        {
          "output_type": "stream",
          "name": "stdout",
          "text": [
            "val Loss: 0.7003 Acc: 0.7377 CD Loss: 0.0000\n",
            "Epoch 51/100\n",
            "----------\n"
          ]
        },
        {
          "output_type": "stream",
          "name": "stderr",
          "text": [
            "100%|██████████| 75/75 [00:15<00:00,  4.85it/s]"
          ]
        },
        {
          "output_type": "stream",
          "name": "stdout",
          "text": [
            "train Loss: 0.0614 Acc: 0.9766 CD Loss: 0.0000\n"
          ]
        },
        {
          "output_type": "stream",
          "name": "stderr",
          "text": [
            "\n",
            "100%|██████████| 17/17 [00:03<00:00,  5.05it/s]"
          ]
        },
        {
          "output_type": "stream",
          "name": "stdout",
          "text": [
            "val Loss: 0.7003 Acc: 0.7377 CD Loss: 0.0000\n",
            "Epoch 52/100\n",
            "----------\n"
          ]
        },
        {
          "output_type": "stream",
          "name": "stderr",
          "text": [
            "\n",
            "100%|██████████| 75/75 [00:15<00:00,  4.78it/s]"
          ]
        },
        {
          "output_type": "stream",
          "name": "stdout",
          "text": [
            "train Loss: 0.0661 Acc: 0.9743 CD Loss: 0.0000\n"
          ]
        },
        {
          "output_type": "stream",
          "name": "stderr",
          "text": [
            "\n",
            "100%|██████████| 17/17 [00:03<00:00,  4.89it/s]\n"
          ]
        },
        {
          "output_type": "stream",
          "name": "stdout",
          "text": [
            "val Loss: 0.7003 Acc: 0.7377 CD Loss: 0.0000\n",
            "Epoch 53/100\n",
            "----------\n"
          ]
        },
        {
          "output_type": "stream",
          "name": "stderr",
          "text": [
            "100%|██████████| 75/75 [00:15<00:00,  4.98it/s]"
          ]
        },
        {
          "output_type": "stream",
          "name": "stdout",
          "text": [
            "train Loss: 0.0618 Acc: 0.9770 CD Loss: 0.0000\n"
          ]
        },
        {
          "output_type": "stream",
          "name": "stderr",
          "text": [
            "\n",
            "100%|██████████| 17/17 [00:03<00:00,  5.10it/s]"
          ]
        },
        {
          "output_type": "stream",
          "name": "stdout",
          "text": [
            "val Loss: 0.7003 Acc: 0.7377 CD Loss: 0.0000\n",
            "Epoch 54/100\n",
            "----------\n"
          ]
        },
        {
          "output_type": "stream",
          "name": "stderr",
          "text": [
            "\n",
            "100%|██████████| 75/75 [00:14<00:00,  5.06it/s]"
          ]
        },
        {
          "output_type": "stream",
          "name": "stdout",
          "text": [
            "train Loss: 0.0586 Acc: 0.9753 CD Loss: 0.0000\n"
          ]
        },
        {
          "output_type": "stream",
          "name": "stderr",
          "text": [
            "\n",
            "100%|██████████| 17/17 [00:03<00:00,  4.83it/s]"
          ]
        },
        {
          "output_type": "stream",
          "name": "stdout",
          "text": [
            "val Loss: 0.7003 Acc: 0.7377 CD Loss: 0.0000\n",
            "Epoch 55/100\n",
            "----------\n"
          ]
        },
        {
          "output_type": "stream",
          "name": "stderr",
          "text": [
            "\n",
            "100%|██████████| 75/75 [00:15<00:00,  4.99it/s]"
          ]
        },
        {
          "output_type": "stream",
          "name": "stdout",
          "text": [
            "train Loss: 0.0627 Acc: 0.9741 CD Loss: 0.0000\n"
          ]
        },
        {
          "output_type": "stream",
          "name": "stderr",
          "text": [
            "\n",
            "100%|██████████| 17/17 [00:03<00:00,  5.05it/s]\n"
          ]
        },
        {
          "output_type": "stream",
          "name": "stdout",
          "text": [
            "val Loss: 0.7003 Acc: 0.7377 CD Loss: 0.0000\n",
            "Epoch 56/100\n",
            "----------\n"
          ]
        },
        {
          "output_type": "stream",
          "name": "stderr",
          "text": [
            "100%|██████████| 75/75 [00:15<00:00,  4.91it/s]"
          ]
        },
        {
          "output_type": "stream",
          "name": "stdout",
          "text": [
            "train Loss: 0.0584 Acc: 0.9789 CD Loss: 0.0000\n"
          ]
        },
        {
          "output_type": "stream",
          "name": "stderr",
          "text": [
            "\n",
            "100%|██████████| 17/17 [00:03<00:00,  4.87it/s]"
          ]
        },
        {
          "output_type": "stream",
          "name": "stdout",
          "text": [
            "val Loss: 0.7003 Acc: 0.7377 CD Loss: 0.0000\n",
            "Epoch 57/100\n",
            "----------\n"
          ]
        },
        {
          "output_type": "stream",
          "name": "stderr",
          "text": [
            "\n",
            "100%|██████████| 75/75 [00:15<00:00,  4.85it/s]"
          ]
        },
        {
          "output_type": "stream",
          "name": "stdout",
          "text": [
            "train Loss: 0.0590 Acc: 0.9749 CD Loss: 0.0000\n"
          ]
        },
        {
          "output_type": "stream",
          "name": "stderr",
          "text": [
            "\n",
            "100%|██████████| 17/17 [00:03<00:00,  5.14it/s]"
          ]
        },
        {
          "output_type": "stream",
          "name": "stdout",
          "text": [
            "val Loss: 0.7003 Acc: 0.7377 CD Loss: 0.0000\n",
            "Epoch 58/100\n",
            "----------\n"
          ]
        },
        {
          "output_type": "stream",
          "name": "stderr",
          "text": [
            "\n",
            "100%|██████████| 75/75 [00:14<00:00,  5.04it/s]"
          ]
        },
        {
          "output_type": "stream",
          "name": "stdout",
          "text": [
            "train Loss: 0.0659 Acc: 0.9732 CD Loss: 0.0000\n"
          ]
        },
        {
          "output_type": "stream",
          "name": "stderr",
          "text": [
            "\n",
            "100%|██████████| 17/17 [00:03<00:00,  5.01it/s]"
          ]
        },
        {
          "output_type": "stream",
          "name": "stdout",
          "text": [
            "val Loss: 0.7003 Acc: 0.7377 CD Loss: 0.0000\n",
            "Epoch 59/100\n",
            "----------\n"
          ]
        },
        {
          "output_type": "stream",
          "name": "stderr",
          "text": [
            "\n",
            "100%|██████████| 75/75 [00:15<00:00,  4.93it/s]"
          ]
        },
        {
          "output_type": "stream",
          "name": "stdout",
          "text": [
            "train Loss: 0.0619 Acc: 0.9749 CD Loss: 0.0000\n"
          ]
        },
        {
          "output_type": "stream",
          "name": "stderr",
          "text": [
            "\n",
            "100%|██████████| 17/17 [00:03<00:00,  5.15it/s]"
          ]
        },
        {
          "output_type": "stream",
          "name": "stdout",
          "text": [
            "val Loss: 0.7003 Acc: 0.7377 CD Loss: 0.0000\n",
            "Epoch 60/100\n",
            "----------\n"
          ]
        },
        {
          "output_type": "stream",
          "name": "stderr",
          "text": [
            "\n",
            "100%|██████████| 75/75 [00:14<00:00,  5.02it/s]"
          ]
        },
        {
          "output_type": "stream",
          "name": "stdout",
          "text": [
            "train Loss: 0.0618 Acc: 0.9766 CD Loss: 0.0000\n"
          ]
        },
        {
          "output_type": "stream",
          "name": "stderr",
          "text": [
            "\n",
            "100%|██████████| 17/17 [00:03<00:00,  5.00it/s]\n"
          ]
        },
        {
          "output_type": "stream",
          "name": "stdout",
          "text": [
            "val Loss: 0.7003 Acc: 0.7377 CD Loss: 0.0000\n",
            "Epoch 61/100\n",
            "----------\n"
          ]
        },
        {
          "output_type": "stream",
          "name": "stderr",
          "text": [
            "100%|██████████| 75/75 [00:15<00:00,  4.85it/s]"
          ]
        },
        {
          "output_type": "stream",
          "name": "stdout",
          "text": [
            "train Loss: 0.0609 Acc: 0.9770 CD Loss: 0.0000\n"
          ]
        },
        {
          "output_type": "stream",
          "name": "stderr",
          "text": [
            "\n",
            "100%|██████████| 17/17 [00:03<00:00,  5.08it/s]"
          ]
        },
        {
          "output_type": "stream",
          "name": "stdout",
          "text": [
            "val Loss: 0.7003 Acc: 0.7377 CD Loss: 0.0000\n",
            "Epoch 62/100\n",
            "----------\n"
          ]
        },
        {
          "output_type": "stream",
          "name": "stderr",
          "text": [
            "\n",
            "100%|██████████| 75/75 [00:15<00:00,  4.81it/s]"
          ]
        },
        {
          "output_type": "stream",
          "name": "stdout",
          "text": [
            "train Loss: 0.0623 Acc: 0.9755 CD Loss: 0.0000\n"
          ]
        },
        {
          "output_type": "stream",
          "name": "stderr",
          "text": [
            "\n",
            "100%|██████████| 17/17 [00:03<00:00,  5.05it/s]\n"
          ]
        },
        {
          "output_type": "stream",
          "name": "stdout",
          "text": [
            "val Loss: 0.7003 Acc: 0.7377 CD Loss: 0.0000\n",
            "Epoch 63/100\n",
            "----------\n"
          ]
        },
        {
          "output_type": "stream",
          "name": "stderr",
          "text": [
            "100%|██████████| 75/75 [00:15<00:00,  4.90it/s]"
          ]
        },
        {
          "output_type": "stream",
          "name": "stdout",
          "text": [
            "train Loss: 0.0605 Acc: 0.9762 CD Loss: 0.0000\n"
          ]
        },
        {
          "output_type": "stream",
          "name": "stderr",
          "text": [
            "\n",
            "100%|██████████| 17/17 [00:03<00:00,  5.12it/s]"
          ]
        },
        {
          "output_type": "stream",
          "name": "stdout",
          "text": [
            "val Loss: 0.7003 Acc: 0.7377 CD Loss: 0.0000\n",
            "Epoch 64/100\n",
            "----------\n"
          ]
        },
        {
          "output_type": "stream",
          "name": "stderr",
          "text": [
            "\n",
            "100%|██████████| 75/75 [00:15<00:00,  4.92it/s]"
          ]
        },
        {
          "output_type": "stream",
          "name": "stdout",
          "text": [
            "train Loss: 0.0568 Acc: 0.9770 CD Loss: 0.0000\n"
          ]
        },
        {
          "output_type": "stream",
          "name": "stderr",
          "text": [
            "\n",
            "100%|██████████| 17/17 [00:03<00:00,  4.93it/s]"
          ]
        },
        {
          "output_type": "stream",
          "name": "stdout",
          "text": [
            "val Loss: 0.7003 Acc: 0.7377 CD Loss: 0.0000\n",
            "Epoch 65/100\n",
            "----------\n"
          ]
        },
        {
          "output_type": "stream",
          "name": "stderr",
          "text": [
            "\n",
            "100%|██████████| 75/75 [00:15<00:00,  4.96it/s]"
          ]
        },
        {
          "output_type": "stream",
          "name": "stdout",
          "text": [
            "train Loss: 0.0616 Acc: 0.9772 CD Loss: 0.0000\n"
          ]
        },
        {
          "output_type": "stream",
          "name": "stderr",
          "text": [
            "\n",
            "100%|██████████| 17/17 [00:03<00:00,  5.01it/s]\n"
          ]
        },
        {
          "output_type": "stream",
          "name": "stdout",
          "text": [
            "val Loss: 0.7003 Acc: 0.7377 CD Loss: 0.0000\n",
            "Epoch 66/100\n",
            "----------\n"
          ]
        },
        {
          "output_type": "stream",
          "name": "stderr",
          "text": [
            "100%|██████████| 75/75 [00:15<00:00,  4.90it/s]"
          ]
        },
        {
          "output_type": "stream",
          "name": "stdout",
          "text": [
            "train Loss: 0.0629 Acc: 0.9741 CD Loss: 0.0000\n"
          ]
        },
        {
          "output_type": "stream",
          "name": "stderr",
          "text": [
            "\n",
            "100%|██████████| 17/17 [00:03<00:00,  5.27it/s]"
          ]
        },
        {
          "output_type": "stream",
          "name": "stdout",
          "text": [
            "val Loss: 0.7003 Acc: 0.7377 CD Loss: 0.0000\n",
            "Epoch 67/100\n",
            "----------\n"
          ]
        },
        {
          "output_type": "stream",
          "name": "stderr",
          "text": [
            "\n",
            "100%|██████████| 75/75 [00:15<00:00,  4.81it/s]"
          ]
        },
        {
          "output_type": "stream",
          "name": "stdout",
          "text": [
            "train Loss: 0.0583 Acc: 0.9764 CD Loss: 0.0000\n"
          ]
        },
        {
          "output_type": "stream",
          "name": "stderr",
          "text": [
            "\n",
            "100%|██████████| 17/17 [00:03<00:00,  4.92it/s]"
          ]
        },
        {
          "output_type": "stream",
          "name": "stdout",
          "text": [
            "val Loss: 0.7003 Acc: 0.7377 CD Loss: 0.0000\n",
            "Epoch 68/100\n",
            "----------\n"
          ]
        },
        {
          "output_type": "stream",
          "name": "stderr",
          "text": [
            "\n",
            "100%|██████████| 75/75 [00:15<00:00,  4.80it/s]"
          ]
        },
        {
          "output_type": "stream",
          "name": "stdout",
          "text": [
            "train Loss: 0.0645 Acc: 0.9751 CD Loss: 0.0000\n"
          ]
        },
        {
          "output_type": "stream",
          "name": "stderr",
          "text": [
            "\n",
            "100%|██████████| 17/17 [00:03<00:00,  5.02it/s]"
          ]
        },
        {
          "output_type": "stream",
          "name": "stdout",
          "text": [
            "val Loss: 0.7003 Acc: 0.7377 CD Loss: 0.0000\n",
            "Epoch 69/100\n",
            "----------\n"
          ]
        },
        {
          "output_type": "stream",
          "name": "stderr",
          "text": [
            "\n",
            "100%|██████████| 75/75 [00:15<00:00,  4.96it/s]"
          ]
        },
        {
          "output_type": "stream",
          "name": "stdout",
          "text": [
            "train Loss: 0.0637 Acc: 0.9764 CD Loss: 0.0000\n"
          ]
        },
        {
          "output_type": "stream",
          "name": "stderr",
          "text": [
            "\n",
            "100%|██████████| 17/17 [00:03<00:00,  4.83it/s]"
          ]
        },
        {
          "output_type": "stream",
          "name": "stdout",
          "text": [
            "val Loss: 0.7003 Acc: 0.7377 CD Loss: 0.0000\n",
            "Epoch 70/100\n",
            "----------\n"
          ]
        },
        {
          "output_type": "stream",
          "name": "stderr",
          "text": [
            "\n",
            "100%|██████████| 75/75 [00:14<00:00,  5.02it/s]"
          ]
        },
        {
          "output_type": "stream",
          "name": "stdout",
          "text": [
            "train Loss: 0.0623 Acc: 0.9764 CD Loss: 0.0000\n"
          ]
        },
        {
          "output_type": "stream",
          "name": "stderr",
          "text": [
            "\n",
            "100%|██████████| 17/17 [00:03<00:00,  5.21it/s]\n"
          ]
        },
        {
          "output_type": "stream",
          "name": "stdout",
          "text": [
            "val Loss: 0.7003 Acc: 0.7377 CD Loss: 0.0000\n",
            "Epoch 71/100\n",
            "----------\n"
          ]
        },
        {
          "output_type": "stream",
          "name": "stderr",
          "text": [
            "100%|██████████| 75/75 [00:15<00:00,  4.97it/s]"
          ]
        },
        {
          "output_type": "stream",
          "name": "stdout",
          "text": [
            "train Loss: 0.0599 Acc: 0.9764 CD Loss: 0.0000\n"
          ]
        },
        {
          "output_type": "stream",
          "name": "stderr",
          "text": [
            "\n",
            "100%|██████████| 17/17 [00:03<00:00,  4.87it/s]"
          ]
        },
        {
          "output_type": "stream",
          "name": "stdout",
          "text": [
            "val Loss: 0.7003 Acc: 0.7377 CD Loss: 0.0000\n",
            "Epoch 72/100\n",
            "----------\n"
          ]
        },
        {
          "output_type": "stream",
          "name": "stderr",
          "text": [
            "\n",
            "100%|██████████| 75/75 [00:15<00:00,  4.80it/s]"
          ]
        },
        {
          "output_type": "stream",
          "name": "stdout",
          "text": [
            "train Loss: 0.0608 Acc: 0.9749 CD Loss: 0.0000\n"
          ]
        },
        {
          "output_type": "stream",
          "name": "stderr",
          "text": [
            "\n",
            "100%|██████████| 17/17 [00:03<00:00,  5.07it/s]"
          ]
        },
        {
          "output_type": "stream",
          "name": "stdout",
          "text": [
            "val Loss: 0.7003 Acc: 0.7377 CD Loss: 0.0000\n",
            "Epoch 73/100\n",
            "----------\n"
          ]
        },
        {
          "output_type": "stream",
          "name": "stderr",
          "text": [
            "\n",
            "100%|██████████| 75/75 [00:15<00:00,  4.94it/s]"
          ]
        },
        {
          "output_type": "stream",
          "name": "stdout",
          "text": [
            "train Loss: 0.0615 Acc: 0.9766 CD Loss: 0.0000\n"
          ]
        },
        {
          "output_type": "stream",
          "name": "stderr",
          "text": [
            "\n",
            "100%|██████████| 17/17 [00:03<00:00,  4.87it/s]"
          ]
        },
        {
          "output_type": "stream",
          "name": "stdout",
          "text": [
            "val Loss: 0.7003 Acc: 0.7377 CD Loss: 0.0000\n",
            "Epoch 74/100\n",
            "----------\n"
          ]
        },
        {
          "output_type": "stream",
          "name": "stderr",
          "text": [
            "\n",
            "100%|██████████| 75/75 [00:15<00:00,  4.99it/s]"
          ]
        },
        {
          "output_type": "stream",
          "name": "stdout",
          "text": [
            "train Loss: 0.0652 Acc: 0.9722 CD Loss: 0.0000\n"
          ]
        },
        {
          "output_type": "stream",
          "name": "stderr",
          "text": [
            "\n",
            "100%|██████████| 17/17 [00:03<00:00,  5.05it/s]"
          ]
        },
        {
          "output_type": "stream",
          "name": "stdout",
          "text": [
            "val Loss: 0.7003 Acc: 0.7377 CD Loss: 0.0000\n",
            "Epoch 75/100\n",
            "----------\n"
          ]
        },
        {
          "output_type": "stream",
          "name": "stderr",
          "text": [
            "\n",
            "100%|██████████| 75/75 [00:15<00:00,  4.96it/s]"
          ]
        },
        {
          "output_type": "stream",
          "name": "stdout",
          "text": [
            "train Loss: 0.0604 Acc: 0.9757 CD Loss: 0.0000\n"
          ]
        },
        {
          "output_type": "stream",
          "name": "stderr",
          "text": [
            "\n",
            "100%|██████████| 17/17 [00:03<00:00,  5.18it/s]\n"
          ]
        },
        {
          "output_type": "stream",
          "name": "stdout",
          "text": [
            "val Loss: 0.7003 Acc: 0.7377 CD Loss: 0.0000\n",
            "Epoch 76/100\n",
            "----------\n"
          ]
        },
        {
          "output_type": "stream",
          "name": "stderr",
          "text": [
            "100%|██████████| 75/75 [00:15<00:00,  4.84it/s]"
          ]
        },
        {
          "output_type": "stream",
          "name": "stdout",
          "text": [
            "train Loss: 0.0629 Acc: 0.9736 CD Loss: 0.0000\n"
          ]
        },
        {
          "output_type": "stream",
          "name": "stderr",
          "text": [
            "\n",
            "100%|██████████| 17/17 [00:03<00:00,  4.92it/s]"
          ]
        },
        {
          "output_type": "stream",
          "name": "stdout",
          "text": [
            "val Loss: 0.7003 Acc: 0.7377 CD Loss: 0.0000\n",
            "Epoch 77/100\n",
            "----------\n"
          ]
        },
        {
          "output_type": "stream",
          "name": "stderr",
          "text": [
            "\n",
            "100%|██████████| 75/75 [00:15<00:00,  4.79it/s]"
          ]
        },
        {
          "output_type": "stream",
          "name": "stdout",
          "text": [
            "train Loss: 0.0599 Acc: 0.9749 CD Loss: 0.0000\n"
          ]
        },
        {
          "output_type": "stream",
          "name": "stderr",
          "text": [
            "\n",
            "100%|██████████| 17/17 [00:03<00:00,  4.95it/s]"
          ]
        },
        {
          "output_type": "stream",
          "name": "stdout",
          "text": [
            "val Loss: 0.7003 Acc: 0.7377 CD Loss: 0.0000\n",
            "Epoch 78/100\n",
            "----------\n"
          ]
        },
        {
          "output_type": "stream",
          "name": "stderr",
          "text": [
            "\n",
            "100%|██████████| 75/75 [00:15<00:00,  4.96it/s]"
          ]
        },
        {
          "output_type": "stream",
          "name": "stdout",
          "text": [
            "train Loss: 0.0620 Acc: 0.9743 CD Loss: 0.0000\n"
          ]
        },
        {
          "output_type": "stream",
          "name": "stderr",
          "text": [
            "\n",
            "100%|██████████| 17/17 [00:03<00:00,  4.99it/s]"
          ]
        },
        {
          "output_type": "stream",
          "name": "stdout",
          "text": [
            "val Loss: 0.7003 Acc: 0.7377 CD Loss: 0.0000\n",
            "Epoch 79/100\n",
            "----------\n"
          ]
        },
        {
          "output_type": "stream",
          "name": "stderr",
          "text": [
            "\n",
            "100%|██████████| 75/75 [00:14<00:00,  5.02it/s]"
          ]
        },
        {
          "output_type": "stream",
          "name": "stdout",
          "text": [
            "train Loss: 0.0583 Acc: 0.9776 CD Loss: 0.0000\n"
          ]
        },
        {
          "output_type": "stream",
          "name": "stderr",
          "text": [
            "\n",
            "100%|██████████| 17/17 [00:03<00:00,  5.19it/s]"
          ]
        },
        {
          "output_type": "stream",
          "name": "stdout",
          "text": [
            "val Loss: 0.7003 Acc: 0.7377 CD Loss: 0.0000\n",
            "Epoch 80/100\n",
            "----------\n"
          ]
        },
        {
          "output_type": "stream",
          "name": "stderr",
          "text": [
            "\n",
            "100%|██████████| 75/75 [00:15<00:00,  4.98it/s]"
          ]
        },
        {
          "output_type": "stream",
          "name": "stdout",
          "text": [
            "train Loss: 0.0657 Acc: 0.9732 CD Loss: 0.0000\n"
          ]
        },
        {
          "output_type": "stream",
          "name": "stderr",
          "text": [
            "\n",
            "100%|██████████| 17/17 [00:03<00:00,  5.10it/s]\n"
          ]
        },
        {
          "output_type": "stream",
          "name": "stdout",
          "text": [
            "val Loss: 0.7003 Acc: 0.7377 CD Loss: 0.0000\n",
            "Epoch 81/100\n",
            "----------\n"
          ]
        },
        {
          "output_type": "stream",
          "name": "stderr",
          "text": [
            "100%|██████████| 75/75 [00:15<00:00,  4.94it/s]"
          ]
        },
        {
          "output_type": "stream",
          "name": "stdout",
          "text": [
            "train Loss: 0.0595 Acc: 0.9747 CD Loss: 0.0000\n"
          ]
        },
        {
          "output_type": "stream",
          "name": "stderr",
          "text": [
            "\n",
            "100%|██████████| 17/17 [00:03<00:00,  4.91it/s]"
          ]
        },
        {
          "output_type": "stream",
          "name": "stdout",
          "text": [
            "val Loss: 0.7003 Acc: 0.7377 CD Loss: 0.0000\n",
            "Epoch 82/100\n",
            "----------\n"
          ]
        },
        {
          "output_type": "stream",
          "name": "stderr",
          "text": [
            "\n",
            "100%|██████████| 75/75 [00:15<00:00,  4.77it/s]"
          ]
        },
        {
          "output_type": "stream",
          "name": "stdout",
          "text": [
            "train Loss: 0.0617 Acc: 0.9738 CD Loss: 0.0000\n"
          ]
        },
        {
          "output_type": "stream",
          "name": "stderr",
          "text": [
            "\n",
            "100%|██████████| 17/17 [00:03<00:00,  5.16it/s]"
          ]
        },
        {
          "output_type": "stream",
          "name": "stdout",
          "text": [
            "val Loss: 0.7003 Acc: 0.7377 CD Loss: 0.0000\n",
            "Epoch 83/100\n",
            "----------\n"
          ]
        },
        {
          "output_type": "stream",
          "name": "stderr",
          "text": [
            "\n",
            "100%|██████████| 75/75 [00:15<00:00,  4.95it/s]"
          ]
        },
        {
          "output_type": "stream",
          "name": "stdout",
          "text": [
            "train Loss: 0.0605 Acc: 0.9766 CD Loss: 0.0000\n"
          ]
        },
        {
          "output_type": "stream",
          "name": "stderr",
          "text": [
            "\n",
            "100%|██████████| 17/17 [00:03<00:00,  5.04it/s]"
          ]
        },
        {
          "output_type": "stream",
          "name": "stdout",
          "text": [
            "val Loss: 0.7003 Acc: 0.7377 CD Loss: 0.0000\n",
            "Epoch 84/100\n",
            "----------\n"
          ]
        },
        {
          "output_type": "stream",
          "name": "stderr",
          "text": [
            "\n",
            "100%|██████████| 75/75 [00:15<00:00,  4.96it/s]"
          ]
        },
        {
          "output_type": "stream",
          "name": "stdout",
          "text": [
            "train Loss: 0.0629 Acc: 0.9755 CD Loss: 0.0000\n"
          ]
        },
        {
          "output_type": "stream",
          "name": "stderr",
          "text": [
            "\n",
            "100%|██████████| 17/17 [00:03<00:00,  4.77it/s]"
          ]
        },
        {
          "output_type": "stream",
          "name": "stdout",
          "text": [
            "val Loss: 0.7003 Acc: 0.7377 CD Loss: 0.0000\n",
            "Epoch 85/100\n",
            "----------\n"
          ]
        },
        {
          "output_type": "stream",
          "name": "stderr",
          "text": [
            "\n",
            "100%|██████████| 75/75 [00:14<00:00,  5.02it/s]"
          ]
        },
        {
          "output_type": "stream",
          "name": "stdout",
          "text": [
            "train Loss: 0.0629 Acc: 0.9762 CD Loss: 0.0000\n"
          ]
        },
        {
          "output_type": "stream",
          "name": "stderr",
          "text": [
            "\n",
            "100%|██████████| 17/17 [00:03<00:00,  5.12it/s]\n"
          ]
        },
        {
          "output_type": "stream",
          "name": "stdout",
          "text": [
            "val Loss: 0.7003 Acc: 0.7377 CD Loss: 0.0000\n",
            "Epoch 86/100\n",
            "----------\n"
          ]
        },
        {
          "output_type": "stream",
          "name": "stderr",
          "text": [
            "100%|██████████| 75/75 [00:15<00:00,  4.86it/s]"
          ]
        },
        {
          "output_type": "stream",
          "name": "stdout",
          "text": [
            "train Loss: 0.0620 Acc: 0.9755 CD Loss: 0.0000\n"
          ]
        },
        {
          "output_type": "stream",
          "name": "stderr",
          "text": [
            "\n",
            "100%|██████████| 17/17 [00:03<00:00,  4.74it/s]\n"
          ]
        },
        {
          "output_type": "stream",
          "name": "stdout",
          "text": [
            "val Loss: 0.7003 Acc: 0.7377 CD Loss: 0.0000\n",
            "Epoch 87/100\n",
            "----------\n"
          ]
        },
        {
          "output_type": "stream",
          "name": "stderr",
          "text": [
            "100%|██████████| 75/75 [00:15<00:00,  4.75it/s]"
          ]
        },
        {
          "output_type": "stream",
          "name": "stdout",
          "text": [
            "train Loss: 0.0622 Acc: 0.9759 CD Loss: 0.0000\n"
          ]
        },
        {
          "output_type": "stream",
          "name": "stderr",
          "text": [
            "\n",
            "100%|██████████| 17/17 [00:03<00:00,  5.02it/s]"
          ]
        },
        {
          "output_type": "stream",
          "name": "stdout",
          "text": [
            "val Loss: 0.7003 Acc: 0.7377 CD Loss: 0.0000\n",
            "Epoch 88/100\n",
            "----------\n"
          ]
        },
        {
          "output_type": "stream",
          "name": "stderr",
          "text": [
            "\n",
            "100%|██████████| 75/75 [00:14<00:00,  5.02it/s]"
          ]
        },
        {
          "output_type": "stream",
          "name": "stdout",
          "text": [
            "train Loss: 0.0593 Acc: 0.9787 CD Loss: 0.0000\n"
          ]
        },
        {
          "output_type": "stream",
          "name": "stderr",
          "text": [
            "\n",
            "100%|██████████| 17/17 [00:03<00:00,  4.79it/s]"
          ]
        },
        {
          "output_type": "stream",
          "name": "stdout",
          "text": [
            "val Loss: 0.7003 Acc: 0.7377 CD Loss: 0.0000\n",
            "Epoch 89/100\n",
            "----------\n"
          ]
        },
        {
          "output_type": "stream",
          "name": "stderr",
          "text": [
            "\n",
            "100%|██████████| 75/75 [00:15<00:00,  5.00it/s]"
          ]
        },
        {
          "output_type": "stream",
          "name": "stdout",
          "text": [
            "train Loss: 0.0637 Acc: 0.9734 CD Loss: 0.0000\n"
          ]
        },
        {
          "output_type": "stream",
          "name": "stderr",
          "text": [
            "\n",
            "100%|██████████| 17/17 [00:03<00:00,  5.21it/s]"
          ]
        },
        {
          "output_type": "stream",
          "name": "stdout",
          "text": [
            "val Loss: 0.7003 Acc: 0.7377 CD Loss: 0.0000\n",
            "Epoch 90/100\n",
            "----------\n"
          ]
        },
        {
          "output_type": "stream",
          "name": "stderr",
          "text": [
            "\n",
            "100%|██████████| 75/75 [00:14<00:00,  5.03it/s]"
          ]
        },
        {
          "output_type": "stream",
          "name": "stdout",
          "text": [
            "train Loss: 0.0655 Acc: 0.9736 CD Loss: 0.0000\n"
          ]
        },
        {
          "output_type": "stream",
          "name": "stderr",
          "text": [
            "\n",
            "100%|██████████| 17/17 [00:03<00:00,  4.90it/s]\n"
          ]
        },
        {
          "output_type": "stream",
          "name": "stdout",
          "text": [
            "val Loss: 0.7003 Acc: 0.7377 CD Loss: 0.0000\n",
            "Epoch 91/100\n",
            "----------\n"
          ]
        },
        {
          "output_type": "stream",
          "name": "stderr",
          "text": [
            "100%|██████████| 75/75 [00:15<00:00,  4.87it/s]"
          ]
        },
        {
          "output_type": "stream",
          "name": "stdout",
          "text": [
            "train Loss: 0.0640 Acc: 0.9745 CD Loss: 0.0000\n"
          ]
        },
        {
          "output_type": "stream",
          "name": "stderr",
          "text": [
            "\n",
            "100%|██████████| 17/17 [00:03<00:00,  5.11it/s]"
          ]
        },
        {
          "output_type": "stream",
          "name": "stdout",
          "text": [
            "val Loss: 0.7003 Acc: 0.7377 CD Loss: 0.0000\n",
            "Epoch 92/100\n",
            "----------\n"
          ]
        },
        {
          "output_type": "stream",
          "name": "stderr",
          "text": [
            "\n",
            "100%|██████████| 75/75 [00:15<00:00,  4.79it/s]"
          ]
        },
        {
          "output_type": "stream",
          "name": "stdout",
          "text": [
            "train Loss: 0.0609 Acc: 0.9749 CD Loss: 0.0000\n"
          ]
        },
        {
          "output_type": "stream",
          "name": "stderr",
          "text": [
            "\n",
            "100%|██████████| 17/17 [00:03<00:00,  4.89it/s]"
          ]
        },
        {
          "output_type": "stream",
          "name": "stdout",
          "text": [
            "val Loss: 0.7003 Acc: 0.7377 CD Loss: 0.0000\n",
            "Epoch 93/100\n",
            "----------\n"
          ]
        },
        {
          "output_type": "stream",
          "name": "stderr",
          "text": [
            "\n",
            "100%|██████████| 75/75 [00:15<00:00,  4.96it/s]"
          ]
        },
        {
          "output_type": "stream",
          "name": "stdout",
          "text": [
            "train Loss: 0.0597 Acc: 0.9774 CD Loss: 0.0000\n"
          ]
        },
        {
          "output_type": "stream",
          "name": "stderr",
          "text": [
            "\n",
            "100%|██████████| 17/17 [00:03<00:00,  5.05it/s]"
          ]
        },
        {
          "output_type": "stream",
          "name": "stdout",
          "text": [
            "val Loss: 0.7003 Acc: 0.7377 CD Loss: 0.0000\n",
            "Epoch 94/100\n",
            "----------\n"
          ]
        },
        {
          "output_type": "stream",
          "name": "stderr",
          "text": [
            "\n",
            "100%|██████████| 75/75 [00:14<00:00,  5.02it/s]"
          ]
        },
        {
          "output_type": "stream",
          "name": "stdout",
          "text": [
            "train Loss: 0.0643 Acc: 0.9741 CD Loss: 0.0000\n"
          ]
        },
        {
          "output_type": "stream",
          "name": "stderr",
          "text": [
            "\n",
            "100%|██████████| 17/17 [00:03<00:00,  5.05it/s]\n"
          ]
        },
        {
          "output_type": "stream",
          "name": "stdout",
          "text": [
            "val Loss: 0.7003 Acc: 0.7377 CD Loss: 0.0000\n",
            "Epoch 95/100\n",
            "----------\n"
          ]
        },
        {
          "output_type": "stream",
          "name": "stderr",
          "text": [
            "100%|██████████| 75/75 [00:15<00:00,  4.93it/s]"
          ]
        },
        {
          "output_type": "stream",
          "name": "stdout",
          "text": [
            "train Loss: 0.0591 Acc: 0.9757 CD Loss: 0.0000\n"
          ]
        },
        {
          "output_type": "stream",
          "name": "stderr",
          "text": [
            "\n",
            "100%|██████████| 17/17 [00:03<00:00,  5.13it/s]\n"
          ]
        },
        {
          "output_type": "stream",
          "name": "stdout",
          "text": [
            "val Loss: 0.7003 Acc: 0.7377 CD Loss: 0.0000\n",
            "Epoch 96/100\n",
            "----------\n"
          ]
        },
        {
          "output_type": "stream",
          "name": "stderr",
          "text": [
            "100%|██████████| 75/75 [00:15<00:00,  4.90it/s]"
          ]
        },
        {
          "output_type": "stream",
          "name": "stdout",
          "text": [
            "train Loss: 0.0622 Acc: 0.9774 CD Loss: 0.0000\n"
          ]
        },
        {
          "output_type": "stream",
          "name": "stderr",
          "text": [
            "\n",
            "100%|██████████| 17/17 [00:03<00:00,  5.20it/s]"
          ]
        },
        {
          "output_type": "stream",
          "name": "stdout",
          "text": [
            "val Loss: 0.7003 Acc: 0.7377 CD Loss: 0.0000\n",
            "Epoch 97/100\n",
            "----------\n"
          ]
        },
        {
          "output_type": "stream",
          "name": "stderr",
          "text": [
            "\n",
            "100%|██████████| 75/75 [00:15<00:00,  4.78it/s]"
          ]
        },
        {
          "output_type": "stream",
          "name": "stdout",
          "text": [
            "train Loss: 0.0649 Acc: 0.9738 CD Loss: 0.0000\n"
          ]
        },
        {
          "output_type": "stream",
          "name": "stderr",
          "text": [
            "\n",
            "100%|██████████| 17/17 [00:03<00:00,  5.13it/s]"
          ]
        },
        {
          "output_type": "stream",
          "name": "stdout",
          "text": [
            "val Loss: 0.7003 Acc: 0.7377 CD Loss: 0.0000\n",
            "Epoch 98/100\n",
            "----------\n"
          ]
        },
        {
          "output_type": "stream",
          "name": "stderr",
          "text": [
            "\n",
            "100%|██████████| 75/75 [00:15<00:00,  4.97it/s]"
          ]
        },
        {
          "output_type": "stream",
          "name": "stdout",
          "text": [
            "train Loss: 0.0651 Acc: 0.9745 CD Loss: 0.0000\n"
          ]
        },
        {
          "output_type": "stream",
          "name": "stderr",
          "text": [
            "\n",
            "100%|██████████| 17/17 [00:03<00:00,  5.07it/s]"
          ]
        },
        {
          "output_type": "stream",
          "name": "stdout",
          "text": [
            "val Loss: 0.7003 Acc: 0.7377 CD Loss: 0.0000\n",
            "Epoch 99/100\n",
            "----------\n"
          ]
        },
        {
          "output_type": "stream",
          "name": "stderr",
          "text": [
            "\n",
            "100%|██████████| 75/75 [00:15<00:00,  4.93it/s]"
          ]
        },
        {
          "output_type": "stream",
          "name": "stdout",
          "text": [
            "train Loss: 0.0601 Acc: 0.9757 CD Loss: 0.0000\n"
          ]
        },
        {
          "output_type": "stream",
          "name": "stderr",
          "text": [
            "\n",
            "100%|██████████| 17/17 [00:03<00:00,  5.03it/s]"
          ]
        },
        {
          "output_type": "stream",
          "name": "stdout",
          "text": [
            "val Loss: 0.7003 Acc: 0.7377 CD Loss: 0.0000\n",
            "Epoch 100/100\n",
            "----------\n"
          ]
        },
        {
          "output_type": "stream",
          "name": "stderr",
          "text": [
            "\n",
            "100%|██████████| 75/75 [00:14<00:00,  5.04it/s]"
          ]
        },
        {
          "output_type": "stream",
          "name": "stdout",
          "text": [
            "train Loss: 0.0615 Acc: 0.9749 CD Loss: 0.0000\n"
          ]
        },
        {
          "output_type": "stream",
          "name": "stderr",
          "text": [
            "\n",
            "100%|██████████| 17/17 [00:03<00:00,  5.10it/s]\n"
          ]
        },
        {
          "output_type": "stream",
          "name": "stdout",
          "text": [
            "val Loss: 0.7003 Acc: 0.7377 CD Loss: 0.0000\n",
            "Training complete in 31m 28s\n",
            "Best val loss: 0.6455\n"
          ]
        },
        {
          "output_type": "display_data",
          "data": {
            "text/plain": [
              "<Figure size 1000x500 with 1 Axes>"
            ],
            "image/png": "[encoded data removed]"
          },
          "metadata": {}
        },
        {
          "output_type": "display_data",
          "data": {
            "text/plain": [
              "<Figure size 1000x500 with 1 Axes>"
            ],
            "image/png": "[encoded data removed]"
          },
          "metadata": {}
        },
        {
          "output_type": "execute_result",
          "data": {
            "text/plain": [
              "\"\\nargs = Args()\\n\\nregularizer_rate = args.regularizer_rate\\nnum_epochs = args.epochs\\n\\ntorch.manual_seed(args.seed)\\ndevice = torch.device('cuda' if torch.cuda.is_available() else 'cpu')\\nmodel.to(device)\\n#params_to_update = model.classifier.parameters()\\nparams_to_update = model.parameters()\\n\\noptimizer_ft = optim.SGD(params_to_update, lr=args.lr, momentum=args.momentum)\\n\""
            ],
            "application/vnd.google.colaboratory.intrinsic+json": {
              "type": "string"
            }
          },
          "metadata": {},
          "execution_count": 11
        }
      ],
      "source": [
        "wb_ratio = len(dataset_wb_nopatch_train)/len(train_dataset)\n",
        "\n",
        "not_wb_ratio = 1 - wb_ratio\n",
        "wb_weight = 1/wb_ratio\n",
        "not_wb_weight = 1/ not_wb_ratio\n",
        "weights = np.asarray([not_wb_weight, wb_weight])\n",
        "weights /= weights.sum()\n",
        "weights = torch.tensor(weights).to(device)\n",
        "\n",
        "criterion = nn.CrossEntropyLoss(weight = weights.double().float())\n",
        "\n",
        "mean = np.asarray([0.485, 0.456, 0.406])\n",
        "std = np.asarray([0.229, 0.224, 0.225])\n",
        "\n",
        "\n",
        "# Define arguments\n",
        "class Args:\n",
        "    def __init__(self, seed):\n",
        "        self.batch_size = 64\n",
        "        self.epochs = 100\n",
        "        self.lr = 0.0001\n",
        "        self.momentum = 0.9\n",
        "        self.seed = seed\n",
        "        self.regularizer_rate = 0.0\n",
        "\n",
        "seeds = [1, 11, 111]\n",
        "\n",
        "\n",
        "\n",
        "for seed in seeds:\n",
        "    args = Args(seed)\n",
        "    torch.manual_seed(args.seed)\n",
        "    device = torch.device('cuda' if torch.cuda.is_available() else 'cpu')\n",
        "\n",
        "    regularizer_rate = args.regularizer_rate\n",
        "    num_epochs = args.epochs\n",
        "    params_to_update = model.parameters()\n",
        "    optimizer_ft = optim.SGD(params_to_update, lr=args.lr, momentum=args.momentum)\n",
        "\n",
        "    model = train_model(model, dataloaders, criterion, optimizer_ft, num_epochs=num_epochs, resume_training=False)\n",
        "    torch.save(model.state_dict(), os.path.join(dir_path, model_path, f\"alexnet_wbw_lbl_lbw_3_{seed}\" + \"train.pt\"))\n",
        "\n",
        "\n",
        "\n",
        "\n",
        "\n",
        "\n",
        "'''\n",
        "args = Args()\n",
        "\n",
        "regularizer_rate = args.regularizer_rate\n",
        "num_epochs = args.epochs\n",
        "\n",
        "torch.manual_seed(args.seed)\n",
        "device = torch.device('cuda' if torch.cuda.is_available() else 'cpu')\n",
        "model.to(device)\n",
        "#params_to_update = model.classifier.parameters()\n",
        "params_to_update = model.parameters()\n",
        "\n",
        "optimizer_ft = optim.SGD(params_to_update, lr=args.lr, momentum=args.momentum)\n",
        "'''"
      ]
    },
    {
      "cell_type": "code",
      "source": [
        "import torch\n",
        "import os\n",
        "from torch.utils.data import DataLoader\n",
        "import torch.nn as nn\n",
        "from datetime import datetime\n",
        "\n",
        "def load_model(model_path, device):\n",
        "    print(f\"Loading model from {model_path}\")\n",
        "    model = models.alexnet(pretrained=False)\n",
        "    device = torch.device('cuda' if torch.cuda.is_available() else 'cpu')\n",
        "    model.classifier[-1] = nn.Linear(4096, 2)\n",
        "    model.load_state_dict(torch.load(model_path, map_location=device))\n",
        "    model.to(device)\n",
        "    model.eval()\n",
        "    print(\"Model loaded successfully\")\n",
        "\n",
        "    # Freeze all layers\n",
        "    #for param in model.parameters():\n",
        "        #param.requires_grad = False\n",
        "\n",
        "    #print(\"Model loaded and layers frozen successfully\")\n",
        "    return model\n",
        "\n",
        "# Function to test the model on a specific dataset\n",
        "def test_model(model, dataloader, device):\n",
        "    model.eval()\n",
        "    correct = 0\n",
        "    total = 0\n",
        "    with torch.no_grad():\n",
        "        for inputs, labels, _ in dataloader:  # Ignore group_label\n",
        "            inputs, labels = inputs.to(device), labels.to(device)\n",
        "            outputs = model(inputs)\n",
        "            _, predicted = torch.max(outputs, 1)\n",
        "            total += labels.size(0)\n",
        "            correct += (predicted == labels).sum().item()\n",
        "    accuracy = correct / total * 100\n",
        "    return accuracy\n",
        "\n",
        "\n",
        "\n",
        "\n",
        "test_wb_nopatch_path = '/content/drive/MyDrive/Masterthesis/Datasets/Waterbird/dataset_splits/test/test_wb_nopatch'\n",
        "test_wb_patch_path = '/content/drive/MyDrive/Masterthesis/Datasets/Waterbird/dataset_splits/test/test_wb_patch'\n",
        "\n",
        "\n",
        "# Create test datasets\n",
        "dataset_test_wb_patch = WaterbirdDataset(path=test_wb_patch_path, is_waterbird=1, group_labels=[1] * len(os.listdir(test_wb_patch_path)))\n",
        "dataset_test_wb_nopatch = WaterbirdDataset(path=test_wb_nopatch_path, is_waterbird=1, group_labels=[0] * len(os.listdir(test_wb_nopatch_path)))\n",
        "\n",
        "# Create dataloaders for the test datasets\n",
        "batch_size = 64\n",
        "test_loader_wbp = DataLoader(dataset_test_wb_patch, batch_size=batch_size, shuffle=False, num_workers=2)\n",
        "test_loader_wbnp = DataLoader(dataset_test_wb_nopatch, batch_size=batch_size, shuffle=False, num_workers=2)\n",
        "\n",
        "# Set the device\n",
        "device = torch.device('cuda' if torch.cuda.is_available() else 'cpu')\n",
        "\n",
        "# Load and test the model for each seed\n",
        "seeds = [1, 11, 111]\n",
        "for seed in seeds:\n",
        "    model_path = f\"/content/drive/MyDrive/Masterthesis/Datasets/Waterbird/models/initial_classifier/alexnet_wbw_lbl_lbw_{seed}train.pt\"\n",
        "\n",
        "    print(f\"\\nLoading model with seed {seed}\")\n",
        "    model = load_model(model_path, device)\n",
        "\n",
        "    # Test on wb oatch dataset\n",
        "    accuracy_dlp = test_model(model, test_loader_wbp, device)\n",
        "    print(f\"Accuracy on waterbirds with patch test dataset (class_2): {accuracy_dlp:.2f}%\")\n",
        "\n",
        "    # Test on original dataset\n",
        "    accuracy_org = test_model(model, test_loader_wbnp, device)\n",
        "    print(f\"Accuracy on waterbirds without patch test dataset (class_2): {accuracy_org:.2f}%\")\n"
      ],
      "metadata": {
        "colab": {
          "base_uri": "https://localhost:8080/"
        },
        "id": "Gb-I2VOFJ0M6",
        "outputId": "b0879f4c-df15-46eb-8a2d-d95dddc96917"
      },
      "execution_count": 16,
      "outputs": [
        {
          "output_type": "stream",
          "name": "stdout",
          "text": [
            "\n",
            "Loading model with seed 1\n",
            "Loading model from /content/drive/MyDrive/Masterthesis/Datasets/Waterbird/models/initial_classifier/alexnet_wbw_lbl_lbw_1train.pt\n"
          ]
        },
        {
          "output_type": "stream",
          "name": "stderr",
          "text": [
            "<ipython-input-16-e6de0001ad21>:12: FutureWarning: You are using `torch.load` with `weights_only=False` (the current default value), which uses the default pickle module implicitly. It is possible to construct malicious pickle data which will execute arbitrary code during unpickling (See https://github.com/pytorch/pytorch/blob/main/SECURITY.md#untrusted-models for more details). In a future release, the default value for `weights_only` will be flipped to `True`. This limits the functions that could be executed during unpickling. Arbitrary objects will no longer be allowed to be loaded via this mode unless they are explicitly allowlisted by the user via `torch.serialization.add_safe_globals`. We recommend you start setting `weights_only=True` for any use case where you don't have full control of the loaded file. Please open an issue on GitHub for any issues related to this experimental feature.\n",
            "  model.load_state_dict(torch.load(model_path, map_location=device))\n"
          ]
        },
        {
          "output_type": "stream",
          "name": "stdout",
          "text": [
            "Model loaded successfully\n",
            "Accuracy on waterbirds with patch test dataset (class_2): 14.33%\n",
            "Accuracy on waterbirds without patch test dataset (class_2): 93.15%\n",
            "\n",
            "Loading model with seed 11\n",
            "Loading model from /content/drive/MyDrive/Masterthesis/Datasets/Waterbird/models/initial_classifier/alexnet_wbw_lbl_lbw_11train.pt\n",
            "Model loaded successfully\n",
            "Accuracy on waterbirds with patch test dataset (class_2): 14.17%\n",
            "Accuracy on waterbirds without patch test dataset (class_2): 92.06%\n",
            "\n",
            "Loading model with seed 111\n",
            "Loading model from /content/drive/MyDrive/Masterthesis/Datasets/Waterbird/models/initial_classifier/alexnet_wbw_lbl_lbw_111train.pt\n",
            "Model loaded successfully\n",
            "Accuracy on waterbirds with patch test dataset (class_2): 18.07%\n",
            "Accuracy on waterbirds without patch test dataset (class_2): 92.37%\n"
          ]
        }
      ]
    },
    {
      "cell_type": "code",
      "execution_count": null,
      "metadata": {
        "id": "fxVLsym0j8st"
      },
      "outputs": [],
      "source": [
        "stophere"
      ]
    },
    {
      "cell_type": "markdown",
      "metadata": {
        "id": "vYUngM2rmF3b"
      },
      "source": [
        "Selective train (wbw, lbl)"
      ]
    },
    {
      "cell_type": "code",
      "execution_count": null,
      "metadata": {
        "id": "9OeWGkWwmKBT"
      },
      "outputs": [],
      "source": [
        "wb_nopatch_path = '/content/drive/MyDrive/Masterthesis/Datasets/Waterbird/balanced_data/wb_no_patch'\n",
        "lb_nopatch_path = '/content/drive/MyDrive/Masterthesis/Datasets/Waterbird/balanced_data/lb_no_patch'\n",
        "lb_patch_path = '/content/drive/MyDrive/Masterthesis/Datasets/Waterbird/balanced_data/lb_patch'\n",
        "wb_patch_path = '/content/drive/MyDrive/Masterthesis/Datasets/Waterbird/balanced_data/wb_patch'\n",
        "\n",
        "\n",
        "\n",
        "\n",
        "# Create datasets for training and testing\n",
        "dataset_wb_nopatch = WaterbirdDataset(path=wb_nopatch_path, is_waterbird=1, group_labels=[3] * len(os.listdir(wb_nopatch_path)))\n",
        "dataset_lb_nopatch = WaterbirdDataset(path=lb_nopatch_path, is_waterbird=0, group_labels=[0] * len(os.listdir(lb_nopatch_path)))\n",
        "dataset_lb_patch = WaterbirdDataset(path=lb_patch_path, is_waterbird=0, group_labels=[1] * len(os.listdir(lb_patch_path)))\n",
        "dataset_wb_patch = WaterbirdDataset(path=wb_patch_path, is_waterbird=0, group_labels=[1] * len(os.listdir(wb_patch_path)))\n",
        "\n",
        "\n",
        "complete_dataset = ConcatDataset((dataset_wb_nopatch, dataset_lb_nopatch))\n",
        "train_dataset = complete_dataset\n",
        "test_dataset = dataset_wb_patch\n",
        "\n",
        "batch_size = args.batch_size  # Assuming args.batch_size is defined\n",
        "\n",
        "train_loader = DataLoader(train_dataset, batch_size=batch_size, shuffle=True, num_workers=2)\n",
        "test_loader = DataLoader(test_dataset, batch_size=batch_size, shuffle=False, num_workers=2)\n",
        "dataloaders = {'train': train_loader, 'test': test_loader}\n",
        "dataset_sizes = {'train': len(train_dataset), 'test': len(test_dataset)}\n",
        "\n",
        "# Print dataset sizes\n",
        "print(\"num_train:\", dataset_sizes['train'])\n",
        "print(\"num_test:\", dataset_sizes['test'])\n",
        "\n",
        "# Example usage:\n",
        "group_frequencies = {\n",
        "    0: 3518,  # landbird_generic-spurious:birdonland\n",
        "    1: 185,   # landbird_generic-spurious:birdonwater\n",
        "    2: 55,    # waterbird_generic-spurious:birdonland\n",
        "    3: 1037   # waterbird_generic-spurious:birdonwater\n",
        "}\n",
        "\n"
      ]
    },
    {
      "cell_type": "code",
      "execution_count": null,
      "metadata": {
        "id": "2dxwIK4pmNDz"
      },
      "outputs": [],
      "source": [
        "wb_ratio = len(dataset_wb_nopatch)/len(complete_dataset)\n",
        "\n",
        "not_wb_ratio = 1 - wb_ratio\n",
        "wb_weight = 1/wb_ratio\n",
        "not_wb_weight = 1/ not_wb_ratio\n",
        "weights = np.asarray([not_wb_weight, wb_weight])\n",
        "weights /= weights.sum()\n",
        "weights = torch.tensor(weights).to(device)\n",
        "\n",
        "criterion = nn.CrossEntropyLoss(weight = weights.double().float())\n",
        "\n",
        "mean = np.asarray([0.485, 0.456, 0.406])\n",
        "std = np.asarray([0.229, 0.224, 0.225])\n",
        "\n",
        "\n",
        "# Define arguments\n",
        "class Args:\n",
        "    def __init__(self):\n",
        "        self.batch_size = 64\n",
        "        self.epochs = 100\n",
        "        self.lr = 0.0001\n",
        "        self.momentum = 0.9\n",
        "        self.seed = 1\n",
        "        self.regularizer_rate = 0.0\n",
        "\n",
        "args = Args()\n",
        "\n",
        "regularizer_rate = args.regularizer_rate\n",
        "num_epochs = args.epochs\n",
        "\n",
        "torch.manual_seed(args.seed)\n",
        "device = torch.device('cuda' if torch.cuda.is_available() else 'cpu')\n",
        "model.to(device)\n",
        "#params_to_update = model.classifier.parameters()\n",
        "params_to_update = model.parameters()\n",
        "\n",
        "optimizer_ft = optim.SGD(params_to_update, lr=args.lr, momentum=args.momentum)"
      ]
    },
    {
      "cell_type": "code",
      "execution_count": null,
      "metadata": {
        "id": "PddmLXX9mQrT"
      },
      "outputs": [],
      "source": [
        "model = train_model(model, dataloaders, criterion, optimizer_ft, num_epochs=num_epochs, resume_training=False)\n",
        "pid = datetime.now().strftime('%Y%m%d%H%M%S')\n",
        "torch.save(model.state_dict(), os.path.join(dir_path, model_path, pid + \"alexnet_wbw_lbl_1_\" +\"train.pt\"))"
      ]
    },
    {
      "cell_type": "markdown",
      "metadata": {
        "id": "tYjJXUoLs7sB"
      },
      "source": [
        "Full train"
      ]
    },
    {
      "cell_type": "code",
      "execution_count": null,
      "metadata": {
        "id": "MglhixLIs1Fo"
      },
      "outputs": [],
      "source": [
        "wb_nopatch_path = '/content/drive/MyDrive/Masterthesis/Datasets/Waterbird/balanced_data/wb_no_patch'\n",
        "lb_nopatch_path = '/content/drive/MyDrive/Masterthesis/Datasets/Waterbird/balanced_data/lb_no_patch'\n",
        "lb_patch_path = '/content/drive/MyDrive/Masterthesis/Datasets/Waterbird/balanced_data/lb_patch'\n",
        "wb_patch_path = '/content/drive/MyDrive/Masterthesis/Datasets/Waterbird/balanced_data/wb_patch'\n",
        "\n",
        "\n",
        "\n",
        "\n",
        "# Create datasets for training and testing\n",
        "dataset_wb_nopatch = WaterbirdDataset(path=wb_nopatch_path, is_waterbird=1, group_labels=[3] * len(os.listdir(wb_nopatch_path)))\n",
        "dataset_lb_nopatch = WaterbirdDataset(path=lb_nopatch_path, is_waterbird=0, group_labels=[0] * len(os.listdir(lb_nopatch_path)))\n",
        "dataset_lb_patch = WaterbirdDataset(path=lb_patch_path, is_waterbird=0, group_labels=[1] * len(os.listdir(lb_patch_path)))\n",
        "dataset_wb_patch = WaterbirdDataset(path=wb_patch_path, is_waterbird=0, group_labels=[1] * len(os.listdir(wb_patch_path)))\n",
        "\n",
        "\n",
        "complete_dataset = ConcatDataset((dataset_wb_nopatch, dataset_lb_nopatch, dataset_lb_patch, dataset_wb_patch))\n",
        "dataset_wb = ConcatDataset((dataset_wb_nopatch, dataset_wb_patch))\n",
        "train_dataset = complete_dataset\n",
        "test_dataset = dataset_wb_patch\n",
        "\n",
        "batch_size = args.batch_size  # Assuming args.batch_size is defined\n",
        "\n",
        "train_loader = DataLoader(train_dataset, batch_size=batch_size, shuffle=True, num_workers=2)\n",
        "test_loader = DataLoader(test_dataset, batch_size=batch_size, shuffle=False, num_workers=2)\n",
        "dataloaders = {'train': train_loader, 'test': test_loader}\n",
        "dataset_sizes = {'train': len(train_dataset), 'test': len(test_dataset)}\n",
        "\n",
        "# Print dataset sizes\n",
        "print(\"num_train:\", dataset_sizes['train'])\n",
        "print(\"num_test:\", dataset_sizes['test'])\n",
        "\n",
        "# Example usage:\n",
        "group_frequencies = {\n",
        "    0: 840,  # landbird_generic-spurious:birdonland\n",
        "    1: 840,   # landbird_generic-spurious:birdonwater\n",
        "    2: 840,    # waterbird_generic-spurious:birdonland\n",
        "    3: 840   # waterbird_generic-spurious:birdonwater\n",
        "}\n",
        "\n"
      ]
    },
    {
      "cell_type": "code",
      "execution_count": null,
      "metadata": {
        "id": "36RT51eNs-6p"
      },
      "outputs": [],
      "source": [
        "wb_ratio = len(dataset_wb)/len(complete_dataset)\n",
        "\n",
        "not_wb_ratio = 1 - wb_ratio\n",
        "wb_weight = 1/wb_ratio\n",
        "not_wb_weight = 1/ not_wb_ratio\n",
        "weights = np.asarray([not_wb_weight, wb_weight])\n",
        "weights /= weights.sum()\n",
        "weights = torch.tensor(weights).to(device)\n",
        "\n",
        "criterion = nn.CrossEntropyLoss(weight = weights.double().float())\n",
        "\n",
        "\n",
        "# Define arguments\n",
        "class Args:\n",
        "    def __init__(self):\n",
        "        self.batch_size = 16\n",
        "        self.epochs = 100\n",
        "        self.lr = 0.00001\n",
        "        self.momentum = 0.9\n",
        "        self.seed = 42\n",
        "        self.regularizer_rate = 0.0\n",
        "\n",
        "args = Args()\n",
        "\n",
        "regularizer_rate = args.regularizer_rate\n",
        "num_epochs = args.epochs\n",
        "\n",
        "torch.manual_seed(args.seed)\n",
        "device = torch.device('cuda' if torch.cuda.is_available() else 'cpu')\n",
        "model.to(device)\n",
        "#params_to_update = model.classifier.parameters()\n",
        "params_to_update = model.parameters()\n",
        "\n",
        "optimizer_ft = optim.SGD(params_to_update, lr=args.lr, momentum=args.momentum)"
      ]
    },
    {
      "cell_type": "code",
      "execution_count": null,
      "metadata": {
        "id": "5KyZtKVgtAzw"
      },
      "outputs": [],
      "source": [
        "model = train_model(model, dataloaders, criterion, optimizer_ft, num_epochs=num_epochs, resume_training=False)\n",
        "pid = datetime.now().strftime('%Y%m%d%H%M%S')\n",
        "torch.save(model.state_dict(), os.path.join(dir_path, model_path, pid + \"full_train_full_model.pt\"))"
      ]
    },
    {
      "cell_type": "markdown",
      "metadata": {
        "id": "s-WWUvuiYgs4"
      },
      "source": [
        "## Functions for Evaluation"
      ]
    },
    {
      "cell_type": "markdown",
      "metadata": {
        "id": "CCsfh-tovMOe"
      },
      "source": [
        "### Evaluation Metrics"
      ]
    },
    {
      "cell_type": "code",
      "execution_count": null,
      "metadata": {
        "id": "kMsnlDxr14_D"
      },
      "outputs": [],
      "source": [
        "import torch\n",
        "import numpy as np\n",
        "from sklearn.metrics import accuracy_score, f1_score, roc_auc_score, brier_score_loss, log_loss, precision_score, recall_score\n",
        "import matplotlib.pyplot as plt\n",
        "\n",
        "def get_output(model, dataset, device, batch_size=64):\n",
        "    data_loader = torch.utils.data.DataLoader(dataset, batch_size=batch_size, shuffle=False, num_workers=2)\n",
        "    model.eval()\n",
        "    y_list = []\n",
        "    y_hat_list = []\n",
        "    group_labels_list = []\n",
        "    softmax = torch.nn.Softmax(dim=1)\n",
        "\n",
        "    with torch.no_grad():\n",
        "        for data in data_loader:\n",
        "            inputs, labels, group_labels = data\n",
        "            inputs = inputs.to(device)\n",
        "            labels = labels.to(device)\n",
        "            outputs = model(inputs)\n",
        "            y_list.append(labels.cpu().numpy())\n",
        "            y_hat_list.append(softmax(outputs).cpu().numpy()[:, 1])  # Extract probabilities for the positive class\n",
        "            group_labels_list.append(group_labels.cpu().numpy())\n",
        "\n",
        "    if not y_list or not y_hat_list or not group_labels_list:\n",
        "        print(\"Warning: One or more lists are empty.\")\n",
        "        return None\n",
        "\n",
        "    y = np.concatenate(y_list)\n",
        "    y_hat = np.concatenate(y_hat_list)\n",
        "    group_labels = np.concatenate(group_labels_list)\n",
        "\n",
        "    # Convert probabilities to binary predictions\n",
        "    preds = (y_hat >= 0.5).astype(int)\n",
        "\n",
        "    # Calculate TP, TN, FP, FN\n",
        "    tp = ((preds == 1) & (y == 1)).sum()\n",
        "    tn = ((preds == 0) & (y == 0)).sum()\n",
        "    fp = ((preds == 1) & (y == 0)).sum()\n",
        "    fn = ((preds == 0) & (y == 1)).sum()\n",
        "\n",
        "    # Print intermediate results for debugging\n",
        "    print(f'TP: {tp}, TN: {tn}, FP: {fp}, FN: {fn}')\n",
        "    print(f'y: {np.bincount(y)}, preds: {np.bincount(preds)}')  # Check distribution of labels and predictions\n",
        "\n",
        "    return y, y_hat, group_labels, tp, tn, fp, fn\n",
        "\n",
        "def get_auc_f1_acc_adj(model, dataset, group_frequencies, fname=None):\n",
        "    device = torch.device(\"cuda\" if torch.cuda.is_available() else \"cpu\")\n",
        "    model.to(device)\n",
        "\n",
        "    if fname is not None:\n",
        "        with open(fname, 'rb') as f:\n",
        "            weights = torch.load(f)\n",
        "        if \"classifier.0.weight\" in weights.keys():\n",
        "            model.load_state_dict(weights)\n",
        "        else:\n",
        "            model.load_state_dict(weights)\n",
        "        output = get_output(model, dataset, device)\n",
        "    else:\n",
        "        output = get_output(model, dataset, device)\n",
        "\n",
        "    if output is None:\n",
        "        print(\"Error: get_output returned None.\")\n",
        "        return None\n",
        "\n",
        "    y, y_hat, group_labels, tp, tn, fp, fn = output\n",
        "\n",
        "    unique_classes = np.unique(group_labels)\n",
        "    if len(unique_classes) < 2:\n",
        "        print(\"Warning: Test dataset has only one class. Metrics like ROC AUC and F1 Score cannot be computed.\")\n",
        "        acc = accuracy_score(y, (y_hat >= 0.5).astype(int))\n",
        "        brier = brier_score_loss(y, y_hat)\n",
        "        tpr = tp / (tp + fn) if (tp + fn) > 0 else None\n",
        "        recall = tpr\n",
        "\n",
        "        normal_metrics = (None, None, acc, tp, tn, fp, fn, brier, tpr)\n",
        "\n",
        "        return {\n",
        "            \"normal\": normal_metrics\n",
        "        }\n",
        "\n",
        "    threshold = 0.5\n",
        "    y_pred = (y_hat >= threshold).astype(int)\n",
        "    auc_score = roc_auc_score(y, y_hat)\n",
        "    f1 = f1_score(y, y_pred)\n",
        "    acc = accuracy_score(y, y_pred)\n",
        "    brier = brier_score_loss(y, y_pred)\n",
        "    nll = log_loss(y, y_pred)\n",
        "    tpr = tp / (tp + fn) if (tp + fn) > 0 else None\n",
        "    precision = tp / (tp + fp) if (tp + fp) > 0 else None\n",
        "    recall = recall_score(y, y_pred)\n",
        "\n",
        "    normal_metrics = (auc_score, f1, acc, tp, tn, fp, fn, brier, tpr)\n",
        "\n",
        "    return {\n",
        "        \"normal\": normal_metrics\n",
        "    }\n"
      ]
    },
    {
      "cell_type": "markdown",
      "metadata": {
        "id": "exWk0me3YyI4"
      },
      "source": [
        "## Experiment 1:\n",
        "\n",
        "\n",
        "\n",
        "   "
      ]
    },
    {
      "cell_type": "markdown",
      "metadata": {
        "id": "hG3SPVw--Fzj"
      },
      "source": [
        "### Baseline Performance Test:\n",
        "Use the full training dataset: wb_patch, wb_no_patvh, lb_patch and lb_no_patch. For the first test we use wb_no_patch and for the second we use wb_patch."
      ]
    },
    {
      "cell_type": "markdown",
      "metadata": {
        "id": "LbvzLI9R40KH"
      },
      "source": [
        "with patch:"
      ]
    },
    {
      "cell_type": "code",
      "execution_count": null,
      "metadata": {
        "id": "RLLbGKzn-i87"
      },
      "outputs": [],
      "source": [
        "train_wb_nopatch_path = '/content/drive/MyDrive/Masterthesis/Datasets/Waterbird/dataset_splits/train/train_wb_nopatch'\n",
        "train_lb_nopatch_path = '/content/drive/MyDrive/Masterthesis/Datasets/Waterbird/dataset_splits/train/train_lb_nopatch'\n",
        "train_lb_patch_path = '/content/drive/MyDrive/Masterthesis/Datasets/Waterbird/dataset_splits/train/train_lb_patch'\n",
        "train_wb_patch_path = '/content/drive/MyDrive/Masterthesis/Datasets/Waterbird/dataset_splits/train/train_wb_patch'\n",
        "\n",
        "\n",
        "test_patch_path = '/content/drive/MyDrive/Masterthesis/Datasets/Waterbird/dataset_splits/test/test_wb_patch'\n",
        "test_nopatch_path = '/content/drive/MyDrive/Masterthesis/Datasets/Waterbird/dataset_splits/test/test_wb_nopatch'\n",
        "\n",
        "\n",
        "# Create datasets for training and testing\n",
        "train_dataset_wb_nopatch = WaterbirdDataset(path=train_wb_nopatch_path, is_waterbird=1, group_labels=[3] * len(os.listdir(train_wb_nopatch_path)))\n",
        "train_dataset_lb_nopatch = WaterbirdDataset(path=train_lb_nopatch_path, is_waterbird=0, group_labels=[0] * len(os.listdir(train_lb_nopatch_path)))\n",
        "train_dataset_lb_patch = WaterbirdDataset(path=train_lb_patch_path, is_waterbird=0, group_labels=[1] * len(os.listdir(train_lb_patch_path)))\n",
        "train_dataset_wb_patch = WaterbirdDataset(path=train_wb_patch_path, is_waterbird=1, group_labels=[2] * len(os.listdir(train_wb_patch_path)))\n",
        "\n",
        "test_patch_dataset = WaterbirdDataset(path=test_patch_path, is_waterbird=1, group_labels=[2] * len(os.listdir(test_patch_path)))\n",
        "test_nopatch_dataset = WaterbirdDataset(path=test_nopatch_path, is_waterbird=1, group_labels=[3] * len(os.listdir(test_nopatch_path)))\n",
        "\n",
        "\n",
        "train_dataset = ConcatDataset((train_dataset_wb_nopatch, train_dataset_lb_nopatch, train_dataset_lb_patch, train_dataset_wb_patch))\n",
        "\n",
        "\n",
        "# Example usage:\n",
        "group_frequencies = {\n",
        "    0: 3518,  # landbird_generic-spurious:birdonland\n",
        "    1: 185,   # landbird_generic-spurious:birdonwater\n",
        "    2: 55,    # waterbird_generic-spurious:birdonland\n",
        "    3: 1037   # waterbird_generic-spurious:birdonwater\n",
        "}\n",
        "\n",
        "\n",
        "#print('test dataset', test_dataset)\n",
        "\n",
        "# Create dataloaders for training and testing datasets\n",
        "batch_size = args.batch_size  # Assuming args.batch_size is defined\n",
        "\n",
        "train_loader = DataLoader(train_dataset, batch_size=batch_size, shuffle=True, num_workers=2)\n",
        "test_loader = DataLoader(test_patch_dataset, batch_size=batch_size, shuffle=False, num_workers=2)\n",
        "\n",
        "# Organize dataloaders and dataset sizes in dictionaries\n",
        "dataloaders = {'train': train_loader, 'test': test_loader}\n",
        "dataset_sizes = {'train': len(train_dataset), 'test': len(test_patch_dataset)}\n",
        "\n",
        "# Print dataset sizes\n",
        "print(\"num_train:\", dataset_sizes['train'])\n",
        "print(\"num_test:\", dataset_sizes['test'])"
      ]
    },
    {
      "cell_type": "markdown",
      "metadata": {
        "id": "loYXXxXnTNBE"
      },
      "source": [
        "concat train_wb_patch and train_wb_no_patch and pass them in the first len(train_dataset)"
      ]
    },
    {
      "cell_type": "code",
      "execution_count": null,
      "metadata": {
        "id": "f-ZE6_c3RYtl"
      },
      "outputs": [],
      "source": [
        "train_wb_dataset = ConcatDataset((train_dataset_wb_nopatch, train_dataset_wb_patch))\n",
        "waterbird_ratio = len(train_wb_dataset) / (len(train_dataset))\n",
        "\n",
        "not_waterbird_ratio = 1 - waterbird_ratio\n",
        "waterbird_weight = 1/waterbird_ratio\n",
        "not_waterbird_weight = 1/ not_waterbird_ratio\n",
        "weights = np.asarray([not_waterbird_weight, waterbird_weight])\n",
        "weights /= weights.sum()\n",
        "weights = torch.tensor(weights).to(device)\n",
        "\n",
        "criterion = nn.CrossEntropyLoss(weight = weights.double().float())\n",
        "\n",
        "\n",
        "# Define arguments\n",
        "class Args:\n",
        "    def __init__(self):\n",
        "        self.batch_size = 16\n",
        "        self.epochs = 100\n",
        "        self.lr = 0.00001\n",
        "        self.momentum = 0.9\n",
        "        self.seed = 42\n",
        "        self.regularizer_rate = 0.0\n",
        "\n",
        "args = Args()\n",
        "\n",
        "regularizer_rate = args.regularizer_rate\n",
        "num_epochs = args.epochs\n",
        "\n",
        "torch.manual_seed(args.seed)\n",
        "\n",
        "params_to_update = model.parameters()\n",
        "\n",
        "optimizer_ft = optim.SGD(params_to_update, lr=args.lr, momentum=args.momentum)"
      ]
    },
    {
      "cell_type": "code",
      "execution_count": null,
      "metadata": {
        "id": "cxqn1oaaS2L9"
      },
      "outputs": [],
      "source": [
        "# Initialize AlexNet with modified classifier\n",
        "#um_classes = 2\n",
        "model = models.alexnet(weights=None)\n",
        "\n",
        "model.classifier[-1] = nn.Linear(4096, 2)\n",
        "\n",
        "# path to saved model state dictionary\n",
        "saved_model_path = \"/content/drive/MyDrive/Masterthesis/Datasets/Waterbird/models/initial_classifier/20240710132545full_train_full_model.pt\"\n",
        "\n",
        "# Load the saved model state dictionary\n",
        "state_dict = torch.load(saved_model_path)\n",
        "\n",
        "# Load only the classifier part from state_dict\n",
        "model.load_state_dict(state_dict)\n",
        "\n",
        "device = torch.device('cuda' if torch.cuda.is_available() else 'cpu')\n",
        "model.to(device)\n",
        "\n",
        "# Ensure model is in evaluation mode\n",
        "#model.eval()"
      ]
    },
    {
      "cell_type": "code",
      "execution_count": null,
      "metadata": {
        "id": "364gBAsGGgrG"
      },
      "outputs": [],
      "source": [
        "# Assuming model, test_dataset, and group_frequencies are already defined\n",
        "results = get_auc_f1_acc_adj(model, test_patch_dataset, group_frequencies)\n",
        "\n",
        "if results and results[\"normal\"] is not None:\n",
        "    # Retrieve results for normal evaluation\n",
        "    normal_metrics = results[\"normal\"]\n",
        "    auc, f1, acc, tp, tn, fp, fn, brier, tpr = normal_metrics\n",
        "\n",
        "    print(f\"Normal Evaluation - AUC: {auc}, F1: {f1}, Accuracy: {acc}, Brier Score: {brier}, TPR: {tpr}\")\n",
        "    print(f\"True Positives: {tp}, True Negatives: {tn}, False Positives: {fp}, False Negatives: {fn}\")\n",
        "else:\n",
        "    print(\"Normal Evaluation metrics cannot be computed due to a single class in the test dataset or another error.\")"
      ]
    },
    {
      "cell_type": "markdown",
      "metadata": {
        "id": "zqIF9q8gRrZs"
      },
      "source": [
        "without patch:"
      ]
    },
    {
      "cell_type": "code",
      "execution_count": null,
      "metadata": {
        "id": "mQmj6iDdRqAs"
      },
      "outputs": [],
      "source": [
        "train_loader = DataLoader(train_dataset, batch_size=batch_size, shuffle=True, num_workers=2)\n",
        "test_loader = DataLoader(test_nopatch_dataset, batch_size=batch_size, shuffle=False, num_workers=2)\n",
        "\n",
        "# Organize dataloaders and dataset sizes in dictionaries\n",
        "dataloaders = {'train': train_loader, 'test': test_loader}\n",
        "dataset_sizes = {'train': len(train_dataset), 'test': len(test_nopatch_dataset)}\n",
        "\n",
        "print(\"num_train:\", dataset_sizes['train'])\n",
        "print(\"num_test:\", dataset_sizes['test'])"
      ]
    },
    {
      "cell_type": "code",
      "execution_count": null,
      "metadata": {
        "id": "AdYP06ymRunF"
      },
      "outputs": [],
      "source": [
        "# Assuming model, test_dataset, and group_frequencies are already defined\n",
        "results = get_auc_f1_acc_adj(model, test_nopatch_dataset, group_frequencies)\n",
        "\n",
        "if results and results[\"normal\"] is not None:\n",
        "    # Retrieve results for normal evaluation\n",
        "    normal_metrics = results[\"normal\"]\n",
        "    auc, f1, acc, tp, tn, fp, fn, brier, tpr = normal_metrics\n",
        "\n",
        "    print(f\"Normal Evaluation - AUC: {auc}, F1: {f1}, Accuracy: {acc}, Brier Score: {brier}, TPR: {tpr}\")\n",
        "    print(f\"True Positives: {tp}, True Negatives: {tn}, False Positives: {fp}, False Negatives: {fn}\")\n",
        "else:\n",
        "    print(\"Normal Evaluation metrics cannot be computed due to a single class in the test dataset or another error.\")"
      ]
    },
    {
      "cell_type": "markdown",
      "metadata": {
        "id": "ivRS0nmE-Bt6"
      },
      "source": [
        "\n",
        "\n",
        "---\n",
        "\n"
      ]
    },
    {
      "cell_type": "markdown",
      "metadata": {
        "id": "G93gf16l4_9Q"
      },
      "source": [
        "### Main Experiment"
      ]
    },
    {
      "cell_type": "markdown",
      "metadata": {
        "id": "IzQd8Y8a_QgL"
      },
      "source": [
        "Introducing a new test set with spurious features that were not present in the trainig set\n",
        "\n",
        "**Hypothesis**: Accuracy, Adj_Acc, TPs and Brier Score drop when testing with wb_patch after wb_no_patch.\n",
        "\n",
        "**Design**:\n",
        "\n",
        "*   Training set: on wb_no patch, lb_patch and lb_no patch.\n",
        "*   Testing sets: first run on *wb_no_patch* and second run on *wb_patch*\n",
        "\n",
        "**Evaluation Metrics:** Accuracy, Adj_Acc, TPs, FNs and Brier Score\n",
        "\n",
        "**Results:**"
      ]
    },
    {
      "cell_type": "markdown",
      "metadata": {
        "id": "SPwPbT_bSmgN"
      },
      "source": [
        "no patch"
      ]
    },
    {
      "cell_type": "code",
      "execution_count": null,
      "metadata": {
        "id": "yTxj2kflQ8vq"
      },
      "outputs": [],
      "source": [
        "train_wb_nopatch_path = '/content/drive/MyDrive/Masterthesis/Datasets/Waterbird/dataset_splits/train/train_wb_nopatch'\n",
        "train_lb_nopatch_path = '/content/drive/MyDrive/Masterthesis/Datasets/Waterbird/dataset_splits/train/train_lb_nopatch'\n",
        "train_lb_patch_path = '/content/drive/MyDrive/Masterthesis/Datasets/Waterbird/dataset_splits/train/train_lb_patch'\n",
        "\n",
        "test_patch_path = '/content/drive/MyDrive/Masterthesis/Datasets/Waterbird/dataset_splits/test/test_wb_patch'\n",
        "test_nopatch_path = '/content/drive/MyDrive/Masterthesis/Datasets/Waterbird/dataset_splits/test/test_wb_nopatch'\n",
        "\n",
        "\n",
        "# Create datasets for training and testing\n",
        "train_dataset_wb_nopatch = WaterbirdDataset(path=train_wb_nopatch_path, is_waterbird=1, group_labels=[3] * len(os.listdir(train_wb_nopatch_path)))\n",
        "train_dataset_lb_nopatch = WaterbirdDataset(path=train_lb_nopatch_path, is_waterbird=0, group_labels=[0] * len(os.listdir(train_lb_nopatch_path)))\n",
        "train_dataset_lb_patch = WaterbirdDataset(path=train_lb_patch_path, is_waterbird=0, group_labels=[1] * len(os.listdir(train_lb_patch_path)))\n",
        "\n",
        "test_patch_dataset = WaterbirdDataset(path=test_patch_path, is_waterbird=1, group_labels=[2] * len(os.listdir(test_patch_path)))\n",
        "test_nopatch_dataset = WaterbirdDataset(path=test_nopatch_path, is_waterbird=1, group_labels=[3] * len(os.listdir(test_nopatch_path)))\n",
        "\n",
        "\n",
        "train_dataset = ConcatDataset((train_dataset_wb_nopatch, train_dataset_lb_nopatch, train_dataset_lb_patch))\n",
        "\n",
        "\n",
        "# Example usage:\n",
        "group_frequencies = {\n",
        "    0: 3518,  # landbird_generic-spurious:birdonland\n",
        "    1: 185,   # landbird_generic-spurious:birdonwater\n",
        "    2: 55,    # waterbird_generic-spurious:birdonland\n",
        "    3: 1037   # waterbird_generic-spurious:birdonwater\n",
        "}\n",
        "\n",
        "\n",
        "#print('test dataset', test_dataset)\n",
        "\n",
        "# Create dataloaders for training and testing datasets\n",
        "batch_size = args.batch_size  # Assuming args.batch_size is defined\n",
        "\n",
        "train_loader = DataLoader(train_dataset, batch_size=batch_size, shuffle=True, num_workers=2)\n",
        "test_loader = DataLoader(test_nopatch_dataset, batch_size=batch_size, shuffle=False, num_workers=2)\n",
        "\n",
        "# Organize dataloaders and dataset sizes in dictionaries\n",
        "dataloaders = {'train': train_loader, 'test': test_loader}\n",
        "dataset_sizes = {'train': len(train_dataset), 'test': len(test_nopatch_dataset)}\n",
        "\n",
        "# Print dataset sizes\n",
        "print(\"num_train:\", dataset_sizes['train'])\n",
        "print(\"num_test:\", dataset_sizes['test'])"
      ]
    },
    {
      "cell_type": "code",
      "execution_count": null,
      "metadata": {
        "id": "8Hcs38LwGmFJ"
      },
      "outputs": [],
      "source": [
        "mean = np.asarray([0.485, 0.456, 0.406])\n",
        "std = np.asarray([0.229, 0.224, 0.225])\n",
        "\n",
        "# Define arguments\n",
        "class Args:\n",
        "    def __init__(self):\n",
        "        self.batch_size = 16\n",
        "        self.epochs = 4\n",
        "        self.lr = 0.00001\n",
        "        self.momentum = 0.9\n",
        "        self.seed = 42\n",
        "        self.regularizer_rate = 0.0\n",
        "\n",
        "args = Args()\n",
        "\n",
        "regularizer_rate = args.regularizer_rate\n",
        "num_epochs = args.epochs\n",
        "device = torch.device('cuda' if torch.cuda.is_available() else 'cpu')\n",
        "\n",
        "torch.manual_seed(args.seed)\n",
        "model = models.alexnet(pretrained=True)\n",
        "#changing nn.Linear(4096, 1000) to nn.Linear(4096, 2) as alexnet was trained on imagenet with 1000 classes originally\n",
        "model.classifier[-1] = nn.Linear(4096, 2)\n",
        "model = model.to(device)\n",
        "params_to_update = model.parameters()"
      ]
    },
    {
      "cell_type": "code",
      "execution_count": null,
      "metadata": {
        "id": "tcnAAFBl-8sT"
      },
      "outputs": [],
      "source": [
        "waterbird_ratio = len(train_dataset_wb_nopatch) / (len(train_dataset))\n",
        "\n",
        "not_waterbird_ratio = 1 - waterbird_ratio\n",
        "waterbird_weight = 1/waterbird_ratio\n",
        "not_waterbird_weight = 1/ not_waterbird_ratio\n",
        "weights = np.asarray([not_waterbird_weight, waterbird_weight])\n",
        "weights /= weights.sum()\n",
        "weights = torch.tensor(weights).to(device)\n",
        "\n",
        "criterion = nn.CrossEntropyLoss(weight = weights.double().float())\n",
        "\n",
        "optimizer_ft = optim.SGD(params_to_update, lr=args.lr, momentum=args.momentum)"
      ]
    },
    {
      "cell_type": "code",
      "execution_count": null,
      "metadata": {
        "id": "hBrdCgwV-_j7"
      },
      "outputs": [],
      "source": [
        "#model = train_model(model, dataloaders, criterion, optimizer_ft, num_epochs=num_epochs, resume_training=False)\n",
        "#pid = datetime.now().strftime('%Y%m%d%H%M%S')\n",
        "#torch.save(model.classifier.state_dict(),oj(dir_path, model_path, pid + \".pt\"))"
      ]
    },
    {
      "cell_type": "code",
      "execution_count": null,
      "metadata": {
        "id": "IFpDPIiOTPUd"
      },
      "outputs": [],
      "source": [
        "# Initialize AlexNet with modified classifier\n",
        "#um_classes = 2\n",
        "model = models.alexnet(weights=None)\n",
        "\n",
        "model.classifier[-1] = nn.Linear(4096, 2)\n",
        "\n",
        "\n",
        "saved_model_path = \"/content/drive/MyDrive/Masterthesis/Datasets/Waterbird/models/initial_classifier/20240710123002selective_train_full_model.pt\"\n",
        "\n",
        "# Load the saved model state dictionary\n",
        "state_dict = torch.load(saved_model_path)\n",
        "\n",
        "# Load only the classifier part from state_dict\n",
        "model.load_state_dict(state_dict)\n",
        "\n",
        "device = torch.device('cuda' if torch.cuda.is_available() else 'cpu')\n",
        "model.to(device)\n",
        "\n",
        "# Ensure model is in evaluation mode\n",
        "#model.eval()"
      ]
    },
    {
      "cell_type": "code",
      "execution_count": null,
      "metadata": {
        "id": "KbjDyXlE_CrL"
      },
      "outputs": [],
      "source": [
        "# Assuming model, test_dataset, and group_frequencies are already defined\n",
        "results = get_auc_f1_acc_adj(model, test_nopatch_dataset, group_frequencies)\n",
        "\n",
        "if results and results[\"normal\"] is not None:\n",
        "    # Retrieve results for normal evaluation\n",
        "    normal_metrics = results[\"normal\"]\n",
        "    auc, f1, acc, tp, tn, fp, fn, brier, tpr = normal_metrics\n",
        "\n",
        "    print(f\"Normal Evaluation - AUC: {auc}, F1: {f1}, Accuracy: {acc}, Brier Score: {brier}, TPR: {tpr}\")\n",
        "    print(f\"True Positives: {tp}, True Negatives: {tn}, False Positives: {fp}, False Negatives: {fn}\")\n",
        "else:\n",
        "    print(\"Normal Evaluation metrics cannot be computed due to a single class in the test dataset or another error.\")"
      ]
    },
    {
      "cell_type": "markdown",
      "metadata": {
        "id": "q7NDrzrpTuOc"
      },
      "source": [
        "patch"
      ]
    },
    {
      "cell_type": "code",
      "execution_count": null,
      "metadata": {
        "id": "pyu2TyOM_Fqb"
      },
      "outputs": [],
      "source": [
        "train_loader = DataLoader(train_dataset, batch_size=batch_size, shuffle=True, num_workers=2)\n",
        "test_loader = DataLoader(test_patch_dataset, batch_size=batch_size, shuffle=False, num_workers=2)\n",
        "\n",
        "# Organize dataloaders and dataset sizes in dictionaries\n",
        "dataloaders = {'train': train_loader, 'test': test_loader}\n",
        "dataset_sizes = {'train': len(train_dataset), 'test': len(test_patch_dataset)}\n",
        "\n",
        "print(\"num_train:\", dataset_sizes['train'])\n",
        "print(\"num_test:\", dataset_sizes['test'])"
      ]
    },
    {
      "cell_type": "code",
      "execution_count": null,
      "metadata": {
        "id": "lRXIY9-m_JvE"
      },
      "outputs": [],
      "source": [
        "# Assuming model, test_dataset, and group_frequencies are already defined\n",
        "results = get_auc_f1_acc_adj(model, test_patch_dataset, group_frequencies)\n",
        "\n",
        "if results and results[\"normal\"] is not None:\n",
        "    # Retrieve results for normal evaluation\n",
        "    normal_metrics = results[\"normal\"]\n",
        "    auc, f1, acc, tp, tn, fp, fn, brier, tpr = normal_metrics\n",
        "\n",
        "    print(f\"Normal Evaluation - AUC: {auc}, F1: {f1}, Accuracy: {acc}, Brier Score: {brier}, TPR: {tpr}\")\n",
        "    print(f\"True Positives: {tp}, True Negatives: {tn}, False Positives: {fp}, False Negatives: {fn}\")\n",
        "else:\n",
        "    print(\"Normal Evaluation metrics cannot be computed due to a single class in the test dataset or another error.\")"
      ]
    },
    {
      "cell_type": "markdown",
      "metadata": {
        "id": "kSnURsI9aEBY"
      },
      "source": [
        "## Experiment 2"
      ]
    },
    {
      "cell_type": "markdown",
      "metadata": {
        "id": "PTAgkK695rdb"
      },
      "source": [
        "Compare the drop in AUC, ACC, Acc_Adj, F!, Brier by running 2 subtests.\n",
        "Test 1: wb_patch, wb_no_patch, lb_patch and lb_no_patch\n",
        "Test 2:  wb_no_patch, lb_patch and lb_no_patch"
      ]
    },
    {
      "cell_type": "markdown",
      "metadata": {
        "id": "BkBmafSmzL_m"
      },
      "source": [
        "###  Baseline Performance Test:\n"
      ]
    },
    {
      "cell_type": "markdown",
      "metadata": {
        "id": "vlwyrc2F0tuF"
      },
      "source": [
        "test on all but without patch on full training"
      ]
    },
    {
      "cell_type": "code",
      "execution_count": null,
      "metadata": {
        "id": "BOgl4mLD0KQP"
      },
      "outputs": [],
      "source": [
        "train_wb_nopatch_path = '/content/drive/MyDrive/Masterthesis/Datasets/Waterbird/dataset_splits/train/train_wb_nopatch'\n",
        "train_lb_nopatch_path = '/content/drive/MyDrive/Masterthesis/Datasets/Waterbird/dataset_splits/train/train_lb_nopatch'\n",
        "train_lb_patch_path = '/content/drive/MyDrive/Masterthesis/Datasets/Waterbird/dataset_splits/train/train_lb_patch'\n",
        "train_wb_patch_path = '/content/drive/MyDrive/Masterthesis/Datasets/Waterbird/dataset_splits/train/train_wb_patch'\n",
        "\n",
        "\n",
        "#test_wb_patch_path = '/content/drive/MyDrive/Masterthesis/Datasets/Waterbird/dataset_splits/test/test_wb_patch'\n",
        "test_wb_nopatch_path = '/content/drive/MyDrive/Masterthesis/Datasets/Waterbird/dataset_splits/test/test_wb_nopatch'\n",
        "test_lb_patch_path = '/content/drive/MyDrive/Masterthesis/Datasets/Waterbird/dataset_splits/test/test_lb_patch'\n",
        "test_lb_nopatch_path = '/content/drive/MyDrive/Masterthesis/Datasets/Waterbird/dataset_splits/test/test_lb_nopatch'\n",
        "\n",
        "\n",
        "# Create datasets for training and testing\n",
        "train_dataset_wb_nopatch = WaterbirdDataset(path=train_wb_nopatch_path, is_waterbird=1, group_labels=[3] * len(os.listdir(train_wb_nopatch_path)))\n",
        "train_dataset_lb_nopatch = WaterbirdDataset(path=train_lb_nopatch_path, is_waterbird=0, group_labels=[0] * len(os.listdir(train_lb_nopatch_path)))\n",
        "train_dataset_lb_patch = WaterbirdDataset(path=train_lb_patch_path, is_waterbird=0, group_labels=[1] * len(os.listdir(train_lb_patch_path)))\n",
        "train_dataset_wb_patch = WaterbirdDataset(path=train_wb_patch_path, is_waterbird=0, group_labels=[1] * len(os.listdir(train_wb_patch_path)))\n",
        "\n",
        "#test_wb_patch_dataset = WaterbirdDataset(path=test_wb_patch_path, is_waterbird=1, group_labels=[2] * len(os.listdir(test_wb_patch_path)))\n",
        "test_wb_nopatch_dataset = WaterbirdDataset(path=test_wb_nopatch_path, is_waterbird=1, group_labels=[3] * len(os.listdir(test_wb_nopatch_path)))\n",
        "test_lb_patch_dataset = WaterbirdDataset(path=test_lb_patch_path, is_waterbird=0, group_labels=[2] * len(os.listdir(test_lb_patch_path)))\n",
        "test_lb_nopatch_dataset = WaterbirdDataset(path=test_lb_nopatch_path, is_waterbird=0, group_labels=[3] * len(os.listdir(test_lb_nopatch_path)))\n",
        "\n",
        "\n",
        "train_dataset = ConcatDataset((train_dataset_wb_nopatch, train_dataset_lb_nopatch, train_dataset_lb_patch, train_dataset_wb_patch))\n",
        "test_dataset = ConcatDataset((test_wb_nopatch_dataset, test_lb_patch_dataset, test_lb_nopatch_dataset))\n",
        "\n",
        "\n",
        "\n",
        "group_frequencies = {\n",
        "    0: 3518,  # landbird_generic-spurious:birdonland\n",
        "    1: 185,   # landbird_generic-spurious:birdonwater\n",
        "    2: 55,    # waterbird_generic-spurious:birdonland\n",
        "    3: 1037   # waterbird_generic-spurious:birdonwater\n",
        "}\n",
        "\n",
        "\n",
        "#print('test dataset', test_dataset)\n",
        "\n",
        "# Create dataloaders for training and testing datasets\n",
        "batch_size = args.batch_size\n",
        "\n",
        "train_loader = DataLoader(train_dataset, batch_size=batch_size, shuffle=True, num_workers=2)\n",
        "test_loader = DataLoader(test_dataset, batch_size=batch_size, shuffle=False, num_workers=2)\n",
        "\n",
        "# Organize dataloaders and dataset sizes in dictionaries\n",
        "dataloaders = {'train': train_loader, 'test': test_loader}\n",
        "dataset_sizes = {'train': len(train_dataset), 'test': len(test_dataset)}\n",
        "\n",
        "# Print dataset sizes\n",
        "print(\"num_train:\", dataset_sizes['train'])\n",
        "print(\"num_test:\", dataset_sizes['test'])"
      ]
    },
    {
      "cell_type": "markdown",
      "metadata": {
        "id": "WoOnRYib1X6H"
      },
      "source": [
        "adjust train dataset"
      ]
    },
    {
      "cell_type": "code",
      "execution_count": null,
      "metadata": {
        "id": "oBAmE1uN01f3"
      },
      "outputs": [],
      "source": [
        "train_wb_dataset = ConcatDataset((train_dataset_wb_nopatch, train_dataset_wb_patch))\n",
        "waterbird_ratio = len(train_wb_dataset) / (len(train_dataset))\n",
        "\n",
        "not_waterbird_ratio = 1 - waterbird_ratio\n",
        "waterbird_weight = 1/waterbird_ratio\n",
        "not_waterbird_weight = 1/ not_waterbird_ratio\n",
        "weights = np.asarray([not_waterbird_weight, waterbird_weight])\n",
        "weights /= weights.sum()\n",
        "weights = torch.tensor(weights).to(device)\n",
        "\n",
        "criterion = nn.CrossEntropyLoss(weight = weights.double().float())\n",
        "\n",
        "\n",
        "# Define arguments\n",
        "class Args:\n",
        "    def __init__(self):\n",
        "        self.batch_size = 16\n",
        "        self.epochs = 10\n",
        "        self.lr = 0.00001\n",
        "        self.momentum = 0.9\n",
        "        self.seed = 42\n",
        "        self.regularizer_rate = 0.0\n",
        "\n",
        "args = Args()\n",
        "\n",
        "regularizer_rate = args.regularizer_rate\n",
        "num_epochs = args.epochs\n",
        "\n",
        "torch.manual_seed(args.seed)\n",
        "\n",
        "params_to_update = model.parameters()\n",
        "\n",
        "optimizer_ft = optim.SGD(params_to_update, lr=args.lr, momentum=args.momentum)"
      ]
    },
    {
      "cell_type": "code",
      "execution_count": null,
      "metadata": {
        "id": "pCocm2YFbpSe"
      },
      "outputs": [],
      "source": [
        "# Initialize AlexNet with modified classifier\n",
        "#um_classes = 2\n",
        "model = models.alexnet(weights=None)\n",
        "\n",
        "model.classifier[-1] = nn.Linear(4096, 2)\n",
        "\n",
        "# path to saved model state dictionary\n",
        "saved_model_path = \"/content/drive/MyDrive/Masterthesis/Datasets/Waterbird/models/initial_classifier/20240710132545full_train_full_model.pt\"\n",
        "\n",
        "# Load the saved model state dictionary\n",
        "state_dict = torch.load(saved_model_path)\n",
        "\n",
        "# Load only the classifier part from state_dict\n",
        "model.load_state_dict(state_dict)\n",
        "\n",
        "device = torch.device('cuda' if torch.cuda.is_available() else 'cpu')\n",
        "model.to(device)\n",
        "\n",
        "# Ensure model is in evaluation mode\n",
        "#model.eval()"
      ]
    },
    {
      "cell_type": "code",
      "execution_count": null,
      "metadata": {
        "id": "_RFE9KKR1UDn"
      },
      "outputs": [],
      "source": [
        "# Assuming model, test_dataset, and group_frequencies are already defined\n",
        "results = get_auc_f1_acc_adj(model, test_dataset, group_frequencies)\n",
        "\n",
        "if results and results[\"normal\"] is not None:\n",
        "    # Retrieve results for normal evaluation\n",
        "    normal_metrics = results[\"normal\"]\n",
        "    auc, f1, acc, tp, tn, fp, fn, brier, tpr = normal_metrics\n",
        "\n",
        "    print(f\"Normal Evaluation - AUC: {auc}, F1: {f1}, Accuracy: {acc}, Brier Score: {brier}, TPR: {tpr}\")\n",
        "    print(f\"True Positives: {tp}, True Negatives: {tn}, False Positives: {fp}, False Negatives: {fn}\")\n",
        "else:\n",
        "    print(\"Normal Evaluation metrics cannot be computed due to a single class in the test dataset or another error.\")"
      ]
    },
    {
      "cell_type": "markdown",
      "metadata": {
        "id": "L7cfq9Sh04-_"
      },
      "source": [
        "test on all on full train"
      ]
    },
    {
      "cell_type": "code",
      "execution_count": null,
      "metadata": {
        "id": "Par3wM85UmId"
      },
      "outputs": [],
      "source": [
        "# Assuming WaterbirdDataset class can take a directory of images\n",
        "train_wb_nopatch_path = '/content/drive/MyDrive/Masterthesis/Datasets/Waterbird/dataset_splits/train/train_wb_nopatch'\n",
        "train_lb_nopatch_path = '/content/drive/MyDrive/Masterthesis/Datasets/Waterbird/dataset_splits/train/train_lb_nopatch'\n",
        "train_lb_patch_path = '/content/drive/MyDrive/Masterthesis/Datasets/Waterbird/dataset_splits/train/train_lb_patch'\n",
        "train_wb_patch_path = '/content/drive/MyDrive/Masterthesis/Datasets/Waterbird/dataset_splits/train/train_wb_patch'\n",
        "\n",
        "\n",
        "test_wb_patch_path = '/content/drive/MyDrive/Masterthesis/Datasets/Waterbird/dataset_splits/test/test_wb_patch'\n",
        "test_wb_nopatch_path = '/content/drive/MyDrive/Masterthesis/Datasets/Waterbird/dataset_splits/test/test_wb_nopatch'\n",
        "test_lb_patch_path = '/content/drive/MyDrive/Masterthesis/Datasets/Waterbird/dataset_splits/test/test_lb_patch'\n",
        "test_lb_nopatch_path = '/content/drive/MyDrive/Masterthesis/Datasets/Waterbird/dataset_splits/test/test_lb_nopatch'\n",
        "\n",
        "\n",
        "# Create datasets for training and testing\n",
        "train_dataset_wb_nopatch = WaterbirdDataset(path=train_wb_nopatch_path, is_waterbird=1, group_labels=[3] * len(os.listdir(train_wb_nopatch_path)))\n",
        "train_dataset_lb_nopatch = WaterbirdDataset(path=train_lb_nopatch_path, is_waterbird=0, group_labels=[0] * len(os.listdir(train_lb_nopatch_path)))\n",
        "train_dataset_lb_patch = WaterbirdDataset(path=train_lb_patch_path, is_waterbird=0, group_labels=[1] * len(os.listdir(train_lb_patch_path)))\n",
        "train_dataset_wb_patch = WaterbirdDataset(path=train_wb_patch_path, is_waterbird=0, group_labels=[1] * len(os.listdir(train_wb_patch_path)))\n",
        "\n",
        "test_wb_patch_dataset = WaterbirdDataset(path=test_wb_patch_path, is_waterbird=1, group_labels=[2] * len(os.listdir(test_wb_patch_path)))\n",
        "test_wb_nopatch_dataset = WaterbirdDataset(path=test_wb_nopatch_path, is_waterbird=1, group_labels=[3] * len(os.listdir(test_wb_nopatch_path)))\n",
        "test_lb_patch_dataset = WaterbirdDataset(path=test_lb_patch_path, is_waterbird=0, group_labels=[2] * len(os.listdir(test_lb_patch_path)))\n",
        "test_lb_nopatch_dataset = WaterbirdDataset(path=test_lb_nopatch_path, is_waterbird=0, group_labels=[3] * len(os.listdir(test_lb_nopatch_path)))\n",
        "\n",
        "\n",
        "train_dataset = ConcatDataset((train_dataset_wb_nopatch, train_dataset_lb_nopatch, train_dataset_lb_patch, train_dataset_wb_patch))\n",
        "test_dataset = ConcatDataset((test_wb_patch_dataset, test_wb_nopatch_dataset, test_lb_patch_dataset, test_lb_nopatch_dataset))\n",
        "\n",
        "\n",
        "\n",
        "# Example usage:\n",
        "group_frequencies = {\n",
        "    0: 3518,  # landbird_generic-spurious:birdonland\n",
        "    1: 185,   # landbird_generic-spurious:birdonwater\n",
        "    2: 55,    # waterbird_generic-spurious:birdonland\n",
        "    3: 1037   # waterbird_generic-spurious:birdonwater\n",
        "}\n",
        "\n",
        "\n",
        "#print('test dataset', test_dataset)\n",
        "\n",
        "# Create dataloaders for training and testing datasets\n",
        "batch_size = args.batch_size  # Assuming args.batch_size is defined\n",
        "\n",
        "train_loader = DataLoader(train_dataset, batch_size=batch_size, shuffle=True, num_workers=2)\n",
        "test_loader = DataLoader(test_dataset, batch_size=batch_size, shuffle=False, num_workers=2)\n",
        "\n",
        "# Organize dataloaders and dataset sizes in dictionaries\n",
        "dataloaders = {'train': train_loader, 'test': test_loader}\n",
        "dataset_sizes = {'train': len(train_dataset), 'test': len(test_dataset)}\n",
        "\n",
        "# Print dataset sizes\n",
        "print(\"num_train:\", dataset_sizes['train'])\n",
        "print(\"num_test:\", dataset_sizes['test'])"
      ]
    },
    {
      "cell_type": "markdown",
      "metadata": {
        "id": "2enTruo7VDoO"
      },
      "source": [
        "concat train_wb_patch and train_wb_no_patch and pass them in the first len(train_dataset)"
      ]
    },
    {
      "cell_type": "markdown",
      "metadata": {
        "id": "NJEaoYysVIbF"
      },
      "source": [
        "patch"
      ]
    },
    {
      "cell_type": "code",
      "execution_count": null,
      "metadata": {
        "id": "l6tduCiMU_GN"
      },
      "outputs": [],
      "source": [
        "# Assuming model, test_dataset, and group_frequencies are already defined\n",
        "results = get_auc_f1_acc_adj(model, test_dataset, group_frequencies)\n",
        "\n",
        "if results and results[\"normal\"] is not None:\n",
        "    # Retrieve results for normal evaluation\n",
        "    normal_metrics = results[\"normal\"]\n",
        "    auc, f1, acc, tp, tn, fp, fn, brier, tpr = normal_metrics\n",
        "\n",
        "    print(f\"Normal Evaluation - AUC: {auc}, F1: {f1}, Accuracy: {acc}, Brier Score: {brier}, TPR: {tpr}\")\n",
        "    print(f\"True Positives: {tp}, True Negatives: {tn}, False Positives: {fp}, False Negatives: {fn}\")\n",
        "else:\n",
        "    print(\"Normal Evaluation metrics cannot be computed due to a single class in the test dataset or another error.\")"
      ]
    },
    {
      "cell_type": "markdown",
      "metadata": {
        "id": "CNq7X6tr2YHN"
      },
      "source": [
        "### Main Experiment:\n",
        "\n",
        "\n",
        "---\n",
        "\n"
      ]
    },
    {
      "cell_type": "markdown",
      "metadata": {
        "id": "3JXXYISs2bQu"
      },
      "source": [
        "test on all but except wb without patch  on train without wb patch"
      ]
    },
    {
      "cell_type": "code",
      "execution_count": null,
      "metadata": {
        "id": "Gsi0zOC22awi"
      },
      "outputs": [],
      "source": [
        "\n",
        "train_wb_nopatch_path = '/content/drive/MyDrive/Masterthesis/Datasets/Waterbird/dataset_splits/train/train_wb_nopatch'\n",
        "train_lb_nopatch_path = '/content/drive/MyDrive/Masterthesis/Datasets/Waterbird/dataset_splits/train/train_lb_nopatch'\n",
        "train_lb_patch_path = '/content/drive/MyDrive/Masterthesis/Datasets/Waterbird/dataset_splits/train/train_lb_patch'\n",
        "#train_wb_patch_path = '/content/drive/MyDrive/Masterthesis/Datasets/Waterbird/dataset_splits/train/train_wb_patch'\n",
        "\n",
        "\n",
        "#test_wb_patch_path = '/content/drive/MyDrive/Masterthesis/Datasets/Waterbird/dataset_splits/test/test_wb_patch'\n",
        "test_wb_nopatch_path = '/content/drive/MyDrive/Masterthesis/Datasets/Waterbird/dataset_splits/test/test_wb_nopatch'\n",
        "test_lb_patch_path = '/content/drive/MyDrive/Masterthesis/Datasets/Waterbird/dataset_splits/test/test_lb_patch'\n",
        "test_lb_nopatch_path = '/content/drive/MyDrive/Masterthesis/Datasets/Waterbird/dataset_splits/test/test_lb_nopatch'\n",
        "\n",
        "\n",
        "# Create datasets for training and testing\n",
        "train_dataset_wb_nopatch = WaterbirdDataset(path=train_wb_nopatch_path, is_waterbird=1, group_labels=[3] * len(os.listdir(train_wb_nopatch_path)))\n",
        "train_dataset_lb_nopatch = WaterbirdDataset(path=train_lb_nopatch_path, is_waterbird=0, group_labels=[0] * len(os.listdir(train_lb_nopatch_path)))\n",
        "train_dataset_lb_patch = WaterbirdDataset(path=train_lb_patch_path, is_waterbird=0, group_labels=[1] * len(os.listdir(train_lb_patch_path)))\n",
        "#train_dataset_wb_patch = WaterbirdDataset(path=train_wb_patch_path, is_waterbird=0, group_labels=[1] * len(os.listdir(train_wb_patch_path)))\n",
        "\n",
        "#test_wb_patch_dataset = WaterbirdDataset(path=test_wb_patch_path, is_waterbird=1, group_labels=[2] * len(os.listdir(test_wb_patch_path)))\n",
        "test_wb_nopatch_dataset = WaterbirdDataset(path=test_wb_nopatch_path, is_waterbird=1, group_labels=[3] * len(os.listdir(test_wb_nopatch_path)))\n",
        "test_lb_patch_dataset = WaterbirdDataset(path=test_lb_patch_path, is_waterbird=0, group_labels=[2] * len(os.listdir(test_lb_patch_path)))\n",
        "test_lb_nopatch_dataset = WaterbirdDataset(path=test_lb_nopatch_path, is_waterbird=0, group_labels=[3] * len(os.listdir(test_lb_nopatch_path)))\n",
        "\n",
        "\n",
        "train_dataset = ConcatDataset((train_dataset_wb_nopatch, train_dataset_lb_nopatch, train_dataset_lb_patch))\n",
        "test_dataset = ConcatDataset((test_wb_nopatch_dataset, test_lb_patch_dataset, test_lb_nopatch_dataset))\n",
        "\n",
        "\n",
        "\n",
        "# Example usage:\n",
        "group_frequencies = {\n",
        "    0: 3518,  # landbird_generic-spurious:birdonland\n",
        "    1: 185,   # landbird_generic-spurious:birdonwater\n",
        "    2: 55,    # waterbird_generic-spurious:birdonland\n",
        "    3: 1037   # waterbird_generic-spurious:birdonwater\n",
        "}\n",
        "\n",
        "\n",
        "#print('test dataset', test_dataset)\n",
        "\n",
        "# Create dataloaders for training and testing datasets\n",
        "batch_size = args.batch_size  # Assuming args.batch_size is defined\n",
        "\n",
        "train_loader = DataLoader(train_dataset, batch_size=batch_size, shuffle=True, num_workers=2)\n",
        "test_loader = DataLoader(test_dataset, batch_size=batch_size, shuffle=False, num_workers=2)\n",
        "\n",
        "# Organize dataloaders and dataset sizes in dictionaries\n",
        "dataloaders = {'train': train_loader, 'test': test_loader}\n",
        "dataset_sizes = {'train': len(train_dataset), 'test': len(test_dataset)}\n",
        "\n",
        "# Print dataset sizes\n",
        "print(\"num_train:\", dataset_sizes['train'])\n",
        "print(\"num_test:\", dataset_sizes['test'])"
      ]
    },
    {
      "cell_type": "code",
      "execution_count": null,
      "metadata": {
        "id": "AE45-vD525ls"
      },
      "outputs": [],
      "source": [
        "waterbird_ratio = len(train_dataset_wb_nopatch) / (len(train_dataset))\n",
        "\n",
        "not_waterbird_ratio = 1 - waterbird_ratio\n",
        "waterbird_weight = 1/waterbird_ratio\n",
        "not_waterbird_weight = 1/ not_waterbird_ratio\n",
        "weights = np.asarray([not_waterbird_weight, waterbird_weight])\n",
        "weights /= weights.sum()\n",
        "weights = torch.tensor(weights).to(device)\n",
        "\n",
        "criterion = nn.CrossEntropyLoss(weight = weights.double().float())\n",
        "\n",
        "\n",
        "# Define arguments\n",
        "class Args:\n",
        "    def __init__(self):\n",
        "        self.batch_size = 16\n",
        "        self.epochs = 10\n",
        "        self.lr = 0.00001\n",
        "        self.momentum = 0.9\n",
        "        self.seed = 42\n",
        "        self.regularizer_rate = 0.0\n",
        "\n",
        "args = Args()\n",
        "\n",
        "regularizer_rate = args.regularizer_rate\n",
        "num_epochs = args.epochs\n",
        "\n",
        "torch.manual_seed(args.seed)\n",
        "\n",
        "params_to_update = model.parameters()\n",
        "\n",
        "optimizer_ft = optim.SGD(params_to_update, lr=args.lr, momentum=args.momentum)"
      ]
    },
    {
      "cell_type": "code",
      "execution_count": null,
      "metadata": {
        "id": "CBn2fhuUb6GP"
      },
      "outputs": [],
      "source": [
        "# Initialize AlexNet with modified classifier\n",
        "#um_classes = 2\n",
        "model = models.alexnet(weights=None)\n",
        "\n",
        "model.classifier[-1] = nn.Linear(4096, 2)\n",
        "\n",
        "#  path to saved model state dictionary\n",
        "saved_model_path = \"/content/drive/MyDrive/Masterthesis/Datasets/Waterbird/models/initial_classifier/20240710123002selective_train_full_model.pt\"\n",
        "\n",
        "# Load the saved model state dictionary\n",
        "state_dict = torch.load(saved_model_path)\n",
        "\n",
        "# Load only the classifier part from state_dict\n",
        "model.load_state_dict(state_dict)\n",
        "\n",
        "device = torch.device('cuda' if torch.cuda.is_available() else 'cpu')\n",
        "model.to(device)\n",
        "\n",
        "# Ensure model is in evaluation mode\n",
        "#model.eval()"
      ]
    },
    {
      "cell_type": "code",
      "execution_count": null,
      "metadata": {
        "id": "TM_nhaDa3AZk"
      },
      "outputs": [],
      "source": [
        "# Assuming model, test_dataset, and group_frequencies are already defined\n",
        "results = get_auc_f1_acc_adj(model, test_dataset, group_frequencies)\n",
        "\n",
        "if results and results[\"normal\"] is not None:\n",
        "    # Retrieve results for normal evaluation\n",
        "    normal_metrics = results[\"normal\"]\n",
        "    auc, f1, acc, tp, tn, fp, fn, brier, tpr = normal_metrics\n",
        "\n",
        "    print(f\"Normal Evaluation - AUC: {auc}, F1: {f1}, Accuracy: {acc}, Brier Score: {brier}, TPR: {tpr}\")\n",
        "    print(f\"True Positives: {tp}, True Negatives: {tn}, False Positives: {fp}, False Negatives: {fn}\")\n",
        "else:\n",
        "    print(\"Normal Evaluation metrics cannot be computed due to a single class in the test dataset or another error.\")"
      ]
    },
    {
      "cell_type": "markdown",
      "metadata": {
        "id": "N2Fi1dk_3L1X"
      },
      "source": [
        "test with all and on train without wb patch"
      ]
    },
    {
      "cell_type": "code",
      "execution_count": null,
      "metadata": {
        "id": "uXyQmSD83PVP"
      },
      "outputs": [],
      "source": [
        "train_wb_nopatch_path = '/content/drive/MyDrive/Masterthesis/Datasets/Waterbird/dataset_splits/train/train_wb_nopatch'\n",
        "train_lb_nopatch_path = '/content/drive/MyDrive/Masterthesis/Datasets/Waterbird/dataset_splits/train/train_lb_nopatch'\n",
        "train_lb_patch_path = '/content/drive/MyDrive/Masterthesis/Datasets/Waterbird/dataset_splits/train/train_lb_patch'\n",
        "#train_wb_patch_path = '/content/drive/MyDrive/Masterthesis/Datasets/Waterbird/dataset_splits/train/train_wb_patch'\n",
        "\n",
        "\n",
        "test_wb_patch_path = '/content/drive/MyDrive/Masterthesis/Datasets/Waterbird/dataset_splits/test/test_wb_patch'\n",
        "test_wb_nopatch_path = '/content/drive/MyDrive/Masterthesis/Datasets/Waterbird/dataset_splits/test/test_wb_nopatch'\n",
        "test_lb_patch_path = '/content/drive/MyDrive/Masterthesis/Datasets/Waterbird/dataset_splits/test/test_lb_patch'\n",
        "test_lb_nopatch_path = '/content/drive/MyDrive/Masterthesis/Datasets/Waterbird/dataset_splits/test/test_lb_nopatch'\n",
        "\n",
        "\n",
        "# Create datasets for training and testing\n",
        "train_dataset_wb_nopatch = WaterbirdDataset(path=train_wb_nopatch_path, is_waterbird=1, group_labels=[3] * len(os.listdir(train_wb_nopatch_path)))\n",
        "train_dataset_lb_nopatch = WaterbirdDataset(path=train_lb_nopatch_path, is_waterbird=0, group_labels=[0] * len(os.listdir(train_lb_nopatch_path)))\n",
        "train_dataset_lb_patch = WaterbirdDataset(path=train_lb_patch_path, is_waterbird=0, group_labels=[1] * len(os.listdir(train_lb_patch_path)))\n",
        "#train_dataset_wb_patch = WaterbirdDataset(path=train_wb_patch_path, is_waterbird=0, group_labels=[1] * len(os.listdir(train_wb_patch_path)))\n",
        "\n",
        "test_wb_patch_dataset = WaterbirdDataset(path=test_wb_patch_path, is_waterbird=1, group_labels=[2] * len(os.listdir(test_wb_patch_path)))\n",
        "test_wb_nopatch_dataset = WaterbirdDataset(path=test_wb_nopatch_path, is_waterbird=1, group_labels=[3] * len(os.listdir(test_wb_nopatch_path)))\n",
        "test_lb_patch_dataset = WaterbirdDataset(path=test_lb_patch_path, is_waterbird=0, group_labels=[2] * len(os.listdir(test_lb_patch_path)))\n",
        "test_lb_nopatch_dataset = WaterbirdDataset(path=test_lb_nopatch_path, is_waterbird=0, group_labels=[3] * len(os.listdir(test_lb_nopatch_path)))\n",
        "\n",
        "\n",
        "train_dataset = ConcatDataset((train_dataset_wb_nopatch, train_dataset_lb_nopatch, train_dataset_lb_patch))\n",
        "test_dataset = ConcatDataset((test_wb_nopatch_dataset, test_lb_patch_dataset, test_lb_nopatch_dataset, test_wb_patch_dataset))\n",
        "\n",
        "\n",
        "\n",
        "group_frequencies = {\n",
        "    0: 3518,  # landbird_generic-spurious:birdonland\n",
        "    1: 185,   # landbird_generic-spurious:birdonwater\n",
        "    2: 55,    # waterbird_generic-spurious:birdonland\n",
        "    3: 1037   # waterbird_generic-spurious:birdonwater\n",
        "}\n",
        "\n",
        "\n",
        "#print('test dataset', test_dataset)\n",
        "\n",
        "# Create dataloaders for training and testing datasets\n",
        "batch_size = args.batch_size  # Assuming args.batch_size is defined\n",
        "\n",
        "train_loader = DataLoader(train_dataset, batch_size=batch_size, shuffle=True, num_workers=2)\n",
        "test_loader = DataLoader(test_dataset, batch_size=batch_size, shuffle=False, num_workers=2)\n",
        "\n",
        "# Organize dataloaders and dataset sizes in dictionaries\n",
        "dataloaders = {'train': train_loader, 'test': test_loader}\n",
        "dataset_sizes = {'train': len(train_dataset), 'test': len(test_dataset)}\n",
        "\n",
        "# Print dataset sizes\n",
        "print(\"num_train:\", dataset_sizes['train'])\n",
        "print(\"num_test:\", dataset_sizes['test'])"
      ]
    },
    {
      "cell_type": "code",
      "execution_count": null,
      "metadata": {
        "id": "DasV-3QB3swy"
      },
      "outputs": [],
      "source": [
        "# Assuming model, test_dataset, and group_frequencies are already defined\n",
        "results = get_auc_f1_acc_adj(model, test_dataset, group_frequencies)\n",
        "\n",
        "if results and results[\"normal\"] is not None:\n",
        "    # Retrieve results for normal evaluation\n",
        "    normal_metrics = results[\"normal\"]\n",
        "    auc, f1, acc, tp, tn, fp, fn, brier, tpr = normal_metrics\n",
        "\n",
        "    print(f\"Normal Evaluation - AUC: {auc}, F1: {f1}, Accuracy: {acc}, Brier Score: {brier}, TPR: {tpr}\")\n",
        "    print(f\"True Positives: {tp}, True Negatives: {tn}, False Positives: {fp}, False Negatives: {fn}\")\n",
        "else:\n",
        "    print(\"Normal Evaluation metrics cannot be computed due to a single class in the test dataset or another error.\")"
      ]
    },
    {
      "cell_type": "markdown",
      "metadata": {
        "id": "okSpAEaBqOQx"
      },
      "source": [
        "## Extracting activations: Correlations"
      ]
    },
    {
      "cell_type": "markdown",
      "source": [
        "All layers at once on one histogram"
      ],
      "metadata": {
        "id": "2aaRwxo_plM1"
      }
    },
    {
      "cell_type": "code",
      "source": [
        "import os\n",
        "import numpy as np\n",
        "import torch\n",
        "from torchvision import models, transforms\n",
        "from PIL import Image\n",
        "import matplotlib.pyplot as plt\n",
        "import gc\n",
        "from scipy.stats import pearsonr\n",
        "from torch.utils.data import DataLoader, Dataset\n",
        "\n",
        "# Custom dataset class for loading images\n",
        "class ImageDataset(Dataset):\n",
        "    def __init__(self, image_paths, transform=None):\n",
        "        self.image_paths = image_paths\n",
        "        self.transform = transform\n",
        "\n",
        "    def __len__(self):\n",
        "        return len(self.image_paths)\n",
        "\n",
        "    def __getitem__(self, idx):\n",
        "        image_path = self.image_paths[idx]\n",
        "        image = Image.open(image_path)\n",
        "        if self.transform:\n",
        "            image = self.transform(image)\n",
        "        return image\n",
        "\n",
        "# Load and prepare the model\n",
        "def load_model(model_path):\n",
        "    model = models.alexnet(pretrained=False)\n",
        "    model.classifier[-1] = torch.nn.Linear(4096, 2)\n",
        "    model.load_state_dict(torch.load(model_path))\n",
        "    model.to(device)\n",
        "    model.eval()\n",
        "    return model\n",
        "\n",
        "device = torch.device('cuda' if torch.cuda.is_available() else 'cpu')\n",
        "\n",
        "# Preprocessing function\n",
        "preprocess = transforms.Compose([\n",
        "    transforms.Resize(256),\n",
        "    transforms.CenterCrop(224),\n",
        "    transforms.ToTensor(),\n",
        "    transforms.Normalize(mean=[0.485, 0.456, 0.406], std=[0.229, 0.224, 0.225]),\n",
        "])\n",
        "\n",
        "def preprocess_and_extract_activations(model, dataloader, layer):\n",
        "    activations = []\n",
        "    with torch.no_grad():\n",
        "        for image_tensor in dataloader:\n",
        "            image_tensor = image_tensor.to(device)\n",
        "\n",
        "            if layer < 13:  # Layer in model.features\n",
        "                tensor = image_tensor\n",
        "                for idx, layer_module in enumerate(model.features[:layer + 1]):\n",
        "                    tensor = layer_module(tensor)\n",
        "            else:  # Layer in model.classifier\n",
        "                tensor = model.features(image_tensor)\n",
        "                tensor = model.avgpool(tensor)\n",
        "                tensor = torch.flatten(tensor, 1)\n",
        "                for idx, layer_module in enumerate(model.classifier[:layer - 12]):\n",
        "                    tensor = layer_module(tensor)\n",
        "\n",
        "            activation = tensor.cpu().numpy()\n",
        "            activations.append(activation)\n",
        "\n",
        "    return activations\n",
        "\n",
        "def process_images_in_folder(model, folder_path, layer, batch_size=10):\n",
        "    all_layer_activations = []\n",
        "\n",
        "    image_paths = [os.path.join(root, file)\n",
        "                   for root, dirs, files in os.walk(folder_path)\n",
        "                   for file in files if file.endswith('.jpg')]\n",
        "\n",
        "    dataset = ImageDataset(image_paths, transform=preprocess)\n",
        "    dataloader = DataLoader(dataset, batch_size=batch_size, shuffle=False)\n",
        "\n",
        "    activations = preprocess_and_extract_activations(model, dataloader, layer)\n",
        "    all_layer_activations.extend(activations)\n",
        "    torch.cuda.empty_cache()\n",
        "    gc.collect()\n",
        "\n",
        "    return all_layer_activations\n",
        "\n",
        "def flatten_and_align_activations(activations_list):\n",
        "    # Flatten activations and find the maximum length\n",
        "    flat_activations = [act.flatten() for act in activations_list]\n",
        "    max_length = max(len(act) for act in flat_activations)\n",
        "\n",
        "    # Pad or truncate activations to the maximum length\n",
        "    aligned_activations = []\n",
        "    for activation in flat_activations:\n",
        "        if len(activation) < max_length:\n",
        "            padded_activation = np.pad(activation, (0, max_length - len(activation)), 'constant')\n",
        "        else:\n",
        "            padded_activation = activation[:max_length]\n",
        "        aligned_activations.append(padded_activation)\n",
        "    return np.vstack(aligned_activations)\n",
        "\n",
        "def save_activations(all_layer_activations, filename):\n",
        "    drive_path = f'/content/drive/MyDrive/Masterthesis/Datasets/Waterbird/activations/{filename}'\n",
        "    np.save(drive_path, all_layer_activations)\n",
        "\n",
        "def load_activations(filename):\n",
        "    drive_path = f'/content/drive/MyDrive/Masterthesis/Datasets/Waterbird/activations/{filename}'\n",
        "    return np.load(drive_path, allow_pickle=True).item()\n",
        "\n",
        "def compute_activations_for_layers(model_paths, patch_folder, no_patch_folder, layers, activations_file='activations.npy'):\n",
        "    if os.path.exists(f'/content/drive/MyDrive/Masterthesis/Datasets/Waterbird/activations/{activations_file}'):\n",
        "        print(f\"Loading activations from {activations_file}\")\n",
        "        return load_activations(activations_file)\n",
        "\n",
        "    print(f\"Computing activations and saving to {activations_file}\")\n",
        "    all_layer_activations = {layer: {'wp': [], 'wo': []} for layer in layers}\n",
        "\n",
        "    for model_path in model_paths:\n",
        "        model = load_model(model_path)\n",
        "        for layer in layers:\n",
        "            wp_activations = process_images_in_folder(model, patch_folder, layer)\n",
        "            wo_activations = process_images_in_folder(model, no_patch_folder, layer)\n",
        "            all_layer_activations[layer]['wp'].append(flatten_and_align_activations(wp_activations))\n",
        "            all_layer_activations[layer]['wo'].append(flatten_and_align_activations(wo_activations))\n",
        "        del model  # Free model resources after use\n",
        "        torch.cuda.empty_cache()\n",
        "        gc.collect()\n",
        "\n",
        "    save_activations(all_layer_activations, activations_file)\n",
        "    return all_layer_activations\n",
        "\n",
        "def compute_avg_std_activations(all_layer_activations, layers):\n",
        "    layer_avg_std = {layer: {'wp_avg': None, 'wo_avg': None, 'wp_std': None, 'wo_std': None} for layer in layers}\n",
        "\n",
        "    for layer in layers:\n",
        "        wp_all_models_layer_activations = np.stack(all_layer_activations[layer]['wp'], axis=0)\n",
        "        wo_all_models_layer_activations = np.stack(all_layer_activations[layer]['wo'], axis=0)\n",
        "\n",
        "        wp_avg = np.mean(wp_all_models_layer_activations, axis=0)\n",
        "        wo_avg = np.mean(wo_all_models_layer_activations, axis=0)\n",
        "        wp_std = np.std(wp_all_models_layer_activations, axis=0)\n",
        "        wo_std = np.std(wo_all_models_layer_activations, axis=0)\n",
        "\n",
        "        layer_avg_std[layer]['wp_avg'] = wp_avg\n",
        "        layer_avg_std[layer]['wo_avg'] = wo_avg\n",
        "        layer_avg_std[layer]['wp_std'] = wp_std\n",
        "        layer_avg_std[layer]['wo_std'] = wo_std\n",
        "\n",
        "    return layer_avg_std\n",
        "\n",
        "def plot_histogram_for_layer(layer_avg_std, layer, layer_name, color):\n",
        "    wp_avg = layer_avg_std[layer]['wp_avg']\n",
        "    wo_avg = layer_avg_std[layer]['wo_avg']\n",
        "    wp_std = layer_avg_std[layer]['wp_std']\n",
        "    wo_std = layer_avg_std[layer]['wo_std']\n",
        "\n",
        "    x = np.linspace(start=-1, stop=1, num=100)\n",
        "    xaxis = x + (x[1] - x[0]) / 2\n",
        "    xaxis = xaxis[:-1]\n",
        "\n",
        "    patch_no_patch = np.hstack([np.zeros(len(wo_avg)), np.ones(len(wp_avg))])\n",
        "    combined_activations = np.vstack((wo_avg, wp_avg))\n",
        "\n",
        "    A = []\n",
        "    for ii in range(combined_activations.shape[1]):\n",
        "        A.append(pearsonr(patch_no_patch, combined_activations[:, ii])[0])\n",
        "\n",
        "    B = np.histogram(A, bins=x)\n",
        "\n",
        "    bin_means = B[0]\n",
        "    bin_stds = np.std(bin_means)\n",
        "\n",
        "    fig = plt.figure(figsize=(12, 6))\n",
        "    ax = fig.add_subplot(111)\n",
        "    ax.plot(xaxis, bin_means, '-', color=color, label=layer_name)\n",
        "    ax.fill_between(xaxis, bin_means - bin_stds, bin_means + bin_stds, color=color, alpha=0.2)\n",
        "    ax.legend(loc='center left', bbox_to_anchor=(1, 0.5))\n",
        "    plt.title(f'Histogram of Activations Correlation for {layer_name}')\n",
        "    plt.xlabel('Correlation')\n",
        "    plt.ylabel('Number of Neurons')\n",
        "    plt.show()\n",
        "\n",
        "def plot_combined_histogram(layer_avg_std, layer_names, colors):\n",
        "    fig = plt.figure(figsize=(12, 6))\n",
        "    ax = fig.add_subplot(111)\n",
        "\n",
        "    x = np.linspace(start=-1, stop=1, num=100)\n",
        "    xaxis = x + (x[1] - x[0]) / 2\n",
        "    xaxis = xaxis[:-1]\n",
        "\n",
        "    all_layer_bin_means = []\n",
        "\n",
        "    for idx, (layer, layer_name) in enumerate(layer_names.items()):\n",
        "        wp_avg = layer_avg_std[layer]['wp_avg']\n",
        "        wo_avg = layer_avg_std[layer]['wo_avg']\n",
        "        wp_std = layer_avg_std[layer]['wp_std']\n",
        "        wo_std = layer_avg_std[layer]['wo_std']\n",
        "\n",
        "        patch_no_patch = np.hstack([np.zeros(len(wo_avg)), np.ones(len(wp_avg))])\n",
        "        combined_activations = np.vstack((wo_avg, wp_avg))\n",
        "\n",
        "        A = []\n",
        "        for ii in range(combined_activations.shape[1]):\n",
        "            A.append(pearsonr(patch_no_patch, combined_activations[:, ii])[0])\n",
        "\n",
        "        B = np.histogram(A, bins=x)\n",
        "\n",
        "        bin_means = B[0] / np.sum(B[0])  # Normalize the bin counts\n",
        "        bin_stds = np.std(bin_means)\n",
        "\n",
        "        all_layer_bin_means.append(bin_means)\n",
        "\n",
        "        ax.plot(xaxis, bin_means, '-', color=colors[idx], label=layer_name)\n",
        "        ax.fill_between(xaxis, bin_means - bin_stds, bin_means + bin_stds, color=colors[idx], alpha=0.2)\n",
        "\n",
        "    # Compute average and standard deviation of the normalized histograms across layers\n",
        "    all_layer_bin_means = np.array(all_layer_bin_means)\n",
        "    avg_bin_means = np.mean(all_layer_bin_means, axis=0)\n",
        "    std_bin_means = np.std(all_layer_bin_means, axis=0)\n",
        "\n",
        "    ax.plot(xaxis, avg_bin_means, '-', color='black', label='Average')\n",
        "    ax.fill_between(xaxis, avg_bin_means - std_bin_means, avg_bin_means + std_bin_means, color='black', alpha=0.2)\n",
        "\n",
        "    ax.legend(loc='center left', bbox_to_anchor=(1, 0.5))\n",
        "    plt.title('Normalized Histogram of Activations Correlation for All Layers')\n",
        "    plt.xlabel('Correlation')\n",
        "    plt.ylabel('Normalized Number of Neurons')\n",
        "    plt.show()\n",
        "\n",
        "# Main execution\n",
        "layers_of_interest = [0, 3, 6, 8, 10, 14, 17]\n",
        "layer_names = {\n",
        "    0: \"Conv1 (model.features[0])\",\n",
        "    3: \"Conv2 (model.features[3])\",\n",
        "    6: \"Conv3 (model.features[6])\",\n",
        "    8: \"Conv4 (model.features[8])\",\n",
        "    10: \"Conv5 (model.features[10])\",\n",
        "    14: \"FC1 (model.classifier[1])\",\n",
        "    17: \"FC2 (model.classifier[4])\"\n",
        "}\n",
        "colors = ['tab:blue', 'tab:orange', 'tab:green', 'tab:red', 'tab:purple', 'tab:brown', 'tab:pink']\n",
        "\n",
        "patch_waterbird_folder_path = '/content/drive/MyDrive/Masterthesis/Datasets/Waterbird/dataset_splits/test/test_wb_patch'\n",
        "no_patch_waterbird_folder_path = '/content/drive/MyDrive/Masterthesis/Datasets/Waterbird/dataset_splits/test/test_wb_nopatch'\n",
        "\n",
        "model_paths = [\n",
        "    \"/content/drive/MyDrive/Masterthesis/Datasets/Waterbird/models/initial_classifier/alexnet_wbw_lbl_lbw_1_train.pt\",\n",
        "    \"/content/drive/MyDrive/Masterthesis/Datasets/Waterbird/models/initial_classifier/alexnet_wbw_lbl_lbw_2_train.pt\",\n",
        "    \"/content/drive/MyDrive/Masterthesis/Datasets/Waterbird/models/initial_classifier/alexnet_wbw_lbl_lbw_3_train.pt\"\n",
        "]\n",
        "\n",
        "all_layer_activations = compute_activations_for_layers(model_paths, patch_waterbird_folder_path, no_patch_waterbird_folder_path, layers_of_interest)\n",
        "layer_avg_std = compute_avg_std_activations(all_layer_activations, layers_of_interest)\n",
        "\n",
        "# Plot histograms for each layer\n",
        "for idx, (layer, layer_name) in enumerate(layer_names.items()):\n",
        "    plot_histogram_for_layer(layer_avg_std, layer, layer_name, colors[idx])\n",
        "\n",
        "# Plot combined histogram for all layers\n",
        "plot_combined_histogram(layer_avg_std, layer_names, colors)\n"
      ],
      "metadata": {
        "id": "lGUf5uNwL6TI"
      },
      "execution_count": null,
      "outputs": []
    },
    {
      "cell_type": "markdown",
      "source": [
        "Layer-wise extractions"
      ],
      "metadata": {
        "id": "ztGF8w67GCY0"
      }
    },
    {
      "cell_type": "code",
      "execution_count": null,
      "metadata": {
        "id": "g5ITaS6tX66A"
      },
      "outputs": [],
      "source": [
        "import os\n",
        "import numpy as np\n",
        "import torch\n",
        "from torchvision import models, transforms\n",
        "from PIL import Image\n",
        "import matplotlib.pyplot as plt\n",
        "import gc\n",
        "\n",
        "# Load pre-trained alexnet model\n",
        "model = models.alexnet(pretrained=True)\n",
        "\n",
        "model.classifier[-1] = torch.nn.Linear(4096, 2)\n",
        "\n",
        "# Load the saved parameters into the model\n",
        "saved_model_path = \"/content/drive/MyDrive/Masterthesis/Datasets/Waterbird/models/initial_classifier/alexnet_wbw_lbl_lbw_3_train.pt\"\n",
        "model.load_state_dict(torch.load(saved_model_path))\n",
        "\n",
        "# Move model to GPU if available\n",
        "device = torch.device('cuda' if torch.cuda.is_available() else 'cpu')\n",
        "model.to(device)\n",
        "\n",
        "# Define preprocessing transforms\n",
        "preprocess = transforms.Compose([\n",
        "    transforms.Resize(256),\n",
        "    transforms.CenterCrop(224),\n",
        "    transforms.ToTensor(),\n",
        "    transforms.Normalize(mean=[0.485, 0.456, 0.406], std=[0.229, 0.224, 0.225]),\n",
        "])\n",
        "\n",
        "def preprocess_and_extract_activations(image_paths, layer):\n",
        "    activations = []\n",
        "    with torch.no_grad():\n",
        "        for image_path in image_paths:\n",
        "            image = Image.open(image_path)\n",
        "            image_tensor = preprocess(image).unsqueeze(0).to(device)\n",
        "\n",
        "            if layer < 13:  # Layer in model.features\n",
        "                tensor = image_tensor\n",
        "                for idx, layer_module in enumerate(model.features[:layer + 1]):\n",
        "                    tensor = layer_module(tensor)\n",
        "            else:  # Layer in model.classifier\n",
        "                tensor = model.features(image_tensor)\n",
        "                tensor = model.avgpool(tensor)\n",
        "                tensor = torch.flatten(tensor, 1)\n",
        "                for idx, layer_module in enumerate(model.classifier[:layer - 12]):\n",
        "                    tensor = layer_module(tensor)\n",
        "\n",
        "            activation = tensor.squeeze().cpu().numpy()\n",
        "            activations.append(activation)\n",
        "\n",
        "    return activations\n",
        "\n",
        "def process_images_in_folder(folder_path, layers, batch_size=10):\n",
        "    all_layer_activations = {layer: [] for layer in layers}\n",
        "\n",
        "    image_paths = [os.path.join(root, file)\n",
        "                   for root, dirs, files in os.walk(folder_path)\n",
        "                   for file in files if file.endswith('.jpg')]\n",
        "\n",
        "    for layer in layers:\n",
        "        for i in range(0, len(image_paths), batch_size):\n",
        "            batch_paths = image_paths[i:i + batch_size]\n",
        "            print(f\"Processing batch {i // batch_size + 1}/{(len(image_paths) - 1) // batch_size + 1} for layer {layer}\")\n",
        "\n",
        "            activations = preprocess_and_extract_activations(batch_paths, layer)\n",
        "            if activations is not None:\n",
        "                all_layer_activations[layer].extend(activations)\n",
        "            else:\n",
        "                print(f\"Failed to process batch {i // batch_size + 1}\")\n",
        "\n",
        "            torch.cuda.empty_cache()\n",
        "            gc.collect()\n",
        "\n",
        "    return all_layer_activations\n",
        "\n",
        "# Define layers of interest\n",
        "layers_of_interest = [0, 3, 6, 8, 10, 14, 17]  # Indices of layers in model.features and model.classifier\n",
        "\n",
        "# Folder paths for images\n",
        "patch_waterbird_folder_path = '/content/drive/MyDrive/Masterthesis/Datasets/Waterbird/dataset_splits/test/test_wb_patch'\n",
        "no_patch_waterbird_folder_path = '/content/drive/MyDrive/Masterthesis/Datasets/Waterbird/dataset_splits/test/test_wb_nopatch'\n",
        "\n",
        "# Process images in folders for each layer\n",
        "wp_waterbird_all_activations = process_images_in_folder(patch_waterbird_folder_path, layers_of_interest)\n",
        "wo_waterbird_all_activations = process_images_in_folder(no_patch_waterbird_folder_path, layers_of_interest)\n",
        "\n",
        "# Layer names corresponding to the indices in layers_of_interest\n",
        "layer_names = {\n",
        "    0: \"Conv1 (model.features[0])\",\n",
        "    3: \"Conv2 (model.features[3])\",\n",
        "    6: \"Conv3 (model.features[6])\",\n",
        "    8: \"Conv4 (model.features[8])\",\n",
        "    10: \"Conv5 (model.features[10])\",\n",
        "    14: \"FC1 (model.classifier[1])\",\n",
        "    17: \"FC2 (model.classifier[4])\"\n",
        "}\n",
        "\n",
        "# Generate histograms for each layer\n",
        "for layer_idx in layers_of_interest:\n",
        "    wp_activations = wp_waterbird_all_activations[layer_idx]\n",
        "    wo_activations = wo_waterbird_all_activations[layer_idx]\n",
        "\n",
        "    if wp_activations:\n",
        "        print(f\"Layer {layer_idx} wp_waterbird_all_activations shape:\", np.vstack(wp_activations).shape)\n",
        "    else:\n",
        "        print(f\"Layer {layer_idx} No activations found in wp_waterbird_all_activations\")\n",
        "\n",
        "    if wo_activations:\n",
        "        print(f\"Layer {layer_idx} wo_waterbird_all_activations shape:\", np.vstack(wo_activations).shape)\n",
        "    else:\n",
        "        print(f\"Layer {layer_idx} No activations found in wo_waterbird_all_activations\")\n",
        "\n",
        "    if wp_activations and wo_activations:\n",
        "        wp_activations_array = np.vstack(wp_activations).reshape(len(wp_activations), -1)\n",
        "        wo_activations_array = np.vstack(wo_activations).reshape(len(wo_activations), -1)\n",
        "\n",
        "        # Combine activations with patch/no-patch labels\n",
        "        patch_no_patch = np.hstack([np.zeros(len(wo_activations_array)), np.ones(len(wp_activations_array))])\n",
        "        combined_activations = np.concatenate((patch_no_patch[:, np.newaxis], np.vstack((wo_activations_array, wp_activations_array))), axis=1)\n",
        "\n",
        "        # Calculate correlation matrix in chunks to save memory\n",
        "        chunk_size = 1000\n",
        "        activations_corr = []\n",
        "        for start in range(0, combined_activations.shape[1], chunk_size):\n",
        "            end = min(start + chunk_size, combined_activations.shape[1])\n",
        "            corr_chunk = np.corrcoef(combined_activations[:, start:end], rowvar=False)\n",
        "            activations_corr.append(np.abs(corr_chunk[0, 1:]))\n",
        "\n",
        "        activations_corr = np.concatenate(activations_corr)\n",
        "\n",
        "        # Plot histogram\n",
        "        hist, bins = np.histogram(activations_corr, bins='auto')\n",
        "        plt.bar(bins[:-1], hist, width=np.diff(bins), align='edge')\n",
        "        plt.title(f'{layer_names[layer_idx]} Histogram of Activations Correlation')\n",
        "        plt.xlabel('Correlation')\n",
        "        plt.ylabel('Number of Neurons')\n",
        "        plt.show()\n",
        "\n",
        "        # Clear activations after use\n",
        "        del wp_activations\n",
        "        del wo_activations\n",
        "        del wp_activations_array\n",
        "        del wo_activations_array\n",
        "        gc.collect()"
      ]
    },
    {
      "cell_type": "markdown",
      "source": [
        "## Extracting activations: T-tests"
      ],
      "metadata": {
        "id": "hoy3eFx8vs8_"
      }
    },
    {
      "cell_type": "markdown",
      "source": [
        "Single sample t test. Activations not normalized"
      ],
      "metadata": {
        "id": "MKYOArmXjWVo"
      }
    },
    {
      "cell_type": "code",
      "source": [
        "from scipy.stats import ttest_1samp\n",
        "\n",
        "# Load activations\n",
        "def load_activations(filename):\n",
        "    drive_path = f'/content/drive/MyDrive/Masterthesis/Datasets/Waterbird/activations/{filename}'\n",
        "    return np.load(drive_path, allow_pickle=True).item()\n",
        "\n",
        "# Load the activations\n",
        "activations_file = 'activations.npy'\n",
        "all_layer_activations = load_activations(activations_file)\n",
        "\n",
        "# Perform t-tests\n",
        "def perform_t_tests(activations):\n",
        "    t_test_results = {}\n",
        "    for layer, data in activations.items():\n",
        "        wp_activations = np.vstack(data['wp'])  # Combine all activations for wp across models\n",
        "        wo_activations = np.vstack(data['wo'])  # Combine all activations for wo across models\n",
        "\n",
        "        wp_ttest = ttest_1samp(wp_activations, 0, axis=0)  # t-test for wp activations\n",
        "        wo_ttest = ttest_1samp(wo_activations, 0, axis=0)  # t-test for wo activations\n",
        "\n",
        "        t_test_results[layer] = {\n",
        "            'wp_ttest': wp_ttest,\n",
        "            'wo_ttest': wo_ttest,\n",
        "            'wp_means': np.mean(wp_activations, axis=0),\n",
        "            'wo_means': np.mean(wo_activations, axis=0)\n",
        "        }\n",
        "    return t_test_results\n",
        "\n",
        "t_test_results = perform_t_tests(all_layer_activations)\n",
        "\n",
        "# Print t-test results\n",
        "def print_t_test_results(t_test_results):\n",
        "    for layer, results in t_test_results.items():\n",
        "        wp_means = results['wp_means']\n",
        "        wo_means = results['wo_means']\n",
        "        wp_ttest = results['wp_ttest']\n",
        "        wo_ttest = results['wo_ttest']\n",
        "\n",
        "        print(f\"Layer {layer}:\")\n",
        "        print(\"  WP Activations:\")\n",
        "        print(f\"    Mean: {wp_means}\")\n",
        "        print(f\"    T-statistic: {wp_ttest.statistic}\")\n",
        "        print(f\"    P-value: {wp_ttest.pvalue}\")\n",
        "        print(\"  WO Activations:\")\n",
        "        print(f\"    Mean: {wo_means}\")\n",
        "        print(f\"    T-statistic: {wo_ttest.statistic}\")\n",
        "        print(f\"    P-value: {wo_ttest.pvalue}\")\n",
        "\n",
        "print_t_test_results(t_test_results)\n",
        "\n",
        "# Plot the p-values to visualize significance\n",
        "def plot_p_values(t_test_results):\n",
        "    num_layers = len(t_test_results)\n",
        "    num_cols = 3\n",
        "    num_rows = (num_layers + num_cols - 1) // num_cols  # Calculate rows needed for the number of columns\n",
        "\n",
        "    plt.figure(figsize=(15, 5 * num_rows))  # Adjust figure size as needed\n",
        "    for idx, (layer, results) in enumerate(t_test_results.items()):\n",
        "        wp_p_values = results['wp_ttest'].pvalue\n",
        "        wo_p_values = results['wo_ttest'].pvalue\n",
        "\n",
        "        ax = plt.subplot(num_rows, num_cols, idx + 1)\n",
        "        ax.hist(wp_p_values, bins=50, alpha=0.6, label='wp p-values')\n",
        "        ax.hist(wo_p_values, bins=50, alpha=0.6, label='wo p-values')\n",
        "        ax.set_title(f'Layer {layer}')\n",
        "        ax.set_xlabel('p-value')\n",
        "        ax.set_ylabel('Frequency')\n",
        "        ax.legend()\n",
        "    plt.tight_layout()\n",
        "    plt.show()\n",
        "\n",
        "plot_p_values(t_test_results)\n"
      ],
      "metadata": {
        "id": "-XRubDGgfjvl"
      },
      "execution_count": null,
      "outputs": []
    },
    {
      "cell_type": "markdown",
      "source": [
        "Single sample t test. Activations normalized"
      ],
      "metadata": {
        "id": "Ud_mDMusuXUQ"
      }
    },
    {
      "cell_type": "code",
      "source": [
        "\n",
        "\n",
        "# Load activations\n",
        "def load_activations(filename):\n",
        "    drive_path = f'/content/drive/MyDrive/Masterthesis/Datasets/Waterbird/activations/{filename}'\n",
        "    return np.load(drive_path, allow_pickle=True).item()\n",
        "\n",
        "# Normalize activations by the number of neurons in each layer\n",
        "def normalize_activations_by_neurons(activations):\n",
        "    normalized_activations = {}\n",
        "    for layer, data in activations.items():\n",
        "        wp_activations = np.vstack(data['wp'])\n",
        "        wo_activations = np.vstack(data['wo'])\n",
        "\n",
        "        num_neurons = wp_activations.shape[1]  # Number of neurons in the layer\n",
        "        wp_normalized = wp_activations / num_neurons\n",
        "        wo_normalized = wo_activations / num_neurons\n",
        "\n",
        "        normalized_activations[layer] = {'wp': wp_normalized, 'wo': wo_normalized}\n",
        "\n",
        "    return normalized_activations\n",
        "\n",
        "# Perform t-tests\n",
        "def perform_t_tests(activations):\n",
        "    t_test_results = {}\n",
        "    for layer, data in activations.items():\n",
        "        wp_activations = data['wp']\n",
        "        wo_activations = data['wo']\n",
        "\n",
        "        wp_ttest = ttest_1samp(wp_activations, 0, axis=0)\n",
        "        wo_ttest = ttest_1samp(wo_activations, 0, axis=0)\n",
        "\n",
        "        t_test_results[layer] = {\n",
        "            'wp_ttest': wp_ttest,\n",
        "            'wo_ttest': wo_ttest,\n",
        "            'wp_means': np.mean(wp_activations, axis=0),\n",
        "            'wo_means': np.mean(wo_activations, axis=0)\n",
        "        }\n",
        "    return t_test_results\n",
        "\n",
        "# Print t-test results\n",
        "def print_t_test_results(t_test_results):\n",
        "    for layer, results in t_test_results.items():\n",
        "        wp_means = results['wp_means']\n",
        "        wo_means = results['wo_means']\n",
        "        wp_ttest = results['wp_ttest']\n",
        "        wo_ttest = results['wo_ttest']\n",
        "\n",
        "        print(f\"Layer {layer}:\")\n",
        "        print(\"  WP Activations:\")\n",
        "        print(f\"    Mean: {wp_means.mean():.4f}\")\n",
        "        print(f\"    T-statistic: {wp_ttest.statistic.mean():.4f}\")\n",
        "        print(f\"    P-value: {wp_ttest.pvalue.mean():.4f}\")\n",
        "        print(\"  WO Activations:\")\n",
        "        print(f\"    Mean: {wo_means.mean():.4f}\")\n",
        "        print(f\"    T-statistic: {wo_ttest.statistic.mean():.4f}\")\n",
        "        print(f\"    P-value: {wo_ttest.pvalue.mean():.4f}\")\n",
        "        print(\"-\" * 50)\n",
        "\n",
        "# Plot the p-values to visualize significance\n",
        "def plot_p_values(t_test_results):\n",
        "    num_layers = len(t_test_results)\n",
        "    num_cols = 3\n",
        "    num_rows = (num_layers + num_cols - 1) // num_cols\n",
        "\n",
        "    plt.figure(figsize=(15, 5 * num_rows))\n",
        "    for idx, (layer, results) in enumerate(t_test_results.items()):\n",
        "        wp_p_values = results['wp_ttest'].pvalue\n",
        "        wo_p_values = results['wo_ttest'].pvalue\n",
        "\n",
        "        ax = plt.subplot(num_rows, num_cols, idx + 1)\n",
        "        ax.hist(wp_p_values, bins=50, alpha=0.6, label='wp p-values')\n",
        "        ax.hist(wo_p_values, bins=50, alpha=0.6, label='wo p-values')\n",
        "        ax.set_title(f'Layer {layer}')\n",
        "        ax.set_xlabel('p-value')\n",
        "        ax.set_ylabel('Frequency')\n",
        "        ax.legend()\n",
        "    plt.tight_layout()\n",
        "    plt.show()\n",
        "\n",
        "# Main execution\n",
        "activations_file = 'activations.npy'\n",
        "all_layer_activations = load_activations(activations_file)\n",
        "normalized_activations = normalize_activations_by_neurons(all_layer_activations)\n",
        "t_test_results = perform_t_tests(normalized_activations)\n",
        "print_t_test_results(t_test_results)\n",
        "plot_p_values(t_test_results)\n"
      ],
      "metadata": {
        "collapsed": true,
        "id": "Y0BmKIj9SVIN"
      },
      "execution_count": null,
      "outputs": []
    },
    {
      "cell_type": "markdown",
      "source": [
        "Two sample t test with normalized activations"
      ],
      "metadata": {
        "id": "P1nFYDjOjm_o"
      }
    },
    {
      "cell_type": "code",
      "source": [
        "from scipy.stats import ttest_ind\n",
        "\n",
        "# Load activations\n",
        "def load_activations(filename):\n",
        "    drive_path = f'/content/drive/MyDrive/Masterthesis/Datasets/Waterbird/activations/{filename}'\n",
        "    return np.load(drive_path, allow_pickle=True).item()\n",
        "\n",
        "# Normalize activations by the number of neurons in each layer\n",
        "def normalize_activations_by_neurons(activations):\n",
        "    normalized_activations = {}\n",
        "    for layer, data in activations.items():\n",
        "        wp_activations = np.vstack(data['wp'])\n",
        "        wo_activations = np.vstack(data['wo'])\n",
        "\n",
        "        num_neurons = wp_activations.shape[1]  # Number of neurons in the layer\n",
        "        wp_normalized = wp_activations / num_neurons\n",
        "        wo_normalized = wo_activations / num_neurons\n",
        "\n",
        "        normalized_activations[layer] = {'wp': wp_normalized, 'wo': wo_normalized}\n",
        "\n",
        "    return normalized_activations\n",
        "\n",
        "# Perform two-sample t-tests comparing neuron activations\n",
        "def perform_two_sample_t_tests(activations):\n",
        "    t_test_results = {}\n",
        "    for layer, data in activations.items():\n",
        "        wp_activations = data['wp']\n",
        "        wo_activations = data['wo']\n",
        "\n",
        "        # Perform two-sample t-test for each neuron\n",
        "        ttest_result = ttest_ind(wp_activations, wo_activations, axis=0)\n",
        "\n",
        "        t_test_results[layer] = {\n",
        "            'ttest': ttest_result,\n",
        "            'wp_means': np.mean(wp_activations, axis=0),\n",
        "            'wo_means': np.mean(wo_activations, axis=0)\n",
        "        }\n",
        "    return t_test_results\n",
        "\n",
        "# Print t-test results\n",
        "def print_t_test_results(t_test_results):\n",
        "    for layer, results in t_test_results.items():\n",
        "        wp_means = results['wp_means']\n",
        "        wo_means = results['wo_means']\n",
        "        ttest = results['ttest']\n",
        "\n",
        "        print(f\"Layer {layer}:\")\n",
        "        print(\"  WP Activations:\")\n",
        "        print(f\"    Mean: {wp_means.mean():.4f}\")\n",
        "        print(\"  WO Activations:\")\n",
        "        print(f\"    Mean: {wo_means.mean():.4f}\")\n",
        "        print(\"  T-Test:\")\n",
        "        print(f\"    T-statistic: {ttest.statistic.mean():.4f}\")\n",
        "        print(f\"    P-value: {ttest.pvalue.mean():.4f}\")\n",
        "        print(\"-\" * 50)\n",
        "\n",
        "# Plot the p-values to visualize significance\n",
        "def plot_p_values(t_test_results):\n",
        "    num_layers = len(t_test_results)\n",
        "    num_cols = 3\n",
        "    num_rows = (num_layers + num_cols - 1) // num_cols\n",
        "\n",
        "    plt.figure(figsize=(15, 5 * num_rows))\n",
        "    for idx, (layer, results) in enumerate(t_test_results.items()):\n",
        "        p_values = results['ttest'].pvalue\n",
        "\n",
        "        ax = plt.subplot(num_rows, num_cols, idx + 1)\n",
        "        ax.hist(p_values, bins=50, alpha=0.6, label='p-values')\n",
        "        ax.set_title(f'Layer {layer}')\n",
        "        ax.set_xlabel('p-value')\n",
        "        ax.set_ylabel('Frequency')\n",
        "        ax.legend()\n",
        "    plt.tight_layout()\n",
        "    plt.show()\n",
        "\n",
        "# Main execution\n",
        "activations_file = 'activations.npy'\n",
        "all_layer_activations = load_activations(activations_file)\n",
        "normalized_activations = normalize_activations_by_neurons(all_layer_activations)\n",
        "t_test_results = perform_two_sample_t_tests(normalized_activations)\n",
        "print_t_test_results(t_test_results)\n",
        "plot_p_values(t_test_results)"
      ],
      "metadata": {
        "id": "AZlmZC8Vjr5w"
      },
      "execution_count": null,
      "outputs": []
    },
    {
      "cell_type": "markdown",
      "source": [
        "Two sample t test without normalizing activations"
      ],
      "metadata": {
        "id": "ZUvE2LyQutc5"
      }
    },
    {
      "cell_type": "code",
      "source": [
        "\n",
        "import numpy as np\n",
        "import matplotlib.pyplot as plt\n",
        "from scipy.stats import ttest_ind\n",
        "\n",
        "# Load activations\n",
        "def load_activations(filename):\n",
        "    drive_path = f'/content/drive/MyDrive/Masterthesis/Datasets/Waterbird/activations/{filename}'\n",
        "    return np.load(drive_path, allow_pickle=True).item()\n",
        "\n",
        "# Perform two-sample t-tests comparing neuron activations\n",
        "def perform_two_sample_t_tests(activations):\n",
        "    t_test_results = {}\n",
        "    for layer, data in activations.items():\n",
        "        wp_activations = np.vstack(data['wp'])\n",
        "        wo_activations = np.vstack(data['wo'])\n",
        "\n",
        "        # Perform two-sample t-test for each neuron\n",
        "        ttest_result = ttest_ind(wp_activations, wo_activations, axis=0)\n",
        "\n",
        "        t_test_results[layer] = {\n",
        "            'ttest': ttest_result,\n",
        "            'wp_means': np.mean(wp_activations, axis=0),\n",
        "            'wo_means': np.mean(wo_activations, axis=0)\n",
        "        }\n",
        "    return t_test_results\n",
        "\n",
        "# Print t-test results with percentages of neurons below or equal to specific p-values\n",
        "def print_t_test_results(t_test_results):\n",
        "    for layer, results in t_test_results.items():\n",
        "        wp_means = results['wp_means']\n",
        "        wo_means = results['wo_means']\n",
        "        ttest = results['ttest']\n",
        "\n",
        "        # Calculate the percentage of neurons below or equal to specific p-value thresholds\n",
        "        p_values = ttest.pvalue\n",
        "        below_or_equal_0_05 = np.mean(p_values <= 0.05) * 100\n",
        "        below_or_equal_0_02 = np.mean(p_values <= 0.02) * 100\n",
        "\n",
        "        print(f\"Layer {layer}:\")\n",
        "        print(\"  WP Activations:\")\n",
        "        print(f\"    Mean: {wp_means.mean():.4f}\")\n",
        "        print(\"  WO Activations:\")\n",
        "        print(f\"    Mean: {wo_means.mean():.4f}\")\n",
        "        print(\"  T-Test:\")\n",
        "        print(f\"    T-statistic: {ttest.statistic.mean():.4f}\")\n",
        "        print(f\"    P-value: {ttest.pvalue.mean():.4f}\")\n",
        "        print(f\"    Percentage of neurons with p-value <= 0.05: {below_or_equal_0_05:.2f}%\")\n",
        "        print(f\"    Percentage of neurons with p-value <= 0.02: {below_or_equal_0_02:.2f}%\")\n",
        "        print(\"-\" * 50)\n",
        "\n",
        "# Plot the p-values to visualize significance\n",
        "def plot_p_values(t_test_results):\n",
        "    num_layers = len(t_test_results)\n",
        "    num_cols = 3\n",
        "    num_rows = (num_layers + num_cols - 1) // num_cols\n",
        "\n",
        "    plt.figure(figsize=(15, 5 * num_rows))\n",
        "    for idx, (layer, results) in enumerate(t_test_results.items()):\n",
        "        p_values = results['ttest'].pvalue\n",
        "\n",
        "        ax = plt.subplot(num_rows, num_cols, idx + 1)\n",
        "        ax.hist(p_values, bins=50, alpha=0.6, label='p-values')\n",
        "        ax.set_title(f'Layer {layer}')\n",
        "        ax.set_xlabel('p-value')\n",
        "        ax.set_ylabel('Frequency')\n",
        "        ax.legend()\n",
        "    plt.tight_layout()\n",
        "    plt.show()\n",
        "\n",
        "# Main execution\n",
        "activations_file = 'activations.npy'\n",
        "all_layer_activations = load_activations(activations_file)\n",
        "t_test_results = perform_two_sample_t_tests(all_layer_activations)\n",
        "print_t_test_results(t_test_results)\n",
        "plot_p_values(t_test_results)"
      ],
      "metadata": {
        "id": "pV6VsLzOurP5"
      },
      "execution_count": null,
      "outputs": []
    },
    {
      "cell_type": "code",
      "source": [
        "# Print some of the raw activations before normalization\n",
        "print(\"Raw WP Activations for Layer 0 (first 5 samples):\")\n",
        "print(np.vstack(all_layer_activations[0]['wp'])[:5])\n",
        "print(\"Raw WO Activations for Layer 0 (first 5 samples):\")\n",
        "print(np.vstack(all_layer_activations[0]['wo'])[:5])\n",
        "\n",
        "# Print some of the normalized activations\n",
        "print(\"Normalized WP Activations for Layer 0 (first 5 samples):\")\n",
        "print(normalized_activations[0]['wp'][:5])\n",
        "print(\"Normalized WO Activations for Layer 0 (first 5 samples):\")\n",
        "print(normalized_activations[0]['wo'][:5])"
      ],
      "metadata": {
        "id": "93sZZW6LkRb9"
      },
      "execution_count": null,
      "outputs": []
    },
    {
      "cell_type": "code",
      "source": [
        "# Load activations\n",
        "def load_activations(filename):\n",
        "    drive_path = f'/content/drive/MyDrive/Masterthesis/Datasets/knee_50/activations/{filename}'\n",
        "    return np.load(drive_path, allow_pickle=True).item()\n",
        "\n",
        "# Compute statistics for activations\n",
        "def compute_statistics(activations):\n",
        "    stats = {}\n",
        "    for layer, data in activations.items():\n",
        "        wp_activations = np.vstack(data['wp'])\n",
        "        wo_activations = np.vstack(data['wo'])\n",
        "\n",
        "        stats[layer] = {\n",
        "            'WP Mean': np.mean(wp_activations),\n",
        "            'WP Std': np.std(wp_activations),\n",
        "            'WP Min': np.min(wp_activations),\n",
        "            'WP Max': np.max(wp_activations),\n",
        "            'WO Mean': np.mean(wo_activations),\n",
        "            'WO Std': np.std(wo_activations),\n",
        "            'WO Min': np.min(wo_activations),\n",
        "            'WO Max': np.max(wo_activations)\n",
        "        }\n",
        "\n",
        "    return stats\n",
        "\n",
        "# Print statistics neatly using pandas DataFrame\n",
        "def print_statistics(stats):\n",
        "    df = pd.DataFrame.from_dict(stats, orient='index')\n",
        "    pd.set_option('display.max_columns', None)\n",
        "    print(df)\n",
        "\n",
        "# Main execution\n",
        "activations_file = 'activations.npy'\n",
        "all_layer_activations = load_activations(activations_file)\n",
        "statistics = compute_statistics(all_layer_activations)\n",
        "print_statistics(statistics)"
      ],
      "metadata": {
        "id": "RUkj26W4kzH8"
      },
      "execution_count": null,
      "outputs": []
    },
    {
      "cell_type": "markdown",
      "metadata": {
        "id": "jeaSp_TIqcsp"
      },
      "source": [
        "## Archived: Extracting activations from Last FC Layer"
      ]
    },
    {
      "cell_type": "markdown",
      "metadata": {
        "id": "Jkf6N6WaoemB"
      },
      "source": [
        "\n",
        "\n",
        "---\n",
        "\n"
      ]
    },
    {
      "cell_type": "code",
      "execution_count": null,
      "metadata": {
        "id": "P2-QBtnUSLKo"
      },
      "outputs": [],
      "source": [
        "# Load pre-trained alexnet model\n",
        "#model = models.alexnet(pretrained=True)\n",
        "model = models.alexnet(weights=None)\n",
        "\n",
        "# Modify the classifier\n",
        "model.classifier[-1] = torch.nn.Linear(4096, 2)\n",
        "\n",
        "# Load the saved parameters into the model\n",
        "saved_model_path = \"/content/drive/MyDrive/Masterthesis/Datasets/Waterbird/models/initial_classifier/20240710123002selective_train_full_model.pt\"\n",
        "model.load_state_dict(torch.load(saved_model_path))\n",
        "\n",
        "# Move model to GPU\n",
        "device = torch.device('cuda' if torch.cuda.is_available() else 'cpu')\n",
        "model.to(device)\n",
        "\n",
        "# Define preprocessing transforms\n",
        "preprocess = transforms.Compose([\n",
        "    transforms.Resize(256),\n",
        "    transforms.CenterCrop(224),\n",
        "    transforms.ToTensor(),\n",
        "    transforms.Normalize(mean=[0.485, 0.456, 0.406], std=[0.229, 0.224, 0.225]),\n",
        "])\n",
        "\n",
        "def preprocess_and_extract_activations(image_path):\n",
        "    # Load and preprocess the image\n",
        "    image = Image.open(image_path)\n",
        "    image_tensor = preprocess(image).unsqueeze(0).to(device)\n",
        "\n",
        "    # Flatten the tensor before passing it to the linear layers\n",
        "    image_tensor = model.features(image_tensor)\n",
        "    image_tensor = model.avgpool(image_tensor)\n",
        "    image_tensor = torch.flatten(image_tensor, 1)  # Flatten the tensor\n",
        "\n",
        "    # Pass the tensor through the first 5 layers\n",
        "    for layer_idx, layer in enumerate(model.classifier[:4], start=1):\n",
        "        image_tensor = layer(image_tensor)\n",
        "\n",
        "    # Extract activations from the sixth linear layer\n",
        "    activations = model.classifier[4](image_tensor)\n",
        "    activations = activations.squeeze().cpu().detach().numpy()\n",
        "    #print(\"Activation size:\", activations.shape)\n",
        "\n",
        "    return activations\n",
        "\n",
        "# Function to recursively traverse folders and process images\n",
        "def process_images_in_folder(folder_path):\n",
        "    all_activations = []\n",
        "    for root, dirs, files in os.walk(folder_path):\n",
        "        for file in files:\n",
        "            if file.endswith(('.jpg')):\n",
        "                image_path = os.path.join(root, file)\n",
        "                activations = preprocess_and_extract_activations(image_path)\n",
        "                if activations is not None:\n",
        "                    all_activations.append(activations)\n",
        "    return all_activations\n",
        "\n",
        "# Folder path containing images\n",
        "#patch_waterbird_folder_path = \"/content/drive/MyDrive/Masterthesis/Datasets/Waterbird/waterbirds_patch_224\"\n",
        "#no_patch_waterbird_folder_path = \"/content/drive/MyDrive/Masterthesis/Datasets/Waterbird/waterbirds_nopatch_224\"\n",
        "patch_waterbird_folder_path = '/content/drive/MyDrive/Masterthesis/Datasets/Waterbird/dataset_splits/test/test_wb_patch'\n",
        "no_patch_waterbird_folder_path = '/content/drive/MyDrive/Masterthesis/Datasets/Waterbird/dataset_splits/test/test_wb_nopatch'\n",
        "\n",
        "# Extract activations for all images in the folder\n",
        "wp_waterbird_all_activations = process_images_in_folder(patch_waterbird_folder_path)\n",
        "wo_waterbird_all_activations = process_images_in_folder(no_patch_waterbird_folder_path)\n",
        "\n",
        "if wp_waterbird_all_activations:\n",
        "    print(\"wp_waterbird_all_activations shape:\", np.vstack(wp_waterbird_all_activations).shape)\n",
        "else:\n",
        "    print(\"No activations found in wp_waterbird_all_activations\")\n",
        "\n",
        "if wo_waterbird_all_activations:\n",
        "    print(\"wo_waterbird_all_activations shape:\", np.vstack(wo_waterbird_all_activations).shape)\n",
        "else:\n",
        "    print(\"No activations found in wo_waterbird_all_activations\")"
      ]
    },
    {
      "cell_type": "code",
      "execution_count": null,
      "metadata": {
        "id": "HVyXzqbVa9B4"
      },
      "outputs": [],
      "source": [
        "import os\n",
        "import numpy as np\n",
        "import torch\n",
        "from torchvision import models, transforms\n",
        "from PIL import Image\n",
        "\n",
        "# Load pre-trained alexnet model\n",
        "model = models.alexnet(weights=None)\n",
        "\n",
        "# Modify the classifier\n",
        "model.classifier[-1] = torch.nn.Linear(4096, 2)\n",
        "\n",
        "# Load the saved parameters into the model\n",
        "saved_model_path = \"/content/drive/MyDrive/Masterthesis/Datasets/Waterbird/models/initial_classifier/20240710123002selective_train_full_model.pt\"\n",
        "model.load_state_dict(torch.load(saved_model_path))\n",
        "\n",
        "# Move model to GPU\n",
        "device = torch.device('cuda' if torch.cuda.is_available() else 'cpu')\n",
        "model.to(device)\n",
        "\n",
        "# Define preprocessing transforms\n",
        "preprocess = transforms.Compose([\n",
        "    transforms.Resize(256),\n",
        "    transforms.CenterCrop(224),\n",
        "    transforms.ToTensor(),\n",
        "    transforms.Normalize(mean=[0.485, 0.456, 0.406], std=[0.229, 0.224, 0.225]),\n",
        "])\n",
        "\n",
        "def preprocess_and_extract_activations(image_path):\n",
        "    try:\n",
        "        # Load and preprocess the image\n",
        "        image = Image.open(image_path)\n",
        "        print(f\"Image loaded: {image_path}\")  # Debug: Check if image is loaded\n",
        "        # unsqueeze(0) adds an extra dimension to simulate a batch of size 1\n",
        "        image_tensor = preprocess(image).unsqueeze(0).to(device)\n",
        "        print(f\"Image preprocessed: {image_tensor.shape}\")  # Debug: Check the tensor shape\n",
        "\n",
        "        # Flatten the tensor before passing it to the linear layers\n",
        "        image_tensor = model.features(image_tensor)\n",
        "        print(f\"Features extracted: {image_tensor.shape}\")  # Debug: Check the tensor shape after features\n",
        "        image_tensor = model.avgpool(image_tensor)\n",
        "        image_tensor = torch.flatten(image_tensor, 1)  # Flatten the tensor\n",
        "        print(f\"Tensor flattened: {image_tensor.shape}\")  # Debug: Check the flattened tensor shape\n",
        "\n",
        "        # Sequentially pass the tensor through the first five layers of the classifier\n",
        "        # Pass through the classifier layers up to fc2 (model.classifier[4])\n",
        "        for layer_idx, layer in enumerate(model.classifier[:5], start=1):\n",
        "            if layer_idx == 5:\n",
        "                break\n",
        "            image_tensor = layer(image_tensor)\n",
        "            print(f\"Layer {layer_idx} output shape: {image_tensor.shape}\")  # Debug: Check the output shape of each layer\n",
        "\n",
        "        # Extract activations from the sixth linear layer of the classifier\n",
        "        activations = model.classifier[4](image_tensor)\n",
        "        activations = activations.squeeze().cpu().detach().numpy()\n",
        "        print(f\"Activations extracted: {activations.shape}\")  # Debug: Check the activations shape\n",
        "        return activations\n",
        "    except Exception as e:\n",
        "        print(f\"Error processing image {image_path}: {e}\")\n",
        "        return None\n",
        "\n",
        "# Function to recursively traverse folders and process images\n",
        "def process_images_in_folder(folder_path):\n",
        "    all_activations = []\n",
        "    for root, dirs, files in os.walk(folder_path):\n",
        "        for file in files:\n",
        "            if file.endswith(('.jpg')):\n",
        "                image_path = os.path.join(root, file)\n",
        "                print(f\"Processing image: {image_path}\")  # Debug: print the image path being processed\n",
        "                activations = preprocess_and_extract_activations(image_path)\n",
        "                if activations is not None:\n",
        "                    all_activations.append(activations)\n",
        "                else:\n",
        "                    print(f\"Failed to process image: {image_path}\")  # Debug: print if image processing failed\n",
        "    return all_activations\n",
        "\n",
        "# Folder path containing images\n",
        "patch_waterbird_folder_path = '/content/drive/MyDrive/Masterthesis/Datasets/Waterbird/dataset_splits/test/test_wb_patch'\n",
        "no_patch_waterbird_folder_path = '/content/drive/MyDrive/Masterthesis/Datasets/Waterbird/dataset_splits/test/test_wb_nopatch'\n",
        "\n",
        "# Extract activations for all images in the folder\n",
        "wp_waterbird_all_activations = process_images_in_folder(patch_waterbird_folder_path)\n",
        "wo_waterbird_all_activations = process_images_in_folder(no_patch_waterbird_folder_path)\n",
        "\n",
        "if wp_waterbird_all_activations:\n",
        "    print(\"wp_waterbird_all_activations shape:\", np.vstack(wp_waterbird_all_activations).shape)\n",
        "else:\n",
        "    print(\"No activations found in wp_waterbird_all_activations\")\n",
        "\n",
        "if wo_waterbird_all_activations:\n",
        "    print(\"wo_waterbird_all_activations shape:\", np.vstack(wo_waterbird_all_activations).shape)\n",
        "else:\n",
        "    print(\"No activations found in wo_waterbird_all_activations\")\n"
      ]
    },
    {
      "cell_type": "code",
      "execution_count": null,
      "metadata": {
        "id": "0O61P8r3bMLY"
      },
      "outputs": [],
      "source": [
        "# each row corresponds to the activations of one image.\n",
        "#np.vstack(wp_waterbird_all_activations).shape"
      ]
    },
    {
      "cell_type": "code",
      "execution_count": null,
      "metadata": {
        "id": "hepYH_LCbOJI"
      },
      "outputs": [],
      "source": [
        "# Save activations for malignant wit patches as npy array (Sari likes npy, I like csv)\n",
        "np.save('/content/drive/MyDrive/Masterthesis/Datasets/Waterbird/waterbird_test_wp_activations.npy',np.vstack(wp_waterbird_all_activations))\n",
        "np.save('/content/drive/MyDrive/Masterthesis/Datasets/Waterbird/waterbird_test_wo_activations.npy',np.vstack(wo_waterbird_all_activations))"
      ]
    },
    {
      "cell_type": "code",
      "execution_count": null,
      "metadata": {
        "id": "uSqTQo6_beiR"
      },
      "outputs": [],
      "source": [
        "#folder_path = \"/content/drive/MyDrive/Masterthesis/Datasets/Waterbird/waterbirds_patch_224\"\n",
        "#folder_path_waterbird_patch = \"/content/drive/MyDrive/Masterthesis/Datasets/Waterbird/waterbirds_patch_224\"\n",
        "#folder_path_waterbird_nopatch = \"/content/drive/MyDrive/Masterthesis/Datasets/Waterbird/waterbirds_nopatch_224\"\n",
        "folder_path_waterbird_patch = '/content/drive/MyDrive/Masterthesis/Datasets/Waterbird/dataset_splits/test/test_wb_patch'\n",
        "folder_path_waterbird_nopatch = '/content/drive/MyDrive/Masterthesis/Datasets/Waterbird/dataset_splits/test/test_wb_nopatch'\n",
        "\n",
        "files_patch= os.listdir(folder_path_waterbird_patch)\n",
        "files_nopatch= os.listdir(folder_path_waterbird_nopatch)\n",
        "\n",
        "\n",
        "num_waterbird_patch_test = len(files_patch)\n",
        "num_waterbird_nopatch_test = len(files_nopatch)\n",
        "\n",
        "\n",
        "patch_no_patch = np.hstack([np.zeros((1,num_waterbird_nopatch_test)),np.ones((1,num_waterbird_patch_test))])\n",
        "\n",
        "wp = np.load('/content/drive/MyDrive/Masterthesis/Datasets/Waterbird/waterbird_test_wp_activations.npy')\n",
        "wo = np.load('/content/drive/MyDrive/Masterthesis/Datasets/Waterbird/waterbird_test_wo_activations.npy')\n",
        "wop_activations = np.vstack([wo,wp])"
      ]
    },
    {
      "cell_type": "code",
      "execution_count": null,
      "metadata": {
        "id": "gTQWCrw2buj4"
      },
      "outputs": [],
      "source": [
        "wop_activations.shape"
      ]
    },
    {
      "cell_type": "code",
      "execution_count": null,
      "metadata": {
        "id": "yjCTgPunbvW4"
      },
      "outputs": [],
      "source": [
        "two_arrays = np.concatenate((patch_no_patch.T, wop_activations), axis=1) # 900x568\n",
        "corr = np.corrcoef(two_arrays.T)"
      ]
    },
    {
      "cell_type": "code",
      "execution_count": null,
      "metadata": {
        "id": "PvlwHJ5cbw8w"
      },
      "outputs": [],
      "source": [
        "patch_no_patch.shape"
      ]
    },
    {
      "cell_type": "code",
      "execution_count": null,
      "metadata": {
        "id": "h-ECE7K_bxmg"
      },
      "outputs": [],
      "source": [
        "import matplotlib.pyplot as plt\n",
        "activations_corr = np.abs(corr[0][1:])\n",
        "_ = plt.hist(activations_corr, bins='auto')"
      ]
    },
    {
      "cell_type": "code",
      "execution_count": null,
      "metadata": {
        "id": "atnRZSIdbzGQ"
      },
      "outputs": [],
      "source": [
        "activations_corr.shape"
      ]
    },
    {
      "cell_type": "code",
      "execution_count": null,
      "metadata": {
        "id": "fIKcSBQtb0aS"
      },
      "outputs": [],
      "source": [
        "print(activations_corr)"
      ]
    }
  ],
  "metadata": {
    "colab": {
      "collapsed_sections": [
        "s-WWUvuiYgs4",
        "exWk0me3YyI4",
        "kSnURsI9aEBY",
        "BkBmafSmzL_m",
        "CNq7X6tr2YHN",
        "jeaSp_TIqcsp"
      ],
      "machine_shape": "hm",
      "provenance": [],
      "gpuType": "T4",
      "include_colab_link": true
    },
    "kernelspec": {
      "display_name": "Python 3",
      "name": "python3"
    },
    "language_info": {
      "name": "python"
    },
    "accelerator": "GPU"
  },
  "nbformat": 4,
  "nbformat_minor": 0
}